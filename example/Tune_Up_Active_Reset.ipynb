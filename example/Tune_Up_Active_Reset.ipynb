{
 "cells": [
  {
   "cell_type": "markdown",
   "id": "252058fc",
   "metadata": {},
   "source": [
    "# Tune-up Template \n",
    "\n",
    "## 0. Chip Layout, Wiring, and Fabrication \n",
    "\n",
    "### 0.1 Chip layout\n",
    "\n",
    "Put your chip layout here\n",
    "\n",
    "### 0.2 Wiring\n",
    "\n",
    "Describe your wiring here\n",
    "\n",
    "### 0.3 Fabrication Parameters\n",
    "\n",
    "You might know something about your qubits from fabrication, you can put those here before you start:\n",
    "\n",
    "|                  | QB1               | QB2          | QB3               | QB4               | QB5          | QB6               |\n",
    "|------------------|-------------------|--------------|-------------------|-------------------|--------------|-------------------|\n",
    "| Upper Sweet Spot |  |  |  |  |  |  |\n",
    "| Lower Sweet Spot |  |  |  |  |  |  |\n",
    "| Resonator        | 7.0G              | 7.2G         | 7.4G              | 7.1G              | 7.3G         | 7.5G              |\n",
    "\n",
    "## 1. Imports\n"
   ]
  },
  {
   "cell_type": "markdown",
   "id": "6d53ba72",
   "metadata": {},
   "source": [
    "# Tune-up Template \n",
    "\n",
    "## 0. Chip Layout, Wiring, and Fabrication \n",
    "\n",
    "### 0.1 Chip layout\n",
    "\n",
    "Put your chip layout here\n",
    "\n",
    "### 0.2 Wiring\n",
    "\n",
    "Describe your wiring here\n",
    "\n",
    "### 0.3 Fabrication Parameters\n",
    "\n",
    "You might know something about your qubits from fabrication, you can put those here before you start:\n",
    "\n",
    "|                  | QB1               | QB2          | QB3               | QB4               | QB5          | QB6               |\n",
    "|------------------|-------------------|--------------|-------------------|-------------------|--------------|-------------------|\n",
    "| Upper Sweet Spot |  |  |  |  |  |  |\n",
    "| Lower Sweet Spot |  |  |  |  |  |  |\n",
    "| Resonator        | 7.0G              | 7.2G         | 7.4G              | 7.1G              | 7.3G         | 7.5G              |\n",
    "\n",
    "## 1. Imports\n"
   ]
  },
  {
   "cell_type": "code",
   "execution_count": null,
   "id": "92b2cf77",
   "metadata": {},
   "outputs": [],
   "source": [
    "# convenience Import for all LabOne Q Functionality\n",
    "from laboneq.simple import *\n",
    "\n",
    "# plotting and fitting functionality\n",
    "from laboneq.contrib.example_helpers.data_analysis.data_analysis import (\n",
    "    func_invLorentz,\n",
    "    func_osc,\n",
    "    fit_Spec,\n",
    "    fit_Rabi,\n",
    "    func_decayOsc,\n",
    "    fit_Ramsey,\n",
    ")\n",
    "from laboneq.contrib.example_helpers.plotting.plot_helpers import (\n",
    "    plot_simulation,\n",
    "    plot_results,\n",
    ")\n",
    "\n",
    "# descriptor imports\n",
    "from laboneq.contrib.example_helpers.generate_descriptor import generate_descriptor\n",
    "\n",
    "# for saving results and pulse sheets\n",
    "from pathlib import Path\n",
    "import datetime\n",
    "import time\n",
    "import scipy\n",
    "import json\n",
    "import yaml\n",
    "from ruamel.yaml import YAML\n",
    "\n",
    "import matplotlib.pyplot as plt\n",
    "import numpy as np\n",
    "\n",
    "\n",
    "from experiment_library.analysis.tuneup_helper import (\n",
    "    flatten,\n",
    "    rotate_to_real_axis,\n",
    "    calc_readout_weight,\n",
    "    evaluate_rabi,\n",
    "    evaluate_ramsey,\n",
    "    evaluate_T1,\n",
    "    analyze_ACStark,\n",
    "    analyze_qspec,\n",
    "    create_x180,\n",
    "    create_x180_ef,\n",
    "    create_x90,\n",
    "    create_x90_ef,\n",
    "    update_qubit_parameters_and_calibration,\n",
    "    load_qubit_parameters,\n",
    "    create_transmon,\n",
    "    save_results,\n",
    "    plot_with_trace_rabi,\n",
    "    calculate_fidelity\n",
    ")\n",
    "\n",
    "from experiment_library.experiments.experiment_library import (\n",
    "    resonator_spectroscopy_parallel_CW_full_range,\n",
    "    resonator_spectroscopy_single,\n",
    "    resonator_spectroscopy_g_vs_e,\n",
    "    readout_pulse,\n",
    "    integration_kernel,\n",
    "    pulsed_resonator_spectroscopy_single,\n",
    "    qubit_spectroscopy_parallel,\n",
    "    qubit_spectroscopy_single,\n",
    "    res_spectroscopy_pulsed_amp_sweep,\n",
    "    amplitude_rabi_parallel,\n",
    "    amplitude_rabi_single,\n",
    "    ramsey_parallel,\n",
    "    t1_parallel,\n",
    "    ecr_amplitude_sweep,\n",
    "    create_freq_sweep,\n",
    "    qubit_drive_pulse,\n",
    "    create_amp_sweep,\n",
    "    readout_gauss_square_pulse,\n",
    "    qubit_gaussian_pulse,\n",
    ")\n",
    "\n",
    "import logging"
   ]
  },
  {
   "cell_type": "code",
   "execution_count": null,
   "id": "e23e0bf5",
   "metadata": {},
   "outputs": [],
   "source": [
    "plt.rcParams.update({\n",
    "    'font.family': 'ZI Akkurat',\n",
    "    'font.weight': 'light',\n",
    "    'axes.labelweight': 'light',\n",
    "    'axes.titleweight': 'normal',\n",
    "    'svg.fonttype': 'none', #Make text editable in SVG\n",
    "    'text.usetex': False\n",
    "})"
   ]
  },
  {
   "cell_type": "code",
   "execution_count": null,
   "id": "2ace03c0",
   "metadata": {},
   "outputs": [],
   "source": [
    "blue_color_zi = '#009EE0'\n",
    "orange_color_zi = '#EE7F00'\n",
    "dark_blue_color_zi = '#172983'"
   ]
  },
  {
   "cell_type": "markdown",
   "id": "0240c5b6",
   "metadata": {},
   "source": [
    "## 2. Set-up\n"
   ]
  },
  {
   "cell_type": "markdown",
   "id": "0180eb82",
   "metadata": {},
   "source": [
    "### Emulation Mode\n"
   ]
  },
  {
   "cell_type": "code",
   "execution_count": null,
   "id": "1c355874",
   "metadata": {
    "lines_to_next_cell": 2
   },
   "outputs": [],
   "source": [
    "emulate = True"
   ]
  },
  {
   "cell_type": "markdown",
   "id": "3ff10e21",
   "metadata": {},
   "source": [
    "### Database Set-up\n"
   ]
  },
  {
   "cell_type": "code",
   "execution_count": null,
   "id": "9e3d1e47",
   "metadata": {},
   "outputs": [],
   "source": [
    "# set up connection to database\n",
    "demo_setup_db = DataStore(\"laboneq_data/setup_database.db\")\n",
    "\n",
    "demo_results_db = DataStore(\"laboneq_data/results_database.db\")"
   ]
  },
  {
   "cell_type": "markdown",
   "id": "5119506c",
   "metadata": {},
   "source": [
    "### Device Set-up\n"
   ]
  },
  {
   "cell_type": "code",
   "execution_count": null,
   "id": "8f77abab",
   "metadata": {
    "lines_to_next_cell": 2
   },
   "outputs": [],
   "source": [
    "from textwrap import dedent\n",
    "\n",
    "descriptor = dedent(\n",
    "    \"\"\"\\\n",
    "instruments:\n",
    "  SHFQC:\n",
    "    - address: dev12250\n",
    "      uid: device_shfqc\n",
    "connections:\n",
    "\n",
    "  device_shfqc:\n",
    "    - iq_signal: q0/measure_line\n",
    "      ports: QACHANNELS/0/OUTPUT\n",
    "    - acquire_signal: q0/acquire_line\n",
    "      ports: QACHANNELS/0/INPUT\n",
    "      \n",
    "    - iq_signal: q0/drive_line\n",
    "      ports: SGCHANNELS/3/OUTPUT\n",
    "\"\"\"\n",
    ")\n",
    "demo_setup = DeviceSetup.from_descriptor(\n",
    "    descriptor, server_host=\"localhost\", server_port=8004, setup_name=\"MySetup\"\n",
    ")"
   ]
  },
  {
   "cell_type": "markdown",
   "id": "39f1383a",
   "metadata": {},
   "source": [
    "### Apply Calibration from File\n"
   ]
  },
  {
   "cell_type": "code",
   "execution_count": null,
   "id": "b5718628",
   "metadata": {
    "lines_to_next_cell": 2
   },
   "outputs": [],
   "source": [
    "qubit_parameters = load_qubit_parameters()\n",
    "\n",
    "qubit_parameters[\"local_oscillators\"][\"readout_lo\"][\"value\"] = 7.0e9\n",
    "\n",
    "transmon_list = update_qubit_parameters_and_calibration(\n",
    "    qubit_parameters, demo_setup, demo_setup_db\n",
    ")\n",
    "print(demo_setup.get_calibration())"
   ]
  },
  {
   "cell_type": "markdown",
   "id": "16ba7945",
   "metadata": {},
   "source": [
    "### Create and Connect to a QCCS Session \n",
    "\n",
    "Establishes the connection to the instruments and readies them for experiments\n"
   ]
  },
  {
   "cell_type": "code",
   "execution_count": null,
   "id": "6153422f",
   "metadata": {},
   "outputs": [],
   "source": [
    "# create and connect to a session \n",
    "session = Session(device_setup=demo_setup)\n",
    "session.connect(do_emulation=emulate, reset_devices=True)"
   ]
  },
  {
   "cell_type": "markdown",
   "id": "d0401347",
   "metadata": {},
   "source": [
    "## CW Spectroscopy\n"
   ]
  },
  {
   "cell_type": "code",
   "execution_count": null,
   "id": "ff26a8d8",
   "metadata": {
    "lines_to_next_cell": 2
   },
   "outputs": [],
   "source": [
    "cw_spectroscopy_exp = resonator_spectroscopy_parallel_CW_full_range(\n",
    "    transmon_list,\n",
    "    create_freq_sweep(\"outer\", 6e9, 8e9, 3),\n",
    "    create_freq_sweep(\"inner\", -500e6, 500e6, 1001),\n",
    ")\n",
    "session.connect(do_emulation=emulate, reset_devices=True)\n",
    "compiled_cw_spectroscopy_exp = session.compile(cw_spectroscopy_exp)\n",
    "cw_spectroscopy_results = session.run(compiled_cw_spectroscopy_exp)"
   ]
  },
  {
   "cell_type": "code",
   "execution_count": null,
   "id": "d06233ec",
   "metadata": {
    "lines_to_next_cell": 2
   },
   "outputs": [],
   "source": [
    "# access and plot results of one 8GHz sweep\n",
    "gnd_signal = abs(cw_spectroscopy_results.get_data(\"resonator_spectroscopy_q0\"))\n",
    "\n",
    "outer = cw_spectroscopy_results.get_axis(\"resonator_spectroscopy_q0\")[0]\n",
    "inner = cw_spectroscopy_results.get_axis(\"resonator_spectroscopy_q0\")[1]\n",
    "full_sweep = np.array(flatten([out + inner for out in outer]))\n",
    "\n",
    "plt.plot(full_sweep/1e9, np.array(flatten([data for data in gnd_signal])))\n",
    "plt.xlabel(\"Resonator drive frequency (GHz)\")\n",
    "plt.ylabel(\"Signal (a.u)\")\n",
    "plt.title(\"CW resonator spectroscopy, large range\")"
   ]
  },
  {
   "cell_type": "code",
   "execution_count": null,
   "id": "e843c576",
   "metadata": {
    "lines_to_next_cell": 2
   },
   "outputs": [],
   "source": [
    "save_results(demo_results_db, cw_spectroscopy_results, \"cw_spec_results\", \"full_sweep\")"
   ]
  },
  {
   "cell_type": "markdown",
   "id": "86b4bdfa",
   "metadata": {},
   "source": [
    "# Baseband sweep CW spectroscopy"
   ]
  },
  {
   "cell_type": "code",
   "execution_count": null,
   "id": "503f21d1",
   "metadata": {
    "lines_to_next_cell": 2
   },
   "outputs": [],
   "source": [
    "single_cw = resonator_spectroscopy_single(\n",
    "    transmon_list[0],\n",
    "    create_freq_sweep(f\"{transmon_list[0].uid}_sweep\", 210e6, 290e6, 401),\n",
    "    measure_range=-25,\n",
    "    acquire_range=-5,\n",
    ")\n",
    "session.connect(do_emulation=emulate, reset_devices=True)\n",
    "compiled_single_cw_spect_exp = session.compile(single_cw)\n",
    "cw_spectroscopy_results = session.run(compiled_single_cw_spect_exp)\n",
    "#plot_results(cw_spectroscopy_results)"
   ]
  },
  {
   "cell_type": "markdown",
   "id": "d061b1e3",
   "metadata": {},
   "source": [
    "### Make nice resonator spectroscopy plot"
   ]
  },
  {
   "cell_type": "code",
   "execution_count": null,
   "id": "7cc0cb3c",
   "metadata": {},
   "outputs": [],
   "source": [
    "lo_frequency = cw_spectroscopy_results.experiment.signals[\"measure_q0\"].calibration.local_oscillator.frequency\n",
    "\n",
    "gnd_signal = abs(cw_spectroscopy_results.get_data(\"resonator_spectroscopy_q0\"))\n",
    "full_sweep = cw_spectroscopy_results.get_axis(\"resonator_spectroscopy_q0\")[0] + lo_frequency\n",
    "\n",
    "gnd_signal = gnd_signal/max(gnd_signal)\n",
    "\n",
    "plt.plot(full_sweep/1e9, gnd_signal, color = dark_blue_color_zi)\n",
    "plt.xlabel(\"Resonator drive frequency (GHz)\")\n",
    "plt.ylabel(\"Transmission (norm.)\")\n",
    "plt.tight_layout()"
   ]
  },
  {
   "cell_type": "code",
   "execution_count": null,
   "id": "171d141e",
   "metadata": {
    "lines_to_next_cell": 2
   },
   "outputs": [],
   "source": [
    "#analyze_qspec(res=cw_spectroscopy_results, handle=\"resonator_spectroscopy_q0\")"
   ]
  },
  {
   "cell_type": "code",
   "execution_count": null,
   "id": "51e916db",
   "metadata": {
    "lines_to_next_cell": 2
   },
   "outputs": [],
   "source": [
    "first_readout_res = lo_frequency + 0.258e9\n",
    "print(first_readout_res)"
   ]
  },
  {
   "cell_type": "code",
   "execution_count": null,
   "id": "e2ccff01",
   "metadata": {},
   "outputs": [],
   "source": [
    "qubit_parameters[\"qubits\"][\"q0\"][\"readout_resonator_frequency\"][\n",
    "    \"value\"\n",
    "] = first_readout_res\n",
    "\n",
    "transmon_list = update_qubit_parameters_and_calibration(\n",
    "    qubit_parameters, demo_setup, demo_setup_db\n",
    ")"
   ]
  },
  {
   "cell_type": "markdown",
   "id": "4d800ab7",
   "metadata": {},
   "source": [
    "# Spectroscopy vs Power - \"Punchout\" NOT TESTED\n"
   ]
  },
  {
   "cell_type": "code",
   "execution_count": null,
   "id": "8a2f9e64",
   "metadata": {
    "lines_to_next_cell": 2
   },
   "outputs": [],
   "source": [
    "if True:\n",
    "    freq_upper = (\n",
    "        transmon_list[0].parameters.readout_resonator_frequency\n",
    "        - transmon_list[0].parameters.readout_lo_frequency\n",
    "        + 50e6\n",
    "    )\n",
    "    freq_lower = (\n",
    "        transmon_list[0].parameters.readout_resonator_frequency\n",
    "        - transmon_list[0].parameters.readout_lo_frequency\n",
    "        - 50e6\n",
    "    )\n",
    "\n",
    "    amp_sweep = SweepParameter(\n",
    "        uid=\"amp_sweep2\",\n",
    "        values=np.logspace(start=np.log10(0.001), stop=np.log10(1), num=3),\n",
    "    )\n",
    "\n",
    "    punchout = res_spectroscopy_pulsed_amp_sweep(\n",
    "        qubit=transmon_list[0],\n",
    "        integration_kernel=integration_kernel,\n",
    "        readout_pulse=readout_gauss_square_pulse,\n",
    "        frequency_sweep=create_freq_sweep(\n",
    "            f\"{transmon_list[0].uid}_sweep\", freq_lower, freq_upper, 1001\n",
    "        ),\n",
    "        amplitude_sweep=amp_sweep,\n",
    "        num_averages=2**8,\n",
    "        measure_range=-25,\n",
    "        acquire_range=-5,\n",
    "    )\n",
    "\n",
    "    session.connect(do_emulation=False, reset_devices=True)\n",
    "    comp_punchout = session.compile(punchout)\n",
    "    punchout_result = session.run(comp_punchout)\n",
    "\n",
    "    plot_results(punchout_result)"
   ]
  },
  {
   "cell_type": "code",
   "execution_count": null,
   "id": "7edc0c8a",
   "metadata": {
    "lines_to_next_cell": 2
   },
   "outputs": [],
   "source": [
    "if False:\n",
    "    save_results(\n",
    "        demo_results_db,\n",
    "        punchout_result,\n",
    "        \"punchout\",\n",
    "        \"neg_25_meas_neg_5_acq_range\",\n",
    "    )"
   ]
  },
  {
   "cell_type": "code",
   "execution_count": null,
   "id": "8f958a39",
   "metadata": {},
   "outputs": [],
   "source": [
    "if False:\n",
    "    qubit_parameters[\"multiplex_readout\"][\"readout_amplitude\"][\"value\"] = 0.55\n",
    "\n",
    "    transmon_list = update_qubit_parameters_and_calibration(\n",
    "        qubit_parameters, demo_setup, demo_setup_db\n",
    "    )"
   ]
  },
  {
   "cell_type": "markdown",
   "id": "cda14399",
   "metadata": {},
   "source": [
    "## Continue with your tune-up experiments:\n",
    "\n",
    "* Qubit Spec\n",
    "* Rabi\n",
    "* Ramsey\n",
    "* T1\n",
    "* Hahn Echo\n",
    "\n",
    "What's after that? There are many ways to go once you have done the basics:\n",
    "\n",
    "* Drag pulse tune-up\n",
    "* Single shot readout\n",
    "* Active reset\n",
    "* f-level tune-up\n",
    "* Two qubit gates\n",
    "* Tomography\n",
    "* RB"
   ]
  },
  {
   "cell_type": "markdown",
   "id": "9aabafba",
   "metadata": {},
   "source": [
    "# Qubit Spectroscopy"
   ]
  },
  {
   "cell_type": "code",
   "execution_count": null,
   "id": "7e1b1398",
   "metadata": {},
   "outputs": [],
   "source": [
    "def gen_const_pulse(qubit, length=15e-5,amplitude=1.0):\n",
    "    return pulse_library.const(uid=f\"{qubit}\",length=length,amplitude=amplitude, can_compress=True)"
   ]
  },
  {
   "cell_type": "code",
   "execution_count": null,
   "id": "04bda3f8",
   "metadata": {},
   "outputs": [],
   "source": [
    "qubit_parameters[\"qubits\"][\"q0\"][\"drive_range_ge\"][\"value\"]=-30\n",
    "transmon_list = update_qubit_parameters_and_calibration(\n",
    "    qubit_parameters, demo_setup, demo_setup_db\n",
    ")"
   ]
  },
  {
   "cell_type": "code",
   "execution_count": null,
   "id": "06fe6faf",
   "metadata": {},
   "outputs": [],
   "source": [
    "\n",
    "qubit_spec_exp = qubit_spectroscopy_single(\n",
    "    qubit = transmon_list[0],\n",
    "    integration_kernel=integration_kernel,\n",
    "    readout_pulse=readout_pulse,\n",
    "    qubit_spectroscopy_pulse=gen_const_pulse,\n",
    "    qspec_range=6e6,\n",
    "    qspec_num=251,\n",
    "    num_averages=2**10,\n",
    ")\n"
   ]
  },
  {
   "cell_type": "code",
   "execution_count": null,
   "id": "811735d5",
   "metadata": {},
   "outputs": [],
   "source": [
    "session.connect(do_emulation=emulate,reset_devices=True)\n",
    "qspec_res=session.run(qubit_spec_exp)"
   ]
  },
  {
   "cell_type": "code",
   "execution_count": null,
   "id": "2d6f1a8b",
   "metadata": {},
   "outputs": [],
   "source": [
    "lo_frequency = qubit_parameters[\"qubits\"][\"q0\"][\"drive_lo_frequency\"][\"value\"]\n",
    "\n",
    "gnd_signal = abs(qspec_res.get_data(\"q0_spectroscopy\") - qspec_res.get_data(\"q0_spectroscopy\")[0])\n",
    "gnd_signal = gnd_signal\n",
    "#gnd_signal = abs(qspec_res.get_data(\"q0_spectroscopy\"))\n",
    "full_sweep = qspec_res.get_axis(\"q0_spectroscopy\")[0] + lo_frequency\n",
    "\n",
    "plt.plot(full_sweep/1e9, gnd_signal)\n",
    "plt.xlabel(\"Qubit drive frequency (GHz)\")\n",
    "plt.ylabel(\"Signal (a.u)\")\n",
    "plt.tight_layout()"
   ]
  },
  {
   "cell_type": "code",
   "execution_count": null,
   "id": "db3442ac",
   "metadata": {},
   "outputs": [],
   "source": [
    "qubit_resonance=analyze_qspec(qspec_res,\"q0_spectroscopy\",f0=7.49e8,a=0.03,gamma=1E6, flip=True, rotate = True)\n",
    "print(qubit_resonance)"
   ]
  },
  {
   "cell_type": "markdown",
   "id": "58fbb2f8",
   "metadata": {},
   "source": [
    "### Update qubit resonance"
   ]
  },
  {
   "cell_type": "code",
   "execution_count": null,
   "id": "c9c59ce3",
   "metadata": {},
   "outputs": [],
   "source": [
    "qubit_parameters[\"qubits\"][\"q0\"][\"resonance_frequency_ge\"][\n",
    "    \"value\"\n",
    "] =  qubit_parameters[\"qubits\"][\"q0\"][\"drive_lo_frequency\"][\n",
    "    \"value\"\n",
    "] + qubit_resonance\n",
    "print(qubit_parameters[\"qubits\"][\"q0\"][\"resonance_frequency_ge\"][\"value\"])\n",
    "transmon_list = update_qubit_parameters_and_calibration(\n",
    "    qubit_parameters, demo_setup, demo_setup_db\n",
    ")"
   ]
  },
  {
   "cell_type": "markdown",
   "id": "33ac36de",
   "metadata": {},
   "source": [
    "# Amplitude Rabi"
   ]
  },
  {
   "cell_type": "code",
   "execution_count": null,
   "id": "52401de6",
   "metadata": {},
   "outputs": [],
   "source": [
    "qubit_parameters[\"qubits\"][\"q0\"][\"drive_range_ge\"][\"value\"]=10\n",
    "transmon_list = update_qubit_parameters_and_calibration(\n",
    "    qubit_parameters, demo_setup, demo_setup_db\n",
    ")"
   ]
  },
  {
   "cell_type": "code",
   "execution_count": null,
   "id": "709b7630",
   "metadata": {},
   "outputs": [],
   "source": [
    "def amplitude_rabi_single(\n",
    "    qubit,\n",
    "    drive_pulse,\n",
    "    integration_kernel,\n",
    "    readout_pulse,\n",
    "    amplitude_sweep,\n",
    "    num_averages=2**10,\n",
    "    cal_trace=False,\n",
    "    pi_amplitude=0.5,\n",
    "):\n",
    "    exp_rabi = Experiment(\n",
    "        uid=\"Qubit Spectroscopy\",\n",
    "        signals=flatten(\n",
    "            [\n",
    "                [\n",
    "                    ExperimentSignal(\n",
    "                        f\"drive_{qubit.uid}\", map_to=qubit.signals[\"drive\"]\n",
    "                    ),\n",
    "                    ExperimentSignal(\n",
    "                        f\"measure_{qubit.uid}\", map_to=qubit.signals[\"measure\"]\n",
    "                    ),\n",
    "                    ExperimentSignal(\n",
    "                        f\"acquire_{qubit.uid}\", map_to=qubit.signals[\"acquire\"]\n",
    "                    ),\n",
    "                ]\n",
    "            ]\n",
    "        ),\n",
    "    )\n",
    "\n",
    "    ## define Rabi experiment pulse sequence\n",
    "    # outer loop - real-time, cyclic averaging\n",
    "    with exp_rabi.acquire_loop_rt(\n",
    "        uid=\"rabi_shots\",\n",
    "        count=num_averages,\n",
    "        averaging_mode=AveragingMode.CYCLIC,\n",
    "        acquisition_type=AcquisitionType.INTEGRATION,\n",
    "    ):\n",
    "        # inner loop - real time sweep of Rabi amplitudes\n",
    "        with exp_rabi.sweep(uid=\"rabi_sweep\", parameter=amplitude_sweep):\n",
    "                # qubit drive\n",
    "                with exp_rabi.section(\n",
    "                    uid=f\"{qubit.uid}_excitation\", alignment=SectionAlignment.RIGHT\n",
    "                ):\n",
    "                    exp_rabi.play(\n",
    "                        signal=f\"drive_{qubit.uid}\",\n",
    "                        pulse=drive_pulse(qubit, amplitude=1),\n",
    "                        amplitude=amplitude_sweep,\n",
    "                    )\n",
    "                # measurement\n",
    "                with exp_rabi.section(\n",
    "                    uid=f\"readout_{qubit.uid}\", play_after=f\"{qubit.uid}_excitation\"\n",
    "                ):\n",
    "                    exp_rabi.measure(\n",
    "                        measure_signal=f\"measure_{qubit.uid}\",\n",
    "                        measure_pulse=readout_pulse(qubit),\n",
    "                        handle=f\"{qubit.uid}_rabi\",\n",
    "                        acquire_signal=f\"acquire_{qubit.uid}\",\n",
    "                        integration_kernel=integration_kernel(qubit),\n",
    "                        reset_delay=qubit.parameters.user_defined[\"reset_delay_length\"],\n",
    "                    )\n",
    "        if cal_trace:\n",
    "            with exp_rabi.section(uid=\"cal_trace_gnd_meas\"):\n",
    "                exp_rabi.measure(\n",
    "                    measure_signal=f\"measure_{qubit.uid}\",\n",
    "                    measure_pulse=readout_pulse(qubit),\n",
    "                    handle=f\"{qubit.uid}_rabi_cal_trace\",\n",
    "                    acquire_signal=f\"acquire_{qubit.uid}\",\n",
    "                    integration_kernel=integration_kernel(qubit),\n",
    "                    reset_delay=1e-6, # qubit.parameters.user_defined[\"reset_delay_length\"],\n",
    "                )\n",
    "            with exp_rabi.section(uid=\"cal_trace_exc\", play_after=\"cal_trace_gnd_meas\"):\n",
    "                exp_rabi.play(\n",
    "                    signal=f\"drive_{qubit.uid}\",\n",
    "                    pulse=drive_pulse(qubit, amplitude = 1),\n",
    "                    amplitude = pi_amplitude,\n",
    "                )\n",
    "                \n",
    "            with exp_rabi.section(uid=\"cal_trace_exc_meas\", play_after=\"cal_trace_exc\"):\n",
    "                exp_rabi.measure(\n",
    "                    measure_signal=f\"measure_{qubit.uid}\",\n",
    "                    measure_pulse=readout_pulse(qubit),\n",
    "                    handle=f\"{qubit.uid}_rabi_cal_trace\",\n",
    "                    acquire_signal=f\"acquire_{qubit.uid}\",\n",
    "                    integration_kernel=integration_kernel(qubit),\n",
    "                    reset_delay=qubit.parameters.user_defined[\"reset_delay_length\"],\n",
    "                )\n",
    "            \n",
    "\n",
    "    return exp_rabi"
   ]
  },
  {
   "cell_type": "code",
   "execution_count": null,
   "id": "14002a6e",
   "metadata": {},
   "outputs": [],
   "source": [
    "amplitude_sweep=LinearSweepParameter(uid=\"amplitude_sweep\", start=0.0, stop=0.9, count=51)\n",
    "\n",
    "\n",
    "amp_rabi = amplitude_rabi_single(\n",
    "    qubit=transmon_list[0],\n",
    "    drive_pulse=qubit_drive_pulse,\n",
    "    integration_kernel=integration_kernel,\n",
    "    readout_pulse=readout_pulse,\n",
    "    amplitude_sweep=amplitude_sweep,\n",
    "    num_averages=2**10,\n",
    "    pi_amplitude=transmon_list[0].parameters.user_defined[\"amplitude_pi\"],\n",
    "    cal_trace=True,\n",
    ")\n",
    "\n",
    "compiled_rabi = session.compile(amp_rabi)\n",
    "session.connect(do_emulation=emulate, reset_devices=True)\n",
    "rabi_res = session.run(compiled_rabi)\n"
   ]
  },
  {
   "cell_type": "markdown",
   "id": "46b54712",
   "metadata": {},
   "source": [
    "### Make nice plot for Rabi oscillations"
   ]
  },
  {
   "cell_type": "code",
   "execution_count": null,
   "id": "5f39ee53",
   "metadata": {},
   "outputs": [],
   "source": [
    "def rabi_curve(x, offset, phase_shift, amplitude, period):\n",
    "    return amplitude * np.sin(np.pi / period * x - phase_shift) + offset"
   ]
  },
  {
   "cell_type": "code",
   "execution_count": null,
   "id": "d9adcea2",
   "metadata": {},
   "outputs": [],
   "source": [
    "handles = list(rabi_res.acquired_results.keys())\n",
    "res1 = np.asarray(rabi_res.get_data(handles[0]))\n",
    "res_cal_trace= np.asarray(rabi_res.get_data(handles[1]))\n",
    "axis1 = rabi_res.get_axis(handles[0])[0]\n",
    "delta_x = axis1[-1]-axis1[-2]\n",
    "axis2 = np.linspace(axis1[-1]+delta_x,axis1[-1] + 2*delta_x,2)\n",
    "\n",
    "delta_vec = res_cal_trace[1] -res_cal_trace[0]\n",
    "angle = np.angle(delta_vec)\n",
    "rd = []\n",
    "for r in [res1,res_cal_trace]:\n",
    "    r = r - res_cal_trace[0]\n",
    "    r = r * np.exp(-1j*angle)\n",
    "    r = r/ np.abs(delta_vec)\n",
    "    rd.append(r)\n",
    "    \n",
    "offset_guess = np.mean(np.real(rd[0]))\n",
    "phase_shift_guess = np.pi / 2\n",
    "amplitude_guess = (max(np.real(rd[0])) - min(np.real(rd[0]))) / 2\n",
    "period_guess = abs(axis1[np.argmax(np.real(rd[0]))] - axis1[np.argmin(np.real(rd[0]))])\n",
    "p0 = [offset_guess, phase_shift_guess, amplitude_guess, period_guess]\n",
    "popt = scipy.optimize.curve_fit(rabi_curve, axis1, np.real(rd[0]), p0=p0)[0]\n",
    "\n",
    "pi_amp = scipy.optimize.fmin(\n",
    "    lambda x: -rabi_curve(x, *popt), axis1[np.argmax(np.real(rd[0]))], disp=False\n",
    ")[0]\n",
    "pi2_amp = scipy.optimize.fmin(\n",
    "    lambda x: abs(rabi_curve(x, *popt) - popt[0]), pi_amp / 2, disp=False\n",
    ")[0]\n",
    "\n",
    "plt.figure(figsize=(7, 5))\n",
    "plt.xlabel('Drive pulse amplitude (a.u)')\n",
    "plt.ylabel(r\"$\\left| e\\right\\rangle$ population\")\n",
    "plt.plot(axis1,np.real(rd[0]),'o', color = dark_blue_color_zi)\n",
    "plt.plot(axis1, rabi_curve(axis1, *popt), color = dark_blue_color_zi)\n",
    "plt.axvline(x=pi_amp, color='gray', linestyle='--', linewidth=2, zorder = -1)\n",
    "plt.axvline(x=pi2_amp, color='gray', linestyle='-.', linewidth=2, zorder = -1)\n"
   ]
  },
  {
   "cell_type": "code",
   "execution_count": null,
   "id": "26f05f5e",
   "metadata": {},
   "outputs": [],
   "source": [
    "plt.plot(np.real(res1), np.imag(res1), \"o\", color = dark_blue_color_zi)\n",
    "plt.plot(np.real(res_cal_trace[0]), np.imag(res_cal_trace[0]), \"o\", color = orange_color_zi)\n",
    "plt.plot(np.real(res_cal_trace[1]), np.imag(res_cal_trace[1]), \"o\", color = orange_color_zi)"
   ]
  },
  {
   "cell_type": "code",
   "execution_count": null,
   "id": "bf858122",
   "metadata": {},
   "outputs": [],
   "source": [
    "qubit_parameters[\"qubits\"][\"q0\"][\"amplitude_pi\"][\n",
    "    \"value\"\n",
    "] = float(pi_amp)\n",
    "qubit_parameters[\"qubits\"][\"q0\"][\"amplitude_pi2\"][\n",
    "    \"value\"\n",
    "] = float(pi2_amp)\n",
    "\n",
    "\n",
    "transmon_list = update_qubit_parameters_and_calibration(\n",
    "    qubit_parameters, demo_setup, demo_setup_db\n",
    ")"
   ]
  },
  {
   "cell_type": "markdown",
   "id": "a0baba31",
   "metadata": {},
   "source": [
    "## T1 measurement"
   ]
  },
  {
   "cell_type": "code",
   "execution_count": null,
   "id": "e4993cb6",
   "metadata": {},
   "outputs": [],
   "source": [
    "delay_sweep=LinearSweepParameter(uid=\"delay_sweep\", start=1e-10, stop=100e-6, count=51)\n",
    "\n",
    "t1_meas = t1_parallel(\n",
    "    qubits=[transmon_list[0]],\n",
    "    drive_pulse=qubit_drive_pulse,\n",
    "    integration_kernel=integration_kernel,\n",
    "    readout_pulse=readout_pulse,\n",
    "    delay_sweep=delay_sweep,\n",
    "    num_averages=2**10,\n",
    ")\n",
    "\n",
    "compiled_t1 = session.compile(t1_meas)\n",
    "session.connect(do_emulation=emulate, reset_devices=True)\n",
    "t1_res = session.run(compiled_t1)"
   ]
  },
  {
   "cell_type": "code",
   "execution_count": null,
   "id": "01e8e8f6",
   "metadata": {},
   "outputs": [],
   "source": [
    "evaluate_T1(t1_res, \"q0_t1\")"
   ]
  },
  {
   "cell_type": "markdown",
   "id": "95f7b879",
   "metadata": {},
   "source": [
    "## Ramsey"
   ]
  },
  {
   "cell_type": "code",
   "execution_count": null,
   "id": "0dd86547",
   "metadata": {},
   "outputs": [],
   "source": [
    "def ramsey_parallel(\n",
    "    qubits,\n",
    "    drive_pulse: callable,\n",
    "    pi_drive_pulse: callable,\n",
    "    integration_kernel: callable,\n",
    "    readout_pulse: callable,\n",
    "    delay_sweep,\n",
    "    num_averages=2**10,\n",
    "    detuning = 0,\n",
    "    cal_trace=False,\n",
    "):\n",
    "    exp_ramsey = Experiment(\n",
    "        uid=\"Ramsey Exp\",\n",
    "        signals=flatten(\n",
    "            [\n",
    "                [\n",
    "                    ExperimentSignal(\n",
    "                        f\"drive_{qubit.uid}\", map_to=qubit.signals[\"drive\"]\n",
    "                    ),\n",
    "                    ExperimentSignal(\n",
    "                        f\"measure_{qubit.uid}\", map_to=qubit.signals[\"measure\"]\n",
    "                    ),\n",
    "                    ExperimentSignal(\n",
    "                        f\"acquire_{qubit.uid}\", map_to=qubit.signals[\"acquire\"]\n",
    "                    ),\n",
    "                ]\n",
    "                for qubit in qubits\n",
    "            ]\n",
    "        ),\n",
    "    )\n",
    "\n",
    "\n",
    "    \n",
    "\n",
    " #   readout_weight = readout_pulse\n",
    "    freq = qubits[0].parameters.resonance_frequency_ge + detuning - qubits[0].parameters.drive_lo_frequency\n",
    "  #  else:\n",
    "   #     freq = detuning\n",
    "         \n",
    "    \n",
    "    calibration = Calibration()   \n",
    "    calibration[\"drive_q0\"] = SignalCalibration(\n",
    "        oscillator=Oscillator(\n",
    "            frequency=freq,\n",
    "            modulation_type=ModulationType.HARDWARE\n",
    "        )\n",
    "    )\n",
    "\n",
    "    exp_ramsey.set_calibration(calibration)\n",
    "\n",
    "    ## define Ramsey experiment pulse sequence\n",
    "    # outer loop - real-time, cyclic averaging\n",
    "    with exp_ramsey.acquire_loop_rt(\n",
    "        uid=\"ramsey_shots\",\n",
    "        count=num_averages,\n",
    "        averaging_mode=AveragingMode.CYCLIC,\n",
    "        acquisition_type=AcquisitionType.INTEGRATION,\n",
    "        #repetition_mode=RepetitionMode.AUTO,\n",
    "    ):\n",
    "        for qubit in qubits:\n",
    "            # inner loop - real time sweep of Ramsey time delays\n",
    "            with exp_ramsey.sweep(\n",
    "                uid=\"ramsey_sweep\", parameter=delay_sweep, alignment=SectionAlignment.RIGHT\n",
    "            ):\n",
    "                # play qubit excitation pulse - pulse amplitude is swept\n",
    "                ramsey_pulse = drive_pulse(qubit)\n",
    "                with exp_ramsey.section(\n",
    "                    uid=f\"{qubit.uid}_excitation\", alignment=SectionAlignment.RIGHT\n",
    "                ):\n",
    "                    exp_ramsey.play(signal=f\"drive_{qubit.uid}\", pulse=ramsey_pulse)\n",
    "                    exp_ramsey.delay(signal=f\"drive_{qubit.uid}\", time=delay_sweep)\n",
    "                    exp_ramsey.play(signal=f\"drive_{qubit.uid}\", pulse=ramsey_pulse)\n",
    "                # readout pulse and data acquisition\n",
    "                # measurement\n",
    "                with exp_ramsey.section(\n",
    "                    uid=f\"readout_{qubit.uid}\", play_after=f\"{qubit.uid}_excitation\"\n",
    "                ):\n",
    "                    exp_ramsey.measure(\n",
    "                        measure_signal=f\"measure_{qubit.uid}\",\n",
    "                        measure_pulse=readout_pulse(qubit),\n",
    "                        handle=f\"{qubit.uid}_ramsey\",\n",
    "                        acquire_signal=f\"acquire_{qubit.uid}\",\n",
    "                        integration_kernel=integration_kernel(qubit),\n",
    "                        reset_delay=qubit.parameters.user_defined[\"reset_delay_length\"],\n",
    "                    )\n",
    "                    \n",
    "                \n",
    "            if cal_trace:\n",
    "                with exp_ramsey.section(uid=\"cal_trace_gnd\"):\n",
    "                    exp_ramsey.measure(\n",
    "                        measure_signal=f\"measure_{qubit.uid}\",\n",
    "                        measure_pulse=readout_pulse(qubit),\n",
    "                        handle=f\"{qubit.uid}_ramsey_cal_trace\",\n",
    "                        acquire_signal=f\"acquire_{qubit.uid}\",\n",
    "                        integration_kernel=integration_kernel(qubit),\n",
    "                        reset_delay=1e-6 # qubit.parameters.user_defined[\"reset_delay_length\"],\n",
    "                    )\n",
    "                cal_e_pulse = pi_drive_pulse(qubit)#, amplitude = 1)\n",
    "                with exp_ramsey.section(uid=\"cal_trace_exc\", play_after=\"cal_trace_gnd\"):\n",
    "                    # exp_ramsey.play(\n",
    "                    #     signal=f\"drive_{qubit.uid}\",\n",
    "                    #     pulse=cal_e_pulse,\n",
    "                    #   #  amplitude = transmon_list[0].parameters.user_defined[\"amplitude_pi\"],\n",
    "                    # )\n",
    "                    exp_ramsey.play(signal=f\"drive_{qubit.uid}\", pulse=ramsey_pulse)\n",
    "                    exp_ramsey.play(signal=f\"drive_{qubit.uid}\", pulse=ramsey_pulse)\n",
    "                    \n",
    "                with exp_ramsey.section(uid=\"cal_trace_exc_meas\", play_after=\"cal_trace_exc\"):\n",
    "                    exp_ramsey.measure(\n",
    "                        measure_signal=f\"measure_{qubit.uid}\",\n",
    "                        measure_pulse=readout_pulse(qubit),\n",
    "                        handle=f\"{qubit.uid}_ramsey_cal_trace\",\n",
    "                        acquire_signal=f\"acquire_{qubit.uid}\",\n",
    "                        integration_kernel=integration_kernel(qubit),\n",
    "                        reset_delay=qubit.parameters.user_defined[\"reset_delay_length\"],\n",
    "                    )\n",
    "\n",
    "    return exp_ramsey"
   ]
  },
  {
   "cell_type": "code",
   "execution_count": null,
   "id": "67f17518",
   "metadata": {},
   "outputs": [],
   "source": [
    "qubit_parameters[\"qubits\"][\"q0\"][\"reset_delay_length\"][\"value\"] = 100e-6\n",
    "transmon_list = update_qubit_parameters_and_calibration(\n",
    "    qubit_parameters, demo_setup, demo_setup_db\n",
    ")"
   ]
  },
  {
   "cell_type": "code",
   "execution_count": null,
   "id": "f805f58b",
   "metadata": {},
   "outputs": [],
   "source": [
    "def qubit_gaussian_pulse(qubit):\n",
    "    return pulse_library.gaussian(\n",
    "        length=qubit.parameters.user_defined[\"pulse_length\"],\n",
    "        amplitude = qubit.parameters.user_defined[\"amplitude_pi\"],\n",
    "    )\n",
    "\n",
    "def qubit_gaussian_halfpi_pulse(qubit):\n",
    "    return pulse_library.gaussian(\n",
    "        length=qubit.parameters.user_defined[\"pulse_length\"],\n",
    "        amplitude = qubit.parameters.user_defined[\"amplitude_pi2\"],\n",
    "    )"
   ]
  },
  {
   "cell_type": "markdown",
   "id": "63a4a222",
   "metadata": {},
   "source": [
    "### Set detuning freq"
   ]
  },
  {
   "cell_type": "code",
   "execution_count": null,
   "id": "bf8b59d4",
   "metadata": {},
   "outputs": [],
   "source": [
    "detuning_freq = .05e6"
   ]
  },
  {
   "cell_type": "code",
   "execution_count": null,
   "id": "1afe7051",
   "metadata": {},
   "outputs": [],
   "source": [
    "delay_sweep = LinearSweepParameter(uid=\"delay_sweep\", start=0, stop=40e-6, count=151)\n",
    "ramsey_exp = ramsey_parallel(transmon_list, qubit_gaussian_halfpi_pulse, qubit_gaussian_pulse, integration_kernel, readout_pulse, delay_sweep, num_averages=2**10, detuning=detuning_freq, cal_trace=True)\n",
    "session.connect(reset_devices=True)\n",
    "compiled_exp = session.compile(ramsey_exp)\n",
    "res_ramsey=session.run(compiled_exp)\n",
    "#show_pulse_sheet(ramsey_exp.uid,compiled_exp)"
   ]
  },
  {
   "cell_type": "code",
   "execution_count": null,
   "id": "97db5434",
   "metadata": {},
   "outputs": [],
   "source": [
    "def ramsey_curve(x, offset, phase_shift, amplitude, period, t2):\n",
    "        return (\n",
    "            amplitude * np.exp(-x / t2) * np.sin(2 * np.pi * x / period + phase_shift)\n",
    "            + offset\n",
    "        )"
   ]
  },
  {
   "cell_type": "code",
   "execution_count": null,
   "id": "38d24fe7",
   "metadata": {},
   "outputs": [],
   "source": [
    "handles = list(res_ramsey.acquired_results.keys())\n",
    "res1 = np.asarray(res_ramsey.get_data(handles[0]))\n",
    "res_cal_trace= np.asarray(res_ramsey.get_data(handles[1]))\n",
    "axis1 = res_ramsey.get_axis(handles[0])[0]\n",
    "\n",
    "delta_vec = res_cal_trace[1] - res_cal_trace[0]\n",
    "angle = np.angle(delta_vec)\n",
    "rd = []\n",
    "for r in [res1,res_cal_trace]:\n",
    "    r = r - res_cal_trace[0]\n",
    "    r = r * np.exp(-1j*angle)\n",
    "    r = r/ np.abs(delta_vec)\n",
    "    rd.append(r)\n",
    "\n",
    "offset_guess = np.mean(np.real(rd[0]))\n",
    "phase_shift_guess = np.pi / 2 if np.real(rd[0])[0] > np.real(rd[0])[-1] else -np.pi / 2\n",
    "amplitude_guess = (max(np.real(rd[0])) - min(np.real(rd[0]))) / 2\n",
    "period_guess = 2 * abs(axis1[np.argmax(np.real(rd[0]))] - axis1[np.argmin(np.real(rd[0]))])\n",
    "t2_guess = 10e-6\n",
    "# TODO: Refine t2 guess algorithm, potentially by finding peaks and fitting only them\n",
    "\n",
    "p0 = [offset_guess, phase_shift_guess, amplitude_guess, period_guess, t2_guess]\n",
    "popt = scipy.optimize.curve_fit(ramsey_curve, axis1, np.real(rd[0]), p0=p0)[0]\n",
    "\n",
    "t2 = popt[4]\n",
    "detuning_freq_measured = 1 / popt[3]\n",
    "\n",
    "envelope_param = np.copy(popt)\n",
    "envelope_param[3] = 1e9\n",
    "envelope_param[1] = np.pi / 2\n",
    "\n",
    "x_fit = np.linspace(axis1[0], axis1[-1], 1000)\n",
    "\n",
    "plt.figure(figsize=(7, 5))\n",
    "plt.xlabel(r'Delay ($\\mu$s)')\n",
    "plt.ylabel(r\"$\\left| e\\right\\rangle$ population\")\n",
    "plt.plot(axis1*1e6,np.real(rd[0]),'o', color = dark_blue_color_zi)\n",
    "plt.plot(x_fit*1e6, ramsey_curve(x_fit, *popt), color = dark_blue_color_zi)\n",
    "plt.plot(axis1*1e6, ramsey_curve(axis1, *envelope_param), color = orange_color_zi)\n"
   ]
  },
  {
   "cell_type": "code",
   "execution_count": null,
   "id": "0b0e9ec0",
   "metadata": {},
   "outputs": [],
   "source": [
    "plt.plot(np.real(res1), np.imag(res1), \"o\", color = dark_blue_color_zi)\n",
    "plt.plot(np.real(res_cal_trace[0]), np.imag(res_cal_trace[0]), \"o\", color = orange_color_zi)\n",
    "plt.plot(np.real(res_cal_trace[1]), np.imag(res_cal_trace[1]), \"o\", color = orange_color_zi)"
   ]
  },
  {
   "cell_type": "code",
   "execution_count": null,
   "id": "fdbfb250",
   "metadata": {},
   "outputs": [],
   "source": [
    "print('T2 = {:.3f} us'.format(1e6*t2))"
   ]
  },
  {
   "cell_type": "code",
   "execution_count": null,
   "id": "35abb490",
   "metadata": {},
   "outputs": [],
   "source": [
    "detuning_freq_measured"
   ]
  },
  {
   "cell_type": "markdown",
   "id": "e91474b7",
   "metadata": {},
   "source": [
    "### Update qubit resonance frequency"
   ]
  },
  {
   "cell_type": "code",
   "execution_count": null,
   "id": "0cdeeab1",
   "metadata": {},
   "outputs": [],
   "source": [
    "qubit_parameters[\"qubits\"][\"q0\"][\"resonance_frequency_ge\"][\n",
    "    \"value\"\n",
    "] = float(qubit_parameters[\"qubits\"][\"q0\"][\"resonance_frequency_ge\"][\n",
    "    \"value\"\n",
    "] - detuning_freq_measured + detuning_freq)\n",
    "print(qubit_parameters[\"qubits\"][\"q0\"][\"resonance_frequency_ge\"][\"value\"])\n",
    "transmon_list = update_qubit_parameters_and_calibration(\n",
    "    qubit_parameters, demo_setup, demo_setup_db\n",
    ")"
   ]
  },
  {
   "cell_type": "markdown",
   "id": "a67e4b5c",
   "metadata": {},
   "source": [
    "# Active reset"
   ]
  },
  {
   "cell_type": "markdown",
   "id": "02d78ae8",
   "metadata": {},
   "source": [
    "## Optimize resonance freq"
   ]
  },
  {
   "cell_type": "code",
   "execution_count": null,
   "id": "559e2852",
   "metadata": {},
   "outputs": [],
   "source": [
    "# resonator_spectroscopy gnd\n",
    "gnd_cw = resonator_spectroscopy_g_vs_e(\n",
    "    transmon_list[0],\n",
    "    drive_pulse = None,\n",
    "    readout_pulse=readout_gauss_square_pulse,\n",
    "    integration_kernel=integration_kernel,\n",
    "    frequency_sweep = create_freq_sweep(f\"{transmon_list[0].uid}_sweep_g\", 210e6, 290e6, 201),\n",
    "    measure_range=-25,\n",
    "    acquire_range=-5,\n",
    "    num_averages=2**12,\n",
    ")\n",
    "session.connect(do_emulation=emulate, reset_devices=True)\n",
    "compiled_gnd_cw = session.compile(gnd_cw)\n",
    "show_pulse_sheet(\"gnd_cw\", compiled_gnd_cw)\n",
    "gnd_cw_results = session.run(compiled_gnd_cw)"
   ]
  },
  {
   "cell_type": "code",
   "execution_count": null,
   "id": "61536d65",
   "metadata": {},
   "outputs": [],
   "source": [
    "# resonator_spectroscopy_pi\n",
    "excitation_cw = resonator_spectroscopy_g_vs_e(\n",
    "    transmon_list[0],\n",
    "    drive_pulse = qubit_drive_pulse,\n",
    "    readout_pulse=readout_gauss_square_pulse,\n",
    "    integration_kernel=integration_kernel,\n",
    "    frequency_sweep = create_freq_sweep(f\"{transmon_list[0].uid}_sweep_e\", 210e6, 290e6, 201),\n",
    "    measure_range=-25,\n",
    "    acquire_range=-5,\n",
    "    num_averages=2**12,\n",
    ")\n",
    "session.connect(do_emulation=emulate, reset_devices=True)\n",
    "compiled_excitation_cw = session.compile(excitation_cw)\n",
    "show_pulse_sheet(\"exc_cw\", compiled_excitation_cw)\n",
    "excitation_cw_results = session.run(compiled_excitation_cw)"
   ]
  },
  {
   "cell_type": "markdown",
   "id": "6dbb75a0",
   "metadata": {},
   "source": [
    "### Optimize readout freq based on IQ distance"
   ]
  },
  {
   "cell_type": "code",
   "execution_count": null,
   "id": "c59a81a2",
   "metadata": {},
   "outputs": [],
   "source": [
    "lo_frequency = gnd_cw_results.experiment.signals[\"measure_q0\"].calibration.local_oscillator.frequency\n",
    "\n",
    "gnd_signal = gnd_cw_results.get_data(\"resonator_spectroscopy_q0\")\n",
    "exc_signal = excitation_cw_results.get_data(\"resonator_spectroscopy_q0\")\n",
    "full_sweep = gnd_cw_results.get_axis(\"resonator_spectroscopy_q0\")[0] + lo_frequency"
   ]
  },
  {
   "cell_type": "code",
   "execution_count": null,
   "id": "f1ae760e",
   "metadata": {},
   "outputs": [],
   "source": [
    "diff_res_signal = abs(exc_signal - gnd_signal)\n",
    "max_res_signal = np.max(diff_res_signal)\n",
    "max_res_signal_idx = np.argmax(diff_res_signal)\n",
    "opt_res_freq = full_sweep[np.argmax(diff_res_signal)]\n",
    "print(f\"Optimized res freq {opt_res_freq/1e9} GHz gives max signal {max_res_signal}\")"
   ]
  },
  {
   "cell_type": "code",
   "execution_count": null,
   "id": "e6e27a40",
   "metadata": {},
   "outputs": [],
   "source": [
    "qubit_parameters[\"qubits\"][\"q0\"][\"readout_resonator_frequency\"][\n",
    "    \"value\"\n",
    "] = float(opt_res_freq)\n",
    "\n",
    "transmon_list = update_qubit_parameters_and_calibration(\n",
    "    qubit_parameters, demo_setup, demo_setup_db\n",
    ")"
   ]
  },
  {
   "cell_type": "markdown",
   "id": "02325399",
   "metadata": {},
   "source": [
    "### Nice plot for optimized resonator readout frequency"
   ]
  },
  {
   "cell_type": "code",
   "execution_count": null,
   "id": "8010b26e",
   "metadata": {},
   "outputs": [],
   "source": [
    "fig = plt.figure(figsize=(5, 5))\n",
    "\n",
    "plt.plot(np.real(gnd_signal)/np.max(np.real(gnd_signal)), np.imag(gnd_signal)/np.max(np.imag(gnd_signal)), '.', color=dark_blue_color_zi, alpha = 0.5)\n",
    "plt.plot(np.real(exc_signal)/np.max(np.real(gnd_signal)), np.imag(exc_signal)/np.max(np.imag(gnd_signal)), '.', color=orange_color_zi, alpha = 0.5)\n",
    "\n",
    "opt_real = [np.real(gnd_signal[max_res_signal_idx])/np.max(np.real(gnd_signal)), np.real(exc_signal[max_res_signal_idx])/np.max(np.real(gnd_signal))]\n",
    "opt_imag = [np.imag(gnd_signal[max_res_signal_idx])/np.max(np.imag(gnd_signal)), np.imag(exc_signal[max_res_signal_idx])/np.max(np.imag(gnd_signal))]\n",
    "\n",
    "plt.plot(opt_real[0], opt_imag[0], color = dark_blue_color_zi, marker = 'o', label=r\"$\\left| g\\right\\rangle$\")\n",
    "plt.plot(opt_real[1], opt_imag[1], color = orange_color_zi, marker = 'o', label=r\"$\\left| e\\right\\rangle$\")\n",
    "plt.plot(opt_real, opt_imag, color = 'grey', zorder = -1)\n",
    "\n",
    "plt.legend()\n",
    "plt.xlabel(\"I (norm.)\")\n",
    "plt.ylabel(\"Q (norm.)\")"
   ]
  },
  {
   "cell_type": "markdown",
   "id": "719b17d5",
   "metadata": {},
   "source": [
    "### Nice plot for resonator spectroscopy in g and e"
   ]
  },
  {
   "cell_type": "code",
   "execution_count": null,
   "id": "7995b4e2",
   "metadata": {},
   "outputs": [],
   "source": [
    "lo_frequency = gnd_cw_results.experiment.signals[\"measure_q0\"].calibration.local_oscillator.frequency\n",
    "\n",
    "gnd_signal = abs(gnd_cw_results.get_data(\"resonator_spectroscopy_q0\"))\n",
    "\n",
    "gnd_signal = gnd_signal/max(gnd_signal)\n",
    "\n",
    "exc_signal = abs(excitation_cw_results.get_data(\"resonator_spectroscopy_q0\"))\n",
    "full_sweep2 = excitation_cw_results.get_axis(\"resonator_spectroscopy_q0\")[0] + lo_frequency\n",
    "exc_signal = exc_signal/max(exc_signal)\n",
    "\n",
    "plt.plot(full_sweep/1e9, gnd_signal, label=r\"$\\left| g\\right\\rangle$\", color=dark_blue_color_zi)\n",
    "plt.plot(full_sweep2/1e9, exc_signal, label=r\"$\\left| e\\right\\rangle$\", color=orange_color_zi)\n",
    "plt.axvline(x=opt_res_freq/1e9, linestyle='--', color = 'grey', zorder=-1)\n",
    "plt.xlabel(\"Resonator drive frequency (GHz)\")\n",
    "plt.ylabel(\"Transmission (norm.)\")\n",
    "plt.legend(loc = \"lower right\")\n",
    "plt.tight_layout()"
   ]
  },
  {
   "cell_type": "markdown",
   "id": "07c1e78a",
   "metadata": {},
   "source": [
    "## Optimize kernels"
   ]
  },
  {
   "cell_type": "code",
   "execution_count": null,
   "id": "39cadf87",
   "metadata": {},
   "outputs": [],
   "source": [
    "def gen_exp_ref_trace(\n",
    "    qubit,\n",
    "    drive_pulse,\n",
    "    readout_pulse,\n",
    "    num_averages=2**8,\n",
    "    excited=True,\n",
    "):\n",
    "    measure_pulse = readout_pulse(qubit)\n",
    "    integration_length = measure_pulse.length + 300e-9\n",
    "    print(f\"integration length {integration_length}\")\n",
    "    exp_uid = \"Exp_ref_trace_exc\"\n",
    "    \n",
    "    exp_ref_trace = Experiment(\n",
    "        uid=exp_uid,\n",
    "        signals=[\n",
    "            ExperimentSignal(f\"measure_{qubit.uid}\", map_to=qubit.signals[\"measure\"]),\n",
    "            ExperimentSignal(f\"acquire_{qubit.uid}\", map_to=qubit.signals[\"acquire\"]),\n",
    "            ExperimentSignal(f\"drive_{qubit.uid}\", map_to=qubit.signals[\"drive\"]),\n",
    "        ],\n",
    "    )\n",
    "    \n",
    "    ## define experimental sequence\n",
    "    with exp_ref_trace.acquire_loop_rt(\n",
    "        uid=\"shots\",\n",
    "        count=num_averages,\n",
    "        acquisition_type=AcquisitionType.RAW,\n",
    "        #acquisition_type=AcquisitionType.INTEGRATION,\n",
    "    ):\n",
    "        if excited:\n",
    "            with exp_ref_trace.section(uid=\"excitation\"):\n",
    "                exp_ref_trace.play(signal=f\"drive_{qubit.uid}\", pulse=drive_pulse(qubit))\n",
    "        else:\n",
    "            with exp_ref_trace.section(uid=\"excitation\"):\n",
    "                exp_ref_trace.play(signal=f\"drive_{qubit.uid}\", pulse=drive_pulse(qubit), amplitude=0)\n",
    "\n",
    "        with exp_ref_trace.section(uid=f\"raw_{qubit.uid}_g\",play_after=\"excitation\"):\n",
    "            exp_ref_trace.play(signal=f\"measure_{qubit.uid}\", pulse=measure_pulse)\n",
    "            exp_ref_trace.acquire(signal=f\"acquire_{qubit.uid}\", handle=f\"raw_{qubit.uid}\", length=integration_length)\n",
    "            exp_ref_trace.delay(signal=f\"measure_{qubit.uid}\", time=qubit.parameters.user_defined[\"reset_delay_length\"])\n",
    "            exp_ref_trace.delay(signal=f\"acquire_{qubit.uid}\", time=qubit.parameters.user_defined[\"reset_delay_length\"])\n",
    "\n",
    "    cal = Calibration()\n",
    "    cal[f\"acquire_{qubit.uid}\"] = SignalCalibration(\n",
    "        oscillator=None,\n",
    "        port_delay=240e-9,\n",
    "    )\n",
    "    exp_ref_trace.set_calibration(cal)\n",
    "\n",
    "    return exp_ref_trace"
   ]
  },
  {
   "cell_type": "code",
   "execution_count": null,
   "id": "015c0e7b",
   "metadata": {},
   "outputs": [],
   "source": [
    "soft_avg = 5\n",
    "\n",
    "gnd_ref = gen_exp_ref_trace(\n",
    "    transmon_list[0],\n",
    "    drive_pulse = qubit_drive_pulse,\n",
    "    readout_pulse=readout_pulse,\n",
    "    num_averages=2**15,\n",
    "    excited=False\n",
    ")\n",
    "session.connect(do_emulation=False, reset_devices=True)\n",
    "results_e = []\n",
    "for avg in range(soft_avg):\n",
    "    gnd_ref_results = session.run(gnd_ref)\n",
    "    results_e.append(gnd_ref_results.get_data(\"raw_q0\"))\n",
    "show_pulse_sheet(\"exc_ref\", gnd_ref_results.compiled_experiment)\n",
    "\n",
    "results_g = results_e\n",
    "\n",
    "\n",
    "exc_ref = gen_exp_ref_trace(\n",
    "    transmon_list[0],\n",
    "    drive_pulse = qubit_drive_pulse,\n",
    "    readout_pulse=readout_pulse,\n",
    "    num_averages=2**15,\n",
    "    excited=True\n",
    ")\n",
    "session.connect(do_emulation=False, reset_devices=True)\n",
    "results_e = []\n",
    "for avg in range(soft_avg):\n",
    "    exc_ref_results = session.run(exc_ref)\n",
    "    results_e.append(exc_ref_results.get_data(\"raw_q0\"))\n",
    "show_pulse_sheet(\"exc_ref\", exc_ref_results.compiled_experiment)"
   ]
  },
  {
   "cell_type": "code",
   "execution_count": null,
   "id": "55f2a362",
   "metadata": {},
   "outputs": [],
   "source": [
    "g_raw = np.mean(results_g, axis = 0)\n",
    "e_raw = np.mean(results_e, axis = 0)\n",
    "\n",
    "plt.plot(np.real(e_raw),c='red', label='exc')\n",
    "plt.plot(np.real(g_raw),c='blue', label='gnd')\n",
    "plt.legend()\n",
    "plt.figure()\n",
    "\n",
    "plt.plot(np.imag(e_raw),'r')\n",
    "plt.plot(np.imag(g_raw),'b')"
   ]
  },
  {
   "cell_type": "code",
   "execution_count": null,
   "id": "fb884209",
   "metadata": {},
   "outputs": [],
   "source": [
    "e_raw = e_raw[:-(len(e_raw)%16)]    \n",
    "g_raw = g_raw[:-(len(g_raw)%16)]\n"
   ]
  },
  {
   "cell_type": "code",
   "execution_count": null,
   "id": "cafa6be3",
   "metadata": {},
   "outputs": [],
   "source": [
    "\n",
    "samples_kernel = np.conj(e_raw - g_raw)\n",
    "plt.figure()\n",
    "plt.plot(samples_kernel.real)\n",
    "plt.plot(samples_kernel.imag)"
   ]
  },
  {
   "cell_type": "code",
   "execution_count": null,
   "id": "65ed1013",
   "metadata": {},
   "outputs": [],
   "source": [
    "def exp_int(\n",
    "    qubit,\n",
    "    drive_pulse,\n",
    "    readout_pulse,\n",
    "    integration_kernel,\n",
    "    num_averages=2**8,\n",
    "    use_modulated_kernel=False,\n",
    "    acquisition_type=AcquisitionType.INTEGRATION,\n",
    "    threshold=0.0,\n",
    "):\n",
    "    # Create resonator spectroscopy experiment - uses only readout drive and signal acquisition\n",
    "    exp_int = Experiment(\n",
    "        uid=\"Exp_integration\",\n",
    "        signals=[\n",
    "            ExperimentSignal(f\"measure_{qubit.uid}\", map_to=qubit.signals[\"measure\"]),\n",
    "            ExperimentSignal(f\"acquire_{qubit.uid}\", map_to=qubit.signals[\"acquire\"]),\n",
    "            ExperimentSignal(f\"drive_{qubit.uid}\", map_to=qubit.signals[\"drive\"]),\n",
    "        ],\n",
    "    )\n",
    "    measure_pulse = readout_pulse(qubit)\n",
    "    print(f\"measure pulse length {measure_pulse.length}\")\n",
    "    try:\n",
    "        integration_kernel= integration_kernel(qubit)\n",
    "    except Exception as e:\n",
    "        print(e)\n",
    "        integration_kernel = integration_kernel\n",
    "    with exp_int.acquire_loop_rt(\n",
    "        uid=\"shots\",\n",
    "        count=num_averages,\n",
    "        averaging_mode=AveragingMode.SINGLE_SHOT,\n",
    "        #acquisition_type=AcquisitionType.RAW,\n",
    "        acquisition_type=acquisition_type,\n",
    "    ):\n",
    "        with exp_int.section(uid=\"gnd_measure\"):\n",
    "            exp_int.measure(\n",
    "                measure_signal=f\"measure_{qubit.uid}\",\n",
    "                measure_pulse=measure_pulse,\n",
    "                handle=f\"{qubit.uid}_int_g\",\n",
    "                acquire_signal=f\"acquire_{qubit.uid}\",\n",
    "                integration_kernel=integration_kernel,\n",
    "                reset_delay=qubit.parameters.user_defined[\"reset_delay_length\"],\n",
    "            )\n",
    "        with exp_int.section(uid=\"excitation\",play_after=\"gnd_measure\"):\n",
    "            exp_int.play(signal=f\"drive_{qubit.uid}\", pulse = drive_pulse(qubit))\n",
    "        with exp_int.section(uid=\"exc_measure\",play_after=\"excitation\"):\n",
    "            exp_int.measure(\n",
    "                measure_signal=f\"measure_{qubit.uid}\",\n",
    "                measure_pulse=measure_pulse,\n",
    "                handle=f\"{qubit.uid}_int_e\",\n",
    "                acquire_signal=f\"acquire_{qubit.uid}\",\n",
    "                integration_kernel=integration_kernel,\n",
    "                reset_delay=qubit.parameters.user_defined[\"reset_delay_length\"],\n",
    "            )\n",
    "    if not use_modulated_kernel:\n",
    "        cal = Calibration()\n",
    "\n",
    "        cal[f\"acquire_{qubit.uid}\"] = SignalCalibration(\n",
    "            oscillator=Oscillator(frequency=0),\n",
    "            threshold=threshold\n",
    "        )\n",
    "        exp_int.set_calibration(cal)\n",
    "    return exp_int\n"
   ]
  },
  {
   "cell_type": "code",
   "execution_count": null,
   "id": "f02b522c",
   "metadata": {},
   "outputs": [],
   "source": [
    "normalized_samples_kernel=samples_kernel/np.max(np.abs(samples_kernel))"
   ]
  },
  {
   "cell_type": "code",
   "execution_count": null,
   "id": "32916ef2",
   "metadata": {},
   "outputs": [],
   "source": [
    "np.abs(samples_kernel)"
   ]
  },
  {
   "cell_type": "code",
   "execution_count": null,
   "id": "187d02c4",
   "metadata": {},
   "outputs": [],
   "source": [
    "do_rotation = True\n",
    "modulate_kernel = False\n",
    "#modulate_kernel = True\n",
    "rotation_angle=-2.16\n",
    "int_kernel = pulse_library.sampled_pulse_complex(\n",
    "        normalized_samples_kernel * np.exp(1j * rotation_angle)\n",
    "    )\n",
    "#int_kernel = integration_kernel\n",
    "my_exp = exp_int(\n",
    "    transmon_list[0],\n",
    "    qubit_drive_pulse,\n",
    "    integration_kernel=int_kernel,\n",
    "    readout_pulse=readout_pulse,\n",
    "    num_averages=2**10,\n",
    "    use_modulated_kernel=modulate_kernel,\n",
    ")\n",
    "    \n",
    "session.connect(do_emulation=False, reset_devices=True)\n",
    "res_int = session.run(my_exp)\n"
   ]
  },
  {
   "cell_type": "code",
   "execution_count": null,
   "id": "768f72b8",
   "metadata": {},
   "outputs": [],
   "source": [
    "res0 = res_int.get_data(\"q0_int_g\")\n",
    "res1 = res_int.get_data(\"q0_int_e\")\n",
    "\n",
    "connect_vector = np.median(res1) - np.median(res0)\n",
    "if do_rotation:\n",
    "    rotation_angle = -np.angle(connect_vector)\n",
    "else:\n",
    "    rotation_angle = 0\n",
    "\n",
    "res0_rot = res0 * np.exp(1j * rotation_angle)\n",
    "res1_rot = res1 * np.exp(1j * rotation_angle)\n",
    "\n",
    "my_threshold = (np.median(res0_rot.real) + np.median(res1_rot.real)) / 2\n",
    "\n",
    "if do_rotation:\n",
    "    plt.scatter(res0.real, res0.imag, c=\"k\", alpha=0.1)\n",
    "    plt.scatter(res1.real, res1.imag, c=\"g\", alpha=0.1)\n",
    "\n",
    "plt.scatter(res0_rot.real, res0_rot.imag, c=\"b\")\n",
    "plt.scatter(res1_rot.real, res1_rot.imag, c=\"r\")\n",
    "plt.plot(\n",
    "    [my_threshold, my_threshold],\n",
    "    [\n",
    "        min([*res0_rot.imag, *res1_rot.imag, *res0.imag, *res1.imag]),\n",
    "        max([*res0_rot.imag, *res1_rot.imag, *res0.imag, *res1.imag]),\n",
    "    ],\n",
    "    \"r\",\n",
    ")\n",
    "if do_rotation:\n",
    "    print(f\"Using threshold = {my_threshold:e} and rotation angle: {rotation_angle:e}\")\n",
    "else:\n",
    "    print(f\"Using threshold={my_threshold:e}\")\n",
    "\n",
    "plt.figure()\n",
    "plt.hist(res0_rot.real, bins=100, alpha=0.5,color=\"blue\");\n",
    "plt.hist(res1_rot.real, bins=100, alpha=0.5,color=\"red\");\n",
    "\n",
    "plt.figure()\n",
    "plt.hist(res0_rot.imag, bins=100, alpha=0.5,color=\"blue\");\n",
    "plt.hist(res1_rot.imag, bins=100, alpha=0.5,color=\"red\");"
   ]
  },
  {
   "cell_type": "markdown",
   "id": "5e381073",
   "metadata": {},
   "source": [
    "# Calculate Fidelity"
   ]
  },
  {
   "cell_type": "code",
   "execution_count": null,
   "id": "032888cb",
   "metadata": {},
   "outputs": [],
   "source": [
    "def calculate_fidelity(res0_rot,res1_rot,threshold):\n",
    "    prepared_g_measured_g = np.count_nonzero(res0_rot.real < threshold)/len(res0_rot.real)\n",
    "    prepared_g_measured_e = np.count_nonzero(res0_rot.real > threshold)/len(res0_rot.real)\n",
    "    prepared_e_measured_g = np.count_nonzero(res1_rot.real < threshold)/len(res1_rot.real)\n",
    "    prepared_e_measured_e = np.count_nonzero(res1_rot.real > threshold)/len(res1_rot.real)\n",
    "\n",
    "    # plot heatmap with 4 squares\n",
    "    assignment_matrix =[ [prepared_g_measured_g,prepared_g_measured_e],[prepared_e_measured_g,prepared_e_measured_e]]\n",
    "\n",
    "    fig, ax = plt.subplots()\n",
    "    im = ax.imshow(assignment_matrix, cmap='Reds', vmin=0, vmax=1)\n",
    "    for i in range(2):\n",
    "        for j in range(2):\n",
    "            # add text annotations format with 2 decimals float\n",
    "            text = ax.text(j, i, f\"{assignment_matrix[i][j]:.2f}\",\n",
    "                        ha=\"center\", va=\"center\", color=\"black\", fontsize=16)\n",
    "    # plot colorbar to the right, label it with label with font size\n",
    "    cbar = ax.figure.colorbar(im, ax=ax,)\n",
    "    cbar.set_label( label=\"Assignment Probability\",size=16)\n",
    "\n",
    "    # set axis labels\n",
    "    ax.set_xticks(np.arange(2))\n",
    "    ax.set_yticks(np.arange(2))\n",
    "\n",
    "    ax.set_xticklabels([\"g\", \"e\"], fontsize=16)\n",
    "    ax.set_yticklabels([\"g\", \"e\"], fontsize=16)\n",
    "    ax.set_xlabel(\"Prepared State\",fontsize=16)\n",
    "\n",
    "    fidelity = (  1- prepared_g_measured_e - prepared_e_measured_g )\n",
    "    print(f\"ee:{prepared_e_measured_e}\")\n",
    "    print(f\"gg:{prepared_g_measured_g}\")\n",
    "    print(f\"eg:{prepared_e_measured_g}\")\n",
    "    print(f\"ge:{prepared_g_measured_e}\")\n",
    "    print(f\"Fidelity {fidelity}\")\n",
    "\n",
    "    ax.text(0.5, 2.0, f\"Average Fidelity {fidelity:.2f}\", size=16, ha=\"center\")\n",
    "    plt.tight_layout()\n",
    "\n",
    "    return fidelity"
   ]
  },
  {
   "cell_type": "code",
   "execution_count": null,
   "id": "b2b64581",
   "metadata": {},
   "outputs": [],
   "source": [
    "calculate_fidelity(res0_rot,res1_rot,my_threshold)"
   ]
  },
  {
   "cell_type": "markdown",
   "id": "f527a72e",
   "metadata": {},
   "source": [
    "# Discrimination exp"
   ]
  },
  {
   "cell_type": "code",
   "execution_count": null,
   "id": "2f9edf39",
   "metadata": {},
   "outputs": [],
   "source": [
    "disc_exp = exp_int(\n",
    "    transmon_list[0],\n",
    "    qubit_drive_pulse,\n",
    "    integration_kernel=int_kernel,\n",
    "    readout_pulse=readout_pulse,\n",
    "    num_averages=2**10,\n",
    "    use_modulated_kernel=False,\n",
    "    acquisition_type=AcquisitionType.DISCRIMINATION,\n",
    "    threshold=my_threshold,\n",
    ")\n",
    "    \n",
    "session.connect(do_emulation=False, reset_devices=True)\n",
    "res_disc = session.run(disc_exp)"
   ]
  },
  {
   "cell_type": "code",
   "execution_count": null,
   "id": "22bd24ab",
   "metadata": {},
   "outputs": [],
   "source": [
    "print(res_disc.acquired_results)\n",
    "res_dis_q0_g=res_disc.get_data(\"q0_int_g\")\n",
    "res_dis_q0_e=res_disc.get_data(\"q0_int_e\")\n",
    "print(np.mean(res_dis_q0_g))\n",
    "print(np.mean(res_dis_q0_e))"
   ]
  },
  {
   "cell_type": "markdown",
   "id": "db62dcd9",
   "metadata": {},
   "source": [
    "# Active reset"
   ]
  },
  {
   "cell_type": "code",
   "execution_count": null,
   "id": "479b0ca9",
   "metadata": {},
   "outputs": [],
   "source": [
    "def gen_active_reset_exp(\n",
    "    qubit,\n",
    "    integration_kernel,\n",
    "    prepare_pulse:callable,\n",
    "    pi_pulse: callable,\n",
    "    readout_pulse,\n",
    "    prepare_pulse_phase =0,\n",
    "    num_average=1024,\n",
    "    threshold=0,\n",
    "    num_rst=10,\n",
    "):\n",
    "    exp = Experiment(\n",
    "        signals=[\n",
    "            ExperimentSignal(f\"measure_{qubit.uid}\", map_to=qubit.signals[\"measure\"]),\n",
    "            ExperimentSignal(f\"acquire_{qubit.uid}\", map_to=qubit.signals[\"acquire\"]),\n",
    "            ExperimentSignal(f\"drive_{qubit.uid}\", map_to=qubit.signals[\"drive\"]),\n",
    "        ],\n",
    "    )\n",
    "\n",
    "    with exp.acquire_loop_rt(\n",
    "        count=num_average,\n",
    "        averaging_mode=AveragingMode.SINGLE_SHOT,\n",
    "        acquisition_type=AcquisitionType.DISCRIMINATION,\n",
    "    ):\n",
    "\n",
    "        # qubit state readout\n",
    "        with exp.section(uid=\"prepare\"):\n",
    "            exp.play(signal=f\"drive_{qubit.uid}\", pulse=prepare_pulse(qubit),amplitude=1, phase = prepare_pulse_phase)\n",
    "\n",
    "        for i in range(num_rst):\n",
    "            if i==0:\n",
    "                measure_playafter=\"prepare\"\n",
    "            else:\n",
    "                measure_playafter=f\"feedback_{i-1}\"\n",
    "            with exp.section(uid=f\"measure_{i}\",play_after=measure_playafter):\n",
    "                exp.measure(\n",
    "                    measure_signal=f\"measure_{qubit.uid}\",\n",
    "                    measure_pulse=readout_pulse(qubit),\n",
    "                    handle=f\"{qubit.uid}_bf_rst_{i}\",\n",
    "                    #handle=\"fb_measure\",\n",
    "                    acquire_signal=f\"acquire_{qubit.uid}\",\n",
    "                    integration_kernel=integration_kernel,\n",
    "                    reset_delay=500e-9,\n",
    "                )\n",
    "\n",
    "            with exp.match(\n",
    "                uid=f\"feedback_{i}\",\n",
    "                handle=f\"{qubit.uid}_bf_rst_{i}\",\n",
    "                #andle=\"fb_measure\",\n",
    "                play_after=f\"measure_{i}\",\n",
    "            ):\n",
    "                with exp.case(state=0):\n",
    "                    exp.play(signal=f\"drive_{qubit.uid}\", pulse=pi_pulse(qubit),amplitude=0)\n",
    "                with exp.case(state=1):\n",
    "                    # play x180 pulse\n",
    "                    exp.play(signal=f\"drive_{qubit.uid}\", pulse=pi_pulse(qubit),amplitude=1)\n",
    "        with exp.section(uid=f\"posmeasure\",play_after=f\"feedback_{num_rst-1}\"):\n",
    "            exp.measure(\n",
    "                measure_signal=f\"measure_{qubit.uid}\",\n",
    "                measure_pulse=readout_pulse(qubit),\n",
    "                handle=f\"{qubit.uid}_rst\",\n",
    "                acquire_signal=f\"acquire_{qubit.uid}\",\n",
    "                integration_kernel=integration_kernel,\n",
    "                reset_delay=qubit.parameters.user_defined[\"reset_delay_length\"],\n",
    "            )\n",
    "    cal= Calibration()\n",
    "    cal[f\"acquire_{qubit.uid}\"] = SignalCalibration(\n",
    "        oscillator=Oscillator(frequency=0),\n",
    "        port_delay=240e-9,\n",
    "        threshold=threshold,\n",
    "    )\n",
    "\n",
    "    exp.set_calibration(cal)\n",
    "\n",
    "    return exp"
   ]
  },
  {
   "cell_type": "code",
   "execution_count": null,
   "id": "6a69fb9e",
   "metadata": {},
   "outputs": [],
   "source": [
    "reset_exp = gen_active_reset_exp(\n",
    "    qubit=transmon_list[0],\n",
    "    prepare_pulse = qubit_drive_pulse,\n",
    "    pi_pulse=qubit_drive_pulse,\n",
    "    integration_kernel=int_kernel,\n",
    "    readout_pulse=readout_pulse,\n",
    "    threshold=my_threshold,\n",
    "    num_rst=3,\n",
    ")\n",
    "\n",
    "session.connect(do_emulation=emulate, reset_devices=True)\n",
    "res_reset = session.run(reset_exp)\n",
    "show_pulse_sheet(\"reset\", res_reset.compiled_experiment)\n",
    "res_bf_rst = np.real(res_reset.get_data(f\"q0_bf_rst_0\"))\n",
    "res_aft_rst = np.real(res_reset.get_data(\"q0_rst\"))\n",
    "print(np.count_nonzero(res_bf_rst)/len(res_bf_rst))\n",
    "print(np.count_nonzero(res_aft_rst)/len(res_aft_rst))"
   ]
  },
  {
   "cell_type": "markdown",
   "id": "be2f7d3e",
   "metadata": {},
   "source": [
    "# Active reset fidelity as a function of number of reset cycles"
   ]
  },
  {
   "cell_type": "code",
   "execution_count": null,
   "id": "c4378da4",
   "metadata": {},
   "outputs": [],
   "source": [
    "def qubit_gaussian_halfpi_pulse(qubit):\n",
    "    return pulse_library.gaussian(\n",
    "        uid=f\"gaussian_pulse_drive_{qubit.uid}\",\n",
    "        length=qubit.parameters.user_defined[\"pulse_length\"],\n",
    "        amplitude = qubit.parameters.user_defined[\"amplitude_pi2\"],\n",
    "    )\n",
    "\n",
    "def empty_pulse(qubit):\n",
    "    return pulse_library.gaussian(\n",
    "        length = qubit.parameters.user_defined[\"pulse_length\"],\n",
    "        amplitude=0,\n",
    "    )"
   ]
  },
  {
   "cell_type": "code",
   "execution_count": null,
   "id": "73499bd3",
   "metadata": {},
   "outputs": [],
   "source": [
    "num_avg_reset = 2**13\n",
    "repeat_experiments = 2**7"
   ]
  },
  {
   "cell_type": "code",
   "execution_count": null,
   "id": "60a293fc",
   "metadata": {},
   "outputs": [],
   "source": [
    "def repeat_exp(session, exp, n_experiments=2**7):\n",
    "    session.connect(do_emulation=emulate, reset_devices=True)\n",
    "    compiled_exp = session.compile(exp)\n",
    "    res = []\n",
    "    for i in range(n_experiments):\n",
    "        res.append(session.run(compiled_exp))\n",
    "        if i % 10 == 0:\n",
    "            print(f\"Finished {i+1} experiments\")\n",
    "    # stitch results together\n",
    "    # return combined results\n",
    "    \n",
    "    return res\n",
    "\n",
    "def evaluate_active_reset_results(res, filename=None):\n",
    "    mean_res = []\n",
    "    std_res = []\n",
    "    for i in range(num_rst):\n",
    "        rst = [res[j].get_data(f\"q0_bf_rst_{i}\") for j in range(len(res))]\n",
    "\n",
    "        mean_res.append(np.mean(rst))\n",
    "        std_res.append(np.std(rst))\n",
    "    sem_res = np.asarray(std_res)/np.sqrt(num_avg_reset)\n",
    "\n",
    "    if filename is not None:\n",
    "        with open(filename, 'wb') as f:\n",
    "            pickle.dump((mean_res, std_res, sem_res), f)\n",
    "\n",
    "    return mean_res, std_res, sem_res\n"
   ]
  },
  {
   "cell_type": "code",
   "execution_count": null,
   "id": "a1ba37ed",
   "metadata": {},
   "outputs": [],
   "source": [
    "res_rst_e=[]\n",
    "std_res_rst_e=[]\n",
    "session.connect(do_emulation=emulate, reset_devices=True)\n",
    "num_rst = 50\n",
    "reset_exp_e = gen_active_reset_exp(\n",
    "    qubit=transmon_list[0],\n",
    "    prepare_pulse = qubit_drive_pulse,\n",
    "    pi_pulse=qubit_drive_pulse,\n",
    "    integration_kernel=int_kernel,\n",
    "    readout_pulse=readout_pulse,\n",
    "    threshold=my_threshold,\n",
    "    num_rst=num_rst,\n",
    "    num_average=num_avg_reset,\n",
    ")\n",
    "    \n",
    "# res_reset_exp_e = session.run(reset_exp_e)\n",
    "# for i in range(num_rst):\n",
    "#     rst=np.real(res_reset_exp_e.get_data(f\"q0_bf_rst_{i}\"))\n",
    "#     #aft_rst=np.real(res_reset.get_data(\"q0_rst\"))\n",
    "#     #res_rst_e.append(np.count_nonzero(rst)/len(rst))\n",
    "#     res_rst_e.append(np.mean(rst))\n",
    "#     std_res_rst_e.append(np.std(rst))\n",
    "\n",
    "# sem_res_rst_e = np.asarray(std_res_rst_e)/np.sqrt(num_avg_reset) \n",
    "res_rst_e, std_res_rst_e, sem_res_rst_e = evaluate_active_reset_results(repeat_exp(session, reset_exp_e, repeat_experiments), filename=\"res_rst_e.pkl\")\n",
    "\n"
   ]
  },
  {
   "cell_type": "code",
   "execution_count": null,
   "id": "de93ce64",
   "metadata": {},
   "outputs": [],
   "source": [
    "res_rst_g=[]\n",
    "std_res_rst_g=[]\n",
    "session.connect(do_emulation=emulate, reset_devices=True)\n",
    "reset_exp_g = gen_active_reset_exp(\n",
    "    qubit=transmon_list[0],\n",
    "    prepare_pulse = empty_pulse,\n",
    "    pi_pulse=qubit_drive_pulse,\n",
    "    integration_kernel=int_kernel,\n",
    "    readout_pulse=readout_pulse,\n",
    "    threshold=my_threshold,\n",
    "    num_rst=num_rst,\n",
    "    num_average=num_avg_reset,\n",
    ")\n",
    "    \n",
    "# res_reset_exp_g = session.run(reset_exp_g)\n",
    "# for i in range(num_rst):\n",
    "#     rst=np.real(res_reset_exp_g.get_data(f\"q0_bf_rst_{i}\"))\n",
    "#     #aft_rst=np.real(res_reset.get_data(\"q0_rst\"))\n",
    "#     #res_rst_g.append(np.count_nonzero(rst)/len(rst))\n",
    "#     res_rst_g.append(np.mean(rst))\n",
    "#     std_res_rst_g.append(np.std(rst))\n",
    "\n",
    "# sem_res_rst_g = np.asarray(std_res_rst_g)/np.sqrt(num_avg_reset) \n",
    "\n",
    "res_rst_g, std_res_rst_g, sem_res_rst_g = evaluate_active_reset_results(repeat_exp(session, reset_exp_g, repeat_experiments), filename=\"res_rst_g.pkl\")\n"
   ]
  },
  {
   "cell_type": "code",
   "execution_count": null,
   "id": "77c91d5a",
   "metadata": {},
   "outputs": [],
   "source": [
    "res_rst_plus=[]\n",
    "std_res_rst_plus=[]\n",
    "session.connect(do_emulation=emulate, reset_devices=True)\n",
    "reset_exp_plus = gen_active_reset_exp(\n",
    "    qubit=transmon_list[0],\n",
    "    prepare_pulse = qubit_gaussian_halfpi_pulse,\n",
    "    pi_pulse=qubit_drive_pulse,\n",
    "    integration_kernel=int_kernel,\n",
    "    readout_pulse=readout_pulse,\n",
    "    threshold=my_threshold,\n",
    "    num_rst=num_rst,\n",
    "    num_average=num_avg_reset,\n",
    ")\n",
    "    \n",
    "# res_reset_exp_plus = session.run(reset_exp_plus)\n",
    "# for i in range(num_rst):\n",
    "#     rst=np.real(res_reset_exp_plus.get_data(f\"q0_bf_rst_{i}\"))\n",
    "#     res_rst_plus.append(np.mean(rst))\n",
    "#     std_res_rst_plus.append(np.std(rst))\n",
    "\n",
    "# sem_res_rst_plus = np.asarray(std_res_rst_plus)/np.sqrt(num_avg_reset)\n",
    "\n",
    "res_rst_plus, std_res_rst_plus, sem_res_rst_plus = evaluate_active_reset_results(repeat_exp(session, reset_exp_plus, repeat_experiments), filename=\"res_rst_plus.pkl\")"
   ]
  },
  {
   "cell_type": "code",
   "execution_count": null,
   "id": "e8129fb3",
   "metadata": {},
   "outputs": [],
   "source": [
    "res_rst_minus=[]\n",
    "std_res_rst_minus=[]\n",
    "session.connect(do_emulation=emulate, reset_devices=True)\n",
    "reset_exp_minus = gen_active_reset_exp(\n",
    "    qubit=transmon_list[0],\n",
    "    prepare_pulse = qubit_gaussian_halfpi_pulse,\n",
    "    pi_pulse=qubit_drive_pulse,\n",
    "    integration_kernel=int_kernel,\n",
    "    readout_pulse=readout_pulse,\n",
    "    threshold=my_threshold,\n",
    "    num_rst=num_rst,\n",
    "    num_average=num_avg_reset,\n",
    "    prepare_pulse_phase=np.pi,\n",
    ")\n",
    "    \n",
    "# res_reset_exp_minus = session.run(reset_exp_minus)\n",
    "# for i in range(num_rst):\n",
    "#     rst=np.real(res_reset_exp_minus.get_data(f\"q0_bf_rst_{i}\"))\n",
    "#     res_rst_minus.append(np.mean(rst))\n",
    "#     std_res_rst_minus.append(np.std(rst))\n",
    "\n",
    "# sem_res_rst_minus = np.asarray(std_res_rst_minus)/np.sqrt(num_avg_reset)\n",
    "\n",
    "res_rst_minus, std_res_rst_minus, sem_res_rst_minus = evaluate_active_reset_results(repeat_exp(session, reset_exp_minus, repeat_experiments), filename=\"res_rst_minus.pkl\")"
   ]
  },
  {
   "cell_type": "code",
   "execution_count": null,
   "id": "a498d8fc",
   "metadata": {},
   "outputs": [],
   "source": [
    "res_rst_plus_i=[]\n",
    "std_res_rst_plus_i=[]\n",
    "session.connect(do_emulation=emulate, reset_devices=True)\n",
    "reset_exp_plus_i = gen_active_reset_exp(\n",
    "    qubit=transmon_list[0],\n",
    "    prepare_pulse = qubit_gaussian_halfpi_pulse,\n",
    "    pi_pulse=qubit_drive_pulse,\n",
    "    integration_kernel=int_kernel,\n",
    "    readout_pulse=readout_pulse,\n",
    "    threshold=my_threshold,\n",
    "    num_rst=num_rst,\n",
    "    num_average=num_avg_reset,\n",
    "    prepare_pulse_phase=np.pi/2,\n",
    ")\n",
    "    \n",
    "# res_reset_exp_plus_i = session.run(reset_exp_plus_i)\n",
    "# for i in range(num_rst):\n",
    "#     rst=np.real(res_reset_exp_plus_i.get_data(f\"q0_bf_rst_{i}\"))\n",
    "#     res_rst_plus_i.append(np.mean(rst))\n",
    "#     std_res_rst_plus_i.append(np.std(rst))\n",
    "\n",
    "# sem_res_rst_plus_i = np.asarray(std_res_rst_plus_i)/np.sqrt(num_avg_reset)\n",
    "\n",
    "res_rst_plus_i, std_res_rst_plus_i, sem_res_rst_plus_i = evaluate_active_reset_results(repeat_exp(session, reset_exp_plus_i, repeat_experiments), filename=\"res_rst_plus_i.pkl\")"
   ]
  },
  {
   "cell_type": "code",
   "execution_count": null,
   "id": "a1df0737",
   "metadata": {},
   "outputs": [],
   "source": [
    "res_rst_minus_i=[]\n",
    "std_res_rst_minus_i=[]\n",
    "session.connect(do_emulation=emulate, reset_devices=True)\n",
    "reset_exp_minus_i = gen_active_reset_exp(\n",
    "    qubit=transmon_list[0],\n",
    "    prepare_pulse = qubit_gaussian_halfpi_pulse,\n",
    "    pi_pulse=qubit_drive_pulse,\n",
    "    integration_kernel=int_kernel,\n",
    "    readout_pulse=readout_pulse,\n",
    "    threshold=my_threshold,\n",
    "    num_rst=num_rst,\n",
    "    num_average=num_avg_reset,\n",
    "    prepare_pulse_phase= -np.pi/2,\n",
    ")\n",
    "    \n",
    "# res_reset_exp_minus_i = session.run(reset_exp_minus_i)\n",
    "# for i in range(num_rst):\n",
    "#     rst=np.real(res_reset_exp_minus_i.get_data(f\"q0_bf_rst_{i}\"))\n",
    "#     res_rst_minus_i.append(np.mean(rst))\n",
    "#     std_res_rst_minus_i.append(np.std(rst))\n",
    "\n",
    "# sem_res_rst_minus_i = np.asarray(std_res_rst_minus_i)/np.sqrt(num_avg_reset)\n",
    "\n",
    "res_rst_minus_i, std_res_rst_minus_i, sem_res_rst_minus_i = evaluate_active_reset_results(repeat_exp(session, reset_exp_minus_i, repeat_experiments), filename=\"res_rst_minus_i.pkl\")"
   ]
  },
  {
   "cell_type": "code",
   "execution_count": null,
   "id": "7a5c5660",
   "metadata": {},
   "outputs": [],
   "source": [
    "num_rst_ite = np.arange(0,len(res_rst_e))\n",
    "# plot log of population\n",
    "plt.figure()\n",
    "\n",
    "# plot semlogy with error bar\n",
    "plt.errorbar(num_rst_ite,res_rst_e,yerr=sem_res_rst_e,fmt='o',label='exc',color=orange_color_zi)\n",
    "plt.errorbar(num_rst_ite,res_rst_g,yerr=sem_res_rst_g,fmt='o',label='gnd',color=blue_color_zi)\n",
    "plt.errorbar(num_rst_ite,res_rst_plus,yerr=sem_res_rst_plus,fmt='o',label='plus',color=dark_blue_color_zi)\n",
    "plt.errorbar(num_rst_ite,res_rst_minus,yerr=sem_res_rst_minus,fmt='o',label='minus',color=\"red\")\n",
    "plt.errorbar(num_rst_ite,res_rst_plus_i,yerr=sem_res_rst_plus_i,fmt='o',label='plus_i',color=\"brown\")\n",
    "plt.errorbar(num_rst_ite,res_rst_minus_i,yerr=sem_res_rst_minus_i,fmt='o',label='minus_i',color=\"green\")\n",
    "#plt.semilogy(num_rst_ite,res_rst_e,'-o',label='exc',color=orange_color_zi)\n",
    "#plt.semilogy(num_rst_ite,res_rst_g,'-o',label='gnd',color=blue_color_zi)\n",
    "#plt.semilogy(num_rst_ite,res_rst_plus,'-o',label='plus',color=dark_blue_color_zi)\n",
    "#plt.semilogy(num_rst_ite,res_rst_minus,'-o',label='minus',color=\"red\")\n",
    "#plt.semilogy(num_rst_ite,res_rst_plus_i,'-o',label='plus_i',color=\"brown\")\n",
    "#plt.semilogy(num_rst_ite,res_rst_minus_i,'-o',label='minus_i',color=\"green\")\n",
    "\n",
    "plt.xlabel('Reset iteration')\n",
    "plt.ylabel('Excited state population')\n",
    "plt.yscale('log')\n",
    "plt.ylim(5e-5, 2e0)\n",
    "plt.legend()"
   ]
  },
  {
   "cell_type": "code",
   "execution_count": null,
   "id": "ab176b45",
   "metadata": {},
   "outputs": [],
   "source": [
    "def t1_optimized_kernel(\n",
    "    qubits,\n",
    "    drive_pulse,\n",
    "    integration_kernel,\n",
    "    readout_pulse,\n",
    "    delay_sweep,\n",
    "    num_averages=2**10,\n",
    "    acquisition_type = AcquisitionType.DISCRIMINATION,\n",
    "    threshold=0,\n",
    "):\n",
    "    exp_t1 = Experiment(\n",
    "        uid=\"T1 Exp\",\n",
    "        signals=flatten(\n",
    "            [\n",
    "                [\n",
    "                    ExperimentSignal(\n",
    "                        f\"drive_{qubit.uid}\", map_to=qubit.signals[\"drive\"]\n",
    "                    ),\n",
    "                    ExperimentSignal(\n",
    "                        f\"measure_{qubit.uid}\", map_to=qubit.signals[\"measure\"]\n",
    "                    ),\n",
    "                    ExperimentSignal(\n",
    "                        f\"acquire_{qubit.uid}\", map_to=qubit.signals[\"acquire\"]\n",
    "                    ),\n",
    "                ]\n",
    "                for qubit in qubits\n",
    "            ]\n",
    "        ),\n",
    "    )\n",
    "\n",
    "    ## define Ramsey experiment pulse sequence\n",
    "    # outer loop - real-time, cyclic averaging\n",
    "    with exp_t1.acquire_loop_rt(\n",
    "        uid=\"t1_shots\",\n",
    "        count=num_averages,\n",
    "        averaging_mode=AveragingMode.SINGLE_SHOT,\n",
    "        acquisition_type=acquisition_type,\n",
    "        repetition_mode=RepetitionMode.AUTO,\n",
    "    ):\n",
    "        # inner loop - real time sweep of T1 time delays\n",
    "        with exp_t1.sweep(\n",
    "            uid=\"t1_delay_sweep\",\n",
    "            parameter=delay_sweep,\n",
    "            alignment=SectionAlignment.RIGHT,\n",
    "        ):\n",
    "            for qubit in qubits:\n",
    "                # play qubit excitation pulse - pulse amplitude is swept\n",
    "                with exp_t1.section(\n",
    "                    uid=f\"{qubit.uid}_excitation\", alignment=SectionAlignment.RIGHT\n",
    "                ):\n",
    "                    exp_t1.play(signal=f\"drive_{qubit.uid}\", pulse=drive_pulse(qubit))\n",
    "                    exp_t1.delay(signal=f\"drive_{qubit.uid}\", time=delay_sweep)\n",
    "                # readout pulse and data acquisition\n",
    "                # measurement\n",
    "                with exp_t1.section(\n",
    "                    uid=f\"readout_{qubit.uid}\", play_after=f\"{qubit.uid}_excitation\"\n",
    "                ):\n",
    "                    exp_t1.measure(\n",
    "                        measure_signal=f\"measure_{qubit.uid}\",\n",
    "                        measure_pulse=readout_pulse(qubit),\n",
    "                        handle=f\"{qubit.uid}_t1\",\n",
    "                        acquire_signal=f\"acquire_{qubit.uid}\",\n",
    "                        integration_kernel=integration_kernel,\n",
    "                        reset_delay=qubit.parameters.user_defined[\"reset_delay_length\"],\n",
    "                    )\n",
    "    cal= Calibration()\n",
    "    cal[f\"acquire_{qubit.uid}\"] = SignalCalibration(\n",
    "        oscillator=Oscillator(frequency=0),\n",
    "        port_delay=240e-9,\n",
    "        threshold=threshold,\n",
    "    )\n",
    "\n",
    "    exp_t1.set_calibration(cal)\n",
    "\n",
    "    return exp_t1"
   ]
  },
  {
   "cell_type": "code",
   "execution_count": null,
   "id": "3d16be66",
   "metadata": {},
   "outputs": [],
   "source": [
    "t1_meas2 = t1_optimized_kernel(\n",
    "    qubits=[transmon_list[0]],\n",
    "    drive_pulse=qubit_drive_pulse,\n",
    "    integration_kernel=int_kernel,\n",
    "    readout_pulse=readout_pulse,\n",
    "    delay_sweep=delay_sweep,\n",
    "    num_averages=num_avg_reset,\n",
    "    threshold=.3 # my_threshold,\n",
    ")"
   ]
  },
  {
   "cell_type": "code",
   "execution_count": null,
   "id": "0cbad7a5",
   "metadata": {},
   "outputs": [],
   "source": [
    "#delay_sweep=LinearSweepParameter(uid=\"delay_sweep\", start=1e-10, stop=100e-6, count=51)\n",
    "delay_sweep_cnt = 12\n",
    "delay_sweep_cnt_lin = 50\n",
    "time_step = 1.7e-6\n",
    "stop = (delay_sweep_cnt_lin-1)*time_step\n",
    "delay_sweep_lin = LinearSweepParameter(start=0, stop=stop, count=delay_sweep_cnt_lin)\n",
    "delay_sweep_array = time_step * np.fromfunction(lambda i, j: 2**j, (1, delay_sweep_cnt), dtype=float)[0]\n",
    "delay_sweep = SweepParameter(values = delay_sweep_array)\n",
    "\n",
    "t1_meas = t1_optimized_kernel(\n",
    "    qubits=[transmon_list[0]],\n",
    "    drive_pulse=qubit_drive_pulse,\n",
    "    integration_kernel=int_kernel,\n",
    "    readout_pulse=readout_pulse,\n",
    "    delay_sweep=delay_sweep,\n",
    "    num_averages=num_avg_reset,\n",
    "    threshold=my_threshold,\n",
    ")\n",
    "\n",
    "compiled_t1 = session.compile(t1_meas)\n",
    "session.connect(do_emulation=emulate, reset_devices=True)\n",
    "t1_res = session.run(compiled_t1)"
   ]
  },
  {
   "cell_type": "code",
   "execution_count": null,
   "id": "5363b1ed",
   "metadata": {},
   "outputs": [],
   "source": [
    "t1_data = np.real(np.transpose(t1_res.get_data(\"q0_t1\")))\n",
    "t1_mean = [np.mean(i) for i in t1_data]\n",
    "t1_std = [np.std(i) for i in t1_data]\n",
    "t1_sem = [i/np.sqrt(num_avg_reset) for i in t1_std]"
   ]
  },
  {
   "cell_type": "code",
   "execution_count": null,
   "id": "b1216ce7",
   "metadata": {},
   "outputs": [],
   "source": [
    "#t1_res.compiled_experiment.experiment.sections[0].children[0].children[0].children[0].pulse.amplitude = float(t1_res.compiled_experiment.experiment.sections[0].children[0].children[0].children[0].pulse.amplitude)\n",
    "#t1_res.experiment.sections[0].children[0].children[0].children[0].pulse.amplitude = float(t1_res.experiment.sections[0].children[0].children[0].children[0].pulse.amplitude)"
   ]
  },
  {
   "cell_type": "code",
   "execution_count": null,
   "id": "539c91b7",
   "metadata": {},
   "outputs": [],
   "source": [
    "# Create samples for logarithmic post selection of active qubit reset data\n",
    "log_sampling = np.logspace(0,np.log10(len(plot_delay_lin)-1), 15, endpoint=True)\n",
    "log_sampling = [int(np.round(i)) for i in log_sampling]\n",
    "log_sampling"
   ]
  },
  {
   "cell_type": "code",
   "execution_count": null,
   "id": "52bdd672",
   "metadata": {},
   "outputs": [],
   "source": [
    "res_rst_g=[]\n",
    "std_res_rst_g=[]"
   ]
  },
  {
   "cell_type": "code",
   "execution_count": null,
   "id": "195ef1a1",
   "metadata": {},
   "outputs": [],
   "source": [
    "\n",
    "\n",
    "plot_delay_lin=delay_sweep_lin.values[:num_rst]*1e6\n",
    "plot_delay=delay_sweep.values[:num_rst]*1e6\n",
    "\n",
    "res_rst_e = np.array(res_rst_e)\n",
    "\n",
    "plt.figure()\n",
    "ax = plt.axes()\n",
    "ax.set_xscale(\"log\")\n",
    "ax.set_yscale(\"log\")\n",
    "# plt.plot(plot_delay,np.real(t1_data[:num_rst]),\"-o\",color=orange_color_zi,label='passive reset')\n",
    "#plt.plot(plot_delay, t1_mean, \".\", color=orange_color_zi)\n",
    "plt.errorbar(plot_delay, t1_mean, t1_sem,fmt='.',color=orange_color_zi,label='passive reset')\n",
    "#plt.plot(plot_delay_lin[log_sampling],np.real(res_rst_e[log_sampling]),'.',color=blue_color_zi)\n",
    "plt.errorbar(plot_delay_lin[log_sampling],np.real(res_rst_e[log_sampling]),np.real(sem_res_rst_e[log_sampling]),fmt='.',color=blue_color_zi,label='active reset')\n",
    "plt.xlabel(\"delay ($\\mu$s)\")\n",
    "plt.ylabel(\"Excited state population\")\n",
    "plt.legend()\n",
    "plt.ylim(1e-4, 1e0)\n",
    "#plt.axvline(x=t1*1e6, color='gray', linestyle='--', linewidth=2)\n",
    "#plt.text(x=2*t1*1e6,y= max(y)/2,s=f\"T1= {t1*1e6:.3f}us.\")"
   ]
  },
  {
   "cell_type": "markdown",
   "id": "42c90f6c",
   "metadata": {},
   "source": [
    "#### TEMPORARY - Linear plot of data from pickle file + plot digitizer"
   ]
  },
  {
   "cell_type": "code",
   "execution_count": null,
   "id": "a485eac3",
   "metadata": {},
   "outputs": [],
   "source": [
    "import pickle\n",
    "res_rst_e = pickle.load(open(\"res_rst_e.pkl\", \"rb\"))"
   ]
  },
  {
   "cell_type": "code",
   "execution_count": null,
   "id": "a5595f40",
   "metadata": {},
   "outputs": [],
   "source": [
    "t1_data = np.array([0.82496, 0.76385, 0.67189, 0.49385, 0.28814, 0.10594, 0.02362, 0.01094, 0.01122, 0.01013, 0.01094, 0.01244])\n",
    "t1_time = np.array([1.47946, 2.98893, 6.09247, 12.30853, 25.08906, 51.14028, 103.31782, 210.59779, 425.46708, 867.25051, 1767.75799, 3571.37381])*1e-6"
   ]
  },
  {
   "cell_type": "code",
   "execution_count": null,
   "id": "de8742de",
   "metadata": {},
   "outputs": [],
   "source": [
    "delay_sweep_cnt_lin = 50\n",
    "time_step = 1.7e-6\n",
    "\n",
    "res_rst_e_time = np.linspace(1, 50)*time_step"
   ]
  },
  {
   "cell_type": "code",
   "execution_count": null,
   "id": "1ee2c2c3",
   "metadata": {},
   "outputs": [],
   "source": [
    "res_rst_e_data = res_rst_e[0]\n",
    "res_rst_e_sem = res_rst_e[2]\n",
    "\n",
    "plt.errorbar(x = 1e6*res_rst_e_time, y = res_rst_e_data, yerr = res_rst_e_sem,color=blue_color_zi,label='active reset', marker = '.', linestyle = '--')\n",
    "plt.plot(1e6*t1_time, t1_data,color=orange_color_zi,label='passive reset', marker = '.', linestyle = '--')\n",
    "plt.xlim(-10, 450)\n",
    "plt.yscale('log')\n",
    "plt.xlabel(r'Time ($\\mu$s)')\n",
    "plt.ylabel('Excited state population')\n",
    "plt.legend();"
   ]
  },
  {
   "cell_type": "code",
   "execution_count": null,
   "id": "b4f304cf",
   "metadata": {},
   "outputs": [],
   "source": [
    "evaluate_T1(t1_res, \"q0_t1\")\n",
    "#plt.plot(t1_res.acquired_results[\"q0_t1\"].data.real,'-o')"
   ]
  },
  {
   "cell_type": "code",
   "execution_count": null,
   "id": "f900ac62",
   "metadata": {},
   "outputs": [],
   "source": []
  }
 ],
 "metadata": {
  "jupytext": {
   "cell_metadata_filter": "-all",
   "main_language": "python",
   "notebook_metadata_filter": "-all"
  },
  "kernelspec": {
   "display_name": "qccs_venv",
   "language": "python",
   "name": "python3"
  },
  "language_info": {
   "codemirror_mode": {
    "name": "ipython",
    "version": 3
   },
   "file_extension": ".py",
   "mimetype": "text/x-python",
   "name": "python",
   "nbconvert_exporter": "python",
   "pygments_lexer": "ipython3",
   "version": "3.11.5"
  }
 },
 "nbformat": 4,
 "nbformat_minor": 5
}
