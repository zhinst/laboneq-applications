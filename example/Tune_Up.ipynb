{
 "cells": [
  {
   "cell_type": "markdown",
   "metadata": {},
   "source": [
    "# Reference Tune-up\n",
    "\n",
    "This notebook shall evolve into a reference tune-up notebook. Currently, it is to showcase the new experiment library and the related helper files and functions."
   ]
  },
  {
   "cell_type": "code",
   "execution_count": 9,
   "metadata": {},
   "outputs": [],
   "source": [
    "# Convenience Import for all LabOne Q Functionality\n",
    "from laboneq.simple import *\n",
    "\n",
    "import experiment_library.experiments.experiment_library as experiments\n",
    "from experiment_library.calibration_helpers import load_qubit_parameters, update_qubit_parameters_and_calibration"
   ]
  },
  {
   "cell_type": "code",
   "execution_count": 10,
   "metadata": {},
   "outputs": [],
   "source": [
    "emulate = True"
   ]
  },
  {
   "cell_type": "code",
   "execution_count": null,
   "metadata": {},
   "outputs": [],
   "source": [
    "from textwrap import dedent\n",
    "\n",
    "descriptor = dedent(\n",
    "    \"\"\"\\\n",
    "instruments:\n",
    "  SHFQC:\n",
    "    - address: dev12250\n",
    "      uid: device_shfqc\n",
    "connections:\n",
    "\n",
    "  device_shfqc:\n",
    "    - iq_signal: q0/measure_line\n",
    "      ports: QACHANNELS/0/OUTPUT\n",
    "    - acquire_signal: q0/acquire_line\n",
    "      ports: QACHANNELS/0/INPUT\n",
    "      \n",
    "    - iq_signal: q0/drive_line\n",
    "      ports: SGCHANNELS/3/OUTPUT\n",
    "\"\"\"\n",
    ")\n",
    "demo_setup = DeviceSetup.from_descriptor(\n",
    "    descriptor, server_host=\"localhost\", server_port=8004, setup_name=\"MySetup\"\n",
    ")"
   ]
  },
  {
   "cell_type": "markdown",
   "metadata": {},
   "source": [
    "## Apply Calibration from File"
   ]
  },
  {
   "cell_type": "code",
   "execution_count": 11,
   "metadata": {},
   "outputs": [],
   "source": [
    "qubit_parameters = load_qubit_parameters()\n",
    "\n",
    "qubit_parameters[\"local_oscillators\"][\"readout_lo\"][\"value\"] = 7.0e9\n",
    "\n",
    "transmon_list = update_qubit_parameters_and_calibration(\n",
    "    qubit_parameters, device_setup=demo_setup, database = None\n",
    ")"
   ]
  },
  {
   "cell_type": "markdown",
   "metadata": {},
   "source": [
    "### Create and Connect to a QCCS Session \n",
    "\n",
    "Establishes the connection to the instruments and readies them for experiments\n"
   ]
  },
  {
   "cell_type": "code",
   "execution_count": 12,
   "metadata": {},
   "outputs": [
    {
     "name": "stdout",
     "output_type": "stream",
     "text": [
      "[2023.10.10 20:05:04.261] INFO    Logging initialized from [Default inline config in laboneq.controller.laboneq_logging] logdir is c:\\Users\\andreasm\\Downloads\\laboneq-library\\example\\laboneq_output\\log\n",
      "[2023.10.10 20:05:04.265] INFO    VERSION: laboneq 2.16.0\n",
      "[2023.10.10 20:05:04.266] INFO    Connecting to data server at localhost:8004\n",
      "[2023.10.10 20:05:04.267] INFO    Connected to Zurich Instruments LabOne Data Server version 23.06 at localhost:8004\n",
      "[2023.10.10 20:05:04.269] INFO    Configuring the device setup\n",
      "[2023.10.10 20:05:04.272] INFO    The device setup is configured\n"
     ]
    },
    {
     "data": {
      "text/plain": [
       "<laboneq.dsl.session.ConnectionState at 0x281822bea90>"
      ]
     },
     "execution_count": 12,
     "metadata": {},
     "output_type": "execute_result"
    }
   ],
   "source": [
    "# create and connect to a session \n",
    "session = Session(device_setup=demo_setup)\n",
    "session.connect(do_emulation=emulate, reset_devices=True)"
   ]
  },
  {
   "cell_type": "markdown",
   "metadata": {},
   "source": [
    "# Tune-up"
   ]
  },
  {
   "cell_type": "markdown",
   "metadata": {},
   "source": [
    "## Amplitude Rabi Experiment"
   ]
  },
  {
   "cell_type": "code",
   "execution_count": 13,
   "metadata": {},
   "outputs": [],
   "source": [
    "amplitude_sweep = LinearSweepParameter(start=0, stop=1, count=5)\n",
    "num_averages = 2**10\n",
    "cal_trace = False\n",
    "\n",
    "amplitude_rabi = experiments.amplitude_rabi_single(\n",
    "                            qubit=transmon_list[0], \n",
    "                            amplitude_sweep=amplitude_sweep,\n",
    "                            num_averages = num_averages,\n",
    "                            cal_trace = cal_trace )"
   ]
  },
  {
   "cell_type": "code",
   "execution_count": null,
   "metadata": {},
   "outputs": [],
   "source": [
    "res = session.run(amplitude_rabi)"
   ]
  },
  {
   "cell_type": "code",
   "execution_count": null,
   "metadata": {},
   "outputs": [],
   "source": [
    "show_pulse_sheet(\"Rabi\", res.compiled_experiment)"
   ]
  },
  {
   "cell_type": "code",
   "execution_count": null,
   "metadata": {},
   "outputs": [],
   "source": []
  }
 ],
 "metadata": {
  "kernelspec": {
   "display_name": "testenv",
   "language": "python",
   "name": "python3"
  },
  "language_info": {
   "codemirror_mode": {
    "name": "ipython",
    "version": 3
   },
   "file_extension": ".py",
   "mimetype": "text/x-python",
   "name": "python",
   "nbconvert_exporter": "python",
   "pygments_lexer": "ipython3",
   "version": "3.11.5"
  },
  "orig_nbformat": 4
 },
 "nbformat": 4,
 "nbformat_minor": 2
}
