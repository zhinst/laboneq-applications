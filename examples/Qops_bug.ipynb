{
 "cells": [
  {
   "cell_type": "code",
   "execution_count": 1,
   "id": "948faa3b-8c15-433d-997e-1d8c7a4d7cf1",
   "metadata": {},
   "outputs": [],
   "source": [
    "import sys\n",
    "sys.path.insert(0, \"..\")\n",
    "\n",
    "from laboneq.simple import *\n",
    "\n",
    "from tests.helpers.device_setups import single_tunable_transmon_setup, single_tunable_transmon_qubits\n",
    "\n",
    "from laboneq_applications.core.quantum_operations import create_pulse\n",
    "from laboneq_applications.qpu_types.tunable_transmon import TunableTransmonQubit\n",
    "from laboneq.dsl.parameter import SweepParameter\n",
    "import numpy as np\n",
    "\n",
    "from laboneq_applications import dsl\n",
    "from laboneq_applications.core.build_experiment import qubit_experiment\n",
    "from laboneq_applications.core.quantum_operations import QuantumOperations\n",
    "from laboneq_applications.qpu_types.tunable_transmon import (\n",
    "    TunableTransmonOperations,\n",
    "    TunableTransmonQubit\n",
    ")\n",
    "from laboneq_applications.workflow import task"
   ]
  },
  {
   "cell_type": "code",
   "execution_count": 7,
   "id": "071f3570-ffdb-4c0c-8559-1cb6e846845b",
   "metadata": {},
   "outputs": [],
   "source": [
    "# setup is an ordinary LabOne Q DeviceSetup:\n",
    "setup = single_tunable_transmon_setup()\n",
    "# qubits is a list of LabOne Q Application Library TunableTransmonQubit qubits:\n",
    "qubits = single_tunable_transmon_qubits(setup)"
   ]
  },
  {
   "cell_type": "code",
   "execution_count": null,
   "id": "2a7f36f8-878e-480e-a864-e4a8d54c2abc",
   "metadata": {},
   "outputs": [],
   "source": []
  },
  {
   "cell_type": "code",
   "execution_count": 8,
   "id": "d1ed8435-f6cd-446f-b3d5-a6fb1715f64d",
   "metadata": {},
   "outputs": [],
   "source": [
    "def myx180(q : TunableTransmonQubit, \n",
    "           number_of_pulses : int | SweepParameter,\n",
    "           transition : str | None = 'ge'\n",
    "           ):\n",
    "    \"\"\"Plays N times x180-like pulses with certain calibration \"\"\"\n",
    "    \n",
    "    drive_line, param = q.transition_parameters(transition)\n",
    "    \n",
    "    pulse = create_pulse(param[\"pulse\"], name=\"my-own-pulse\") # no ovverrides\n",
    "    \n",
    "    if (isinstance(number_of_pulses, int)):\n",
    "        for i in range(number_of_pulses):\n",
    "            dsl.play(\n",
    "                q.signals[\"drive\"],\n",
    "                pulse=pulse,\n",
    "                amplitude=param[\"amplitude_pi\"],\n",
    "                length=param[\"length\"],\n",
    "            )\n",
    "        else:\n",
    "            with dsl.match(sweep_parameter = number_of_pulses):\n",
    "                for npulse in number_of_pulses.values():\n",
    "                    with dsl.case(npulse):\n",
    "                        for i in range(npulse):\n",
    "                            dsl.play(\n",
    "                                q.signals[\"drive\"],\n",
    "                                pulse=pulse,\n",
    "                                amplitude=param[\"amplitude_pi\"],\n",
    "                                length=param[\"length\"],\n",
    "                            )\n",
    "                            "
   ]
  },
  {
   "cell_type": "code",
   "execution_count": 9,
   "id": "29679eef-1caf-4ea8-a7a4-3ed1526351d9",
   "metadata": {},
   "outputs": [
    {
     "name": "stdout",
     "output_type": "stream",
     "text": [
      "def myx180(q : TunableTransmonQubit, \n",
      "           number_of_pulses : int | SweepParameter,\n",
      "           transition : str | None = 'ge'\n",
      "           ):\n",
      "    \"\"\"Plays N times x180-like pulses with certain calibration \"\"\"\n",
      "\n",
      "    drive_line, param = q.transition_parameters(transition)\n",
      "\n",
      "    pulse = create_pulse(param[\"pulse\"], name=\"my-own-pulse\") # no ovverrides\n",
      "\n",
      "    if (isinstance(number_of_pulses, int)):\n",
      "        for i in range(number_of_pulses):\n",
      "            dsl.play(\n",
      "                q.signals[\"drive\"],\n",
      "                pulse=pulse,\n",
      "                amplitude=param[\"amplitude_pi\"],\n",
      "                length=param[\"length\"],\n",
      "            )\n",
      "        else:\n",
      "            with dsl.match(sweep_parameter = number_of_pulses):\n",
      "                for npulse in number_of_pulses.values():\n",
      "                    with dsl.case(npulse):\n",
      "                        for i in range(npulse):\n",
      "                            dsl.play(\n",
      "                                q.signals[\"drive\"],\n",
      "                                pulse=pulse,\n",
      "                                amplitude=param[\"amplitude_pi\"],\n",
      "                                length=param[\"length\"],\n",
      "                            )\n",
      "\n"
     ]
    }
   ],
   "source": [
    "qop = TunableTransmonOperations()\n",
    "# substitute it in the quantum operation\n",
    "qop[\"x180\"] = myx180\n",
    "\n",
    "print(qop.x180.src)"
   ]
  },
  {
   "cell_type": "code",
   "execution_count": 10,
   "id": "def4f68e-117e-46b5-a5b8-5f461bd83f99",
   "metadata": {},
   "outputs": [],
   "source": [
    "@task\n",
    "@qubit_experiment\n",
    "def weird_rabi(\n",
    "    qop,\n",
    "    q,\n",
    "    q_number,\n",
    "    count,\n",
    "    transition=\"ge\",\n",
    "    cal_traces=True,\n",
    "):\n",
    "    \n",
    "    \"\"\"Rabi where number of pulses is swept\"\"\"\n",
    "    with dsl.acquire_loop_rt(\n",
    "        count=count,\n",
    "    ):\n",
    "        with dsl.sweep(\n",
    "            name=f\"npulses_{q.uid}\",\n",
    "            parameter=SweepParameter(f\"npulses_{q.uid}\", q_number),\n",
    "        ) as number_of_pulses:\n",
    "            qop.prepare_state(q, transition[0])\n",
    "            qop.x180(q, number_of_pulses)\n",
    "            qop.measure(q, f\"result/{q.uid}\")\n",
    "            qop.passive_reset(q)\n",
    "\n",
    "        if cal_traces:\n",
    "            with dsl.section(\n",
    "                name=f\"cal_states/{q.uid}\",\n",
    "            ):\n",
    "                for state in transition:\n",
    "                    qop.prepare_state(q, state)\n",
    "                    qop.measure(q, f\"cal_trace/{q.uid}/{state}\")\n",
    "                    qop.passive_reset(q)"
   ]
  },
  {
   "cell_type": "code",
   "execution_count": 11,
   "id": "2264f598-c83b-4e85-b532-3d3e0b0b6644",
   "metadata": {},
   "outputs": [
    {
     "ename": "AttributeError",
     "evalue": "'TunableTransmonOperations' object has no attribute 'transition_parameters'",
     "output_type": "error",
     "traceback": [
      "\u001b[1;31m---------------------------------------------------------------------------\u001b[0m",
      "\u001b[1;31mAttributeError\u001b[0m                            Traceback (most recent call last)",
      "Cell \u001b[1;32mIn[11], line 1\u001b[0m\n\u001b[1;32m----> 1\u001b[0m \u001b[43mweird_rabi\u001b[49m\u001b[43m(\u001b[49m\n\u001b[0;32m      2\u001b[0m \u001b[43m    \u001b[49m\u001b[43mqop\u001b[49m\u001b[43m,\u001b[49m\n\u001b[0;32m      3\u001b[0m \u001b[43m    \u001b[49m\u001b[43mqubits\u001b[49m\u001b[43m[\u001b[49m\u001b[38;5;241;43m0\u001b[39;49m\u001b[43m]\u001b[49m\u001b[43m,\u001b[49m\n\u001b[0;32m      4\u001b[0m \u001b[43m    \u001b[49m\u001b[43mq_number\u001b[49m\u001b[38;5;241;43m=\u001b[39;49m\u001b[43mnp\u001b[49m\u001b[38;5;241;43m.\u001b[39;49m\u001b[43mlinspace\u001b[49m\u001b[43m(\u001b[49m\u001b[38;5;241;43m0\u001b[39;49m\u001b[43m,\u001b[49m\u001b[43m \u001b[49m\u001b[38;5;241;43m14\u001b[39;49m\u001b[43m,\u001b[49m\u001b[43m \u001b[49m\u001b[38;5;241;43m15\u001b[39;49m\u001b[43m)\u001b[49m\u001b[43m,\u001b[49m\u001b[43m    \u001b[49m\n\u001b[0;32m      5\u001b[0m \u001b[43m    \u001b[49m\u001b[43mcount\u001b[49m\u001b[38;5;241;43m=\u001b[39;49m\u001b[38;5;241;43m100\u001b[39;49m\u001b[43m,\u001b[49m\n\u001b[0;32m      6\u001b[0m \u001b[43m    \u001b[49m\u001b[43m)\u001b[49m\n",
      "File \u001b[1;32mC:\\working_folder\\laboneq-applications\\src\\laboneq_applications\\workflow\\task.py:82\u001b[0m, in \u001b[0;36mFunctionTask.__call__\u001b[1;34m(self, *args, **kwargs)\u001b[0m\n\u001b[0;32m     80\u001b[0m \u001b[38;5;28;01mdef\u001b[39;00m \u001b[38;5;21m__call__\u001b[39m(\u001b[38;5;28mself\u001b[39m, \u001b[38;5;241m*\u001b[39margs: \u001b[38;5;28mobject\u001b[39m, \u001b[38;5;241m*\u001b[39m\u001b[38;5;241m*\u001b[39mkwargs: \u001b[38;5;28mobject\u001b[39m) \u001b[38;5;241m-\u001b[39m\u001b[38;5;241m>\u001b[39m T:\n\u001b[0;32m     81\u001b[0m \u001b[38;5;250m    \u001b[39m\u001b[38;5;124;03m\"\"\"Run the task.\"\"\"\u001b[39;00m\n\u001b[1;32m---> 82\u001b[0m     \u001b[38;5;28;01mreturn\u001b[39;00m \u001b[38;5;28;43mself\u001b[39;49m\u001b[38;5;241;43m.\u001b[39;49m\u001b[43mrun\u001b[49m\u001b[43m(\u001b[49m\u001b[38;5;241;43m*\u001b[39;49m\u001b[43margs\u001b[49m\u001b[43m,\u001b[49m\u001b[43m \u001b[49m\u001b[38;5;241;43m*\u001b[39;49m\u001b[38;5;241;43m*\u001b[39;49m\u001b[43mkwargs\u001b[49m\u001b[43m)\u001b[49m\n",
      "File \u001b[1;32mC:\\working_folder\\laboneq-applications\\src\\laboneq_applications\\workflow\\task.py:49\u001b[0m, in \u001b[0;36mTask.run\u001b[1;34m(self, *args, **kwargs)\u001b[0m\n\u001b[0;32m     47\u001b[0m ctx \u001b[38;5;241m=\u001b[39m get_active_context()\n\u001b[0;32m     48\u001b[0m \u001b[38;5;28;01mif\u001b[39;00m ctx \u001b[38;5;129;01mis\u001b[39;00m \u001b[38;5;28;01mNone\u001b[39;00m:\n\u001b[1;32m---> 49\u001b[0m     \u001b[38;5;28;01mreturn\u001b[39;00m \u001b[38;5;28;43mself\u001b[39;49m\u001b[38;5;241;43m.\u001b[39;49m\u001b[43m_run\u001b[49m\u001b[43m(\u001b[49m\u001b[38;5;241;43m*\u001b[39;49m\u001b[43margs\u001b[49m\u001b[43m,\u001b[49m\u001b[43m \u001b[49m\u001b[38;5;241;43m*\u001b[39;49m\u001b[38;5;241;43m*\u001b[39;49m\u001b[43mkwargs\u001b[49m\u001b[43m)\u001b[49m\n\u001b[0;32m     50\u001b[0m \u001b[38;5;28;01mreturn\u001b[39;00m ctx\u001b[38;5;241m.\u001b[39mexecute_task(\u001b[38;5;28mself\u001b[39m, \u001b[38;5;241m*\u001b[39margs, \u001b[38;5;241m*\u001b[39m\u001b[38;5;241m*\u001b[39mkwargs)\n",
      "File \u001b[1;32mC:\\working_folder\\laboneq-applications\\src\\laboneq_applications\\workflow\\task.py:86\u001b[0m, in \u001b[0;36mFunctionTask._run\u001b[1;34m(self, *args, **kwargs)\u001b[0m\n\u001b[0;32m     84\u001b[0m \u001b[38;5;28;01mdef\u001b[39;00m \u001b[38;5;21m_run\u001b[39m(\u001b[38;5;28mself\u001b[39m, \u001b[38;5;241m*\u001b[39margs: \u001b[38;5;28mobject\u001b[39m, \u001b[38;5;241m*\u001b[39m\u001b[38;5;241m*\u001b[39mkwargs: \u001b[38;5;28mobject\u001b[39m) \u001b[38;5;241m-\u001b[39m\u001b[38;5;241m>\u001b[39m T:\n\u001b[0;32m     85\u001b[0m \u001b[38;5;250m    \u001b[39m\u001b[38;5;124;03m\"\"\"Run the task.\"\"\"\u001b[39;00m\n\u001b[1;32m---> 86\u001b[0m     \u001b[38;5;28;01mreturn\u001b[39;00m \u001b[38;5;28;43mself\u001b[39;49m\u001b[38;5;241;43m.\u001b[39;49m\u001b[43m_func\u001b[49m\u001b[43m(\u001b[49m\u001b[38;5;241;43m*\u001b[39;49m\u001b[43margs\u001b[49m\u001b[43m,\u001b[49m\u001b[43m \u001b[49m\u001b[38;5;241;43m*\u001b[39;49m\u001b[38;5;241;43m*\u001b[39;49m\u001b[43mkwargs\u001b[49m\u001b[43m)\u001b[49m\n",
      "File \u001b[1;32mC:\\working_folder\\laboneq-applications\\src\\laboneq_applications\\core\\build_experiment.py:120\u001b[0m, in \u001b[0;36mqubit_experiment.<locals>.build_qubit_experiment\u001b[1;34m(*args, **kw)\u001b[0m\n\u001b[0;32m    118\u001b[0m \u001b[38;5;129m@functools\u001b[39m\u001b[38;5;241m.\u001b[39mwraps(exp_func)\n\u001b[0;32m    119\u001b[0m \u001b[38;5;28;01mdef\u001b[39;00m \u001b[38;5;21mbuild_qubit_experiment\u001b[39m(\u001b[38;5;241m*\u001b[39margs, \u001b[38;5;241m*\u001b[39m\u001b[38;5;241m*\u001b[39mkw) \u001b[38;5;241m-\u001b[39m\u001b[38;5;241m>\u001b[39m Experiment:\n\u001b[1;32m--> 120\u001b[0m     \u001b[38;5;28;01mreturn\u001b[39;00m \u001b[43mbuilder\u001b[49m\u001b[43m(\u001b[49m\u001b[38;5;241;43m*\u001b[39;49m\u001b[43margs\u001b[49m\u001b[43m,\u001b[49m\u001b[43m \u001b[49m\u001b[38;5;241;43m*\u001b[39;49m\u001b[38;5;241;43m*\u001b[39;49m\u001b[43mkw\u001b[49m\u001b[43m)\u001b[49m\n",
      "File \u001b[1;32mC:\\working_folder\\laboneq-applications\\src\\laboneq_applications\\core\\build_experiment.py:77\u001b[0m, in \u001b[0;36mExperimentBuilder.__call__\u001b[1;34m(self, *args, **kw)\u001b[0m\n\u001b[0;32m     75\u001b[0m     exp_calibration \u001b[38;5;241m=\u001b[39m builtins\u001b[38;5;241m.\u001b[39mexperiment_calibration()\n\u001b[0;32m     76\u001b[0m     exp_calibration\u001b[38;5;241m.\u001b[39mcalibration_items\u001b[38;5;241m.\u001b[39mupdate(calibration)\n\u001b[1;32m---> 77\u001b[0m     \u001b[38;5;28;43mself\u001b[39;49m\u001b[38;5;241;43m.\u001b[39;49m\u001b[43mexp_func\u001b[49m\u001b[43m(\u001b[49m\u001b[38;5;241;43m*\u001b[39;49m\u001b[43margs\u001b[49m\u001b[43m,\u001b[49m\u001b[43m \u001b[49m\u001b[38;5;241;43m*\u001b[39;49m\u001b[38;5;241;43m*\u001b[39;49m\u001b[43mkw\u001b[49m\u001b[43m)\u001b[49m\n\u001b[0;32m     79\u001b[0m \u001b[38;5;28;01mreturn\u001b[39;00m exp\n",
      "Cell \u001b[1;32mIn[10], line 21\u001b[0m, in \u001b[0;36mweird_rabi\u001b[1;34m(qop, q, q_number, count, transition, cal_traces)\u001b[0m\n\u001b[0;32m     16\u001b[0m \u001b[38;5;28;01mwith\u001b[39;00m dsl\u001b[38;5;241m.\u001b[39msweep(\n\u001b[0;32m     17\u001b[0m     name\u001b[38;5;241m=\u001b[39m\u001b[38;5;124mf\u001b[39m\u001b[38;5;124m\"\u001b[39m\u001b[38;5;124mnpulses_\u001b[39m\u001b[38;5;132;01m{\u001b[39;00mq\u001b[38;5;241m.\u001b[39muid\u001b[38;5;132;01m}\u001b[39;00m\u001b[38;5;124m\"\u001b[39m,\n\u001b[0;32m     18\u001b[0m     parameter\u001b[38;5;241m=\u001b[39mSweepParameter(\u001b[38;5;124mf\u001b[39m\u001b[38;5;124m\"\u001b[39m\u001b[38;5;124mnpulses_\u001b[39m\u001b[38;5;132;01m{\u001b[39;00mq\u001b[38;5;241m.\u001b[39muid\u001b[38;5;132;01m}\u001b[39;00m\u001b[38;5;124m\"\u001b[39m, q_number),\n\u001b[0;32m     19\u001b[0m ) \u001b[38;5;28;01mas\u001b[39;00m number_of_pulses:\n\u001b[0;32m     20\u001b[0m     qop\u001b[38;5;241m.\u001b[39mprepare_state(q, transition[\u001b[38;5;241m0\u001b[39m])\n\u001b[1;32m---> 21\u001b[0m     \u001b[43mqop\u001b[49m\u001b[38;5;241;43m.\u001b[39;49m\u001b[43mx180\u001b[49m\u001b[43m(\u001b[49m\u001b[43mq\u001b[49m\u001b[43m,\u001b[49m\u001b[43m \u001b[49m\u001b[43mnumber_of_pulses\u001b[49m\u001b[43m)\u001b[49m\n\u001b[0;32m     22\u001b[0m     qop\u001b[38;5;241m.\u001b[39mmeasure(q, \u001b[38;5;124mf\u001b[39m\u001b[38;5;124m\"\u001b[39m\u001b[38;5;124mresult/\u001b[39m\u001b[38;5;132;01m{\u001b[39;00mq\u001b[38;5;241m.\u001b[39muid\u001b[38;5;132;01m}\u001b[39;00m\u001b[38;5;124m\"\u001b[39m)\n\u001b[0;32m     23\u001b[0m     qop\u001b[38;5;241m.\u001b[39mpassive_reset(q)\n",
      "File \u001b[1;32mC:\\working_folder\\laboneq-applications\\src\\laboneq_applications\\core\\quantum_operations.py:345\u001b[0m, in \u001b[0;36mOperation.__call__\u001b[1;34m(self, *args, **kw)\u001b[0m\n\u001b[0;32m    343\u001b[0m     \u001b[38;5;28;01mif\u001b[39;00m \u001b[38;5;129;01mnot\u001b[39;00m \u001b[38;5;28mself\u001b[39m\u001b[38;5;241m.\u001b[39m_omit_section:\n\u001b[0;32m    344\u001b[0m         \u001b[38;5;28mself\u001b[39m\u001b[38;5;241m.\u001b[39m_reserve_signals(qubits)\n\u001b[1;32m--> 345\u001b[0m     \u001b[38;5;28;43mself\u001b[39;49m\u001b[38;5;241;43m.\u001b[39;49m\u001b[43m_op\u001b[49m\u001b[43m(\u001b[49m\u001b[38;5;28;43mself\u001b[39;49m\u001b[38;5;241;43m.\u001b[39;49m\u001b[43m_quantum_ops\u001b[49m\u001b[43m,\u001b[49m\u001b[43m \u001b[49m\u001b[38;5;241;43m*\u001b[39;49m\u001b[43margs\u001b[49m\u001b[43m,\u001b[49m\u001b[43m \u001b[49m\u001b[38;5;241;43m*\u001b[39;49m\u001b[38;5;241;43m*\u001b[39;49m\u001b[38;5;28;43mself\u001b[39;49m\u001b[38;5;241;43m.\u001b[39;49m\u001b[43m_partial_kw\u001b[49m\u001b[43m,\u001b[49m\u001b[43m \u001b[49m\u001b[38;5;241;43m*\u001b[39;49m\u001b[38;5;241;43m*\u001b[39;49m\u001b[43mkw\u001b[49m\u001b[43m)\u001b[49m\n\u001b[0;32m    347\u001b[0m \u001b[38;5;28;01mreturn\u001b[39;00m op_section\n",
      "Cell \u001b[1;32mIn[8], line 7\u001b[0m, in \u001b[0;36mmyx180\u001b[1;34m(q, number_of_pulses, transition)\u001b[0m\n\u001b[0;32m      1\u001b[0m \u001b[38;5;28;01mdef\u001b[39;00m \u001b[38;5;21mmyx180\u001b[39m(q : TunableTransmonQubit, \n\u001b[0;32m      2\u001b[0m            number_of_pulses : \u001b[38;5;28mint\u001b[39m \u001b[38;5;241m|\u001b[39m SweepParameter,\n\u001b[0;32m      3\u001b[0m            transition : \u001b[38;5;28mstr\u001b[39m \u001b[38;5;241m|\u001b[39m \u001b[38;5;28;01mNone\u001b[39;00m \u001b[38;5;241m=\u001b[39m \u001b[38;5;124m'\u001b[39m\u001b[38;5;124mge\u001b[39m\u001b[38;5;124m'\u001b[39m\n\u001b[0;32m      4\u001b[0m            ):\n\u001b[0;32m      5\u001b[0m \u001b[38;5;250m    \u001b[39m\u001b[38;5;124;03m\"\"\"Plays N times x180-like pulses with certain calibration \"\"\"\u001b[39;00m\n\u001b[1;32m----> 7\u001b[0m     drive_line, param \u001b[38;5;241m=\u001b[39m \u001b[43mq\u001b[49m\u001b[38;5;241;43m.\u001b[39;49m\u001b[43mtransition_parameters\u001b[49m(transition)\n\u001b[0;32m      9\u001b[0m     pulse \u001b[38;5;241m=\u001b[39m create_pulse(param[\u001b[38;5;124m\"\u001b[39m\u001b[38;5;124mpulse\u001b[39m\u001b[38;5;124m\"\u001b[39m], name\u001b[38;5;241m=\u001b[39m\u001b[38;5;124m\"\u001b[39m\u001b[38;5;124mmy-own-pulse\u001b[39m\u001b[38;5;124m\"\u001b[39m) \u001b[38;5;66;03m# no ovverrides\u001b[39;00m\n\u001b[0;32m     11\u001b[0m     \u001b[38;5;28;01mif\u001b[39;00m (\u001b[38;5;28misinstance\u001b[39m(number_of_pulses, \u001b[38;5;28mint\u001b[39m)):\n",
      "File \u001b[1;32mC:\\working_folder\\laboneq-applications\\src\\laboneq_applications\\core\\quantum_operations.py:195\u001b[0m, in \u001b[0;36mQuantumOperations.__getattr__\u001b[1;34m(self, name)\u001b[0m\n\u001b[0;32m    193\u001b[0m op \u001b[38;5;241m=\u001b[39m \u001b[38;5;28mself\u001b[39m\u001b[38;5;241m.\u001b[39m_ops\u001b[38;5;241m.\u001b[39mget(name, \u001b[38;5;28;01mNone\u001b[39;00m)\n\u001b[0;32m    194\u001b[0m \u001b[38;5;28;01mif\u001b[39;00m op \u001b[38;5;129;01mis\u001b[39;00m \u001b[38;5;28;01mNone\u001b[39;00m:\n\u001b[1;32m--> 195\u001b[0m     \u001b[38;5;28;01mraise\u001b[39;00m \u001b[38;5;167;01mAttributeError\u001b[39;00m(\n\u001b[0;32m    196\u001b[0m         \u001b[38;5;124mf\u001b[39m\u001b[38;5;124m\"\u001b[39m\u001b[38;5;132;01m{\u001b[39;00m\u001b[38;5;28mself\u001b[39m\u001b[38;5;241m.\u001b[39m\u001b[38;5;18m__class__\u001b[39m\u001b[38;5;241m.\u001b[39m\u001b[38;5;18m__name__\u001b[39m\u001b[38;5;132;01m!r}\u001b[39;00m\u001b[38;5;124m object has no attribute \u001b[39m\u001b[38;5;132;01m{\u001b[39;00mname\u001b[38;5;132;01m!r}\u001b[39;00m\u001b[38;5;124m\"\u001b[39m,\n\u001b[0;32m    197\u001b[0m     )\n\u001b[0;32m    198\u001b[0m \u001b[38;5;28;01mreturn\u001b[39;00m op\n",
      "\u001b[1;31mAttributeError\u001b[0m: 'TunableTransmonOperations' object has no attribute 'transition_parameters'"
     ]
    }
   ],
   "source": [
    "weird_rabi(\n",
    "    qop,\n",
    "    qubits[0],\n",
    "    q_number=np.linspace(0, 14, 15),    \n",
    "    count=100,\n",
    "    )"
   ]
  },
  {
   "cell_type": "code",
   "execution_count": 12,
   "id": "068bfa85-b7f3-48b4-b4aa-2cb00df38ad7",
   "metadata": {},
   "outputs": [
    {
     "data": {
      "text/plain": [
       "('drive',\n",
       " {'amplitude_pi': 0.4,\n",
       "  'amplitude_pi2': 0.8,\n",
       "  'length': 5.1e-08,\n",
       "  'pulse': {'function': 'drag', 'beta': 0.01, 'sigma': 0.21}})"
      ]
     },
     "execution_count": 12,
     "metadata": {},
     "output_type": "execute_result"
    }
   ],
   "source": [
    "qubits[0].transition_parameters()"
   ]
  },
  {
   "cell_type": "code",
   "execution_count": null,
   "id": "83fe0b5d-e3d7-4d0c-88e8-78216c36d3ae",
   "metadata": {},
   "outputs": [],
   "source": []
  }
 ],
 "metadata": {
  "kernelspec": {
   "display_name": "Python 3 (ipykernel)",
   "language": "python",
   "name": "python3"
  },
  "language_info": {
   "codemirror_mode": {
    "name": "ipython",
    "version": 3
   },
   "file_extension": ".py",
   "mimetype": "text/x-python",
   "name": "python",
   "nbconvert_exporter": "python",
   "pygments_lexer": "ipython3",
   "version": "3.12.2"
  }
 },
 "nbformat": 4,
 "nbformat_minor": 5
}
