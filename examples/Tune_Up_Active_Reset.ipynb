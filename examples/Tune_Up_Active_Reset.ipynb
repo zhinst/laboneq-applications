{
 "cells": [
  {
   "cell_type": "markdown",
   "id": "252058fc",
   "metadata": {},
   "source": [
    "# Tune-up Template \n",
    "\n",
    "## 0. Chip Layout, Wiring, and Fabrication \n",
    "\n",
    "### 0.1 Chip layout\n",
    "\n",
    "Put your chip layout here\n",
    "\n",
    "### 0.2 Wiring\n",
    "\n",
    "Describe your wiring here\n",
    "\n",
    "### 0.3 Fabrication Parameters\n",
    "\n",
    "You might know something about your qubits from fabrication, you can put those here before you start:\n",
    "\n",
    "|                  | QB1               | QB2          | QB3               | QB4               | QB5          | QB6               |\n",
    "|------------------|-------------------|--------------|-------------------|-------------------|--------------|-------------------|\n",
    "| Upper Sweet Spot |  |  |  |  |  |  |\n",
    "| Lower Sweet Spot |  |  |  |  |  |  |\n",
    "| Resonator        | 7.0G              | 7.2G         | 7.4G              | 7.1G              | 7.3G         | 7.5G              |\n",
    "\n",
    "## 1. Imports\n"
   ]
  },
  {
   "cell_type": "markdown",
   "id": "6d53ba72",
   "metadata": {},
   "source": [
    "# Tune-up Template \n",
    "\n",
    "## 0. Chip Layout, Wiring, and Fabrication \n",
    "\n",
    "### 0.1 Chip layout\n",
    "\n",
    "Put your chip layout here\n",
    "\n",
    "### 0.2 Wiring\n",
    "\n",
    "Describe your wiring here\n",
    "\n",
    "### 0.3 Fabrication Parameters\n",
    "\n",
    "You might know something about your qubits from fabrication, you can put those here before you start:\n",
    "\n",
    "|                  | QB1               | QB2          | QB3               | QB4               | QB5          | QB6               |\n",
    "|------------------|-------------------|--------------|-------------------|-------------------|--------------|-------------------|\n",
    "| Upper Sweet Spot |  |  |  |  |  |  |\n",
    "| Lower Sweet Spot |  |  |  |  |  |  |\n",
    "| Resonator        | 7.0G              | 7.2G         | 7.4G              | 7.1G              | 7.3G         | 7.5G              |\n",
    "\n",
    "## 1. Imports\n"
   ]
  },
  {
   "cell_type": "code",
   "execution_count": 1,
   "id": "92b2cf77",
   "metadata": {},
   "outputs": [],
   "source": [
    "# convenience Import for all LabOne Q Functionality\n",
    "from laboneq.simple import *\n",
    "\n",
    "# plotting and fitting functionality\n",
    "from laboneq.contrib.example_helpers.plotting.plot_helpers import (\n",
    "    plot_results,\n",
    ")\n",
    "\n",
    "# descriptor imports\n",
    "\n",
    "# for saving results and pulse sheets\n",
    "import scipy\n",
    "\n",
    "import matplotlib.pyplot as plt\n",
    "import numpy as np\n",
    "\n",
    "\n",
    "from experiment_library.analysis.tuneup_helper_legacy import (\n",
    "    flatten,\n",
    "    evaluate_T1,\n",
    "    analyze_qspec,\n",
    ")\n",
    "\n",
    "from experiment_library.calibration_helpers import (\n",
    "    update_qubit_parameters_and_calibration,\n",
    "    load_qubit_parameters,\n",
    "    save_results,\n",
    ")\n",
    "\n",
    "from experiment_library.experiments.experiment_library_legacy import (\n",
    "    resonator_spectroscopy_parallel_CW_full_range,\n",
    "    resonator_spectroscopy_single,\n",
    "    resonator_spectroscopy_g_vs_e,\n",
    "    readout_pulse,\n",
    "    integration_kernel,\n",
    "    qubit_spectroscopy_single,\n",
    "    res_spectroscopy_pulsed_amp_sweep,\n",
    "    t1_parallel,\n",
    "    create_freq_sweep,\n",
    "    qubit_drive_pulse,\n",
    "    readout_gauss_square_pulse,\n",
    ")"
   ]
  },
  {
   "cell_type": "markdown",
   "id": "055680d9",
   "metadata": {},
   "source": []
  },
  {
   "cell_type": "code",
   "execution_count": 2,
   "id": "e23e0bf5",
   "metadata": {},
   "outputs": [],
   "source": [
    "plt.rcParams.update(\n",
    "    {\n",
    "        \"font.family\": \"ZI Akkurat\",\n",
    "        \"font.weight\": \"light\",\n",
    "        \"axes.labelweight\": \"light\",\n",
    "        \"axes.titleweight\": \"normal\",\n",
    "        \"svg.fonttype\": \"none\",  # Make text editable in SVG\n",
    "        \"text.usetex\": False,\n",
    "    }\n",
    ")"
   ]
  },
  {
   "cell_type": "code",
   "execution_count": 3,
   "id": "2ace03c0",
   "metadata": {},
   "outputs": [],
   "source": [
    "blue_color_zi = \"#009EE0\"\n",
    "orange_color_zi = \"#EE7F00\"\n",
    "dark_blue_color_zi = \"#172983\""
   ]
  },
  {
   "cell_type": "markdown",
   "id": "0240c5b6",
   "metadata": {},
   "source": [
    "## 2. Set-up\n"
   ]
  },
  {
   "cell_type": "markdown",
   "id": "0180eb82",
   "metadata": {},
   "source": [
    "### Emulation Mode\n"
   ]
  },
  {
   "cell_type": "code",
   "execution_count": 4,
   "id": "1c355874",
   "metadata": {
    "lines_to_next_cell": 2
   },
   "outputs": [],
   "source": [
    "emulate = True"
   ]
  },
  {
   "cell_type": "markdown",
   "id": "3ff10e21",
   "metadata": {},
   "source": [
    "### Database Set-up\n"
   ]
  },
  {
   "cell_type": "code",
   "execution_count": 5,
   "id": "9e3d1e47",
   "metadata": {},
   "outputs": [],
   "source": [
    "# set up connection to database\n",
    "demo_setup_db = DataStore(\"laboneq_data/setup_database.db\")\n",
    "\n",
    "demo_results_db = DataStore(\"laboneq_data/results_database.db\")"
   ]
  },
  {
   "cell_type": "markdown",
   "id": "5119506c",
   "metadata": {},
   "source": [
    "### Device Set-up\n"
   ]
  },
  {
   "cell_type": "code",
   "execution_count": 6,
   "id": "8f77abab",
   "metadata": {
    "lines_to_next_cell": 2
   },
   "outputs": [],
   "source": [
    "from textwrap import dedent\n",
    "\n",
    "descriptor = dedent(\n",
    "    \"\"\"\\\n",
    "instruments:\n",
    "  SHFQC:\n",
    "    - address: dev12250\n",
    "      uid: device_shfqc\n",
    "connections:\n",
    "\n",
    "  device_shfqc:\n",
    "    - iq_signal: q0/measure_line\n",
    "      ports: QACHANNELS/0/OUTPUT\n",
    "    - acquire_signal: q0/acquire_line\n",
    "      ports: QACHANNELS/0/INPUT\n",
    "\n",
    "    - iq_signal: q0/drive_line\n",
    "      ports: SGCHANNELS/3/OUTPUT\n",
    "\"\"\"\n",
    ")\n",
    "demo_setup = DeviceSetup.from_descriptor(\n",
    "    descriptor, server_host=\"localhost\", server_port=8004, setup_name=\"MySetup\"\n",
    ")"
   ]
  },
  {
   "cell_type": "markdown",
   "id": "39f1383a",
   "metadata": {},
   "source": [
    "### Apply Calibration from File\n"
   ]
  },
  {
   "cell_type": "code",
   "execution_count": 7,
   "id": "b5718628",
   "metadata": {
    "lines_to_next_cell": 2
   },
   "outputs": [
    {
     "data": {
      "text/html": [
       "<pre style=\"white-space:pre;overflow-x:auto;line-height:normal;font-family:Menlo,'DejaVu Sans Mono',consolas,'Courier New',monospace\"><span style=\"color: #800080; text-decoration-color: #800080; font-weight: bold\">Calibration</span><span style=\"font-weight: bold\">(</span>\n",
       "<span style=\"color: #7fbf7f; text-decoration-color: #7fbf7f\">│   </span><span style=\"color: #808000; text-decoration-color: #808000\">calibration_items</span>=<span style=\"font-weight: bold\">{</span>\n",
       "<span style=\"color: #7fbf7f; text-decoration-color: #7fbf7f\">│   │   </span><span style=\"color: #008000; text-decoration-color: #008000\">'/logical_signal_groups/q0/drive_line'</span>: <span style=\"color: #800080; text-decoration-color: #800080; font-weight: bold\">SignalCalibration</span><span style=\"font-weight: bold\">(</span>\n",
       "<span style=\"color: #7fbf7f; text-decoration-color: #7fbf7f\">│   │   │   </span><span style=\"color: #808000; text-decoration-color: #808000\">oscillator</span>=<span style=\"color: #800080; text-decoration-color: #800080; font-weight: bold\">Oscillator</span><span style=\"font-weight: bold\">(</span>\n",
       "<span style=\"color: #7fbf7f; text-decoration-color: #7fbf7f\">│   │   │   │   </span><span style=\"color: #808000; text-decoration-color: #808000\">uid</span>=<span style=\"color: #008000; text-decoration-color: #008000\">'q0_drive_ge_osc'</span>,\n",
       "<span style=\"color: #7fbf7f; text-decoration-color: #7fbf7f\">│   │   │   │   </span><span style=\"color: #808000; text-decoration-color: #808000\">frequency</span>=<span style=\"color: #008080; text-decoration-color: #008080; font-weight: bold\">811539176.0604649</span>,\n",
       "<span style=\"color: #7fbf7f; text-decoration-color: #7fbf7f\">│   │   │   │   </span><span style=\"color: #808000; text-decoration-color: #808000\">modulation_type</span>=<span style=\"color: #800080; text-decoration-color: #800080\">ModulationType</span>.HARDWARE,\n",
       "<span style=\"color: #7fbf7f; text-decoration-color: #7fbf7f\">│   │   │   │   </span><span style=\"color: #808000; text-decoration-color: #808000\">carrier_type</span>=<span style=\"color: #800080; text-decoration-color: #800080\">CarrierType</span>.RF\n",
       "<span style=\"color: #7fbf7f; text-decoration-color: #7fbf7f\">│   │   │   </span><span style=\"font-weight: bold\">)</span>,\n",
       "<span style=\"color: #7fbf7f; text-decoration-color: #7fbf7f\">│   │   │   </span><span style=\"color: #808000; text-decoration-color: #808000\">local_oscillator</span>=<span style=\"color: #800080; text-decoration-color: #800080; font-weight: bold\">Oscillator</span><span style=\"font-weight: bold\">(</span>\n",
       "<span style=\"color: #7fbf7f; text-decoration-color: #7fbf7f\">│   │   │   │   </span><span style=\"color: #808000; text-decoration-color: #808000\">uid</span>=<span style=\"color: #008000; text-decoration-color: #008000\">'q0_drive_local_osc'</span>,\n",
       "<span style=\"color: #7fbf7f; text-decoration-color: #7fbf7f\">│   │   │   │   </span><span style=\"color: #808000; text-decoration-color: #808000\">frequency</span>=<span style=\"color: #008080; text-decoration-color: #008080; font-weight: bold\">5000000000.0</span>,\n",
       "<span style=\"color: #7fbf7f; text-decoration-color: #7fbf7f\">│   │   │   │   </span><span style=\"color: #808000; text-decoration-color: #808000\">modulation_type</span>=<span style=\"color: #800080; text-decoration-color: #800080\">ModulationType</span>.AUTO,\n",
       "<span style=\"color: #7fbf7f; text-decoration-color: #7fbf7f\">│   │   │   │   </span><span style=\"color: #808000; text-decoration-color: #808000\">carrier_type</span>=<span style=\"color: #800080; text-decoration-color: #800080\">CarrierType</span>.RF\n",
       "<span style=\"color: #7fbf7f; text-decoration-color: #7fbf7f\">│   │   │   </span><span style=\"font-weight: bold\">)</span>,\n",
       "<span style=\"color: #7fbf7f; text-decoration-color: #7fbf7f\">│   │   │   </span><span style=\"color: #808000; text-decoration-color: #808000\">mixer_calibration</span>=<span style=\"color: #800080; text-decoration-color: #800080; font-style: italic\">None</span>,\n",
       "<span style=\"color: #7fbf7f; text-decoration-color: #7fbf7f\">│   │   │   </span><span style=\"color: #808000; text-decoration-color: #808000\">precompensation</span>=<span style=\"color: #800080; text-decoration-color: #800080; font-style: italic\">None</span>,\n",
       "<span style=\"color: #7fbf7f; text-decoration-color: #7fbf7f\">│   │   │   </span><span style=\"color: #808000; text-decoration-color: #808000\">port_delay</span>=<span style=\"color: #800080; text-decoration-color: #800080; font-style: italic\">None</span>,\n",
       "<span style=\"color: #7fbf7f; text-decoration-color: #7fbf7f\">│   │   │   </span><span style=\"color: #808000; text-decoration-color: #808000\">port_mode</span>=<span style=\"color: #800080; text-decoration-color: #800080; font-style: italic\">None</span>,\n",
       "<span style=\"color: #7fbf7f; text-decoration-color: #7fbf7f\">│   │   │   </span><span style=\"color: #808000; text-decoration-color: #808000\">delay_signal</span>=<span style=\"color: #800080; text-decoration-color: #800080; font-style: italic\">None</span>,\n",
       "<span style=\"color: #7fbf7f; text-decoration-color: #7fbf7f\">│   │   │   </span><span style=\"color: #808000; text-decoration-color: #808000\">voltage_offset</span>=<span style=\"color: #800080; text-decoration-color: #800080; font-style: italic\">None</span>,\n",
       "<span style=\"color: #7fbf7f; text-decoration-color: #7fbf7f\">│   │   │   </span><span style=\"color: #808000; text-decoration-color: #808000\">range</span>=<span style=\"color: #008080; text-decoration-color: #008080; font-weight: bold\">10</span>,\n",
       "<span style=\"color: #7fbf7f; text-decoration-color: #7fbf7f\">│   │   │   </span><span style=\"color: #808000; text-decoration-color: #808000\">threshold</span>=<span style=\"color: #800080; text-decoration-color: #800080; font-style: italic\">None</span>,\n",
       "<span style=\"color: #7fbf7f; text-decoration-color: #7fbf7f\">│   │   │   </span><span style=\"color: #808000; text-decoration-color: #808000\">amplitude</span>=<span style=\"color: #800080; text-decoration-color: #800080; font-style: italic\">None</span>,\n",
       "<span style=\"color: #7fbf7f; text-decoration-color: #7fbf7f\">│   │   │   </span><span style=\"color: #808000; text-decoration-color: #808000\">amplifier_pump</span>=<span style=\"color: #800080; text-decoration-color: #800080; font-style: italic\">None</span>\n",
       "<span style=\"color: #7fbf7f; text-decoration-color: #7fbf7f\">│   │   </span><span style=\"font-weight: bold\">)</span>,\n",
       "<span style=\"color: #7fbf7f; text-decoration-color: #7fbf7f\">│   │   </span><span style=\"color: #008000; text-decoration-color: #008000\">'/logical_signal_groups/q0/measure_line'</span>: <span style=\"color: #800080; text-decoration-color: #800080; font-weight: bold\">SignalCalibration</span><span style=\"font-weight: bold\">(</span>\n",
       "<span style=\"color: #7fbf7f; text-decoration-color: #7fbf7f\">│   │   │   </span><span style=\"color: #808000; text-decoration-color: #808000\">oscillator</span>=<span style=\"color: #800080; text-decoration-color: #800080; font-weight: bold\">Oscillator</span><span style=\"font-weight: bold\">(</span>\n",
       "<span style=\"color: #7fbf7f; text-decoration-color: #7fbf7f\">│   │   │   │   </span><span style=\"color: #808000; text-decoration-color: #808000\">uid</span>=<span style=\"color: #008000; text-decoration-color: #008000\">'q0_measure_osc'</span>,\n",
       "<span style=\"color: #7fbf7f; text-decoration-color: #7fbf7f\">│   │   │   │   </span><span style=\"color: #808000; text-decoration-color: #808000\">frequency</span>=<span style=\"color: #008080; text-decoration-color: #008080; font-weight: bold\">258000000.0</span>,\n",
       "<span style=\"color: #7fbf7f; text-decoration-color: #7fbf7f\">│   │   │   │   </span><span style=\"color: #808000; text-decoration-color: #808000\">modulation_type</span>=<span style=\"color: #800080; text-decoration-color: #800080\">ModulationType</span>.SOFTWARE,\n",
       "<span style=\"color: #7fbf7f; text-decoration-color: #7fbf7f\">│   │   │   │   </span><span style=\"color: #808000; text-decoration-color: #808000\">carrier_type</span>=<span style=\"color: #800080; text-decoration-color: #800080\">CarrierType</span>.RF\n",
       "<span style=\"color: #7fbf7f; text-decoration-color: #7fbf7f\">│   │   │   </span><span style=\"font-weight: bold\">)</span>,\n",
       "<span style=\"color: #7fbf7f; text-decoration-color: #7fbf7f\">│   │   │   </span><span style=\"color: #808000; text-decoration-color: #808000\">local_oscillator</span>=<span style=\"color: #800080; text-decoration-color: #800080; font-weight: bold\">Oscillator</span><span style=\"font-weight: bold\">(</span>\n",
       "<span style=\"color: #7fbf7f; text-decoration-color: #7fbf7f\">│   │   │   │   </span><span style=\"color: #808000; text-decoration-color: #808000\">uid</span>=<span style=\"color: #008000; text-decoration-color: #008000\">'q0_readout_local_osc'</span>,\n",
       "<span style=\"color: #7fbf7f; text-decoration-color: #7fbf7f\">│   │   │   │   </span><span style=\"color: #808000; text-decoration-color: #808000\">frequency</span>=<span style=\"color: #008080; text-decoration-color: #008080; font-weight: bold\">7000000000.0</span>,\n",
       "<span style=\"color: #7fbf7f; text-decoration-color: #7fbf7f\">│   │   │   │   </span><span style=\"color: #808000; text-decoration-color: #808000\">modulation_type</span>=<span style=\"color: #800080; text-decoration-color: #800080\">ModulationType</span>.AUTO,\n",
       "<span style=\"color: #7fbf7f; text-decoration-color: #7fbf7f\">│   │   │   │   </span><span style=\"color: #808000; text-decoration-color: #808000\">carrier_type</span>=<span style=\"color: #800080; text-decoration-color: #800080\">CarrierType</span>.RF\n",
       "<span style=\"color: #7fbf7f; text-decoration-color: #7fbf7f\">│   │   │   </span><span style=\"font-weight: bold\">)</span>,\n",
       "<span style=\"color: #7fbf7f; text-decoration-color: #7fbf7f\">│   │   │   </span><span style=\"color: #808000; text-decoration-color: #808000\">mixer_calibration</span>=<span style=\"color: #800080; text-decoration-color: #800080; font-style: italic\">None</span>,\n",
       "<span style=\"color: #7fbf7f; text-decoration-color: #7fbf7f\">│   │   │   </span><span style=\"color: #808000; text-decoration-color: #808000\">precompensation</span>=<span style=\"color: #800080; text-decoration-color: #800080; font-style: italic\">None</span>,\n",
       "<span style=\"color: #7fbf7f; text-decoration-color: #7fbf7f\">│   │   │   </span><span style=\"color: #808000; text-decoration-color: #808000\">port_delay</span>=<span style=\"color: #800080; text-decoration-color: #800080; font-style: italic\">None</span>,\n",
       "<span style=\"color: #7fbf7f; text-decoration-color: #7fbf7f\">│   │   │   </span><span style=\"color: #808000; text-decoration-color: #808000\">port_mode</span>=<span style=\"color: #800080; text-decoration-color: #800080; font-style: italic\">None</span>,\n",
       "<span style=\"color: #7fbf7f; text-decoration-color: #7fbf7f\">│   │   │   </span><span style=\"color: #808000; text-decoration-color: #808000\">delay_signal</span>=<span style=\"color: #800080; text-decoration-color: #800080; font-style: italic\">None</span>,\n",
       "<span style=\"color: #7fbf7f; text-decoration-color: #7fbf7f\">│   │   │   </span><span style=\"color: #808000; text-decoration-color: #808000\">voltage_offset</span>=<span style=\"color: #800080; text-decoration-color: #800080; font-style: italic\">None</span>,\n",
       "<span style=\"color: #7fbf7f; text-decoration-color: #7fbf7f\">│   │   │   </span><span style=\"color: #808000; text-decoration-color: #808000\">range</span>=<span style=\"color: #008080; text-decoration-color: #008080; font-weight: bold\">-25</span>,\n",
       "<span style=\"color: #7fbf7f; text-decoration-color: #7fbf7f\">│   │   │   </span><span style=\"color: #808000; text-decoration-color: #808000\">threshold</span>=<span style=\"color: #800080; text-decoration-color: #800080; font-style: italic\">None</span>,\n",
       "<span style=\"color: #7fbf7f; text-decoration-color: #7fbf7f\">│   │   │   </span><span style=\"color: #808000; text-decoration-color: #808000\">amplitude</span>=<span style=\"color: #800080; text-decoration-color: #800080; font-style: italic\">None</span>,\n",
       "<span style=\"color: #7fbf7f; text-decoration-color: #7fbf7f\">│   │   │   </span><span style=\"color: #808000; text-decoration-color: #808000\">amplifier_pump</span>=<span style=\"color: #800080; text-decoration-color: #800080; font-style: italic\">None</span>\n",
       "<span style=\"color: #7fbf7f; text-decoration-color: #7fbf7f\">│   │   </span><span style=\"font-weight: bold\">)</span>,\n",
       "<span style=\"color: #7fbf7f; text-decoration-color: #7fbf7f\">│   │   </span><span style=\"color: #008000; text-decoration-color: #008000\">'/logical_signal_groups/q0/acquire_line'</span>: <span style=\"color: #800080; text-decoration-color: #800080; font-weight: bold\">SignalCalibration</span><span style=\"font-weight: bold\">(</span>\n",
       "<span style=\"color: #7fbf7f; text-decoration-color: #7fbf7f\">│   │   │   </span><span style=\"color: #808000; text-decoration-color: #808000\">oscillator</span>=<span style=\"color: #800080; text-decoration-color: #800080; font-weight: bold\">Oscillator</span><span style=\"font-weight: bold\">(</span>\n",
       "<span style=\"color: #7fbf7f; text-decoration-color: #7fbf7f\">│   │   │   │   </span><span style=\"color: #808000; text-decoration-color: #808000\">uid</span>=<span style=\"color: #008000; text-decoration-color: #008000\">'q0_acquire_osc'</span>,\n",
       "<span style=\"color: #7fbf7f; text-decoration-color: #7fbf7f\">│   │   │   │   </span><span style=\"color: #808000; text-decoration-color: #808000\">frequency</span>=<span style=\"color: #008080; text-decoration-color: #008080; font-weight: bold\">258000000.0</span>,\n",
       "<span style=\"color: #7fbf7f; text-decoration-color: #7fbf7f\">│   │   │   │   </span><span style=\"color: #808000; text-decoration-color: #808000\">modulation_type</span>=<span style=\"color: #800080; text-decoration-color: #800080\">ModulationType</span>.SOFTWARE,\n",
       "<span style=\"color: #7fbf7f; text-decoration-color: #7fbf7f\">│   │   │   │   </span><span style=\"color: #808000; text-decoration-color: #808000\">carrier_type</span>=<span style=\"color: #800080; text-decoration-color: #800080\">CarrierType</span>.RF\n",
       "<span style=\"color: #7fbf7f; text-decoration-color: #7fbf7f\">│   │   │   </span><span style=\"font-weight: bold\">)</span>,\n",
       "<span style=\"color: #7fbf7f; text-decoration-color: #7fbf7f\">│   │   │   </span><span style=\"color: #808000; text-decoration-color: #808000\">local_oscillator</span>=<span style=\"color: #800080; text-decoration-color: #800080; font-weight: bold\">Oscillator</span><span style=\"font-weight: bold\">(</span>\n",
       "<span style=\"color: #7fbf7f; text-decoration-color: #7fbf7f\">│   │   │   │   </span><span style=\"color: #808000; text-decoration-color: #808000\">uid</span>=<span style=\"color: #008000; text-decoration-color: #008000\">'q0_readout_local_osc'</span>,\n",
       "<span style=\"color: #7fbf7f; text-decoration-color: #7fbf7f\">│   │   │   │   </span><span style=\"color: #808000; text-decoration-color: #808000\">frequency</span>=<span style=\"color: #008080; text-decoration-color: #008080; font-weight: bold\">7000000000.0</span>,\n",
       "<span style=\"color: #7fbf7f; text-decoration-color: #7fbf7f\">│   │   │   │   </span><span style=\"color: #808000; text-decoration-color: #808000\">modulation_type</span>=<span style=\"color: #800080; text-decoration-color: #800080\">ModulationType</span>.AUTO,\n",
       "<span style=\"color: #7fbf7f; text-decoration-color: #7fbf7f\">│   │   │   │   </span><span style=\"color: #808000; text-decoration-color: #808000\">carrier_type</span>=<span style=\"color: #800080; text-decoration-color: #800080\">CarrierType</span>.RF\n",
       "<span style=\"color: #7fbf7f; text-decoration-color: #7fbf7f\">│   │   │   </span><span style=\"font-weight: bold\">)</span>,\n",
       "<span style=\"color: #7fbf7f; text-decoration-color: #7fbf7f\">│   │   │   </span><span style=\"color: #808000; text-decoration-color: #808000\">mixer_calibration</span>=<span style=\"color: #800080; text-decoration-color: #800080; font-style: italic\">None</span>,\n",
       "<span style=\"color: #7fbf7f; text-decoration-color: #7fbf7f\">│   │   │   </span><span style=\"color: #808000; text-decoration-color: #808000\">precompensation</span>=<span style=\"color: #800080; text-decoration-color: #800080; font-style: italic\">None</span>,\n",
       "<span style=\"color: #7fbf7f; text-decoration-color: #7fbf7f\">│   │   │   </span><span style=\"color: #808000; text-decoration-color: #808000\">port_delay</span>=<span style=\"color: #008080; text-decoration-color: #008080; font-weight: bold\">2.4e-07</span>,\n",
       "<span style=\"color: #7fbf7f; text-decoration-color: #7fbf7f\">│   │   │   </span><span style=\"color: #808000; text-decoration-color: #808000\">port_mode</span>=<span style=\"color: #800080; text-decoration-color: #800080; font-style: italic\">None</span>,\n",
       "<span style=\"color: #7fbf7f; text-decoration-color: #7fbf7f\">│   │   │   </span><span style=\"color: #808000; text-decoration-color: #808000\">delay_signal</span>=<span style=\"color: #800080; text-decoration-color: #800080; font-style: italic\">None</span>,\n",
       "<span style=\"color: #7fbf7f; text-decoration-color: #7fbf7f\">│   │   │   </span><span style=\"color: #808000; text-decoration-color: #808000\">voltage_offset</span>=<span style=\"color: #800080; text-decoration-color: #800080; font-style: italic\">None</span>,\n",
       "<span style=\"color: #7fbf7f; text-decoration-color: #7fbf7f\">│   │   │   </span><span style=\"color: #808000; text-decoration-color: #808000\">range</span>=<span style=\"color: #008080; text-decoration-color: #008080; font-weight: bold\">-5</span>,\n",
       "<span style=\"color: #7fbf7f; text-decoration-color: #7fbf7f\">│   │   │   </span><span style=\"color: #808000; text-decoration-color: #808000\">threshold</span>=<span style=\"color: #800080; text-decoration-color: #800080; font-style: italic\">None</span>,\n",
       "<span style=\"color: #7fbf7f; text-decoration-color: #7fbf7f\">│   │   │   </span><span style=\"color: #808000; text-decoration-color: #808000\">amplitude</span>=<span style=\"color: #800080; text-decoration-color: #800080; font-style: italic\">None</span>,\n",
       "<span style=\"color: #7fbf7f; text-decoration-color: #7fbf7f\">│   │   │   </span><span style=\"color: #808000; text-decoration-color: #808000\">amplifier_pump</span>=<span style=\"color: #800080; text-decoration-color: #800080; font-style: italic\">None</span>\n",
       "<span style=\"color: #7fbf7f; text-decoration-color: #7fbf7f\">│   │   </span><span style=\"font-weight: bold\">)</span>,\n",
       "<span style=\"color: #7fbf7f; text-decoration-color: #7fbf7f\">│   │   </span><span style=\"color: #008000; text-decoration-color: #008000\">'/physical_channel_groups/device_shfqc/qachannels_0_output'</span>: <span style=\"color: #800080; text-decoration-color: #800080; font-weight: bold\">SignalCalibration</span><span style=\"font-weight: bold\">(</span>\n",
       "<span style=\"color: #7fbf7f; text-decoration-color: #7fbf7f\">│   │   │   </span><span style=\"color: #808000; text-decoration-color: #808000\">oscillator</span>=<span style=\"color: #800080; text-decoration-color: #800080; font-style: italic\">None</span>,\n",
       "<span style=\"color: #7fbf7f; text-decoration-color: #7fbf7f\">│   │   │   </span><span style=\"color: #808000; text-decoration-color: #808000\">local_oscillator</span>=<span style=\"color: #800080; text-decoration-color: #800080; font-weight: bold\">Oscillator</span><span style=\"font-weight: bold\">(</span>\n",
       "<span style=\"color: #7fbf7f; text-decoration-color: #7fbf7f\">│   │   │   │   </span><span style=\"color: #808000; text-decoration-color: #808000\">uid</span>=<span style=\"color: #008000; text-decoration-color: #008000\">'q0_readout_local_osc'</span>,\n",
       "<span style=\"color: #7fbf7f; text-decoration-color: #7fbf7f\">│   │   │   │   </span><span style=\"color: #808000; text-decoration-color: #808000\">frequency</span>=<span style=\"color: #008080; text-decoration-color: #008080; font-weight: bold\">7000000000.0</span>,\n",
       "<span style=\"color: #7fbf7f; text-decoration-color: #7fbf7f\">│   │   │   │   </span><span style=\"color: #808000; text-decoration-color: #808000\">modulation_type</span>=<span style=\"color: #800080; text-decoration-color: #800080\">ModulationType</span>.AUTO,\n",
       "<span style=\"color: #7fbf7f; text-decoration-color: #7fbf7f\">│   │   │   │   </span><span style=\"color: #808000; text-decoration-color: #808000\">carrier_type</span>=<span style=\"color: #800080; text-decoration-color: #800080\">CarrierType</span>.RF\n",
       "<span style=\"color: #7fbf7f; text-decoration-color: #7fbf7f\">│   │   │   </span><span style=\"font-weight: bold\">)</span>,\n",
       "<span style=\"color: #7fbf7f; text-decoration-color: #7fbf7f\">│   │   │   </span><span style=\"color: #808000; text-decoration-color: #808000\">mixer_calibration</span>=<span style=\"color: #800080; text-decoration-color: #800080; font-style: italic\">None</span>,\n",
       "<span style=\"color: #7fbf7f; text-decoration-color: #7fbf7f\">│   │   │   </span><span style=\"color: #808000; text-decoration-color: #808000\">precompensation</span>=<span style=\"color: #800080; text-decoration-color: #800080; font-style: italic\">None</span>,\n",
       "<span style=\"color: #7fbf7f; text-decoration-color: #7fbf7f\">│   │   │   </span><span style=\"color: #808000; text-decoration-color: #808000\">port_delay</span>=<span style=\"color: #800080; text-decoration-color: #800080; font-style: italic\">None</span>,\n",
       "<span style=\"color: #7fbf7f; text-decoration-color: #7fbf7f\">│   │   │   </span><span style=\"color: #808000; text-decoration-color: #808000\">port_mode</span>=<span style=\"color: #800080; text-decoration-color: #800080; font-style: italic\">None</span>,\n",
       "<span style=\"color: #7fbf7f; text-decoration-color: #7fbf7f\">│   │   │   </span><span style=\"color: #808000; text-decoration-color: #808000\">delay_signal</span>=<span style=\"color: #800080; text-decoration-color: #800080; font-style: italic\">None</span>,\n",
       "<span style=\"color: #7fbf7f; text-decoration-color: #7fbf7f\">│   │   │   </span><span style=\"color: #808000; text-decoration-color: #808000\">voltage_offset</span>=<span style=\"color: #800080; text-decoration-color: #800080; font-style: italic\">None</span>,\n",
       "<span style=\"color: #7fbf7f; text-decoration-color: #7fbf7f\">│   │   │   </span><span style=\"color: #808000; text-decoration-color: #808000\">range</span>=<span style=\"color: #008080; text-decoration-color: #008080; font-weight: bold\">-25</span>,\n",
       "<span style=\"color: #7fbf7f; text-decoration-color: #7fbf7f\">│   │   │   </span><span style=\"color: #808000; text-decoration-color: #808000\">threshold</span>=<span style=\"color: #800080; text-decoration-color: #800080; font-style: italic\">None</span>,\n",
       "<span style=\"color: #7fbf7f; text-decoration-color: #7fbf7f\">│   │   │   </span><span style=\"color: #808000; text-decoration-color: #808000\">amplitude</span>=<span style=\"color: #800080; text-decoration-color: #800080; font-style: italic\">None</span>,\n",
       "<span style=\"color: #7fbf7f; text-decoration-color: #7fbf7f\">│   │   │   </span><span style=\"color: #808000; text-decoration-color: #808000\">amplifier_pump</span>=<span style=\"color: #800080; text-decoration-color: #800080; font-style: italic\">None</span>\n",
       "<span style=\"color: #7fbf7f; text-decoration-color: #7fbf7f\">│   │   </span><span style=\"font-weight: bold\">)</span>,\n",
       "<span style=\"color: #7fbf7f; text-decoration-color: #7fbf7f\">│   │   </span><span style=\"color: #008000; text-decoration-color: #008000\">'/physical_channel_groups/device_shfqc/qachannels_0_input'</span>: <span style=\"color: #800080; text-decoration-color: #800080; font-weight: bold\">SignalCalibration</span><span style=\"font-weight: bold\">(</span>\n",
       "<span style=\"color: #7fbf7f; text-decoration-color: #7fbf7f\">│   │   │   </span><span style=\"color: #808000; text-decoration-color: #808000\">oscillator</span>=<span style=\"color: #800080; text-decoration-color: #800080; font-style: italic\">None</span>,\n",
       "<span style=\"color: #7fbf7f; text-decoration-color: #7fbf7f\">│   │   │   </span><span style=\"color: #808000; text-decoration-color: #808000\">local_oscillator</span>=<span style=\"color: #800080; text-decoration-color: #800080; font-weight: bold\">Oscillator</span><span style=\"font-weight: bold\">(</span>\n",
       "<span style=\"color: #7fbf7f; text-decoration-color: #7fbf7f\">│   │   │   │   </span><span style=\"color: #808000; text-decoration-color: #808000\">uid</span>=<span style=\"color: #008000; text-decoration-color: #008000\">'q0_readout_local_osc'</span>,\n",
       "<span style=\"color: #7fbf7f; text-decoration-color: #7fbf7f\">│   │   │   │   </span><span style=\"color: #808000; text-decoration-color: #808000\">frequency</span>=<span style=\"color: #008080; text-decoration-color: #008080; font-weight: bold\">7000000000.0</span>,\n",
       "<span style=\"color: #7fbf7f; text-decoration-color: #7fbf7f\">│   │   │   │   </span><span style=\"color: #808000; text-decoration-color: #808000\">modulation_type</span>=<span style=\"color: #800080; text-decoration-color: #800080\">ModulationType</span>.AUTO,\n",
       "<span style=\"color: #7fbf7f; text-decoration-color: #7fbf7f\">│   │   │   │   </span><span style=\"color: #808000; text-decoration-color: #808000\">carrier_type</span>=<span style=\"color: #800080; text-decoration-color: #800080\">CarrierType</span>.RF\n",
       "<span style=\"color: #7fbf7f; text-decoration-color: #7fbf7f\">│   │   │   </span><span style=\"font-weight: bold\">)</span>,\n",
       "<span style=\"color: #7fbf7f; text-decoration-color: #7fbf7f\">│   │   │   </span><span style=\"color: #808000; text-decoration-color: #808000\">mixer_calibration</span>=<span style=\"color: #800080; text-decoration-color: #800080; font-style: italic\">None</span>,\n",
       "<span style=\"color: #7fbf7f; text-decoration-color: #7fbf7f\">│   │   │   </span><span style=\"color: #808000; text-decoration-color: #808000\">precompensation</span>=<span style=\"color: #800080; text-decoration-color: #800080; font-style: italic\">None</span>,\n",
       "<span style=\"color: #7fbf7f; text-decoration-color: #7fbf7f\">│   │   │   </span><span style=\"color: #808000; text-decoration-color: #808000\">port_delay</span>=<span style=\"color: #008080; text-decoration-color: #008080; font-weight: bold\">2.4e-07</span>,\n",
       "<span style=\"color: #7fbf7f; text-decoration-color: #7fbf7f\">│   │   │   </span><span style=\"color: #808000; text-decoration-color: #808000\">port_mode</span>=<span style=\"color: #800080; text-decoration-color: #800080; font-style: italic\">None</span>,\n",
       "<span style=\"color: #7fbf7f; text-decoration-color: #7fbf7f\">│   │   │   </span><span style=\"color: #808000; text-decoration-color: #808000\">delay_signal</span>=<span style=\"color: #800080; text-decoration-color: #800080; font-style: italic\">None</span>,\n",
       "<span style=\"color: #7fbf7f; text-decoration-color: #7fbf7f\">│   │   │   </span><span style=\"color: #808000; text-decoration-color: #808000\">voltage_offset</span>=<span style=\"color: #800080; text-decoration-color: #800080; font-style: italic\">None</span>,\n",
       "<span style=\"color: #7fbf7f; text-decoration-color: #7fbf7f\">│   │   │   </span><span style=\"color: #808000; text-decoration-color: #808000\">range</span>=<span style=\"color: #008080; text-decoration-color: #008080; font-weight: bold\">-5</span>,\n",
       "<span style=\"color: #7fbf7f; text-decoration-color: #7fbf7f\">│   │   │   </span><span style=\"color: #808000; text-decoration-color: #808000\">threshold</span>=<span style=\"color: #800080; text-decoration-color: #800080; font-style: italic\">None</span>,\n",
       "<span style=\"color: #7fbf7f; text-decoration-color: #7fbf7f\">│   │   │   </span><span style=\"color: #808000; text-decoration-color: #808000\">amplitude</span>=<span style=\"color: #800080; text-decoration-color: #800080; font-style: italic\">None</span>,\n",
       "<span style=\"color: #7fbf7f; text-decoration-color: #7fbf7f\">│   │   │   </span><span style=\"color: #808000; text-decoration-color: #808000\">amplifier_pump</span>=<span style=\"color: #800080; text-decoration-color: #800080; font-style: italic\">None</span>\n",
       "<span style=\"color: #7fbf7f; text-decoration-color: #7fbf7f\">│   │   </span><span style=\"font-weight: bold\">)</span>,\n",
       "<span style=\"color: #7fbf7f; text-decoration-color: #7fbf7f\">│   │   </span><span style=\"color: #008000; text-decoration-color: #008000\">'/physical_channel_groups/device_shfqc/sgchannels_3_output'</span>: <span style=\"color: #800080; text-decoration-color: #800080; font-weight: bold\">SignalCalibration</span><span style=\"font-weight: bold\">(</span>\n",
       "<span style=\"color: #7fbf7f; text-decoration-color: #7fbf7f\">│   │   │   </span><span style=\"color: #808000; text-decoration-color: #808000\">oscillator</span>=<span style=\"color: #800080; text-decoration-color: #800080; font-style: italic\">None</span>,\n",
       "<span style=\"color: #7fbf7f; text-decoration-color: #7fbf7f\">│   │   │   </span><span style=\"color: #808000; text-decoration-color: #808000\">local_oscillator</span>=<span style=\"color: #800080; text-decoration-color: #800080; font-weight: bold\">Oscillator</span><span style=\"font-weight: bold\">(</span>\n",
       "<span style=\"color: #7fbf7f; text-decoration-color: #7fbf7f\">│   │   │   │   </span><span style=\"color: #808000; text-decoration-color: #808000\">uid</span>=<span style=\"color: #008000; text-decoration-color: #008000\">'q0_drive_local_osc'</span>,\n",
       "<span style=\"color: #7fbf7f; text-decoration-color: #7fbf7f\">│   │   │   │   </span><span style=\"color: #808000; text-decoration-color: #808000\">frequency</span>=<span style=\"color: #008080; text-decoration-color: #008080; font-weight: bold\">5000000000.0</span>,\n",
       "<span style=\"color: #7fbf7f; text-decoration-color: #7fbf7f\">│   │   │   │   </span><span style=\"color: #808000; text-decoration-color: #808000\">modulation_type</span>=<span style=\"color: #800080; text-decoration-color: #800080\">ModulationType</span>.AUTO,\n",
       "<span style=\"color: #7fbf7f; text-decoration-color: #7fbf7f\">│   │   │   │   </span><span style=\"color: #808000; text-decoration-color: #808000\">carrier_type</span>=<span style=\"color: #800080; text-decoration-color: #800080\">CarrierType</span>.RF\n",
       "<span style=\"color: #7fbf7f; text-decoration-color: #7fbf7f\">│   │   │   </span><span style=\"font-weight: bold\">)</span>,\n",
       "<span style=\"color: #7fbf7f; text-decoration-color: #7fbf7f\">│   │   │   </span><span style=\"color: #808000; text-decoration-color: #808000\">mixer_calibration</span>=<span style=\"color: #800080; text-decoration-color: #800080; font-style: italic\">None</span>,\n",
       "<span style=\"color: #7fbf7f; text-decoration-color: #7fbf7f\">│   │   │   </span><span style=\"color: #808000; text-decoration-color: #808000\">precompensation</span>=<span style=\"color: #800080; text-decoration-color: #800080; font-style: italic\">None</span>,\n",
       "<span style=\"color: #7fbf7f; text-decoration-color: #7fbf7f\">│   │   │   </span><span style=\"color: #808000; text-decoration-color: #808000\">port_delay</span>=<span style=\"color: #800080; text-decoration-color: #800080; font-style: italic\">None</span>,\n",
       "<span style=\"color: #7fbf7f; text-decoration-color: #7fbf7f\">│   │   │   </span><span style=\"color: #808000; text-decoration-color: #808000\">port_mode</span>=<span style=\"color: #800080; text-decoration-color: #800080; font-style: italic\">None</span>,\n",
       "<span style=\"color: #7fbf7f; text-decoration-color: #7fbf7f\">│   │   │   </span><span style=\"color: #808000; text-decoration-color: #808000\">delay_signal</span>=<span style=\"color: #800080; text-decoration-color: #800080; font-style: italic\">None</span>,\n",
       "<span style=\"color: #7fbf7f; text-decoration-color: #7fbf7f\">│   │   │   </span><span style=\"color: #808000; text-decoration-color: #808000\">voltage_offset</span>=<span style=\"color: #800080; text-decoration-color: #800080; font-style: italic\">None</span>,\n",
       "<span style=\"color: #7fbf7f; text-decoration-color: #7fbf7f\">│   │   │   </span><span style=\"color: #808000; text-decoration-color: #808000\">range</span>=<span style=\"color: #008080; text-decoration-color: #008080; font-weight: bold\">10</span>,\n",
       "<span style=\"color: #7fbf7f; text-decoration-color: #7fbf7f\">│   │   │   </span><span style=\"color: #808000; text-decoration-color: #808000\">threshold</span>=<span style=\"color: #800080; text-decoration-color: #800080; font-style: italic\">None</span>,\n",
       "<span style=\"color: #7fbf7f; text-decoration-color: #7fbf7f\">│   │   │   </span><span style=\"color: #808000; text-decoration-color: #808000\">amplitude</span>=<span style=\"color: #800080; text-decoration-color: #800080; font-style: italic\">None</span>,\n",
       "<span style=\"color: #7fbf7f; text-decoration-color: #7fbf7f\">│   │   │   </span><span style=\"color: #808000; text-decoration-color: #808000\">amplifier_pump</span>=<span style=\"color: #800080; text-decoration-color: #800080; font-style: italic\">None</span>\n",
       "<span style=\"color: #7fbf7f; text-decoration-color: #7fbf7f\">│   │   </span><span style=\"font-weight: bold\">)</span>\n",
       "<span style=\"color: #7fbf7f; text-decoration-color: #7fbf7f\">│   </span><span style=\"font-weight: bold\">}</span>\n",
       "<span style=\"font-weight: bold\">)</span>\n",
       "</pre>\n"
      ],
      "text/plain": [
       "\u001b[1;35mCalibration\u001b[0m\u001b[1m(\u001b[0m\n",
       "\u001b[2;32m│   \u001b[0m\u001b[33mcalibration_items\u001b[0m=\u001b[1m{\u001b[0m\n",
       "\u001b[2;32m│   │   \u001b[0m\u001b[32m'/logical_signal_groups/q0/drive_line'\u001b[0m: \u001b[1;35mSignalCalibration\u001b[0m\u001b[1m(\u001b[0m\n",
       "\u001b[2;32m│   │   │   \u001b[0m\u001b[33moscillator\u001b[0m=\u001b[1;35mOscillator\u001b[0m\u001b[1m(\u001b[0m\n",
       "\u001b[2;32m│   │   │   │   \u001b[0m\u001b[33muid\u001b[0m=\u001b[32m'q0_drive_ge_osc'\u001b[0m,\n",
       "\u001b[2;32m│   │   │   │   \u001b[0m\u001b[33mfrequency\u001b[0m=\u001b[1;36m811539176\u001b[0m\u001b[1;36m.0604649\u001b[0m,\n",
       "\u001b[2;32m│   │   │   │   \u001b[0m\u001b[33mmodulation_type\u001b[0m=\u001b[35mModulationType\u001b[0m.HARDWARE,\n",
       "\u001b[2;32m│   │   │   │   \u001b[0m\u001b[33mcarrier_type\u001b[0m=\u001b[35mCarrierType\u001b[0m.RF\n",
       "\u001b[2;32m│   │   │   \u001b[0m\u001b[1m)\u001b[0m,\n",
       "\u001b[2;32m│   │   │   \u001b[0m\u001b[33mlocal_oscillator\u001b[0m=\u001b[1;35mOscillator\u001b[0m\u001b[1m(\u001b[0m\n",
       "\u001b[2;32m│   │   │   │   \u001b[0m\u001b[33muid\u001b[0m=\u001b[32m'q0_drive_local_osc'\u001b[0m,\n",
       "\u001b[2;32m│   │   │   │   \u001b[0m\u001b[33mfrequency\u001b[0m=\u001b[1;36m5000000000\u001b[0m\u001b[1;36m.0\u001b[0m,\n",
       "\u001b[2;32m│   │   │   │   \u001b[0m\u001b[33mmodulation_type\u001b[0m=\u001b[35mModulationType\u001b[0m.AUTO,\n",
       "\u001b[2;32m│   │   │   │   \u001b[0m\u001b[33mcarrier_type\u001b[0m=\u001b[35mCarrierType\u001b[0m.RF\n",
       "\u001b[2;32m│   │   │   \u001b[0m\u001b[1m)\u001b[0m,\n",
       "\u001b[2;32m│   │   │   \u001b[0m\u001b[33mmixer_calibration\u001b[0m=\u001b[3;35mNone\u001b[0m,\n",
       "\u001b[2;32m│   │   │   \u001b[0m\u001b[33mprecompensation\u001b[0m=\u001b[3;35mNone\u001b[0m,\n",
       "\u001b[2;32m│   │   │   \u001b[0m\u001b[33mport_delay\u001b[0m=\u001b[3;35mNone\u001b[0m,\n",
       "\u001b[2;32m│   │   │   \u001b[0m\u001b[33mport_mode\u001b[0m=\u001b[3;35mNone\u001b[0m,\n",
       "\u001b[2;32m│   │   │   \u001b[0m\u001b[33mdelay_signal\u001b[0m=\u001b[3;35mNone\u001b[0m,\n",
       "\u001b[2;32m│   │   │   \u001b[0m\u001b[33mvoltage_offset\u001b[0m=\u001b[3;35mNone\u001b[0m,\n",
       "\u001b[2;32m│   │   │   \u001b[0m\u001b[33mrange\u001b[0m=\u001b[1;36m10\u001b[0m,\n",
       "\u001b[2;32m│   │   │   \u001b[0m\u001b[33mthreshold\u001b[0m=\u001b[3;35mNone\u001b[0m,\n",
       "\u001b[2;32m│   │   │   \u001b[0m\u001b[33mamplitude\u001b[0m=\u001b[3;35mNone\u001b[0m,\n",
       "\u001b[2;32m│   │   │   \u001b[0m\u001b[33mamplifier_pump\u001b[0m=\u001b[3;35mNone\u001b[0m\n",
       "\u001b[2;32m│   │   \u001b[0m\u001b[1m)\u001b[0m,\n",
       "\u001b[2;32m│   │   \u001b[0m\u001b[32m'/logical_signal_groups/q0/measure_line'\u001b[0m: \u001b[1;35mSignalCalibration\u001b[0m\u001b[1m(\u001b[0m\n",
       "\u001b[2;32m│   │   │   \u001b[0m\u001b[33moscillator\u001b[0m=\u001b[1;35mOscillator\u001b[0m\u001b[1m(\u001b[0m\n",
       "\u001b[2;32m│   │   │   │   \u001b[0m\u001b[33muid\u001b[0m=\u001b[32m'q0_measure_osc'\u001b[0m,\n",
       "\u001b[2;32m│   │   │   │   \u001b[0m\u001b[33mfrequency\u001b[0m=\u001b[1;36m258000000\u001b[0m\u001b[1;36m.0\u001b[0m,\n",
       "\u001b[2;32m│   │   │   │   \u001b[0m\u001b[33mmodulation_type\u001b[0m=\u001b[35mModulationType\u001b[0m.SOFTWARE,\n",
       "\u001b[2;32m│   │   │   │   \u001b[0m\u001b[33mcarrier_type\u001b[0m=\u001b[35mCarrierType\u001b[0m.RF\n",
       "\u001b[2;32m│   │   │   \u001b[0m\u001b[1m)\u001b[0m,\n",
       "\u001b[2;32m│   │   │   \u001b[0m\u001b[33mlocal_oscillator\u001b[0m=\u001b[1;35mOscillator\u001b[0m\u001b[1m(\u001b[0m\n",
       "\u001b[2;32m│   │   │   │   \u001b[0m\u001b[33muid\u001b[0m=\u001b[32m'q0_readout_local_osc'\u001b[0m,\n",
       "\u001b[2;32m│   │   │   │   \u001b[0m\u001b[33mfrequency\u001b[0m=\u001b[1;36m7000000000\u001b[0m\u001b[1;36m.0\u001b[0m,\n",
       "\u001b[2;32m│   │   │   │   \u001b[0m\u001b[33mmodulation_type\u001b[0m=\u001b[35mModulationType\u001b[0m.AUTO,\n",
       "\u001b[2;32m│   │   │   │   \u001b[0m\u001b[33mcarrier_type\u001b[0m=\u001b[35mCarrierType\u001b[0m.RF\n",
       "\u001b[2;32m│   │   │   \u001b[0m\u001b[1m)\u001b[0m,\n",
       "\u001b[2;32m│   │   │   \u001b[0m\u001b[33mmixer_calibration\u001b[0m=\u001b[3;35mNone\u001b[0m,\n",
       "\u001b[2;32m│   │   │   \u001b[0m\u001b[33mprecompensation\u001b[0m=\u001b[3;35mNone\u001b[0m,\n",
       "\u001b[2;32m│   │   │   \u001b[0m\u001b[33mport_delay\u001b[0m=\u001b[3;35mNone\u001b[0m,\n",
       "\u001b[2;32m│   │   │   \u001b[0m\u001b[33mport_mode\u001b[0m=\u001b[3;35mNone\u001b[0m,\n",
       "\u001b[2;32m│   │   │   \u001b[0m\u001b[33mdelay_signal\u001b[0m=\u001b[3;35mNone\u001b[0m,\n",
       "\u001b[2;32m│   │   │   \u001b[0m\u001b[33mvoltage_offset\u001b[0m=\u001b[3;35mNone\u001b[0m,\n",
       "\u001b[2;32m│   │   │   \u001b[0m\u001b[33mrange\u001b[0m=\u001b[1;36m-25\u001b[0m,\n",
       "\u001b[2;32m│   │   │   \u001b[0m\u001b[33mthreshold\u001b[0m=\u001b[3;35mNone\u001b[0m,\n",
       "\u001b[2;32m│   │   │   \u001b[0m\u001b[33mamplitude\u001b[0m=\u001b[3;35mNone\u001b[0m,\n",
       "\u001b[2;32m│   │   │   \u001b[0m\u001b[33mamplifier_pump\u001b[0m=\u001b[3;35mNone\u001b[0m\n",
       "\u001b[2;32m│   │   \u001b[0m\u001b[1m)\u001b[0m,\n",
       "\u001b[2;32m│   │   \u001b[0m\u001b[32m'/logical_signal_groups/q0/acquire_line'\u001b[0m: \u001b[1;35mSignalCalibration\u001b[0m\u001b[1m(\u001b[0m\n",
       "\u001b[2;32m│   │   │   \u001b[0m\u001b[33moscillator\u001b[0m=\u001b[1;35mOscillator\u001b[0m\u001b[1m(\u001b[0m\n",
       "\u001b[2;32m│   │   │   │   \u001b[0m\u001b[33muid\u001b[0m=\u001b[32m'q0_acquire_osc'\u001b[0m,\n",
       "\u001b[2;32m│   │   │   │   \u001b[0m\u001b[33mfrequency\u001b[0m=\u001b[1;36m258000000\u001b[0m\u001b[1;36m.0\u001b[0m,\n",
       "\u001b[2;32m│   │   │   │   \u001b[0m\u001b[33mmodulation_type\u001b[0m=\u001b[35mModulationType\u001b[0m.SOFTWARE,\n",
       "\u001b[2;32m│   │   │   │   \u001b[0m\u001b[33mcarrier_type\u001b[0m=\u001b[35mCarrierType\u001b[0m.RF\n",
       "\u001b[2;32m│   │   │   \u001b[0m\u001b[1m)\u001b[0m,\n",
       "\u001b[2;32m│   │   │   \u001b[0m\u001b[33mlocal_oscillator\u001b[0m=\u001b[1;35mOscillator\u001b[0m\u001b[1m(\u001b[0m\n",
       "\u001b[2;32m│   │   │   │   \u001b[0m\u001b[33muid\u001b[0m=\u001b[32m'q0_readout_local_osc'\u001b[0m,\n",
       "\u001b[2;32m│   │   │   │   \u001b[0m\u001b[33mfrequency\u001b[0m=\u001b[1;36m7000000000\u001b[0m\u001b[1;36m.0\u001b[0m,\n",
       "\u001b[2;32m│   │   │   │   \u001b[0m\u001b[33mmodulation_type\u001b[0m=\u001b[35mModulationType\u001b[0m.AUTO,\n",
       "\u001b[2;32m│   │   │   │   \u001b[0m\u001b[33mcarrier_type\u001b[0m=\u001b[35mCarrierType\u001b[0m.RF\n",
       "\u001b[2;32m│   │   │   \u001b[0m\u001b[1m)\u001b[0m,\n",
       "\u001b[2;32m│   │   │   \u001b[0m\u001b[33mmixer_calibration\u001b[0m=\u001b[3;35mNone\u001b[0m,\n",
       "\u001b[2;32m│   │   │   \u001b[0m\u001b[33mprecompensation\u001b[0m=\u001b[3;35mNone\u001b[0m,\n",
       "\u001b[2;32m│   │   │   \u001b[0m\u001b[33mport_delay\u001b[0m=\u001b[1;36m2\u001b[0m\u001b[1;36m.4e-07\u001b[0m,\n",
       "\u001b[2;32m│   │   │   \u001b[0m\u001b[33mport_mode\u001b[0m=\u001b[3;35mNone\u001b[0m,\n",
       "\u001b[2;32m│   │   │   \u001b[0m\u001b[33mdelay_signal\u001b[0m=\u001b[3;35mNone\u001b[0m,\n",
       "\u001b[2;32m│   │   │   \u001b[0m\u001b[33mvoltage_offset\u001b[0m=\u001b[3;35mNone\u001b[0m,\n",
       "\u001b[2;32m│   │   │   \u001b[0m\u001b[33mrange\u001b[0m=\u001b[1;36m-5\u001b[0m,\n",
       "\u001b[2;32m│   │   │   \u001b[0m\u001b[33mthreshold\u001b[0m=\u001b[3;35mNone\u001b[0m,\n",
       "\u001b[2;32m│   │   │   \u001b[0m\u001b[33mamplitude\u001b[0m=\u001b[3;35mNone\u001b[0m,\n",
       "\u001b[2;32m│   │   │   \u001b[0m\u001b[33mamplifier_pump\u001b[0m=\u001b[3;35mNone\u001b[0m\n",
       "\u001b[2;32m│   │   \u001b[0m\u001b[1m)\u001b[0m,\n",
       "\u001b[2;32m│   │   \u001b[0m\u001b[32m'/physical_channel_groups/device_shfqc/qachannels_0_output'\u001b[0m: \u001b[1;35mSignalCalibration\u001b[0m\u001b[1m(\u001b[0m\n",
       "\u001b[2;32m│   │   │   \u001b[0m\u001b[33moscillator\u001b[0m=\u001b[3;35mNone\u001b[0m,\n",
       "\u001b[2;32m│   │   │   \u001b[0m\u001b[33mlocal_oscillator\u001b[0m=\u001b[1;35mOscillator\u001b[0m\u001b[1m(\u001b[0m\n",
       "\u001b[2;32m│   │   │   │   \u001b[0m\u001b[33muid\u001b[0m=\u001b[32m'q0_readout_local_osc'\u001b[0m,\n",
       "\u001b[2;32m│   │   │   │   \u001b[0m\u001b[33mfrequency\u001b[0m=\u001b[1;36m7000000000\u001b[0m\u001b[1;36m.0\u001b[0m,\n",
       "\u001b[2;32m│   │   │   │   \u001b[0m\u001b[33mmodulation_type\u001b[0m=\u001b[35mModulationType\u001b[0m.AUTO,\n",
       "\u001b[2;32m│   │   │   │   \u001b[0m\u001b[33mcarrier_type\u001b[0m=\u001b[35mCarrierType\u001b[0m.RF\n",
       "\u001b[2;32m│   │   │   \u001b[0m\u001b[1m)\u001b[0m,\n",
       "\u001b[2;32m│   │   │   \u001b[0m\u001b[33mmixer_calibration\u001b[0m=\u001b[3;35mNone\u001b[0m,\n",
       "\u001b[2;32m│   │   │   \u001b[0m\u001b[33mprecompensation\u001b[0m=\u001b[3;35mNone\u001b[0m,\n",
       "\u001b[2;32m│   │   │   \u001b[0m\u001b[33mport_delay\u001b[0m=\u001b[3;35mNone\u001b[0m,\n",
       "\u001b[2;32m│   │   │   \u001b[0m\u001b[33mport_mode\u001b[0m=\u001b[3;35mNone\u001b[0m,\n",
       "\u001b[2;32m│   │   │   \u001b[0m\u001b[33mdelay_signal\u001b[0m=\u001b[3;35mNone\u001b[0m,\n",
       "\u001b[2;32m│   │   │   \u001b[0m\u001b[33mvoltage_offset\u001b[0m=\u001b[3;35mNone\u001b[0m,\n",
       "\u001b[2;32m│   │   │   \u001b[0m\u001b[33mrange\u001b[0m=\u001b[1;36m-25\u001b[0m,\n",
       "\u001b[2;32m│   │   │   \u001b[0m\u001b[33mthreshold\u001b[0m=\u001b[3;35mNone\u001b[0m,\n",
       "\u001b[2;32m│   │   │   \u001b[0m\u001b[33mamplitude\u001b[0m=\u001b[3;35mNone\u001b[0m,\n",
       "\u001b[2;32m│   │   │   \u001b[0m\u001b[33mamplifier_pump\u001b[0m=\u001b[3;35mNone\u001b[0m\n",
       "\u001b[2;32m│   │   \u001b[0m\u001b[1m)\u001b[0m,\n",
       "\u001b[2;32m│   │   \u001b[0m\u001b[32m'/physical_channel_groups/device_shfqc/qachannels_0_input'\u001b[0m: \u001b[1;35mSignalCalibration\u001b[0m\u001b[1m(\u001b[0m\n",
       "\u001b[2;32m│   │   │   \u001b[0m\u001b[33moscillator\u001b[0m=\u001b[3;35mNone\u001b[0m,\n",
       "\u001b[2;32m│   │   │   \u001b[0m\u001b[33mlocal_oscillator\u001b[0m=\u001b[1;35mOscillator\u001b[0m\u001b[1m(\u001b[0m\n",
       "\u001b[2;32m│   │   │   │   \u001b[0m\u001b[33muid\u001b[0m=\u001b[32m'q0_readout_local_osc'\u001b[0m,\n",
       "\u001b[2;32m│   │   │   │   \u001b[0m\u001b[33mfrequency\u001b[0m=\u001b[1;36m7000000000\u001b[0m\u001b[1;36m.0\u001b[0m,\n",
       "\u001b[2;32m│   │   │   │   \u001b[0m\u001b[33mmodulation_type\u001b[0m=\u001b[35mModulationType\u001b[0m.AUTO,\n",
       "\u001b[2;32m│   │   │   │   \u001b[0m\u001b[33mcarrier_type\u001b[0m=\u001b[35mCarrierType\u001b[0m.RF\n",
       "\u001b[2;32m│   │   │   \u001b[0m\u001b[1m)\u001b[0m,\n",
       "\u001b[2;32m│   │   │   \u001b[0m\u001b[33mmixer_calibration\u001b[0m=\u001b[3;35mNone\u001b[0m,\n",
       "\u001b[2;32m│   │   │   \u001b[0m\u001b[33mprecompensation\u001b[0m=\u001b[3;35mNone\u001b[0m,\n",
       "\u001b[2;32m│   │   │   \u001b[0m\u001b[33mport_delay\u001b[0m=\u001b[1;36m2\u001b[0m\u001b[1;36m.4e-07\u001b[0m,\n",
       "\u001b[2;32m│   │   │   \u001b[0m\u001b[33mport_mode\u001b[0m=\u001b[3;35mNone\u001b[0m,\n",
       "\u001b[2;32m│   │   │   \u001b[0m\u001b[33mdelay_signal\u001b[0m=\u001b[3;35mNone\u001b[0m,\n",
       "\u001b[2;32m│   │   │   \u001b[0m\u001b[33mvoltage_offset\u001b[0m=\u001b[3;35mNone\u001b[0m,\n",
       "\u001b[2;32m│   │   │   \u001b[0m\u001b[33mrange\u001b[0m=\u001b[1;36m-5\u001b[0m,\n",
       "\u001b[2;32m│   │   │   \u001b[0m\u001b[33mthreshold\u001b[0m=\u001b[3;35mNone\u001b[0m,\n",
       "\u001b[2;32m│   │   │   \u001b[0m\u001b[33mamplitude\u001b[0m=\u001b[3;35mNone\u001b[0m,\n",
       "\u001b[2;32m│   │   │   \u001b[0m\u001b[33mamplifier_pump\u001b[0m=\u001b[3;35mNone\u001b[0m\n",
       "\u001b[2;32m│   │   \u001b[0m\u001b[1m)\u001b[0m,\n",
       "\u001b[2;32m│   │   \u001b[0m\u001b[32m'/physical_channel_groups/device_shfqc/sgchannels_3_output'\u001b[0m: \u001b[1;35mSignalCalibration\u001b[0m\u001b[1m(\u001b[0m\n",
       "\u001b[2;32m│   │   │   \u001b[0m\u001b[33moscillator\u001b[0m=\u001b[3;35mNone\u001b[0m,\n",
       "\u001b[2;32m│   │   │   \u001b[0m\u001b[33mlocal_oscillator\u001b[0m=\u001b[1;35mOscillator\u001b[0m\u001b[1m(\u001b[0m\n",
       "\u001b[2;32m│   │   │   │   \u001b[0m\u001b[33muid\u001b[0m=\u001b[32m'q0_drive_local_osc'\u001b[0m,\n",
       "\u001b[2;32m│   │   │   │   \u001b[0m\u001b[33mfrequency\u001b[0m=\u001b[1;36m5000000000\u001b[0m\u001b[1;36m.0\u001b[0m,\n",
       "\u001b[2;32m│   │   │   │   \u001b[0m\u001b[33mmodulation_type\u001b[0m=\u001b[35mModulationType\u001b[0m.AUTO,\n",
       "\u001b[2;32m│   │   │   │   \u001b[0m\u001b[33mcarrier_type\u001b[0m=\u001b[35mCarrierType\u001b[0m.RF\n",
       "\u001b[2;32m│   │   │   \u001b[0m\u001b[1m)\u001b[0m,\n",
       "\u001b[2;32m│   │   │   \u001b[0m\u001b[33mmixer_calibration\u001b[0m=\u001b[3;35mNone\u001b[0m,\n",
       "\u001b[2;32m│   │   │   \u001b[0m\u001b[33mprecompensation\u001b[0m=\u001b[3;35mNone\u001b[0m,\n",
       "\u001b[2;32m│   │   │   \u001b[0m\u001b[33mport_delay\u001b[0m=\u001b[3;35mNone\u001b[0m,\n",
       "\u001b[2;32m│   │   │   \u001b[0m\u001b[33mport_mode\u001b[0m=\u001b[3;35mNone\u001b[0m,\n",
       "\u001b[2;32m│   │   │   \u001b[0m\u001b[33mdelay_signal\u001b[0m=\u001b[3;35mNone\u001b[0m,\n",
       "\u001b[2;32m│   │   │   \u001b[0m\u001b[33mvoltage_offset\u001b[0m=\u001b[3;35mNone\u001b[0m,\n",
       "\u001b[2;32m│   │   │   \u001b[0m\u001b[33mrange\u001b[0m=\u001b[1;36m10\u001b[0m,\n",
       "\u001b[2;32m│   │   │   \u001b[0m\u001b[33mthreshold\u001b[0m=\u001b[3;35mNone\u001b[0m,\n",
       "\u001b[2;32m│   │   │   \u001b[0m\u001b[33mamplitude\u001b[0m=\u001b[3;35mNone\u001b[0m,\n",
       "\u001b[2;32m│   │   │   \u001b[0m\u001b[33mamplifier_pump\u001b[0m=\u001b[3;35mNone\u001b[0m\n",
       "\u001b[2;32m│   │   \u001b[0m\u001b[1m)\u001b[0m\n",
       "\u001b[2;32m│   \u001b[0m\u001b[1m}\u001b[0m\n",
       "\u001b[1m)\u001b[0m\n"
      ]
     },
     "metadata": {},
     "output_type": "display_data"
    },
    {
     "name": "stdout",
     "output_type": "stream",
     "text": [
      "\n"
     ]
    }
   ],
   "source": [
    "qubit_parameters = load_qubit_parameters()\n",
    "\n",
    "qubit_parameters[\"local_oscillators\"][\"readout_lo\"][\"value\"] = 7.0e9\n",
    "\n",
    "transmon_list = update_qubit_parameters_and_calibration(\n",
    "    qubit_parameters, demo_setup, demo_setup_db\n",
    ")\n",
    "print(demo_setup.get_calibration())"
   ]
  },
  {
   "cell_type": "markdown",
   "id": "16ba7945",
   "metadata": {},
   "source": [
    "### Create and Connect to a QCCS Session \n",
    "\n",
    "Establishes the connection to the instruments and readies them for experiments\n"
   ]
  },
  {
   "cell_type": "code",
   "execution_count": 8,
   "id": "6153422f",
   "metadata": {},
   "outputs": [
    {
     "name": "stdout",
     "output_type": "stream",
     "text": [
      "[2023.10.19 13:25:21.519] INFO    Logging initialized from [Default inline config in laboneq.controller.laboneq_logging] logdir is /Users/chihuann/code/related_laboneq/laboneq-library/examples/laboneq_output/log\n",
      "[2023.10.19 13:25:21.520] INFO    VERSION: laboneq 2.16.0\n",
      "[2023.10.19 13:25:21.521] INFO    Connecting to data server at localhost:8004\n",
      "[2023.10.19 13:25:21.521] INFO    Connected to Zurich Instruments LabOne Data Server version 23.06 at localhost:8004\n",
      "[2023.10.19 13:25:21.523] INFO    Configuring the device setup\n",
      "[2023.10.19 13:25:21.523] INFO    The device setup is configured\n"
     ]
    },
    {
     "data": {
      "text/plain": [
       "<laboneq.dsl.session.ConnectionState at 0x15fc8b940>"
      ]
     },
     "execution_count": 8,
     "metadata": {},
     "output_type": "execute_result"
    }
   ],
   "source": [
    "# create and connect to a session\n",
    "session = Session(device_setup=demo_setup)\n",
    "session.connect(do_emulation=emulate, reset_devices=True)"
   ]
  },
  {
   "cell_type": "markdown",
   "id": "d0401347",
   "metadata": {},
   "source": [
    "## CW Spectroscopy\n"
   ]
  },
  {
   "cell_type": "code",
   "execution_count": 9,
   "id": "ff26a8d8",
   "metadata": {
    "lines_to_next_cell": 2
   },
   "outputs": [
    {
     "name": "stdout",
     "output_type": "stream",
     "text": [
      "[2023.10.19 13:25:21.528] INFO    VERSION: laboneq 2.16.0\n",
      "[2023.10.19 13:25:21.529] INFO    Connecting to data server at localhost:8004\n",
      "[2023.10.19 13:25:21.529] INFO    Connected to Zurich Instruments LabOne Data Server version 23.06 at localhost:8004\n",
      "[2023.10.19 13:25:21.530] INFO    Configuring the device setup\n",
      "[2023.10.19 13:25:21.531] INFO    The device setup is configured\n",
      "[2023.10.19 13:25:21.533] INFO    Starting LabOne Q Compiler run...\n",
      "[2023.10.19 13:25:21.588] INFO    Schedule completed\n",
      "[2023.10.19 13:25:21.727] INFO     ────────────────────────────────────────────────────────────────── \n",
      "[2023.10.19 13:25:21.728] INFO     \u001b[1m \u001b[0m\u001b[1mDevice      \u001b[0m\u001b[1m \u001b[0m \u001b[1m \u001b[0m\u001b[1mAWG\u001b[0m\u001b[1m \u001b[0m \u001b[1m \u001b[0m\u001b[1mSeqC LOC\u001b[0m\u001b[1m \u001b[0m \u001b[1m \u001b[0m\u001b[1mCT entries\u001b[0m\u001b[1m \u001b[0m \u001b[1m \u001b[0m\u001b[1mWaveforms\u001b[0m\u001b[1m \u001b[0m \u001b[1m \u001b[0m\u001b[1mSamples\u001b[0m\u001b[1m \u001b[0m \n",
      "[2023.10.19 13:25:21.728] INFO     ────────────────────────────────────────────────────────────────── \n",
      "[2023.10.19 13:25:21.729] INFO      device_shfqc     0         25            0           0         0  \n",
      "[2023.10.19 13:25:21.729] INFO     ────────────────────────────────────────────────────────────────── \n",
      "[2023.10.19 13:25:21.729] INFO     \u001b[1m \u001b[0m\u001b[1mTOTAL       \u001b[0m\u001b[1m \u001b[0m \u001b[1m \u001b[0m\u001b[1m   \u001b[0m\u001b[1m \u001b[0m \u001b[1m \u001b[0m\u001b[1m      25\u001b[0m\u001b[1m \u001b[0m \u001b[1m \u001b[0m\u001b[1m         0\u001b[0m\u001b[1m \u001b[0m \u001b[1m \u001b[0m\u001b[1m         \u001b[0m\u001b[1m \u001b[0m \u001b[1m \u001b[0m\u001b[1m      0\u001b[0m\u001b[1m \u001b[0m \n",
      "[2023.10.19 13:25:21.730] INFO     ────────────────────────────────────────────────────────────────── \n",
      "[2023.10.19 13:25:21.730] INFO    Finished LabOne Q Compiler run.\n",
      "[2023.10.19 13:25:21.734] INFO    Starting near-time execution...\n",
      "[2023.10.19 13:25:21.736] INFO    Estimated RT execution time: 10.01 s.\n",
      "[2023.10.19 13:25:21.737] INFO    Estimated RT execution time: 10.01 s.\n",
      "[2023.10.19 13:25:21.739] INFO    Estimated RT execution time: 10.01 s.\n",
      "[2023.10.19 13:25:21.740] INFO    Finished near-time execution.\n"
     ]
    }
   ],
   "source": [
    "cw_spectroscopy_exp = resonator_spectroscopy_parallel_CW_full_range(\n",
    "    transmon_list,\n",
    "    create_freq_sweep(\"outer\", 6e9, 8e9, 3),\n",
    "    create_freq_sweep(\"inner\", -500e6, 500e6, 1001),\n",
    ")\n",
    "session.connect(do_emulation=emulate, reset_devices=True)\n",
    "compiled_cw_spectroscopy_exp = session.compile(cw_spectroscopy_exp)\n",
    "cw_spectroscopy_results = session.run(compiled_cw_spectroscopy_exp)"
   ]
  },
  {
   "cell_type": "code",
   "execution_count": 10,
   "id": "d06233ec",
   "metadata": {
    "lines_to_next_cell": 2
   },
   "outputs": [
    {
     "data": {
      "text/plain": [
       "Text(0.5, 1.0, 'CW resonator spectroscopy, large range')"
      ]
     },
     "execution_count": 10,
     "metadata": {},
     "output_type": "execute_result"
    },
    {
     "data": {
      "image/png": "[encoded data removed]",
      "text/plain": [
       "<Figure size 640x480 with 1 Axes>"
      ]
     },
     "metadata": {},
     "output_type": "display_data"
    }
   ],
   "source": [
    "# access and plot results of one 8GHz sweep\n",
    "gnd_signal = abs(cw_spectroscopy_results.get_data(\"resonator_spectroscopy_q0\"))\n",
    "\n",
    "outer = cw_spectroscopy_results.get_axis(\"resonator_spectroscopy_q0\")[0]\n",
    "inner = cw_spectroscopy_results.get_axis(\"resonator_spectroscopy_q0\")[1]\n",
    "full_sweep = np.array(flatten([out + inner for out in outer]))\n",
    "\n",
    "plt.plot(full_sweep / 1e9, np.array(flatten([data for data in gnd_signal])))\n",
    "plt.xlabel(\"Resonator drive frequency (GHz)\")\n",
    "plt.ylabel(\"Signal (a.u)\")\n",
    "plt.title(\"CW resonator spectroscopy, large range\")"
   ]
  },
  {
   "cell_type": "code",
   "execution_count": 11,
   "id": "e843c576",
   "metadata": {
    "lines_to_next_cell": 2
   },
   "outputs": [],
   "source": [
    "save_results(demo_results_db, cw_spectroscopy_results, \"cw_spec_results\", \"full_sweep\")"
   ]
  },
  {
   "cell_type": "markdown",
   "id": "86b4bdfa",
   "metadata": {},
   "source": [
    "# Baseband sweep CW spectroscopy"
   ]
  },
  {
   "cell_type": "code",
   "execution_count": 12,
   "id": "503f21d1",
   "metadata": {
    "lines_to_next_cell": 2
   },
   "outputs": [
    {
     "name": "stdout",
     "output_type": "stream",
     "text": [
      "[2023.10.19 13:25:21.949] INFO    VERSION: laboneq 2.16.0\n",
      "[2023.10.19 13:25:21.950] INFO    Connecting to data server at localhost:8004\n",
      "[2023.10.19 13:25:21.951] INFO    Connected to Zurich Instruments LabOne Data Server version 23.06 at localhost:8004\n",
      "[2023.10.19 13:25:21.954] INFO    Configuring the device setup\n",
      "[2023.10.19 13:25:21.955] INFO    The device setup is configured\n",
      "[2023.10.19 13:25:21.958] INFO    Starting LabOne Q Compiler run...\n",
      "[2023.10.19 13:25:21.993] INFO    Schedule completed\n",
      "[2023.10.19 13:25:22.048] INFO     ────────────────────────────────────────────────────────────────── \n",
      "[2023.10.19 13:25:22.048] INFO     \u001b[1m \u001b[0m\u001b[1mDevice      \u001b[0m\u001b[1m \u001b[0m \u001b[1m \u001b[0m\u001b[1mAWG\u001b[0m\u001b[1m \u001b[0m \u001b[1m \u001b[0m\u001b[1mSeqC LOC\u001b[0m\u001b[1m \u001b[0m \u001b[1m \u001b[0m\u001b[1mCT entries\u001b[0m\u001b[1m \u001b[0m \u001b[1m \u001b[0m\u001b[1mWaveforms\u001b[0m\u001b[1m \u001b[0m \u001b[1m \u001b[0m\u001b[1mSamples\u001b[0m\u001b[1m \u001b[0m \n",
      "[2023.10.19 13:25:22.048] INFO     ────────────────────────────────────────────────────────────────── \n",
      "[2023.10.19 13:25:22.049] INFO      device_shfqc     0         25            0           0         0  \n",
      "[2023.10.19 13:25:22.049] INFO     ────────────────────────────────────────────────────────────────── \n",
      "[2023.10.19 13:25:22.049] INFO     \u001b[1m \u001b[0m\u001b[1mTOTAL       \u001b[0m\u001b[1m \u001b[0m \u001b[1m \u001b[0m\u001b[1m   \u001b[0m\u001b[1m \u001b[0m \u001b[1m \u001b[0m\u001b[1m      25\u001b[0m\u001b[1m \u001b[0m \u001b[1m \u001b[0m\u001b[1m         0\u001b[0m\u001b[1m \u001b[0m \u001b[1m \u001b[0m\u001b[1m         \u001b[0m\u001b[1m \u001b[0m \u001b[1m \u001b[0m\u001b[1m      0\u001b[0m\u001b[1m \u001b[0m \n",
      "[2023.10.19 13:25:22.049] INFO     ────────────────────────────────────────────────────────────────── \n",
      "[2023.10.19 13:25:22.050] INFO    Finished LabOne Q Compiler run.\n",
      "[2023.10.19 13:25:22.052] INFO    Starting near-time execution...\n",
      "[2023.10.19 13:25:22.055] INFO    Finished near-time execution.\n"
     ]
    }
   ],
   "source": [
    "single_cw = resonator_spectroscopy_single(\n",
    "    transmon_list[0],\n",
    "    create_freq_sweep(f\"{transmon_list[0].uid}_sweep\", 210e6, 290e6, 401),\n",
    "    measure_range=-25,\n",
    "    acquire_range=-5,\n",
    ")\n",
    "session.connect(do_emulation=emulate, reset_devices=True)\n",
    "compiled_single_cw_spect_exp = session.compile(single_cw)\n",
    "cw_spectroscopy_results = session.run(compiled_single_cw_spect_exp)\n",
    "# plot_results(cw_spectroscopy_results)"
   ]
  },
  {
   "cell_type": "markdown",
   "id": "d061b1e3",
   "metadata": {},
   "source": [
    "### Make nice resonator spectroscopy plot"
   ]
  },
  {
   "cell_type": "code",
   "execution_count": 13,
   "id": "7cc0cb3c",
   "metadata": {},
   "outputs": [
    {
     "data": {
      "image/png": "[encoded data removed]",
      "text/plain": [
       "<Figure size 640x480 with 1 Axes>"
      ]
     },
     "metadata": {},
     "output_type": "display_data"
    }
   ],
   "source": [
    "lo_frequency = cw_spectroscopy_results.experiment.signals[\n",
    "    \"measure_q0\"\n",
    "].calibration.local_oscillator.frequency\n",
    "\n",
    "gnd_signal = abs(cw_spectroscopy_results.get_data(\"resonator_spectroscopy_q0\"))\n",
    "full_sweep = (\n",
    "    cw_spectroscopy_results.get_axis(\"resonator_spectroscopy_q0\")[0] + lo_frequency\n",
    ")\n",
    "\n",
    "gnd_signal = gnd_signal / max(gnd_signal)\n",
    "\n",
    "plt.plot(full_sweep / 1e9, gnd_signal, color=dark_blue_color_zi)\n",
    "plt.xlabel(\"Resonator drive frequency (GHz)\")\n",
    "plt.ylabel(\"Transmission (norm.)\")\n",
    "plt.tight_layout()"
   ]
  },
  {
   "cell_type": "code",
   "execution_count": 14,
   "id": "171d141e",
   "metadata": {
    "lines_to_next_cell": 2
   },
   "outputs": [],
   "source": [
    "# analyze_qspec(res=cw_spectroscopy_results, handle=\"resonator_spectroscopy_q0\")"
   ]
  },
  {
   "cell_type": "code",
   "execution_count": 15,
   "id": "51e916db",
   "metadata": {
    "lines_to_next_cell": 2
   },
   "outputs": [
    {
     "name": "stdout",
     "output_type": "stream",
     "text": [
      "7258000000.0\n"
     ]
    }
   ],
   "source": [
    "first_readout_res = lo_frequency + 0.258e9\n",
    "print(first_readout_res)"
   ]
  },
  {
   "cell_type": "code",
   "execution_count": 16,
   "id": "e2ccff01",
   "metadata": {},
   "outputs": [],
   "source": [
    "qubit_parameters[\"qubits\"][\"q0\"][\"readout_resonator_frequency\"][\n",
    "    \"value\"\n",
    "] = first_readout_res\n",
    "\n",
    "transmon_list = update_qubit_parameters_and_calibration(\n",
    "    qubit_parameters, demo_setup, demo_setup_db\n",
    ")"
   ]
  },
  {
   "cell_type": "markdown",
   "id": "4d800ab7",
   "metadata": {},
   "source": [
    "# Spectroscopy vs Power - \"Punchout\" NOT TESTED\n"
   ]
  },
  {
   "cell_type": "code",
   "execution_count": 17,
   "id": "8a2f9e64",
   "metadata": {
    "lines_to_next_cell": 2
   },
   "outputs": [
    {
     "name": "stdout",
     "output_type": "stream",
     "text": [
      "[2023.10.19 13:25:22.157] INFO    VERSION: laboneq 2.16.0\n",
      "[2023.10.19 13:25:22.158] INFO    Connecting to data server at localhost:8004\n",
      "[2023.10.19 13:25:22.159] INFO    Connected to Zurich Instruments LabOne Data Server version 23.06 at localhost:8004\n",
      "[2023.10.19 13:25:22.160] INFO    Configuring the device setup\n",
      "[2023.10.19 13:25:22.160] INFO    The device setup is configured\n",
      "[2023.10.19 13:25:22.162] INFO    Starting LabOne Q Compiler run...\n",
      "[2023.10.19 13:25:22.264] INFO    Schedule completed\n",
      "[2023.10.19 13:25:22.528] INFO     ────────────────────────────────────────────────────────────────── \n",
      "[2023.10.19 13:25:22.529] INFO     \u001b[1m \u001b[0m\u001b[1mDevice      \u001b[0m\u001b[1m \u001b[0m \u001b[1m \u001b[0m\u001b[1mAWG\u001b[0m\u001b[1m \u001b[0m \u001b[1m \u001b[0m\u001b[1mSeqC LOC\u001b[0m\u001b[1m \u001b[0m \u001b[1m \u001b[0m\u001b[1mCT entries\u001b[0m\u001b[1m \u001b[0m \u001b[1m \u001b[0m\u001b[1mWaveforms\u001b[0m\u001b[1m \u001b[0m \u001b[1m \u001b[0m\u001b[1mSamples\u001b[0m\u001b[1m \u001b[0m \n",
      "[2023.10.19 13:25:22.529] INFO     ────────────────────────────────────────────────────────────────── \n",
      "[2023.10.19 13:25:22.529] INFO      device_shfqc     0         23            0           1      3200  \n",
      "[2023.10.19 13:25:22.530] INFO     ────────────────────────────────────────────────────────────────── \n",
      "[2023.10.19 13:25:22.530] INFO     \u001b[1m \u001b[0m\u001b[1mTOTAL       \u001b[0m\u001b[1m \u001b[0m \u001b[1m \u001b[0m\u001b[1m   \u001b[0m\u001b[1m \u001b[0m \u001b[1m \u001b[0m\u001b[1m      23\u001b[0m\u001b[1m \u001b[0m \u001b[1m \u001b[0m\u001b[1m         0\u001b[0m\u001b[1m \u001b[0m \u001b[1m \u001b[0m\u001b[1m         \u001b[0m\u001b[1m \u001b[0m \u001b[1m \u001b[0m\u001b[1m   3200\u001b[0m\u001b[1m \u001b[0m \n",
      "[2023.10.19 13:25:22.530] INFO     ────────────────────────────────────────────────────────────────── \n",
      "[2023.10.19 13:25:22.531] INFO    Finished LabOne Q Compiler run.\n",
      "[2023.10.19 13:25:22.534] INFO    Starting near-time execution...\n",
      "[2023.10.19 13:25:22.536] INFO    Estimated RT execution time: 25.85 s.\n",
      "[2023.10.19 13:25:22.538] INFO    Estimated RT execution time: 25.85 s.\n",
      "[2023.10.19 13:25:22.539] INFO    Estimated RT execution time: 25.85 s.\n",
      "[2023.10.19 13:25:22.540] INFO    Finished near-time execution.\n"
     ]
    },
    {
     "data": {
      "image/png": "[encoded data removed]",
      "text/plain": [
       "<Figure size 640x480 with 2 Axes>"
      ]
     },
     "metadata": {},
     "output_type": "display_data"
    }
   ],
   "source": [
    "if True:\n",
    "    freq_upper = (\n",
    "        transmon_list[0].parameters.readout_resonator_frequency\n",
    "        - transmon_list[0].parameters.readout_lo_frequency\n",
    "        + 50e6\n",
    "    )\n",
    "    freq_lower = (\n",
    "        transmon_list[0].parameters.readout_resonator_frequency\n",
    "        - transmon_list[0].parameters.readout_lo_frequency\n",
    "        - 50e6\n",
    "    )\n",
    "\n",
    "    amp_sweep = SweepParameter(\n",
    "        uid=\"amp_sweep2\",\n",
    "        values=np.logspace(start=np.log10(0.001), stop=np.log10(1), num=3),\n",
    "    )\n",
    "\n",
    "    punchout = res_spectroscopy_pulsed_amp_sweep(\n",
    "        qubit=transmon_list[0],\n",
    "        integration_kernel=integration_kernel,\n",
    "        readout_pulse=readout_gauss_square_pulse,\n",
    "        frequency_sweep=create_freq_sweep(\n",
    "            f\"{transmon_list[0].uid}_sweep\", freq_lower, freq_upper, 1001\n",
    "        ),\n",
    "        amplitude_sweep=amp_sweep,\n",
    "        num_averages=2**8,\n",
    "        measure_range=-25,\n",
    "        acquire_range=-5,\n",
    "    )\n",
    "\n",
    "    session.connect(do_emulation=emulate, reset_devices=True)\n",
    "    comp_punchout = session.compile(punchout)\n",
    "    punchout_result = session.run(comp_punchout)\n",
    "\n",
    "    plot_results(punchout_result)"
   ]
  },
  {
   "cell_type": "code",
   "execution_count": 18,
   "id": "7edc0c8a",
   "metadata": {
    "lines_to_next_cell": 2
   },
   "outputs": [],
   "source": [
    "if False:\n",
    "    save_results(\n",
    "        demo_results_db,\n",
    "        punchout_result,\n",
    "        \"punchout\",\n",
    "        \"neg_25_meas_neg_5_acq_range\",\n",
    "    )"
   ]
  },
  {
   "cell_type": "code",
   "execution_count": 19,
   "id": "8f958a39",
   "metadata": {},
   "outputs": [],
   "source": [
    "if False:\n",
    "    qubit_parameters[\"multiplex_readout\"][\"readout_amplitude\"][\"value\"] = 0.55\n",
    "\n",
    "    transmon_list = update_qubit_parameters_and_calibration(\n",
    "        qubit_parameters, demo_setup, demo_setup_db\n",
    "    )"
   ]
  },
  {
   "cell_type": "markdown",
   "id": "cda14399",
   "metadata": {},
   "source": [
    "## Continue with your tune-up experiments:\n",
    "\n",
    "* Qubit Spec\n",
    "* Rabi\n",
    "* Ramsey\n",
    "* T1\n",
    "* Hahn Echo\n",
    "\n",
    "What's after that? There are many ways to go once you have done the basics:\n",
    "\n",
    "* Drag pulse tune-up\n",
    "* Single shot readout\n",
    "* Active reset\n",
    "* f-level tune-up\n",
    "* Two qubit gates\n",
    "* Tomography\n",
    "* RB"
   ]
  },
  {
   "cell_type": "markdown",
   "id": "9aabafba",
   "metadata": {},
   "source": [
    "# Qubit Spectroscopy"
   ]
  },
  {
   "cell_type": "code",
   "execution_count": 20,
   "id": "7e1b1398",
   "metadata": {},
   "outputs": [],
   "source": [
    "def gen_const_pulse(qubit, length=15e-5, amplitude=1.0):\n",
    "    return pulse_library.const(\n",
    "        uid=f\"{qubit}\", length=length, amplitude=amplitude, can_compress=True\n",
    "    )"
   ]
  },
  {
   "cell_type": "code",
   "execution_count": 21,
   "id": "04bda3f8",
   "metadata": {},
   "outputs": [],
   "source": [
    "qubit_parameters[\"qubits\"][\"q0\"][\"drive_range_ge\"][\"value\"] = -30\n",
    "transmon_list = update_qubit_parameters_and_calibration(\n",
    "    qubit_parameters, demo_setup, demo_setup_db\n",
    ")"
   ]
  },
  {
   "cell_type": "code",
   "execution_count": 22,
   "id": "06fe6faf",
   "metadata": {},
   "outputs": [],
   "source": [
    "qubit_spec_exp = qubit_spectroscopy_single(\n",
    "    qubit=transmon_list[0],\n",
    "    integration_kernel=integration_kernel,\n",
    "    readout_pulse=readout_pulse,\n",
    "    qubit_spectroscopy_pulse=gen_const_pulse,\n",
    "    qspec_range=6e6,\n",
    "    qspec_num=251,\n",
    "    num_averages=2**10,\n",
    ")"
   ]
  },
  {
   "cell_type": "code",
   "execution_count": 23,
   "id": "811735d5",
   "metadata": {},
   "outputs": [
    {
     "name": "stdout",
     "output_type": "stream",
     "text": [
      "[2023.10.19 13:25:22.720] INFO    VERSION: laboneq 2.16.0\n",
      "[2023.10.19 13:25:22.721] INFO    Connecting to data server at localhost:8004\n",
      "[2023.10.19 13:25:22.721] INFO    Connected to Zurich Instruments LabOne Data Server version 23.06 at localhost:8004\n",
      "[2023.10.19 13:25:22.723] INFO    Configuring the device setup\n",
      "[2023.10.19 13:25:22.723] INFO    The device setup is configured\n",
      "[2023.10.19 13:25:22.725] INFO    Starting LabOne Q Compiler run...\n",
      "[2023.10.19 13:25:22.744] INFO    Schedule completed\n",
      "[2023.10.19 13:25:23.613] INFO     ───────────────────────────────────────────────────────────────────── \n",
      "[2023.10.19 13:25:23.614] INFO     \u001b[1m \u001b[0m\u001b[1mDevice         \u001b[0m\u001b[1m \u001b[0m \u001b[1m \u001b[0m\u001b[1mAWG\u001b[0m\u001b[1m \u001b[0m \u001b[1m \u001b[0m\u001b[1mSeqC LOC\u001b[0m\u001b[1m \u001b[0m \u001b[1m \u001b[0m\u001b[1mCT entries\u001b[0m\u001b[1m \u001b[0m \u001b[1m \u001b[0m\u001b[1mWaveforms\u001b[0m\u001b[1m \u001b[0m \u001b[1m \u001b[0m\u001b[1mSamples\u001b[0m\u001b[1m \u001b[0m \n",
      "[2023.10.19 13:25:23.614] INFO     ───────────────────────────────────────────────────────────────────── \n",
      "[2023.10.19 13:25:23.614] INFO      device_shfqc        0         14            0           1      3200  \n",
      "[2023.10.19 13:25:23.615] INFO      device_shfqc_sg     3         32            1           1        64  \n",
      "[2023.10.19 13:25:23.615] INFO     ───────────────────────────────────────────────────────────────────── \n",
      "[2023.10.19 13:25:23.615] INFO     \u001b[1m \u001b[0m\u001b[1mTOTAL          \u001b[0m\u001b[1m \u001b[0m \u001b[1m \u001b[0m\u001b[1m   \u001b[0m\u001b[1m \u001b[0m \u001b[1m \u001b[0m\u001b[1m      46\u001b[0m\u001b[1m \u001b[0m \u001b[1m \u001b[0m\u001b[1m         1\u001b[0m\u001b[1m \u001b[0m \u001b[1m \u001b[0m\u001b[1m         \u001b[0m\u001b[1m \u001b[0m \u001b[1m \u001b[0m\u001b[1m   3264\u001b[0m\u001b[1m \u001b[0m \n",
      "[2023.10.19 13:25:23.616] INFO     ───────────────────────────────────────────────────────────────────── \n",
      "[2023.10.19 13:25:23.616] INFO    Finished LabOne Q Compiler run.\n",
      "[2023.10.19 13:25:23.619] INFO    Starting near-time execution...\n",
      "[2023.10.19 13:25:23.622] INFO    Estimated RT execution time: 64.48 s.\n",
      "[2023.10.19 13:25:23.623] INFO    Finished near-time execution.\n"
     ]
    }
   ],
   "source": [
    "session.connect(do_emulation=emulate, reset_devices=True)\n",
    "qspec_res = session.run(qubit_spec_exp)"
   ]
  },
  {
   "cell_type": "code",
   "execution_count": 24,
   "id": "2d6f1a8b",
   "metadata": {},
   "outputs": [
    {
     "data": {
      "image/png": "[encoded data removed]",
      "text/plain": [
       "<Figure size 640x480 with 1 Axes>"
      ]
     },
     "metadata": {},
     "output_type": "display_data"
    }
   ],
   "source": [
    "lo_frequency = qubit_parameters[\"qubits\"][\"q0\"][\"drive_lo_frequency\"][\"value\"]\n",
    "\n",
    "gnd_signal = abs(\n",
    "    qspec_res.get_data(\"q0_spectroscopy\") - qspec_res.get_data(\"q0_spectroscopy\")[0]\n",
    ")\n",
    "gnd_signal = gnd_signal\n",
    "# gnd_signal = abs(qspec_res.get_data(\"q0_spectroscopy\"))\n",
    "full_sweep = qspec_res.get_axis(\"q0_spectroscopy\")[0] + lo_frequency\n",
    "\n",
    "plt.plot(full_sweep / 1e9, gnd_signal)\n",
    "plt.xlabel(\"Qubit drive frequency (GHz)\")\n",
    "plt.ylabel(\"Signal (a.u)\")\n",
    "plt.tight_layout()"
   ]
  },
  {
   "cell_type": "code",
   "execution_count": 25,
   "id": "db3442ac",
   "metadata": {},
   "outputs": [
    {
     "name": "stderr",
     "output_type": "stream",
     "text": [
      "/Users/chihuann/code/related_laboneq/laboneq-library/experiment_library/analysis/tuneup_helper_legacy.py:220: RankWarning: Polyfit may be poorly conditioned\n",
      "  slope = np.polyfit(np.real(complex_values), np.imag(complex_values), 1)[0]\n"
     ]
    },
    {
     "data": {
      "image/png": "[encoded data removed]",
      "text/plain": [
       "<Figure size 640x480 with 1 Axes>"
      ]
     },
     "metadata": {},
     "output_type": "display_data"
    },
    {
     "name": "stdout",
     "output_type": "stream",
     "text": [
      "798294973.6729732\n"
     ]
    }
   ],
   "source": [
    "qubit_resonance = analyze_qspec(\n",
    "    qspec_res, \"q0_spectroscopy\", f0=7.49e8, a=0.03, gamma=1e6, flip=True, rotate=True\n",
    ")\n",
    "print(qubit_resonance)"
   ]
  },
  {
   "cell_type": "markdown",
   "id": "58fbb2f8",
   "metadata": {},
   "source": [
    "### Update qubit resonance"
   ]
  },
  {
   "cell_type": "code",
   "execution_count": 26,
   "id": "c9c59ce3",
   "metadata": {},
   "outputs": [
    {
     "name": "stdout",
     "output_type": "stream",
     "text": [
      "5798294973.672974\n"
     ]
    }
   ],
   "source": [
    "qubit_parameters[\"qubits\"][\"q0\"][\"resonance_frequency_ge\"][\"value\"] = (\n",
    "    qubit_parameters[\"qubits\"][\"q0\"][\"drive_lo_frequency\"][\"value\"] + qubit_resonance\n",
    ")\n",
    "print(qubit_parameters[\"qubits\"][\"q0\"][\"resonance_frequency_ge\"][\"value\"])\n",
    "transmon_list = update_qubit_parameters_and_calibration(\n",
    "    qubit_parameters, demo_setup, demo_setup_db\n",
    ")"
   ]
  },
  {
   "cell_type": "markdown",
   "id": "33ac36de",
   "metadata": {},
   "source": [
    "# Amplitude Rabi"
   ]
  },
  {
   "cell_type": "code",
   "execution_count": 27,
   "id": "52401de6",
   "metadata": {},
   "outputs": [],
   "source": [
    "qubit_parameters[\"qubits\"][\"q0\"][\"drive_range_ge\"][\"value\"] = 10\n",
    "transmon_list = update_qubit_parameters_and_calibration(\n",
    "    qubit_parameters, demo_setup, demo_setup_db\n",
    ")"
   ]
  },
  {
   "cell_type": "code",
   "execution_count": 28,
   "id": "709b7630",
   "metadata": {},
   "outputs": [],
   "source": [
    "def amplitude_rabi_single(\n",
    "    qubit,\n",
    "    drive_pulse,\n",
    "    integration_kernel,\n",
    "    readout_pulse,\n",
    "    amplitude_sweep,\n",
    "    num_averages=2**10,\n",
    "    cal_trace=False,\n",
    "    pi_amplitude=0.5,\n",
    "):\n",
    "    exp_rabi = Experiment(\n",
    "        uid=\"Qubit Spectroscopy\",\n",
    "        signals=flatten(\n",
    "            [\n",
    "                [\n",
    "                    ExperimentSignal(\n",
    "                        f\"drive_{qubit.uid}\", map_to=qubit.signals[\"drive\"]\n",
    "                    ),\n",
    "                    ExperimentSignal(\n",
    "                        f\"measure_{qubit.uid}\", map_to=qubit.signals[\"measure\"]\n",
    "                    ),\n",
    "                    ExperimentSignal(\n",
    "                        f\"acquire_{qubit.uid}\", map_to=qubit.signals[\"acquire\"]\n",
    "                    ),\n",
    "                ]\n",
    "            ]\n",
    "        ),\n",
    "    )\n",
    "\n",
    "    ## define Rabi experiment pulse sequence\n",
    "    # outer loop - real-time, cyclic averaging\n",
    "    with exp_rabi.acquire_loop_rt(\n",
    "        uid=\"rabi_shots\",\n",
    "        count=num_averages,\n",
    "        averaging_mode=AveragingMode.CYCLIC,\n",
    "        acquisition_type=AcquisitionType.INTEGRATION,\n",
    "    ):\n",
    "        # inner loop - real time sweep of Rabi amplitudes\n",
    "        with exp_rabi.sweep(uid=\"rabi_sweep\", parameter=amplitude_sweep):\n",
    "            # qubit drive\n",
    "            with exp_rabi.section(\n",
    "                uid=f\"{qubit.uid}_excitation\", alignment=SectionAlignment.RIGHT\n",
    "            ):\n",
    "                exp_rabi.play(\n",
    "                    signal=f\"drive_{qubit.uid}\",\n",
    "                    pulse=drive_pulse(qubit, amplitude=1),\n",
    "                    amplitude=amplitude_sweep,\n",
    "                )\n",
    "            # measurement\n",
    "            with exp_rabi.section(\n",
    "                uid=f\"readout_{qubit.uid}\", play_after=f\"{qubit.uid}_excitation\"\n",
    "            ):\n",
    "                exp_rabi.measure(\n",
    "                    measure_signal=f\"measure_{qubit.uid}\",\n",
    "                    measure_pulse=readout_pulse(qubit),\n",
    "                    handle=f\"{qubit.uid}_rabi\",\n",
    "                    acquire_signal=f\"acquire_{qubit.uid}\",\n",
    "                    integration_kernel=integration_kernel(qubit),\n",
    "                    reset_delay=qubit.parameters.user_defined[\"reset_delay_length\"],\n",
    "                )\n",
    "        if cal_trace:\n",
    "            with exp_rabi.section(uid=\"cal_trace_gnd_meas\"):\n",
    "                exp_rabi.measure(\n",
    "                    measure_signal=f\"measure_{qubit.uid}\",\n",
    "                    measure_pulse=readout_pulse(qubit),\n",
    "                    handle=f\"{qubit.uid}_rabi_cal_trace\",\n",
    "                    acquire_signal=f\"acquire_{qubit.uid}\",\n",
    "                    integration_kernel=integration_kernel(qubit),\n",
    "                    reset_delay=1e-6,  # qubit.parameters.user_defined[\"reset_delay_length\"],\n",
    "                )\n",
    "            with exp_rabi.section(uid=\"cal_trace_exc\", play_after=\"cal_trace_gnd_meas\"):\n",
    "                exp_rabi.play(\n",
    "                    signal=f\"drive_{qubit.uid}\",\n",
    "                    pulse=drive_pulse(qubit, amplitude=1),\n",
    "                    amplitude=pi_amplitude,\n",
    "                )\n",
    "\n",
    "            with exp_rabi.section(uid=\"cal_trace_exc_meas\", play_after=\"cal_trace_exc\"):\n",
    "                exp_rabi.measure(\n",
    "                    measure_signal=f\"measure_{qubit.uid}\",\n",
    "                    measure_pulse=readout_pulse(qubit),\n",
    "                    handle=f\"{qubit.uid}_rabi_cal_trace\",\n",
    "                    acquire_signal=f\"acquire_{qubit.uid}\",\n",
    "                    integration_kernel=integration_kernel(qubit),\n",
    "                    reset_delay=qubit.parameters.user_defined[\"reset_delay_length\"],\n",
    "                )\n",
    "\n",
    "    return exp_rabi"
   ]
  },
  {
   "cell_type": "code",
   "execution_count": 29,
   "id": "14002a6e",
   "metadata": {},
   "outputs": [
    {
     "name": "stdout",
     "output_type": "stream",
     "text": [
      "[2023.10.19 13:25:23.797] INFO    Starting LabOne Q Compiler run...\n",
      "[2023.10.19 13:25:23.803] INFO    Schedule completed\n",
      "[2023.10.19 13:25:23.830] INFO     ───────────────────────────────────────────────────────────────────── \n",
      "[2023.10.19 13:25:23.832] INFO     \u001b[1m \u001b[0m\u001b[1mDevice         \u001b[0m\u001b[1m \u001b[0m \u001b[1m \u001b[0m\u001b[1mAWG\u001b[0m\u001b[1m \u001b[0m \u001b[1m \u001b[0m\u001b[1mSeqC LOC\u001b[0m\u001b[1m \u001b[0m \u001b[1m \u001b[0m\u001b[1mCT entries\u001b[0m\u001b[1m \u001b[0m \u001b[1m \u001b[0m\u001b[1mWaveforms\u001b[0m\u001b[1m \u001b[0m \u001b[1m \u001b[0m\u001b[1mSamples\u001b[0m\u001b[1m \u001b[0m \n",
      "[2023.10.19 13:25:23.833] INFO     ───────────────────────────────────────────────────────────────────── \n",
      "[2023.10.19 13:25:23.835] INFO      device_shfqc        0         20            0           1      3200  \n",
      "[2023.10.19 13:25:23.841] INFO      device_shfqc_sg     3        168           52           2       832  \n",
      "[2023.10.19 13:25:23.846] INFO     ───────────────────────────────────────────────────────────────────── \n",
      "[2023.10.19 13:25:23.850] INFO     \u001b[1m \u001b[0m\u001b[1mTOTAL          \u001b[0m\u001b[1m \u001b[0m \u001b[1m \u001b[0m\u001b[1m   \u001b[0m\u001b[1m \u001b[0m \u001b[1m \u001b[0m\u001b[1m     188\u001b[0m\u001b[1m \u001b[0m \u001b[1m \u001b[0m\u001b[1m        52\u001b[0m\u001b[1m \u001b[0m \u001b[1m \u001b[0m\u001b[1m         \u001b[0m\u001b[1m \u001b[0m \u001b[1m \u001b[0m\u001b[1m   4032\u001b[0m\u001b[1m \u001b[0m \n",
      "[2023.10.19 13:25:23.851] INFO     ───────────────────────────────────────────────────────────────────── \n",
      "[2023.10.19 13:25:23.852] INFO    Finished LabOne Q Compiler run.\n",
      "[2023.10.19 13:25:23.857] INFO    VERSION: laboneq 2.16.0\n",
      "[2023.10.19 13:25:23.862] INFO    Connecting to data server at localhost:8004\n",
      "[2023.10.19 13:25:23.864] INFO    Connected to Zurich Instruments LabOne Data Server version 23.06 at localhost:8004\n",
      "[2023.10.19 13:25:23.866] INFO    Configuring the device setup\n",
      "[2023.10.19 13:25:23.867] INFO    The device setup is configured\n",
      "[2023.10.19 13:25:23.873] INFO    Starting near-time execution...\n",
      "[2023.10.19 13:25:23.880] INFO    Estimated RT execution time: 5.37 s.\n",
      "[2023.10.19 13:25:23.882] INFO    Finished near-time execution.\n"
     ]
    }
   ],
   "source": [
    "amplitude_sweep = LinearSweepParameter(\n",
    "    uid=\"amplitude_sweep\", start=0.0, stop=0.9, count=51\n",
    ")\n",
    "\n",
    "\n",
    "amp_rabi = amplitude_rabi_single(\n",
    "    qubit=transmon_list[0],\n",
    "    drive_pulse=qubit_drive_pulse,\n",
    "    integration_kernel=integration_kernel,\n",
    "    readout_pulse=readout_pulse,\n",
    "    amplitude_sweep=amplitude_sweep,\n",
    "    num_averages=2**10,\n",
    "    pi_amplitude=transmon_list[0].parameters.user_defined[\"amplitude_pi\"],\n",
    "    cal_trace=True,\n",
    ")\n",
    "\n",
    "compiled_rabi = session.compile(amp_rabi)\n",
    "session.connect(do_emulation=emulate, reset_devices=True)\n",
    "rabi_res = session.run(compiled_rabi)"
   ]
  },
  {
   "cell_type": "markdown",
   "id": "46b54712",
   "metadata": {},
   "source": [
    "### Make nice plot for Rabi oscillations"
   ]
  },
  {
   "cell_type": "code",
   "execution_count": 30,
   "id": "5f39ee53",
   "metadata": {},
   "outputs": [],
   "source": [
    "def rabi_curve(x, offset, phase_shift, amplitude, period):\n",
    "    return amplitude * np.sin(np.pi / period * x - phase_shift) + offset"
   ]
  },
  {
   "cell_type": "code",
   "execution_count": 31,
   "id": "d9adcea2",
   "metadata": {},
   "outputs": [
    {
     "data": {
      "text/plain": [
       "<matplotlib.lines.Line2D at 0x16c356320>"
      ]
     },
     "execution_count": 31,
     "metadata": {},
     "output_type": "execute_result"
    },
    {
     "data": {
      "image/png": "[encoded data removed]",
      "text/plain": [
       "<Figure size 700x500 with 1 Axes>"
      ]
     },
     "metadata": {},
     "output_type": "display_data"
    }
   ],
   "source": [
    "handles = list(rabi_res.acquired_results.keys())\n",
    "res1 = np.asarray(rabi_res.get_data(handles[0]))\n",
    "res_cal_trace = np.asarray(rabi_res.get_data(handles[1]))\n",
    "\n",
    "axis1 = rabi_res.get_axis(handles[0])[0]\n",
    "delta_x = axis1[-1] - axis1[-2]\n",
    "axis2 = np.linspace(axis1[-1] + delta_x, axis1[-1] + 2 * delta_x, 2)\n",
    "\n",
    "delta_vec = res_cal_trace[1] - res_cal_trace[0]\n",
    "angle = np.angle(delta_vec)\n",
    "rd = []\n",
    "for r in [res1, res_cal_trace]:\n",
    "    r = r - res_cal_trace[0]\n",
    "    r = r * np.exp(-1j * angle)\n",
    "    r = r / np.abs(delta_vec)\n",
    "    rd.append(r)\n",
    "\n",
    "offset_guess = np.mean(np.real(rd[0]))\n",
    "phase_shift_guess = np.pi / 2\n",
    "amplitude_guess = (max(np.real(rd[0])) - min(np.real(rd[0]))) / 2\n",
    "period_guess = abs(axis1[np.argmax(np.real(rd[0]))] - axis1[np.argmin(np.real(rd[0]))])\n",
    "p0 = [offset_guess, phase_shift_guess, amplitude_guess, period_guess]\n",
    "\n",
    "if not emulate:\n",
    "    popt = scipy.optimize.curve_fit(rabi_curve, axis1, np.real(rd[0]), p0=p0)[0]\n",
    "\n",
    "    pi_amp = scipy.optimize.fmin(\n",
    "        lambda x: -rabi_curve(x, *popt), axis1[np.argmax(np.real(rd[0]))], disp=False\n",
    "    )[0]\n",
    "    pi2_amp = scipy.optimize.fmin(\n",
    "        lambda x: abs(rabi_curve(x, *popt) - popt[0]), pi_amp / 2, disp=False\n",
    "    )[0]\n",
    "else:\n",
    "    pi_amp = 0.5\n",
    "    pi2_amp = 0.25\n",
    "\n",
    "plt.figure(figsize=(7, 5))\n",
    "plt.xlabel(\"Drive pulse amplitude (a.u)\")\n",
    "plt.ylabel(r\"$\\left| e\\right\\rangle$ population\")\n",
    "plt.plot(axis1, np.real(rd[0]), \"o\", color=dark_blue_color_zi)\n",
    "# plt.plot(axis1, rabi_curve(axis1, *popt), color=dark_blue_color_zi)\n",
    "plt.axvline(x=pi_amp, color=\"gray\", linestyle=\"--\", linewidth=2, zorder=-1)\n",
    "plt.axvline(x=pi2_amp, color=\"gray\", linestyle=\"-.\", linewidth=2, zorder=-1)"
   ]
  },
  {
   "cell_type": "code",
   "execution_count": 32,
   "id": "26f05f5e",
   "metadata": {},
   "outputs": [
    {
     "data": {
      "text/plain": [
       "[<matplotlib.lines.Line2D at 0x16c3c66e0>]"
      ]
     },
     "execution_count": 32,
     "metadata": {},
     "output_type": "execute_result"
    },
    {
     "data": {
      "image/png": "[encoded data removed]",
      "text/plain": [
       "<Figure size 640x480 with 1 Axes>"
      ]
     },
     "metadata": {},
     "output_type": "display_data"
    }
   ],
   "source": [
    "plt.plot(np.real(res1), np.imag(res1), \"o\", color=dark_blue_color_zi)\n",
    "plt.plot(\n",
    "    np.real(res_cal_trace[0]), np.imag(res_cal_trace[0]), \"o\", color=orange_color_zi\n",
    ")\n",
    "plt.plot(\n",
    "    np.real(res_cal_trace[1]), np.imag(res_cal_trace[1]), \"o\", color=orange_color_zi\n",
    ")"
   ]
  },
  {
   "cell_type": "code",
   "execution_count": 33,
   "id": "bf858122",
   "metadata": {},
   "outputs": [],
   "source": [
    "qubit_parameters[\"qubits\"][\"q0\"][\"amplitude_pi\"][\"value\"] = float(pi_amp)\n",
    "qubit_parameters[\"qubits\"][\"q0\"][\"amplitude_pi2\"][\"value\"] = float(pi2_amp)\n",
    "\n",
    "\n",
    "transmon_list = update_qubit_parameters_and_calibration(\n",
    "    qubit_parameters, demo_setup, demo_setup_db\n",
    ")"
   ]
  },
  {
   "cell_type": "markdown",
   "id": "a0baba31",
   "metadata": {},
   "source": [
    "## T1 measurement"
   ]
  },
  {
   "cell_type": "code",
   "execution_count": 34,
   "id": "e4993cb6",
   "metadata": {},
   "outputs": [
    {
     "name": "stdout",
     "output_type": "stream",
     "text": [
      "[2023.10.19 13:25:24.122] INFO    Starting LabOne Q Compiler run...\n",
      "[2023.10.19 13:25:24.127] INFO    Schedule completed\n",
      "[2023.10.19 13:25:24.151] INFO     ───────────────────────────────────────────────────────────────────── \n",
      "[2023.10.19 13:25:24.152] INFO     \u001b[1m \u001b[0m\u001b[1mDevice         \u001b[0m\u001b[1m \u001b[0m \u001b[1m \u001b[0m\u001b[1mAWG\u001b[0m\u001b[1m \u001b[0m \u001b[1m \u001b[0m\u001b[1mSeqC LOC\u001b[0m\u001b[1m \u001b[0m \u001b[1m \u001b[0m\u001b[1mCT entries\u001b[0m\u001b[1m \u001b[0m \u001b[1m \u001b[0m\u001b[1mWaveforms\u001b[0m\u001b[1m \u001b[0m \u001b[1m \u001b[0m\u001b[1mSamples\u001b[0m\u001b[1m \u001b[0m \n",
      "[2023.10.19 13:25:24.152] INFO     ───────────────────────────────────────────────────────────────────── \n",
      "[2023.10.19 13:25:24.152] INFO      device_shfqc        0         12            0           1      3200  \n",
      "[2023.10.19 13:25:24.153] INFO      device_shfqc_sg     3        300            1           1       416  \n",
      "[2023.10.19 13:25:24.153] INFO     ───────────────────────────────────────────────────────────────────── \n",
      "[2023.10.19 13:25:24.154] INFO     \u001b[1m \u001b[0m\u001b[1mTOTAL          \u001b[0m\u001b[1m \u001b[0m \u001b[1m \u001b[0m\u001b[1m   \u001b[0m\u001b[1m \u001b[0m \u001b[1m \u001b[0m\u001b[1m     312\u001b[0m\u001b[1m \u001b[0m \u001b[1m \u001b[0m\u001b[1m         1\u001b[0m\u001b[1m \u001b[0m \u001b[1m \u001b[0m\u001b[1m         \u001b[0m\u001b[1m \u001b[0m \u001b[1m \u001b[0m\u001b[1m   3616\u001b[0m\u001b[1m \u001b[0m \n",
      "[2023.10.19 13:25:24.154] INFO     ───────────────────────────────────────────────────────────────────── \n",
      "[2023.10.19 13:25:24.154] INFO    Finished LabOne Q Compiler run.\n",
      "[2023.10.19 13:25:24.156] INFO    VERSION: laboneq 2.16.0\n",
      "[2023.10.19 13:25:24.156] INFO    Connecting to data server at localhost:8004\n",
      "[2023.10.19 13:25:24.156] INFO    Connected to Zurich Instruments LabOne Data Server version 23.06 at localhost:8004\n",
      "[2023.10.19 13:25:24.157] INFO    Configuring the device setup\n",
      "[2023.10.19 13:25:24.157] INFO    The device setup is configured\n",
      "[2023.10.19 13:25:24.159] INFO    Starting near-time execution...\n",
      "[2023.10.19 13:25:24.164] INFO    Estimated RT execution time: 10.49 s.\n",
      "[2023.10.19 13:25:24.165] INFO    Finished near-time execution.\n"
     ]
    }
   ],
   "source": [
    "delay_sweep = LinearSweepParameter(\n",
    "    uid=\"delay_sweep\", start=1e-10, stop=100e-6, count=51\n",
    ")\n",
    "\n",
    "t1_meas = t1_parallel(\n",
    "    qubits=[transmon_list[0]],\n",
    "    drive_pulse=qubit_drive_pulse,\n",
    "    integration_kernel=integration_kernel,\n",
    "    readout_pulse=readout_pulse,\n",
    "    delay_sweep=delay_sweep,\n",
    "    num_averages=2**10,\n",
    ")\n",
    "\n",
    "compiled_t1 = session.compile(t1_meas)\n",
    "session.connect(do_emulation=emulate, reset_devices=True)\n",
    "t1_res = session.run(compiled_t1)"
   ]
  },
  {
   "cell_type": "code",
   "execution_count": 35,
   "id": "01e8e8f6",
   "metadata": {},
   "outputs": [
    {
     "name": "stdout",
     "output_type": "stream",
     "text": [
      "T1 found to be 650255.798 us.\n"
     ]
    },
    {
     "data": {
      "text/plain": [
       "0.6502557980378848"
      ]
     },
     "execution_count": 35,
     "metadata": {},
     "output_type": "execute_result"
    },
    {
     "data": {
      "image/png": "[encoded data removed]",
      "text/plain": [
       "<Figure size 640x480 with 1 Axes>"
      ]
     },
     "metadata": {},
     "output_type": "display_data"
    }
   ],
   "source": [
    "evaluate_T1(t1_res, \"q0_t1\")"
   ]
  },
  {
   "cell_type": "markdown",
   "id": "95f7b879",
   "metadata": {},
   "source": [
    "## Ramsey"
   ]
  },
  {
   "cell_type": "code",
   "execution_count": 36,
   "id": "0dd86547",
   "metadata": {},
   "outputs": [],
   "source": [
    "def ramsey_parallel(\n",
    "    qubits,\n",
    "    drive_pulse: callable,\n",
    "    pi_drive_pulse: callable,\n",
    "    integration_kernel: callable,\n",
    "    readout_pulse: callable,\n",
    "    delay_sweep,\n",
    "    num_averages=2**10,\n",
    "    detuning=0,\n",
    "    cal_trace=False,\n",
    "):\n",
    "    exp_ramsey = Experiment(\n",
    "        uid=\"Ramsey Exp\",\n",
    "        signals=flatten(\n",
    "            [\n",
    "                [\n",
    "                    ExperimentSignal(\n",
    "                        f\"drive_{qubit.uid}\", map_to=qubit.signals[\"drive\"]\n",
    "                    ),\n",
    "                    ExperimentSignal(\n",
    "                        f\"measure_{qubit.uid}\", map_to=qubit.signals[\"measure\"]\n",
    "                    ),\n",
    "                    ExperimentSignal(\n",
    "                        f\"acquire_{qubit.uid}\", map_to=qubit.signals[\"acquire\"]\n",
    "                    ),\n",
    "                ]\n",
    "                for qubit in qubits\n",
    "            ]\n",
    "        ),\n",
    "    )\n",
    "\n",
    "    #   readout_weight = readout_pulse\n",
    "    freq = (\n",
    "        qubits[0].parameters.resonance_frequency_ge\n",
    "        + detuning\n",
    "        - qubits[0].parameters.drive_lo_frequency\n",
    "    )\n",
    "    #  else:\n",
    "    #     freq = detuning\n",
    "\n",
    "    calibration = Calibration()\n",
    "    calibration[\"drive_q0\"] = SignalCalibration(\n",
    "        oscillator=Oscillator(frequency=freq, modulation_type=ModulationType.HARDWARE)\n",
    "    )\n",
    "\n",
    "    exp_ramsey.set_calibration(calibration)\n",
    "\n",
    "    ## define Ramsey experiment pulse sequence\n",
    "    # outer loop - real-time, cyclic averaging\n",
    "    with exp_ramsey.acquire_loop_rt(\n",
    "        uid=\"ramsey_shots\",\n",
    "        count=num_averages,\n",
    "        averaging_mode=AveragingMode.CYCLIC,\n",
    "        acquisition_type=AcquisitionType.INTEGRATION,\n",
    "        # repetition_mode=RepetitionMode.AUTO,\n",
    "    ):\n",
    "        for qubit in qubits:\n",
    "            # inner loop - real time sweep of Ramsey time delays\n",
    "            with exp_ramsey.sweep(\n",
    "                uid=\"ramsey_sweep\",\n",
    "                parameter=delay_sweep,\n",
    "                alignment=SectionAlignment.RIGHT,\n",
    "            ):\n",
    "                # play qubit excitation pulse - pulse amplitude is swept\n",
    "                ramsey_pulse = drive_pulse(qubit)\n",
    "                with exp_ramsey.section(\n",
    "                    uid=f\"{qubit.uid}_excitation\", alignment=SectionAlignment.RIGHT\n",
    "                ):\n",
    "                    exp_ramsey.play(signal=f\"drive_{qubit.uid}\", pulse=ramsey_pulse)\n",
    "                    exp_ramsey.delay(signal=f\"drive_{qubit.uid}\", time=delay_sweep)\n",
    "                    exp_ramsey.play(signal=f\"drive_{qubit.uid}\", pulse=ramsey_pulse)\n",
    "                # readout pulse and data acquisition\n",
    "                # measurement\n",
    "                with exp_ramsey.section(\n",
    "                    uid=f\"readout_{qubit.uid}\", play_after=f\"{qubit.uid}_excitation\"\n",
    "                ):\n",
    "                    exp_ramsey.measure(\n",
    "                        measure_signal=f\"measure_{qubit.uid}\",\n",
    "                        measure_pulse=readout_pulse(qubit),\n",
    "                        handle=f\"{qubit.uid}_ramsey\",\n",
    "                        acquire_signal=f\"acquire_{qubit.uid}\",\n",
    "                        integration_kernel=integration_kernel(qubit),\n",
    "                        reset_delay=qubit.parameters.user_defined[\"reset_delay_length\"],\n",
    "                    )\n",
    "\n",
    "            if cal_trace:\n",
    "                with exp_ramsey.section(uid=\"cal_trace_gnd\"):\n",
    "                    exp_ramsey.measure(\n",
    "                        measure_signal=f\"measure_{qubit.uid}\",\n",
    "                        measure_pulse=readout_pulse(qubit),\n",
    "                        handle=f\"{qubit.uid}_ramsey_cal_trace\",\n",
    "                        acquire_signal=f\"acquire_{qubit.uid}\",\n",
    "                        integration_kernel=integration_kernel(qubit),\n",
    "                        reset_delay=1e-6,  # qubit.parameters.user_defined[\"reset_delay_length\"],\n",
    "                    )\n",
    "                pi_drive_pulse(qubit)  # , amplitude = 1)\n",
    "                with exp_ramsey.section(\n",
    "                    uid=\"cal_trace_exc\", play_after=\"cal_trace_gnd\"\n",
    "                ):\n",
    "                    # exp_ramsey.play(\n",
    "                    #     signal=f\"drive_{qubit.uid}\",\n",
    "                    #     pulse=cal_e_pulse,\n",
    "                    #   #  amplitude = transmon_list[0].parameters.user_defined[\"amplitude_pi\"],\n",
    "                    # )\n",
    "                    exp_ramsey.play(signal=f\"drive_{qubit.uid}\", pulse=ramsey_pulse)\n",
    "                    exp_ramsey.play(signal=f\"drive_{qubit.uid}\", pulse=ramsey_pulse)\n",
    "\n",
    "                with exp_ramsey.section(\n",
    "                    uid=\"cal_trace_exc_meas\", play_after=\"cal_trace_exc\"\n",
    "                ):\n",
    "                    exp_ramsey.measure(\n",
    "                        measure_signal=f\"measure_{qubit.uid}\",\n",
    "                        measure_pulse=readout_pulse(qubit),\n",
    "                        handle=f\"{qubit.uid}_ramsey_cal_trace\",\n",
    "                        acquire_signal=f\"acquire_{qubit.uid}\",\n",
    "                        integration_kernel=integration_kernel(qubit),\n",
    "                        reset_delay=qubit.parameters.user_defined[\"reset_delay_length\"],\n",
    "                    )\n",
    "\n",
    "    return exp_ramsey"
   ]
  },
  {
   "cell_type": "code",
   "execution_count": 37,
   "id": "67f17518",
   "metadata": {},
   "outputs": [],
   "source": [
    "qubit_parameters[\"qubits\"][\"q0\"][\"reset_delay_length\"][\"value\"] = 100e-6\n",
    "transmon_list = update_qubit_parameters_and_calibration(\n",
    "    qubit_parameters, demo_setup, demo_setup_db\n",
    ")"
   ]
  },
  {
   "cell_type": "code",
   "execution_count": 38,
   "id": "f805f58b",
   "metadata": {},
   "outputs": [],
   "source": [
    "def qubit_gaussian_pulse(qubit):\n",
    "    return pulse_library.gaussian(\n",
    "        length=qubit.parameters.user_defined[\"pulse_length\"],\n",
    "        amplitude=qubit.parameters.user_defined[\"amplitude_pi\"],\n",
    "    )\n",
    "\n",
    "\n",
    "def qubit_gaussian_halfpi_pulse(qubit):\n",
    "    return pulse_library.gaussian(\n",
    "        length=qubit.parameters.user_defined[\"pulse_length\"],\n",
    "        amplitude=qubit.parameters.user_defined[\"amplitude_pi2\"],\n",
    "    )"
   ]
  },
  {
   "cell_type": "markdown",
   "id": "63a4a222",
   "metadata": {},
   "source": [
    "### Set detuning freq"
   ]
  },
  {
   "cell_type": "code",
   "execution_count": 39,
   "id": "bf8b59d4",
   "metadata": {},
   "outputs": [],
   "source": [
    "detuning_freq = 0.05e6"
   ]
  },
  {
   "cell_type": "code",
   "execution_count": 40,
   "id": "1afe7051",
   "metadata": {},
   "outputs": [
    {
     "name": "stdout",
     "output_type": "stream",
     "text": [
      "[2023.10.19 13:25:24.283] INFO    VERSION: laboneq 2.16.0\n",
      "[2023.10.19 13:25:24.283] INFO    Connecting to data server at localhost:8004\n",
      "[2023.10.19 13:25:24.284] INFO    Connected to Zurich Instruments LabOne Data Server version 23.06 at localhost:8004\n",
      "[2023.10.19 13:25:24.285] INFO    Configuring the device setup\n",
      "[2023.10.19 13:25:24.286] INFO    The device setup is configured\n",
      "[2023.10.19 13:25:24.288] INFO    Starting LabOne Q Compiler run...\n",
      "[2023.10.19 13:25:24.301] INFO    Schedule completed\n",
      "[2023.10.19 13:25:24.384] INFO     ───────────────────────────────────────────────────────────────────── \n",
      "[2023.10.19 13:25:24.385] INFO     \u001b[1m \u001b[0m\u001b[1mDevice         \u001b[0m\u001b[1m \u001b[0m \u001b[1m \u001b[0m\u001b[1mAWG\u001b[0m\u001b[1m \u001b[0m \u001b[1m \u001b[0m\u001b[1mSeqC LOC\u001b[0m\u001b[1m \u001b[0m \u001b[1m \u001b[0m\u001b[1mCT entries\u001b[0m\u001b[1m \u001b[0m \u001b[1m \u001b[0m\u001b[1mWaveforms\u001b[0m\u001b[1m \u001b[0m \u001b[1m \u001b[0m\u001b[1mSamples\u001b[0m\u001b[1m \u001b[0m \n",
      "[2023.10.19 13:25:24.385] INFO     ───────────────────────────────────────────────────────────────────── \n",
      "[2023.10.19 13:25:24.386] INFO      device_shfqc        0        614            0           1      3200  \n",
      "[2023.10.19 13:25:24.387] INFO      device_shfqc_sg     3        777            5           5      2496  \n",
      "[2023.10.19 13:25:24.388] INFO     ───────────────────────────────────────────────────────────────────── \n",
      "[2023.10.19 13:25:24.388] INFO     \u001b[1m \u001b[0m\u001b[1mTOTAL          \u001b[0m\u001b[1m \u001b[0m \u001b[1m \u001b[0m\u001b[1m   \u001b[0m\u001b[1m \u001b[0m \u001b[1m \u001b[0m\u001b[1m    1391\u001b[0m\u001b[1m \u001b[0m \u001b[1m \u001b[0m\u001b[1m         5\u001b[0m\u001b[1m \u001b[0m \u001b[1m \u001b[0m\u001b[1m         \u001b[0m\u001b[1m \u001b[0m \u001b[1m \u001b[0m\u001b[1m   5696\u001b[0m\u001b[1m \u001b[0m \n",
      "[2023.10.19 13:25:24.389] INFO     ───────────────────────────────────────────────────────────────────── \n",
      "[2023.10.19 13:25:24.391] INFO    Finished LabOne Q Compiler run.\n",
      "[2023.10.19 13:25:24.397] INFO    Starting near-time execution...\n",
      "[2023.10.19 13:25:24.409] INFO    Estimated RT execution time: 18.82 s.\n",
      "[2023.10.19 13:25:24.411] INFO    Finished near-time execution.\n"
     ]
    }
   ],
   "source": [
    "delay_sweep = LinearSweepParameter(uid=\"delay_sweep\", start=0, stop=40e-6, count=151)\n",
    "ramsey_exp = ramsey_parallel(\n",
    "    transmon_list,\n",
    "    qubit_gaussian_halfpi_pulse,\n",
    "    qubit_gaussian_pulse,\n",
    "    integration_kernel,\n",
    "    readout_pulse,\n",
    "    delay_sweep,\n",
    "    num_averages=2**10,\n",
    "    detuning=detuning_freq,\n",
    "    cal_trace=True,\n",
    ")\n",
    "session.connect(do_emulation=emulate, reset_devices=True)\n",
    "compiled_exp = session.compile(ramsey_exp)\n",
    "res_ramsey = session.run(compiled_exp)\n",
    "# show_pulse_sheet(ramsey_exp.uid,compiled_exp)"
   ]
  },
  {
   "cell_type": "code",
   "execution_count": 41,
   "id": "97db5434",
   "metadata": {},
   "outputs": [],
   "source": [
    "def ramsey_curve(x, offset, phase_shift, amplitude, period, t2):\n",
    "    return (\n",
    "        amplitude * np.exp(-x / t2) * np.sin(2 * np.pi * x / period + phase_shift)\n",
    "        + offset\n",
    "    )"
   ]
  },
  {
   "cell_type": "code",
   "execution_count": 42,
   "id": "38d24fe7",
   "metadata": {},
   "outputs": [
    {
     "name": "stdout",
     "output_type": "stream",
     "text": [
      "T2 = 0.020 us\n"
     ]
    }
   ],
   "source": [
    "handles = list(res_ramsey.acquired_results.keys())\n",
    "res1 = np.asarray(res_ramsey.get_data(handles[0]))\n",
    "res_cal_trace = np.asarray(res_ramsey.get_data(handles[1]))\n",
    "axis1 = res_ramsey.get_axis(handles[0])[0]\n",
    "\n",
    "delta_vec = res_cal_trace[1] - res_cal_trace[0]\n",
    "angle = np.angle(delta_vec)\n",
    "rd = []\n",
    "for r in [res1, res_cal_trace]:\n",
    "    r = r - res_cal_trace[0]\n",
    "    r = r * np.exp(-1j * angle)\n",
    "    r = r / np.abs(delta_vec)\n",
    "    rd.append(r)\n",
    "\n",
    "offset_guess = np.mean(np.real(rd[0]))\n",
    "phase_shift_guess = np.pi / 2 if np.real(rd[0])[0] > np.real(rd[0])[-1] else -np.pi / 2\n",
    "amplitude_guess = (max(np.real(rd[0])) - min(np.real(rd[0]))) / 2\n",
    "period_guess = 2 * abs(\n",
    "    axis1[np.argmax(np.real(rd[0]))] - axis1[np.argmin(np.real(rd[0]))]\n",
    ")\n",
    "t2_guess = 10e-6\n",
    "# TODO: Refine t2 guess algorithm, potentially by finding peaks and fitting only them\n",
    "\n",
    "p0 = [offset_guess, phase_shift_guess, amplitude_guess, period_guess, t2_guess]\n",
    "popt = scipy.optimize.curve_fit(ramsey_curve, axis1, np.real(rd[0]), p0=p0)[0]\n",
    "\n",
    "t2 = popt[4]\n",
    "detuning_freq_measured = 1 / popt[3]\n",
    "\n",
    "envelope_param = np.copy(popt)\n",
    "envelope_param[3] = 1e9\n",
    "envelope_param[1] = np.pi / 2\n",
    "\n",
    "x_fit = np.linspace(axis1[0], axis1[-1], 1000)\n",
    "\n",
    "plt.figure(figsize=(7, 5))\n",
    "plt.xlabel(r\"Delay ($\\mu$s)\")\n",
    "plt.ylabel(r\"$\\left| e\\right\\rangle$ population\")\n",
    "plt.plot(axis1 * 1e6, np.real(rd[0]), \"o\", color=dark_blue_color_zi)\n",
    "# plt.plot(x_fit * 1e6, ramsey_curve(x_fit, *popt), color=dark_blue_color_zi)\n",
    "plt.plot(axis1 * 1e6, ramsey_curve(axis1, *envelope_param), color=orange_color_zi)"
   ]
  },
  {
   "cell_type": "code",
   "execution_count": null,
   "id": "0ff5739b",
   "metadata": {},
   "outputs": [],
   "source": [
    "handles = list(res_ramsey.acquired_results.keys())\n",
    "res1 = np.asarray(res_ramsey.get_data(handles[0]))\n",
    "res_cal_trace = np.asarray(res_ramsey.get_data(handles[1]))\n",
    "axis1 = res_ramsey.get_axis(handles[0])[0]\n",
    "\n",
    "delta_vec = res_cal_trace[1] - res_cal_trace[0]\n",
    "angle = np.angle(delta_vec)\n",
    "rd = []\n",
    "for r in [res1, res_cal_trace]:\n",
    "    r = r - res_cal_trace[0]\n",
    "    r = r * np.exp(-1j * angle)\n",
    "    r = r / np.abs(delta_vec)\n",
    "    rd.append(r)\n",
    "\n",
    "offset_guess = np.mean(np.real(rd[0]))\n",
    "phase_shift_guess = np.pi / 2 if np.real(rd[0])[0] > np.real(rd[0])[-1] else -np.pi / 2\n",
    "amplitude_guess = (max(np.real(rd[0])) - min(np.real(rd[0]))) / 2\n",
    "period_guess = 2 * abs(\n",
    "    axis1[np.argmax(np.real(rd[0]))] - axis1[np.argmin(np.real(rd[0]))]\n",
    ")\n",
    "t2_guess = 10e-6\n",
    "# TODO: Refine t2 guess algorithm, potentially by finding peaks and fitting only them\n",
    "\n",
    "p0 = [offset_guess, phase_shift_guess, amplitude_guess, period_guess, t2_guess]\n",
    "if not emulate:\n",
    "    popt = scipy.optimize.curve_fit(ramsey_curve, axis1, np.real(rd[0]), p0=p0)[0]\n",
    "    detuning_freq_measured = 1 / popt[3]\n",
    "\n",
    "    envelope_param = np.copy(popt)\n",
    "    envelope_param[3] = 1e9\n",
    "    envelope_param[1] = np.pi / 2\n",
    "\n",
    "    x_fit = np.linspace(axis1[0], axis1[-1], 1000)\n",
    "\n",
    "    plt.figure(figsize=(7, 5))\n",
    "    plt.xlabel(r\"Delay ($\\mu$s)\")\n",
    "    plt.ylabel(r\"$\\left| e\\right\\rangle$ population\")\n",
    "    plt.plot(axis1 * 1e6, np.real(rd[0]), \"o\", color=dark_blue_color_zi)\n",
    "    # plt.plot(x_fit * 1e6, ramsey_curve(x_fit, *popt), color=dark_blue_color_zi)\n",
    "    plt.plot(axis1 * 1e6, ramsey_curve(axis1, *envelope_param), color=orange_color_zi)\n",
    "    plt.plot(np.real(res1), np.imag(res1), \"o\", color=dark_blue_color_zi)\n",
    "    plt.plot(\n",
    "        np.real(res_cal_trace[0]), np.imag(res_cal_trace[0]), \"o\", color=orange_color_zi\n",
    "    )\n",
    "    plt.plot(\n",
    "        np.real(res_cal_trace[1]), np.imag(res_cal_trace[1]), \"o\", color=orange_color_zi\n",
    "    )\n",
    "    t2 = popt[4]\n",
    "    detuning_freq_measured = 1 / popt[3]\n",
    "else:\n",
    "    t2 = 20e-9\n",
    "    detuning_freq_measured = 1e3\n",
    "print(\"T2 = {:.3f} us\".format(1e6 * t2))"
   ]
  },
  {
   "cell_type": "markdown",
   "id": "e91474b7",
   "metadata": {},
   "source": [
    "### Update qubit resonance frequency"
   ]
  },
  {
   "cell_type": "code",
   "execution_count": 43,
   "id": "0cdeeab1",
   "metadata": {},
   "outputs": [
    {
     "ename": "NameError",
     "evalue": "name 'detuning_freq_measured' is not defined",
     "output_type": "error",
     "traceback": [
      "\u001b[0;31m---------------------------------------------------------------------------\u001b[0m",
      "\u001b[0;31mNameError\u001b[0m                                 Traceback (most recent call last)",
      "\u001b[1;32m/Users/chihuann/code/related_laboneq/laboneq-library/examples/Tune_Up_Active_Reset.ipynb Cell 65\u001b[0m line \u001b[0;36m3\n\u001b[1;32m      <a href='vscode-notebook-cell:/Users/chihuann/code/related_laboneq/laboneq-library/examples/Tune_Up_Active_Reset.ipynb#Y124sZmlsZQ%3D%3D?line=0'>1</a>\u001b[0m qubit_parameters[\u001b[39m\"\u001b[39m\u001b[39mqubits\u001b[39m\u001b[39m\"\u001b[39m][\u001b[39m\"\u001b[39m\u001b[39mq0\u001b[39m\u001b[39m\"\u001b[39m][\u001b[39m\"\u001b[39m\u001b[39mresonance_frequency_ge\u001b[39m\u001b[39m\"\u001b[39m][\u001b[39m\"\u001b[39m\u001b[39mvalue\u001b[39m\u001b[39m\"\u001b[39m] \u001b[39m=\u001b[39m \u001b[39mfloat\u001b[39m(\n\u001b[1;32m      <a href='vscode-notebook-cell:/Users/chihuann/code/related_laboneq/laboneq-library/examples/Tune_Up_Active_Reset.ipynb#Y124sZmlsZQ%3D%3D?line=1'>2</a>\u001b[0m     qubit_parameters[\u001b[39m\"\u001b[39m\u001b[39mqubits\u001b[39m\u001b[39m\"\u001b[39m][\u001b[39m\"\u001b[39m\u001b[39mq0\u001b[39m\u001b[39m\"\u001b[39m][\u001b[39m\"\u001b[39m\u001b[39mresonance_frequency_ge\u001b[39m\u001b[39m\"\u001b[39m][\u001b[39m\"\u001b[39m\u001b[39mvalue\u001b[39m\u001b[39m\"\u001b[39m]\n\u001b[0;32m----> <a href='vscode-notebook-cell:/Users/chihuann/code/related_laboneq/laboneq-library/examples/Tune_Up_Active_Reset.ipynb#Y124sZmlsZQ%3D%3D?line=2'>3</a>\u001b[0m     \u001b[39m-\u001b[39m detuning_freq_measured\n\u001b[1;32m      <a href='vscode-notebook-cell:/Users/chihuann/code/related_laboneq/laboneq-library/examples/Tune_Up_Active_Reset.ipynb#Y124sZmlsZQ%3D%3D?line=3'>4</a>\u001b[0m     \u001b[39m+\u001b[39m detuning_freq\n\u001b[1;32m      <a href='vscode-notebook-cell:/Users/chihuann/code/related_laboneq/laboneq-library/examples/Tune_Up_Active_Reset.ipynb#Y124sZmlsZQ%3D%3D?line=4'>5</a>\u001b[0m )\n\u001b[1;32m      <a href='vscode-notebook-cell:/Users/chihuann/code/related_laboneq/laboneq-library/examples/Tune_Up_Active_Reset.ipynb#Y124sZmlsZQ%3D%3D?line=5'>6</a>\u001b[0m \u001b[39mprint\u001b[39m(qubit_parameters[\u001b[39m\"\u001b[39m\u001b[39mqubits\u001b[39m\u001b[39m\"\u001b[39m][\u001b[39m\"\u001b[39m\u001b[39mq0\u001b[39m\u001b[39m\"\u001b[39m][\u001b[39m\"\u001b[39m\u001b[39mresonance_frequency_ge\u001b[39m\u001b[39m\"\u001b[39m][\u001b[39m\"\u001b[39m\u001b[39mvalue\u001b[39m\u001b[39m\"\u001b[39m])\n\u001b[1;32m      <a href='vscode-notebook-cell:/Users/chihuann/code/related_laboneq/laboneq-library/examples/Tune_Up_Active_Reset.ipynb#Y124sZmlsZQ%3D%3D?line=6'>7</a>\u001b[0m transmon_list \u001b[39m=\u001b[39m update_qubit_parameters_and_calibration(\n\u001b[1;32m      <a href='vscode-notebook-cell:/Users/chihuann/code/related_laboneq/laboneq-library/examples/Tune_Up_Active_Reset.ipynb#Y124sZmlsZQ%3D%3D?line=7'>8</a>\u001b[0m     qubit_parameters, demo_setup, demo_setup_db\n\u001b[1;32m      <a href='vscode-notebook-cell:/Users/chihuann/code/related_laboneq/laboneq-library/examples/Tune_Up_Active_Reset.ipynb#Y124sZmlsZQ%3D%3D?line=8'>9</a>\u001b[0m )\n",
      "\u001b[0;31mNameError\u001b[0m: name 'detuning_freq_measured' is not defined"
     ]
    }
   ],
   "source": [
    "qubit_parameters[\"qubits\"][\"q0\"][\"resonance_frequency_ge\"][\"value\"] = float(\n",
    "    qubit_parameters[\"qubits\"][\"q0\"][\"resonance_frequency_ge\"][\"value\"]\n",
    "    - detuning_freq_measured\n",
    "    + detuning_freq\n",
    ")\n",
    "print(qubit_parameters[\"qubits\"][\"q0\"][\"resonance_frequency_ge\"][\"value\"])\n",
    "transmon_list = update_qubit_parameters_and_calibration(\n",
    "    qubit_parameters, demo_setup, demo_setup_db\n",
    ")"
   ]
  },
  {
   "cell_type": "markdown",
   "id": "a67e4b5c",
   "metadata": {},
   "source": [
    "# Active reset"
   ]
  },
  {
   "cell_type": "markdown",
   "id": "02d78ae8",
   "metadata": {},
   "source": [
    "## Optimize resonance freq"
   ]
  },
  {
   "cell_type": "code",
   "execution_count": null,
   "id": "559e2852",
   "metadata": {},
   "outputs": [],
   "source": [
    "# resonator_spectroscopy gnd\n",
    "gnd_cw = resonator_spectroscopy_g_vs_e(\n",
    "    transmon_list[0],\n",
    "    drive_pulse=None,\n",
    "    readout_pulse=readout_gauss_square_pulse,\n",
    "    integration_kernel=integration_kernel,\n",
    "    frequency_sweep=create_freq_sweep(\n",
    "        f\"{transmon_list[0].uid}_sweep_g\", 210e6, 290e6, 201\n",
    "    ),\n",
    "    measure_range=-25,\n",
    "    acquire_range=-5,\n",
    "    num_averages=2**12,\n",
    ")\n",
    "session.connect(do_emulation=emulate, reset_devices=True)\n",
    "compiled_gnd_cw = session.compile(gnd_cw)\n",
    "show_pulse_sheet(\"gnd_cw\", compiled_gnd_cw)\n",
    "gnd_cw_results = session.run(compiled_gnd_cw)"
   ]
  },
  {
   "cell_type": "code",
   "execution_count": null,
   "id": "61536d65",
   "metadata": {},
   "outputs": [],
   "source": [
    "# resonator_spectroscopy_pi\n",
    "excitation_cw = resonator_spectroscopy_g_vs_e(\n",
    "    transmon_list[0],\n",
    "    drive_pulse=qubit_drive_pulse,\n",
    "    readout_pulse=readout_gauss_square_pulse,\n",
    "    integration_kernel=integration_kernel,\n",
    "    frequency_sweep=create_freq_sweep(\n",
    "        f\"{transmon_list[0].uid}_sweep_e\", 210e6, 290e6, 201\n",
    "    ),\n",
    "    measure_range=-25,\n",
    "    acquire_range=-5,\n",
    "    num_averages=2**12,\n",
    ")\n",
    "session.connect(do_emulation=emulate, reset_devices=True)\n",
    "compiled_excitation_cw = session.compile(excitation_cw)\n",
    "show_pulse_sheet(\"exc_cw\", compiled_excitation_cw)\n",
    "excitation_cw_results = session.run(compiled_excitation_cw)"
   ]
  },
  {
   "cell_type": "markdown",
   "id": "6dbb75a0",
   "metadata": {},
   "source": [
    "### Optimize readout freq based on IQ distance"
   ]
  },
  {
   "cell_type": "code",
   "execution_count": null,
   "id": "c59a81a2",
   "metadata": {},
   "outputs": [],
   "source": [
    "lo_frequency = gnd_cw_results.experiment.signals[\n",
    "    \"measure_q0\"\n",
    "].calibration.local_oscillator.frequency\n",
    "\n",
    "gnd_signal = gnd_cw_results.get_data(\"resonator_spectroscopy_q0\")\n",
    "exc_signal = excitation_cw_results.get_data(\"resonator_spectroscopy_q0\")\n",
    "full_sweep = gnd_cw_results.get_axis(\"resonator_spectroscopy_q0\")[0] + lo_frequency"
   ]
  },
  {
   "cell_type": "code",
   "execution_count": null,
   "id": "f1ae760e",
   "metadata": {},
   "outputs": [],
   "source": [
    "diff_res_signal = abs(exc_signal - gnd_signal)\n",
    "max_res_signal = np.max(diff_res_signal)\n",
    "max_res_signal_idx = np.argmax(diff_res_signal)\n",
    "opt_res_freq = full_sweep[np.argmax(diff_res_signal)]\n",
    "print(f\"Optimized res freq {opt_res_freq/1e9} GHz gives max signal {max_res_signal}\")"
   ]
  },
  {
   "cell_type": "code",
   "execution_count": null,
   "id": "e6e27a40",
   "metadata": {},
   "outputs": [],
   "source": [
    "qubit_parameters[\"qubits\"][\"q0\"][\"readout_resonator_frequency\"][\"value\"] = float(\n",
    "    opt_res_freq\n",
    ")\n",
    "\n",
    "transmon_list = update_qubit_parameters_and_calibration(\n",
    "    qubit_parameters, demo_setup, demo_setup_db\n",
    ")"
   ]
  },
  {
   "cell_type": "markdown",
   "id": "02325399",
   "metadata": {},
   "source": [
    "### Nice plot for optimized resonator readout frequency"
   ]
  },
  {
   "cell_type": "code",
   "execution_count": null,
   "id": "8010b26e",
   "metadata": {},
   "outputs": [],
   "source": [
    "fig = plt.figure(figsize=(5, 5))\n",
    "\n",
    "plt.plot(\n",
    "    np.real(gnd_signal) / np.max(np.real(gnd_signal)),\n",
    "    np.imag(gnd_signal) / np.max(np.imag(gnd_signal)),\n",
    "    \".\",\n",
    "    color=dark_blue_color_zi,\n",
    "    alpha=0.5,\n",
    ")\n",
    "plt.plot(\n",
    "    np.real(exc_signal) / np.max(np.real(gnd_signal)),\n",
    "    np.imag(exc_signal) / np.max(np.imag(gnd_signal)),\n",
    "    \".\",\n",
    "    color=orange_color_zi,\n",
    "    alpha=0.5,\n",
    ")\n",
    "\n",
    "opt_real = [\n",
    "    np.real(gnd_signal[max_res_signal_idx]) / np.max(np.real(gnd_signal)),\n",
    "    np.real(exc_signal[max_res_signal_idx]) / np.max(np.real(gnd_signal)),\n",
    "]\n",
    "opt_imag = [\n",
    "    np.imag(gnd_signal[max_res_signal_idx]) / np.max(np.imag(gnd_signal)),\n",
    "    np.imag(exc_signal[max_res_signal_idx]) / np.max(np.imag(gnd_signal)),\n",
    "]\n",
    "\n",
    "plt.plot(\n",
    "    opt_real[0],\n",
    "    opt_imag[0],\n",
    "    color=dark_blue_color_zi,\n",
    "    marker=\"o\",\n",
    "    label=r\"$\\left| g\\right\\rangle$\",\n",
    ")\n",
    "plt.plot(\n",
    "    opt_real[1],\n",
    "    opt_imag[1],\n",
    "    color=orange_color_zi,\n",
    "    marker=\"o\",\n",
    "    label=r\"$\\left| e\\right\\rangle$\",\n",
    ")\n",
    "plt.plot(opt_real, opt_imag, color=\"grey\", zorder=-1)\n",
    "\n",
    "plt.legend()\n",
    "plt.xlabel(\"I (norm.)\")\n",
    "plt.ylabel(\"Q (norm.)\")"
   ]
  },
  {
   "cell_type": "markdown",
   "id": "719b17d5",
   "metadata": {},
   "source": [
    "### Nice plot for resonator spectroscopy in g and e"
   ]
  },
  {
   "cell_type": "code",
   "execution_count": null,
   "id": "7995b4e2",
   "metadata": {},
   "outputs": [],
   "source": [
    "lo_frequency = gnd_cw_results.experiment.signals[\n",
    "    \"measure_q0\"\n",
    "].calibration.local_oscillator.frequency\n",
    "\n",
    "gnd_signal = abs(gnd_cw_results.get_data(\"resonator_spectroscopy_q0\"))\n",
    "\n",
    "gnd_signal = gnd_signal / max(gnd_signal)\n",
    "\n",
    "exc_signal = abs(excitation_cw_results.get_data(\"resonator_spectroscopy_q0\"))\n",
    "full_sweep2 = (\n",
    "    excitation_cw_results.get_axis(\"resonator_spectroscopy_q0\")[0] + lo_frequency\n",
    ")\n",
    "exc_signal = exc_signal / max(exc_signal)\n",
    "\n",
    "plt.plot(\n",
    "    full_sweep / 1e9,\n",
    "    gnd_signal,\n",
    "    label=r\"$\\left| g\\right\\rangle$\",\n",
    "    color=dark_blue_color_zi,\n",
    ")\n",
    "plt.plot(\n",
    "    full_sweep2 / 1e9,\n",
    "    exc_signal,\n",
    "    label=r\"$\\left| e\\right\\rangle$\",\n",
    "    color=orange_color_zi,\n",
    ")\n",
    "plt.axvline(x=opt_res_freq / 1e9, linestyle=\"--\", color=\"grey\", zorder=-1)\n",
    "plt.xlabel(\"Resonator drive frequency (GHz)\")\n",
    "plt.ylabel(\"Transmission (norm.)\")\n",
    "plt.legend(loc=\"lower right\")\n",
    "plt.tight_layout()"
   ]
  },
  {
   "cell_type": "markdown",
   "id": "07c1e78a",
   "metadata": {},
   "source": [
    "## Optimize kernels"
   ]
  },
  {
   "cell_type": "code",
   "execution_count": null,
   "id": "39cadf87",
   "metadata": {},
   "outputs": [],
   "source": [
    "def gen_exp_ref_trace(\n",
    "    qubit,\n",
    "    drive_pulse,\n",
    "    readout_pulse,\n",
    "    num_averages=2**8,\n",
    "    excited=True,\n",
    "):\n",
    "    measure_pulse = readout_pulse(qubit)\n",
    "    integration_length = measure_pulse.length + 300e-9\n",
    "    print(f\"integration length {integration_length}\")\n",
    "    exp_uid = \"Exp_ref_trace_exc\"\n",
    "\n",
    "    exp_ref_trace = Experiment(\n",
    "        uid=exp_uid,\n",
    "        signals=[\n",
    "            ExperimentSignal(f\"measure_{qubit.uid}\", map_to=qubit.signals[\"measure\"]),\n",
    "            ExperimentSignal(f\"acquire_{qubit.uid}\", map_to=qubit.signals[\"acquire\"]),\n",
    "            ExperimentSignal(f\"drive_{qubit.uid}\", map_to=qubit.signals[\"drive\"]),\n",
    "        ],\n",
    "    )\n",
    "\n",
    "    ## define experimental sequence\n",
    "    with exp_ref_trace.acquire_loop_rt(\n",
    "        uid=\"shots\",\n",
    "        count=num_averages,\n",
    "        acquisition_type=AcquisitionType.RAW,\n",
    "        # acquisition_type=AcquisitionType.INTEGRATION,\n",
    "    ):\n",
    "        if excited:\n",
    "            with exp_ref_trace.section(uid=\"excitation\"):\n",
    "                exp_ref_trace.play(\n",
    "                    signal=f\"drive_{qubit.uid}\", pulse=drive_pulse(qubit)\n",
    "                )\n",
    "        else:\n",
    "            with exp_ref_trace.section(uid=\"excitation\"):\n",
    "                exp_ref_trace.play(\n",
    "                    signal=f\"drive_{qubit.uid}\", pulse=drive_pulse(qubit), amplitude=0\n",
    "                )\n",
    "\n",
    "        with exp_ref_trace.section(uid=f\"raw_{qubit.uid}_g\", play_after=\"excitation\"):\n",
    "            exp_ref_trace.play(signal=f\"measure_{qubit.uid}\", pulse=measure_pulse)\n",
    "            exp_ref_trace.acquire(\n",
    "                signal=f\"acquire_{qubit.uid}\",\n",
    "                handle=f\"raw_{qubit.uid}\",\n",
    "                length=integration_length,\n",
    "            )\n",
    "            exp_ref_trace.delay(\n",
    "                signal=f\"measure_{qubit.uid}\",\n",
    "                time=qubit.parameters.user_defined[\"reset_delay_length\"],\n",
    "            )\n",
    "            exp_ref_trace.delay(\n",
    "                signal=f\"acquire_{qubit.uid}\",\n",
    "                time=qubit.parameters.user_defined[\"reset_delay_length\"],\n",
    "            )\n",
    "\n",
    "    cal = Calibration()\n",
    "    cal[f\"acquire_{qubit.uid}\"] = SignalCalibration(\n",
    "        oscillator=None,\n",
    "        port_delay=240e-9,\n",
    "    )\n",
    "    exp_ref_trace.set_calibration(cal)\n",
    "\n",
    "    return exp_ref_trace"
   ]
  },
  {
   "cell_type": "code",
   "execution_count": null,
   "id": "015c0e7b",
   "metadata": {},
   "outputs": [],
   "source": [
    "soft_avg = 5\n",
    "\n",
    "gnd_ref = gen_exp_ref_trace(\n",
    "    transmon_list[0],\n",
    "    drive_pulse=qubit_drive_pulse,\n",
    "    readout_pulse=readout_pulse,\n",
    "    num_averages=2**15,\n",
    "    excited=False,\n",
    ")\n",
    "session.connect(do_emulation=emulate, reset_devices=True)\n",
    "results_e = []\n",
    "for avg in range(soft_avg):\n",
    "    gnd_ref_results = session.run(gnd_ref)\n",
    "    results_e.append(gnd_ref_results.get_data(\"raw_q0\"))\n",
    "show_pulse_sheet(\"exc_ref\", gnd_ref_results.compiled_experiment)\n",
    "\n",
    "results_g = results_e\n",
    "\n",
    "\n",
    "exc_ref = gen_exp_ref_trace(\n",
    "    transmon_list[0],\n",
    "    drive_pulse=qubit_drive_pulse,\n",
    "    readout_pulse=readout_pulse,\n",
    "    num_averages=2**15,\n",
    "    excited=True,\n",
    ")\n",
    "session.connect(do_emulation=emulate, reset_devices=True)\n",
    "results_e = []\n",
    "for avg in range(soft_avg):\n",
    "    exc_ref_results = session.run(exc_ref)\n",
    "    results_e.append(exc_ref_results.get_data(\"raw_q0\"))\n",
    "show_pulse_sheet(\"exc_ref\", exc_ref_results.compiled_experiment)"
   ]
  },
  {
   "cell_type": "code",
   "execution_count": null,
   "id": "55f2a362",
   "metadata": {},
   "outputs": [],
   "source": [
    "g_raw = np.mean(results_g, axis=0)\n",
    "e_raw = np.mean(results_e, axis=0)\n",
    "\n",
    "plt.plot(np.real(e_raw), c=\"red\", label=\"exc\")\n",
    "plt.plot(np.real(g_raw), c=\"blue\", label=\"gnd\")\n",
    "plt.legend()\n",
    "plt.figure()\n",
    "\n",
    "plt.plot(np.imag(e_raw), \"r\")\n",
    "plt.plot(np.imag(g_raw), \"b\")"
   ]
  },
  {
   "cell_type": "code",
   "execution_count": null,
   "id": "fb884209",
   "metadata": {},
   "outputs": [],
   "source": [
    "e_raw = e_raw[: -(len(e_raw) % 16)]\n",
    "g_raw = g_raw[: -(len(g_raw) % 16)]"
   ]
  },
  {
   "cell_type": "code",
   "execution_count": null,
   "id": "cafa6be3",
   "metadata": {},
   "outputs": [],
   "source": [
    "samples_kernel = np.conj(e_raw - g_raw)\n",
    "plt.figure()\n",
    "plt.plot(samples_kernel.real)\n",
    "plt.plot(samples_kernel.imag)"
   ]
  },
  {
   "cell_type": "code",
   "execution_count": null,
   "id": "65ed1013",
   "metadata": {},
   "outputs": [],
   "source": [
    "def exp_int(\n",
    "    qubit,\n",
    "    drive_pulse,\n",
    "    readout_pulse,\n",
    "    integration_kernel,\n",
    "    num_averages=2**8,\n",
    "    use_modulated_kernel=False,\n",
    "    acquisition_type=AcquisitionType.INTEGRATION,\n",
    "    threshold=0.0,\n",
    "):\n",
    "    # Create resonator spectroscopy experiment - uses only readout drive and signal acquisition\n",
    "    exp_int = Experiment(\n",
    "        uid=\"Exp_integration\",\n",
    "        signals=[\n",
    "            ExperimentSignal(f\"measure_{qubit.uid}\", map_to=qubit.signals[\"measure\"]),\n",
    "            ExperimentSignal(f\"acquire_{qubit.uid}\", map_to=qubit.signals[\"acquire\"]),\n",
    "            ExperimentSignal(f\"drive_{qubit.uid}\", map_to=qubit.signals[\"drive\"]),\n",
    "        ],\n",
    "    )\n",
    "    measure_pulse = readout_pulse(qubit)\n",
    "    print(f\"measure pulse length {measure_pulse.length}\")\n",
    "    try:\n",
    "        integration_kernel = integration_kernel(qubit)\n",
    "    except Exception as e:\n",
    "        print(e)\n",
    "        integration_kernel = integration_kernel\n",
    "    with exp_int.acquire_loop_rt(\n",
    "        uid=\"shots\",\n",
    "        count=num_averages,\n",
    "        averaging_mode=AveragingMode.SINGLE_SHOT,\n",
    "        # acquisition_type=AcquisitionType.RAW,\n",
    "        acquisition_type=acquisition_type,\n",
    "    ):\n",
    "        with exp_int.section(uid=\"gnd_measure\"):\n",
    "            exp_int.measure(\n",
    "                measure_signal=f\"measure_{qubit.uid}\",\n",
    "                measure_pulse=measure_pulse,\n",
    "                handle=f\"{qubit.uid}_int_g\",\n",
    "                acquire_signal=f\"acquire_{qubit.uid}\",\n",
    "                integration_kernel=integration_kernel,\n",
    "                reset_delay=qubit.parameters.user_defined[\"reset_delay_length\"],\n",
    "            )\n",
    "        with exp_int.section(uid=\"excitation\", play_after=\"gnd_measure\"):\n",
    "            exp_int.play(signal=f\"drive_{qubit.uid}\", pulse=drive_pulse(qubit))\n",
    "        with exp_int.section(uid=\"exc_measure\", play_after=\"excitation\"):\n",
    "            exp_int.measure(\n",
    "                measure_signal=f\"measure_{qubit.uid}\",\n",
    "                measure_pulse=measure_pulse,\n",
    "                handle=f\"{qubit.uid}_int_e\",\n",
    "                acquire_signal=f\"acquire_{qubit.uid}\",\n",
    "                integration_kernel=integration_kernel,\n",
    "                reset_delay=qubit.parameters.user_defined[\"reset_delay_length\"],\n",
    "            )\n",
    "    if not use_modulated_kernel:\n",
    "        cal = Calibration()\n",
    "\n",
    "        cal[f\"acquire_{qubit.uid}\"] = SignalCalibration(\n",
    "            oscillator=Oscillator(frequency=0), threshold=threshold\n",
    "        )\n",
    "        exp_int.set_calibration(cal)\n",
    "    return exp_int"
   ]
  },
  {
   "cell_type": "code",
   "execution_count": null,
   "id": "f02b522c",
   "metadata": {},
   "outputs": [],
   "source": [
    "normalized_samples_kernel = samples_kernel / np.max(np.abs(samples_kernel))"
   ]
  },
  {
   "cell_type": "code",
   "execution_count": null,
   "id": "32916ef2",
   "metadata": {},
   "outputs": [],
   "source": [
    "np.abs(samples_kernel)"
   ]
  },
  {
   "cell_type": "code",
   "execution_count": null,
   "id": "187d02c4",
   "metadata": {},
   "outputs": [],
   "source": [
    "do_rotation = True\n",
    "modulate_kernel = False\n",
    "# modulate_kernel = True\n",
    "rotation_angle = -2.16\n",
    "int_kernel = pulse_library.sampled_pulse_complex(\n",
    "    normalized_samples_kernel * np.exp(1j * rotation_angle)\n",
    ")\n",
    "# int_kernel = integration_kernel\n",
    "my_exp = exp_int(\n",
    "    transmon_list[0],\n",
    "    qubit_drive_pulse,\n",
    "    integration_kernel=int_kernel,\n",
    "    readout_pulse=readout_pulse,\n",
    "    num_averages=2**10,\n",
    "    use_modulated_kernel=modulate_kernel,\n",
    ")\n",
    "\n",
    "session.connect(do_emulation=emulate, reset_devices=True)\n",
    "res_int = session.run(my_exp)"
   ]
  },
  {
   "cell_type": "code",
   "execution_count": null,
   "id": "768f72b8",
   "metadata": {},
   "outputs": [],
   "source": [
    "res0 = res_int.get_data(\"q0_int_g\")\n",
    "res1 = res_int.get_data(\"q0_int_e\")\n",
    "\n",
    "connect_vector = np.median(res1) - np.median(res0)\n",
    "if do_rotation:\n",
    "    rotation_angle = -np.angle(connect_vector)\n",
    "else:\n",
    "    rotation_angle = 0\n",
    "\n",
    "res0_rot = res0 * np.exp(1j * rotation_angle)\n",
    "res1_rot = res1 * np.exp(1j * rotation_angle)\n",
    "\n",
    "my_threshold = (np.median(res0_rot.real) + np.median(res1_rot.real)) / 2\n",
    "\n",
    "if do_rotation:\n",
    "    plt.scatter(res0.real, res0.imag, c=\"k\", alpha=0.1)\n",
    "    plt.scatter(res1.real, res1.imag, c=\"g\", alpha=0.1)\n",
    "\n",
    "plt.scatter(res0_rot.real, res0_rot.imag, c=\"b\")\n",
    "plt.scatter(res1_rot.real, res1_rot.imag, c=\"r\")\n",
    "plt.plot(\n",
    "    [my_threshold, my_threshold],\n",
    "    [\n",
    "        min([*res0_rot.imag, *res1_rot.imag, *res0.imag, *res1.imag]),\n",
    "        max([*res0_rot.imag, *res1_rot.imag, *res0.imag, *res1.imag]),\n",
    "    ],\n",
    "    \"r\",\n",
    ")\n",
    "if do_rotation:\n",
    "    print(f\"Using threshold = {my_threshold:e} and rotation angle: {rotation_angle:e}\")\n",
    "else:\n",
    "    print(f\"Using threshold={my_threshold:e}\")\n",
    "\n",
    "plt.figure()\n",
    "plt.hist(res0_rot.real, bins=100, alpha=0.5, color=\"blue\")\n",
    "plt.hist(res1_rot.real, bins=100, alpha=0.5, color=\"red\")\n",
    "\n",
    "plt.figure()\n",
    "plt.hist(res0_rot.imag, bins=100, alpha=0.5, color=\"blue\")\n",
    "plt.hist(res1_rot.imag, bins=100, alpha=0.5, color=\"red\");"
   ]
  },
  {
   "cell_type": "markdown",
   "id": "5e381073",
   "metadata": {},
   "source": [
    "# Calculate Fidelity"
   ]
  },
  {
   "cell_type": "code",
   "execution_count": null,
   "id": "032888cb",
   "metadata": {},
   "outputs": [],
   "source": [
    "def calculate_fidelity(res0_rot, res1_rot, threshold):\n",
    "    prepared_g_measured_g = np.count_nonzero(res0_rot.real < threshold) / len(\n",
    "        res0_rot.real\n",
    "    )\n",
    "    prepared_g_measured_e = np.count_nonzero(res0_rot.real > threshold) / len(\n",
    "        res0_rot.real\n",
    "    )\n",
    "    prepared_e_measured_g = np.count_nonzero(res1_rot.real < threshold) / len(\n",
    "        res1_rot.real\n",
    "    )\n",
    "    prepared_e_measured_e = np.count_nonzero(res1_rot.real > threshold) / len(\n",
    "        res1_rot.real\n",
    "    )\n",
    "\n",
    "    # plot heatmap with 4 squares\n",
    "    assignment_matrix = [\n",
    "        [prepared_g_measured_g, prepared_g_measured_e],\n",
    "        [prepared_e_measured_g, prepared_e_measured_e],\n",
    "    ]\n",
    "\n",
    "    fig, ax = plt.subplots()\n",
    "    im = ax.imshow(assignment_matrix, cmap=\"Reds\", vmin=0, vmax=1)\n",
    "    for i in range(2):\n",
    "        for j in range(2):\n",
    "            # add text annotations format with 2 decimals float\n",
    "            ax.text(\n",
    "                j,\n",
    "                i,\n",
    "                f\"{assignment_matrix[i][j]:.2f}\",\n",
    "                ha=\"center\",\n",
    "                va=\"center\",\n",
    "                color=\"black\",\n",
    "                fontsize=16,\n",
    "            )\n",
    "    # plot colorbar to the right, label it with label with font size\n",
    "    cbar = ax.figure.colorbar(\n",
    "        im,\n",
    "        ax=ax,\n",
    "    )\n",
    "    cbar.set_label(label=\"Assignment Probability\", size=16)\n",
    "\n",
    "    # set axis labels\n",
    "    ax.set_xticks(np.arange(2))\n",
    "    ax.set_yticks(np.arange(2))\n",
    "\n",
    "    ax.set_xticklabels([\"g\", \"e\"], fontsize=16)\n",
    "    ax.set_yticklabels([\"g\", \"e\"], fontsize=16)\n",
    "    ax.set_xlabel(\"Prepared State\", fontsize=16)\n",
    "\n",
    "    fidelity = 1 - prepared_g_measured_e - prepared_e_measured_g\n",
    "    print(f\"ee:{prepared_e_measured_e}\")\n",
    "    print(f\"gg:{prepared_g_measured_g}\")\n",
    "    print(f\"eg:{prepared_e_measured_g}\")\n",
    "    print(f\"ge:{prepared_g_measured_e}\")\n",
    "    print(f\"Fidelity {fidelity}\")\n",
    "\n",
    "    ax.text(0.5, 2.0, f\"Average Fidelity {fidelity:.2f}\", size=16, ha=\"center\")\n",
    "    plt.tight_layout()\n",
    "\n",
    "    return fidelity"
   ]
  },
  {
   "cell_type": "code",
   "execution_count": null,
   "id": "b2b64581",
   "metadata": {},
   "outputs": [],
   "source": [
    "calculate_fidelity(res0_rot, res1_rot, my_threshold)"
   ]
  },
  {
   "cell_type": "markdown",
   "id": "f527a72e",
   "metadata": {},
   "source": [
    "# Discrimination exp"
   ]
  },
  {
   "cell_type": "code",
   "execution_count": null,
   "id": "2f9edf39",
   "metadata": {},
   "outputs": [],
   "source": [
    "disc_exp = exp_int(\n",
    "    transmon_list[0],\n",
    "    qubit_drive_pulse,\n",
    "    integration_kernel=int_kernel,\n",
    "    readout_pulse=readout_pulse,\n",
    "    num_averages=2**10,\n",
    "    use_modulated_kernel=False,\n",
    "    acquisition_type=AcquisitionType.DISCRIMINATION,\n",
    "    threshold=my_threshold,\n",
    ")\n",
    "\n",
    "session.connect(do_emulation=emulate, reset_devices=True)\n",
    "res_disc = session.run(disc_exp)"
   ]
  },
  {
   "cell_type": "code",
   "execution_count": null,
   "id": "22bd24ab",
   "metadata": {},
   "outputs": [],
   "source": [
    "print(res_disc.acquired_results)\n",
    "res_dis_q0_g = res_disc.get_data(\"q0_int_g\")\n",
    "res_dis_q0_e = res_disc.get_data(\"q0_int_e\")\n",
    "print(np.mean(res_dis_q0_g))\n",
    "print(np.mean(res_dis_q0_e))"
   ]
  },
  {
   "cell_type": "markdown",
   "id": "db62dcd9",
   "metadata": {},
   "source": [
    "# Active reset"
   ]
  },
  {
   "cell_type": "code",
   "execution_count": null,
   "id": "479b0ca9",
   "metadata": {},
   "outputs": [],
   "source": [
    "def gen_active_reset_exp(\n",
    "    qubit,\n",
    "    integration_kernel,\n",
    "    prepare_pulse: callable,\n",
    "    pi_pulse: callable,\n",
    "    readout_pulse,\n",
    "    prepare_pulse_phase=0,\n",
    "    num_average=1024,\n",
    "    threshold=0,\n",
    "    num_rst=10,\n",
    "):\n",
    "    exp = Experiment(\n",
    "        signals=[\n",
    "            ExperimentSignal(f\"measure_{qubit.uid}\", map_to=qubit.signals[\"measure\"]),\n",
    "            ExperimentSignal(f\"acquire_{qubit.uid}\", map_to=qubit.signals[\"acquire\"]),\n",
    "            ExperimentSignal(f\"drive_{qubit.uid}\", map_to=qubit.signals[\"drive\"]),\n",
    "        ],\n",
    "    )\n",
    "\n",
    "    with exp.acquire_loop_rt(\n",
    "        count=num_average,\n",
    "        averaging_mode=AveragingMode.SINGLE_SHOT,\n",
    "        acquisition_type=AcquisitionType.DISCRIMINATION,\n",
    "    ):\n",
    "\n",
    "        # qubit state readout\n",
    "        with exp.section(uid=\"prepare\"):\n",
    "            exp.play(\n",
    "                signal=f\"drive_{qubit.uid}\",\n",
    "                pulse=prepare_pulse(qubit),\n",
    "                amplitude=1,\n",
    "                phase=prepare_pulse_phase,\n",
    "            )\n",
    "\n",
    "        for i in range(num_rst):\n",
    "            if i == 0:\n",
    "                measure_playafter = \"prepare\"\n",
    "            else:\n",
    "                measure_playafter = f\"feedback_{i-1}\"\n",
    "            with exp.section(uid=f\"measure_{i}\", play_after=measure_playafter):\n",
    "                exp.measure(\n",
    "                    measure_signal=f\"measure_{qubit.uid}\",\n",
    "                    measure_pulse=readout_pulse(qubit),\n",
    "                    handle=f\"{qubit.uid}_bf_rst_{i}\",\n",
    "                    # handle=\"fb_measure\",\n",
    "                    acquire_signal=f\"acquire_{qubit.uid}\",\n",
    "                    integration_kernel=integration_kernel,\n",
    "                    reset_delay=500e-9,\n",
    "                )\n",
    "\n",
    "            with exp.match(\n",
    "                uid=f\"feedback_{i}\",\n",
    "                handle=f\"{qubit.uid}_bf_rst_{i}\",\n",
    "                # andle=\"fb_measure\",\n",
    "                play_after=f\"measure_{i}\",\n",
    "            ):\n",
    "                with exp.case(state=0):\n",
    "                    exp.play(\n",
    "                        signal=f\"drive_{qubit.uid}\", pulse=pi_pulse(qubit), amplitude=0\n",
    "                    )\n",
    "                with exp.case(state=1):\n",
    "                    # play x180 pulse\n",
    "                    exp.play(\n",
    "                        signal=f\"drive_{qubit.uid}\", pulse=pi_pulse(qubit), amplitude=1\n",
    "                    )\n",
    "        with exp.section(uid=\"posmeasure\", play_after=f\"feedback_{num_rst-1}\"):\n",
    "            exp.measure(\n",
    "                measure_signal=f\"measure_{qubit.uid}\",\n",
    "                measure_pulse=readout_pulse(qubit),\n",
    "                handle=f\"{qubit.uid}_rst\",\n",
    "                acquire_signal=f\"acquire_{qubit.uid}\",\n",
    "                integration_kernel=integration_kernel,\n",
    "                reset_delay=qubit.parameters.user_defined[\"reset_delay_length\"],\n",
    "            )\n",
    "    cal = Calibration()\n",
    "    cal[f\"acquire_{qubit.uid}\"] = SignalCalibration(\n",
    "        oscillator=Oscillator(frequency=0),\n",
    "        port_delay=240e-9,\n",
    "        threshold=threshold,\n",
    "    )\n",
    "\n",
    "    exp.set_calibration(cal)\n",
    "\n",
    "    return exp"
   ]
  },
  {
   "cell_type": "code",
   "execution_count": null,
   "id": "6a69fb9e",
   "metadata": {},
   "outputs": [],
   "source": [
    "reset_exp = gen_active_reset_exp(\n",
    "    qubit=transmon_list[0],\n",
    "    prepare_pulse=qubit_drive_pulse,\n",
    "    pi_pulse=qubit_drive_pulse,\n",
    "    integration_kernel=int_kernel,\n",
    "    readout_pulse=readout_pulse,\n",
    "    threshold=my_threshold,\n",
    "    num_rst=3,\n",
    ")\n",
    "\n",
    "session.connect(do_emulation=emulate, reset_devices=True)\n",
    "res_reset = session.run(reset_exp)\n",
    "show_pulse_sheet(\"reset\", res_reset.compiled_experiment)\n",
    "res_bf_rst = np.real(res_reset.get_data(\"q0_bf_rst_0\"))\n",
    "res_aft_rst = np.real(res_reset.get_data(\"q0_rst\"))\n",
    "print(np.count_nonzero(res_bf_rst) / len(res_bf_rst))\n",
    "print(np.count_nonzero(res_aft_rst) / len(res_aft_rst))"
   ]
  },
  {
   "cell_type": "markdown",
   "id": "be2f7d3e",
   "metadata": {},
   "source": [
    "# Active reset fidelity as a function of number of reset cycles"
   ]
  },
  {
   "cell_type": "code",
   "execution_count": null,
   "id": "c4378da4",
   "metadata": {},
   "outputs": [],
   "source": [
    "def qubit_gaussian_halfpi_pulse(qubit):\n",
    "    return pulse_library.gaussian(\n",
    "        uid=f\"gaussian_pulse_drive_{qubit.uid}\",\n",
    "        length=qubit.parameters.user_defined[\"pulse_length\"],\n",
    "        amplitude=qubit.parameters.user_defined[\"amplitude_pi2\"],\n",
    "    )\n",
    "\n",
    "\n",
    "def empty_pulse(qubit):\n",
    "    return pulse_library.gaussian(\n",
    "        length=qubit.parameters.user_defined[\"pulse_length\"],\n",
    "        amplitude=0,\n",
    "    )"
   ]
  },
  {
   "cell_type": "code",
   "execution_count": null,
   "id": "73499bd3",
   "metadata": {},
   "outputs": [],
   "source": [
    "num_avg_reset = 2**13\n",
    "repeat_experiments = 2**7"
   ]
  },
  {
   "cell_type": "code",
   "execution_count": null,
   "id": "60a293fc",
   "metadata": {},
   "outputs": [],
   "source": [
    "def repeat_exp(session, exp, n_experiments=2**7):\n",
    "    session.connect(do_emulation=emulate, reset_devices=True)\n",
    "    compiled_exp = session.compile(exp)\n",
    "    res = []\n",
    "    for i in range(n_experiments):\n",
    "        res.append(session.run(compiled_exp))\n",
    "        if i % 10 == 0:\n",
    "            print(f\"Finished {i+1} experiments\")\n",
    "    # stitch results together\n",
    "    # return combined results\n",
    "\n",
    "    return res\n",
    "\n",
    "\n",
    "def evaluate_active_reset_results(res, filename=None):\n",
    "    mean_res = []\n",
    "    std_res = []\n",
    "    for i in range(num_rst):\n",
    "        rst = [res[j].get_data(f\"q0_bf_rst_{i}\") for j in range(len(res))]\n",
    "\n",
    "        mean_res.append(np.mean(rst))\n",
    "        std_res.append(np.std(rst))\n",
    "    sem_res = np.asarray(std_res) / np.sqrt(num_avg_reset)\n",
    "\n",
    "    if filename is not None:\n",
    "        with open(filename, \"wb\") as f:\n",
    "            pickle.dump((mean_res, std_res, sem_res), f)\n",
    "\n",
    "    return mean_res, std_res, sem_res"
   ]
  },
  {
   "cell_type": "code",
   "execution_count": null,
   "id": "a1ba37ed",
   "metadata": {},
   "outputs": [],
   "source": [
    "res_rst_e = []\n",
    "std_res_rst_e = []\n",
    "session.connect(do_emulation=emulate, reset_devices=True)\n",
    "num_rst = 50\n",
    "reset_exp_e = gen_active_reset_exp(\n",
    "    qubit=transmon_list[0],\n",
    "    prepare_pulse=qubit_drive_pulse,\n",
    "    pi_pulse=qubit_drive_pulse,\n",
    "    integration_kernel=int_kernel,\n",
    "    readout_pulse=readout_pulse,\n",
    "    threshold=my_threshold,\n",
    "    num_rst=num_rst,\n",
    "    num_average=num_avg_reset,\n",
    ")\n",
    "\n",
    "# res_reset_exp_e = session.run(reset_exp_e)\n",
    "# for i in range(num_rst):\n",
    "#     rst=np.real(res_reset_exp_e.get_data(f\"q0_bf_rst_{i}\"))\n",
    "#     #aft_rst=np.real(res_reset.get_data(\"q0_rst\"))\n",
    "#     #res_rst_e.append(np.count_nonzero(rst)/len(rst))\n",
    "#     res_rst_e.append(np.mean(rst))\n",
    "#     std_res_rst_e.append(np.std(rst))\n",
    "\n",
    "# sem_res_rst_e = np.asarray(std_res_rst_e)/np.sqrt(num_avg_reset)\n",
    "res_rst_e, std_res_rst_e, sem_res_rst_e = evaluate_active_reset_results(\n",
    "    repeat_exp(session, reset_exp_e, repeat_experiments), filename=\"res_rst_e.pkl\"\n",
    ")"
   ]
  },
  {
   "cell_type": "code",
   "execution_count": null,
   "id": "de93ce64",
   "metadata": {},
   "outputs": [],
   "source": [
    "res_rst_g = []\n",
    "std_res_rst_g = []\n",
    "session.connect(do_emulation=emulate, reset_devices=True)\n",
    "reset_exp_g = gen_active_reset_exp(\n",
    "    qubit=transmon_list[0],\n",
    "    prepare_pulse=empty_pulse,\n",
    "    pi_pulse=qubit_drive_pulse,\n",
    "    integration_kernel=int_kernel,\n",
    "    readout_pulse=readout_pulse,\n",
    "    threshold=my_threshold,\n",
    "    num_rst=num_rst,\n",
    "    num_average=num_avg_reset,\n",
    ")\n",
    "\n",
    "# res_reset_exp_g = session.run(reset_exp_g)\n",
    "# for i in range(num_rst):\n",
    "#     rst=np.real(res_reset_exp_g.get_data(f\"q0_bf_rst_{i}\"))\n",
    "#     #aft_rst=np.real(res_reset.get_data(\"q0_rst\"))\n",
    "#     #res_rst_g.append(np.count_nonzero(rst)/len(rst))\n",
    "#     res_rst_g.append(np.mean(rst))\n",
    "#     std_res_rst_g.append(np.std(rst))\n",
    "\n",
    "# sem_res_rst_g = np.asarray(std_res_rst_g)/np.sqrt(num_avg_reset)\n",
    "\n",
    "res_rst_g, std_res_rst_g, sem_res_rst_g = evaluate_active_reset_results(\n",
    "    repeat_exp(session, reset_exp_g, repeat_experiments), filename=\"res_rst_g.pkl\"\n",
    ")"
   ]
  },
  {
   "cell_type": "code",
   "execution_count": null,
   "id": "77c91d5a",
   "metadata": {},
   "outputs": [],
   "source": [
    "res_rst_plus = []\n",
    "std_res_rst_plus = []\n",
    "session.connect(do_emulation=emulate, reset_devices=True)\n",
    "reset_exp_plus = gen_active_reset_exp(\n",
    "    qubit=transmon_list[0],\n",
    "    prepare_pulse=qubit_gaussian_halfpi_pulse,\n",
    "    pi_pulse=qubit_drive_pulse,\n",
    "    integration_kernel=int_kernel,\n",
    "    readout_pulse=readout_pulse,\n",
    "    threshold=my_threshold,\n",
    "    num_rst=num_rst,\n",
    "    num_average=num_avg_reset,\n",
    ")\n",
    "\n",
    "# res_reset_exp_plus = session.run(reset_exp_plus)\n",
    "# for i in range(num_rst):\n",
    "#     rst=np.real(res_reset_exp_plus.get_data(f\"q0_bf_rst_{i}\"))\n",
    "#     res_rst_plus.append(np.mean(rst))\n",
    "#     std_res_rst_plus.append(np.std(rst))\n",
    "\n",
    "# sem_res_rst_plus = np.asarray(std_res_rst_plus)/np.sqrt(num_avg_reset)\n",
    "\n",
    "res_rst_plus, std_res_rst_plus, sem_res_rst_plus = evaluate_active_reset_results(\n",
    "    repeat_exp(session, reset_exp_plus, repeat_experiments), filename=\"res_rst_plus.pkl\"\n",
    ")"
   ]
  },
  {
   "cell_type": "code",
   "execution_count": null,
   "id": "e8129fb3",
   "metadata": {},
   "outputs": [],
   "source": [
    "res_rst_minus = []\n",
    "std_res_rst_minus = []\n",
    "session.connect(do_emulation=emulate, reset_devices=True)\n",
    "reset_exp_minus = gen_active_reset_exp(\n",
    "    qubit=transmon_list[0],\n",
    "    prepare_pulse=qubit_gaussian_halfpi_pulse,\n",
    "    pi_pulse=qubit_drive_pulse,\n",
    "    integration_kernel=int_kernel,\n",
    "    readout_pulse=readout_pulse,\n",
    "    threshold=my_threshold,\n",
    "    num_rst=num_rst,\n",
    "    num_average=num_avg_reset,\n",
    "    prepare_pulse_phase=np.pi,\n",
    ")\n",
    "\n",
    "# res_reset_exp_minus = session.run(reset_exp_minus)\n",
    "# for i in range(num_rst):\n",
    "#     rst=np.real(res_reset_exp_minus.get_data(f\"q0_bf_rst_{i}\"))\n",
    "#     res_rst_minus.append(np.mean(rst))\n",
    "#     std_res_rst_minus.append(np.std(rst))\n",
    "\n",
    "# sem_res_rst_minus = np.asarray(std_res_rst_minus)/np.sqrt(num_avg_reset)\n",
    "\n",
    "res_rst_minus, std_res_rst_minus, sem_res_rst_minus = evaluate_active_reset_results(\n",
    "    repeat_exp(session, reset_exp_minus, repeat_experiments),\n",
    "    filename=\"res_rst_minus.pkl\",\n",
    ")"
   ]
  },
  {
   "cell_type": "code",
   "execution_count": null,
   "id": "a498d8fc",
   "metadata": {},
   "outputs": [],
   "source": [
    "res_rst_plus_i = []\n",
    "std_res_rst_plus_i = []\n",
    "session.connect(do_emulation=emulate, reset_devices=True)\n",
    "reset_exp_plus_i = gen_active_reset_exp(\n",
    "    qubit=transmon_list[0],\n",
    "    prepare_pulse=qubit_gaussian_halfpi_pulse,\n",
    "    pi_pulse=qubit_drive_pulse,\n",
    "    integration_kernel=int_kernel,\n",
    "    readout_pulse=readout_pulse,\n",
    "    threshold=my_threshold,\n",
    "    num_rst=num_rst,\n",
    "    num_average=num_avg_reset,\n",
    "    prepare_pulse_phase=np.pi / 2,\n",
    ")\n",
    "\n",
    "# res_reset_exp_plus_i = session.run(reset_exp_plus_i)\n",
    "# for i in range(num_rst):\n",
    "#     rst=np.real(res_reset_exp_plus_i.get_data(f\"q0_bf_rst_{i}\"))\n",
    "#     res_rst_plus_i.append(np.mean(rst))\n",
    "#     std_res_rst_plus_i.append(np.std(rst))\n",
    "\n",
    "# sem_res_rst_plus_i = np.asarray(std_res_rst_plus_i)/np.sqrt(num_avg_reset)\n",
    "\n",
    "res_rst_plus_i, std_res_rst_plus_i, sem_res_rst_plus_i = evaluate_active_reset_results(\n",
    "    repeat_exp(session, reset_exp_plus_i, repeat_experiments),\n",
    "    filename=\"res_rst_plus_i.pkl\",\n",
    ")"
   ]
  },
  {
   "cell_type": "code",
   "execution_count": null,
   "id": "a1df0737",
   "metadata": {},
   "outputs": [],
   "source": [
    "res_rst_minus_i = []\n",
    "std_res_rst_minus_i = []\n",
    "session.connect(do_emulation=emulate, reset_devices=True)\n",
    "reset_exp_minus_i = gen_active_reset_exp(\n",
    "    qubit=transmon_list[0],\n",
    "    prepare_pulse=qubit_gaussian_halfpi_pulse,\n",
    "    pi_pulse=qubit_drive_pulse,\n",
    "    integration_kernel=int_kernel,\n",
    "    readout_pulse=readout_pulse,\n",
    "    threshold=my_threshold,\n",
    "    num_rst=num_rst,\n",
    "    num_average=num_avg_reset,\n",
    "    prepare_pulse_phase=-np.pi / 2,\n",
    ")\n",
    "\n",
    "# res_reset_exp_minus_i = session.run(reset_exp_minus_i)\n",
    "# for i in range(num_rst):\n",
    "#     rst=np.real(res_reset_exp_minus_i.get_data(f\"q0_bf_rst_{i}\"))\n",
    "#     res_rst_minus_i.append(np.mean(rst))\n",
    "#     std_res_rst_minus_i.append(np.std(rst))\n",
    "\n",
    "# sem_res_rst_minus_i = np.asarray(std_res_rst_minus_i)/np.sqrt(num_avg_reset)\n",
    "\n",
    "(\n",
    "    res_rst_minus_i,\n",
    "    std_res_rst_minus_i,\n",
    "    sem_res_rst_minus_i,\n",
    ") = evaluate_active_reset_results(\n",
    "    repeat_exp(session, reset_exp_minus_i, repeat_experiments),\n",
    "    filename=\"res_rst_minus_i.pkl\",\n",
    ")"
   ]
  },
  {
   "cell_type": "code",
   "execution_count": null,
   "id": "7a5c5660",
   "metadata": {},
   "outputs": [],
   "source": [
    "num_rst_ite = np.arange(0, len(res_rst_e))\n",
    "# plot log of population\n",
    "plt.figure()\n",
    "\n",
    "# plot semlogy with error bar\n",
    "plt.errorbar(\n",
    "    num_rst_ite,\n",
    "    res_rst_e,\n",
    "    yerr=sem_res_rst_e,\n",
    "    fmt=\"o\",\n",
    "    label=\"exc\",\n",
    "    color=orange_color_zi,\n",
    ")\n",
    "plt.errorbar(\n",
    "    num_rst_ite,\n",
    "    res_rst_g,\n",
    "    yerr=sem_res_rst_g,\n",
    "    fmt=\"o\",\n",
    "    label=\"gnd\",\n",
    "    color=blue_color_zi,\n",
    ")\n",
    "plt.errorbar(\n",
    "    num_rst_ite,\n",
    "    res_rst_plus,\n",
    "    yerr=sem_res_rst_plus,\n",
    "    fmt=\"o\",\n",
    "    label=\"plus\",\n",
    "    color=dark_blue_color_zi,\n",
    ")\n",
    "plt.errorbar(\n",
    "    num_rst_ite,\n",
    "    res_rst_minus,\n",
    "    yerr=sem_res_rst_minus,\n",
    "    fmt=\"o\",\n",
    "    label=\"minus\",\n",
    "    color=\"red\",\n",
    ")\n",
    "plt.errorbar(\n",
    "    num_rst_ite,\n",
    "    res_rst_plus_i,\n",
    "    yerr=sem_res_rst_plus_i,\n",
    "    fmt=\"o\",\n",
    "    label=\"plus_i\",\n",
    "    color=\"brown\",\n",
    ")\n",
    "plt.errorbar(\n",
    "    num_rst_ite,\n",
    "    res_rst_minus_i,\n",
    "    yerr=sem_res_rst_minus_i,\n",
    "    fmt=\"o\",\n",
    "    label=\"minus_i\",\n",
    "    color=\"green\",\n",
    ")\n",
    "# plt.semilogy(num_rst_ite,res_rst_e,'-o',label='exc',color=orange_color_zi)\n",
    "# plt.semilogy(num_rst_ite,res_rst_g,'-o',label='gnd',color=blue_color_zi)\n",
    "# plt.semilogy(num_rst_ite,res_rst_plus,'-o',label='plus',color=dark_blue_color_zi)\n",
    "# plt.semilogy(num_rst_ite,res_rst_minus,'-o',label='minus',color=\"red\")\n",
    "# plt.semilogy(num_rst_ite,res_rst_plus_i,'-o',label='plus_i',color=\"brown\")\n",
    "# plt.semilogy(num_rst_ite,res_rst_minus_i,'-o',label='minus_i',color=\"green\")\n",
    "\n",
    "plt.xlabel(\"Reset iteration\")\n",
    "plt.ylabel(\"Excited state population\")\n",
    "plt.yscale(\"log\")\n",
    "plt.ylim(5e-5, 2e0)\n",
    "plt.legend()"
   ]
  },
  {
   "cell_type": "code",
   "execution_count": null,
   "id": "ab176b45",
   "metadata": {},
   "outputs": [],
   "source": [
    "def t1_optimized_kernel(\n",
    "    qubits,\n",
    "    drive_pulse,\n",
    "    integration_kernel,\n",
    "    readout_pulse,\n",
    "    delay_sweep,\n",
    "    num_averages=2**10,\n",
    "    acquisition_type=AcquisitionType.DISCRIMINATION,\n",
    "    threshold=0,\n",
    "):\n",
    "    exp_t1 = Experiment(\n",
    "        uid=\"T1 Exp\",\n",
    "        signals=flatten(\n",
    "            [\n",
    "                [\n",
    "                    ExperimentSignal(\n",
    "                        f\"drive_{qubit.uid}\", map_to=qubit.signals[\"drive\"]\n",
    "                    ),\n",
    "                    ExperimentSignal(\n",
    "                        f\"measure_{qubit.uid}\", map_to=qubit.signals[\"measure\"]\n",
    "                    ),\n",
    "                    ExperimentSignal(\n",
    "                        f\"acquire_{qubit.uid}\", map_to=qubit.signals[\"acquire\"]\n",
    "                    ),\n",
    "                ]\n",
    "                for qubit in qubits\n",
    "            ]\n",
    "        ),\n",
    "    )\n",
    "\n",
    "    ## define Ramsey experiment pulse sequence\n",
    "    # outer loop - real-time, cyclic averaging\n",
    "    with exp_t1.acquire_loop_rt(\n",
    "        uid=\"t1_shots\",\n",
    "        count=num_averages,\n",
    "        averaging_mode=AveragingMode.SINGLE_SHOT,\n",
    "        acquisition_type=acquisition_type,\n",
    "        repetition_mode=RepetitionMode.AUTO,\n",
    "    ):\n",
    "        # inner loop - real time sweep of T1 time delays\n",
    "        with exp_t1.sweep(\n",
    "            uid=\"t1_delay_sweep\",\n",
    "            parameter=delay_sweep,\n",
    "            alignment=SectionAlignment.RIGHT,\n",
    "        ):\n",
    "            for qubit in qubits:\n",
    "                # play qubit excitation pulse - pulse amplitude is swept\n",
    "                with exp_t1.section(\n",
    "                    uid=f\"{qubit.uid}_excitation\", alignment=SectionAlignment.RIGHT\n",
    "                ):\n",
    "                    exp_t1.play(signal=f\"drive_{qubit.uid}\", pulse=drive_pulse(qubit))\n",
    "                    exp_t1.delay(signal=f\"drive_{qubit.uid}\", time=delay_sweep)\n",
    "                # readout pulse and data acquisition\n",
    "                # measurement\n",
    "                with exp_t1.section(\n",
    "                    uid=f\"readout_{qubit.uid}\", play_after=f\"{qubit.uid}_excitation\"\n",
    "                ):\n",
    "                    exp_t1.measure(\n",
    "                        measure_signal=f\"measure_{qubit.uid}\",\n",
    "                        measure_pulse=readout_pulse(qubit),\n",
    "                        handle=f\"{qubit.uid}_t1\",\n",
    "                        acquire_signal=f\"acquire_{qubit.uid}\",\n",
    "                        integration_kernel=integration_kernel,\n",
    "                        reset_delay=qubit.parameters.user_defined[\"reset_delay_length\"],\n",
    "                    )\n",
    "    cal = Calibration()\n",
    "    cal[f\"acquire_{qubit.uid}\"] = SignalCalibration(\n",
    "        oscillator=Oscillator(frequency=0),\n",
    "        port_delay=240e-9,\n",
    "        threshold=threshold,\n",
    "    )\n",
    "\n",
    "    exp_t1.set_calibration(cal)\n",
    "\n",
    "    return exp_t1"
   ]
  },
  {
   "cell_type": "code",
   "execution_count": null,
   "id": "3d16be66",
   "metadata": {},
   "outputs": [],
   "source": [
    "t1_meas2 = t1_optimized_kernel(\n",
    "    qubits=[transmon_list[0]],\n",
    "    drive_pulse=qubit_drive_pulse,\n",
    "    integration_kernel=int_kernel,\n",
    "    readout_pulse=readout_pulse,\n",
    "    delay_sweep=delay_sweep,\n",
    "    num_averages=num_avg_reset,\n",
    "    threshold=0.3,  # my_threshold,\n",
    ")"
   ]
  },
  {
   "cell_type": "code",
   "execution_count": null,
   "id": "0cbad7a5",
   "metadata": {},
   "outputs": [],
   "source": [
    "# delay_sweep=LinearSweepParameter(uid=\"delay_sweep\", start=1e-10, stop=100e-6, count=51)\n",
    "delay_sweep_cnt = 12\n",
    "delay_sweep_cnt_lin = 50\n",
    "time_step = 1.7e-6\n",
    "stop = (delay_sweep_cnt_lin - 1) * time_step\n",
    "delay_sweep_lin = LinearSweepParameter(start=0, stop=stop, count=delay_sweep_cnt_lin)\n",
    "delay_sweep_array = (\n",
    "    time_step\n",
    "    * np.fromfunction(lambda i, j: 2**j, (1, delay_sweep_cnt), dtype=float)[0]\n",
    ")\n",
    "delay_sweep = SweepParameter(values=delay_sweep_array)\n",
    "\n",
    "t1_meas = t1_optimized_kernel(\n",
    "    qubits=[transmon_list[0]],\n",
    "    drive_pulse=qubit_drive_pulse,\n",
    "    integration_kernel=int_kernel,\n",
    "    readout_pulse=readout_pulse,\n",
    "    delay_sweep=delay_sweep,\n",
    "    num_averages=num_avg_reset,\n",
    "    threshold=my_threshold,\n",
    ")\n",
    "\n",
    "compiled_t1 = session.compile(t1_meas)\n",
    "session.connect(do_emulation=emulate, reset_devices=True)\n",
    "t1_res = session.run(compiled_t1)"
   ]
  },
  {
   "cell_type": "code",
   "execution_count": null,
   "id": "5363b1ed",
   "metadata": {},
   "outputs": [],
   "source": [
    "t1_data = np.real(np.transpose(t1_res.get_data(\"q0_t1\")))\n",
    "t1_mean = [np.mean(i) for i in t1_data]\n",
    "t1_std = [np.std(i) for i in t1_data]\n",
    "t1_sem = [i / np.sqrt(num_avg_reset) for i in t1_std]"
   ]
  },
  {
   "cell_type": "code",
   "execution_count": null,
   "id": "b1216ce7",
   "metadata": {},
   "outputs": [],
   "source": [
    "# t1_res.compiled_experiment.experiment.sections[0].children[0].children[0].children[0].pulse.amplitude = float(t1_res.compiled_experiment.experiment.sections[0].children[0].children[0].children[0].pulse.amplitude)\n",
    "# t1_res.experiment.sections[0].children[0].children[0].children[0].pulse.amplitude = float(t1_res.experiment.sections[0].children[0].children[0].children[0].pulse.amplitude)"
   ]
  },
  {
   "cell_type": "code",
   "execution_count": null,
   "id": "539c91b7",
   "metadata": {},
   "outputs": [],
   "source": [
    "# Create samples for logarithmic post selection of active qubit reset data\n",
    "log_sampling = np.logspace(0, np.log10(len(plot_delay_lin) - 1), 15, endpoint=True)\n",
    "log_sampling = [int(np.round(i)) for i in log_sampling]\n",
    "log_sampling"
   ]
  },
  {
   "cell_type": "code",
   "execution_count": null,
   "id": "52bdd672",
   "metadata": {},
   "outputs": [],
   "source": [
    "res_rst_g = []\n",
    "std_res_rst_g = []"
   ]
  },
  {
   "cell_type": "code",
   "execution_count": null,
   "id": "195ef1a1",
   "metadata": {},
   "outputs": [],
   "source": [
    "plot_delay_lin = delay_sweep_lin.values[:num_rst] * 1e6\n",
    "plot_delay = delay_sweep.values[:num_rst] * 1e6\n",
    "\n",
    "res_rst_e = np.array(res_rst_e)\n",
    "\n",
    "plt.figure()\n",
    "ax = plt.axes()\n",
    "ax.set_xscale(\"log\")\n",
    "ax.set_yscale(\"log\")\n",
    "# plt.plot(plot_delay,np.real(t1_data[:num_rst]),\"-o\",color=orange_color_zi,label='passive reset')\n",
    "# plt.plot(plot_delay, t1_mean, \".\", color=orange_color_zi)\n",
    "plt.errorbar(\n",
    "    plot_delay, t1_mean, t1_sem, fmt=\".\", color=orange_color_zi, label=\"passive reset\"\n",
    ")\n",
    "# plt.plot(plot_delay_lin[log_sampling],np.real(res_rst_e[log_sampling]),'.',color=blue_color_zi)\n",
    "plt.errorbar(\n",
    "    plot_delay_lin[log_sampling],\n",
    "    np.real(res_rst_e[log_sampling]),\n",
    "    np.real(sem_res_rst_e[log_sampling]),\n",
    "    fmt=\".\",\n",
    "    color=blue_color_zi,\n",
    "    label=\"active reset\",\n",
    ")\n",
    "plt.xlabel(\"delay ($\\\\mu$s)\")\n",
    "plt.ylabel(\"Excited state population\")\n",
    "plt.legend()\n",
    "plt.ylim(1e-4, 1e0)\n",
    "# plt.axvline(x=t1*1e6, color='gray', linestyle='--', linewidth=2)\n",
    "# plt.text(x=2*t1*1e6,y= max(y)/2,s=f\"T1= {t1*1e6:.3f}us.\")"
   ]
  },
  {
   "cell_type": "markdown",
   "id": "42c90f6c",
   "metadata": {},
   "source": [
    "#### TEMPORARY - Linear plot of data from pickle file + plot digitizer"
   ]
  },
  {
   "cell_type": "code",
   "execution_count": null,
   "id": "a485eac3",
   "metadata": {},
   "outputs": [],
   "source": [
    "import pickle\n",
    "\n",
    "res_rst_e = pickle.load(open(\"res_rst_e.pkl\", \"rb\"))"
   ]
  },
  {
   "cell_type": "code",
   "execution_count": null,
   "id": "a5595f40",
   "metadata": {},
   "outputs": [],
   "source": [
    "t1_data = np.array(\n",
    "    [\n",
    "        0.82496,\n",
    "        0.76385,\n",
    "        0.67189,\n",
    "        0.49385,\n",
    "        0.28814,\n",
    "        0.10594,\n",
    "        0.02362,\n",
    "        0.01094,\n",
    "        0.01122,\n",
    "        0.01013,\n",
    "        0.01094,\n",
    "        0.01244,\n",
    "    ]\n",
    ")\n",
    "t1_time = (\n",
    "    np.array(\n",
    "        [\n",
    "            1.47946,\n",
    "            2.98893,\n",
    "            6.09247,\n",
    "            12.30853,\n",
    "            25.08906,\n",
    "            51.14028,\n",
    "            103.31782,\n",
    "            210.59779,\n",
    "            425.46708,\n",
    "            867.25051,\n",
    "            1767.75799,\n",
    "            3571.37381,\n",
    "        ]\n",
    "    )\n",
    "    * 1e-6\n",
    ")"
   ]
  },
  {
   "cell_type": "code",
   "execution_count": null,
   "id": "de8742de",
   "metadata": {},
   "outputs": [],
   "source": [
    "delay_sweep_cnt_lin = 50\n",
    "time_step = 1.7e-6\n",
    "\n",
    "res_rst_e_time = np.linspace(1, 50) * time_step"
   ]
  },
  {
   "cell_type": "code",
   "execution_count": null,
   "id": "1ee2c2c3",
   "metadata": {},
   "outputs": [],
   "source": [
    "res_rst_e_data = res_rst_e[0]\n",
    "res_rst_e_sem = res_rst_e[2]\n",
    "\n",
    "plt.errorbar(\n",
    "    x=1e6 * res_rst_e_time,\n",
    "    y=res_rst_e_data,\n",
    "    yerr=res_rst_e_sem,\n",
    "    color=blue_color_zi,\n",
    "    label=\"active reset\",\n",
    "    marker=\".\",\n",
    "    linestyle=\"--\",\n",
    ")\n",
    "plt.plot(\n",
    "    1e6 * t1_time,\n",
    "    t1_data,\n",
    "    color=orange_color_zi,\n",
    "    label=\"passive reset\",\n",
    "    marker=\".\",\n",
    "    linestyle=\"--\",\n",
    ")\n",
    "plt.xlim(-10, 450)\n",
    "plt.yscale(\"log\")\n",
    "plt.xlabel(r\"Time ($\\mu$s)\")\n",
    "plt.ylabel(\"Excited state population\")\n",
    "plt.legend();"
   ]
  },
  {
   "cell_type": "code",
   "execution_count": null,
   "id": "b4f304cf",
   "metadata": {},
   "outputs": [],
   "source": [
    "evaluate_T1(t1_res, \"q0_t1\")\n",
    "# plt.plot(t1_res.acquired_results[\"q0_t1\"].data.real,'-o')"
   ]
  },
  {
   "cell_type": "code",
   "execution_count": null,
   "id": "f900ac62",
   "metadata": {},
   "outputs": [],
   "source": []
  }
 ],
 "metadata": {
  "jupytext": {
   "cell_metadata_filter": "-all",
   "main_language": "python",
   "notebook_metadata_filter": "-all"
  },
  "kernelspec": {
   "display_name": "qccs_venv",
   "language": "python",
   "name": "python3"
  },
  "language_info": {
   "codemirror_mode": {
    "name": "ipython",
    "version": 3
   },
   "file_extension": ".py",
   "mimetype": "text/x-python",
   "name": "python",
   "nbconvert_exporter": "python",
   "pygments_lexer": "ipython3",
   "version": "3.10.13"
  }
 },
 "nbformat": 4,
 "nbformat_minor": 5
}
