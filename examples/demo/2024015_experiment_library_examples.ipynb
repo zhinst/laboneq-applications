{
 "cells": [
  {
   "cell_type": "markdown",
   "id": "5dea5d3a",
   "metadata": {},
   "source": [
    "# Init"
   ]
  },
  {
   "cell_type": "code",
   "execution_count": null,
   "id": "92b2cf77",
   "metadata": {},
   "outputs": [],
   "source": [
    "# convenience Import for all LabOne Q Functionality\n",
    "from laboneq.simple import *\n",
    "\n",
    "from IPython.display import clear_output  # clears the output of a cell upon call\n",
    "import numpy as np\n",
    "from pprint import pprint\n",
    "import matplotlib.pyplot as plt\n",
    "\n",
    "# automatically pretty-prints instances of LabOne Q classes\n",
    "from rich import pretty\n",
    "pretty.install()\n",
    "\n",
    "# LabOne Q\n",
    "from laboneq.contrib.example_helpers.plotting import plot_helpers as plt_hlp\n",
    "from laboneq.contrib.example_helpers.generate_descriptor import generate_descriptor\n",
    "\n",
    "# Experiment library\n",
    "from laboneq_library.experiments import experiment_library as exp_lib\n",
    "from laboneq_library.experiments import readout_calibration_experiments as ro_calib_exp\n",
    "from laboneq_library.experiments import qubit_calibration_experiments as qb_calib_exp\n",
    "from laboneq_library import loading_helpers as load_hlp\n",
    "from laboneq_library import calibration_helpers as calib_hlp\n",
    "from laboneq_library.experiments import quantum_operations as qt_ops\n",
    "from laboneq_library.analysis import analysis_helpers as ana_hlp\n",
    "from laboneq_library.analysis import cal_trace_rotation as cal_tr_rot\n",
    "from laboneq.analysis import fitting as fit_mods"
   ]
  },
  {
   "cell_type": "code",
   "execution_count": null,
   "id": "1c355874",
   "metadata": {
    "lines_to_next_cell": 2
   },
   "outputs": [],
   "source": [
    "emulate = True"
   ]
  },
  {
   "cell_type": "markdown",
   "id": "318013ee",
   "metadata": {},
   "source": [
    "Choose the directory where the measurement data is saved."
   ]
  },
  {
   "cell_type": "code",
   "execution_count": null,
   "id": "05dd0c55",
   "metadata": {},
   "outputs": [],
   "source": [
    "# Set the directory where you want the library to save your data\"\n",
    "# example: directory = r'C:\\Users\\data'\n",
    "data_directory = r'data'  # creates a folder names \"data\" in the current folder\n",
    "data_directory"
   ]
  },
  {
   "cell_type": "markdown",
   "id": "cf4b27c4",
   "metadata": {},
   "source": [
    "# Create measurement_setup and qubits"
   ]
  },
  {
   "cell_type": "markdown",
   "id": "3cb9ee16",
   "metadata": {},
   "source": [
    "## Create from scratch"
   ]
  },
  {
   "cell_type": "code",
   "execution_count": null,
   "id": "3a2ee566",
   "metadata": {},
   "outputs": [],
   "source": [
    "# PSI measurement_setup\n",
    "from laboneq.dsl.device import create_connection\n",
    "from laboneq.dsl.device.instruments import HDAWG, SHFQA, SHFQC, SHFSG, PQSC\n",
    "measurement_setup = DeviceSetup(\"TopFeedlineT6C\")\n",
    "measurement_setup.add_dataserver(host=\"localhost\", port=\"8004\")\n",
    "measurement_setup.add_instruments(\n",
    "    HDAWG(uid=\"device_hdawg\", address=\"dev8793\"),\n",
    "    SHFQC(uid=\"device_shfqc\", address=\"dev12250\"),\n",
    "    PQSC(uid=\"device_pqsc\", address=\"dev10091\"),\n",
    ")\n",
    "for i, qbn in enumerate(['qb1', 'qb2', 'qb3']): # these names must match the qubit names in the qubit_parameters.json!\n",
    "    measurement_setup.add_connections(\n",
    "        \"device_hdawg\",\n",
    "        create_connection(to_signal=f\"{qbn}/flux_line\", ports=f\"SIGOUTS/{i+1}\"),\n",
    "    )\n",
    "\n",
    "    measurement_setup.add_connections(\n",
    "        \"device_shfqc\",\n",
    "        create_connection(to_signal=f\"{qbn}/drive_line\", ports=f\"SGCHANNELS/{str(i)}/OUTPUT\"),\n",
    "        create_connection(to_signal=f\"{qbn}/drive_line_ef\", ports=f\"SGCHANNELS/{str(i)}/OUTPUT\"),\n",
    "        create_connection(to_signal=f\"{qbn}/measure_line\", ports=\"QACHANNELS/0/OUTPUT\"),\n",
    "        create_connection(to_signal=f\"{qbn}/acquire_line\", ports=\"QACHANNELS/0/INPUT\"),\n",
    "    )\n",
    "measurement_setup.add_connections(\n",
    "    \"device_pqsc\",\n",
    "    create_connection(to_instrument=\"device_hdawg\", ports=\"ZSYNCS/2\"),\n",
    "    create_connection(to_instrument=\"device_shfqc\", ports=\"ZSYNCS/0\"),\n",
    ")"
   ]
  },
  {
   "cell_type": "code",
   "execution_count": null,
   "id": "ab67c7b8",
   "metadata": {},
   "outputs": [],
   "source": [
    "# Three transmon qubits\n",
    "# load qubit parameters from a json file\n",
    "qubit_parameters = load_hlp.load_qubit_parameters_from_json(\n",
    "    full_filepath='qubit_parameters.json')\n",
    "qb1, qb2, qb3 = calib_hlp.create_qubits_from_parameters(qubit_parameters, measurement_setup)"
   ]
  },
  {
   "cell_type": "code",
   "execution_count": null,
   "id": "8fd6cd00",
   "metadata": {},
   "outputs": [],
   "source": [
    "qubits = [qb1, qb2, qb3]\n",
    "measurement_setup.qubits = qubits"
   ]
  },
  {
   "cell_type": "markdown",
   "id": "aca6ef30",
   "metadata": {},
   "source": [
    "## Or load from a previous experiment folder produced by the library"
   ]
  },
  {
   "cell_type": "code",
   "execution_count": null,
   "id": "fc07dc2f",
   "metadata": {},
   "outputs": [],
   "source": [
    "# # takes the latest experiment direcotry in data_directory\n",
    "# folder = load_hlp.get_latest_experiment_directory(data_directory)\n",
    "# print(folder)\n",
    "# # or choose it yourself\n",
    "# # example: folder = data_directory + r'\\20231219\\165746_Rabi_active_reset_ge_qb1'\n",
    "# folder = data_directory + 'rest of the path to the experiment directory'\n",
    "# print(folder)"
   ]
  },
  {
   "cell_type": "code",
   "execution_count": null,
   "id": "e83df58d",
   "metadata": {},
   "outputs": [],
   "source": [
    "# measurement_setup = load_hlp.load_measurement_setup_from_experiment_directory(folder)\n",
    "# qb1, qb2, qb3 = measurement_setup.qubits\n",
    "# qubits = qb1, qb2, qb3"
   ]
  },
  {
   "cell_type": "markdown",
   "id": "16ba7945",
   "metadata": {},
   "source": [
    "## DC-source "
   ]
  },
  {
   "cell_type": "code",
   "execution_count": null,
   "id": "ef980869",
   "metadata": {},
   "outputs": [],
   "source": [
    "import logging\n",
    "mylogger = logging.getLogger(\"user_func\")\n",
    "def set_dc_bias(session, voltage, qubit):\n",
    "    slot = qubit.parameters.dc_slot\n",
    "    if slot not in [13, 14, 15, 17, 18]:\n",
    "        raise ValueError(\"ZI is currenly using slots 13, 14, 15, 17 and 18. Please do not use other people's slots!\")\n",
    "    mylogger.info(f\"Called 'user_func' with params: voltage={voltage:.1f}\")\n",
    "    print(f'Setting QDac slot {slot} to {voltage} V ... ')\n",
    "    return"
   ]
  },
  {
   "cell_type": "markdown",
   "id": "0fb3a469",
   "metadata": {},
   "source": [
    "## Connect to session"
   ]
  },
  {
   "cell_type": "code",
   "execution_count": null,
   "id": "6153422f",
   "metadata": {},
   "outputs": [],
   "source": [
    "# Create and connect to a session\n",
    "session = Session(device_setup=measurement_setup)\n",
    "session.register_neartime_callback(set_dc_bias)  # register the set_dc_bias function as neartime callback\n",
    "session.connect(do_emulation=emulate, reset_devices=False)"
   ]
  },
  {
   "cell_type": "markdown",
   "id": "e052f4cc",
   "metadata": {},
   "source": [
    "# Signal Propagation Delay"
   ]
  },
  {
   "cell_type": "code",
   "execution_count": null,
   "id": "11631671",
   "metadata": {},
   "outputs": [],
   "source": [
    "\n",
    "qubit = qb1\n",
    "qubit_temporary_values = [\n",
    "    (qubit, \"reset_delay_length\", 1e-6),\n",
    "]\n",
    "sweep_parameters_dict = {\n",
    "    qubit.uid: [LinearSweepParameter(f'delay_{qubit.uid}', 0, 1e-6, 5, 'Signal Delay Time, $\\\\tau$ ($\\\\mu$s)')]}\n",
    "acquisition_metainfo = dict(count=2**0)\n",
    "analysis_metainfo = dict()#show_figures=True)\n",
    "experiment_metainfo = dict()\n",
    "exp = ro_calib_exp.SignalPropagationDelay([qubit], session, measurement_setup,\n",
    "                                         acquisition_metainfo=acquisition_metainfo,\n",
    "                                         sweep_parameters_dict=sweep_parameters_dict,\n",
    "                                         analysis_metainfo=analysis_metainfo,\n",
    "                                         qubit_temporary_values=qubit_temporary_values,\n",
    "                                         data_directory=data_directory, do_analysis=True,\n",
    "                                         save=True, run=True)"
   ]
  },
  {
   "cell_type": "markdown",
   "id": "2ef26028",
   "metadata": {},
   "source": [
    "# Spectroscopy"
   ]
  },
  {
   "cell_type": "markdown",
   "id": "bb56918e",
   "metadata": {},
   "source": [
    "## Resonator spec - qubits"
   ]
  },
  {
   "cell_type": "code",
   "execution_count": null,
   "id": "7dcab19f",
   "metadata": {
    "scrolled": true
   },
   "outputs": [],
   "source": [
    "\n",
    "qubits_to_measure = [qb2]\n",
    "qubit_temporary_values = []\n",
    "sweep_parameters_dict = {}\n",
    "for qubit in qubits_to_measure:\n",
    "    qubit_temporary_values += [\n",
    "        (qubit, \"reset_delay_length\", 1e-6),\n",
    "    ]\n",
    "\n",
    "    freqs = qubit.parameters.readout_resonator_frequency + np.linspace(-50e6, 80e6, 201)\n",
    "    sweep_parameters_dict[qubit.uid] = [\n",
    "        SweepParameter(f'freq_{qubit.uid}',  freqs,  'Readout Frequency, $f_{RO}$ (GHz)')\n",
    "    ]\n",
    "\n",
    "acquisition_metainfo = dict(count=2**10)\n",
    "experiment_metainfo = dict(pulsed=True)\n",
    "analysis_metainfo = dict(show_figures=True, measurement_type=\"reflection\",\n",
    "                         fit_lorentzian=True,\n",
    "                         fit_complex=False)\n",
    "exp = ro_calib_exp.ResonatorSpectroscopy(qubits_to_measure, session, measurement_setup,\n",
    "                                         experiment_metainfo=experiment_metainfo,\n",
    "                                         acquisition_metainfo=acquisition_metainfo,\n",
    "                                         analysis_metainfo=analysis_metainfo,\n",
    "                                         sweep_parameters_dict=sweep_parameters_dict,\n",
    "                                         qubit_temporary_values=qubit_temporary_values,\n",
    "                                         do_analysis=True,  # whether to run analysis\n",
    "                                         update=False,  # whether or not to update the qubit parameters after data analysis\n",
    "                                         save=False,  # whether to save the results and measurement setup\n",
    "                                         run=True,  # whether to automatically run the experiment upon executing this cell\n",
    "                                         data_directory=data_directory)"
   ]
  },
  {
   "cell_type": "code",
   "execution_count": null,
   "id": "62d3366c",
   "metadata": {},
   "outputs": [],
   "source": [
    "# If the cell above was executed with run = False, then that just instantiates the ResonatorSpectroscopy class.\n",
    "# The experiment itself has not been defined, configured, or complied. We can do all these steps by hand for full control\n",
    "\n",
    "# To run the experiment manually, we can call:\n",
    "exp.autorun()\n",
    "\n",
    "# Alternatively, we can execute all the steps in autorun by hand:\n",
    "exp.save_measurement_setup()  # creates a new folder in data_directory and saves the measurement_setup\n",
    "exp.save_experiment_metainfo() # saves the experiment metainfo as a pickle file\n",
    "exp.define_experiment()  # defines the sweep, sections and pulses\n",
    "exp.configure_experiment()  # configures the calibration\n",
    "exp.compile_experiment()  # compiles the experiment\n",
    "exp.run_experiment()  # execute the experiment\n",
    "exp.execute_exit_condition()  # an exit condition such as resetting the voltage of the dc source\n",
    "exp.analyse_experiment()  # analyse the experiment\n",
    "exp.update_entire_setup()  # update the qubit parameters and the measurement setup based on the analysis results\n",
    "exp.save_results()  # save the results object\n",
    "exp.save_analysis_results()  # save the fit results (if revelant; nothing is fitted for resonator spectroscopy)"
   ]
  },
  {
   "cell_type": "code",
   "execution_count": null,
   "id": "1e67aab0",
   "metadata": {},
   "outputs": [],
   "source": [
    "# The Labone Q Experiment instance is stored in\n",
    "exp.experiment"
   ]
  },
  {
   "cell_type": "code",
   "execution_count": null,
   "id": "43c74d3d",
   "metadata": {},
   "outputs": [],
   "source": [
    "# Access the Results instance\n",
    "exp.results"
   ]
  },
  {
   "cell_type": "code",
   "execution_count": null,
   "id": "3dd2f9ef",
   "metadata": {},
   "outputs": [],
   "source": [
    "# Access the analysis results\n",
    "exp.analysis_results"
   ]
  },
  {
   "cell_type": "markdown",
   "id": "3e33262b",
   "metadata": {},
   "source": [
    "## Resonator spec - wide sweep\n"
   ]
  },
  {
   "cell_type": "code",
   "execution_count": null,
   "id": "b015de13",
   "metadata": {},
   "outputs": [],
   "source": [
    "\n",
    "qubit = qb1\n",
    "qubit_temporary_values = [\n",
    "    (qubit, \"reset_delay_length\", 1e-6),\n",
    "]\n",
    "sweep_parameters_dict = {\n",
    "    qubit.uid: [LinearSweepParameter(f'freq_{qubit.uid}', -500e6, 500e6, 1001, 'IF Frequency, $f_{IF}$ (GHz)'),\n",
    "                LinearSweepParameter(f'lo_freq_{qubit.uid}', 6e9, 8e9, 3, 'LO Frequency, $f_{LO}$ (GHz)')]}\n",
    "# try this with concatenation of ranges for the lo sweep!\n",
    "acquisition_metainfo = dict(count=2**10)\n",
    "analysis_metainfo = dict(show_figures=True)\n",
    "experiment_metainfo = dict(neartime_sweep_parameter=\"frequency\")\n",
    "exp = ro_calib_exp.ResonatorSpectroscopy([qubit], session, measurement_setup,\n",
    "                                         acquisition_metainfo=acquisition_metainfo,\n",
    "                                         sweep_parameters_dict=sweep_parameters_dict,\n",
    "                                         analysis_metainfo=analysis_metainfo,\n",
    "                                         qubit_temporary_values=qubit_temporary_values,\n",
    "                                         experiment_name='ResonatorSpectroscopyFullRange',\n",
    "                                         data_directory=data_directory, do_analysis=True, save=True, run=True)"
   ]
  },
  {
   "cell_type": "markdown",
   "id": "617c86d9",
   "metadata": {},
   "source": [
    "## Resonator spec - voltage sweep"
   ]
  },
  {
   "cell_type": "code",
   "execution_count": null,
   "id": "04470892",
   "metadata": {
    "scrolled": true
   },
   "outputs": [],
   "source": [
    "qubits_to_measure = [qb3]\n",
    "qubit_temporary_values = []\n",
    "sweep_parameters_dict = {}\n",
    "for qubit in qubits_to_measure:\n",
    "    qubit_temporary_values += [\n",
    "        (qubit, \"reset_delay_length\", 1e-6),\n",
    "    ]\n",
    "\n",
    "\n",
    "    # choose frequency sweep range\n",
    "    freqs = qubit.parameters.readout_resonator_frequency + np.linspace(-50e6, 80e6, 201)\n",
    "\n",
    "    # choose voltage sweep range\n",
    "    voltages = qubit.parameters.dc_voltage_parking + np.linspace(-1, 1, 11)\n",
    "#     voltages = np.linspace(0, -2, 15)\n",
    "\n",
    "    # define sweep parameters\n",
    "    sweep_parameters_dict[qubit.uid] = [\n",
    "        SweepParameter(f\"freq_{qubit.uid}\", freqs, \"Readout Frequency, $f_{RO}$ (GHz)\"),\n",
    "        SweepParameter(f\"dc_volt_sweep_{qubit.uid}\", voltages, \"DC Voltage, $V$ (V)\")\n",
    "    ]\n",
    "\n",
    "acquisition_metainfo = dict(count=2**10)\n",
    "# neartime_sweep_parameter must correspond to the first input par of neartime_callback_function after session\n",
    "experiment_metainfo = dict(\n",
    "    neartime_sweep_parameter=\"voltage\",\n",
    "    neartime_callback_function=set_dc_bias)\n",
    "analysis_metainfo = dict(find_peaks=False, show_figures=True, sweet_spot_to_update=\"lss\")\n",
    "exp = ro_calib_exp.ResonatorSpectroscopy(qubits_to_measure, session, measurement_setup,\n",
    "                                         experiment_metainfo=experiment_metainfo,\n",
    "                                         acquisition_metainfo=acquisition_metainfo,\n",
    "                                         analysis_metainfo=analysis_metainfo,\n",
    "                                         sweep_parameters_dict=sweep_parameters_dict,\n",
    "                                         qubit_temporary_values=qubit_temporary_values,\n",
    "                                         apply_exit_condition=True,\n",
    "                                         data_directory=data_directory, update=True,\n",
    "                                         do_analysis=True, save=True, run=True)"
   ]
  },
  {
   "cell_type": "code",
   "execution_count": null,
   "id": "31342a54",
   "metadata": {},
   "outputs": [],
   "source": []
  },
  {
   "cell_type": "markdown",
   "id": "5e5b8c6b",
   "metadata": {},
   "source": [
    "## Resonator spec - amp sweep"
   ]
  },
  {
   "cell_type": "code",
   "execution_count": null,
   "id": "b5aa0291",
   "metadata": {
    "scrolled": true
   },
   "outputs": [],
   "source": [
    "qubits_to_measure = [qb2]\n",
    "qubit_temporary_values = []\n",
    "sweep_parameters_dict = {}\n",
    "for qubit in qubits_to_measure:\n",
    "    qubit_temporary_values += [\n",
    "        (qubit, \"reset_delay_length\", 1e-6),\n",
    "        (qubit, \"readout_range_out\", -5),\n",
    "    ]\n",
    "\n",
    "    freqs = qubit.parameters.readout_resonator_frequency + np.linspace(-50e6, 80e6, 201)\n",
    "    sweep_parameters_dict[qubit.uid] = [\n",
    "        SweepParameter(f'freq_{qubit.uid}', freqs, \"Readout Frequency, $f_{RO}$ (GHz)\"),\n",
    "        SweepParameter(f\"ro_amplitude_{qubit.uid}\", np.arange(0.1, 1.1, 0.1), \"Readout Amplitude Scaling\")\n",
    "    ]\n",
    "\n",
    "acquisition_metainfo = dict(count=2**10)\n",
    "# neartime_sweep_parameter must correspond to the first input par of neartime_callback_function after session\n",
    "experiment_metainfo = dict(neartime_sweep_parameter=\"amplitude\", pulsed=False)\n",
    "analysis_metainfo = dict(show_figures=True)\n",
    "exp = ro_calib_exp.ResonatorSpectroscopy(qubits_to_measure, session, measurement_setup,\n",
    "                                         experiment_metainfo=experiment_metainfo,\n",
    "                                         acquisition_metainfo=acquisition_metainfo,\n",
    "                                         analysis_metainfo=analysis_metainfo,\n",
    "                                         sweep_parameters_dict=sweep_parameters_dict,\n",
    "                                         qubit_temporary_values=qubit_temporary_values,\n",
    "                                         data_directory=data_directory, do_analysis=True,\n",
    "                                         save=True, run=True)"
   ]
  },
  {
   "cell_type": "markdown",
   "id": "9aabafba",
   "metadata": {},
   "source": [
    "## Qubit Spectroscopy"
   ]
  },
  {
   "cell_type": "code",
   "execution_count": null,
   "id": "426a5dca",
   "metadata": {
    "scrolled": true
   },
   "outputs": [],
   "source": [
    "for qubits_to_measure in [\n",
    "    [qb1, qb3],\n",
    "    [qb2]\n",
    "]:\n",
    "    qubit_temporary_values = []\n",
    "    sweep_parameters_dict = {}\n",
    "    analysis_metainfo = dict(show_figures=True)\n",
    "    for qubit in qubits_to_measure:\n",
    "        qubit_temporary_values += [\n",
    "            (qubit, \"drive_range\", -25),\n",
    "            (qubit, \"reset_delay_length\", 1e-6),\n",
    "            (qubit, \"spectroscopy_amplitude\", 1),\n",
    "        ]\n",
    "\n",
    "        # choose frequency sweep range\n",
    "        ge_freq = qubit.parameters.resonance_frequency_ge\n",
    "        freqs = np.linspace(ge_freq - 25e6, ge_freq + 25e6, 101)\n",
    "        # create sweep parameter\n",
    "        sweep_parameters_dict[qubit.uid] = [SweepParameter(f'freq_{qubit.uid}',  freqs, 'Qubit Frequency [Hz]')]\n",
    "    #     analysis_metainfo[\"frequency_filter_for_fit\"] = lambda f: f < ge_freq - 0.04e9\n",
    "\n",
    "    experiment_metainfo = dict(pulsed=True)\n",
    "    acquisition_metainfo = dict(count=2**12)\n",
    "    exp = qb_calib_exp.QubitSpectroscopy(qubits_to_measure, session, measurement_setup,\n",
    "                                         experiment_metainfo=experiment_metainfo,\n",
    "                                         acquisition_metainfo=acquisition_metainfo,\n",
    "                                         analysis_metainfo=analysis_metainfo,\n",
    "                                         sweep_parameters_dict=sweep_parameters_dict,\n",
    "                                         qubit_temporary_values=qubit_temporary_values,\n",
    "                                         do_analysis=True, update=False,\n",
    "                                         data_directory=data_directory, save=True, run=True)"
   ]
  },
  {
   "cell_type": "code",
   "execution_count": null,
   "id": "a9bf8607",
   "metadata": {},
   "outputs": [],
   "source": [
    "# reanalyse with a frequency filter\n",
    "analysis_metainfo.update(dict(frequency_filter_for_fit=lambda f: f < 5.75e9))\n",
    "exp.analyse_experiment()"
   ]
  },
  {
   "cell_type": "markdown",
   "id": "bdabaea7",
   "metadata": {},
   "source": [
    "## Qubit Spectroscopy - wide sweep"
   ]
  },
  {
   "cell_type": "code",
   "execution_count": null,
   "id": "738085e6",
   "metadata": {
    "scrolled": true
   },
   "outputs": [],
   "source": [
    "for qubits_to_measure in [\n",
    "    [qb1, qb2],\n",
    "    [qb3]\n",
    "]:\n",
    "\n",
    "    # lo freqs must be the same for both qubits if they share lo\n",
    "    lo_frequencies = LinearSweepParameter('outer_freq', 4e9, 7e9, 4, 'LO Frequency, $f_{LO}$ (GHz)')\n",
    "    sweep_parameters_dict = {}\n",
    "    for qubit in qubits_to_measure:\n",
    "        sweep_parameters_dict[qubit.uid] = [LinearSweepParameter(\n",
    "        f'freq_{qubit.uid}', -500e6, 500e6, 1001, 'Qubit Frequency, $f_{qb}$ (GHz)'),\n",
    "                                  lo_frequencies\n",
    "                                 ]\n",
    "\n",
    "    experiment_metainfo = dict(pulsed=True, neartime_sweep_parameter=\"frequency\",)\n",
    "    acquisition_metainfo = dict(count=2**12)\n",
    "    analysis_metainfo = dict(show_figures=True)\n",
    "    exp = qb_calib_exp.QubitSpectroscopy(qubits_to_measure, session, measurement_setup,\n",
    "                                    experiment_metainfo=experiment_metainfo,\n",
    "                                    acquisition_metainfo=acquisition_metainfo,\n",
    "                                    analysis_metainfo=analysis_metainfo,\n",
    "                                    sweep_parameters_dict=sweep_parameters_dict,\n",
    "                                    do_analysis=True, update=False,\n",
    "                                    data_directory=data_directory, save=True, run=True)"
   ]
  },
  {
   "cell_type": "markdown",
   "id": "4212639d",
   "metadata": {},
   "source": [
    "## Qubit Spectroscopy - voltage sweep"
   ]
  },
  {
   "cell_type": "code",
   "execution_count": null,
   "id": "f4429856",
   "metadata": {
    "scrolled": true
   },
   "outputs": [],
   "source": [
    "qubits_to_measure = [qb3]\n",
    "qubit_temporary_values = qubit_temporary_values\n",
    "sweep_parameters_dict = {}\n",
    "for qubit in qubits_to_measure:\n",
    "    qubit_temporary_values += [\n",
    "        (qubit, \"reset_delay_length\", 1e-6),\n",
    "    ]\n",
    "\n",
    "    freqs = qubit.parameters.resonance_frequency_ge + np.linspace(-200e6, 50e6, 501)\n",
    "    voltages = qubit.parameters.dc_voltage_parking + np.linspace(-0.5, 0.5, 11)\n",
    "    sweep_parameters_dict[qubit.uid] = [\n",
    "        SweepParameter(f\"freq_{qubit.uid}\", freqs, \"Qubit Frequency, $f_{qb}$ (GHz)\"),\n",
    "        SweepParameter(f\"dc_volt_sweep_{qubit.uid}\", voltages, \"DC Voltage, $V$ (V)\")\n",
    "    ]\n",
    "\n",
    "acquisition_metainfo = dict(count=2**12)\n",
    "# neartime_sweep_parameter must correspond to the first input par of neartime_callback_function after session\n",
    "experiment_metainfo = dict(\n",
    "    neartime_sweep_parameter=\"voltage\",\n",
    "    neartime_callback_function=set_dc_bias,\n",
    ")\n",
    "analysis_metainfo = dict(show_figures=True)\n",
    "exp = qb_calib_exp.QubitSpectroscopy(qubits_to_measure, session, measurement_setup,\n",
    "                                     experiment_metainfo=experiment_metainfo,\n",
    "                                     acquisition_metainfo=acquisition_metainfo,\n",
    "                                     analysis_metainfo=analysis_metainfo,\n",
    "                                     sweep_parameters_dict=sweep_parameters_dict,\n",
    "                                     qubit_temporary_values=qubit_temporary_values,\n",
    "                                     apply_exit_condition=True,\n",
    "                                     data_directory=data_directory, do_analysis=True,\n",
    "                                     update=True, save=True, run=True)"
   ]
  },
  {
   "cell_type": "markdown",
   "id": "11db9d29",
   "metadata": {},
   "source": [
    "##  Qubit Spectroscopy - amp sweep"
   ]
  },
  {
   "cell_type": "code",
   "execution_count": null,
   "id": "ee639387",
   "metadata": {
    "scrolled": true
   },
   "outputs": [],
   "source": [
    "for qubits_to_measure in [\n",
    "    [qb1, qb3],\n",
    "    [qb2]\n",
    "]:\n",
    "    qubit_temporary_values = []\n",
    "    sweep_parameters_dict = {}\n",
    "    for qubit in qubits_to_measure:\n",
    "        qubit_temporary_values += [\n",
    "            (qubit, \"reset_delay_length\", 1e-6),\n",
    "        ]\n",
    "\n",
    "        freqs = qubit.parameters.resonance_frequency_ge + np.linspace(-200e6, 50e6, 501)\n",
    "        sweep_parameters_dict[qubit.uid] = [\n",
    "            SweepParameter(f\"freq_{qubit.uid}\", freqs, \"Qubit Frequency, $f_{qb}$ (GHz)\"),\n",
    "            SweepParameter(f\"spec_amplitude_{qubit.uid}\", np.arange(0.1, 1.1, 0.1), \"Spectroscopy Amplitude Scaling\")\n",
    "        ]\n",
    "\n",
    "    acquisition_metainfo = dict(count=2**12)\n",
    "    # neartime_sweep_parameter must correspond to the first input par of neartime_callback_function after session\n",
    "    experiment_metainfo = dict(\n",
    "        neartime_sweep_parameter=\"amplitude\",\n",
    "    )\n",
    "    analysis_metainfo = dict(show_figures=True)\n",
    "    exp = qb_calib_exp.QubitSpectroscopy(qubits_to_measure, session, measurement_setup,\n",
    "                                         experiment_metainfo=experiment_metainfo,\n",
    "                                         acquisition_metainfo=acquisition_metainfo,\n",
    "                                         analysis_metainfo=analysis_metainfo,\n",
    "                                         sweep_parameters_dict=sweep_parameters_dict,\n",
    "                                         qubit_temporary_values=qubit_temporary_values,\n",
    "                                         data_directory=data_directory, do_analysis=True,\n",
    "                                         save=True, run=True)"
   ]
  },
  {
   "cell_type": "markdown",
   "id": "abac3348",
   "metadata": {},
   "source": [
    "# Pulse tune-up"
   ]
  },
  {
   "cell_type": "markdown",
   "id": "7793e823",
   "metadata": {},
   "source": [
    "## Rabi"
   ]
  },
  {
   "cell_type": "code",
   "execution_count": null,
   "id": "4a3d6c03",
   "metadata": {
    "scrolled": true
   },
   "outputs": [],
   "source": [
    "# Rabi\n",
    "for qubits_to_measure in [\n",
    "    [qb1, qb3],\n",
    "    [qb2]\n",
    "]:\n",
    "    for transition_to_calibrate in [\n",
    "        'ge',\n",
    "        'ef'\n",
    "    ]:\n",
    "        for preparation_type in [\n",
    "            \"wait\",\n",
    "            \"active_reset\"\n",
    "        ]:\n",
    "            qubit_temporary_values = []\n",
    "            sweep_parameters_dict = {}\n",
    "            for qubit in qubits_to_measure:\n",
    "                qubit_temporary_values += [\n",
    "                    (qubit, \"reset_delay_length\", 200e-6),\n",
    "                ]\n",
    "\n",
    "                pi_amp = qubit.parameters.drive_parameters_ef['amplitude_pi'] if transition_to_calibrate == \"ef\" else \\\n",
    "                    qubit.parameters.drive_parameters_ge['amplitude_pi']\n",
    "                swp_end = pi_amp + 0.1\n",
    "                sweep_parameters_dict[qubit.uid] = [\n",
    "                    LinearSweepParameter(f'amps_{qubit.uid}', 0, swp_end, 21, 'Amplitude Scaling')]\n",
    "\n",
    "            acquisition_metainfo = dict(count=2 ** 0)\n",
    "            experiment_metainfo = dict(cal_states=transition_to_calibrate,\n",
    "                                       transition_to_calibrate=transition_to_calibrate,\n",
    "                                       preparation_type=preparation_type\n",
    "                                      )\n",
    "            analysis_metainfo = dict(show_figures=True, do_fitting=False)\n",
    "            exp = qb_calib_exp.AmplitudeRabi(qubits_to_measure, session, measurement_setup,\n",
    "                                             experiment_metainfo=experiment_metainfo,\n",
    "                                             acquisition_metainfo=acquisition_metainfo,\n",
    "                                             analysis_metainfo=analysis_metainfo,\n",
    "                                             sweep_parameters_dict=sweep_parameters_dict,\n",
    "                                             qubit_temporary_values=qubit_temporary_values,\n",
    "                                             do_analysis=True, update=False,\n",
    "                                             data_directory=data_directory, save=False, run=True)"
   ]
  },
  {
   "cell_type": "code",
   "execution_count": null,
   "id": "d6ba824c",
   "metadata": {},
   "outputs": [],
   "source": []
  },
  {
   "cell_type": "markdown",
   "id": "8bab9690",
   "metadata": {},
   "source": [
    "## Ramsey"
   ]
  },
  {
   "cell_type": "code",
   "execution_count": null,
   "id": "df2c9c4a",
   "metadata": {
    "scrolled": true
   },
   "outputs": [],
   "source": [
    "# Ramsey\n",
    "acquisition_metainfo = dict(count=2 ** 0)\n",
    "analysis_metainfo = dict(show_figures=True)\n",
    "for qubits_to_measure in [\n",
    "    [qb1, qb3],\n",
    "    [qb2]\n",
    "]:\n",
    "    for transition_to_calibrate in [\n",
    "        'ge',\n",
    "        'ef'\n",
    "    ]:\n",
    "        for preparation_type in [\n",
    "            \"wait\",\n",
    "            \"active_reset\"\n",
    "        ]:\n",
    "            qubit_temporary_values = []\n",
    "            sweep_parameters_dict = {}\n",
    "            experiment_metainfo = dict(detuning={}, cal_states=transition_to_calibrate,\n",
    "                                       transition_to_calibrate=transition_to_calibrate,\n",
    "                                       preparation_type=preparation_type,\n",
    "                                      )\n",
    "            for qubit in qubits_to_measure:\n",
    "                qubit_temporary_values += [\n",
    "                    (qubit, \"reset_delay_length\", 200e-6),\n",
    "                ]\n",
    "\n",
    "                if transition_to_calibrate == \"ef\":\n",
    "                    sweep_parameters_dict[qubit.uid] = [LinearSweepParameter(f'delays_{qubit.uid}', 0, 25e-6, 41),\n",
    "                                                        'Pulse Delay, $\\\\tau$ ($\\\\mu$s)']\n",
    "                    experiment_metainfo['detuning'][qubit.uid] = 0.673e6\n",
    "                else:\n",
    "                    sweep_parameters_dict[qubit.uid] = [LinearSweepParameter(f'delays_{qubit.uid}', 0, 20e-6, 41),\n",
    "                                                        'Pulse Delay, $\\\\tau$ ($\\\\mu$s)']\n",
    "                    experiment_metainfo['detuning'][qubit.uid] = 0.473e6\n",
    "\n",
    "            exp = qb_calib_exp.Ramsey(qubits_to_measure, session, measurement_setup,\n",
    "                                      experiment_metainfo=experiment_metainfo,\n",
    "                                      acquisition_metainfo=acquisition_metainfo,\n",
    "                                      analysis_metainfo=analysis_metainfo,\n",
    "                                      sweep_parameters_dict=sweep_parameters_dict,\n",
    "                                      qubit_temporary_values=qubit_temporary_values,\n",
    "                                      do_analysis=True, update=True,\n",
    "                                      data_directory=data_directory, save=True, run=True)"
   ]
  },
  {
   "cell_type": "markdown",
   "id": "8a135438",
   "metadata": {},
   "source": [
    "## QScale"
   ]
  },
  {
   "cell_type": "code",
   "execution_count": null,
   "id": "517cf889",
   "metadata": {
    "scrolled": true
   },
   "outputs": [],
   "source": [
    "# QScale\n",
    "for qubits_to_measure in [\n",
    "    [qb1, qb3],\n",
    "    [qb2]\n",
    "]:\n",
    "    for transition_to_calibrate in [\n",
    "        'ge',\n",
    "        'ef'\n",
    "    ]:\n",
    "        for preparation_type in [\"wait\", \"active_reset\"]:\n",
    "            qubit_temporary_values = []\n",
    "            sweep_parameters_dict = {}\n",
    "            for qubit in qubits_to_measure:\n",
    "                qubit_temporary_values += [\n",
    "                    (qubit, \"reset_delay_length\", 200e-6),\n",
    "                ]\n",
    "                beta = qubit.parameters.drive_parameters_ef['beta'] if transition_to_calibrate == \"ef\" else \\\n",
    "                    qubit.parameters.drive_parameters_ge['beta']\n",
    "            #     beta = 0\n",
    "\n",
    "                beta_values = beta + np.linspace(-0.05, 0.05, 13)\n",
    "                sweep_parameters_dict[qubit.uid] = [SweepParameter(f'qscales_{qubit.uid}', beta_values,\n",
    "                                                                   \"Quadrature Scaling, $q$\")]\n",
    "\n",
    "            experiment_metainfo = dict(cal_states=transition_to_calibrate,\n",
    "                                       transition_to_calibrate=transition_to_calibrate,\n",
    "                                       preparation_type=preparation_type,\n",
    "                                      )\n",
    "            acquisition_metainfo = dict(count=2 ** 12)\n",
    "            analysis_metainfo = dict(show_figures=True, do_fitting=False)\n",
    "            exp = qb_calib_exp.QScale(qubits_to_measure, session, measurement_setup,\n",
    "                                      experiment_metainfo=experiment_metainfo,\n",
    "                                      acquisition_metainfo=acquisition_metainfo,\n",
    "                                      sweep_parameters_dict=sweep_parameters_dict,\n",
    "                                      qubit_temporary_values=qubit_temporary_values,\n",
    "                                      analysis_metainfo=analysis_metainfo,\n",
    "                                      do_analysis=True, update=False,\n",
    "                                      data_directory=data_directory, save=True, run=True)"
   ]
  },
  {
   "cell_type": "markdown",
   "id": "9070ab9c",
   "metadata": {},
   "source": [
    "## T1"
   ]
  },
  {
   "cell_type": "code",
   "execution_count": null,
   "id": "1a2b188d",
   "metadata": {
    "scrolled": true
   },
   "outputs": [],
   "source": [
    "# T1\n",
    "for qubits_to_measure in [\n",
    "    [qb1, qb3],\n",
    "    [qb2]\n",
    "]:\n",
    "    for transition_to_calibrate in [\n",
    "        'ge',\n",
    "        'ef'\n",
    "    ]:\n",
    "        for preparation_type in [\"wait\", \"active_reset\"]:\n",
    "            qubit_temporary_values = []\n",
    "            sweep_parameters_dict = {}\n",
    "            for qubit in qubits_to_measure:\n",
    "                qubit_temporary_values += [\n",
    "                    (qubit, \"reset_delay_length\", 1e-6),\n",
    "                ]\n",
    "                sweep_parameters_dict[qubit.uid] = [LinearSweepParameter(f'delays_{qubit.uid}', 0, 50e-6, 31),\n",
    "                                                   \"Pulse Delay, $\\\\tau$ ($\\\\mu$s)\"]\n",
    "            experiment_metainfo = dict(cal_states=transition_to_calibrate,\n",
    "                                       transition_to_calibrate=transition_to_calibrate,\n",
    "                                       preparation_type=\"active_reset\",\n",
    "                                      )\n",
    "            acquisition_metainfo = dict(count=2 ** 12)\n",
    "            analysis_metainfo = dict(show_figures=True)\n",
    "            exp = qb_calib_exp.T1(qubits_to_measure, session, measurement_setup,\n",
    "                                  experiment_metainfo=experiment_metainfo,\n",
    "                                  acquisition_metainfo=acquisition_metainfo,\n",
    "                                  sweep_parameters_dict=sweep_parameters_dict,\n",
    "                                  analysis_metainfo=analysis_metainfo,\n",
    "                                  qubit_temporary_values=qubit_temporary_values,\n",
    "                                  do_analysis=True, data_directory=data_directory,\n",
    "                                  save=True, run=True)"
   ]
  },
  {
   "cell_type": "markdown",
   "id": "c7b3dc96",
   "metadata": {},
   "source": [
    "## Echo"
   ]
  },
  {
   "cell_type": "code",
   "execution_count": null,
   "id": "417ffcf8",
   "metadata": {},
   "outputs": [],
   "source": [
    "# Echo\n",
    "acquisition_metainfo = dict(count=2 ** 12)\n",
    "analysis_metainfo = dict(show_figures=True)\n",
    "for qubits_to_measure in [\n",
    "    [qb1, qb3],\n",
    "    [qb2]\n",
    "]:\n",
    "    for transition_to_calibrate in [\n",
    "        'ge',\n",
    "        'ef'\n",
    "    ]:\n",
    "        for preparation_type in [\"wait\", \"active_reset\"]:\n",
    "            qubit_temporary_values = []\n",
    "            sweep_parameters_dict = {}\n",
    "            experiment_metainfo = dict(detuning={}, cal_states=transition_to_calibrate,\n",
    "                                       transition_to_calibrate=transition_to_calibrate,\n",
    "                                       preparation_type=preparation_type,\n",
    "                                      )\n",
    "            for qubit in qubits_to_measure:\n",
    "                qubit_temporary_values += [\n",
    "                    (qubit, \"reset_delay_length\", 1e-6),\n",
    "                    (qubit, \"readout_pulse_length\", 0.2e-6),\n",
    "                    (qubit, \"readout_integration_length\", 0.2e-6),\n",
    "                ]\n",
    "                sweep_parameters_dict[qubit.uid] = [LinearSweepParameter(f'delays_{qubit.uid}', 0, 30e-6, 41),\n",
    "                                                    \"Pulse Delay, $\\\\tau$ ($\\\\mu$s)\"]\n",
    "                experiment_metainfo['detuning'][qubit.uid] = 0.473e6\n",
    "            exp = qb_calib_exp.Echo(qubits_to_measure, session, measurement_setup,\n",
    "                                    experiment_metainfo=experiment_metainfo,\n",
    "                                    acquisition_metainfo=acquisition_metainfo,\n",
    "                                    analysis_metainfo=analysis_metainfo,\n",
    "                                    sweep_parameters_dict=sweep_parameters_dict,\n",
    "                                    qubit_temporary_values=qubit_temporary_values,\n",
    "                                    do_analysis=True, data_directory=data_directory,\n",
    "                                    save=True, run=True)"
   ]
  },
  {
   "cell_type": "markdown",
   "id": "a303fc8a",
   "metadata": {},
   "source": [
    "# Ramsey Parking"
   ]
  },
  {
   "cell_type": "code",
   "execution_count": null,
   "id": "a3a661f2",
   "metadata": {},
   "outputs": [],
   "source": [
    "for qb in qubits:\n",
    "    qb.set_default_integration_kernels()"
   ]
  },
  {
   "cell_type": "code",
   "execution_count": null,
   "id": "75ad9663",
   "metadata": {
    "scrolled": true
   },
   "outputs": [],
   "source": [
    "# Ramsey\n",
    "acquisition_metainfo = dict(count=2 ** 12)\n",
    "experiment_metainfo = dict(\n",
    "    neartime_callback_function=set_dc_bias,\n",
    "    detuning={})\n",
    "analysis_metainfo = dict(show_figures=True, do_fitting=True)\n",
    "\n",
    "for qubits_to_measure in [\n",
    "    [qb1, qb3],\n",
    "#     [qb2]\n",
    "]:\n",
    "    for preparation_type in [\n",
    "        \"wait\",\n",
    "#         \"active_reset\"\n",
    "    ]:\n",
    "        experiment_metainfo[\"preparation_type\"] = preparation_type\n",
    "\n",
    "        qubit_temporary_values = []\n",
    "        sweep_parameters_dict = {}\n",
    "        for qubit in qubits_to_measure:\n",
    "            qubit_temporary_values += [\n",
    "                    (qubit, \"reset_delay_length\", 200e-6),\n",
    "            ]\n",
    "            voltages = qubit.parameters.dc_voltage_parking + np.linspace(-0.05, 0.05, 5)\n",
    "            sweep_parameters_dict[qubit.uid] = [LinearSweepParameter(f'delays_{qubit.uid}', 0, 200e-9, 41),\n",
    "                                                SweepParameter(f\"dc_volt_sweep_{qubit.uid}\", voltages, 'DC Voltage (V)')]\n",
    "            experiment_metainfo['detuning'][qubit.uid] = 41.73e6\n",
    "\n",
    "\n",
    "        exp = qb_calib_exp.RamseyParking(qubits_to_measure, session, measurement_setup,\n",
    "                                         experiment_metainfo=experiment_metainfo,\n",
    "                                         acquisition_metainfo=acquisition_metainfo,\n",
    "                                         analysis_metainfo=analysis_metainfo,\n",
    "                                         sweep_parameters_dict=sweep_parameters_dict,\n",
    "                                         qubit_temporary_values=qubit_temporary_values,\n",
    "                                         do_analysis=True, update=False,\n",
    "                                         data_directory=data_directory, save=True, run=True)"
   ]
  },
  {
   "cell_type": "markdown",
   "id": "3056bc36",
   "metadata": {},
   "source": [
    "# Readout tune-up"
   ]
  },
  {
   "cell_type": "markdown",
   "id": "a7e271a4",
   "metadata": {},
   "source": [
    "## Optimal readout frequency"
   ]
  },
  {
   "cell_type": "code",
   "execution_count": null,
   "id": "ed0e6d64",
   "metadata": {
    "scrolled": true
   },
   "outputs": [],
   "source": [
    "for qubits_to_measure in [\n",
    "    [qb2]\n",
    "]:\n",
    "    qubit_temporary_values = []\n",
    "    sweep_parameters_dict = {}\n",
    "    for qubit in qubits_to_measure:\n",
    "        qubit_temporary_values += [\n",
    "            (qubit, \"reset_delay_length\", 1e-6),\n",
    "        ]\n",
    "        freqs = qubit.parameters.readout_resonator_frequency + np.linspace(-80e6, 80e6, 301)\n",
    "        sweep_parameters_dict[qubit.uid] = [SweepParameter(f'freq_{qubit.uid}',  freqs,  'Readout Frequency, $f_{RO}$ (GHz)')]\n",
    "\n",
    "    acquisition_metainfo = dict(count=2**12)\n",
    "    experiment_metainfo = dict()#pulsed=True, acquisition_type=AcquisitionType.INTEGRATION)\n",
    "    analysis_metainfo = dict(show_figures=True)\n",
    "    exp = ro_calib_exp.DispersiveShift(qubits_to_measure, session, measurement_setup,\n",
    "                                       experiment_metainfo=experiment_metainfo,\n",
    "                                       acquisition_metainfo=acquisition_metainfo,\n",
    "                                       analysis_metainfo=analysis_metainfo,\n",
    "                                       sweep_parameters_dict=sweep_parameters_dict,\n",
    "                                       qubit_temporary_values=qubit_temporary_values,\n",
    "                                       preparation_states=('g', 'e'),\n",
    "                                       do_analysis=True, update=False,\n",
    "                                       data_directory=data_directory, save=True, run=True)"
   ]
  },
  {
   "cell_type": "markdown",
   "id": "4d708b0e",
   "metadata": {},
   "source": [
    "## StateDiscrimination"
   ]
  },
  {
   "cell_type": "code",
   "execution_count": null,
   "id": "fd350c5c",
   "metadata": {
    "scrolled": true
   },
   "outputs": [],
   "source": [
    "for qubits_to_measure in [\n",
    "    [qb1, qb3],\n",
    "    [qb2]\n",
    "]:\n",
    "    for preparation_states in [\n",
    "        (\"g\", \"e\"),\n",
    "        (\"g\", \"e\", \"f\")\n",
    "    ]:\n",
    "        for preparation_type in [\"wait\", \"active_reset\"]:\n",
    "            qubit_temporary_values = []\n",
    "            for qubit in qubits_to_measure:\n",
    "                qubit_temporary_values += [\n",
    "                    (qubit, \"reset_delay_length\", 200e-6),\n",
    "                ]\n",
    "            acquisition_metainfo = dict(count=2**12,\n",
    "            #                             acquisition_type=AcquisitionType.RAW,\n",
    "            #                             averaging_mode=AveragingMode.CYCLIC,\n",
    "                                       )\n",
    "            experiment_metainfo = dict(\n",
    "                preparation_type=preparation_type\n",
    "            )\n",
    "            analysis_metainfo = dict(show_figures=True)\n",
    "            exp = ro_calib_exp.StateDiscrimination(\n",
    "                qubits_to_measure, session, measurement_setup,\n",
    "                experiment_metainfo=experiment_metainfo,\n",
    "                acquisition_metainfo=acquisition_metainfo,\n",
    "                analysis_metainfo=analysis_metainfo,\n",
    "                preparation_states=preparation_states,\n",
    "                qubit_temporary_values=qubit_temporary_values,\n",
    "                do_analysis=True, update=False,\n",
    "                data_directory=data_directory, save=True, run=True)"
   ]
  },
  {
   "cell_type": "code",
   "execution_count": null,
   "id": "9000d0c8",
   "metadata": {},
   "outputs": [],
   "source": []
  },
  {
   "cell_type": "markdown",
   "id": "9f97482e",
   "metadata": {},
   "source": [
    "## Optimal integration kernel"
   ]
  },
  {
   "cell_type": "code",
   "execution_count": null,
   "id": "68deaca4",
   "metadata": {
    "scrolled": true
   },
   "outputs": [],
   "source": [
    "for qubits_to_measure in [\n",
    "    [qb2]\n",
    "]:\n",
    "    qubit_temporary_values = []\n",
    "    for qubit in qubits_to_measure:\n",
    "        qubit_temporary_values += [\n",
    "            (qubit, \"reset_delay_length\", 200e-6),\n",
    "        ]\n",
    "    acquisition_metainfo = dict(count=2**12)\n",
    "    experiment_metainfo = dict()\n",
    "    analysis_metainfo = dict(show_figures=True)\n",
    "    exp = ro_calib_exp.OptimalIntegrationKernels(\n",
    "        qubits_to_measure, session, measurement_setup,\n",
    "        experiment_metainfo=experiment_metainfo,\n",
    "        acquisition_metainfo=acquisition_metainfo,\n",
    "        analysis_metainfo=analysis_metainfo,\n",
    "        qubit_temporary_values=qubit_temporary_values,\n",
    "        do_analysis=True, update=False,\n",
    "        data_directory=data_directory, save=False, run=True)"
   ]
  },
  {
   "cell_type": "code",
   "execution_count": null,
   "id": "d29a48e2",
   "metadata": {},
   "outputs": [],
   "source": []
  },
  {
   "cell_type": "markdown",
   "id": "b1939340",
   "metadata": {},
   "source": [
    "# New experiment"
   ]
  },
  {
   "cell_type": "code",
   "execution_count": null,
   "id": "37e58e35",
   "metadata": {},
   "outputs": [],
   "source": [
    "exp = exp_lib.ExperimentTemplate([qb1], session, measurement_setup,\n",
    "                                 experiment_name='MyCoolExperiment',\n",
    "                                 signals=['drive', 'flux', 'measure', 'acquire'],\n",
    "                                 data_directory=data_directory, save=True)"
   ]
  },
  {
   "cell_type": "code",
   "execution_count": null,
   "id": "31e06736",
   "metadata": {},
   "outputs": [],
   "source": []
  },
  {
   "cell_type": "code",
   "execution_count": null,
   "id": "546b77d5",
   "metadata": {},
   "outputs": [],
   "source": [
    "# exc_sec = Section(uid='excitation')\n",
    "# exc_sec.play(signal=exp.signal_name('drive', qb1), pulse=qt_ops.quantum_gate(qb1, 'X180_ge'))\n",
    "# measure_acquire_sec = exp.create_measure_acquire_sections(qb1, play_after='excitation')\n",
    "\n",
    "# exp.create_acquire_rt_loop()\n",
    "# exp.experiment.add(exp.acquire_loop)\n",
    "# exp.acquire_loop.add(exc_sec)\n",
    "# exp.acquire_loop.add(measure_acquire_sec)"
   ]
  },
  {
   "cell_type": "code",
   "execution_count": null,
   "id": "08064982",
   "metadata": {},
   "outputs": [],
   "source": [
    "# exp_rabi = exp.experiment\n",
    "\n",
    "# exp.experiment.sections = []\n",
    "# amplitude_sweep = LinearSweepParameter('amp', 0, 1, 31)\n",
    "# ## define Rabi experiment pulse sequence\n",
    "# # outer loop - real-time, cyclic averaging\n",
    "# with exp_rabi.acquire_loop_rt(\n",
    "#     uid=\"rabi_shots\",\n",
    "#     count=2**10,\n",
    "#     averaging_mode=AveragingMode.CYCLIC,\n",
    "#     acquisition_type=AcquisitionType.INTEGRATION,\n",
    "# ):\n",
    "#     # inner loop - real time sweep of Rabi ampitudes\n",
    "#     with exp_rabi.sweep(uid=\"rabi_sweep\", parameter=amplitude_sweep):\n",
    "#         # play qubit excitation pulse - pulse amplitude is swept\n",
    "#         with exp_rabi.section(\n",
    "#             uid=\"qubit_excitation\", alignment=SectionAlignment.RIGHT\n",
    "#         ):\n",
    "#             exp_rabi.play(\n",
    "#                 signal=\"drive_qb1\", pulse=qt_ops.quantum_gate(qb1, 'X180_ge'),\n",
    "#                 amplitude=amplitude_sweep\n",
    "#             )\n",
    "#         # readout pulse and data acquisition\n",
    "#         with exp_rabi.section(uid=\"readout_section\", play_after=\"qubit_excitation\"):\n",
    "#             readout_pulse = qt_ops.readout_pulse(qb1)\n",
    "#             # play readout pulse on measure line\n",
    "#             exp_rabi.play(signal=\"measure_qb1\", pulse=readout_pulse)\n",
    "#             # trigger signal data acquisition\n",
    "#             exp_rabi.acquire(\n",
    "#                 signal=\"acquire_qb1\",\n",
    "#                 handle=\"amp_rabi\",\n",
    "#                 kernel=readout_pulse,\n",
    "#             )\n",
    "#         # relax time after readout - for qubit relaxation to groundstate and signal processing\n",
    "#         with exp_rabi.section(uid=\"reserve\", length=1e-6):\n",
    "#             exp_rabi.reserve(signal=\"measure_qb1\")"
   ]
  },
  {
   "cell_type": "code",
   "execution_count": null,
   "id": "0a9a00b8",
   "metadata": {},
   "outputs": [],
   "source": [
    "# exp.autorun()"
   ]
  },
  {
   "cell_type": "code",
   "execution_count": null,
   "id": "eca12d0f",
   "metadata": {},
   "outputs": [],
   "source": []
  },
  {
   "cell_type": "code",
   "execution_count": null,
   "id": "1495f50c",
   "metadata": {},
   "outputs": [],
   "source": []
  }
 ],
 "metadata": {
  "jupytext": {
   "cell_metadata_filter": "-all",
   "main_language": "python",
   "notebook_metadata_filter": "-all"
  },
  "kernelspec": {
   "display_name": "Python 3 (ipykernel)",
   "language": "python",
   "name": "python3"
  },
  "language_info": {
   "codemirror_mode": {
    "name": "ipython",
    "version": 3
   },
   "file_extension": ".py",
   "mimetype": "text/x-python",
   "name": "python",
   "nbconvert_exporter": "python",
   "pygments_lexer": "ipython3",
   "version": "3.11.5"
  },
  "toc": {
   "base_numbering": 1,
   "nav_menu": {},
   "number_sections": true,
   "sideBar": true,
   "skip_h1_title": false,
   "title_cell": "Table of Contents",
   "title_sidebar": "Contents",
   "toc_cell": false,
   "toc_position": {
    "height": "calc(100% - 180px)",
    "left": "10px",
    "top": "150px",
    "width": "265.5px"
   },
   "toc_section_display": true,
   "toc_window_display": true
  }
 },
 "nbformat": 4,
 "nbformat_minor": 5
}
