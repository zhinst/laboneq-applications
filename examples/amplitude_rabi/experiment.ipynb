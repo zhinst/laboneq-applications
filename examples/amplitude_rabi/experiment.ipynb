{
 "cells": [
  {
   "cell_type": "markdown",
   "metadata": {},
   "source": [
    "# Example on running an Experiment with mocked LabOne Q result data"
   ]
  },
  {
   "cell_type": "code",
   "execution_count": null,
   "metadata": {},
   "outputs": [],
   "source": [
    "from laboneq.simple import *\n",
    "from laboneq_library.experiments import qubit_calibration_experiments as qb_calib_exp\n",
    "from laboneq_library import loading_helpers as load_hlp\n",
    "from laboneq_library import calibration_helpers as calib_hlp\n",
    "\n",
    "from laboneq_library.utils.debugging import mock_acquired_results, get_acquired_results_from_results_json"
   ]
  },
  {
   "cell_type": "code",
   "execution_count": null,
   "metadata": {},
   "outputs": [],
   "source": [
    "from laboneq.dsl.device import create_connection\n",
    "from laboneq.dsl.device.instruments import HDAWG, SHFQC, PQSC\n",
    "\n",
    "\n",
    "measurement_setup = DeviceSetup(\"TopFeedlineT6C\")\n",
    "measurement_setup.add_dataserver(host=\"localhost\", port=\"8004\")\n",
    "measurement_setup.add_instruments(\n",
    "    HDAWG(uid=\"device_hdawg\", address=\"dev8793\"),\n",
    "    SHFQC(uid=\"device_shfqc\", address=\"dev12250\"),\n",
    "    PQSC(uid=\"device_pqsc\", address=\"dev10091\"),\n",
    ")\n",
    "for i, qbn in enumerate(['qb1', 'qb2', 'qb3']):\n",
    "    measurement_setup.add_connections(\n",
    "        \"device_hdawg\",\n",
    "        create_connection(to_signal=f\"{qbn}/flux_line\", ports=f\"SIGOUTS/{i+1}\"),\n",
    "    )\n",
    "\n",
    "    measurement_setup.add_connections(\n",
    "        \"device_shfqc\",\n",
    "        create_connection(to_signal=f\"{qbn}/drive_line\", ports=f\"SGCHANNELS/{str(i)}/OUTPUT\"),\n",
    "        create_connection(to_signal=f\"{qbn}/drive_line_ef\", ports=f\"SGCHANNELS/{str(i)}/OUTPUT\"),\n",
    "        create_connection(to_signal=f\"{qbn}/measure_line\", ports=\"QACHANNELS/0/OUTPUT\"),\n",
    "        create_connection(to_signal=f\"{qbn}/acquire_line\", ports=\"QACHANNELS/0/INPUT\"),\n",
    "    )\n",
    "measurement_setup.add_connections(\n",
    "    \"device_pqsc\",\n",
    "    create_connection(to_instrument=\"device_hdawg\", ports=\"ZSYNCS/2\"),\n",
    "    create_connection(to_instrument=\"device_shfqc\", ports=\"ZSYNCS/0\"),\n",
    ")"
   ]
  },
  {
   "cell_type": "code",
   "execution_count": null,
   "metadata": {},
   "outputs": [],
   "source": [
    "qubit_parameters = load_hlp.load_qubit_parameters_from_json(\n",
    "    full_filepath='qubit_parameters.json')\n",
    "qb1, qb2, qb3 = calib_hlp.create_qubits_from_parameters(qubit_parameters, measurement_setup)\n",
    "qubits = [qb1, qb2, qb3]"
   ]
  },
  {
   "cell_type": "code",
   "execution_count": null,
   "metadata": {},
   "outputs": [],
   "source": [
    "session = Session(device_setup=measurement_setup)\n",
    "session.connect(do_emulation=True, reset_devices=False)"
   ]
  },
  {
   "cell_type": "code",
   "execution_count": null,
   "metadata": {},
   "outputs": [],
   "source": [
    "# Previous experiment results for Amplitude Rabi ef without active reset, 3 qubits\n",
    "exp_results_json = \"experiment_results.json\"\n",
    "\n",
    "for qubits_to_measure in [\n",
    "    [qb1, qb3],\n",
    "    [qb2]\n",
    "]:\n",
    "    for transition_to_calibrate in [\n",
    "        'ge',\n",
    "    ]:\n",
    "        for preparation_type in [\n",
    "            \"wait\",\n",
    "        ]:\n",
    "            qubit_temporary_values = []\n",
    "            sweep_parameters_dict = {}\n",
    "            for qubit in qubits_to_measure:\n",
    "                qubit_temporary_values += [\n",
    "                    (qubit, \"reset_delay_length\", 200e-6),\n",
    "                ]\n",
    "\n",
    "                pi_amp = qubit.parameters.drive_parameters_ef['amplitude_pi'] if transition_to_calibrate == \"ef\" else \\\n",
    "                    qubit.parameters.drive_parameters_ge['amplitude_pi']\n",
    "                swp_end = pi_amp + 0.1\n",
    "                sweep_parameters_dict[qubit.uid] = [\n",
    "                    LinearSweepParameter(f'amps_{qubit.uid}', 0, swp_end, 21, 'Amplitude Scaling')]\n",
    "\n",
    "            acquisition_metainfo = dict(count=2 ** 0)\n",
    "            experiment_metainfo = dict(cal_states=transition_to_calibrate,\n",
    "                                       transition_to_calibrate=transition_to_calibrate,\n",
    "                                       preparation_type=preparation_type\n",
    "                                      )\n",
    "            analysis_metainfo = dict(show_figures=True, do_fitting=True)\n",
    "            with mock_acquired_results(session, get_acquired_results_from_results_json(exp_results_json)) as session:\n",
    "                exp = qb_calib_exp.AmplitudeRabi(qubits_to_measure, session, measurement_setup,\n",
    "                                                experiment_metainfo=experiment_metainfo,\n",
    "                                                acquisition_metainfo=acquisition_metainfo,\n",
    "                                                analysis_metainfo=analysis_metainfo,\n",
    "                                                sweep_parameters_dict=sweep_parameters_dict,\n",
    "                                                qubit_temporary_values=qubit_temporary_values,\n",
    "                                                do_analysis=True, update=False,\n",
    "                                                data_directory=\"data\", save=False, run=True)"
   ]
  }
 ],
 "metadata": {
  "kernelspec": {
   "display_name": "laboneq-lib",
   "language": "python",
   "name": "python3"
  },
  "language_info": {
   "codemirror_mode": {
    "name": "ipython",
    "version": 3
   },
   "file_extension": ".py",
   "mimetype": "text/x-python",
   "name": "python",
   "nbconvert_exporter": "python",
   "pygments_lexer": "ipython3",
   "version": "3.10.5"
  }
 },
 "nbformat": 4,
 "nbformat_minor": 2
}
