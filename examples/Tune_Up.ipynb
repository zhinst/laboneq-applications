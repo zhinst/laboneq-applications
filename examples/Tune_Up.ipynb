{
 "cells": [
  {
   "cell_type": "markdown",
   "metadata": {},
   "source": [
    "# Reference Tune-up\n",
    "\n",
    "This notebook shall evolve into a reference tune-up notebook. Currently, it is to showcase the new experiment library and the related helper files and functions."
   ]
  },
  {
   "cell_type": "code",
   "execution_count": 1,
   "metadata": {},
   "outputs": [],
   "source": [
    "from laboneq.simple import *\n",
    "\n",
    "import laboneq_library.experiments.experiment_library as experiments\n",
    "import laboneq_library.analysis.result_plotting as plotting\n",
    "from laboneq_library.calibration_helpers import (\n",
    "    load_qubit_parameters,\n",
    "    update_qubit_parameters_and_calibration,\n",
    ")"
   ]
  },
  {
   "cell_type": "code",
   "execution_count": null,
   "metadata": {},
   "outputs": [],
   "source": [
    "emulate = True"
   ]
  },
  {
   "cell_type": "code",
   "execution_count": null,
   "metadata": {},
   "outputs": [],
   "source": [
    "from textwrap import dedent\n",
    "\n",
    "descriptor = dedent(\n",
    "    \"\"\"\\\n",
    "instruments:\n",
    "  SHFQC:\n",
    "    - address: DEV12108\n",
    "      uid: device_shfqc\n",
    "connections:\n",
    "\n",
    "  device_shfqc:\n",
    "    - iq_signal: q0/measure_line\n",
    "      ports: QACHANNELS/0/OUTPUT\n",
    "    - acquire_signal: q0/acquire_line\n",
    "      ports: QACHANNELS/0/INPUT\n",
    "\n",
    "    - iq_signal: q0/drive_line\n",
    "      ports: SGCHANNELS/0/OUTPUT\n",
    "\n",
    "    - iq_signal: q1/measure_line\n",
    "      ports: QACHANNELS/0/OUTPUT\n",
    "    - acquire_signal: q1/acquire_line\n",
    "      ports: QACHANNELS/0/INPUT\n",
    "\n",
    "    - iq_signal: q1/drive_line\n",
    "      ports: SGCHANNELS/1/OUTPUT\n",
    "\"\"\"\n",
    ")\n",
    "demo_setup = DeviceSetup.from_descriptor(\n",
    "    descriptor, server_host=\"10.42.11.10\", server_port=8004, setup_name=\"MySetup\"\n",
    ")"
   ]
  },
  {
   "cell_type": "markdown",
   "metadata": {},
   "source": [
    "## Apply Calibration from File"
   ]
  },
  {
   "cell_type": "code",
   "execution_count": null,
   "metadata": {},
   "outputs": [],
   "source": [
    "qubit_parameters = load_qubit_parameters()\n",
    "\n",
    "transmon_list = update_qubit_parameters_and_calibration(\n",
    "    qubit_parameters, device_setup=demo_setup, database=None\n",
    ")"
   ]
  },
  {
   "cell_type": "markdown",
   "metadata": {},
   "source": [
    "### Create and Connect to a QCCS Session \n",
    "\n",
    "Establishes the connection to the instruments and readies them for experiments\n"
   ]
  },
  {
   "cell_type": "code",
   "execution_count": null,
   "metadata": {},
   "outputs": [],
   "source": [
    "# create and connect to a session\n",
    "session = Session(device_setup=demo_setup)\n",
    "session.connect(do_emulation=emulate, reset_devices=True)"
   ]
  },
  {
   "cell_type": "markdown",
   "metadata": {},
   "source": [
    "# Tune-up"
   ]
  },
  {
   "cell_type": "markdown",
   "metadata": {},
   "source": [
    "## Amplitude Rabi Experiment"
   ]
  },
  {
   "cell_type": "code",
   "execution_count": null,
   "metadata": {},
   "outputs": [],
   "source": [
    "amplitude_sweep = LinearSweepParameter(start=0, stop=1, count=5)\n",
    "num_averages = 2**10\n",
    "cal_trace = False\n",
    "\n",
    "amplitude_rabi = experiments.amplitude_rabi_single(\n",
    "    qubit=transmon_list[0],\n",
    "    amplitude_sweep=amplitude_sweep,\n",
    "    num_averages=num_averages,\n",
    "    cal_trace=cal_trace,\n",
    ")"
   ]
  },
  {
   "cell_type": "code",
   "execution_count": null,
   "metadata": {},
   "outputs": [],
   "source": [
    "res = session.run(amplitude_rabi)\n",
    "show_pulse_sheet(\"Rabi\", res.compiled_experiment)"
   ]
  },
  {
   "cell_type": "markdown",
   "metadata": {},
   "source": [
    "## Resonator spectroscopy over a full range"
   ]
  },
  {
   "cell_type": "code",
   "execution_count": null,
   "metadata": {},
   "outputs": [],
   "source": [
    "res_spec_full_range = experiments.resonator_spectroscopy_full_range(\n",
    "    transmon_list[0],\n",
    "    [4.5e9, 5e9, 5.5e9, 6e9, 6.5e9],\n",
    "    inner_start=-400e6,\n",
    "    inner_stop=400e6,\n",
    "    inner_count=501,\n",
    "    integration_time=1e-3,\n",
    ")"
   ]
  },
  {
   "cell_type": "code",
   "execution_count": null,
   "metadata": {},
   "outputs": [],
   "source": [
    "session.connect(do_emulation=emulate, reset_devices=True)\n",
    "spectroscopy_results = session.run(res_spec_full_range)"
   ]
  },
  {
   "cell_type": "code",
   "execution_count": null,
   "metadata": {},
   "outputs": [],
   "source": [
    "plotting.plot_resonator_spectroscopy_full_range(spectroscopy_results)"
   ]
  },
  {
   "cell_type": "markdown",
   "metadata": {},
   "source": [
    "## Detuned Ramsey experiment on two qubits"
   ]
  },
  {
   "cell_type": "code",
   "execution_count": null,
   "metadata": {},
   "outputs": [],
   "source": [
    "ramsey_exp_parallel = experiments.ramsey_parallel(\n",
    "    transmon_list,\n",
    "    LinearSweepParameter(start=0, stop=40e-6, count=3),\n",
    "    num_averages=2,\n",
    "    detuning=50e3,\n",
    "    cal_trace=True,\n",
    ")"
   ]
  },
  {
   "cell_type": "code",
   "execution_count": null,
   "metadata": {},
   "outputs": [],
   "source": [
    "session.connect(do_emulation=emulate, reset_devices=True)\n",
    "results = session.run(ramsey_exp_parallel)"
   ]
  },
  {
   "cell_type": "code",
   "execution_count": null,
   "metadata": {},
   "outputs": [],
   "source": [
    "show_pulse_sheet(\"ramsey\", results.compiled_experiment)"
   ]
  }
 ],
 "metadata": {
  "kernelspec": {
   "display_name": "testenv",
   "language": "python",
   "name": "python3"
  },
  "language_info": {
   "codemirror_mode": {
    "name": "ipython",
    "version": 3
   },
   "file_extension": ".py",
   "mimetype": "text/x-python",
   "name": "python",
   "nbconvert_exporter": "python",
   "pygments_lexer": "ipython3",
   "version": "3.10.13"
  },
  "orig_nbformat": 4
 },
 "nbformat": 4,
 "nbformat_minor": 2
}
