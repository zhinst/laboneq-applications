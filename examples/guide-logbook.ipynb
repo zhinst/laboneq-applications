{
 "cells": [
  {
   "cell_type": "markdown",
   "id": "62734909",
   "metadata": {},
   "source": [
    "To convert this `md` notebook into a standard Jupyter notebook (`ipynb`), use the following command in the command line (in the folder of this notebook):\n",
    "\n",
    "`jupytext --to ipynb guide-building-blocks.md`"
   ]
  },
  {
   "cell_type": "markdown",
   "id": "aceeecf7",
   "metadata": {},
   "source": [
    "# Recording Experiment Workflow Results"
   ]
  },
  {
   "cell_type": "markdown",
   "id": "d46d8e41",
   "metadata": {},
   "source": [
    "While running an experiment workflow one would like to keep a record of what took place -- a kind of digital lab book. The LabOne Q Applications Library provides logbooks for just this task.\n",
    "\n",
    "Each workflow being run has its own logbook. The logbook record the tasks being run and may also be used to store additional data such as device settings, LabOne Q experiments, qubits, and the results of experiments and analyses.\n",
    "\n",
    "Logbooks need to be stored somewhere and within the application library this place is called a logbook store.\n",
    "\n",
    "Currently the applications library supports two kinds of stores:\n",
    "\n",
    "* `FolderStore`\n",
    "* `LoggingStore`\n",
    "\n",
    "The `FolderStore` writes logbooks to a folder on disk. It is used to keep a permanent record of the experiment workflow.\n",
    "\n",
    "The `LoggingStore` just logs what is happening using Python's logging. It provides a quick overview of the steps performed by a workflow.\n",
    "\n",
    "We'll look at each of these in more detail shortly, but first let us set up a quantum platform to run some experiments on so we have something to record."
   ]
  },
  {
   "cell_type": "markdown",
   "id": "4aeda9b7",
   "metadata": {},
   "source": [
    "## Setting up a quantum platform\n",
    "\n",
    "Build your LabOne Q `DeviceSetup`, qubits and `Session` as normal. Here we import a demonstration tunable transmon quantum platform from the library and the amplitude Rabi experiment:"
   ]
  },
  {
   "cell_type": "code",
   "execution_count": 1,
   "id": "d21b2dd7",
   "metadata": {},
   "outputs": [],
   "source": [
    "import numpy as np\n",
    "from laboneq.simple import *\n",
    "from laboneq_applications.experiments import amplitude_rabi\n",
    "from laboneq_applications.qpu_types.tunable_transmon import demo_platform"
   ]
  },
  {
   "cell_type": "code",
   "execution_count": 2,
   "id": "f07240eb",
   "metadata": {},
   "outputs": [],
   "source": [
    "# Create a demonstration QuantumPlatform for a tunable-transmon QPU:\n",
    "qt_platform = demo_platform(n_qubits=6)\n",
    "\n",
    "# The platofrm contains a setup, which is an ordinary LabOne Q DeviceSetup:\n",
    "setup = qt_platform.setup\n",
    "\n",
    "# And a tunable-transmon QPU:\n",
    "qpu = qt_platform.qpu\n",
    "\n",
    "# Inside the QPU, we have qubits, which is a list of six LabOne Q Application Library TunableTransmonQubit qubits:\n",
    "qubits = qpu.qubits"
   ]
  },
  {
   "cell_type": "code",
   "execution_count": 3,
   "id": "b5a324e6",
   "metadata": {},
   "outputs": [
    {
     "name": "stdout",
     "output_type": "stream",
     "text": [
      "[2024.08.14 13:16:54.597] INFO    Logging initialized from [Default inline config in laboneq.laboneq_logging] logdir is C:\\working_folder\\laboneq-applications\\examples\\laboneq_output\\log\n",
      "[2024.08.14 13:16:54.613] INFO    VERSION: laboneq 1.0+local\n",
      "[2024.08.14 13:16:54.624] INFO    Connecting to data server at localhost:8004\n",
      "[2024.08.14 13:16:54.647] INFO    Connected to Zurich Instruments LabOne Data Server version 24.04 at localhost:8004\n",
      "[2024.08.14 13:16:54.663] INFO    Configuring the device setup\n",
      "[2024.08.14 13:16:54.717] INFO    The device setup is configured\n"
     ]
    },
    {
     "data": {
      "text/plain": [
       "<laboneq.dsl.session.ConnectionState at 0x25f8ee87110>"
      ]
     },
     "execution_count": 3,
     "metadata": {},
     "output_type": "execute_result"
    }
   ],
   "source": [
    "session = Session(setup)\n",
    "session.connect(do_emulation=True)"
   ]
  },
  {
   "cell_type": "markdown",
   "id": "f38fa172",
   "metadata": {},
   "source": [
    "## The LoggingStore"
   ]
  },
  {
   "cell_type": "markdown",
   "id": "9dc2eb36",
   "metadata": {
    "slideshow": {
     "slide_type": "subslide"
    }
   },
   "source": [
    "When you import the `laboneq_applications` library it automatically creates a default `LoggingStore` for you. This logging store is used whenever a workflow is executed and logs information about:\n",
    "\n",
    "* the start and end of workflows\n",
    "* the start and end of tasks\n",
    "* any errors that occur\n",
    "* comments (adhoc messages from tasks, more on these later)\n",
    "* any data files that would be saved if a folder store was in use (more on these later too) \n",
    "\n",
    "These logs don't save anything obviously, but they will allow us to see what events are recorded and what would be saved if we did a have a folder store active."
   ]
  },
  {
   "cell_type": "markdown",
   "id": "aeb3d117",
   "metadata": {},
   "source": [
    "### An example of logging"
   ]
  },
  {
   "cell_type": "markdown",
   "id": "4561c091",
   "metadata": {},
   "source": [
    "Let's run the amplitude Rabi experiment and take a look:"
   ]
  },
  {
   "cell_type": "code",
   "execution_count": 4,
   "id": "ffb7808b",
   "metadata": {},
   "outputs": [],
   "source": [
    "amplitudes = np.linspace(0.0, 0.9, 10)\n",
    "options = amplitude_rabi.options()\n",
    "options.create_experiment.count = 10\n",
    "options.create_experiment.averaging_mode = \"cyclic\"\n",
    "rabi_tb = amplitude_rabi.experiment_workflow(\n",
    "    session,\n",
    "    qpu,\n",
    "    qubits[0],\n",
    "    amplitudes,\n",
    "    options=options,\n",
    ")"
   ]
  },
  {
   "cell_type": "markdown",
   "id": "73388f65",
   "metadata": {},
   "source": [
    "The workflow has not yet been executed, but when you run the next cell, you should see messages like:\n",
    "\n",
    "```\n",
    "──────────────────────────────────────────────────────────────────────────────\n",
    " Workflow 'experiment_workflow': execution started\n",
    "────────────────────────────────────────────────────────────────────────────── \n",
    "```\n",
    "\n",
    "appear in the logs beneath the cell."
   ]
  },
  {
   "cell_type": "code",
   "execution_count": 5,
   "id": "46d6e175",
   "metadata": {},
   "outputs": [
    {
     "name": "stdout",
     "output_type": "stream",
     "text": [
      "[2024.08.14 13:18:35.459] INFO    \u001b[1m ────────────────────────────────────────────────────────────────────────────── \u001b[0m\n",
      "[2024.08.14 13:18:35.461] INFO    \u001b[1m \u001b[0m\u001b[1m \u001b[0m\u001b[1mWorkflow 'experiment_workflow': execution started\u001b[0m\u001b[1m                           \u001b[0m\u001b[1m \u001b[0m\u001b[1m \u001b[0m\n",
      "[2024.08.14 13:18:35.462] INFO    \u001b[1m ────────────────────────────────────────────────────────────────────────────── \u001b[0m\n",
      "[2024.08.14 13:18:35.471] INFO    \u001b[1mTask 'create_experiment': started\u001b[0m\n",
      "[2024.08.14 13:18:35.477] INFO    \u001b[1mTask 'create_experiment': ended\u001b[0m\n",
      "[2024.08.14 13:18:35.478] INFO    \u001b[1mTask 'compile_experiment': started\u001b[0m\n",
      "[2024.08.14 13:18:35.494] INFO    Resolved modulation type of oscillator 'q0_readout_acquire_osc' on signal '/logical_signal_groups/q0/acquire' to SOFTWARE\n",
      "[2024.08.14 13:18:35.500] INFO    Resolved modulation type of oscillator 'q0_drive_ge_osc' on signal '/logical_signal_groups/q0/drive' to HARDWARE\n",
      "[2024.08.14 13:18:35.505] INFO    Resolved modulation type of oscillator 'q0_drive_ef_osc' on signal '/logical_signal_groups/q0/drive_ef' to HARDWARE\n",
      "[2024.08.14 13:18:35.505] INFO    Starting LabOne Q Compiler run...\n",
      "[2024.08.14 13:18:35.531] INFO    Schedule completed. [0.019 s]\n",
      "[2024.08.14 13:18:35.637] INFO    Code generation completed for all AWGs. [0.095 s]\n",
      "[2024.08.14 13:18:35.642] INFO    Completed compilation step 1 of 1. [0.123 s]\n",
      "[2024.08.14 13:18:35.663] INFO     ───────────────────────────────────────────────────────────────────── \n",
      "[2024.08.14 13:18:35.673] INFO     \u001b[1m \u001b[0m\u001b[1mDevice         \u001b[0m\u001b[1m \u001b[0m \u001b[1m \u001b[0m\u001b[1mAWG\u001b[0m\u001b[1m \u001b[0m \u001b[1m \u001b[0m\u001b[1mSeqC LOC\u001b[0m\u001b[1m \u001b[0m \u001b[1m \u001b[0m\u001b[1mCT entries\u001b[0m\u001b[1m \u001b[0m \u001b[1m \u001b[0m\u001b[1mWaveforms\u001b[0m\u001b[1m \u001b[0m \u001b[1m \u001b[0m\u001b[1mSamples\u001b[0m\u001b[1m \u001b[0m \n",
      "[2024.08.14 13:18:35.678] INFO     ───────────────────────────────────────────────────────────────────── \n",
      "[2024.08.14 13:18:35.678] INFO      device_hdawg        0          4            1           0         0  \n",
      "[2024.08.14 13:18:35.687] INFO      device_shfqc        0         17            0           1      8000  \n",
      "[2024.08.14 13:18:35.692] INFO      device_shfqc_sg     0         35           11           2       448  \n",
      "[2024.08.14 13:18:35.695] INFO     ───────────────────────────────────────────────────────────────────── \n",
      "[2024.08.14 13:18:35.695] INFO     \u001b[1m \u001b[0m\u001b[1mTOTAL          \u001b[0m\u001b[1m \u001b[0m \u001b[1m \u001b[0m\u001b[1m   \u001b[0m\u001b[1m \u001b[0m \u001b[1m \u001b[0m\u001b[1m      56\u001b[0m\u001b[1m \u001b[0m \u001b[1m \u001b[0m\u001b[1m        12\u001b[0m\u001b[1m \u001b[0m \u001b[1m \u001b[0m\u001b[1m         \u001b[0m\u001b[1m \u001b[0m \u001b[1m \u001b[0m\u001b[1m   8448\u001b[0m\u001b[1m \u001b[0m \n",
      "[2024.08.14 13:18:35.709] INFO     ───────────────────────────────────────────────────────────────────── \n",
      "[2024.08.14 13:18:35.754] INFO    Finished LabOne Q Compiler run.\n",
      "[2024.08.14 13:18:35.770] INFO    \u001b[1mTask 'compile_experiment': ended\u001b[0m\n",
      "[2024.08.14 13:18:35.770] INFO    \u001b[1mTask 'run_experiment': started\u001b[0m\n",
      "[2024.08.14 13:18:35.770] INFO    Configuring the device setup\n",
      "[2024.08.14 13:18:35.779] INFO    The device setup is configured\n",
      "[2024.08.14 13:18:35.790] INFO    Starting near-time execution...\n",
      "[2024.08.14 13:18:35.957] INFO    Finished near-time execution.\n",
      "[2024.08.14 13:18:35.957] INFO    \u001b[1mTask 'run_experiment': ended\u001b[0m\n",
      "[2024.08.14 13:18:35.963] INFO    \u001b[1m ────────────────────────────────────────────────────────────────────────────── \u001b[0m\n",
      "[2024.08.14 13:18:35.965] INFO    \u001b[1m \u001b[0m\u001b[1m \u001b[0m\u001b[1mWorkflow 'experiment_workflow': execution ended\u001b[0m\u001b[1m                             \u001b[0m\u001b[1m \u001b[0m\u001b[1m \u001b[0m\n",
      "[2024.08.14 13:18:35.965] INFO    \u001b[1m ────────────────────────────────────────────────────────────────────────────── \u001b[0m\n"
     ]
    }
   ],
   "source": [
    "result = rabi_tb.run()"
   ]
  },
  {
   "cell_type": "markdown",
   "id": "1f56632c",
   "metadata": {},
   "source": [
    "And that's all there is to the basic logging functionality."
   ]
  },
  {
   "cell_type": "markdown",
   "id": "a3892645",
   "metadata": {},
   "source": [
    "### Advanced logging uses"
   ]
  },
  {
   "cell_type": "markdown",
   "id": "0bd8d483",
   "metadata": {},
   "source": [
    "If for some reason you need to create a logging store of your own you can do so as follows:"
   ]
  },
  {
   "cell_type": "code",
   "execution_count": 6,
   "id": "5e98e3f2",
   "metadata": {},
   "outputs": [],
   "source": [
    "from laboneq_applications.logbook import LoggingStore\n",
    "\n",
    "logging_store = LoggingStore()"
   ]
  },
  {
   "cell_type": "markdown",
   "id": "1a02ba54",
   "metadata": {},
   "source": [
    "The logging store created above won't be active unless you run:"
   ]
  },
  {
   "cell_type": "code",
   "execution_count": 7,
   "id": "7b247caa",
   "metadata": {},
   "outputs": [],
   "source": [
    "logging_store.activate()"
   ]
  },
  {
   "cell_type": "markdown",
   "id": "7e9a93b4",
   "metadata": {},
   "source": [
    "And you deactivate it with:"
   ]
  },
  {
   "cell_type": "code",
   "execution_count": 8,
   "id": "1814161f",
   "metadata": {},
   "outputs": [],
   "source": [
    "logging_store.deactivate()"
   ]
  },
  {
   "cell_type": "markdown",
   "id": "1fbecb0f",
   "metadata": {},
   "source": [
    "And you can access the default logging store by importing it from `laboneq_applications.logbook` if you really need to:"
   ]
  },
  {
   "cell_type": "code",
   "execution_count": 9,
   "id": "deee1d44",
   "metadata": {},
   "outputs": [
    {
     "data": {
      "text/plain": [
       "<laboneq_applications.logbook.logging_store.LoggingStore at 0x25f8e9f3b90>"
      ]
     },
     "execution_count": 9,
     "metadata": {},
     "output_type": "execute_result"
    }
   ],
   "source": [
    "from laboneq_applications.logbook import DEFAULT_LOGGING_STORE\n",
    "DEFAULT_LOGGING_STORE"
   ]
  },
  {
   "cell_type": "markdown",
   "id": "eff1154c",
   "metadata": {},
   "source": [
    "## The FolderStore"
   ]
  },
  {
   "cell_type": "markdown",
   "id": "9d91e2fc",
   "metadata": {},
   "source": [
    "### Using the folder store"
   ]
  },
  {
   "cell_type": "markdown",
   "id": "852c57f9",
   "metadata": {},
   "source": [
    "The folder stores workflow results on disk and is likely the most important logbook store you'll use.\n",
    "\n",
    "You can import it as follows:"
   ]
  },
  {
   "cell_type": "code",
   "execution_count": 10,
   "id": "aeeb3c19",
   "metadata": {},
   "outputs": [],
   "source": [
    "from laboneq_applications.logbook import FolderStore"
   ]
  },
  {
   "cell_type": "markdown",
   "id": "58e6dbb2",
   "metadata": {},
   "source": [
    "To create a folder store you'll need to pick a folder on disk to store logbooks in. Here we select `./experiment_store` as the folder name but you should pick your own.\n",
    "\n",
    "Each logbook created by a workflow will have its own sub-folder. The sub-folder name will start with a timestamp, followed by the name of the workflow, for example `20240728T175500-amplitude-rabi/`. If necessary, a unique count will be added at the end to make the sub-folder name unique.\n",
    "\n",
    "The folder store will need to be activated before workflows will use it automatically."
   ]
  },
  {
   "cell_type": "code",
   "execution_count": 11,
   "id": "8dda2626",
   "metadata": {},
   "outputs": [],
   "source": [
    "folder_store = FolderStore(\"./experiment_store\")\n",
    "folder_store.activate()"
   ]
  },
  {
   "cell_type": "markdown",
   "id": "a8ceccb9",
   "metadata": {},
   "source": [
    "Now let's run the amplitude Rabi workflow. As before we'll see the task events being logged. Afterwards we'll explore the folder to see what has been written to disk."
   ]
  },
  {
   "cell_type": "code",
   "execution_count": 12,
   "id": "cf7506a4",
   "metadata": {},
   "outputs": [
    {
     "name": "stdout",
     "output_type": "stream",
     "text": [
      "[2024.08.14 13:21:30.872] INFO    \u001b[1m ────────────────────────────────────────────────────────────────────────────── \u001b[0m\n",
      "[2024.08.14 13:21:30.872] INFO    \u001b[1m \u001b[0m\u001b[1m \u001b[0m\u001b[1mWorkflow 'experiment_workflow': execution started\u001b[0m\u001b[1m                           \u001b[0m\u001b[1m \u001b[0m\u001b[1m \u001b[0m\n",
      "[2024.08.14 13:21:30.879] INFO    \u001b[1m ────────────────────────────────────────────────────────────────────────────── \u001b[0m\n",
      "[2024.08.14 13:21:30.886] INFO    \u001b[1mTask 'create_experiment': started\u001b[0m\n",
      "[2024.08.14 13:21:30.896] INFO    \u001b[1mTask 'create_experiment': ended\u001b[0m\n",
      "[2024.08.14 13:21:30.902] INFO    \u001b[1mTask 'compile_experiment': started\u001b[0m\n",
      "[2024.08.14 13:21:30.921] INFO    Resolved modulation type of oscillator 'q0_readout_acquire_osc' on signal '/logical_signal_groups/q0/acquire' to SOFTWARE\n",
      "[2024.08.14 13:21:30.928] INFO    Resolved modulation type of oscillator 'q0_drive_ge_osc' on signal '/logical_signal_groups/q0/drive' to HARDWARE\n",
      "[2024.08.14 13:21:30.929] INFO    Resolved modulation type of oscillator 'q0_drive_ef_osc' on signal '/logical_signal_groups/q0/drive_ef' to HARDWARE\n",
      "[2024.08.14 13:21:30.929] INFO    Starting LabOne Q Compiler run...\n",
      "[2024.08.14 13:21:30.959] INFO    Schedule completed. [0.016 s]\n",
      "[2024.08.14 13:21:31.059] INFO    Code generation completed for all AWGs. [0.096 s]\n",
      "[2024.08.14 13:21:31.063] INFO    Completed compilation step 1 of 1. [0.122 s]\n",
      "[2024.08.14 13:21:31.102] INFO     ───────────────────────────────────────────────────────────────────── \n",
      "[2024.08.14 13:21:31.111] INFO     \u001b[1m \u001b[0m\u001b[1mDevice         \u001b[0m\u001b[1m \u001b[0m \u001b[1m \u001b[0m\u001b[1mAWG\u001b[0m\u001b[1m \u001b[0m \u001b[1m \u001b[0m\u001b[1mSeqC LOC\u001b[0m\u001b[1m \u001b[0m \u001b[1m \u001b[0m\u001b[1mCT entries\u001b[0m\u001b[1m \u001b[0m \u001b[1m \u001b[0m\u001b[1mWaveforms\u001b[0m\u001b[1m \u001b[0m \u001b[1m \u001b[0m\u001b[1mSamples\u001b[0m\u001b[1m \u001b[0m \n",
      "[2024.08.14 13:21:31.119] INFO     ───────────────────────────────────────────────────────────────────── \n",
      "[2024.08.14 13:21:31.119] INFO      device_hdawg        0          4            1           0         0  \n",
      "[2024.08.14 13:21:31.127] INFO      device_shfqc        0         17            0           1      8000  \n",
      "[2024.08.14 13:21:31.127] INFO      device_shfqc_sg     0         35           11           2       448  \n",
      "[2024.08.14 13:21:31.135] INFO     ───────────────────────────────────────────────────────────────────── \n",
      "[2024.08.14 13:21:31.140] INFO     \u001b[1m \u001b[0m\u001b[1mTOTAL          \u001b[0m\u001b[1m \u001b[0m \u001b[1m \u001b[0m\u001b[1m   \u001b[0m\u001b[1m \u001b[0m \u001b[1m \u001b[0m\u001b[1m      56\u001b[0m\u001b[1m \u001b[0m \u001b[1m \u001b[0m\u001b[1m        12\u001b[0m\u001b[1m \u001b[0m \u001b[1m \u001b[0m\u001b[1m         \u001b[0m\u001b[1m \u001b[0m \u001b[1m \u001b[0m\u001b[1m   8448\u001b[0m\u001b[1m \u001b[0m \n",
      "[2024.08.14 13:21:31.145] INFO     ───────────────────────────────────────────────────────────────────── \n",
      "[2024.08.14 13:21:31.172] INFO    Finished LabOne Q Compiler run.\n",
      "[2024.08.14 13:21:31.179] INFO    \u001b[1mTask 'compile_experiment': ended\u001b[0m\n",
      "[2024.08.14 13:21:31.267] INFO    \u001b[1mTask 'run_experiment': started\u001b[0m\n",
      "[2024.08.14 13:21:31.284] INFO    Configuring the device setup\n",
      "[2024.08.14 13:21:31.285] INFO    The device setup is configured\n",
      "[2024.08.14 13:21:31.293] INFO    Starting near-time execution...\n",
      "[2024.08.14 13:21:31.336] INFO    Finished near-time execution.\n",
      "[2024.08.14 13:21:31.351] INFO    \u001b[1mTask 'run_experiment': ended\u001b[0m\n",
      "[2024.08.14 13:21:31.359] INFO    \u001b[1m ────────────────────────────────────────────────────────────────────────────── \u001b[0m\n",
      "[2024.08.14 13:21:31.359] INFO    \u001b[1m \u001b[0m\u001b[1m \u001b[0m\u001b[1mWorkflow 'experiment_workflow': execution ended\u001b[0m\u001b[1m                             \u001b[0m\u001b[1m \u001b[0m\u001b[1m \u001b[0m\n",
      "[2024.08.14 13:21:31.362] INFO    \u001b[1m ────────────────────────────────────────────────────────────────────────────── \u001b[0m\n"
     ]
    }
   ],
   "source": [
    "result = rabi_tb.run()"
   ]
  },
  {
   "cell_type": "markdown",
   "id": "a07b390c",
   "metadata": {},
   "source": [
    "If you no longer wish to automatically store workflow results in the folder store, you can deactivate it with:"
   ]
  },
  {
   "cell_type": "code",
   "execution_count": 13,
   "id": "dc4cc0d0",
   "metadata": {},
   "outputs": [],
   "source": [
    "folder_store.deactivate()"
   ]
  },
  {
   "cell_type": "markdown",
   "id": "5305cff0",
   "metadata": {},
   "source": [
    "### Exploring what was written to disk"
   ]
  },
  {
   "cell_type": "markdown",
   "id": "c15785ea",
   "metadata": {},
   "source": [
    "Here we will use Python's `pathlib` functionality to explore what has been written to disk, but you can also use whatever ordinary tools you prefer (terminal, file navigator)."
   ]
  },
  {
   "cell_type": "code",
   "execution_count": 14,
   "id": "4b44012e",
   "metadata": {},
   "outputs": [],
   "source": [
    "import json\n",
    "from pathlib import Path"
   ]
  },
  {
   "cell_type": "markdown",
   "id": "eb6bf6cc",
   "metadata": {},
   "source": [
    "Remember that above we requested that the folder store use a folder named `experiment_store`. Let's list the logbooks that were created in that folder:"
   ]
  },
  {
   "cell_type": "code",
   "execution_count": 15,
   "id": "89e7ffb8",
   "metadata": {},
   "outputs": [
    {
     "data": {
      "text/plain": [
       "[WindowsPath('experiment_store/20240814T112130-experiment-workflow')]"
      ]
     },
     "execution_count": 15,
     "metadata": {},
     "output_type": "execute_result"
    }
   ],
   "source": [
    "store_folder = Path(\"experiment_store\")\n",
    "\n",
    "amplitude_rabi_folders = sorted(store_folder.glob(\"*-experiment-workflow\"))\n",
    "amplitude_rabi_folders"
   ]
  },
  {
   "cell_type": "markdown",
   "id": "5704d388",
   "metadata": {},
   "source": [
    "Our amplitude Rabi experiment is the most recent one run, so let's look at the files within the most recent folder. Note that the logbook folder names start with a timestamp followed by the name of the workflow which allows us to easily order them by time and to find workflow we're looking for:"
   ]
  },
  {
   "cell_type": "code",
   "execution_count": 16,
   "id": "e5d98c75",
   "metadata": {},
   "outputs": [
    {
     "data": {
      "text/plain": [
       "[WindowsPath('experiment_store/20240814T112130-experiment-workflow/log.jsonl')]"
      ]
     },
     "execution_count": 16,
     "metadata": {},
     "output_type": "execute_result"
    }
   ],
   "source": [
    "amplitude_rabi_folder = amplitude_rabi_folders[-1]\n",
    "\n",
    "amplitude_rabi_files = sorted(amplitude_rabi_folder.iterdir())\n",
    "amplitude_rabi_files"
   ]
  },
  {
   "cell_type": "markdown",
   "id": "32e658d7",
   "metadata": {},
   "source": [
    "At the moment there is only a single file saved. This is the log of what took place. The log is stored in a format called \"JSONL\" which means each line of the log is a simple Python dictionary stored as JSON.\n",
    "\n",
    "Let's open the file and list the logs:"
   ]
  },
  {
   "cell_type": "code",
   "execution_count": 17,
   "id": "5f11ee92",
   "metadata": {},
   "outputs": [
    {
     "data": {
      "text/plain": [
       "[{'event': 'start'},\n",
       " {'event': 'task_start', 'task': 'create_experiment'},\n",
       " {'event': 'task_end', 'task': 'create_experiment'},\n",
       " {'event': 'task_start', 'task': 'compile_experiment'},\n",
       " {'event': 'task_end', 'task': 'compile_experiment'},\n",
       " {'event': 'task_start', 'task': 'run_experiment'},\n",
       " {'event': 'task_end', 'task': 'run_experiment'},\n",
       " {'event': 'end'}]"
      ]
     },
     "execution_count": 17,
     "metadata": {},
     "output_type": "execute_result"
    }
   ],
   "source": [
    "experiment_log = amplitude_rabi_folder / \"log.jsonl\"\n",
    "logs = [\n",
    "    json.loads(line) for line in experiment_log.read_text().splitlines()\n",
    "]\n",
    "logs"
   ]
  },
  {
   "cell_type": "markdown",
   "id": "0993069b",
   "metadata": {},
   "source": [
    "In the remaining sections we'll look at how to write adhoc comments into the logs and how to save data files to disk."
   ]
  },
  {
   "cell_type": "markdown",
   "id": "43e06a7a",
   "metadata": {},
   "source": [
    "## Logging comments from within tasks"
   ]
  },
  {
   "cell_type": "markdown",
   "id": "ea3935dd",
   "metadata": {},
   "source": [
    "Logbooks allow tasks to add their own messages to the logbook as comments.\n",
    "\n",
    "This is done by calling the `comment(...)` function within a task.\n",
    "\n",
    "We'll work through an example below:"
   ]
  },
  {
   "cell_type": "code",
   "execution_count": 19,
   "id": "3d391d29",
   "metadata": {},
   "outputs": [],
   "source": [
    "from laboneq_applications.workflow import task, workflow\n",
    "from laboneq_applications.logbook import comment"
   ]
  },
  {
   "cell_type": "markdown",
   "id": "91ce8803",
   "metadata": {},
   "source": [
    "Let's write a small workflow and a tiny task that just writes a comment to the logbook:"
   ]
  },
  {
   "cell_type": "code",
   "execution_count": 20,
   "id": "62c20eba",
   "metadata": {},
   "outputs": [],
   "source": [
    "@task\n",
    "def log_a_comment(msg):\n",
    "    comment(msg)\n",
    "\n",
    "@workflow\n",
    "def demo_comments():\n",
    "    log_a_comment(\"Activating multi-state discrimination! <sirens blare>\")\n",
    "    log_a_comment(\"Analysis successful! <cheers>\")"
   ]
  },
  {
   "cell_type": "markdown",
   "id": "5cc15dc7",
   "metadata": {},
   "source": [
    "Now when we run the workflow we'll see the comments appear in the logs:"
   ]
  },
  {
   "cell_type": "code",
   "execution_count": 21,
   "id": "c8074d46",
   "metadata": {},
   "outputs": [
    {
     "name": "stdout",
     "output_type": "stream",
     "text": [
      "[2024.08.14 13:24:22.564] INFO    \u001b[1m ────────────────────────────────────────────────────────────────────────────── \u001b[0m\n",
      "[2024.08.14 13:24:22.565] INFO    \u001b[1m \u001b[0m\u001b[1m \u001b[0m\u001b[1mWorkflow 'demo_comments': execution started\u001b[0m\u001b[1m                                 \u001b[0m\u001b[1m \u001b[0m\u001b[1m \u001b[0m\n",
      "[2024.08.14 13:24:22.568] INFO    \u001b[1m ────────────────────────────────────────────────────────────────────────────── \u001b[0m\n",
      "[2024.08.14 13:24:22.571] INFO    \u001b[1mTask 'log_a_comment': started\u001b[0m\n",
      "[2024.08.14 13:24:22.573] INFO    \u001b[1mComment: Activating multi-state discrimination! <sirens blare>\u001b[0m\n",
      "[2024.08.14 13:24:22.580] INFO    \u001b[1mTask 'log_a_comment': ended\u001b[0m\n",
      "[2024.08.14 13:24:22.585] INFO    \u001b[1mTask 'log_a_comment': started\u001b[0m\n",
      "[2024.08.14 13:24:22.587] INFO    \u001b[1mComment: Analysis successful! <cheers>\u001b[0m\n",
      "[2024.08.14 13:24:22.592] INFO    \u001b[1mTask 'log_a_comment': ended\u001b[0m\n",
      "[2024.08.14 13:24:22.594] INFO    \u001b[1m ────────────────────────────────────────────────────────────────────────────── \u001b[0m\n",
      "[2024.08.14 13:24:22.596] INFO    \u001b[1m \u001b[0m\u001b[1m \u001b[0m\u001b[1mWorkflow 'demo_comments': execution ended\u001b[0m\u001b[1m                                   \u001b[0m\u001b[1m \u001b[0m\u001b[1m \u001b[0m\n",
      "[2024.08.14 13:24:22.598] INFO    \u001b[1m ────────────────────────────────────────────────────────────────────────────── \u001b[0m\n"
     ]
    }
   ],
   "source": [
    "wf = demo_comments()\n",
    "result = wf.run()"
   ]
  },
  {
   "cell_type": "markdown",
   "id": "7aa5f15f",
   "metadata": {},
   "source": [
    "Above you should see the two comments. They look like this:\n",
    "```\n",
    "Comment: Activating multi-state discrimination! <sirens blare>\n",
    "...\n",
    "Comment: Analysis successful! <cheers>\n",
    "```"
   ]
  },
  {
   "cell_type": "markdown",
   "id": "eef15774",
   "metadata": {},
   "source": [
    "## Store data from within tasks"
   ]
  },
  {
   "cell_type": "markdown",
   "id": "28bcf75a",
   "metadata": {},
   "source": [
    "Logbooks also allow files to be saved to disk using the function `save_artifact`.\n",
    "\n",
    "Here we will create a figure with matplotlib and save it to disk. The folder store will automatically save it as a PNG.\n",
    "\n",
    "The kinds of objects the folder store can currenly save are:\n",
    "\n",
    "* Python strings (saved as a text file)\n",
    "* Python bytes (saved as raw data)\n",
    "* Pydantic models (saved as JSON)\n",
    "* PIL images (saved as PNGs by default)\n",
    "* Matplotlib figures (saved as PNGs by default)\n",
    "* Numpy arrays (saved as Numpy data files)\n",
    "\n",
    "Support for more kinds of objects coming soon (e.g. `DeviceSetup`, `Experiment`)."
   ]
  },
  {
   "cell_type": "code",
   "execution_count": 22,
   "id": "c9d14336",
   "metadata": {},
   "outputs": [],
   "source": [
    "import PIL\n",
    "from matplotlib import pyplot as plt\n",
    "\n",
    "from laboneq_applications.logbook import save_artifact"
   ]
  },
  {
   "cell_type": "markdown",
   "id": "5e6c9000",
   "metadata": {},
   "source": [
    "Let's write a small workflow that plots the sine function and saves the plot using `save_artifact`:"
   ]
  },
  {
   "cell_type": "code",
   "execution_count": 23,
   "id": "567a5871",
   "metadata": {},
   "outputs": [],
   "source": [
    "@task\n",
    "def sine_plot():\n",
    "    fig = plt.figure()\n",
    "    plt.title(\"A sine wave\")\n",
    "    x = np.linspace(0, 2 * np.pi, 100)\n",
    "    y = np.sin(x)\n",
    "    plt.plot(x, y)\n",
    "\n",
    "    save_artifact(\"Sine Plot\", fig)\n",
    "\n",
    "@workflow\n",
    "def demo_saving():\n",
    "    sine_plot()"
   ]
  },
  {
   "cell_type": "markdown",
   "id": "e40017ac",
   "metadata": {},
   "source": [
    "Since we deactivate the folder store, let's activate it again now:"
   ]
  },
  {
   "cell_type": "code",
   "execution_count": 24,
   "id": "583cd321",
   "metadata": {},
   "outputs": [],
   "source": [
    "folder_store.activate()"
   ]
  },
  {
   "cell_type": "markdown",
   "id": "243eedb6",
   "metadata": {},
   "source": [
    "And run our workflow:"
   ]
  },
  {
   "cell_type": "code",
   "execution_count": 25,
   "id": "b5149424",
   "metadata": {},
   "outputs": [
    {
     "name": "stdout",
     "output_type": "stream",
     "text": [
      "[2024.08.14 13:25:40.615] INFO    \u001b[1m ────────────────────────────────────────────────────────────────────────────── \u001b[0m\n",
      "[2024.08.14 13:25:40.615] INFO    \u001b[1m \u001b[0m\u001b[1m \u001b[0m\u001b[1mWorkflow 'demo_saving': execution started\u001b[0m\u001b[1m                                   \u001b[0m\u001b[1m \u001b[0m\u001b[1m \u001b[0m\n",
      "[2024.08.14 13:25:40.615] INFO    \u001b[1m ────────────────────────────────────────────────────────────────────────────── \u001b[0m\n",
      "[2024.08.14 13:25:40.630] INFO    \u001b[1mTask 'sine_plot': started\u001b[0m\n",
      "[2024.08.14 13:25:40.712] INFO    \u001b[1mArtifact: 'Sine Plot' of type 'Figure' logged\u001b[0m\n",
      "[2024.08.14 13:25:40.982] INFO    \u001b[1mTask 'sine_plot': ended\u001b[0m\n",
      "[2024.08.14 13:25:40.991] INFO    \u001b[1m ────────────────────────────────────────────────────────────────────────────── \u001b[0m\n",
      "[2024.08.14 13:25:40.991] INFO    \u001b[1m \u001b[0m\u001b[1m \u001b[0m\u001b[1mWorkflow 'demo_saving': execution ended\u001b[0m\u001b[1m                                     \u001b[0m\u001b[1m \u001b[0m\u001b[1m \u001b[0m\n",
      "[2024.08.14 13:25:40.995] INFO    \u001b[1m ────────────────────────────────────────────────────────────────────────────── \u001b[0m\n"
     ]
    },
    {
     "data": {
      "image/png": "[encoded data removed]",
      "text/plain": [
       "<Figure size 640x480 with 1 Axes>"
      ]
     },
     "metadata": {},
     "output_type": "display_data"
    }
   ],
   "source": [
    "wf = demo_saving()\n",
    "result = wf.run()"
   ]
  },
  {
   "cell_type": "markdown",
   "id": "6ea79908",
   "metadata": {},
   "source": [
    "You can see in the logs that an artifact was created:\n",
    "```\n",
    "Artifact: 'Sine Plot' of type 'Figure' logged\n",
    "```\n",
    "Now let's load the image from disk.\n",
    "\n",
    "First we need to find the logbook folder created for our workflow:"
   ]
  },
  {
   "cell_type": "code",
   "execution_count": 26,
   "id": "bf290cb5",
   "metadata": {},
   "outputs": [
    {
     "data": {
      "text/plain": [
       "WindowsPath('experiment_store/20240814T112540-demo-saving')"
      ]
     },
     "execution_count": 26,
     "metadata": {},
     "output_type": "execute_result"
    }
   ],
   "source": [
    "demo_saving_folders = sorted(store_folder.glob(\"*-demo-saving\"))\n",
    "demo_saving_folder = demo_saving_folders[-1]\n",
    "demo_saving_folder"
   ]
  },
  {
   "cell_type": "markdown",
   "id": "9f5190b0",
   "metadata": {},
   "source": [
    "And let's list its contents:"
   ]
  },
  {
   "cell_type": "code",
   "execution_count": 27,
   "id": "bc042e07",
   "metadata": {},
   "outputs": [
    {
     "data": {
      "text/plain": [
       "[WindowsPath('experiment_store/20240814T112540-demo-saving/log.jsonl'),\n",
       " WindowsPath('experiment_store/20240814T112540-demo-saving/Sine Plot.png')]"
      ]
     },
     "execution_count": 27,
     "metadata": {},
     "output_type": "execute_result"
    }
   ],
   "source": [
    "sorted(demo_saving_folder.iterdir())"
   ]
  },
  {
   "cell_type": "markdown",
   "id": "8ebfd691",
   "metadata": {},
   "source": [
    "And lastly let's load the saved image using PIL:"
   ]
  },
  {
   "cell_type": "code",
   "execution_count": 28,
   "id": "8fc0f675",
   "metadata": {},
   "outputs": [
    {
     "data": {
      "image/png": "[encoded data removed]",
      "text/plain": [
       "<PIL.PngImagePlugin.PngImageFile image mode=RGBA size=640x480>"
      ]
     },
     "execution_count": 28,
     "metadata": {},
     "output_type": "execute_result"
    }
   ],
   "source": [
    "PIL.Image.open(demo_saving_folder / \"Sine Plot.png\")"
   ]
  },
  {
   "cell_type": "markdown",
   "id": "ea1306d0",
   "metadata": {},
   "source": [
    "And we're done!"
   ]
  }
 ],
 "metadata": {
  "jupytext": {
   "formats": "ipynb,md:myst"
  },
  "kernelspec": {
   "display_name": "Python 3 (ipykernel)",
   "language": "python",
   "name": "python3"
  },
  "language_info": {
   "codemirror_mode": {
    "name": "ipython",
    "version": 3
   },
   "file_extension": ".py",
   "mimetype": "text/x-python",
   "name": "python",
   "nbconvert_exporter": "python",
   "pygments_lexer": "ipython3",
   "version": "3.12.4"
  }
 },
 "nbformat": 4,
 "nbformat_minor": 5
}
