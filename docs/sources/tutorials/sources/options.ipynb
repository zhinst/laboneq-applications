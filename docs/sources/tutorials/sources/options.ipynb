{
 "cells": [
  {
   "cell_type": "markdown",
   "metadata": {},
   "source": [
    "# Use options\n",
    "\n",
    "Options provided for workflow can be created via \"options\" classes.\n",
    "\n",
    "There are two categories of options:\n",
    "\n",
    "* **ExperimentOptions**:\n",
    "    These options are used to set some parameters for the experiment. For example, the number of experiment shots (`counts`),\n",
    "    the averaging mode (`averaging_mode`), the acquisition type (`acquisition_type`) and so on. \n",
    "\n",
    "* **WorkflowOptions**:\n",
    "    These options are used to set parameters for the workflow. These include the settings for operating the workflow, such as `logbook` which specifies the protocol for storing a collection of records of workflow execution.\n",
    "    In addition, options for the constituent tasks of the workflow can also be set by specifying the task name and the options for that task.\n",
    "\n"
   ]
  },
  {
   "cell_type": "code",
   "execution_count": null,
   "metadata": {},
   "outputs": [],
   "source": [
    "from __future__ import annotations\n",
    "\n",
    "from laboneq_applications.core.options import (\n",
    "    BaseExperimentOptions,\n",
    "    TuneupExperimentOptions,\n",
    ")\n",
    "from laboneq_applications.workflow import WorkflowOptions, workflow, task"
   ]
  },
  {
   "cell_type": "markdown",
   "metadata": {},
   "source": [
    "# Create a new experiment options class\n",
    "The options for an experiment can be created by inheriting from `BaseExperimentOptions` class.\n",
    "\n",
    "It is recommended to create options classes always with default values. This way, options can be used without specifying them, and the default values will be used."
   ]
  },
  {
   "cell_type": "code",
   "execution_count": null,
   "metadata": {},
   "outputs": [],
   "source": [
    "class NewExperimentOptions(BaseExperimentOptions):\n",
    "    operand: int = 1"
   ]
  },
  {
   "cell_type": "code",
   "execution_count": null,
   "metadata": {},
   "outputs": [],
   "source": [
    "opt = NewExperimentOptions()"
   ]
  },
  {
   "cell_type": "code",
   "execution_count": null,
   "metadata": {},
   "outputs": [],
   "source": [
    "opt"
   ]
  },
  {
   "cell_type": "markdown",
   "metadata": {},
   "source": [
    "If the options classes are defined without default values, an error will be raised when the options instance is created."
   ]
  },
  {
   "cell_type": "code",
   "execution_count": null,
   "metadata": {},
   "outputs": [],
   "source": [
    "class InvalidExperimentOptions(BaseExperimentOptions):\n",
    "    operand: int"
   ]
  },
  {
   "cell_type": "code",
   "execution_count": null,
   "metadata": {},
   "outputs": [],
   "source": [
    "opt = InvalidExperimentOptions()"
   ]
  },
  {
   "cell_type": "markdown",
   "metadata": {},
   "source": [
    "# Standard experiment options classes"
   ]
  },
  {
   "cell_type": "markdown",
   "metadata": {},
   "source": [
    "The library provides a few standard options classes, such as `TuneupExperimentOptions`, which can be used for typical tune-up experiments or as a starting point for creating new options classes for more advanced experiments."
   ]
  },
  {
   "cell_type": "code",
   "execution_count": null,
   "metadata": {},
   "outputs": [],
   "source": [
    "opt = TuneupExperimentOptions()\n",
    "opt"
   ]
  },
  {
   "cell_type": "markdown",
   "metadata": {},
   "source": [
    "# Create a new workflow options class"
   ]
  },
  {
   "cell_type": "markdown",
   "metadata": {},
   "source": [
    "Workflow options classes are used to set the options for the workflow and its constituent tasks. These classes must inherit from `WorkflowOptions`, as shown in the cell below. \n",
    "\n",
    "The options for the constituent tasks of the workflow can be set by specifying the task name and the options class used for that task.\n",
    "As in the case of the experiment options, it is recommended to create the workflow options class with default values.\n",
    "\n",
    "For example, in the cell below, the line `add: NewExperimentOptions = NewExperimentOptions()` sets the type `NewExperimentOptions` and default value `NewExperimentOptions()` for the options of task `add`:"
   ]
  },
  {
   "cell_type": "code",
   "execution_count": null,
   "metadata": {},
   "outputs": [],
   "source": [
    "class NewWorkflowOptions(WorkflowOptions):\n",
    "    add: NewExperimentOptions = NewExperimentOptions()\n",
    "    multiply: NewExperimentOptions = NewExperimentOptions()"
   ]
  },
  {
   "cell_type": "code",
   "execution_count": null,
   "metadata": {},
   "outputs": [],
   "source": [
    "workflow_opt = NewWorkflowOptions()"
   ]
  },
  {
   "cell_type": "code",
   "execution_count": null,
   "metadata": {},
   "outputs": [],
   "source": [
    "workflow_opt.add.operand = 2"
   ]
  },
  {
   "cell_type": "markdown",
   "metadata": {},
   "source": [
    "# Enable the options feature in the workflow"
   ]
  },
  {
   "cell_type": "markdown",
   "metadata": {},
   "source": [
    "The advantage of using the options feature of a workflow is the automatic passing of options to the tasks and other features like run_until, etc.\n",
    "\n",
    "At the moment, the options feature is enabled by default in the workflow when the arguments include `options`. In addition, the types for `options` must conform to a certain rule.\n",
    "\n",
    "Let's illustrate the concepts via an example. \n",
    "\n",
    "`myworkflow` contains task `mytask` which takes in an argument and options. \n",
    "\n",
    "To use `myworkflow` with options, we must provide the right types for the `options` argument in `myworkflow`.\n",
    "\n",
    "The supported types are:\n",
    "- `WorkflowOptionsA | None = None`\n",
    "- `Union[WorkflowOptionsA, None] = None`\n",
    "- `Optional[WorkflowOptionsA]`\n",
    "\n",
    "where `WorkflowOptionsA` is a subclass of `WorkflowOptions`.\n",
    "\n",
    "From Python 3.10 onward, it is recommended to use `WorkflowOptionsA | None` to conform with the standard practice.\n",
    "\n",
    "On Python 3.9, `from _future_ import annotations` must be imported to use `WorkflowOptionsA | None`.\n"
   ]
  },
  {
   "cell_type": "code",
   "execution_count": null,
   "metadata": {},
   "outputs": [],
   "source": [
    "@task\n",
    "def add(x, options: NewExperimentOptions|None = None):\n",
    "    return x + options.operand\n",
    "\n",
    "\n",
    "@task\n",
    "def multiply(x, options: NewExperimentOptions| None = None):\n",
    "    return x * options.operand"
   ]
  },
  {
   "cell_type": "code",
   "execution_count": null,
   "metadata": {},
   "outputs": [],
   "source": [
    "@workflow\n",
    "def myworkflow(options: NewWorkflowOptions | None = None):\n",
    "    add(x=1)\n",
    "    multiply(x=2)"
   ]
  },
  {
   "cell_type": "markdown",
   "metadata": {},
   "source": [
    "# Disallowed types for options\n",
    "\n",
    "When the type provided for the options includes a subclass of `WorkflowOptions`, we assume that users are attempting to use the options feature. Hence, if the specified type does not follow the form of the above-mentioned types, an error will be raised to inform the user about this, as shown below. \n",
    "\n",
    "Note: users are allowed to define and use their own options, passed as any standard Python type (`str`, `dict` etc.). See 'Manual handling of options' below. "
   ]
  },
  {
   "cell_type": "code",
   "execution_count": null,
   "metadata": {},
   "outputs": [],
   "source": [
    "# an error will be raised\n",
    "@workflow\n",
    "def invalid_workflow(options: NewWorkflowOptions | str):\n",
    "    add(x=1)\n",
    "    multiply(x=2)"
   ]
  },
  {
   "cell_type": "markdown",
   "metadata": {},
   "source": [
    "# Run the workflow with options"
   ]
  },
  {
   "cell_type": "markdown",
   "metadata": {},
   "source": [
    "Create an options object and pass it to the workflow when running it."
   ]
  },
  {
   "cell_type": "code",
   "execution_count": null,
   "metadata": {},
   "outputs": [],
   "source": [
    "workflow_opt = NewWorkflowOptions()"
   ]
  },
  {
   "cell_type": "code",
   "execution_count": null,
   "metadata": {},
   "outputs": [],
   "source": [
    "workflow_opt.add.operand = 3\n",
    "workflow_opt.multiply.operand = 3"
   ]
  },
  {
   "cell_type": "code",
   "execution_count": null,
   "metadata": {},
   "outputs": [],
   "source": [
    "res = myworkflow(options=workflow_opt).run()\n",
    "res.tasks[1].output"
   ]
  },
  {
   "cell_type": "markdown",
   "metadata": {},
   "source": [
    "When the options input is not provided to the workflow, the default values of `NewWorkflowOptions` will be used"
   ]
  },
  {
   "cell_type": "code",
   "execution_count": null,
   "metadata": {},
   "outputs": [],
   "source": [
    "res = myworkflow().run()\n",
    "res.tasks[1].output"
   ]
  }
 ],
 "metadata": {
  "kernelspec": {
   "display_name": "Python 3 (ipykernel)",
   "language": "python",
   "name": "python3"
  },
  "language_info": {
   "codemirror_mode": {
    "name": "ipython",
    "version": 3
   },
   "file_extension": ".py",
   "mimetype": "text/x-python",
   "name": "python",
   "nbconvert_exporter": "python",
   "pygments_lexer": "ipython3",
   "version": "3.11.8"
  }
 },
 "nbformat": 4,
 "nbformat_minor": 4
}
