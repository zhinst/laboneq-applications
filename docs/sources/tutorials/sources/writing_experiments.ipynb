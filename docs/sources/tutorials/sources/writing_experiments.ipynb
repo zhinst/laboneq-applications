{
 "cells": [
  {
   "cell_type": "markdown",
   "id": "d15d4ecd",
   "metadata": {},
   "source": [
    "# Writing an Experiment Workflow"
   ]
  },
  {
   "cell_type": "markdown",
   "id": "ddad75a6",
   "metadata": {},
   "source": [
    "All the quantum experiments in the Applications Library are implemented using [Workflows](https://docs.zhinst.com/labone_q_user_manual/core/functionality_and_concepts/07_workflow/index.html).\n",
    "\n",
    "The experiment workflows have the following tasks and structure:\n",
    "\n",
    "<img src=\"../../how-to-guides/images/workflows.svg\" width=\"200\">\n",
    "\n",
    "The details of this structure and how to use the ready-made experiments in the Applications Library are given in the tutorial on [experiment Workflows](experiment_workflows.ipynb). Here, we show you how to write a new quantum experiment using `Workflows`. We have chosen a Rabi measurement, where we sweep the pulse length instead of the pulse amplitude. \n",
    "\n",
    "Note: in this tutorial, we use 'experiment' to refer to the generic concept of a quantum computing experiment, and the capitalised version of the word, 'Experiment' or `Experiment`, to refer to the LabOne Q [Experiment](https://docs.zhinst.com/labone_q_user_manual/core/functionality_and_concepts/04_experiment_sequence/concepts/00_experiment.html) class which describe the pulse sequence of the quantum experiment being implemented. \n",
    "\n",
    "Let's get started!"
   ]
  },
  {
   "cell_type": "markdown",
   "id": "8f5aaf2f-de1a-4c08-800d-3e65496c1800",
   "metadata": {},
   "source": [
    "## Imports"
   ]
  },
  {
   "cell_type": "markdown",
   "id": "63345d47-fa09-43e5-bb89-41f0307c6608",
   "metadata": {},
   "source": [
    "We first import everything we need:\n",
    "\n",
    "- `laboneq.simple` which, among other things, imports the two name spaces `workflow` and `dsl` that will be important in this tutorial\n",
    "- the tasks `compile_experiment`, `run_experiment` (see the [tutorial on using Tasks in LabOne Q](../../../qccs/qccs/docs/sources/functionality_and_concepts/07_workflow/00_tasks.ipynb))\n",
    "- the demo `QuantumPlatform` (see the [Getting Started tutorial](https://docs.zhinst.com/labone_q_user_manual/applications_library/tutorials/sources/getting_started.html))\n",
    "- the `validation` module, which we will use later in this tutorial"
   ]
  },
  {
   "cell_type": "code",
   "execution_count": null,
   "id": "a8db8eaa-3b91-45c9-b447-91dbb10abcf8",
   "metadata": {},
   "outputs": [],
   "source": [
    "from __future__ import annotations  # needed for type setting in python 3.9\n",
    "\n",
    "import numpy as np\n",
    "from laboneq.simple import *\n",
    "\n",
    "from laboneq_applications.core import validation\n",
    "from laboneq_applications.qpu_types.tunable_transmon.demo_qpus import demo_platform"
   ]
  },
  {
   "cell_type": "markdown",
   "id": "60792fb3",
   "metadata": {},
   "source": [
    "### QPU and Device Setup\n",
    "\n",
    "We generate a pre-configured `QuantumPlatform` containing three tunable-transmon qubits with pre-defined parameters, and a `Device_Setup` consisting of a SHFQC+, HDAWG, and PQSC. If you already have your own `DeviceSetup` and qubits configured, you'll instead initialize the session using your setup as shown in the [Getting Started tutorial](https://docs.zhinst.com/labone_q_user_manual/applications_library/tutorials/sources/getting_started.html). This tutorial also provides more details about the pre-configured `QuantumPlatform`."
   ]
  },
  {
   "cell_type": "code",
   "execution_count": null,
   "id": "dc19f7b9",
   "metadata": {},
   "outputs": [],
   "source": [
    "# Create a demonstration QuantumPlatform for a six-tunable-transmon QPU:\n",
    "qt_platform = demo_platform(n_qubits=3)\n",
    "\n",
    "# The platform contains a setup, which is an ordinary LabOne Q DeviceSetup:\n",
    "setup = qt_platform.setup\n",
    "\n",
    "# And a tunable-transmon QPU:\n",
    "qpu = qt_platform.qpu\n",
    "\n",
    "# Inside the QPU, we have qubits, which is a list of six LabOne Q Application\n",
    "# Library TunableTransmonQubit qubits:\n",
    "qubits = qpu.qubits"
   ]
  },
  {
   "cell_type": "markdown",
   "id": "cfc4a9c2-6c4a-4f7e-9f14-0883aafba1e2",
   "metadata": {},
   "source": [
    "Then, you'll connect to the `Session`. Here we connect to an emulated one:"
   ]
  },
  {
   "cell_type": "code",
   "execution_count": null,
   "id": "87140c58",
   "metadata": {},
   "outputs": [],
   "source": [
    "session = Session(setup)\n",
    "session.connect(do_emulation=True)"
   ]
  },
  {
   "cell_type": "markdown",
   "id": "930e930e-a497-4fb1-a2dd-d174463ddf78",
   "metadata": {},
   "source": [
    "## Create a `FolderStore` for Saving Data\n",
    "\n",
    "The experiment `Workflows` can automatically save the inputs and outputs of all their tasks to the folder path we specify when instantiating the [FolderStore](https://docs.zhinst.com/labone_q_user_manual/applications_library/tutorials/sources/logbooks.html#the-folderstore). Here, we choose the current working directory."
   ]
  },
  {
   "cell_type": "code",
   "execution_count": null,
   "id": "58dcfcb5-24f4-488d-947e-45882981468f",
   "metadata": {},
   "outputs": [],
   "source": [
    "# import FolderStore from the `workflow` namespace of LabOne Q, which was imported\n",
    "# from `laboneq.simple`\n",
    "from pathlib import Path\n",
    "\n",
    "folder_store = workflow.logbook.FolderStore(Path.cwd())"
   ]
  },
  {
   "cell_type": "markdown",
   "id": "f8cf12f3-6a74-48b3-b532-a9795e95fd34",
   "metadata": {},
   "source": [
    "We disable saving in this tutorial. To enable it, simply run `folder_store.activate()`."
   ]
  },
  {
   "cell_type": "code",
   "execution_count": null,
   "id": "fc40da5e-882d-4f97-86b1-ce443cb346be",
   "metadata": {},
   "outputs": [],
   "source": [
    "folder_store.deactivate()"
   ]
  },
  {
   "cell_type": "markdown",
   "id": "7cb2e42d",
   "metadata": {},
   "source": [
    "## Write the `Experiment` pulse sequence\n",
    "\n",
    "Usually, when you start implementing a new experiment, the first thing you have in mind is the pulse sequence or the circuit diagram describing the experiment logic. \n",
    "\n",
    "So let's begin by writing the `create_experiment` task of the length-Rabi experiment. You'll notice that every experiment workflow in the Applications Library has this task, which is responsible for creating an instance of the [LabOne Q Experiment object](https://docs.zhinst.com/labone_q_user_manual/core/functionality_and_concepts/04_experiment_sequence/concepts/00_experiment.html) describing the pulse sequence of the experiment. "
   ]
  },
  {
   "cell_type": "markdown",
   "id": "9f731fdd-4d84-4bd0-ac23-f7bb1931af94",
   "metadata": {},
   "source": [
    "### Single-qubit experiment\n",
    "\n",
    "We start simple: length-Rabi on a single [tunable transmon qubit](https://docs.zhinst.com/labone_q_user_manual/applications_library/reference/qpu_types/tunable_transmon.html#laboneq_applications.qpu_types.tunable_transmon.TunableTransmonQubit), written using [quantum operations](quantum_operations.ipynb):"
   ]
  },
  {
   "cell_type": "code",
   "execution_count": null,
   "id": "278b9afd-a34b-4cf6-bc24-1d27f55f5c4b",
   "metadata": {},
   "outputs": [],
   "source": [
    "@workflow.task\n",
    "@dsl.qubit_experiment\n",
    "def create_experiment(\n",
    "    qpu,\n",
    "    qubit,\n",
    "    pulse_lengths,\n",
    "    count=10,\n",
    "):\n",
    "    \"\"\"Pulse duration Rabi experiment.\"\"\"\n",
    "    qop = qpu.quantum_operations\n",
    "    with dsl.acquire_loop_rt(\n",
    "        count=count,\n",
    "    ):\n",
    "        with dsl.sweep(\n",
    "            name=f\"pulse_lengths_{qubit.uid}\",\n",
    "            parameter=SweepParameter(f\"pulse_lengths_{qubit.uid}\", pulse_lengths),\n",
    "        ) as length:\n",
    "            qop.x180(qubit, length=length, transition=\"ef\")\n",
    "            qop.measure(qubit, handle=dsl.handles.result_handle(qubit))\n",
    "            qop.passive_reset(qubit)"
   ]
  },
  {
   "cell_type": "markdown",
   "id": "a2267943",
   "metadata": {},
   "source": [
    "Quite a few constructions have been introduced here, so let's take a closer look:\n",
    "\n",
    "* the `dsl` namespace contains builtin functions for creating the `Experiment` pulse sequence: `qubit_experiment`, `acquire_loop_rt`, `sweep`. \n",
    "\n",
    "* `with dsl.sweep`: This is an ordinary LabOne Q sweep.\n",
    "\n",
    "* `qop.passive_reset`: This operation resets the qubit to the ground state by delaying for an amount of time configured in the calibration.\n",
    "\n",
    "The decorator [@dsl.qubit_experiment](https://docs.zhinst.com/labone_q_user_manual/core/reference/dsl/experiment.html#laboneq.dsl.experiment.builtins_dsl.qubit_experiment) turns `create_experiment` into a special function. When called, it returns the `Experiment` instance for the pulse sequence created inside it for the qubits passed in the input parameters. Let's call our new task `create_experiment` and see this in action!"
   ]
  },
  {
   "cell_type": "code",
   "execution_count": null,
   "id": "47c5fbd8-3810-4efe-bf0d-d973a09cf8bb",
   "metadata": {},
   "outputs": [],
   "source": [
    "exp = create_experiment(qpu, qubits[0], np.linspace(0, 100e-9, 5))"
   ]
  },
  {
   "cell_type": "code",
   "execution_count": null,
   "id": "3595bd02-5323-47b8-a0c8-01fcf1c39e80",
   "metadata": {},
   "outputs": [],
   "source": [
    "type(exp)"
   ]
  },
  {
   "cell_type": "markdown",
   "id": "c17a129b-b389-425f-9888-b8e0f435d5d7",
   "metadata": {},
   "source": [
    "#### Declarative-style DSL"
   ]
  },
  {
   "cell_type": "markdown",
   "id": "7db77d9a-9fee-47b3-b5cf-1fec89f8b8d6",
   "metadata": {},
   "source": [
    "The logic of decorator `@dsl.qubit_experiment` works using context managers. It automatically creates an `Experiment` context, to which the rest of the `dsl` constructs are added. \n",
    "\n",
    "However, we can also write the same task using the [declarative-style DSL](https://docs.zhinst.com/labone_q_user_manual/core/functionality_and_concepts/04_experiment_sequence/tutorials/06_declarative_dsl.html), without contexts. We disable the context-style DSL by passing `context=False` to the `@dsl.qubit_experiment` decorator. In addition, the first argument of our function is now the experiment itself."
   ]
  },
  {
   "cell_type": "code",
   "execution_count": null,
   "id": "750a1c89-2faa-4511-a9ee-39818251a89b",
   "metadata": {},
   "outputs": [],
   "source": [
    "@workflow.task\n",
    "@dsl.qubit_experiment(context=False)\n",
    "def create_experiment_declarative(\n",
    "    exp,\n",
    "    qpu,\n",
    "    qubit,\n",
    "    pulse_lengths,\n",
    "    count=10,\n",
    "):\n",
    "    \"\"\"Pulse duration Rabi experiment using declarative-style DSL.\"\"\"\n",
    "    qop = qpu.quantum_operations\n",
    "    # Create the acquire loop\n",
    "    acq_rt = AcquireLoopRt(count=count)\n",
    "    exp.add(acq_rt)\n",
    "    # Create the sweep\n",
    "    len_swp_par = SweepParameter(f\"pulse_lengths_{qubit.uid}\", pulse_lengths)\n",
    "    swp = Sweep(f\"pulse_lengths_{qubit.uid}\", parameters=len_swp_par)\n",
    "    # Add the sections created by the quantum operations to the sweep\n",
    "    swp.add(qop.x180(qubit, length=len_swp_par))\n",
    "    swp.add(qop.measure(qubit, handle=dsl.handles.result_handle(qubit)))\n",
    "    swp.add(qop.passive_reset(qubit))\n",
    "    # Add the sweep to the acquire loop\n",
    "    acq_rt.add(swp)"
   ]
  },
  {
   "cell_type": "code",
   "execution_count": null,
   "id": "413723c1-220b-41f5-8bf1-3d3ded7a6d46",
   "metadata": {},
   "outputs": [],
   "source": [
    "exp_declarative = create_experiment_declarative(qpu, qubits[0], np.linspace(0, 100e-9, 5))"
   ]
  },
  {
   "cell_type": "code",
   "execution_count": null,
   "id": "0a54c1f4-e6f2-4113-9986-2f656f28196a",
   "metadata": {
    "scrolled": true
   },
   "outputs": [],
   "source": [
    "type(exp_declarative)"
   ]
  },
  {
   "cell_type": "markdown",
   "id": "53490590-bb5c-4920-8b25-9ab958e98217",
   "metadata": {},
   "source": [
    "### Parallel-qubit experiment\n",
    "\n",
    "Let's now change our `create_experiment` task to implement the length-Rabi on several qubits in parallel. Here, we use the context-based DSL, but you can write the same using the declarative-style. "
   ]
  },
  {
   "cell_type": "code",
   "execution_count": null,
   "id": "32cf330a-1227-4155-ae62-ce77eec3dd8d",
   "metadata": {},
   "outputs": [],
   "source": [
    "@workflow.task\n",
    "@dsl.qubit_experiment\n",
    "def create_experiment_multi_qubit(\n",
    "    qpu,\n",
    "    qubits,\n",
    "    pulse_lengths,\n",
    "    count=10,\n",
    "):\n",
    "    \"\"\"Pulse duration Rabi experiment on multiple qubits in parallel.\"\"\"\n",
    "    # Validation: ensure qubits and amplitudes have the same length\n",
    "    qubits, pulse_lengths = validation.validate_and_convert_qubits_sweeps(\n",
    "        qubits, pulse_lengths\n",
    "    )\n",
    "\n",
    "    lengths_sweep_pars = [\n",
    "        SweepParameter(f\"pulse_lengths_{q.uid}\", q_lengths)\n",
    "        for q, q_lengths in zip(qubits, pulse_lengths)\n",
    "    ]\n",
    "    # We will fix the length of the measure section to the longest section among\n",
    "    # the qubits to allow the qubits to have different readout and/or\n",
    "    # integration lengths.\n",
    "    max_measure_section_length = qpu.measure_section_length(qubits)\n",
    "    qop = qpu.quantum_operations\n",
    "    with dsl.acquire_loop_rt(\n",
    "        count=count,\n",
    "    ):\n",
    "        with dsl.sweep(\n",
    "            name=\"pulse_lengths\",\n",
    "            parameter=lengths_sweep_pars,\n",
    "        ):\n",
    "            with dsl.section(name=\"drive\", alignment=SectionAlignment.RIGHT):\n",
    "                for q, q_lengths in zip(qubits, lengths_sweep_pars):\n",
    "                    sec = qop.x180(q, length=q_lengths, transition=\"ef\")\n",
    "                    sec.alignment = SectionAlignment.RIGHT\n",
    "            with dsl.section(name=\"measure\", alignment=SectionAlignment.LEFT):\n",
    "                for q in qubits:\n",
    "                    sec = qop.measure(q, dsl.handles.result_handle(q.uid))\n",
    "                    # Fix the length of the measure section\n",
    "                    sec.length = max_measure_section_length\n",
    "                    qop.passive_reset(q)"
   ]
  },
  {
   "cell_type": "markdown",
   "id": "48d7d306-17e4-4d81-8db5-1adc71280f53",
   "metadata": {},
   "source": [
    "This looks substantially different to the single-qubit version. Let's have a look at why that is:\n",
    "\n",
    "* the `pulse_lengths` are now passed as a list with the arrays for each qubit. The order in this list must match the order in the list of `qubits`.\n",
    "\n",
    "* we create a join sweep over all the qubits by gathering all the sweep parameters into a list `lengths_sweep_pars`.\n",
    "\n",
    "* We find the longest readout section across all the qubits (given by the longest integration duration) and fix the length of the `measure` operation to this value for all the qubits. This is to allow the case where the qubits have different integration lengths. Without fixing this length, the measurements for the qubits that are multiplexed would end up out of sync, which is not allowed; see the [Measurement Rules](https://docs.zhinst.com/labone_q_user_manual/core/functionality_and_concepts/03_sections_pulses_and_quantum_operations/concepts/03_measurement_rules.html).\n",
    "\n",
    "* `dsl.section`: This creates a new section in the experiment. Sections are important to create timing-consistent and reproducible behavior.\n",
    "\n",
    "* We wrap the drive operations for all the qubits into an encompassing section called \"drive\" the contents of which we align right. We also wrap the `measure` and `passive_reset` operations into a section called `measure`, the contenxt of which we align left. We do this for two reasons\n",
    "\n",
    "    *  to allow the qubits to have different lengths for their drive pulses at every step of the sweep without leading to the measurements getting out of sync for qubits that are multiplexed.\n",
    "      \n",
    "    *  to ensure that when the qubits have different drive lengths, the drive pulses are played back-to-back with the readout pulses. This prevents that the qubits with shorter pulse lengths are ideling during the execution of the longer pulses of the other qubits."
   ]
  },
  {
   "cell_type": "markdown",
   "id": "8bc50941-1e79-483c-8b0b-bec559dccd5b",
   "metadata": {},
   "source": [
    "One run of the acquire loop in the code above results in the pulse sequence sketched below for three qubits that have different drive-pulse lengths (blue Gaussian pulses) and different readout-pulse lengths (red flat-top Gaussian pulses). Notice that, even though the qubits have different readout lengths, the individual sections of the `measure` operations for each qubit have the same length set by the longest acquisition time. The right-most sections are the passive-reset sections created by the `passive_reset` operations.\n",
    "\n",
    "![](../../how-to-guides/images/length_rabi.svg \"Sketch of the pulse sequence for the length-Rabi experiment applied in parallel on three qubits. All the orange boxes represent Sections.\")"
   ]
  },
  {
   "cell_type": "markdown",
   "id": "9d7d07c5-cc5b-416a-a2f4-1e3ee1150885",
   "metadata": {},
   "source": [
    "Let's run this experiment on the three qubit we have created [above](#QPU-and-Device-Setup). \n",
    "\n",
    "First, let's configure the qubits to have different readout and integration lengths, in order to run the experiment sequence for the case shown in the sketch above."
   ]
  },
  {
   "cell_type": "code",
   "execution_count": null,
   "id": "22f50de3-dfbd-4f13-a9b0-71f75f1e899e",
   "metadata": {},
   "outputs": [],
   "source": [
    "qubits[0].parameters.readout_length = 1e-6\n",
    "qubits[1].parameters.readout_length = 1.5e-6\n",
    "qubits[2].parameters.readout_length = 1.8e-6\n",
    "\n",
    "qubits[0].parameters.readout_integration_length = 1.2e-6\n",
    "qubits[1].parameters.readout_integration_length = 1.7e-6\n",
    "qubits[2].parameters.readout_integration_length = 2e-6"
   ]
  },
  {
   "cell_type": "code",
   "execution_count": null,
   "id": "f96a19f1-d922-41c5-9db9-944c2bced2a6",
   "metadata": {},
   "outputs": [],
   "source": [
    "exp_multi_qubit = create_experiment_multi_qubit(\n",
    "    qpu=qpu,\n",
    "    qubits=qubits,\n",
    "    pulse_lengths=[\n",
    "        np.linspace(0, 100e-9, 5),\n",
    "        np.linspace(0, 500e-9, 5),\n",
    "        np.linspace(0, 1000e-9, 5),\n",
    "    ],\n",
    "    count=1,\n",
    ")"
   ]
  },
  {
   "cell_type": "markdown",
   "id": "53463e9c-1d20-416c-aede-f1b2511580bf",
   "metadata": {},
   "source": [
    "Compile this experiment and inspect the pulse sheet viewer."
   ]
  },
  {
   "cell_type": "code",
   "execution_count": null,
   "id": "86641d7a-ba61-4790-b88b-1de909690a43",
   "metadata": {
    "scrolled": true
   },
   "outputs": [],
   "source": [
    "exp_multi_qubit_compiled = session.compile(exp_multi_qubit)"
   ]
  },
  {
   "cell_type": "code",
   "execution_count": null,
   "id": "ee491e5b-9055-4b22-b2a6-08bb42dc000b",
   "metadata": {
    "scrolled": true
   },
   "outputs": [],
   "source": [
    "show_pulse_sheet(\"length_rabi\", exp_multi_qubit_compiled, interactive=True)"
   ]
  },
  {
   "cell_type": "markdown",
   "id": "387bd5b6-704a-4594-8831-214dfeda02f1",
   "metadata": {},
   "source": [
    "We obtain the same alignment as shown in the sketch above. "
   ]
  },
  {
   "cell_type": "markdown",
   "id": "4a976e32-0e7a-46da-91cf-23ec4a397f48",
   "metadata": {},
   "source": [
    "### Adding Options"
   ]
  },
  {
   "cell_type": "markdown",
   "id": "740b4d7f-835b-4446-8650-477f6ddddb4c",
   "metadata": {},
   "source": [
    "None of the `create_experiment` tasks we've written in the previous sections allowed for the possibility to pass additional options, such as on which transition to pefrom the Rabi experiment, whether to use calibration traces, or other arguments of the `acquire_loop_rt`.\n",
    "\n",
    "To support this functionality, the LabOne Q `Tasks` and `Workflows` offer the possibility to use `Options` classes. The [tutorial on Options](https://docs.zhinst.com/labone_q_user_manual/core/functionality_and_concepts/07_workflow/02_options.html) explains in detail how these classes work and how define and use them. \n",
    "\n",
    "The Applications Library contains several ready-made `Options` classes for `Tasks` and `Workflows`. You can find an overview of them [here](https://docs.zhinst.com/labone_q_user_manual/applications_library/reference/experiments/options.html). \n",
    "\n",
    "We import the `TuneupExperimentOptions` class and inspect its docstring to see what options fields it's got:"
   ]
  },
  {
   "cell_type": "code",
   "execution_count": null,
   "id": "dfd19df7-4162-4d68-864f-cc34b547540b",
   "metadata": {
    "scrolled": true
   },
   "outputs": [],
   "source": [
    "TuneupExperimentOptions?"
   ]
  },
  {
   "cell_type": "markdown",
   "id": "c10b381c-f482-4774-9ecd-3bae1a57d6c0",
   "metadata": {},
   "source": [
    "This class offers the following options fields:\n",
    "\n",
    "* `transition=\"ge\"`: Each kind of qubit supports different transitions. For the tunable transmon qubits implemented in the applications library the two transitions are `\"ge\"` (i.e. ground to first excited state) and `\"ef\"` (i.e. first to second excited state). The tunable transmon operations accept the transition to work with as a parameter.\n",
    "\n",
    "* `use_cal_traces=True`: whether to use calibration traces in the experiment.\n",
    "\n",
    "* `cal_states=\"ge\"`: which calibration states to prepare.\n",
    "\n",
    "* [arguments of the acquire_loop_rt](https://docs.zhinst.com/labone_q_user_manual/core/functionality_and_concepts/03_sections_pulses_and_quantum_operations/concepts/04_averaging_sweeping.html): `count`, `acquisition_type`, `averaging_mode`, `repetition_mode`, `repetition_time`, `reset_oscillator_phase`.\n",
    "\n",
    "* option field to enable and configure active reset: `active_reset`, `active_reset_repetitions`, `active_reset_states`."
   ]
  },
  {
   "cell_type": "markdown",
   "id": "85d42b2b-2346-4962-a3cd-2d736d7c4ff4",
   "metadata": {},
   "source": [
    "If you do not need all the fields of this options class or you would require additional fields, you can always write a new options class. In this tutorial, we do not want to add active reset, so we do not need those options. Let's write a new task-options class to exclude these fields and also omit some of the `acquire_loop_rt` options. We will use the decorate `@workflow.task_options` to create an instance of `TaskOptions`. To learn more about `TaskOptions` and options in general, check out the [options tutorial](https://docs.zhinst.com/labone_q_user_manual/core/functionality_and_concepts/07_workflow/02_options.html)."
   ]
  },
  {
   "cell_type": "code",
   "execution_count": null,
   "id": "1f705af6-b620-4187-acdc-6e7029380950",
   "metadata": {},
   "outputs": [],
   "source": [
    "@workflow.task_options\n",
    "class CreateExperimentOptions:\n",
    "    count = 1\n",
    "    averaging_mode = AveragingMode.CYCLIC\n",
    "    transition = \"ge\"\n",
    "    use_cal_traces = True\n",
    "    cal_states = \"ge\""
   ]
  },
  {
   "cell_type": "markdown",
   "id": "1923f95e-fbbb-4cbe-b502-f50ab7b66eaa",
   "metadata": {},
   "source": [
    "Note that, the simple definition of the options class above does not give you any kind of input validation when used inside a workflow, i.e. you can pass other option fields that do not exist or make a typo when passing one of the existing fields, and the mistake will be silently ignored. Being able to write a simple options class is useful for quick prototyping. But as soon as you start using the class often in an experiment `Workflow`, input validation helps make your life easier!\n",
    "\n",
    "All the options classes defined in the Applications Library have the logic to ensure input validation when used inside `Workflows`. You can easily add this logic to your own class by using the `options_field` function. Let's re-write `CreateExperimentOptions` to include input validation for later used inside a `Workflow`:"
   ]
  },
  {
   "cell_type": "code",
   "execution_count": null,
   "id": "626252f2-ac9c-4c97-ab53-977c770925b3",
   "metadata": {},
   "outputs": [],
   "source": [
    "from typing import Literal\n",
    "\n",
    "\n",
    "@workflow.task_options\n",
    "class CreateExperimentOptions:\n",
    "    count: int = workflow.option_field(default=1)\n",
    "    averaging_mode: AveragingMode = workflow.option_field(AveragingMode.CYCLIC)\n",
    "    transition: Literal[\"ge\", \"ef\"] = workflow.option_field(\"ge\")\n",
    "    use_cal_traces: bool = workflow.option_field(True)\n",
    "    cal_states: str = workflow.option_field(\"ge\")"
   ]
  },
  {
   "cell_type": "markdown",
   "id": "b4538e15-9424-457d-9ec2-3e54d1e4d46e",
   "metadata": {},
   "source": [
    "You can optionally also add a `description` to the `option_field` to give details about what the options is used for. \n",
    "\n",
    "**Note**: Input validation is only available later when the `create_experiment` task using the options class above is used inside a `Workflow`. The class `CreateExperimentOptions` by itself behaves like a regular Python data class and enforces no validation. You can see this by instantiating the class and setting a field that does not exist:"
   ]
  },
  {
   "cell_type": "code",
   "execution_count": null,
   "id": "be8aa5d7-7049-41c3-b291-530611b7cd97",
   "metadata": {},
   "outputs": [],
   "source": [
    "options = CreateExperimentOptions()\n",
    "options.inexistent_field = \"oops\"  # silently ignored\n",
    "options"
   ]
  },
  {
   "cell_type": "markdown",
   "id": "8bb141ee-5cd2-4920-b4c8-e31b81af2c9d",
   "metadata": {},
   "source": [
    "Now, we re-write our `create_experiment_multi_qubits` task to include this options class:"
   ]
  },
  {
   "cell_type": "code",
   "execution_count": null,
   "id": "9595a273-ac51-4a0e-93d0-cbe42bcc6627",
   "metadata": {},
   "outputs": [],
   "source": [
    "@workflow.task\n",
    "@dsl.qubit_experiment\n",
    "def create_experiment_multi_qubit_options(\n",
    "    qpu,\n",
    "    qubits,\n",
    "    pulse_lengths,\n",
    "    options: CreateExperimentOptions | None = None,\n",
    "):\n",
    "    \"\"\"Pulse duration Rabi experiment on multiple qubits in parallel.\"\"\"\n",
    "    # If no options are passed, we use our class CreateExperimentOptions\n",
    "    opts = CreateExperimentOptions() if options is None else options\n",
    "\n",
    "    # Validation: ensure qubits and pulse_lengths_list have the same length\n",
    "    qubits, pulse_lengths = validation.validate_and_convert_qubits_sweeps(\n",
    "        qubits, pulse_lengths\n",
    "    )\n",
    "\n",
    "    lengths_sweep_pars = [\n",
    "        SweepParameter(f\"pulse_lengths_{q.uid}\", q_lengths)\n",
    "        for q, q_lengths in zip(qubits, pulse_lengths)\n",
    "    ]\n",
    "    # We will fix the length of the measure section to the longest section among\n",
    "    # the qubits to allow the qubits to have different readout and/or\n",
    "    # integration lengths.\n",
    "    max_measure_section_length = qpu.measure_section_length(qubits)\n",
    "    qop = qpu.quantum_operations\n",
    "    with dsl.acquire_loop_rt(\n",
    "        count=opts.count,\n",
    "        averaging_mode=opts.averaging_mode\n",
    "    ):\n",
    "        with dsl.sweep(\n",
    "            name=\"pulse_lengths\",\n",
    "            parameter=lengths_sweep_pars,\n",
    "        ):\n",
    "            with dsl.section(name=\"drive\", alignment=SectionAlignment.RIGHT):\n",
    "                for q, q_lengths in zip(qubits, lengths_sweep_pars):\n",
    "                    qop.prepare_state.omit_section(q, state=opts.transition[0])\n",
    "                    sec = qop.x180(q, length=q_lengths, transition=opts.transition)\n",
    "                    sec.alignment = SectionAlignment.RIGHT\n",
    "            with dsl.section(name=\"measure\", alignment=SectionAlignment.LEFT):\n",
    "                for q in qubits:\n",
    "                    sec = qop.measure(q, dsl.handles.result_handle(q.uid))\n",
    "                    # Fix the length of the measure section\n",
    "                    sec.length = max_measure_section_length\n",
    "                    qop.passive_reset(q)\n",
    "\n",
    "        if opts.use_cal_traces:\n",
    "            qop.calibration_traces.omit_section(\n",
    "                qubits=qubits,\n",
    "                states=opts.cal_states,\n",
    "            )"
   ]
  },
  {
   "cell_type": "markdown",
   "id": "7805986e-ad1a-4b4b-a119-95ace6c328d5",
   "metadata": {},
   "source": [
    "Notice a few things that have changed:\n",
    "\n",
    "* we have specified the type of the `options` input parameters as `TuneupExperimentOptions | None`. You do not need to do this for quick prototyping, but you have to do this when using the `create_experiment_multi_qubit_options` task inside a `Workflow`. As explained in the [tutorial on options](https://docs.zhinst.com/labone_q_user_manual/core/functionality_and_concepts/07_workflow/02_options.html), the `Workflow` mechanism automatically resolves the tree of task options for its constituent `Tasks`, such that they are all available to be configured at the `Workflow` level before running your experiment `Workflow`. However, this automatic resolution only happens if the type of the `options` input parameter of each `Task` is specified as an instance of `TaskOptions`, in our case `CreateExperimentOptions`. If this type specification is omitted, the `Workflow` does not detect that this `Task` accepts options and they will not be configurable when you want to run your experiment.\n",
    "\n",
    "* we have added a new quantum operation, `qop.prepare_state`. In case the transition on which to run the experiment is not \"ge\", we must first prepare the lowermost state in the transition (for example, \"e\" if `transition=\"ef\"`). The `prepare_state` in the set of operations for tunable transmons ([TunableTransmonOperations](https://docs.zhinst.com/labone_q_user_manual/applications_library/reference/qpu_types/tunable_transmon.html#laboneq_applications.qpu_types.tunable_transmon.TunableTransmonOperations)) accepts `\"g\"`, `\"e\"` and `\"f\"` as states to prepare.\n",
    "\n",
    "* we have added the [calibration_traces operation](https://docs.zhinst.com/labone_q_user_manual/applications_library/reference/qpu_types/tunable_transmon.html#laboneq_applications.qpu_types.tunable_transmon.TunableTransmonOperations.calibration_traces), to be used only if `use_cal_traces=True`."
   ]
  },
  {
   "cell_type": "markdown",
   "id": "c6e895ab-4412-4d1a-9774-0e65672e2ae2",
   "metadata": {},
   "source": [
    "Let's run the task on the \"ef\" transition and using the calibration traces for the states \"g\", \"e\", \"f\"."
   ]
  },
  {
   "cell_type": "code",
   "execution_count": null,
   "id": "288ff8f5-32a1-44d0-87a3-16bed7990e9f",
   "metadata": {},
   "outputs": [],
   "source": [
    "options = CreateExperimentOptions()\n",
    "options.transition = \"ef\"\n",
    "options.use_cal_traces = True\n",
    "options.cal_states = \"gef\""
   ]
  },
  {
   "cell_type": "code",
   "execution_count": null,
   "id": "a1a807cd-2064-46b5-a384-12c662726e53",
   "metadata": {
    "scrolled": true
   },
   "outputs": [],
   "source": [
    "exp_multi_qubit_options = create_experiment_multi_qubit_options(\n",
    "    qpu=qpu,\n",
    "    qubits=qubits,\n",
    "    pulse_lengths=[\n",
    "        np.linspace(0, 100e-9, 3),\n",
    "        np.linspace(0, 500e-9, 3),\n",
    "        np.linspace(0, 1000e-9, 3),\n",
    "    ],\n",
    "    options=options\n",
    ")\n",
    "exp_multi_qubit_options_compiled = session.compile(exp_multi_qubit_options)"
   ]
  },
  {
   "cell_type": "markdown",
   "id": "dd93e971-9f33-49fc-a179-aec6ab177ed3",
   "metadata": {},
   "source": [
    "This time, we inspect the pulse sequence using `plot_simulation` because it's easier to see the additional pulses, but you could also use the pulse sheet viewer as above."
   ]
  },
  {
   "cell_type": "code",
   "execution_count": null,
   "id": "cf10d4a5-5869-4147-895a-7cd095307bf0",
   "metadata": {},
   "outputs": [],
   "source": [
    "from laboneq.contrib.example_helpers.plotting.plot_helpers import plot_simulation\n",
    "\n",
    "plot_simulation(exp_multi_qubit_options_compiled, start_time=0e-6, length=17.5e-6,\n",
    "                signal_names_to_show=[\"drive\"])"
   ]
  },
  {
   "cell_type": "markdown",
   "id": "6a0b4cbe-62ec-4df3-b65e-d70a9d495dd3",
   "metadata": {},
   "source": [
    "Notice the preparation $\\pi$-pulses on the \"ge\" transition before the \"ef\" pulses whose length is being swept. Notice also, the three calibration-state preparations after the sweep: no pulse to prepare the \"g\" state (at ~$11\\mu$s), a \"ge\" $\\pi$ pulse to prepare the \"e\" state (at ~$13.75\\mu$s), and a \"ge\" $\\pi$ pulse followed by an \"ef\" $\\pi$ pulse to prepare the \"f\" state (at ~$17\\mu$s).\n",
    "\n",
    "The passive-reset time is only $1\\mu$s, set in the qubit parameters `reset_delay_length`. This makes it easier to look at the experiment in emulation mode. When running on real qubits, the `reset_delay_length` should be around $3T_1$."
   ]
  },
  {
   "cell_type": "markdown",
   "id": "dde9c297-8a4b-4e6c-a814-85e9e1b440cb",
   "metadata": {},
   "source": [
    "## Write the experiment `Workflow`\n",
    "\n",
    "Now that we have written the `create_experiment` task, we can create the length-Rabi experiment `Workflow`.\n",
    "\n",
    "You can write a `Workflow` without options. But since we have used options for our `create_experiment` task, we should allow our experiment `Workflow` to accept options as well. \n",
    "\n",
    "For this we use `workflow.WorkflowOptions`, which is a special class that configures the `Workflow` engine to perform this automatic resolution of the options of each task we have mentioned above after creating the `create_experiment_multi_qubit_options` task. To learn more about this and about the difference between `WorkflowOptions` and `TaskOptions`, see the [tutorial on Options](https://docs.zhinst.com/labone_q_user_manual/core/functionality_and_concepts/07_workflow/02_options.html)."
   ]
  },
  {
   "cell_type": "code",
   "execution_count": null,
   "id": "76dd9b23-0f80-46fa-a0d2-573cab9af693",
   "metadata": {},
   "outputs": [],
   "source": [
    "@workflow.workflow(name=\"length_rabi\")\n",
    "def experiment_workflow(\n",
    "    session,\n",
    "    qpu,\n",
    "    qubits,\n",
    "    pulse_lengths,\n",
    "    temporary_parameters = None,\n",
    "    options: workflow.WorkflowOptions | None = None,\n",
    "):\n",
    "    exp = create_experiment_multi_qubit_options(qpu, qubits, pulse_lengths)\n",
    "    compiled_exp = workflow.tasks.compile_experiment(session, exp)\n",
    "    result = workflow.tasks.run_experiment(session, compiled_exp)\n",
    "    workflow.return_(result)"
   ]
  },
  {
   "cell_type": "markdown",
   "id": "b97a26dd-ab48-4734-b76a-8b594c4a384c",
   "metadata": {},
   "source": [
    "Get the `experiment_workflow` options:"
   ]
  },
  {
   "cell_type": "code",
   "execution_count": null,
   "id": "9d3a0d1d-b00e-4380-a48e-3992d6f2ad4f",
   "metadata": {},
   "outputs": [],
   "source": [
    "options = experiment_workflow.options()\n",
    "options"
   ]
  },
  {
   "cell_type": "markdown",
   "id": "6416aa20-142a-4550-9127-b84f28d4630a",
   "metadata": {},
   "source": [
    "Notice the automatic resolution of the options of the tasks. If you now got back to the definition of `create_experiment_multi_qubit_options` and remove the type of the `options` input parameter (remove `CreateExperimentOptions | None`), you will see that the `create_experiment_multi_qubit_options` do not appear in the options created in the cell. Try it!\n",
    "\n",
    "Notice also that we did not manually pass `options=options` when calling the tasks inside the `experiment_workflow` as you would normally do. **In addition to the automatic resolution of task options, the `Workflow` also automatically distributes the relevant options from its input to the correct tasks. So options should never be manually passed to the tasks inside a `Workflow`.**"
   ]
  },
  {
   "cell_type": "markdown",
   "id": "dc4b94fd-ff23-4341-b57c-e09af1296143",
   "metadata": {},
   "source": [
    "Let's run the `experiment_workflow`!"
   ]
  },
  {
   "cell_type": "code",
   "execution_count": null,
   "id": "fe18e906-5717-4b95-b762-d12f12514017",
   "metadata": {
    "scrolled": true
   },
   "outputs": [],
   "source": [
    "workflow_results = experiment_workflow(\n",
    "    session=session,\n",
    "    qpu=qpu,\n",
    "    qubits=qubits,\n",
    "    pulse_lengths=[\n",
    "        np.linspace(0, 100e-9, 3),\n",
    "        np.linspace(0, 500e-9, 3),\n",
    "        np.linspace(0, 1000e-9, 3),\n",
    "    ],\n",
    "    options=options\n",
    ").run()"
   ]
  },
  {
   "cell_type": "code",
   "execution_count": null,
   "id": "3501924b-77bd-4d71-a08f-500ebd94d76b",
   "metadata": {},
   "outputs": [],
   "source": [
    "from laboneq.contrib.example_helpers.plotting.plot_helpers import plot_simulation\n",
    "\n",
    "plot_simulation(workflow_results.tasks[\"compile_experiment\"].output, start_time=0e-6, length=17.5e-6,\n",
    "                signal_names_to_show=[\"drive\"])"
   ]
  },
  {
   "cell_type": "markdown",
   "id": "cd115b8e-8339-4c09-87d2-2bd6a8075252",
   "metadata": {},
   "source": [
    "To learn more about how to inspect the results of experiment `Workflows` and how to work with them in general, check out the [tutorial on experiment Workflows](https://docs.zhinst.com/labone_q_user_manual/applications_library/tutorials/sources/experiment_workflows.html).\n",
    "\n",
    "Great! You've finished writing you new length-Rabi experiment `Workflow`. Check out the [other tutorials](https://docs.zhinst.com/labone_q_user_manual/applications_library/tutorials/index.html) to learn more about the Applications Library."
   ]
  }
 ],
 "metadata": {
  "kernelspec": {
   "display_name": "Python 3 (ipykernel)",
   "language": "python",
   "name": "python3"
  },
  "language_info": {
   "codemirror_mode": {
    "name": "ipython",
    "version": 3
   },
   "file_extension": ".py",
   "mimetype": "text/x-python",
   "name": "python",
   "nbconvert_exporter": "python",
   "pygments_lexer": "ipython3",
   "version": "3.12.7"
  }
 },
 "nbformat": 4,
 "nbformat_minor": 5
}
