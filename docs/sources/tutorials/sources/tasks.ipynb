{
 "cells": [
  {
   "cell_type": "markdown",
   "id": "d15d4ecd",
   "metadata": {},
   "source": [
    "# Tasks"
   ]
  },
  {
   "cell_type": "markdown",
   "id": "ddad75a6",
   "metadata": {},
   "source": [
    "Tasks are used to build up experiment and analysis workflows.\n",
    "The library provides generic tasks for building, compiling and running LabOne Q experiments.\n",
    "It also provides specific tasks for simple experiments and the associated analysis (e.g. Rabi).\n",
    "\n",
    "Let's get started."
   ]
  },
  {
   "cell_type": "markdown",
   "id": "60792fb3",
   "metadata": {},
   "source": [
    "## Setting up a device and session\n",
    "\n",
    "Build your LabOne Q `DeviceSetup`, qubits and `Session` as normal. Here we import an example from the applications library's test suite (this will change in the near future):"
   ]
  },
  {
   "cell_type": "code",
   "execution_count": null,
   "id": "cc4aa502",
   "metadata": {},
   "outputs": [],
   "source": [
    "from laboneq.simple import *\n",
    "\n",
    "from laboneq_applications.qpu_types.tunable_transmon import demo_platform"
   ]
  },
  {
   "cell_type": "code",
   "execution_count": null,
   "id": "dc19f7b9",
   "metadata": {},
   "outputs": [],
   "source": [
    "# Create a demonstration QuantumPlatform for a tunable-transmon QPU:\n",
    "qt_platform = demo_platform(n_qubits=6)\n",
    "\n",
    "# The platform contains a setup, which is an ordinary LabOne Q DeviceSetup:\n",
    "setup = qt_platform.setup\n",
    "\n",
    "# And a tunable-transmon QPU:\n",
    "qpu = qt_platform.qpu\n",
    "\n",
    "# Inside the QPU, we have qubits, which is a list of six LabOne Q Application\n",
    "# Library TunableTransmonQubit qubits:\n",
    "qubits = qpu.qubits"
   ]
  },
  {
   "cell_type": "code",
   "execution_count": null,
   "id": "87140c58",
   "metadata": {},
   "outputs": [],
   "source": [
    "session = Session(setup)\n",
    "session.connect(do_emulation=True)"
   ]
  },
  {
   "cell_type": "markdown",
   "id": "7cb2e42d",
   "metadata": {},
   "source": [
    "## Tasks\n",
    "\n",
    "When running experiments with LabOne Q there are usually a few higher-level steps that one has to perform:\n",
    "\n",
    "- Build a DSL experiment.\n",
    "- Compile the experiment.\n",
    "- Run the experiment.\n",
    "- Analyze the experiment.\n",
    "\n",
    "In the applications library, we call these steps *tasks*. The library provides some predefined tasks and you can also write your own.\n",
    "\n",
    "Let's use some of the predefined tasks to run an amplitude Rabi experiment."
   ]
  },
  {
   "cell_type": "markdown",
   "id": "93adc5a6",
   "metadata": {},
   "source": [
    "### Using provided tasks to run an experiment"
   ]
  },
  {
   "cell_type": "code",
   "execution_count": null,
   "id": "3b9380d8",
   "metadata": {},
   "outputs": [],
   "source": [
    "import numpy as np\n",
    "\n",
    "from laboneq_applications import dsl\n",
    "from laboneq_applications.experiments.amplitude_rabi import create_experiment\n",
    "from laboneq_applications.experiments.options import TuneupExperimentOptions\n",
    "from laboneq_applications.qpu_types.tunable_transmon import (\n",
    "    TunableTransmonOperations,\n",
    ")\n",
    "from laboneq_applications.tasks import compile_experiment, run_experiment\n",
    "from laboneq_applications.workflow import task"
   ]
  },
  {
   "cell_type": "code",
   "execution_count": null,
   "id": "43c27ee4",
   "metadata": {},
   "outputs": [],
   "source": [
    "create_experiment.src"
   ]
  },
  {
   "cell_type": "markdown",
   "id": "9d9811dc",
   "metadata": {},
   "source": [
    "Let's create, compile and run the rabi experiment with some simple input parameters."
   ]
  },
  {
   "cell_type": "code",
   "execution_count": null,
   "id": "0d6529cc",
   "metadata": {},
   "outputs": [],
   "source": [
    "qop = TunableTransmonOperations()\n",
    "amplitudes = np.linspace(0.0, 1.0, 10)\n",
    "options = TuneupExperimentOptions(count=10)\n",
    "exp = create_experiment(qpu, [qubits[0]], [amplitudes], options)\n",
    "compiled_exp = compile_experiment(session, exp)\n",
    "result = run_experiment(session, compiled_exp)"
   ]
  },
  {
   "cell_type": "markdown",
   "id": "dc070fa4",
   "metadata": {},
   "source": [
    "And let's examine the rabi measurement results:"
   ]
  },
  {
   "cell_type": "code",
   "execution_count": null,
   "id": "4b442379",
   "metadata": {},
   "outputs": [],
   "source": [
    "result.result.q0"
   ]
  },
  {
   "cell_type": "markdown",
   "id": "d5d26806",
   "metadata": {},
   "source": [
    "And the measurements of the 0 and 1 states for calibration:"
   ]
  },
  {
   "cell_type": "code",
   "execution_count": null,
   "id": "b0e83b6a",
   "metadata": {},
   "outputs": [],
   "source": [
    "result.cal_trace.q0.g"
   ]
  },
  {
   "cell_type": "code",
   "execution_count": null,
   "id": "3c5bee48",
   "metadata": {},
   "outputs": [],
   "source": [
    "result.cal_trace.q0.e"
   ]
  },
  {
   "cell_type": "markdown",
   "id": "b6f946b4",
   "metadata": {},
   "source": [
    "Each of `create_experiment`, `compile_experiment` and `run_experiment` is a task. They are ordinary Python functions, but they provide some special hooks so that they can be incorporate into workflows later.\n",
    "\n",
    "Like quantum operations, they can be inspected. Let's inspect the source code of the `create_experiment` task of the rabi to see how the rabi experiment is created. You can inspect the source code of any task."
   ]
  },
  {
   "cell_type": "code",
   "execution_count": null,
   "id": "5d63193b",
   "metadata": {},
   "outputs": [],
   "source": [
    "# docstring\n",
    "create_experiment?"
   ]
  },
  {
   "cell_type": "code",
   "execution_count": null,
   "id": "1404fa8a",
   "metadata": {},
   "outputs": [],
   "source": [
    "# source code\n",
    "create_experiment.src"
   ]
  },
  {
   "cell_type": "markdown",
   "id": "73b93569",
   "metadata": {},
   "source": [
    "### Writing your own tasks\n",
    "\n",
    "As mentioned, tasks are mostly just ordinary Python functions. You can write your own task as follows:"
   ]
  },
  {
   "cell_type": "code",
   "execution_count": null,
   "id": "e39019b6",
   "metadata": {},
   "outputs": [],
   "source": [
    "@task\n",
    "def add(a, b):\n",
    "    return a + b"
   ]
  },
  {
   "cell_type": "code",
   "execution_count": null,
   "id": "128129fb",
   "metadata": {},
   "outputs": [],
   "source": [
    "add(1, 2)"
   ]
  },
  {
   "cell_type": "markdown",
   "id": "dfcd3782",
   "metadata": {},
   "source": [
    "### Writing an experiment task\n",
    "\n",
    "Built-in tasks like `compile_experiment` and `run_experiment` are quite standard and you shouldn't need to write your own versions very often, but tasks that build experiments, such as `create_experiment` for the rabi, will often be written by you.\n",
    "\n",
    "Let's write our own version of the `create_experiment` for the rabi experiment that sweeps pulse lengths instead of amplitudes."
   ]
  },
  {
   "cell_type": "code",
   "execution_count": null,
   "id": "faf9aeb1",
   "metadata": {},
   "outputs": [],
   "source": [
    "from laboneq.dsl.parameter import SweepParameter"
   ]
  },
  {
   "cell_type": "code",
   "execution_count": null,
   "id": "dba942d4",
   "metadata": {},
   "outputs": [],
   "source": [
    "@task\n",
    "@dsl.qubit_experiment\n",
    "def duration_rabi(\n",
    "    qop,\n",
    "    q,\n",
    "    q_durations,\n",
    "    count,\n",
    "    transition=\"ge\",\n",
    "    cal_traces=True,\n",
    "):\n",
    "    \"\"\"Pulse duration Rabi experiment.\"\"\"\n",
    "    with dsl.acquire_loop_rt(\n",
    "        count=count,\n",
    "    ):\n",
    "        with dsl.sweep(\n",
    "            name=f\"durations_{q.uid}\",\n",
    "            parameter=SweepParameter(f\"durations_{q.uid}\", q_durations),\n",
    "        ) as length:\n",
    "            qop.prepare_state(q, transition[0])\n",
    "            qop.x180(q, length=length, transition=transition)\n",
    "            qop.measure(q, f\"result/{q.uid}\")\n",
    "            qop.passive_reset(q)\n",
    "\n",
    "        if cal_traces:\n",
    "            with dsl.section(\n",
    "                name=f\"cal_states/{q.uid}\",\n",
    "            ):\n",
    "                for state in transition:\n",
    "                    qop.prepare_state(q, state)\n",
    "                    qop.measure(q, f\"cal_trace/{q.uid}/{state}\")\n",
    "                    qop.passive_reset(q)"
   ]
  },
  {
   "cell_type": "markdown",
   "id": "a2267943",
   "metadata": {},
   "source": [
    "Quite a few new constructions and quantum operations have been introduced here, so let's take a closer look:\n",
    "\n",
    "* `transition=\"ge\"`: Each kind of qubit supports different transitions. For the tunable transmon qubits implement in the applications library the two transitions are `\"ge\"` (i.e. ground to first excited state) and `\"ef\"` (i.e. first to second excited state). The tunable transmon operations accept the transition to work with as a parameter.\n",
    "\n",
    "* `with dsl.sweep`: This is an ordinary DSL sweep.\n",
    "\n",
    "* `qop.prepare_state`: Prepare the specified qubit state. The tunable transmon `prepare_state` accepts `\"g\"`, `\"e\"` and `\"f\"` as states to prepare.\n",
    "\n",
    "* `qop.passive_reset`: This operation resets the qubit to the ground state by delaying for an amount of time configured in the calibration.\n",
    "\n",
    "* `if cal_traces:`: An ordinary Python `if` statement. It allows the calibration traces to be omitted if requested by the parameters.\n",
    "\n",
    "* `dsl.section`: This creates a new section in the experiment. Sections are important to create timing-consistent and reproducible behavior."
   ]
  },
  {
   "cell_type": "code",
   "execution_count": null,
   "id": "c3eb5f94",
   "metadata": {},
   "outputs": [],
   "source": [
    "qop = TunableTransmonOperations()\n",
    "durations = np.linspace(10.0e-9, 50e-9, 10)\n",
    "count = 10\n",
    "\n",
    "exp = duration_rabi(qop, qubits[0], durations, count=count)\n",
    "compiled_exp = compile_experiment(session, exp)\n",
    "result = run_experiment(session, compiled_exp)"
   ]
  },
  {
   "cell_type": "code",
   "execution_count": null,
   "id": "7711ee0d",
   "metadata": {},
   "outputs": [],
   "source": [
    "result.result.q0"
   ]
  },
  {
   "cell_type": "code",
   "execution_count": null,
   "id": "1437371a",
   "metadata": {},
   "outputs": [],
   "source": [
    "result.cal_trace[\"q0\"][\"g\"]"
   ]
  },
  {
   "cell_type": "code",
   "execution_count": null,
   "id": "c1ce4a6f",
   "metadata": {},
   "outputs": [],
   "source": [
    "result.cal_trace[\"q0\"][\"e\"]"
   ]
  },
  {
   "cell_type": "markdown",
   "id": "59cf03e6",
   "metadata": {},
   "source": [
    "### Why have tasks at all?\n",
    "\n",
    "So far what we've seen of tasks don't provide much beyond encouraging some structure. Encouraging structure is valuable, but the motivation behind tasks is what's to come in the following tutorials:\n",
    "\n",
    "* Being able to produce a well-organised experiment record when tasks are used in workflows.\n",
    "* Being able to supply global options to tasks in a structured way.\n",
    "* Being able to recover partial results when errors occur.\n",
    "* Being able to pause and resume workflow execution.\n",
    "* Being able to build complex dynamic workflows that can execute tasks conditionally and dynamically add tasks."
   ]
  }
 ],
 "metadata": {
  "kernelspec": {
   "display_name": "Python 3 (ipykernel)",
   "language": "python",
   "name": "python3"
  },
  "language_info": {
   "codemirror_mode": {
    "name": "ipython",
    "version": 3
   },
   "file_extension": ".py",
   "mimetype": "text/x-python",
   "name": "python",
   "nbconvert_exporter": "python",
   "pygments_lexer": "ipython3",
   "version": "3.11.9"
  }
 },
 "nbformat": 4,
 "nbformat_minor": 5
}
