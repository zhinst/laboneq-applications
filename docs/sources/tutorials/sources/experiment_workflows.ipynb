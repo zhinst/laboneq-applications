{
 "cells": [
  {
   "cell_type": "markdown",
   "id": "d15d4ecd",
   "metadata": {},
   "source": [
    "# Experiment Workflows"
   ]
  },
  {
   "cell_type": "markdown",
   "id": "ddad75a6",
   "metadata": {},
   "source": [
    "A `Workflow` contains a set of tasks to be run and supplies the tasks their options and saves their inputs and outputs. \n",
    "When run, a `Workflow` function builds a graph of tasks that will be executed later.\n",
    "This graph may be inspected and extended.\n",
    "The graph of tasks is not executed directly by Python, but by a workflow engine provided by the library.\n",
    "\n",
    "In this tutorial we will take a look at using workflows for simple tune-up experiments.\n",
    "\n",
    "Let's get started."
   ]
  },
  {
   "cell_type": "markdown",
   "id": "60792fb3",
   "metadata": {},
   "source": [
    "## Setting up a device and session\n",
    "\n",
    "Build your LabOne Q `DeviceSetup`, qubits and `Session` as normal. Here we import an example from the applications library's test suite (this will change in the near future):"
   ]
  },
  {
   "cell_type": "code",
   "execution_count": null,
   "id": "cc4aa502",
   "metadata": {},
   "outputs": [],
   "source": [
    "import numpy as np\n",
    "from laboneq.core.exceptions import LabOneQException\n",
    "from laboneq.simple import *\n",
    "\n",
    "from laboneq_applications.qpu_types.tunable_transmon import demo_platform"
   ]
  },
  {
   "cell_type": "code",
   "execution_count": null,
   "id": "dc19f7b9",
   "metadata": {},
   "outputs": [],
   "source": [
    "# Create a demonstration QuantumPlatform for a tunable-transmon QPU:\n",
    "qt_platform = demo_platform(n_qubits=6)\n",
    "\n",
    "# The platform contains a setup, which is an ordinary LabOne Q DeviceSetup:\n",
    "setup = qt_platform.setup\n",
    "\n",
    "# And a tunable-transmon QPU:\n",
    "qpu = qt_platform.qpu\n",
    "\n",
    "# Inside the QPU, we have qubits, which is a list of six LabOne Q Application\n",
    "# Library TunableTransmonQubit qubits:\n",
    "qubits = qpu.qubits"
   ]
  },
  {
   "cell_type": "code",
   "execution_count": null,
   "id": "87140c58",
   "metadata": {},
   "outputs": [],
   "source": [
    "session = Session(setup)\n",
    "session.connect(do_emulation=True)"
   ]
  },
  {
   "cell_type": "markdown",
   "id": "e6b32513",
   "metadata": {},
   "source": [
    "## Experiments as Workflows"
   ]
  },
  {
   "cell_type": "markdown",
   "id": "1806192c",
   "metadata": {},
   "source": [
    "A `Workflow` is a collection of logically connected `Tasks` whose inputs and outputs depend on each other. We use `Workflows` to implement experiments. Experiment Workflows have a few standard tasks:\n",
    "\n",
    "- `create_experiment` for creating the experimental pulse sequence\n",
    "- `compile_experiment` for compiling the `Experiment` returned by `create_experiment`\n",
    "- `run_experiment` for running the `CompiledExperiment` returned by `compile_experiment`\n",
    "\n",
    "Let's see what the experiment `Workflow` looks like for the amplitude Rabi."
   ]
  },
  {
   "cell_type": "code",
   "execution_count": null,
   "id": "45ac11f0",
   "metadata": {},
   "outputs": [],
   "source": [
    "from laboneq_applications.experiments import amplitude_rabi\n",
    "from laboneq_applications.qpu_types.tunable_transmon import TunableTransmonOperations"
   ]
  },
  {
   "cell_type": "markdown",
   "id": "f1e132f5",
   "metadata": {},
   "source": [
    "Inspect the source code of the `amplitude_rabi` `Workflow` to see what tasks it has."
   ]
  },
  {
   "cell_type": "code",
   "execution_count": null,
   "id": "11d8f122",
   "metadata": {},
   "outputs": [],
   "source": [
    "amplitude_rabi.experiment_workflow.src"
   ]
  },
  {
   "cell_type": "markdown",
   "id": "a612716e",
   "metadata": {},
   "source": [
    "### Run the experiment"
   ]
  },
  {
   "cell_type": "code",
   "execution_count": null,
   "id": "17e5178a",
   "metadata": {},
   "outputs": [],
   "source": [
    "qop = TunableTransmonOperations()\n",
    "amplitudes = np.linspace(0.0, 0.9, 10)\n",
    "options = amplitude_rabi.experiment_workflow.options()\n",
    "options.count(10)\n",
    "options.averaging_mode(\"cyclic\")\n",
    "rabi_tb = amplitude_rabi.experiment_workflow(\n",
    "    session,\n",
    "    qpu,\n",
    "    qubits[0],\n",
    "    amplitudes,\n",
    "    options=options,\n",
    ")"
   ]
  },
  {
   "cell_type": "markdown",
   "id": "6570022d",
   "metadata": {},
   "source": [
    "### Inspect the experiment Workflow"
   ]
  },
  {
   "cell_type": "markdown",
   "id": "94b26a17",
   "metadata": {},
   "source": [
    "Inspect the input parameters to the `amplitude_rabi` `Workflow`"
   ]
  },
  {
   "cell_type": "code",
   "execution_count": null,
   "id": "88bd3d2b",
   "metadata": {},
   "outputs": [],
   "source": [
    "rabi_tb.input"
   ]
  },
  {
   "cell_type": "markdown",
   "id": "13391b55",
   "metadata": {},
   "source": [
    "Inspect the tasks inside the Workflow"
   ]
  },
  {
   "cell_type": "code",
   "execution_count": null,
   "id": "5c480774",
   "metadata": {},
   "outputs": [],
   "source": [
    "result = rabi_tb.run()\n",
    "[t.name for t in result.tasks]"
   ]
  },
  {
   "cell_type": "markdown",
   "id": "9d9c1aec",
   "metadata": {},
   "source": [
    "Inspect the source code of `create_experiment` to see how the experiment pulse sequence was created."
   ]
  },
  {
   "cell_type": "code",
   "execution_count": null,
   "id": "ffc73b31",
   "metadata": {},
   "outputs": [],
   "source": [
    "result.tasks[\"create_experiment\"].src"
   ]
  },
  {
   "cell_type": "markdown",
   "id": "d9210205",
   "metadata": {},
   "source": [
    "Inspect the LabOne Q Experiment object returned by `create_experiment`"
   ]
  },
  {
   "cell_type": "code",
   "execution_count": null,
   "id": "6b408f37",
   "metadata": {},
   "outputs": [],
   "source": [
    "print(result.tasks[\"create_experiment\"].output)\n",
    "# Or alternatively:\n",
    "#    print(result.tasks[0].output)"
   ]
  },
  {
   "cell_type": "markdown",
   "id": "3dcbe3ac",
   "metadata": {},
   "source": [
    "Inspect the LabOne Q CompiledExperiment object returned by `compile_experiment`"
   ]
  },
  {
   "cell_type": "code",
   "execution_count": null,
   "id": "fb1b8a4c",
   "metadata": {},
   "outputs": [],
   "source": [
    "print(result.tasks[\"compile_experiment\"].output)"
   ]
  },
  {
   "cell_type": "code",
   "execution_count": null,
   "id": "3be76a24",
   "metadata": {},
   "outputs": [],
   "source": [
    "# inspect pulse sequence with plot_simulation\n",
    "from laboneq.contrib.example_helpers.plotting.plot_helpers import plot_simulation\n",
    "\n",
    "plot_simulation(\n",
    "    result.tasks[\"compile_experiment\"].output,\n",
    "    signal_names_to_show=[\"drive\", \"measure\"],\n",
    "    start_time=0,\n",
    "    length=50e-6,\n",
    ")"
   ]
  },
  {
   "cell_type": "markdown",
   "id": "3de11d35",
   "metadata": {},
   "source": [
    "Inspect the acquired results"
   ]
  },
  {
   "cell_type": "code",
   "execution_count": null,
   "id": "fa96bab9",
   "metadata": {},
   "outputs": [],
   "source": [
    "acquired_data = result.tasks[\"run_experiment\"].output  # the acquired results\n",
    "acquired_data"
   ]
  },
  {
   "cell_type": "code",
   "execution_count": null,
   "id": "8af60f22",
   "metadata": {},
   "outputs": [],
   "source": [
    "acquired_data.q0.result"
   ]
  },
  {
   "cell_type": "code",
   "execution_count": null,
   "id": "19ef1797",
   "metadata": {},
   "outputs": [],
   "source": [
    "# inspect pulse sequence with plot_simulation\n",
    "from laboneq.contrib.example_helpers.plotting.plot_helpers import plot_simulation\n",
    "\n",
    "plot_simulation(\n",
    "    result.tasks[\"compile_experiment\"].output,\n",
    "    signal_names_to_show=[\"drive\", \"measure\"],\n",
    "    start_time=0,\n",
    "    length=50e-6,\n",
    ")"
   ]
  },
  {
   "cell_type": "markdown",
   "id": "59e0843a",
   "metadata": {},
   "source": [
    "### Inspect results after an error\n",
    "\n",
    "If an error occurs during the execution of `amplitude_rabi`, we can inspect the tasks that have run up to the task that produced the error using `recover()`. This is particularly useful to inspect the experiment pulse sequence in case of a compilation or measurement error.\n",
    "\n",
    "Let's introduce a compilation error by sweeping the ampltude to values larger than 1, which is not allowed."
   ]
  },
  {
   "cell_type": "code",
   "execution_count": null,
   "id": "35483101",
   "metadata": {},
   "outputs": [],
   "source": [
    "qop = TunableTransmonOperations()\n",
    "amplitudes = np.linspace(0.0, 1.5, 10)\n",
    "options = amplitude_rabi.experiment_workflow.options()\n",
    "options.count(10)\n",
    "\n",
    "# here we catch the exception so that the notebook can keep executing\n",
    "try:\n",
    "    rabi_tb = amplitude_rabi.experiment_workflow(\n",
    "        session,\n",
    "        qpu,\n",
    "        qubits[0],\n",
    "        amplitudes,\n",
    "        options=options,\n",
    "    ).run()\n",
    "except LabOneQException as e:\n",
    "    print(\"ERROR: \", e)"
   ]
  },
  {
   "cell_type": "code",
   "execution_count": null,
   "id": "76d6b2bc",
   "metadata": {},
   "outputs": [],
   "source": [
    "result = amplitude_rabi.experiment_workflow.recover()\n",
    "result"
   ]
  },
  {
   "cell_type": "code",
   "execution_count": null,
   "id": "26fb3d73",
   "metadata": {},
   "outputs": [],
   "source": [
    "# inspect the experiment section tree\n",
    "print(result.tasks[\"create_experiment\"].output)"
   ]
  },
  {
   "cell_type": "markdown",
   "id": "87e34dec",
   "metadata": {},
   "source": [
    "### Run experiment workflow using qubits with temporarily modified parameters\n",
    "\n",
    "It is possible to run an experiment workflow using qubits with temporarily modified parameters. This is useful for testing or debugging purposes.\n",
    "\n",
    "To do this, we first clone the qubits from the original qubits and modify the parameters of the cloned qubits.\n",
    "The experiment workflow is then run using the cloned qubits.\n",
    "\n",
    "Let's run the amplitude Rabi experiment workflow with a new set of qubits with modified parameters."
   ]
  },
  {
   "cell_type": "code",
   "execution_count": null,
   "id": "1b16a71c",
   "metadata": {},
   "outputs": [],
   "source": [
    "temp_qubits = qpu.copy_qubits()\n",
    "temp_qubits[0].parameters.ge_drive_length = 1000e-9  # 51ns in the original qubits\n",
    "\n",
    "result_unmodified = amplitude_rabi.experiment_workflow(\n",
    "    session,\n",
    "    qpu,\n",
    "    qubits[0],  # pass original qubits\n",
    "    np.linspace(0, 1, 21),\n",
    "    options=options,\n",
    ").run()\n",
    "\n",
    "result_modified = amplitude_rabi.experiment_workflow(\n",
    "    session,\n",
    "    qpu,\n",
    "    temp_qubits[0],  # pass temporary qubits\n",
    "    np.linspace(0, 1, 21),\n",
    "    options=options,\n",
    ").run()"
   ]
  },
  {
   "cell_type": "code",
   "execution_count": null,
   "id": "6abf4bb0",
   "metadata": {},
   "outputs": [],
   "source": [
    "# compare the two pulse sequences\n",
    "from laboneq.contrib.example_helpers.plotting.plot_helpers import plot_simulation\n",
    "\n",
    "plot_simulation(\n",
    "    result_unmodified.tasks[\"compile_experiment\"].output,\n",
    "    signal_names_to_show=[\"drive\"],\n",
    "    start_time=0,\n",
    "    length=5e-6,\n",
    ")"
   ]
  },
  {
   "cell_type": "code",
   "execution_count": null,
   "id": "eb678840",
   "metadata": {},
   "outputs": [],
   "source": [
    "plot_simulation(\n",
    "    result_modified.tasks[\"compile_experiment\"].output,\n",
    "    signal_names_to_show=[\"drive\", \"measure\"],\n",
    "    start_time=0,\n",
    "    length=5e-6,\n",
    ")"
   ]
  }
 ],
 "metadata": {
  "kernelspec": {
   "display_name": "Python 3 (ipykernel)",
   "language": "python",
   "name": "python3"
  },
  "language_info": {
   "codemirror_mode": {
    "name": "ipython",
    "version": 3
   },
   "file_extension": ".py",
   "mimetype": "text/x-python",
   "name": "python",
   "nbconvert_exporter": "python",
   "pygments_lexer": "ipython3",
   "version": "3.12.4"
  }
 },
 "nbformat": 4,
 "nbformat_minor": 5
}
