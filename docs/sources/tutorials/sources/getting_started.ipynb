{
 "cells": [
  {
   "cell_type": "markdown",
   "id": "1c020977-5b0f-4b76-806b-e8a8368cc6d3",
   "metadata": {},
   "source": [
    "# Getting Started - Defining your Experimental Setup\n",
    "\n",
    "This guide shows you how to create the object describing the experiment setup, which are needed for running the experiment workflows defined in the Applications Library."
   ]
  },
  {
   "cell_type": "markdown",
   "id": "ddbff956-347f-4aec-9d81-96759fcce242",
   "metadata": {},
   "source": [
    "### Reuse an existing DeviceSetup\n",
    "\n",
    "If you already have a `DeviceSetup` for your experimental setup, that's great! You can use that. The Applications Library works for any setup, as long as the qubit UIDs match the names of the logical signal groups defined in the `DeviceSetup`. See [Define qubits](#Define-qubits) below."
   ]
  },
  {
   "cell_type": "markdown",
   "id": "be77fc77-2be9-4f3a-809a-0a32a6f7bcf0",
   "metadata": {},
   "source": [
    "## Create a DeviceSetup\n",
    "\n",
    "You don't have `DeviceSetup`, start by creating one for your experimental setup. \n",
    "\n",
    "You have several options for defining your `DeviceSetup`: \n",
    "\n",
    "- Define your descriptor and setup by hand following the [Device Setup and Descriptor tutorial](https://docs.zhinst.com/labone_q_user_manual/core/functionality_and_concepts/00_device_setup/tutorials/00_device_setup.html) in the LabOne Q Core documentation.\n",
    "- Use the helper function `generate_descriptor` (comes with the `laboneq` package)\n",
    "- Use the helper function `generate_device_setup` (comes with the `laboneq` package)\n",
    "- Use the helper function `tunable_transmon_setup` (comes with the `laboneq-applications` package)\n",
    "\n",
    "These three helper functions are targeted for an experimental setup containing qubits. The functions `generate_descriptor` and `generate_device_setup` can be uses to generate a `DeviceSetup` with logical signal groups for `n` number of qubits and the instrument serial numbers that you have in your rack. `tunable_transmon_setup` is a convenient function to get a dummy, non-configurable `DeviceSetup` for `n` tunable-transmon qubits meant to be used in [emulation mode](https://docs.zhinst.com/labone_q_user_manual/core/functionality_and_concepts/01_session/concepts/00_session.html#emulation-mode) for quick prototyping.\n",
    "\n",
    "Below, we show how to use these helper functions to create a `DeviceSetup` containing an SHFQC+ instrument, an HDAWG instrument, and a PQSC instrument, which are used to operate 3 qubits, labelled `q0, q1, q2`."
   ]
  },
  {
   "cell_type": "markdown",
   "id": "3d096797-59dc-4aa7-9f2f-1520dd607693",
   "metadata": {},
   "source": [
    "### generate_descriptor"
   ]
  },
  {
   "cell_type": "markdown",
   "id": "48ef0272-aa46-4f0c-afed-b8063cd80d6a",
   "metadata": {},
   "source": [
    "The advantage of `generate_descriptor` is that it, by setting `get_zsync=True`, it automatically detects the zsync ports of the PQCS that to which the other instruments in this descriptor are connected. \n",
    "\n",
    "However, you can only specify the instrument serial numbers (DEVxxxx), and the instruments are created with default options."
   ]
  },
  {
   "cell_type": "code",
   "execution_count": null,
   "id": "46e8e9eb-83f0-4a56-9563-c402b57ebd87",
   "metadata": {},
   "outputs": [],
   "source": [
    "# Setting get_zsync=True automatically detects the zsync ports of the PQCS that\n",
    "# are used by the other instruments in this descriptor.\n",
    "# Here, we are not connected to instruments, so we set this flag to False.\n",
    "\n",
    "from laboneq.contrib.example_helpers.generate_descriptor import generate_descriptor\n",
    "from laboneq.simple import DeviceSetup\n",
    "\n",
    "descriptor = generate_descriptor(\n",
    "    pqsc=[\"DEV10001\"],\n",
    "    hdawg_8=[\"DEV8001\"],\n",
    "    shfqc_6=[\"DEV12001\"],\n",
    "    number_data_qubits=3,\n",
    "    number_flux_lines=3,\n",
    "    include_cr_lines=False,\n",
    "    multiplex=True,\n",
    "    number_multiplex=3,\n",
    "    get_zsync=False,\n",
    "    ip_address=\"localhost\",\n",
    ")\n",
    "setup = DeviceSetup.from_descriptor(descriptor, \"localhost\")"
   ]
  },
  {
   "cell_type": "markdown",
   "id": "7ad2feb5-edf0-4c53-a7aa-43b88dce4f92",
   "metadata": {},
   "source": [
    "The `setup` contains a logical signal group for each qubit labelled `q0, q1, q2`, and each of these qubit signal-line group contains the following signal lines: `drive_line`, `drive_line_ef`, `measure_line`, `acquire_line`, `flux_line`, as shown below."
   ]
  },
  {
   "cell_type": "code",
   "execution_count": null,
   "id": "423e2766-55a2-4d70-b3bb-41554945e97d",
   "metadata": {},
   "outputs": [],
   "source": [
    "qubit_signals = {\n",
    "    quid: list(lsg.logical_signals) for quid, lsg in setup.logical_signal_groups.items()\n",
    "}\n",
    "qubit_signals"
   ]
  },
  {
   "cell_type": "markdown",
   "id": "eb0b25ec-0a53-47e6-acb3-bdb9aa9074e5",
   "metadata": {},
   "source": [
    "### generate_device_setup"
   ]
  },
  {
   "cell_type": "markdown",
   "id": "38c1cd33-feb8-4788-9a93-2a7dd7eb7704",
   "metadata": {},
   "source": [
    "The advantage of `generate_device_setup` is that you have full control over how to configure your instruments in the `DeviceSetup`, by specifying any additional properties or options of the instruments. \n",
    "\n",
    "For an overview of the available device options and how to set them, see the [instrument options overview table](https://docs.zhinst.com/labone_q_user_manual/core/functionality_and_concepts/00_device_setup/concepts/02_instrument_options.html).\n",
    "\n",
    "Here, we do not configure any options. "
   ]
  },
  {
   "cell_type": "code",
   "execution_count": null,
   "id": "d62d4af0-ce90-4f85-a83f-d5701cc9059a",
   "metadata": {},
   "outputs": [],
   "source": [
    "from laboneq.contrib.example_helpers.generate_device_setup import (\n",
    "    generate_device_setup,\n",
    ")\n",
    "\n",
    "# specify the number of qubits you want to use\n",
    "number_of_qubits = 3\n",
    "\n",
    "# generate the device setup using a helper function\n",
    "setup = generate_device_setup(\n",
    "    number_qubits=number_of_qubits,\n",
    "    pqsc=[{\"serial\": \"DEV10001\"}],\n",
    "    hdawg=[\n",
    "        {\n",
    "            \"serial\": \"DEV8001\",\n",
    "            \"zsync\": 0,\n",
    "            \"number_of_channels\": 8,\n",
    "            \"options\": None,\n",
    "        }\n",
    "    ],\n",
    "    shfqc=[\n",
    "        {\n",
    "            \"serial\": \"DEV12001\",\n",
    "            \"zsync\": 1,\n",
    "            \"number_of_channels\": 6,\n",
    "            \"readout_multiplex\": 3,\n",
    "            \"options\": None,\n",
    "        }\n",
    "    ],\n",
    "    include_flux_lines=True,\n",
    "    multiplex_drive_lines=True,  # adds drive_ef\n",
    "    server_host=\"localhost\",\n",
    "    setup_name=\"my_setup\",\n",
    ")"
   ]
  },
  {
   "cell_type": "markdown",
   "id": "8f7e9773-9651-4a5d-a20e-b2dbfc949d94",
   "metadata": {},
   "source": [
    "The `setup` contains a logical signal group for each qubit labelled `q0, q1, q2`, and each of these qubit signal-line group contains the following signal lines: `drive_line`, `drive_line_ef`, `measure_line`, `acquire_line`, `flux_line`, as shown below."
   ]
  },
  {
   "cell_type": "code",
   "execution_count": null,
   "id": "97486024-3d8c-4638-a5de-ad9397afe4f2",
   "metadata": {},
   "outputs": [],
   "source": [
    "qubit_signals = {\n",
    "    quid: list(lsg.logical_signals) for quid, lsg in setup.logical_signal_groups.items()\n",
    "}\n",
    "qubit_signals"
   ]
  },
  {
   "cell_type": "markdown",
   "id": "b821616f-87e8-4222-b4ac-4d0c9d7072a7",
   "metadata": {},
   "source": [
    "### tunable_transmon_setup"
   ]
  },
  {
   "cell_type": "markdown",
   "id": "7f45dbcc-c6ec-4a1f-85bb-b3fd8fa04ebf",
   "metadata": {},
   "source": [
    "When you want to quickly prototype new experiments in [emulation mode](https://docs.zhinst.com/labone_q_user_manual/core/functionality_and_concepts/01_session/concepts/00_session.html#emulation-mode) and don't care about the exact details of the `DeviceSetup`, you can use the helper function `tunable_transmon_setup`. \n",
    "\n",
    "This function creates a dummy `DeviceSetup` containing an SHFQC+ instrument, an HDAWG instrument, and a PQSC instrument, which are used to operate `n_qubits` [tunable transmon qubits](https://docs.zhinst.com/labone_q_user_manual/applications_library/reference/qpu_types/tunable_transmon.html#laboneq_applications.qpu_types.tunable_transmon.TunableTransmonQubit), labelled `q0, q1, q2, ...` \n",
    "\n",
    "Let's use this function for `n_qubits=3`."
   ]
  },
  {
   "cell_type": "code",
   "execution_count": null,
   "id": "a5242be5-c272-4cfd-acff-fcf490421926",
   "metadata": {},
   "outputs": [],
   "source": [
    "from laboneq_applications.qpu_types.tunable_transmon.demo_qpus import (\n",
    "    tunable_transmon_setup,\n",
    ")\n",
    "\n",
    "setup = tunable_transmon_setup(n_qubits=3)"
   ]
  },
  {
   "cell_type": "markdown",
   "id": "e7796c46-d4d6-4779-8147-1e149ff70624",
   "metadata": {},
   "source": [
    "The `setup` contains a logical signal group for each qubit labelled with the qubit UID, and each of these qubit signal-line group contains the following signal lines: `drive`, `drive_ef`, `measure`, `acquire`, `flux`, as shown below."
   ]
  },
  {
   "cell_type": "code",
   "execution_count": null,
   "id": "0a4ae2a3-e87c-4ceb-9933-878501be9f70",
   "metadata": {},
   "outputs": [],
   "source": [
    "qubit_signals = {\n",
    "    quid: list(lsg.logical_signals) for quid, lsg in setup.logical_signal_groups.items()\n",
    "}\n",
    "qubit_signals"
   ]
  },
  {
   "cell_type": "markdown",
   "id": "03032d30-1a3f-49c1-bacf-5de589c1c464",
   "metadata": {},
   "source": [
    "### Inspect the qubit-instrument connectivity"
   ]
  },
  {
   "cell_type": "markdown",
   "id": "251d19fb-844a-4412-892b-8a1427850854",
   "metadata": {},
   "source": [
    "Use either of the three `DeviceSetups` defined above to inspect the connectivity between the instruments and the lines of the qubits:"
   ]
  },
  {
   "cell_type": "code",
   "execution_count": null,
   "id": "ebe2febc-ec44-437e-a215-c606ce855592",
   "metadata": {
    "scrolled": true
   },
   "outputs": [],
   "source": [
    "def get_physical_signal_name(quid, signal_name):\n",
    "    logical_signal = setup.logical_signal_groups[quid].logical_signals[signal_name]\n",
    "    return logical_signal.physical_channel.uid\n",
    "\n",
    "\n",
    "qubit_signals = {\n",
    "    quid: list(lsg.logical_signals) for quid, lsg in setup.logical_signal_groups.items()\n",
    "}\n",
    "connections = {\n",
    "    quid: {sig_name: get_physical_signal_name(quid, sig_name) for sig_name in signals}\n",
    "    for quid, signals in qubit_signals.items()\n",
    "}\n",
    "\n",
    "from pprint import pprint\n",
    "\n",
    "pprint(connections)  # noqa: T203"
   ]
  },
  {
   "cell_type": "markdown",
   "id": "420dd1d7-7a0c-4352-851e-8f0f62d2045b",
   "metadata": {},
   "source": [
    "We see that the three qubits are read out in parallel on the same quantum analyzer (QA) channel of the SHFQC instrument, and that their drive lines are controlled from individual signal generation (SG) channels of the SHFQC instrument. Finally, the flux lines of the qubits are controlled by individual HDAWG outputs. "
   ]
  },
  {
   "cell_type": "markdown",
   "id": "f5c7d8f3-0a66-4c3e-8eab-28516d2905cd",
   "metadata": {},
   "source": [
    "## Define qubits"
   ]
  },
  {
   "cell_type": "markdown",
   "id": "7d79f803-1b7d-4545-8b3a-f52d4466aef6",
   "metadata": {},
   "source": [
    "We will show how to create qubit instances from the logical signal groups of either of the three `DeviceSetups` defined above. Here, we use the `TunableTransmonQubit` class with corresponding `TunableTransmonQubitParameters`, but the procedure is the same for any other child class of LabOne Q `QuantumElements` class.\n",
    "\n",
    "<div class=\"alert alert-block alert-info\">\n",
    "<b>NOTE:</b> The qubit UIDs must match the names of the logical signal groups define in the `DeviceSetup` above, in this case `q0, q1, q2`.\n",
    "</div>"
   ]
  },
  {
   "cell_type": "code",
   "execution_count": null,
   "id": "93aaa109-f065-4889-aa8b-afd4954613aa",
   "metadata": {},
   "outputs": [],
   "source": [
    "from laboneq_applications.qpu_types.tunable_transmon import (\n",
    "    TunableTransmonQubit,\n",
    "    TunableTransmonQubitParameters,\n",
    ")\n",
    "\n",
    "qubits = []\n",
    "for i in range(3):\n",
    "    q = TunableTransmonQubit.from_logical_signal_group(\n",
    "        f\"q{i}\",\n",
    "        setup.logical_signal_groups[f\"q{i}\"],\n",
    "        parameters=TunableTransmonQubitParameters(),\n",
    "    )\n",
    "    qubits.append(q)"
   ]
  },
  {
   "cell_type": "markdown",
   "id": "2ec634b3-9c60-4fe9-b22c-8c1bbcb758c7",
   "metadata": {},
   "source": [
    "By using `TunableTransmonQubit.from_logical_signal_group`, the qubits are instantiated with the logical signals given by the signals contained in the logical signal group in the `DeviceSetup` that has the same name as the qubit UID. So for example, if the logical signal groups in your `DeviceSetup` contain the logical signals \"drive\", \"measure\", \"acquire\", then the qubits will also have these signals. \n",
    "\n",
    "Check that the qubits we've created have the signals you expect from the `DeviceSetup`:"
   ]
  },
  {
   "cell_type": "code",
   "execution_count": null,
   "id": "e427ec28-b55d-4699-b3c5-4db3f9d0bde5",
   "metadata": {},
   "outputs": [],
   "source": [
    "for q in qubits:\n",
    "    print(q.uid)\n",
    "    for sig, lsg in q.signals.items():\n",
    "        print(f\"\\t'{sig}:\\t'{lsg}'\")"
   ]
  },
  {
   "cell_type": "markdown",
   "id": "ab9dce30-fdfb-4534-9647-72687d55e592",
   "metadata": {},
   "source": [
    "The qubits are instantiated with identical default values of the `TunableTransmonQubitParameters` class. Let's see what the qubit parameters are:"
   ]
  },
  {
   "cell_type": "code",
   "execution_count": null,
   "id": "a0ef6806-850c-4c17-a047-0188a7904390",
   "metadata": {
    "scrolled": true
   },
   "outputs": [],
   "source": [
    "qubits[0].parameters"
   ]
  },
  {
   "cell_type": "markdown",
   "id": "8b153610-e198-4345-80e2-3e17b89a27fa",
   "metadata": {},
   "source": [
    "Check out the [tutorial on qubits and quantum operations](https://docs.zhinst.com/labone_q_user_manual/applications_library/tutorials/sources/quantum_operations.html) to learn more about these parameters and how they are used in the Applications Library together with quantum operations. \n",
    "\n",
    "Adjust the values of the qubit parameters to the ones for your quantum device. You can change the value of any of the parameters as shown below for the `drive_lo_frequency` parameter:"
   ]
  },
  {
   "cell_type": "code",
   "execution_count": null,
   "id": "48a0b3bc-975c-4815-a7d6-d69c0633a258",
   "metadata": {},
   "outputs": [],
   "source": [
    "qubits[0].parameters.drive_lo_frequency = 6e9"
   ]
  },
  {
   "cell_type": "markdown",
   "id": "7a250166-5778-4603-ba8d-53130df79bf4",
   "metadata": {},
   "source": [
    "If you already have the correct qubit parameters stored in an instance of `TunableTransmonQubitParameters` (for example, loaded from a file), you can directly pass them to the `parameters` argument of `TunableTransmonQubit.from_logical_signal_group`, and the qubits will be created with those parameters. "
   ]
  },
  {
   "cell_type": "markdown",
   "id": "9fa2bc76-5ae4-441a-b5bd-b6d315b7ed20",
   "metadata": {},
   "source": [
    "## Define quantum operations"
   ]
  },
  {
   "cell_type": "markdown",
   "id": "051f76dc-b6b5-489d-a11e-a8de1a315ff9",
   "metadata": {},
   "source": [
    "Next, we need to define the class of quantum operations implementing gates and operations on the qubits defined above. Here, we will use an instance of `TunableTransmonOperations` for the tunable transmons defined above."
   ]
  },
  {
   "cell_type": "code",
   "execution_count": null,
   "id": "9c223228-ad2f-4884-9c53-e03b165a7c1b",
   "metadata": {},
   "outputs": [],
   "source": [
    "from laboneq_applications.qpu_types.tunable_transmon import TunableTransmonOperations\n",
    "\n",
    "quantum_operations = TunableTransmonOperations()\n",
    "quantum_operations.keys()"
   ]
  },
  {
   "cell_type": "markdown",
   "id": "ac4caa7f-1f76-42cf-83cb-c0413977ed61",
   "metadata": {},
   "source": [
    "To learn more about quantum operations and how they are used to create quantum experiments from the qubit parameters, see [the tutorial on qubits and quantum operations](https://docs.zhinst.com/labone_q_user_manual/applications_library/tutorials/sources/quantum_operations.html)."
   ]
  },
  {
   "cell_type": "markdown",
   "id": "2242f53e-5fbf-4353-b9da-d1a92948321a",
   "metadata": {},
   "source": [
    "## Define the QPU"
   ]
  },
  {
   "cell_type": "markdown",
   "id": "897fbd2c-8167-44e2-b7fd-5d4304a9e4f6",
   "metadata": {},
   "source": [
    "Finally, we define the quantum processor (QPU) containing the qubits and the corresponding quantum operations.\n",
    "\n",
    "The `qpu` contains the source of ground truth for an experiment and the best state of knowledge of the quantum system that is being operated. This means that the parameters of the qubits and any other parameters of the QPU define the configuration used by all the experiments in the Applications Library. "
   ]
  },
  {
   "cell_type": "code",
   "execution_count": null,
   "id": "9d3cb144-0600-40dd-b931-3070faa824de",
   "metadata": {},
   "outputs": [],
   "source": [
    "from laboneq.dsl.quantum import QPU\n",
    "\n",
    "qpu = QPU(qubits=qubits, quantum_operations=quantum_operations)"
   ]
  },
  {
   "cell_type": "markdown",
   "id": "4601cc69-b384-4ffc-9ec0-bf9611259c0a",
   "metadata": {},
   "source": [
    "## Loading From a File\n",
    "\n",
    "The qubits and QPU can also be loaded back from `json` files saved by an experiment in the Applications Library. You just need the path to the file:\n",
    "\n",
    "```python\n",
    "from laboneq import serializers\n",
    "\n",
    "serializers.load(path_to_file)\n",
    "```"
   ]
  },
  {
   "cell_type": "markdown",
   "id": "e03f0a29-d684-4196-aa86-276c0e0bbe75",
   "metadata": {},
   "source": [
    "## Optional: define a QuantumPlatform"
   ]
  },
  {
   "cell_type": "markdown",
   "id": "d4977e5f-d598-415e-a9f2-6d8efa6f2df5",
   "metadata": {},
   "source": [
    "Optionally, you can collect the `setup` and the `qpu` in an instance of `QuantumPlatform`."
   ]
  },
  {
   "cell_type": "code",
   "execution_count": null,
   "id": "43c19a0d-536a-4272-b63c-b2904a659939",
   "metadata": {},
   "outputs": [],
   "source": [
    "from laboneq.dsl.quantum import QuantumPlatform\n",
    "\n",
    "qt_platform = QuantumPlatform(setup=setup, qpu=qpu)"
   ]
  },
  {
   "cell_type": "markdown",
   "id": "158fe4b3-ac1a-4424-b372-47556b5b5233",
   "metadata": {},
   "source": [
    "## Demo QuantumPlatform"
   ]
  },
  {
   "cell_type": "markdown",
   "id": "2edfa580-9bf2-46d3-8b3f-433a9b39c9e9",
   "metadata": {},
   "source": [
    "The [tunable_transmon_setup](#tunable_transmon_setup) and a `QPU` for `n` tunable transmon qubits defined above can also be more conveniently obtained by instantiating a demo quantum platform provided by the Application Library. This demo platform is useful for quick prototyping in emulation mode. "
   ]
  },
  {
   "cell_type": "code",
   "execution_count": null,
   "id": "bdbe8d04-ddc6-49f6-92b3-7ec6b386b64b",
   "metadata": {},
   "outputs": [],
   "source": [
    "from laboneq_applications.qpu_types.tunable_transmon.demo_qpus import demo_platform\n",
    "\n",
    "demo_qt_platform = demo_platform(n_qubits=3)"
   ]
  },
  {
   "cell_type": "code",
   "execution_count": null,
   "id": "d5ff26d1-925c-480e-b718-c6fdc25643e4",
   "metadata": {},
   "outputs": [],
   "source": [
    "log_sig_groups = demo_qt_platform.setup.logical_signal_groups\n",
    "qubit_signals = {\n",
    "    quid: list(lsg.logical_signals) for quid, lsg in log_sig_groups.items()\n",
    "}\n",
    "qubit_signals"
   ]
  },
  {
   "cell_type": "code",
   "execution_count": null,
   "id": "7ecc15be-14e6-4e74-b5de-fe2c414e7afe",
   "metadata": {
    "scrolled": true
   },
   "outputs": [],
   "source": [
    "demo_qt_platform.qpu.qubits[0].parameters"
   ]
  },
  {
   "cell_type": "code",
   "execution_count": null,
   "id": "771adfd5-d818-4a2f-9985-c586adcaecf9",
   "metadata": {},
   "outputs": [],
   "source": [
    "demo_qt_platform.qpu.quantum_operations.keys()"
   ]
  },
  {
   "cell_type": "markdown",
   "id": "108f437a-c98e-4d62-a249-d7a4b9e4c539",
   "metadata": {},
   "source": [
    "## Connect to Session"
   ]
  },
  {
   "cell_type": "markdown",
   "id": "aa1ff8fd-e7ac-46b1-8339-a596b1ad9be7",
   "metadata": {},
   "source": [
    "Now let's connect to a LabOne Q `Session`. Here, we connect in emulation mode. When running on real hardware, connect using `do_emulation=False`."
   ]
  },
  {
   "cell_type": "code",
   "execution_count": null,
   "id": "b1d4c9d4-9c0f-4079-9601-052bc2361b52",
   "metadata": {},
   "outputs": [],
   "source": [
    "from laboneq.simple import Session\n",
    "\n",
    "session = Session(setup)\n",
    "session.connect(do_emulation=True)"
   ]
  },
  {
   "cell_type": "markdown",
   "id": "fb926415-4b8a-405b-8b2f-894269fc8279",
   "metadata": {},
   "source": [
    "Great! You have created everything you need to get started with the measurements. Now, on to experiments!"
   ]
  }
 ],
 "metadata": {
  "kernelspec": {
   "display_name": "Python 3 (ipykernel)",
   "language": "python",
   "name": "python3"
  },
  "language_info": {
   "codemirror_mode": {
    "name": "ipython",
    "version": 3
   },
   "file_extension": ".py",
   "mimetype": "text/x-python",
   "name": "python",
   "nbconvert_exporter": "python",
   "pygments_lexer": "ipython3",
   "version": "3.12.7"
  }
 },
 "nbformat": 4,
 "nbformat_minor": 5
}
