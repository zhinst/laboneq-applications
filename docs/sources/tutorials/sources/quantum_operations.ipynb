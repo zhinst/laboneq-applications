{
 "cells": [
  {
   "cell_type": "markdown",
   "id": "d15d4ecd",
   "metadata": {},
   "source": [
    "# Quantum Operations"
   ]
  },
  {
   "cell_type": "markdown",
   "id": "ddad75a6",
   "metadata": {},
   "source": [
    "Each set of quantum operations defines operations for a particular type of qubit.\n",
    "At the moment the library only provides operations for tunable transmon qubits.\n",
    "We'll introduce you to these operations and show you how to add to or modify them.\n",
    "You can also create your own kind of qubit and quantum operations for them but that\n",
    "will not be covered in this tutorial.\n",
    "\n",
    "Let's get started."
   ]
  },
  {
   "cell_type": "markdown",
   "id": "60792fb3",
   "metadata": {},
   "source": [
    "## Setting up a device and session\n",
    "\n",
    "Build your LabOne Q `DeviceSetup`, qubits and `Session` as normal. Here we import an example from the applications library's test suite (this will change in the near future):"
   ]
  },
  {
   "cell_type": "code",
   "execution_count": null,
   "id": "cc4aa502",
   "metadata": {},
   "outputs": [],
   "source": [
    "from laboneq.simple import *\n",
    "\n",
    "from laboneq_applications.qpu_types.tunable_transmon import demo_platform"
   ]
  },
  {
   "cell_type": "code",
   "execution_count": null,
   "id": "dc19f7b9",
   "metadata": {},
   "outputs": [],
   "source": [
    "# Create a demonstration QuantumPlatform for a tunable-transmon QPU:\n",
    "qt_platform = demo_platform(n_qubits=6)\n",
    "\n",
    "# The platform contains a setup, which is an ordinary LabOne Q DeviceSetup:\n",
    "setup = qt_platform.setup\n",
    "\n",
    "# And a tunable-transmon QPU:\n",
    "qpu = qt_platform.qpu\n",
    "\n",
    "# Inside the QPU, we have qubits, which is a list of six LabOne Q Application\n",
    "# Library TunableTransmonQubit qubits:\n",
    "qubits = qpu.qubits"
   ]
  },
  {
   "cell_type": "code",
   "execution_count": null,
   "id": "87140c58",
   "metadata": {},
   "outputs": [],
   "source": [
    "session = Session(setup)\n",
    "session.connect(do_emulation=True)"
   ]
  },
  {
   "cell_type": "markdown",
   "id": "aeaa0d99",
   "metadata": {},
   "source": [
    "## Qubits and qubit parameters"
   ]
  },
  {
   "cell_type": "markdown",
   "id": "df08ae32",
   "metadata": {},
   "source": [
    "Inspect the qubit parameters"
   ]
  },
  {
   "cell_type": "code",
   "execution_count": null,
   "id": "bf1b278b",
   "metadata": {},
   "outputs": [],
   "source": [
    "print(qubits[0].parameters)"
   ]
  },
  {
   "cell_type": "markdown",
   "id": "813d089d",
   "metadata": {},
   "source": [
    "The following qubit parameters are used by the Applications Library:\n",
    "\n",
    "* Parameters with the prefixes `ge_drive_`/`ef_drive_` are used to configure the parameters for implementing a pi-pulse on the ge and ef transitions.\n",
    "* Parameters with the prefix `readout_` are used to configure the parameters of the readout pulse.\n",
    "* Parameters with the prefix `readout_integration_` are used to configure the parameters of the integration kernels. Setting the parameter `readout_integration_kernels=default` indicates that a constant square pulse with the length given by `readout_integration_length` will be used for the integration (created in `qubit.default_integration_kernels()`). The parameter `readout_integration_kernels` can also be set to a list of pulse dictionaries of the form `{\"function\": pulse_functional_name, \"func_par1\": value, \"func_par2\": value, ... }`. `pulse_functional_name` must be the name of a function registered with the `pulse_library.register_pulse_functional` [decorator](https://docs.zhinst.com/labone_q_user_manual/tutorials/reference/04_pulse_library/).\n",
    "* `reset_delay_length`: the waiting time for passive qubit reset.\n",
    "* `resonance_frequency_ge`, `resonance_frequency_ef` ' `drive_lo_frequency`, `readout_resonator_frequency`, `readout_lo_frequency`, `drive_range`, `readout_range_out`, `readout_range_in` are used to configure the qubit calibration which then ends up in the `Experiment` calibration.\n",
    "\n",
    "The remaining qubit parameters are still there for legacy reasons and have no effect. These will be cleaned up soon."
   ]
  },
  {
   "cell_type": "markdown",
   "id": "12762990",
   "metadata": {},
   "source": [
    "## Quantum Operations\n",
    "\n",
    "Quantum operations provide a means for writing DSL at a higher level of abstraction than in base LabOne Q. When writing LabOne Q DSL one works with operations on signal lines. When writing DSL with quantum operations, one works with operations on *qubits*.\n",
    "\n",
    "**Note**:\n",
    "\n",
    "The experiments built using quantum operations are just ordinary LabOne Q experiments. It's how the experiments are described that differs. One also uses LabOne Q DSL to *define* quantum operations and one can combine quantum operations with ordinary LabOne Q DSL, because they are producing the same DSL."
   ]
  },
  {
   "cell_type": "markdown",
   "id": "1094547f",
   "metadata": {},
   "source": [
    "### Building a first experiment pulse sequence\n",
    "\n",
    "Let's build our first experiment pulse sequence using quantum operations. The experiment pulse sequence is described by the LabOne Q `Experiment` object.\n",
    "\n",
    "We'll need to import some things are the start. We'll explain what each of them is as we go:"
   ]
  },
  {
   "cell_type": "code",
   "execution_count": null,
   "id": "61033954",
   "metadata": {},
   "outputs": [],
   "source": [
    "import numpy as np\n",
    "\n",
    "from laboneq_applications import dsl\n",
    "from laboneq_applications.qpu_types.tunable_transmon import (\n",
    "    TunableTransmonOperations,\n",
    ")"
   ]
  },
  {
   "cell_type": "markdown",
   "id": "0a6bfe7a",
   "metadata": {},
   "source": [
    "Let's start with a tiny experiment sequence that rotates a qubit a given angle about the x-axis and performs a measurement:"
   ]
  },
  {
   "cell_type": "code",
   "execution_count": null,
   "id": "216a1c52",
   "metadata": {},
   "outputs": [],
   "source": [
    "@dsl.qubit_experiment\n",
    "def rotate_and_measure(qop, q, angle, count=10):\n",
    "    \"\"\"Rotate q by the given angle and measure it.\"\"\"\n",
    "    with dsl.acquire_loop_rt(count=count):\n",
    "        qop.rx(q, angle)\n",
    "        qop.measure(q, \"measure_q\")"
   ]
  },
  {
   "cell_type": "markdown",
   "id": "e1ac90db",
   "metadata": {},
   "source": [
    "and break down the code line by line:\n",
    "\n",
    "* `@dsl.qubit_experiment`: This decorator creates a new experiment object and makes it accessible inside the `rotate_and_measure` function. It also finds the qubits in the function arguments (i.e. `q`) and sets the experiment calibration using them.\n",
    "\n",
    "* `def rotate_and_measure(qop, q, angle, count=10):`: These are ordinary function arguments, except for the detection of the qubit objects just mentioned. The `qop` argument supplies the set of quantum operations to use. The same function can be used to build an experiment for any qubit platform that provides the same operations.\n",
    "\n",
    "* `with dsl.acquire_loop_rt(count=count)`: This is just the `acquire_loop_rt` function from `laboneq.dsl.experiments.builtins`. The `laboneq_applications.dsl` module is just a convenient way to access the LabOne Q DSL functionality.\n",
    "\n",
    "* `qop.rx(q, angle)`: Here `qop` is a set of quantum operations. The `rx` operation creates a pulse that rotates the qubit by the given angle (in radians) by linearly scaling the pulse amplitude with respect to the qubit pi-pulse amplitude stored in `qubit.parameters.drive_parameters_ge.amplitdue_pi`. The pulse type is specified in `qubit.parameters.drive_parameters_ge.pulse.function` and it uses the length in `qubit.parameters.drive_parameters_ge.length`.\n",
    "   * To implement a pi-pulse and a pi-half pulse, we provide the operations `qop.x180`, `qop.y180`, `qop.x90`, `qop.y90`, which use the pulse amplitdues values in `qubit.parameters.drive_parameters_ge.amplitdue_pi` and `qubit.parameters.drive_parameters_ge.amplitdue_pi2`, respectively,\n",
    "\n",
    "* `qop.measure(q, \"measure_q\")`: Performs a measurement on the qubit, using the readout pulse and kernels specified by the qubit parameters `qubit.parameters.readout_parameters` and `qubit.parameters.readout_integration_parameters`. `\"measure_q\"` is the handle to store the results under."
   ]
  },
  {
   "cell_type": "markdown",
   "id": "14b00465",
   "metadata": {},
   "source": [
    "To build the experiment we need some qubits and a set of quantum operations. Let's use the `TunableTransmonOperations` provided by the applications library and the qubit we defined earlier:"
   ]
  },
  {
   "cell_type": "code",
   "execution_count": null,
   "id": "33d79583",
   "metadata": {},
   "outputs": [],
   "source": [
    "qop = TunableTransmonOperations()\n",
    "q0 = qubits[0]\n",
    "\n",
    "exp = rotate_and_measure(qop, q0, np.pi / 2, count=10)"
   ]
  },
  {
   "cell_type": "markdown",
   "id": "f8b4847f",
   "metadata": {},
   "source": [
    "Here `exp` is just an ordinary LabOne Q experiment:"
   ]
  },
  {
   "cell_type": "code",
   "execution_count": null,
   "id": "c8637ab2",
   "metadata": {},
   "outputs": [],
   "source": [
    "print(exp)"
   ]
  },
  {
   "cell_type": "markdown",
   "id": "e54f3646",
   "metadata": {},
   "source": [
    "Have a look through the generated experiment and check that:\n",
    "\n",
    "* the experiment signals are those for the qubit.\n",
    "* the qubit calibration has been set.\n",
    "* the experiment sections are those you expect."
   ]
  },
  {
   "cell_type": "markdown",
   "id": "6d5f0d7f",
   "metadata": {},
   "source": [
    "### Examining the set of operations\n",
    "\n",
    "So far we've treated the quantum operations as a black box. Now let's look inside. We can start by listing the quantum operations:"
   ]
  },
  {
   "cell_type": "code",
   "execution_count": null,
   "id": "1938f7a1",
   "metadata": {},
   "outputs": [],
   "source": [
    "qop.keys()"
   ]
  },
  {
   "cell_type": "markdown",
   "id": "442099b6",
   "metadata": {},
   "source": [
    "The quantum operations have an attribute `QUBIT_TYPES` which specifies the type of qubits support by the quantum operations object we've created. In our case, that's the `TunableTransmonQubit`:"
   ]
  },
  {
   "cell_type": "code",
   "execution_count": null,
   "id": "0013855c",
   "metadata": {},
   "outputs": [],
   "source": [
    "qop.QUBIT_TYPES"
   ]
  },
  {
   "cell_type": "markdown",
   "id": "1b79bc3c",
   "metadata": {},
   "source": [
    "Under the hood there is a `BASE_OPS` attribute. This is an implementation detail -- it contains the original definitions of the quantum operations. We will ignore it for now except to mention that individual quantum operations can be overridden with alternative implementations if required.\n",
    "\n",
    "Let's take a look at one of the quantum operations."
   ]
  },
  {
   "cell_type": "markdown",
   "id": "000a6b78",
   "metadata": {},
   "source": [
    "### Working with a quantum operation"
   ]
  },
  {
   "cell_type": "code",
   "execution_count": null,
   "id": "368efc34",
   "metadata": {},
   "outputs": [],
   "source": [
    "qop.rx?"
   ]
  },
  {
   "cell_type": "code",
   "execution_count": null,
   "id": "261feac2",
   "metadata": {},
   "outputs": [],
   "source": [
    "qop.rx.src"
   ]
  },
  {
   "cell_type": "markdown",
   "id": "63f6074e",
   "metadata": {},
   "source": [
    "One can write:\n",
    "\n",
    "* `qop.rx?` to view the documentation as usual, or\n",
    "* `qop.rx.src` to easily see how a quantum operation is implemented.\n",
    "\n",
    "Take a moment to read the documentation of a few of the other operations and their source, for example:"
   ]
  },
  {
   "cell_type": "code",
   "execution_count": null,
   "id": "836e5ced",
   "metadata": {},
   "outputs": [],
   "source": [
    "qop.x180.src"
   ]
  },
  {
   "cell_type": "code",
   "execution_count": null,
   "id": "ee100ffc",
   "metadata": {},
   "outputs": [],
   "source": [
    "qop.x90.src"
   ]
  },
  {
   "cell_type": "markdown",
   "id": "feaa70e2",
   "metadata": {},
   "source": [
    "Calling a quantum operation by itself produces a LabOne Q section:"
   ]
  },
  {
   "cell_type": "code",
   "execution_count": null,
   "id": "1367d5de",
   "metadata": {},
   "outputs": [],
   "source": [
    "section = qop.rx(qubits[0], np.pi)\n",
    "print(section)"
   ]
  },
  {
   "cell_type": "markdown",
   "id": "1dcfacf6",
   "metadata": {},
   "source": [
    "Some things to note about the section:\n",
    "\n",
    "* The section name is the name of the quantum operation, followed by the UIDs of the qubits it is applied to.\n",
    "* The section UID is automatically generated from the name.\n",
    "* The section starts by reserving all the signal lines of the qubit it operates on so that operations acting on the same qubits never overlap."
   ]
  },
  {
   "cell_type": "markdown",
   "id": "aefdaaca",
   "metadata": {},
   "source": [
    "In addition to `.src` each quantum operation also has two special attributes:\n",
    "\n",
    "* `.op`: This returns the function that implements the quantum operation.\n",
    "* `.omit_section(...)`: This method builds the quantum operation but without a containing section. This is useful if one wants to define a quantum operation in terms of another, but not have deeply nested sections.\n",
    "\n",
    "Let's look at `.op` now. We'll use `.omit_section` once we've seen how to write our own operations."
   ]
  },
  {
   "cell_type": "code",
   "execution_count": null,
   "id": "d8d57a5c",
   "metadata": {},
   "outputs": [],
   "source": [
    "qop.rx.op"
   ]
  },
  {
   "cell_type": "markdown",
   "id": "36d039c4",
   "metadata": {},
   "source": [
    "### Writing a quantum operation\n",
    "\n",
    "Often you'll want to write your own quantum operation, either to create a new operation or to replace an existing one.\n",
    "\n",
    "Let's write our own very simple implementation of an `rx` operation that varies the pulse length instead of the amplitude:"
   ]
  },
  {
   "cell_type": "code",
   "execution_count": null,
   "id": "46e32f15",
   "metadata": {},
   "outputs": [],
   "source": [
    "@qop.register\n",
    "def simple_rx(self, q, angle):\n",
    "    \"\"\"A very simple implementation of an RX operation that varies pulse length.\"\"\"\n",
    "    # Determined via rigorously calibration ;) :\n",
    "    amplitude = 0.6\n",
    "    length_for_pi = 50e-9\n",
    "    # Calculate the length of the pulse\n",
    "    length = length_for_pi * (angle / np.pi)\n",
    "    dsl.play(\n",
    "        q.signals[\"drive\"],\n",
    "        amplitude=amplitude,\n",
    "        phase=0.0,\n",
    "        length=length,\n",
    "        pulse=dsl.pulse_library.const(),\n",
    "    )"
   ]
  },
  {
   "cell_type": "markdown",
   "id": "6c042efa",
   "metadata": {},
   "source": [
    "Applying the decorator `qop.register` wraps our function `simple_rx` in a quantum operation and registers it with our current set of operations, `qop`.\n",
    "\n",
    "We can confirm that it's registered by checking that its in our set of operations, or by looking it up as an attribute or element of our operations:"
   ]
  },
  {
   "cell_type": "code",
   "execution_count": null,
   "id": "b0f7a145",
   "metadata": {},
   "outputs": [],
   "source": [
    "\"simple_rx\" in qop"
   ]
  },
  {
   "cell_type": "code",
   "execution_count": null,
   "id": "4bc4ef3b",
   "metadata": {},
   "outputs": [],
   "source": [
    "qop.simple_rx"
   ]
  },
  {
   "cell_type": "code",
   "execution_count": null,
   "id": "29f2b683",
   "metadata": {},
   "outputs": [],
   "source": [
    "qop[\"simple_rx\"]"
   ]
  },
  {
   "cell_type": "markdown",
   "id": "884ae477",
   "metadata": {},
   "source": [
    "If an operation with the same name already exists it will be replaced.\n",
    "\n",
    "Let's run our new operations and examine the section it produces:"
   ]
  },
  {
   "cell_type": "code",
   "execution_count": null,
   "id": "6b7aa835",
   "metadata": {},
   "outputs": [],
   "source": [
    "section = qop.simple_rx(qubits[0], np.pi)\n",
    "print(section)"
   ]
  },
  {
   "cell_type": "markdown",
   "id": "ff22b48c",
   "metadata": {},
   "source": [
    "We can also create aliases for existing quantum operations that are already registered by assigning additional names for them:"
   ]
  },
  {
   "cell_type": "code",
   "execution_count": null,
   "id": "ff319f66",
   "metadata": {},
   "outputs": [],
   "source": [
    "qop[\"rx_length\"] = qop.simple_rx"
   ]
  },
  {
   "cell_type": "code",
   "execution_count": null,
   "id": "87861f2f",
   "metadata": {},
   "outputs": [],
   "source": [
    "\"rx_length\" in qop"
   ]
  },
  {
   "cell_type": "markdown",
   "id": "da25d61b",
   "metadata": {},
   "source": [
    "### Using omit_section\n",
    "\n",
    "Let's imagine that we'd like to write an `x90_length` operation that calls our new `rx_length` but always specifies an angle of $\\frac{\\pi}{2}$. We can write this as:"
   ]
  },
  {
   "cell_type": "code",
   "execution_count": null,
   "id": "d8130ed4",
   "metadata": {},
   "outputs": [],
   "source": [
    "@qop.register\n",
    "def x90_length(self, q):\n",
    "    return self.rx_length(q, np.pi / 2)"
   ]
  },
  {
   "cell_type": "markdown",
   "id": "a3a67c13",
   "metadata": {},
   "source": [
    "However, when we call this we will have deeply nested sections and many signal lines reserved. This obscures the structure of our experiment:"
   ]
  },
  {
   "cell_type": "code",
   "execution_count": null,
   "id": "46e88a8b",
   "metadata": {},
   "outputs": [],
   "source": [
    "section = qop.x90_length(qubits[0])\n",
    "print(section)"
   ]
  },
  {
   "cell_type": "markdown",
   "id": "cfd9c830",
   "metadata": {},
   "source": [
    "We can remove the extra section and signal reservations by call our inner operation using `.omit_section` instead:"
   ]
  },
  {
   "cell_type": "code",
   "execution_count": null,
   "id": "5b01508c",
   "metadata": {},
   "outputs": [],
   "source": [
    "@qop.register\n",
    "def x90_length(self, q):\n",
    "    return self.rx_length.omit_section(q, np.pi / 2)"
   ]
  },
  {
   "cell_type": "markdown",
   "id": "35619c06",
   "metadata": {},
   "source": [
    "Note how much simpler the section structure looks now:"
   ]
  },
  {
   "cell_type": "code",
   "execution_count": null,
   "id": "f529b678",
   "metadata": {},
   "outputs": [],
   "source": [
    "section = qop.x90_length(qubits[0])\n",
    "print(section)"
   ]
  },
  {
   "cell_type": "markdown",
   "id": "92c11cc0",
   "metadata": {},
   "source": [
    "### Replacing a quantum operation\n",
    "\n",
    "To end off our look at quantum operations, let's replace the original `rx` gate with our own one and then use our existing experiment definition to produce a new experiment with the operation we've just written."
   ]
  },
  {
   "cell_type": "code",
   "execution_count": null,
   "id": "809c2f40",
   "metadata": {},
   "outputs": [],
   "source": [
    "qop[\"rx\"] = qop.simple_rx  # replace the rx gate\n",
    "exp = rotate_and_measure(qop, qubits[0], np.pi / 2)\n",
    "print(exp)"
   ]
  },
  {
   "cell_type": "markdown",
   "id": "46287a1b",
   "metadata": {},
   "source": [
    "Confirm that the generated experiment contains the new implementation of the RX gate."
   ]
  },
  {
   "cell_type": "markdown",
   "id": "10ed8c18",
   "metadata": {},
   "source": [
    "### Setting section attributes\n",
    "\n",
    "Sometimes an operation will need to set special section attributes such as `on_system_grid`.\n",
    "\n",
    "This can be done by retrieving the current section and directly manipulating it.\n",
    "\n",
    "To demonstrate, we'll create an operation whose section is required to be on the system grid:"
   ]
  },
  {
   "cell_type": "code",
   "execution_count": null,
   "id": "0fc4cba4",
   "metadata": {},
   "outputs": [],
   "source": [
    "@qop.register\n",
    "def op_on_system_grid(self, q):\n",
    "    section = dsl.active_section()\n",
    "    section.on_system_grid = True\n",
    "    # ... play pulses, etc."
   ]
  },
  {
   "cell_type": "markdown",
   "id": "c53a9992",
   "metadata": {},
   "source": [
    "And then call it to confirm that the section has indeed been set to be on the grid:"
   ]
  },
  {
   "cell_type": "code",
   "execution_count": null,
   "id": "6c15749a",
   "metadata": {},
   "outputs": [],
   "source": [
    "section = qop.op_on_system_grid(qubits[0])\n",
    "section.on_system_grid"
   ]
  },
  {
   "cell_type": "markdown",
   "id": "118b54a6",
   "metadata": {},
   "source": [
    "### Accessing experiment calibration\n",
    "\n",
    "When a qubit experiment is created by the library its calibration is initialized from the qubits it operates on. Typically oscillator frequencies and other signal calibration are set.\n",
    "\n",
    "Sometimes it may be useful for quantum operations to access or manipulate this configuration using `experiment_calibration` which returns the calibration set for the current experiment.\n",
    "\n",
    "**Note**:\n",
    "\n",
    "* The experiment calibration is only accessible if there is an experiment, so quantum operations that call `experiment_calibration` can only be called inside an experiment and will raise an exception otherwise.\n",
    "\n",
    "* There is only a single experiment calibration per experiment, so if multiple quantum operations modify the same calibration items, only the last modification will be retained.\n",
    "\n",
    "Here is how we define a quantum operation that accesses the calibration:"
   ]
  },
  {
   "cell_type": "code",
   "execution_count": null,
   "id": "3cd7fa3f",
   "metadata": {},
   "outputs": [],
   "source": [
    "@qop.register\n",
    "def op_that_examines_signal_calibration(self, q):\n",
    "    calibration = dsl.experiment_calibration()\n",
    "    signal_calibration = calibration[q.signals[\"drive\"]]\n",
    "    # ... examine or set calibration, play pulses, etc, e.g.:\n",
    "    signal_calibration.oscillator.frequency = 0.2121e9"
   ]
  },
  {
   "cell_type": "markdown",
   "id": "bd0900c6",
   "metadata": {},
   "source": [
    "To use it we will have to build an experiment. For now, just ignore the pieces we haven't covered. Writing a complete experiment will be covered shortly:"
   ]
  },
  {
   "cell_type": "code",
   "execution_count": null,
   "id": "035b2185",
   "metadata": {},
   "outputs": [],
   "source": [
    "@dsl.qubit_experiment\n",
    "def exp_for_checking_op(qop, q):\n",
    "    \"\"\"Simple experiment to test the operation we've just written.\"\"\"\n",
    "    with dsl.acquire_loop_rt(count=1):\n",
    "        qop.op_that_examines_signal_calibration(q)\n",
    "\n",
    "\n",
    "exp = exp_for_checking_op(qop, qubits[0])\n",
    "exp.get_calibration().calibration_items[\"/logical_signal_groups/q0/drive\"]"
   ]
  },
  {
   "cell_type": "markdown",
   "id": "f55138cd",
   "metadata": {},
   "source": [
    "Note above that the oscillator frequency has been set to the value we specified, `0.2121e9` Hz."
   ]
  }
 ],
 "metadata": {
  "kernelspec": {
   "display_name": "Python 3 (ipykernel)",
   "language": "python",
   "name": "python3"
  },
  "language_info": {
   "codemirror_mode": {
    "name": "ipython",
    "version": 3
   },
   "file_extension": ".py",
   "mimetype": "text/x-python",
   "name": "python",
   "nbconvert_exporter": "python",
   "pygments_lexer": "ipython3",
   "version": "3.11.9"
  }
 },
 "nbformat": 4,
 "nbformat_minor": 5
}
