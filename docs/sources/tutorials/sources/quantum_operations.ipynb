{
 "cells": [
  {
   "cell_type": "markdown",
   "id": "d15d4ecd",
   "metadata": {},
   "source": [
    "## Qubits and Quantum Operations"
   ]
  },
  {
   "cell_type": "markdown",
   "id": "ddad75a6",
   "metadata": {},
   "source": [
    "Quantum Operations are collections of [Sections and pulses](https://docs.zhinst.com/labone_q_user_manual/core/functionality_and_concepts/03_sections_pulses_and_quantum_operations/concepts/index.html) implementing common operations on qubits. To learn more about how quantum operations work in LabOne Q, check out [this page](https://docs.zhinst.com/labone_q_user_manual/core/functionality_and_concepts/03_sections_pulses_and_quantum_operations/concepts/08_quantum_operations.html) in our manual.\n",
    "\n",
    "Each set of quantum operations defines operations for a particular type of qubit, with the possibility to extend the set to accept more qbuit types. At the moment the library only provides [TunableTransmonOperations](https://docs.zhinst.com/labone_q_user_manual/applications_library/reference/qpu_types/tunable_transmon.html#laboneq_applications.qpu_types.tunable_transmon.TunableTransmonOperations) for [TunableTransmonQubits](https://docs.zhinst.com/labone_q_user_manual/applications_library/reference/qpu_types/tunable_transmon.html#laboneq_applications.qpu_types.tunable_transmon.TunableTransmonQubit). \n",
    "\n",
    "In this tutorial, we'll introduce you to these qubits and their corresponding operations and explain how the operations use the information from the qubit parameters to create [Sections of pulses](https://docs.zhinst.com/labone_q_user_manual/core/functionality_and_concepts/03_sections_pulses_and_quantum_operations/concepts/index.html). To learn how to write your own quantum operations, check [this tutorial](https://docs.zhinst.com/labone_q_user_manual/core/functionality_and_concepts/03_sections_pulses_and_quantum_operations/tutorials/03_quantum_operations.html).\n",
    "\n",
    "Let's get started."
   ]
  },
  {
   "cell_type": "markdown",
   "id": "60792fb3",
   "metadata": {},
   "source": [
    "### QPU and Device Setup\n",
    "\n",
    "We generate a pre-configured, demo `QuantumPlatform` containing three tunable-transmon qubits with pre-defined parameters, and a `Device_Setup` consisting of a SHFQC+, HDAWG, and PQSC. \n",
    "\n",
    "This quantum platform is meant to be used for tests in emulation mode. To learn how to get started with a real setup, check out the [Getting Started tutorial](https://docs.zhinst.com/labone_q_user_manual/applications_library/tutorials/sources/getting_started.html). This tutorial also provides more details about the demo `QuantumPlatform` we are using here."
   ]
  },
  {
   "cell_type": "code",
   "execution_count": null,
   "id": "cc4aa502",
   "metadata": {},
   "outputs": [],
   "source": [
    "import numpy as np\n",
    "from laboneq.simple import *\n",
    "\n",
    "from laboneq_applications.qpu_types.tunable_transmon import demo_platform"
   ]
  },
  {
   "cell_type": "code",
   "execution_count": null,
   "id": "dc19f7b9",
   "metadata": {},
   "outputs": [],
   "source": [
    "# Create a demonstration QuantumPlatform for a tunable-transmon QPU:\n",
    "qt_platform = demo_platform(n_qubits=6)\n",
    "\n",
    "# The platform contains a setup, which is an ordinary LabOne Q DeviceSetup:\n",
    "setup = qt_platform.setup\n",
    "\n",
    "# And a tunable-transmon QPU:\n",
    "qpu = qt_platform.qpu\n",
    "\n",
    "# Inside the QPU, we have qubits, which is a list of six LabOne Q Application\n",
    "# Library TunableTransmonQubit qubits:\n",
    "qubits = qpu.qubits"
   ]
  },
  {
   "cell_type": "code",
   "execution_count": null,
   "id": "87140c58",
   "metadata": {},
   "outputs": [],
   "source": [
    "session = Session(setup)\n",
    "session.connect(do_emulation=True)"
   ]
  },
  {
   "cell_type": "markdown",
   "id": "615661ba-2a04-41e8-b8ea-2eb0320ba0c3",
   "metadata": {},
   "source": [
    "### TunableTransmonQubitParameters\n",
    "\n",
    "Let's start by inspecting the parameters of the qubits. These are used by the `TunableTransmonOperations` as we will explain in the [next section](#TunableTransmonOperations).\n",
    "\n",
    "We use the first qubit in the list, but you can do the same for any of the other qubits."
   ]
  },
  {
   "cell_type": "code",
   "execution_count": null,
   "id": "bf1b278b",
   "metadata": {
    "scrolled": true
   },
   "outputs": [],
   "source": [
    "qubits[0].parameters"
   ]
  },
  {
   "cell_type": "markdown",
   "id": "44fc8a11-865a-48b4-a97e-b6146ac511f5",
   "metadata": {},
   "source": [
    "Let's break down this list of parameters and understand their utility:\n",
    "\n",
    "* Parameters with the prefixes `ge_drive_`/`ef_drive_` are used to configure the parameters of a pi-pulse on the ge and ef transitions.\n",
    "\n",
    "* Parameters with the prefixe `spectroscopy_` are used to configure the parameters of a spectroscopy pulse played in a pulsed qubit spectroscopy experiment. \n",
    "  \n",
    "* Parameters with the prefix `readout_` are used to configure the parameters of the readout pulse.\n",
    "\n",
    "* Parameters with the prefix `readout_integration_` are used to configure the parameters of the integration kernels. Setting the parameter `readout_integration_kernels=default` indicates that a constant square pulse with the length given by `readout_integration_length` will be used for the integration (created in `qubit.default_integration_kernels()`). The parameter `readout_integration_kernels` can also be set to a list of pulse dictionaries of the form `{\"function\": pulse_functional_name, \"func_par1\": value, \"func_par2\": value, ... }`. `pulse_functional_name` must be the name of a function registered with the `pulse_library.register_pulse_functional` [decorator](https://docs.zhinst.com/labone_q_user_manual/core/functionality_and_concepts/03_sections_pulses_and_quantum_operations/tutorials/01_pulse_library.html#define-a-new-pulse-type-and-sweep-it). Check out the names of the pulse functionals in our [pulse library](https://docs.zhinst.com/labone_q_user_manual/core/reference/dsl/experiment.html#laboneq.dsl.experiment.pulse_library).\n",
    "\n",
    "* `reset_delay_length`: the waiting time for passive qubit reset.\n",
    "\n",
    "* `resonance_frequency_ge`, `resonance_frequency_ef` ' `drive_lo_frequency`, `readout_resonator_frequency`, `readout_lo_frequency`, `drive_range`, `readout_range_out`, `readout_range_in` are used to configure the qubit calibration which then ends up in the `Experiment` calibration.\n",
    "\n",
    "Note the parameters `ge_drive_pulse`, `ef_drive_pulse`, `spectroscopy_pulse`, `readout_pulse`. These parameters store a dictionary. They are used to specify the pulse shape (under the key `\"function\"`) and any other input parameters that are needed by this pulse function. The value of `\"function\"` must be a string corresponding to the name of a [pulse functional](https://docs.zhinst.com/labone_q_user_manual/core/reference/dsl/experiment.html#laboneq.dsl.experiment.pulse_library.register_pulse_functional) in [the LabOne Q pulse library module](https://docs.zhinst.com/labone_q_user_manual/core/reference/dsl/experiment.html#laboneq.dsl.experiment.pulse_library) or a pulse functional you have defined in your kernel (as shown [here](https://docs.zhinst.com/labone_q_user_manual/core/functionality_and_concepts/03_sections_pulses_and_quantum_operations/tutorials/01_pulse_library.html#define-a-new-pulse-type-and-sweep-it))."
   ]
  },
  {
   "cell_type": "markdown",
   "id": "7cbd7532-66ad-451f-a4d8-0ddbfba9f54e",
   "metadata": {},
   "source": [
    "### Generic methods for getting qubit parameters"
   ]
  },
  {
   "cell_type": "markdown",
   "id": "306530ea-5369-4bb0-95c9-d7d04f8af44e",
   "metadata": {},
   "source": [
    "To make sure each of these operations is applied correctly on any `TunableTransmonQubits`, the qubit parameters must be available to the implementation of the quantum operation. These parameters are accessed via a few generic qubit-class methods: \n",
    "\n",
    "* `.transition_parameters(transition)`: returns the drive logical signal line of the qubit and the pulse parameters that allow exciting a given qubit `transition` (currently, only \"ge\" or \"ef\"). The qubit pulse parameters are the ones previxed with `ge_drive_`/`ef_drive_`.\n",
    "\n",
    "* `.readout_parameters()`: returns the measure logical signal line of the qubit and the readout-pulse parameters (qubit parameter with the prefix `readout_`).\n",
    "\n",
    "* `.readout_integration_parameters()`: returns the acquire logical signal line of the qubit and the integration-kernel parameters (qubit parameter with the prefix `readout_integration_`).\n",
    "\n",
    "* `.spectroscopy_parameters()`: returns the qubit-spectroscpoy logical signal line and the qubit spectroscopy parameters (qubit parameter with the prefix `spectroscopy_`).\n",
    "\n",
    "**Note**: If a different qubit class has these four methods, then the `TunableTransmonOperations` can be extended to accept this qubit class. This can be done by adding the qubit class to the `QUBIT_TYPES` attribute of the `TunableTransmonOperations` (needs modifying the source code).\n",
    "\n",
    "The role of these methods is to abstract away the exact name of these pulse parameters defined in the qubit. Let's see what this means for each of the methods."
   ]
  },
  {
   "cell_type": "markdown",
   "id": "a9ac4811-96de-43d0-ac5c-7aa22fb77651",
   "metadata": {},
   "source": [
    "#### transition_parameters(\"ge\")"
   ]
  },
  {
   "cell_type": "code",
   "execution_count": null,
   "id": "e85aa49c-e52b-4673-beb5-f9041e45364c",
   "metadata": {},
   "outputs": [],
   "source": [
    "drive_line_ge, parameters_ge = qubits[0].transition_parameters(\"ge\")\n",
    "drive_line_ge, parameters_ge"
   ]
  },
  {
   "cell_type": "markdown",
   "id": "b7745271-b935-4be9-8557-3f0844ef6c79",
   "metadata": {},
   "source": [
    "The values in the dictionary `parameters_ge` come from the qubit parameters:"
   ]
  },
  {
   "cell_type": "code",
   "execution_count": null,
   "id": "d15ce713-046c-4b0e-b2de-50ba7dbcd2c4",
   "metadata": {},
   "outputs": [],
   "source": [
    "{\"amplitude_pi\": qubits[0].parameters.ge_drive_amplitude_pi,\n",
    " \"amplitude_pi2\": qubits[0].parameters.ge_drive_amplitude_pi2,\n",
    " \"length\": qubits[0].parameters.ge_drive_length,\n",
    " \"pulse\": qubits[0].parameters.ge_drive_pulse}"
   ]
  },
  {
   "cell_type": "markdown",
   "id": "81043ed4-0587-4bf6-857b-304ace4d0b23",
   "metadata": {},
   "source": [
    "#### transition_parameters(\"ef\")"
   ]
  },
  {
   "cell_type": "code",
   "execution_count": null,
   "id": "e96728e5-c600-4997-a957-c19e26d392b9",
   "metadata": {},
   "outputs": [],
   "source": [
    "drive_line_ef, parameters_ef = qubits[0].transition_parameters(\"ef\")\n",
    "drive_line_ef, parameters_ef"
   ]
  },
  {
   "cell_type": "markdown",
   "id": "7fdb9176-580d-41da-8d93-28002dc12ff8",
   "metadata": {},
   "source": [
    "The values in the dictionary `parameters_ef` come from the qubit parameters:"
   ]
  },
  {
   "cell_type": "code",
   "execution_count": null,
   "id": "d23c8b17-61b5-4a10-b904-af834fd74982",
   "metadata": {},
   "outputs": [],
   "source": [
    "{\"amplitude_pi\": qubits[0].parameters.ef_drive_amplitude_pi,\n",
    " \"amplitude_pi2\": qubits[0].parameters.ef_drive_amplitude_pi2,\n",
    " \"length\": qubits[0].parameters.ef_drive_length,\n",
    " \"pulse\": qubits[0].parameters.ef_drive_pulse}"
   ]
  },
  {
   "cell_type": "markdown",
   "id": "9ae8b464-4d3e-40ae-84bd-7396f9883ae5",
   "metadata": {},
   "source": [
    "#### readout_parameters()"
   ]
  },
  {
   "cell_type": "code",
   "execution_count": null,
   "id": "1df46035-3092-4b50-86f8-82dee73be62a",
   "metadata": {},
   "outputs": [],
   "source": [
    "measure_line, readout_parameters = qubits[0].readout_parameters()\n",
    "measure_line, readout_parameters"
   ]
  },
  {
   "cell_type": "markdown",
   "id": "54aa90ca-b1f8-4a65-9f96-37d9aa95a04a",
   "metadata": {},
   "source": [
    "The values in the dictionary `readout_parameters` come from the qubit parameters:"
   ]
  },
  {
   "cell_type": "code",
   "execution_count": null,
   "id": "65b7b07c-ccc6-48aa-923a-676a88c8b481",
   "metadata": {},
   "outputs": [],
   "source": [
    "{\"amplitude\": qubits[0].parameters.readout_amplitude,\n",
    " \"length\": qubits[0].parameters.readout_length,\n",
    " \"pulse\": qubits[0].parameters.readout_pulse}"
   ]
  },
  {
   "cell_type": "markdown",
   "id": "a0cdefaa-b7be-4a54-b9ec-5a3919108eeb",
   "metadata": {},
   "source": [
    "#### readout_integration_parameters()"
   ]
  },
  {
   "cell_type": "code",
   "execution_count": null,
   "id": "4e233e5f-9f13-4405-ad47-a0134715802d",
   "metadata": {},
   "outputs": [],
   "source": [
    "acquire_line, readout_integration_parameters = qubits[0].readout_integration_parameters()\n",
    "acquire_line, readout_integration_parameters"
   ]
  },
  {
   "cell_type": "markdown",
   "id": "e0b8723a-85dc-4569-881f-d046428e5c34",
   "metadata": {},
   "source": [
    "The values in the dictionary `readout_integration_parameters` come from the qubit parameters:"
   ]
  },
  {
   "cell_type": "code",
   "execution_count": null,
   "id": "abe74d80-8c07-4e2a-b6e7-bfb29ac7ab9d",
   "metadata": {},
   "outputs": [],
   "source": [
    "{\"length\": qubits[0].parameters.readout_integration_length,\n",
    " \"kernels\": qubits[0].parameters.readout_integration_kernels,\n",
    " \"kernels_type\": qubits[0].parameters.readout_integration_kernels_type,\n",
    " \"discrimination_thresholds\": qubits[0].parameters.readout_integration_discrimination_thresholds}"
   ]
  },
  {
   "cell_type": "markdown",
   "id": "f51ac93e-c454-432b-ae1f-f9a28e908157",
   "metadata": {},
   "source": [
    "In the next section, we explain how the `TunableTransmonOperations` use these four qubit methods to implement quantum gates."
   ]
  },
  {
   "cell_type": "markdown",
   "id": "13786f46-6e9d-447a-9e4f-cd730c6cdb90",
   "metadata": {},
   "source": [
    "### TunableTransmonOperations\n",
    "\n",
    "The demo platform we have instantiated above, created a `QPU` containing six `TunableTransmonQubits` and the corresponding set of `TunableTransmonOperations`. \n",
    "\n",
    "Let's examine this set of operations. To learn more about how to work with a set of quantum operations, check out [this other tutorial](https://docs.zhinst.com/labone_q_user_manual/core/functionality_and_concepts/03_sections_pulses_and_quantum_operations/tutorials/03_quantum_operations.html)."
   ]
  },
  {
   "cell_type": "code",
   "execution_count": null,
   "id": "fe79fa5a-f75c-45f5-8089-27f83e135ca8",
   "metadata": {},
   "outputs": [],
   "source": [
    "qops = qpu.quantum_operations\n",
    "\n",
    "qops.keys()"
   ]
  },
  {
   "cell_type": "markdown",
   "id": "b7056299-3087-4af3-b1f9-1f5ef5c095eb",
   "metadata": {},
   "source": [
    "#### Some basic operations\n",
    "\n",
    "The `TunableTransmonOperations` implements some basic operations like:\n",
    "\n",
    "* `barrier(qubit)`: this operation reserves all the logical signal lines of the qubit passed to it using [reserve commands](https://docs.zhinst.com/labone_q_user_manual/core/functionality_and_concepts/03_sections_pulses_and_quantum_operations/concepts/00_pulse_commands.html#reserve). It is used to ensure that operations acting on the same qubit so not overlap.\n",
    "\n",
    "* `delay(qubit, delay_time)`: this operation simply adds a [delay command](https://docs.zhinst.com/labone_q_user_manual/core/functionality_and_concepts/03_sections_pulses_and_quantum_operations/concepts/00_pulse_commands.html#delay) on the drive logical signal line of the qubit. By automatically reserving all the other lines of the qubit, the this operation effectively delays any other operations acting on this qubit by the `delay_time` passed to the operation.\n",
    "\n",
    "* `prepare_state(qubit, state)`: this operation prepares any of the states \"g\", \"e\", or \"f\" of the `TunableTransmonQubit` assuming the qubit is in the ground state before this operation is applied. To prepare \"g\", no pulse is applied. To prepare \"e\", the operation adds a $\\pi$-pulse on the \"ge\" transition. To prepare the \"f\" state, the operation adds a $\\pi$-pulse on the \"ge\" transition followed by a $\\pi$-pulse on the \"ef\" transition. These $\\pi$-pulse are other quantum operations from the set, which we explain in the next section."
   ]
  },
  {
   "cell_type": "markdown",
   "id": "40cccc61-1735-40a0-a72b-20f3ac744056",
   "metadata": {},
   "source": [
    "#### Single-qubit gate operations\n",
    "\n",
    "The operations `rx`, `ry`, `rz` implement rotations around one of the axes of the Block sphere by an angle specified by the user. \n",
    "\n",
    "We also have common single-qubit gates implementing rotations of 180 degrees and 90 degrees around the x, y, and z axes of the Block sphere: `x180`, `x90`, `y180`, `y90`, `z180`, `z90`.\n",
    "\n",
    "Let's inspect the source code of the `rx` operation to see how it is implemented and how it makes use of the qubit parameters:"
   ]
  },
  {
   "cell_type": "code",
   "execution_count": null,
   "id": "8fc59591-e40d-401d-a1d7-4b7f61d7fa8e",
   "metadata": {
    "scrolled": true
   },
   "outputs": [],
   "source": [
    "qops.rx.src"
   ]
  },
  {
   "cell_type": "markdown",
   "id": "4196b24f-758f-4fe4-bdea-79d0fc052245",
   "metadata": {},
   "source": [
    "You can specify the transition on which to perform the `rx` operation, which is forwarded to the `transition_parameters(transition)` method to obtain the qubit logical signal line and pulse parameters corresponding to this transition. See [the previous section](#Generic-methods-for-getting-qubit-parameters) for more details.\n",
    "\n",
    "When the transition is \"ef\", the `rx` operation makes sure that the pulses are aligned to the system grid (`on_system_grid=True`). The \"ge\" and \"ef\" pulses are modulated at different frequencies but they are played back from the same physical output of the SG instrument. A change in the oscillator frequency must happen whenever there is an \"ef\" pulse, and this change can only happen if the pulses are aligned to the system grid."
   ]
  },
  {
   "cell_type": "markdown",
   "id": "d410de11-5e92-4f2d-8a66-95bf53b5399c",
   "metadata": {},
   "source": [
    "Next in the source code, we see that, by default, the pulse parameters come from the qubit: the `amplitude_pi`, the `length`, and the `pulse` dictionary containing information about the pulse type and any other parameters that are special to this pulse type (see the end of [the previous section](#Qubit-parameters) for more explanation on the `pulse` dictionary).\n",
    "\n",
    "This is how the quantum operations implement the correct gates for each qubits. \n",
    "\n",
    "Finally, we see the single play command created by this quantum operation, on the drive line of the qubit. \n",
    "\n",
    "As explained in the [tutorial on quantum operations](https://docs.zhinst.com/labone_q_user_manual/core/functionality_and_concepts/03_sections_pulses_and_quantum_operations/tutorials/03_quantum_operations.html), each operation wraps the implemented pulse commands into a [Section](https://docs.zhinst.com/labone_q_user_manual/core/functionality_and_concepts/03_sections_pulses_and_quantum_operations/concepts/index.html). In addition, it adds ` all the logical signal lines of the qubit so that two operations on the same qubit cannot overlap. See how to omit these reserve commands in the [tutorial on quantum operations](https://docs.zhinst.com/labone_q_user_manual/core/functionality_and_concepts/03_sections_pulses_and_quantum_operations/tutorials/03_quantum_operations.html).\n",
    "\n",
    "Let's call the `rx` operation and check that the `Section` it creates is what we expect:"
   ]
  },
  {
   "cell_type": "code",
   "execution_count": null,
   "id": "40d0fe84-9c55-44d8-807d-93ce4f60f4d7",
   "metadata": {
    "scrolled": true
   },
   "outputs": [],
   "source": [
    "qops.rx(qubits[0], angle=np.pi)"
   ]
  },
  {
   "cell_type": "markdown",
   "id": "ead91ee1-064a-4f85-8074-e5d35695722f",
   "metadata": {},
   "source": [
    "The `rx`, `ry`, `rz` operations implement rotations of a given angle. So these operations require the input parameter `angle`, which is converted into a pulse amplitude using a linear scaling with respect to the $\\pi$-pulse amplitude of the qubit. \n",
    "\n",
    "The remaining single qubit gates (`x180`, `x90`, `y180`, `y90`, `z180`, `z90`) are implemented by calling the `rx`, `ry`, `rz` operations with the correct angle. Let's look at the source code of the `x180` operation to see this:"
   ]
  },
  {
   "cell_type": "code",
   "execution_count": null,
   "id": "5eaf705f-9287-459b-a1a6-1fb84d8ee31d",
   "metadata": {
    "scrolled": true
   },
   "outputs": [],
   "source": [
    "qops.x180.src"
   ]
  },
  {
   "cell_type": "markdown",
   "id": "85b26d94-9846-4641-a8a5-d4af7d9c349b",
   "metadata": {},
   "source": [
    "Hence, when calling any of these single-qubit gates, only the qubit needs to be specified: "
   ]
  },
  {
   "cell_type": "code",
   "execution_count": null,
   "id": "0bcb2647-15a4-4801-8c1d-b2d532526504",
   "metadata": {},
   "outputs": [],
   "source": [
    "section = qops.x180(qubits[0])\n",
    "section.name == \"x180_q0\""
   ]
  },
  {
   "cell_type": "markdown",
   "id": "10bb02e6-6efe-4902-8b7b-7f8bdaf06559",
   "metadata": {},
   "source": [
    "As mentioned above, the pulse parameters come from the qubit parameters by default. But you have the possibility to override any of these pulse parameters by passing them in when calling these single-qubit operations. \n",
    "\n",
    "Let's create an `x180`-operation section where we override the `amplitude`:"
   ]
  },
  {
   "cell_type": "code",
   "execution_count": null,
   "id": "72d51b60-a8fb-42e6-b100-eb7fa38b9f13",
   "metadata": {},
   "outputs": [],
   "source": [
    "section = qops.x180(qubits[0], amplitude=1)\n",
    "section.children[-1].amplitude"
   ]
  },
  {
   "cell_type": "markdown",
   "id": "54df3e69-904f-41c6-b360-ce1ac47034d5",
   "metadata": {},
   "source": [
    "Check that this is different to the amplitude of a default `x180` operation:"
   ]
  },
  {
   "cell_type": "code",
   "execution_count": null,
   "id": "d263ee68-8ea7-4d81-b164-06dfa75649a0",
   "metadata": {},
   "outputs": [],
   "source": [
    "section = qops.x180(qubits[0])\n",
    "section.children[-1].amplitude"
   ]
  },
  {
   "cell_type": "markdown",
   "id": "e52fd375-5958-48f4-abe9-50cba82e482e",
   "metadata": {},
   "source": [
    "This value comes from the $\\pi$-pulse amplitude of the qubit:"
   ]
  },
  {
   "cell_type": "code",
   "execution_count": null,
   "id": "de45e78d-35e8-4dfe-8235-50152a1fd175",
   "metadata": {},
   "outputs": [],
   "source": [
    "qubits[0].parameters.ge_drive_amplitude_pi"
   ]
  },
  {
   "cell_type": "markdown",
   "id": "2490cea8-6a45-4bb4-9436-8976e63afc92",
   "metadata": {},
   "source": [
    "In addition, you can sweep any of these pulse parameters in an experiment by passing a [SweepParameter](https://docs.zhinst.com/labone_q_user_manual/core/functionality_and_concepts/03_sections_pulses_and_quantum_operations/concepts/04_averaging_sweeping.html#parameter-sweeps):"
   ]
  },
  {
   "cell_type": "code",
   "execution_count": null,
   "id": "2a55430a-eb38-4c8f-9afa-61ceba7b0e54",
   "metadata": {},
   "outputs": [],
   "source": [
    "section = qops.x180(qubits[0], amplitude=SweepParameter(\"amp_sweep\", np.linspace(0, 1, 5)))\n",
    "section.children[-1].amplitude"
   ]
  },
  {
   "cell_type": "markdown",
   "id": "d10cf5ff-7be2-456e-9c39-c47fa6b14208",
   "metadata": {},
   "source": [
    "#### Readout operations\n",
    "\n",
    "Let's have another look at the set of `TunableTransmonOperations`:"
   ]
  },
  {
   "cell_type": "code",
   "execution_count": null,
   "id": "9ef093e5-8aea-4410-afa7-0fd707517a92",
   "metadata": {},
   "outputs": [],
   "source": [
    "qops.keys()"
   ]
  },
  {
   "cell_type": "markdown",
   "id": "8599721d-7d6a-4b79-8371-04a9f96bd84c",
   "metadata": {},
   "source": [
    "The operations `measure` and `acquire` are used for qubit readout. \n",
    "\n",
    "The `measure` operation creates a section that plays a readout pulse and acquires the result under the [handle](https://docs.zhinst.com/labone_q_user_manual/core/functionality_and_concepts/05_results/01_using_data.html) name passed to the operation. Below, we call this operation with the options `.omit_reserves` for better readability."
   ]
  },
  {
   "cell_type": "code",
   "execution_count": null,
   "id": "a667ee95-c95e-4865-a92d-acc0ae069e04",
   "metadata": {
    "scrolled": true
   },
   "outputs": [],
   "source": [
    "qops.measure.omit_reserves(qubits[0], handle=dsl.handles.result_handle(qubits[0].uid))"
   ]
  },
  {
   "cell_type": "markdown",
   "id": "c42d5641-16d9-4dc7-9fd0-7623ea43b7d8",
   "metadata": {},
   "source": [
    "The `acquire` operation simply performs an acquisition without playing a readout pulse. This is useful for a continuous-wave resonator spectrsocopy, for example."
   ]
  },
  {
   "cell_type": "code",
   "execution_count": null,
   "id": "fd075e46-809b-45d4-b658-e963226aabf8",
   "metadata": {
    "scrolled": true
   },
   "outputs": [],
   "source": [
    "qops.acquire.omit_reserves(qubits[0], handle=dsl.handles.result_handle(qubits[0].uid))"
   ]
  },
  {
   "cell_type": "markdown",
   "id": "a10d3b76-b425-4f01-a3a5-1c95a05c9f85",
   "metadata": {},
   "source": [
    "The parameters of the readout pulse as well as the name of the measure logical signal line are taken from the qubit by calling the method `.readout_parameters`, as explained [above](#readout_parameters()). \n",
    "\n",
    "Similarly, the parameters of the integration kernels and the name of the acquire line are taken from the qubit by calling the method `.readout_integration_parameters`, as explained [above](#readout_integration_parameters()).  \n",
    "\n",
    "Let's inspect the source code of `measure` to see this:"
   ]
  },
  {
   "cell_type": "code",
   "execution_count": null,
   "id": "69d08f6b-64bc-4add-8ca9-c41a3aa9a9b5",
   "metadata": {
    "scrolled": true
   },
   "outputs": [],
   "source": [
    "qops.measure.src"
   ]
  },
  {
   "cell_type": "markdown",
   "id": "9700222c-5cc5-4505-a68a-dab1305c632a",
   "metadata": {},
   "source": [
    "Note that only the `length` parameter of the readout integration kernels is used inside the operations. The pulse functionalse of the integration kernels are obtained from the qubit method `.get_integration_kernels()`. This method returns the default square-shaped integration kernels if the qubit parameter `readout_integration_kernels_type == \"default\"`, or, if `readout_integration_kernels_type == \"optimal\"`, it returns the optimal kernels stored under the qubit parameter `readout_integration_kernels`. "
   ]
  },
  {
   "cell_type": "code",
   "execution_count": null,
   "id": "795e53e0-ae40-4546-8d0c-dd5e9db649bc",
   "metadata": {},
   "outputs": [],
   "source": [
    "qubits[0].get_integration_kernels()  # default kernels"
   ]
  },
  {
   "cell_type": "markdown",
   "id": "5c9cde67-9d55-43ba-bba8-f8eb957da3e3",
   "metadata": {},
   "source": [
    "As was the case for the single-qubit gate operations, both `measure` and `acquire` allow the possibility to override the readout-pulse and integration-kernels parameters by passing the corresponding `pulse` dictionaries."
   ]
  },
  {
   "cell_type": "markdown",
   "id": "13939b24-7bca-4863-b364-33ac93e34658",
   "metadata": {},
   "source": [
    "#### Qubit-reset operations\n",
    "\n",
    "`TunableTransmonOperations` contains two operations for resetting the qubit to the ground state: `passive_reset` and `active_reset`. The latter uses the special operation `x180_ef_reset`. \n",
    "\n",
    "The `passive_reset` operation simply applies a [delay operation](#Some-basic-operations) with the delay time taken from the qubit parameter `reset_delay_length`. Thus, the qubit controls its own passive reset delay. Ideally, this should be around $3T_1$.\n",
    "\n",
    "The `active_reset` operation implements real-time-feedback-based reset of the qubit state back to the ground state. The qubit is measured, the result is classified into one of the qubit states, and a feedback pulse is applied to reset the qubit to its ground state. Multi-state discrimination must be tuned-up before using this operation. We explain this tune-up procedure and the active reset protocol in great detail in the [active reset tune-up guide](https://docs.zhinst.com/labone_q_user_manual/applications_library/how-to-guides/sources/01_superconducting_qubits/03_tuneup_guides/01_tuneup_active_reset.html). The `x180_ef_reset` operation is also explained in this tune-up guide."
   ]
  },
  {
   "cell_type": "markdown",
   "id": "24bdb4b3-4c20-4b1b-b168-7241648cd876",
   "metadata": {},
   "source": [
    "#### Qubit-spectroscopy operation\n",
    "\n",
    "The `qubit_spectroscopy_drive` operation is meant to be used in pulsed qubit spectroscopy measurements. The operation contains a single `play` command on the spectrsocopy logical signal line of the qubit. For a `TunableTransmonQubit`, this is the same as the drive line. \n",
    "\n",
    "**Note:** this operation does not change the amplitude in the experiment calibration. This is done by the `set_readout_amplitude` operation, which we discuss in the section [Operations that access experiment calibration](#Operations-that-access-experiment-calibration).\n",
    "\n",
    "Let's look at the source code of the `qubit_spectroscopy_drive` operation:"
   ]
  },
  {
   "cell_type": "code",
   "execution_count": null,
   "id": "52f7304b-3d68-4a6f-a0fc-79da8ae393fd",
   "metadata": {
    "scrolled": true
   },
   "outputs": [],
   "source": [
    "qops.qubit_spectroscopy_drive.omit_reserves(qubits[0])"
   ]
  },
  {
   "cell_type": "markdown",
   "id": "e35eca26-aeb4-46fc-9b37-4c52db223958",
   "metadata": {},
   "source": [
    "Note that we have omitted the reserve commands here for better readability.\n",
    "\n",
    "When inspecting the source code of this operation, we see that it uses the qubit method `.spectroscopy_parameters()` to obtain the spectroscopy logical signal line and the spectroscopy parameters:"
   ]
  },
  {
   "cell_type": "code",
   "execution_count": null,
   "id": "998c16d4-3271-4882-9962-662077387143",
   "metadata": {
    "scrolled": true
   },
   "outputs": [],
   "source": [
    "qops.qubit_spectroscopy_drive.src"
   ]
  },
  {
   "cell_type": "markdown",
   "id": "c3f794a0-1f4e-484e-a65b-c82b81e9ba49",
   "metadata": {},
   "source": [
    "As was the case for the single-qubit gate operations and the readout operations, the `qubit_spectroscopy_operation` allows the possibility to override the spectroscopy-pulse parameters by passing the `amplitude`, `length`, `phase`, and the `pulse` dictionary."
   ]
  },
  {
   "cell_type": "markdown",
   "id": "ed3ee8d0-06f8-4aaf-8124-79e3775f3994",
   "metadata": {},
   "source": [
    "#### Special operations\n",
    "\n",
    "`ramsey`, `calibration_traces` \n",
    "\n",
    "These operations are special in that they implement a snippet of code using several other operations. "
   ]
  },
  {
   "cell_type": "markdown",
   "id": "5eb80ff6-b634-43e5-80fc-dbfc6b17a0c4",
   "metadata": {},
   "source": [
    "##### ramsey\n",
    "\n",
    "The `ramsey` operation implements the typical phase-measurement sequence of two `x90` pulses separated by a `delay` used by ramsey-like experiments. Optionally, an additional $\\pi$-pulse (either `x180` or `y180`) can be added half-way through the delay time to turn this into a Hahn echo sequence.Let's inspect the source code to see this logic:"
   ]
  },
  {
   "cell_type": "code",
   "execution_count": null,
   "id": "26a1d1a6-b8e8-47f9-b9e2-eef684e13bcb",
   "metadata": {
    "scrolled": true
   },
   "outputs": [],
   "source": [
    "qops.ramsey.src"
   ]
  },
  {
   "cell_type": "markdown",
   "id": "4cbe43b4-b7a6-4ef9-a2cc-61241367befa",
   "metadata": {},
   "source": [
    "This operation can be performed on either the \"ge\" or \"ef\" transition. It expects a `delay` and a `phase` of the second `x90`, both of which can be specified as either numerical values or `SweepParameters`. You can also optionally specify an echo pulse.\n",
    "\n",
    "The source code of this operation looks a bit complicated. This is because we want to ensure that there are no unwanted gaps due to the switching of the oscillator when applying this operation on the \"ef\" transition. The time between the two `x90` pulses needs to be precisely known because the success of the Ramsey/Echo calibration or any other phase measurement relies on knowing the phase that is accumulated during this time. See our [Ramsey](https://docs.zhinst.com/labone_q_user_manual/applications_library/how-to-guides/sources/01_superconducting_qubits/01_workflows/05_ramsey.html) and [Echo](https://docs.zhinst.com/labone_q_user_manual/applications_library/how-to-guides/sources/01_superconducting_qubits/01_workflows/08_echo.html) how-to guides for more details about these calibration measurements."
   ]
  },
  {
   "cell_type": "markdown",
   "id": "42760499-23e9-4382-b821-67c676827dc2",
   "metadata": {},
   "source": [
    "**Note:** This operation should only be used with one qubit. Notice that the [automatic broadcasting feature](https://docs.zhinst.com/labone_q_user_manual/core/functionality_and_concepts/03_sections_pulses_and_quantum_operations/tutorials/03_quantum_operations.html#Broadcasting-quantum-operations) is disabled for this operation (`broadcast=False`). Because the `ramsey` operation uses several other quantum operations, the automatic broadcasting feature would result in wrong timing when the operation is applied on multiple qubits in parallel following the logic of the broadcasting feature:\n",
    "\n",
    "```python\n",
    "for q in qubits:\n",
    "    qops.ramsey(q, ...)\n",
    "```"
   ]
  },
  {
   "cell_type": "markdown",
   "id": "7d010a82-2ff1-4abe-8d94-9f1b7812bd39",
   "metadata": {},
   "source": [
    "##### calibration_traces"
   ]
  },
  {
   "cell_type": "markdown",
   "id": "1911016d-8f53-4f6a-a1f7-8664aa1b4f83",
   "metadata": {},
   "source": [
    "The second special operation is the `calibration_traces`. This operation is added at the end of a tune-up experiment to measure qubit calibration states, i.e. points in the IQ plane of the acquired signal where we know what state the qubit is in because we've prepared it to be in that state. This reference points are then used to interpret the rest of the data into qubit population. \n",
    "\n",
    "Hence, the `calibration_traces` operation prepares a set of qubit states and measures them. Let's see this in the source code:"
   ]
  },
  {
   "cell_type": "code",
   "execution_count": null,
   "id": "dc049b95-dad0-46e6-825d-a3ec7b64e3db",
   "metadata": {
    "scrolled": true
   },
   "outputs": [],
   "source": [
    "qops.calibration_traces.src"
   ]
  },
  {
   "cell_type": "markdown",
   "id": "d05fe9bf-d2d8-4ae6-b727-e5c038c924ea",
   "metadata": {},
   "source": [
    "The `calibration` traces operation calls several other operations: `active_reset` (optionally), `prepare_state`, `measure`, `passive_reset`. It can be applied on multiple qubits in parallel by passing to it a list of qubits instead of a single instance. \n",
    "\n",
    "However, notice that the [automatic broadcasting feature](https://docs.zhinst.com/labone_q_user_manual/core/functionality_and_concepts/03_sections_pulses_and_quantum_operationss/tutorials/03_quantum_operations.html#Broadcasting-quantum-operations) is disabled for this operation (`broadcast=False`). Because the `calibration_traces` operation uses several other quantum operations, the automatic broadcasting feature would result in wrong timing when the operation is applied on multiple qubits in parallel. Automatic boradcasting implements the logic:\n",
    "\n",
    "```python\n",
    "for q in qubits:\n",
    "    qops.calibration_traces(q, ...)\n",
    "```\n",
    "\n",
    "This results in completely different timing compared to the current implementation, where we take care to iterate over the qubits once when creating the drive section containing the qubit state preparation, and then again when creating the readout section, containing the measurement and passive reset. Doing this ensures that the preparation pulses are played back-to-back with the readout pulses, even if the qubit have different lengths of the drive pulses and readout pulses. See the [tutorial on writing an experiment workflow](https://docs.zhinst.com/labone_q_user_manual/applications_library/tutorials/sources/writing_experiments.html#Parallel-qubit-experiment) to learn more about this alignment."
   ]
  },
  {
   "cell_type": "markdown",
   "id": "118b54a6",
   "metadata": {},
   "source": [
    "#### Operations that access experiment calibration\n",
    "\n",
    "When a qubit experiment is created in the Applications Library, its calibration is initialized from the qubits used in the experiment, setting the oscillator frequencies and other [properties of the SignalCalibration](https://docs.zhinst.com/labone_q_user_manual/core/functionality_and_concepts/02_logical_signals/concepts/02_calibration_properties.html#calibration-properties). See the [tutorial on how to write experiment workflows](https://docs.zhinst.com/labone_q_user_manual/applications_library/tutorials/sources/writing_experiments.html) for more information about this."
   ]
  },
  {
   "cell_type": "markdown",
   "id": "32433782-32d8-45f4-ad8e-dc2d0a944813",
   "metadata": {},
   "source": [
    "The `TunableTransmonOperations` contains two operations that set the experiment calibration, `set_frequency` and `set_readout_amplitude`. \n",
    "\n",
    "Both these operations do the following:\n",
    "\n",
    "* get the experiment calibration by calling `dsl.experiment_calibration()`;\n",
    "\n",
    "* modify the relevant entries in the `SignalCalibration` of one or several logical signal lines of the qubit. \n",
    "\n",
    "Let's see how this is done in the `set_readout_amplitude` operation by inspecting its source code:"
   ]
  },
  {
   "cell_type": "code",
   "execution_count": null,
   "id": "93f880e1-2a80-4c67-8a9c-d1284cf4ef2c",
   "metadata": {
    "scrolled": true
   },
   "outputs": [],
   "source": [
    "qops.set_readout_amplitude.src"
   ]
  },
  {
   "cell_type": "markdown",
   "id": "21638518-d11a-48c5-b319-eefa6a5f1339",
   "metadata": {},
   "source": [
    "The signal calibration of the qubit measure line is extracted and its `amplitude` property is modified to the value passed by the user, which can be either a numerical value or a `SweepParameter`."
   ]
  },
  {
   "cell_type": "markdown",
   "id": "d7a9701e-47f1-4613-9c22-08d05c9e0b18",
   "metadata": {},
   "source": [
    "The `set_frequency` operation works in a similar way, but it is a little more complicated because it offers more options for the user. Let's look at its source code:"
   ]
  },
  {
   "cell_type": "code",
   "execution_count": null,
   "id": "0cb81d43-09d0-4b83-8eba-834ed7beff16",
   "metadata": {
    "scrolled": true
   },
   "outputs": [],
   "source": [
    "qops.set_frequency.src"
   ]
  },
  {
   "cell_type": "markdown",
   "id": "70c748ce-7d34-4a8f-b23e-92507f1fac29",
   "metadata": {},
   "source": [
    "This operation modifies the oscillator frequency of either the qubit measure line or its drive line, depending on the `readout=True/False`. The `frequency` parameter that is passed can be either the IF frequency of the qubit readout/drive (in units of MHz) or the qubit readout frequency or resonance frequency (in units of GHz). In the latter case, the qubit readout/drive LO frequency is subtracted from the value that was passed in. This feature is very useful in practice because you can directly pass a sweep around qubit frequencies that are physically intuitive such as the readout resonator frequency or the qubit transition frequency, and this operation takes care to convert these values to the ones expected by the instruments. "
   ]
  },
  {
   "cell_type": "markdown",
   "id": "bd0900c6",
   "metadata": {},
   "source": [
    "**Note**:\n",
    "\n",
    "* There is only a single experiment calibration per experiment, so if multiple quantum operations modify the same calibration items, only the last modification will be retained.\n",
    "\n",
    "* The experiment calibration is only accessible if there is an `Experiment`, so quantum operations that call `dsl.experiment_calibration` can only be called inside an experiment and will raise an exception otherwise. Let's write a quick `Experiment` to see how these operations work in practice. We use the `@dsl.qubit_experiment` decorator; see [Writing a New Experiment Workflow](https://docs.zhinst.com/labone_q_user_manual/applications_library/tutorials/sources/writing_experiments.html) to learn more about how to use this decorator to write `Experiment` pulse sequences."
   ]
  },
  {
   "cell_type": "code",
   "execution_count": null,
   "id": "035b2185",
   "metadata": {
    "scrolled": true
   },
   "outputs": [],
   "source": [
    "@dsl.qubit_experiment\n",
    "def exp_for_checking_op(q, frequencies, qops):\n",
    "    \"\"\"Simple experiment to test the operation we've just written.\"\"\"\n",
    "    with dsl.acquire_loop_rt(count=1):\n",
    "        with dsl.sweep(\n",
    "            name=\"readout_frequency_sweep\",\n",
    "            parameter=SweepParameter(\"readout_frequency_sweep\", frequencies)\n",
    "        ) as freq_sweep:\n",
    "            qops.set_frequency(q, frequency=freq_sweep, readout=True, rf=True)\n",
    "\n",
    "\n",
    "frequencies = qubits[0].parameters.readout_resonator_frequency + np.linspace(-30e6, 30e6, 11)\n",
    "exp = exp_for_checking_op(qubits[0], frequencies, qops)\n",
    "exp.get_calibration().calibration_items[\"/logical_signal_groups/q0/measure\"]"
   ]
  },
  {
   "cell_type": "markdown",
   "id": "f55138cd",
   "metadata": {},
   "source": [
    "The oscillator frequency has been set to the IF frequency calculated from subtracting the qubit readout LO frequency from the sweep values we have specified:"
   ]
  },
  {
   "cell_type": "code",
   "execution_count": null,
   "id": "d1a239d2-8e4e-4952-a51a-956ddea85b17",
   "metadata": {},
   "outputs": [],
   "source": [
    "frequencies - qubits[0].parameters.readout_lo_frequency"
   ]
  },
  {
   "cell_type": "markdown",
   "id": "4ea6d688-03c3-4123-8678-6d40c3680fd7",
   "metadata": {},
   "source": [
    "You have learnt how qubits are used together with quantum operations to create snippets of sections and pulses. \n",
    "\n",
    "Learn how to use qubits and quantum operations to create `Experiment` pulses sequences in our next [tutorial on writing an experiment workflows](https://docs.zhinst.com/labone_q_user_manual/applications_library/tutorials/sources/writing_experiments.html)."
   ]
  }
 ],
 "metadata": {
  "kernelspec": {
   "display_name": "Python 3 (ipykernel)",
   "language": "python",
   "name": "python3"
  },
  "language_info": {
   "codemirror_mode": {
    "name": "ipython",
    "version": 3
   },
   "file_extension": ".py",
   "mimetype": "text/x-python",
   "name": "python",
   "nbconvert_exporter": "python",
   "pygments_lexer": "ipython3",
   "version": "3.12.7"
  }
 },
 "nbformat": 4,
 "nbformat_minor": 5
}
