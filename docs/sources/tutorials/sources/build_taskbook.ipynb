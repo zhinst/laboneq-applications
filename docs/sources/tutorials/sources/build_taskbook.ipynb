{
 "cells": [
  {
   "cell_type": "markdown",
   "id": "3cd2ddc8",
   "metadata": {},
   "source": [
    "# Build a taskbook"
   ]
  },
  {
   "cell_type": "markdown",
   "id": "077f977a",
   "metadata": {},
   "source": [
    "A taskbook is a collection of tasks and their records.\n",
    "\n",
    "Whenever a task is executed within a taskbook, its'\n",
    "arguments, result and other relevant information are recorded.\n",
    "\n",
    "The main components of an taskbook are the following:\n",
    "\n",
    "* **Task**:\n",
    "\n",
    "    `@task`: A decorator to mark a function as a task\n",
    "\n",
    "* **Taskbook**:\n",
    "\n",
    "    `@taskbook`: A decorator to convert a function into a taskbook\n",
    "\n",
    "    `TaskBook`: Result of an executed function decorated with `@taskbook`\n",
    "\n",
    "\n",
    "## Building a simple taskbook"
   ]
  },
  {
   "cell_type": "markdown",
   "id": "902d02cf",
   "metadata": {},
   "source": [
    "### Import relevant objects"
   ]
  },
  {
   "cell_type": "code",
   "execution_count": null,
   "id": "eef3902f",
   "metadata": {},
   "outputs": [],
   "source": [
    "from laboneq_applications.workflow import task, taskbook"
   ]
  },
  {
   "cell_type": "markdown",
   "id": "ff21ff4b",
   "metadata": {},
   "source": [
    "### Define the tasks"
   ]
  },
  {
   "cell_type": "code",
   "execution_count": null,
   "id": "4344b1d1",
   "metadata": {},
   "outputs": [],
   "source": [
    "@task\n",
    "def measure() -> int:\n",
    "    return 100\n",
    "\n",
    "\n",
    "@task\n",
    "def analyze(measurement_result: int, threshold: int) -> bool:\n",
    "    return measurement_result < threshold"
   ]
  },
  {
   "cell_type": "markdown",
   "id": "e0a8e595",
   "metadata": {},
   "source": [
    "### Define the taskbook"
   ]
  },
  {
   "cell_type": "code",
   "execution_count": null,
   "id": "35f905d6",
   "metadata": {},
   "outputs": [],
   "source": [
    "@taskbook\n",
    "def experiment(threshold: int):\n",
    "    measurement = measure()\n",
    "    analysis_result = analyze(measurement, threshold)\n",
    "    if analysis_result:\n",
    "        return \"PASS\"\n",
    "    return \"FAIL\""
   ]
  },
  {
   "cell_type": "markdown",
   "id": "78a37e93",
   "metadata": {},
   "source": [
    "### Run the taskbook"
   ]
  },
  {
   "cell_type": "code",
   "execution_count": null,
   "id": "0f1f9daf",
   "metadata": {},
   "outputs": [],
   "source": [
    "book = experiment(threshold=101)"
   ]
  },
  {
   "cell_type": "markdown",
   "id": "f40c72f4",
   "metadata": {},
   "source": [
    "### Inspecting the results"
   ]
  },
  {
   "cell_type": "markdown",
   "id": "9f2a665e",
   "metadata": {},
   "source": [
    "#### Inspecting the `TaskBook`"
   ]
  },
  {
   "cell_type": "code",
   "execution_count": null,
   "id": "0b5661b3",
   "metadata": {},
   "outputs": [],
   "source": [
    "book"
   ]
  },
  {
   "cell_type": "code",
   "execution_count": null,
   "id": "17ae7e04",
   "metadata": {},
   "outputs": [],
   "source": [
    "book.output"
   ]
  },
  {
   "cell_type": "markdown",
   "id": "264fce95",
   "metadata": {},
   "source": [
    "#### Inspecting the tasks"
   ]
  },
  {
   "cell_type": "code",
   "execution_count": null,
   "id": "33f7de03",
   "metadata": {},
   "outputs": [],
   "source": [
    "book.tasks"
   ]
  },
  {
   "cell_type": "markdown",
   "id": "f3cbc400",
   "metadata": {},
   "source": [
    "There are several ways to get the individual tasks from the `TaskBook`"
   ]
  },
  {
   "cell_type": "markdown",
   "id": "a0a470f9",
   "metadata": {},
   "source": [
    "Single task with an index or name"
   ]
  },
  {
   "cell_type": "code",
   "execution_count": null,
   "id": "6f3f77ac",
   "metadata": {},
   "outputs": [],
   "source": [
    "book.tasks[1], book.tasks[\"analyze\"]"
   ]
  },
  {
   "cell_type": "markdown",
   "id": "f13e08c8",
   "metadata": {},
   "source": [
    "Specific task lookup with indexing\n",
    "\n",
    "The first argument is the name of the task and the second is an integer or a\n",
    "`slice`"
   ]
  },
  {
   "cell_type": "code",
   "execution_count": null,
   "id": "d4b148e7",
   "metadata": {},
   "outputs": [],
   "source": [
    "book.tasks[\"analyze\", :]  # All tasks named 'analyze'"
   ]
  },
  {
   "cell_type": "markdown",
   "id": "eacdc017",
   "metadata": {},
   "source": [
    "### Rerunning a task\n",
    "\n",
    "A task can be rerun from the `TaskBook` \n",
    "\n",
    "This can be useful when one wants to modify only specific arguments of the task,\n",
    "e.g a plotting arguments.\n",
    "\n",
    "In this example we will only lower the `threshold` of the `analyze` task \n",
    "and since we did not supply the argument `measurement_result`, the original value\n",
    "is used and our `analyze` should now fail."
   ]
  },
  {
   "cell_type": "code",
   "execution_count": null,
   "id": "301880e4",
   "metadata": {},
   "outputs": [],
   "source": [
    "book.tasks[\"analyze\"].rerun(threshold=99)"
   ]
  },
  {
   "cell_type": "markdown",
   "id": "23b5a2f8",
   "metadata": {},
   "source": [
    "After rerunning the task, we can also see that the `TaskBook` is updated with\n",
    "the rerun results"
   ]
  },
  {
   "cell_type": "code",
   "execution_count": null,
   "id": "8cb6c7db",
   "metadata": {},
   "outputs": [],
   "source": [
    "book.tasks[\"analyze\", :]"
   ]
  },
  {
   "cell_type": "markdown",
   "id": "dd69666a-d6c6-4c52-936d-b37802ad56d7",
   "metadata": {},
   "source": [
    "### Run until a task\n",
    "\n",
    "A `TaskBook` can be run only up to (and including) one of its tasks.\n",
    "\n",
    "This can be useful if one wants to run only the first few tasks and inspect the result. For example, for an experiment `TaskBook`, one often wants to check if the experiment sequence compiles successfully before running the experiment.\n",
    "\n",
    "In this example, we will exclude the `analyze` task to first inspect if the `measure` task was successful. To do this, we need to allow `experiment` to accept an options dictionary and then pass the taskbook option `run_until`. We can also use options classes as shown in the [`options.ipynb`](options.ipynb) guide. "
   ]
  },
  {
   "cell_type": "code",
   "execution_count": null,
   "id": "8ee67a0b-066f-4b14-8f91-65da07b6ccb8",
   "metadata": {},
   "outputs": [],
   "source": [
    "@taskbook\n",
    "def experiment(threshold: int, options: dict):\n",
    "    measurement = measure()\n",
    "    analysis_result = analyze(measurement, threshold)\n",
    "    if analysis_result:\n",
    "        return \"PASS\"\n",
    "    return \"FAIL\""
   ]
  },
  {
   "cell_type": "code",
   "execution_count": null,
   "id": "e51caac2-d929-4de1-8ded-af6c99514864",
   "metadata": {
    "scrolled": true
   },
   "outputs": [],
   "source": [
    "options = {\"taskbook.run_until\": \"measure\"}\n",
    "book = experiment(threshold=101, options=options)"
   ]
  },
  {
   "cell_type": "code",
   "execution_count": null,
   "id": "3e6e45ee-2696-4fa0-8d31-4bc4c40fb5b6",
   "metadata": {},
   "outputs": [],
   "source": [
    "book"
   ]
  },
  {
   "cell_type": "markdown",
   "id": "8f8f2c08-c87c-4f0a-a242-d7d24c139cf7",
   "metadata": {},
   "source": [
    "### Inspect a `TaskBook` that has failed\n",
    "\n",
    "In case there is an error during the execution of a `TaskBook`, we can still inspect the tasks that have run up to the task that triggered the error using `recover()`. Note that `recover()` stores only one execution result and can only be called once; a second call to `recover()` raises an exception.\n",
    "\n",
    "For experiment `TaskBooks`, this is useful for debugging a failed compilation task by inspecting the experiment sequence produced by the previous task. \n",
    "\n",
    "In this example, we will add an assertion error to the `analyze` task."
   ]
  },
  {
   "cell_type": "code",
   "execution_count": null,
   "id": "e4637138-4f85-4fbc-bbd0-f1eff632c0ad",
   "metadata": {},
   "outputs": [],
   "source": [
    "@task\n",
    "def measure() -> int:\n",
    "    return 100\n",
    "\n",
    "\n",
    "@task\n",
    "def analyze(measurement_result: int, threshold: int) -> bool:\n",
    "    # let's add an error in this task\n",
    "    if not (measurement_result >= 100 and threshold >= 100):\n",
    "        raise RuntimeError(\"Something went wrong.\")\n",
    "    return measurement_result < threshold\n",
    "\n",
    "\n",
    "@taskbook\n",
    "def experiment(threshold: int):\n",
    "    measurement = measure()\n",
    "    analysis_result = analyze(measurement, threshold)\n",
    "    if analysis_result:\n",
    "        return \"PASS\"\n",
    "    return \"FAIL\""
   ]
  },
  {
   "cell_type": "code",
   "execution_count": null,
   "id": "8c65e802-fe77-4d4d-9a3c-2160d321399f",
   "metadata": {
    "scrolled": true
   },
   "outputs": [],
   "source": [
    "book = experiment(99)"
   ]
  },
  {
   "cell_type": "code",
   "execution_count": null,
   "id": "7e22e8a5-b1b5-4e44-a194-0aa341fdd754",
   "metadata": {},
   "outputs": [],
   "source": [
    "recovered_book = experiment.recover()\n",
    "recovered_book"
   ]
  },
  {
   "cell_type": "code",
   "execution_count": null,
   "id": "2991be74-477d-4f73-8f6d-d0cb0ceaf3a1",
   "metadata": {},
   "outputs": [],
   "source": [
    "# Check that the measure task returns a result that is >= 100\n",
    "recovered_book.tasks[\"measure\"].output"
   ]
  },
  {
   "cell_type": "code",
   "execution_count": null,
   "id": "1b512780-83fe-4e8f-8e0e-a120ede3acee",
   "metadata": {},
   "outputs": [],
   "source": [
    "# Check the value of the threshold passed to the taskbook\n",
    "recovered_book.parameters"
   ]
  },
  {
   "cell_type": "code",
   "execution_count": null,
   "id": "dfb4c999-64ac-4b07-9235-da5f7d456531",
   "metadata": {},
   "outputs": [],
   "source": [
    "# Now we know we have to increase the value of the threshold\n",
    "book = experiment(101)\n",
    "book.output"
   ]
  },
  {
   "cell_type": "markdown",
   "id": "87625322-39c2-470c-9668-785f9bc66f8b",
   "metadata": {},
   "source": [
    "### Defining taskbook options"
   ]
  },
  {
   "cell_type": "code",
   "execution_count": null,
   "id": "44003906",
   "metadata": {},
   "outputs": [],
   "source": [
    "from laboneq_applications.workflow import TaskBookOptions\n",
    "\n"
   ]
  }
 ],
 "metadata": {
  "jupytext": {
   "cell_metadata_filter": "-all",
   "main_language": "python",
   "notebook_metadata_filter": "-all"
  },
  "kernelspec": {
   "display_name": "Python 3 (ipykernel)",
   "language": "python",
   "name": "python3"
  },
  "language_info": {
   "codemirror_mode": {
    "name": "ipython",
    "version": 3
   },
   "file_extension": ".py",
   "mimetype": "text/x-python",
   "name": "python",
   "nbconvert_exporter": "python",
   "pygments_lexer": "ipython3",
   "version": "3.12.4"
  }
 },
 "nbformat": 4,
 "nbformat_minor": 5
}
