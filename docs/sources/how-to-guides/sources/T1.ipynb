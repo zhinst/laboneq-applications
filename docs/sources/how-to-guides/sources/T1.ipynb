{
 "cells": [
  {
   "cell_type": "markdown",
   "metadata": {},
   "source": [
    "## How To Perform a T1 Experiment"
   ]
  },
  {
   "cell_type": "markdown",
   "metadata": {},
   "source": [
    "### Prerequisites\n",
    "This guide assumes you have a configured `DeviceSetup` as well as `Qubit` objects with assigned parameters. Please see these guides (add links) if you need to create your setup and qubits for the first time. However, you can also run this notebook \"as is\" using an emulated session. If you are just getting started with the LabOne Q Applications Library, please don't hesitate to reach out to us at info@zhinst.com."
   ]
  },
  {
   "cell_type": "markdown",
   "metadata": {},
   "source": [
    "### Background\n",
    "\n",
    "In this how-to guide, you'll perform a measurement to determine the relaxation time, $T_1$, for a given qubit using the `T1` experiment included in the LabOne Q Applications Library. In a $T_1$ experiment, you'll vary the delay time, $\\tau$, between an initial excitation pulse and the subsequent measurement of the qubit's state. This allows you to observe how the qubit relaxes from the excited state, $\\ket{1}$, back to the ground state, $\\ket{0}$, over time.\n",
    "\n",
    "For a qubit transitioning from the excited state, $\\ket{1}$, to the ground state, $\\ket{0}$, the population decay follows an exponential behavior according to:\n",
    "\n",
    "$$\\rho(\\ket{1}) = e^{-\\tau/T_1}$$\n",
    "\n"
   ]
  },
  {
   "cell_type": "markdown",
   "metadata": {},
   "source": [
    "### Imports\n",
    "\n",
    "You'll start by importing the T1 experiment from `laboneq_applications`, as well as `laboneq.simple` and a demo QPU and device setup to run in emulation mode."
   ]
  },
  {
   "cell_type": "code",
   "execution_count": 1,
   "metadata": {},
   "outputs": [],
   "source": [
    "from laboneq.contrib.example_helpers.plotting.plot_helpers import plot_simulation\n",
    "from laboneq.simple import *\n",
    "\n",
    "from laboneq_applications.experiments import T1\n",
    "from laboneq_applications.qpu_types.tunable_transmon.demo_qpus import demo_platform"
   ]
  },
  {
   "cell_type": "markdown",
   "metadata": {},
   "source": [
    "### QPU and Device Setup\n",
    "\n",
    "You'll generate six qubits with pre-defined parameters, as well as a `Device_Setup` consisting of a SHFQC+, HDAWG, and PQSC. If you already have your own `DeviceSetup` and qubits configured, you'll instead initialize the session using your setup."
   ]
  },
  {
   "cell_type": "code",
   "execution_count": 2,
   "metadata": {},
   "outputs": [],
   "source": [
    "my_platform = demo_platform(6)"
   ]
  },
  {
   "cell_type": "markdown",
   "metadata": {},
   "source": [
    "Then, you'll connect to the `Session`. Here we connect to an emulated one:"
   ]
  },
  {
   "cell_type": "code",
   "execution_count": null,
   "metadata": {},
   "outputs": [],
   "source": [
    "session = Session(my_platform.setup)\n",
    "\n",
    "session.connect(do_emulation=True)"
   ]
  },
  {
   "cell_type": "markdown",
   "metadata": {},
   "source": [
    "### Running the T1 Workflow\n",
    "\n",
    "You'll now make the experiment workflow and run:"
   ]
  },
  {
   "cell_type": "code",
   "execution_count": null,
   "metadata": {},
   "outputs": [],
   "source": [
    "# our qubits live here in the demo setup:\n",
    "qubits = my_platform.qpu.qubits\n",
    "\n",
    "my_workflow = T1.experiment_workflow(\n",
    "    session=session,\n",
    "    qpu=my_platform.qpu,\n",
    "    qubits=[qubits[0], qubits[1]],\n",
    "    delays=[[0, 100e-9, 1000e-9], [0, 100e-9, 1000e-9]],\n",
    ")\n",
    "\n",
    "my_results = my_workflow.run()"
   ]
  },
  {
   "cell_type": "markdown",
   "metadata": {},
   "source": [
    "#### Output Simulation\n",
    "\n",
    "You can also inspect the compiled experiment and plot the simulated output:"
   ]
  },
  {
   "cell_type": "code",
   "execution_count": null,
   "metadata": {},
   "outputs": [],
   "source": [
    "compiled_T1 = my_results.tasks[\"compile_experiment\"].output  # noqa: N816\n",
    "plot_simulation(\n",
    "    compiled_T1,\n",
    "    signal_names_to_show=[\"drive\", \"measure\"],\n",
    "    start_time=0,\n",
    "    length=10e-6,\n",
    ")"
   ]
  },
  {
   "cell_type": "markdown",
   "metadata": {},
   "source": [
    "#### Inspecting the Source Code\n",
    "\n",
    "You can inspect the source code of the `create_experiment` task defined in `T1` to see how the experiment pulse sequence is created:"
   ]
  },
  {
   "cell_type": "code",
   "execution_count": null,
   "metadata": {
    "scrolled": true
   },
   "outputs": [],
   "source": [
    "T1.create_experiment.src"
   ]
  },
  {
   "cell_type": "markdown",
   "metadata": {},
   "source": [
    "### Changing the Options\n",
    "\n",
    "We can give our T1 experiment options. First, inspect what they currently are:"
   ]
  },
  {
   "cell_type": "code",
   "execution_count": null,
   "metadata": {},
   "outputs": [],
   "source": [
    "my_new_opts = T1.experiment_workflow.options()\n",
    "my_new_opts"
   ]
  },
  {
   "cell_type": "markdown",
   "metadata": {},
   "source": [
    "Then provide new options. This time, you'll disable the calibration traces and change the counts."
   ]
  },
  {
   "cell_type": "code",
   "execution_count": null,
   "metadata": {},
   "outputs": [],
   "source": [
    "my_new_opts.count(2048)\n",
    "my_new_opts.use_cal_traces(value=False)\n",
    "my_new_opts"
   ]
  },
  {
   "cell_type": "markdown",
   "metadata": {},
   "source": [
    "#### Run the workflow with updated options\n",
    "\n",
    "Now, run the workflow with new options and inspect the simulated output. You'll notice that the calibration traces are no longer there."
   ]
  },
  {
   "cell_type": "code",
   "execution_count": null,
   "metadata": {},
   "outputs": [],
   "source": [
    "my_new_workflow = T1.experiment_workflow(\n",
    "    session=session,\n",
    "    qpu=my_platform.qpu,\n",
    "    qubits=[qubits[0], qubits[1]],\n",
    "    delays=[[0, 100e-9, 1000e-9], [0, 100e-9, 1000e-9]],\n",
    "    options=my_new_opts,\n",
    ")\n",
    "\n",
    "my_new_results = my_new_workflow.run()\n",
    "new_compiled_T1 = my_new_results.tasks[\"compile_experiment\"].output  # noqa: N816\n",
    "plot_simulation(\n",
    "    new_compiled_T1,\n",
    "    signal_names_to_show=[\"drive\", \"measure\"],\n",
    "    length=10e-6,\n",
    ")"
   ]
  },
  {
   "cell_type": "markdown",
   "metadata": {},
   "source": [
    "### Temporary settings\n",
    "\n",
    "The qubit parameters are used to control the settings of pulses and instruments during the experiment. We can run the T1 experiment with different settings by passing it a copy of the qubits with modified parameters:"
   ]
  },
  {
   "cell_type": "code",
   "execution_count": null,
   "metadata": {
    "scrolled": true
   },
   "outputs": [],
   "source": [
    "# Make a copy of the qubits\n",
    "temp_qubits = my_platform.qpu.copy_qubits()\n",
    "# Change the length of the drive pulses\n",
    "temp_qubits[0].parameters.ge_drive_length = 1000e-9\n",
    "temp_qubits[1].parameters.ge_drive_length = 1000e-9\n",
    "\n",
    "my_new_workflow = T1.experiment_workflow(\n",
    "    session=session,\n",
    "    qpu=my_platform.qpu,\n",
    "    qubits=[temp_qubits[0], temp_qubits[1]],  # pass temporary qubits\n",
    "    delays=[[0, 100e-9, 1000e-9], [0, 100e-9, 1000e-9]],\n",
    "    options=my_new_opts,\n",
    ")\n",
    "\n",
    "my_new_results = my_new_workflow.run()\n",
    "new_compiled_T1 = my_new_results.tasks[\"compile_experiment\"].output  # noqa: N816\n",
    "plot_simulation(\n",
    "    new_compiled_T1,\n",
    "    signal_names_to_show=[\"drive\", \"measure\"],\n",
    "    length=12e-6,\n",
    ")"
   ]
  },
  {
   "cell_type": "code",
   "execution_count": null,
   "metadata": {},
   "outputs": [],
   "source": []
  },
  {
   "cell_type": "code",
   "execution_count": null,
   "metadata": {},
   "outputs": [],
   "source": []
  },
  {
   "cell_type": "markdown",
   "metadata": {},
   "source": [
    "Great! You've now run your T1 experiment. Check out these other experiments to keep characterizing your qubits:"
   ]
  },
  {
   "cell_type": "code",
   "execution_count": 11,
   "metadata": {},
   "outputs": [],
   "source": [
    "# TODO: Add experiment links\n",
    "# TODO: Add Analysis"
   ]
  },
  {
   "cell_type": "code",
   "execution_count": null,
   "metadata": {},
   "outputs": [],
   "source": []
  }
 ],
 "metadata": {
  "kernelspec": {
   "display_name": "Python 3 (ipykernel)",
   "language": "python",
   "name": "python3"
  },
  "language_info": {
   "codemirror_mode": {
    "name": "ipython",
    "version": 3
   },
   "file_extension": ".py",
   "mimetype": "text/x-python",
   "name": "python",
   "nbconvert_exporter": "python",
   "pygments_lexer": "ipython3",
   "version": "3.12.4"
  }
 },
 "nbformat": 4,
 "nbformat_minor": 4
}
