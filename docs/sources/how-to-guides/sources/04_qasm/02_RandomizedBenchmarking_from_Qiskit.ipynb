{
 "cells": [
  {
   "cell_type": "markdown",
   "metadata": {},
   "source": [
    "# One- and Two-Qubit Randomized Benchmarking in LabOne Q with Qiskit"
   ]
  },
  {
   "cell_type": "markdown",
   "metadata": {},
   "source": [
    "In this notebook, we'll use the [Qiskit Experiment Library](https://qiskit.org/ecosystem/experiments/apidocs/library.html) to generate one and two qubit randomized benchmarking experiments. \n",
    "We'll then export the generated experiment to [OpenQASM](https://openqasm.com/), import these OpenQASM experiments into LabOne Q, compile, and simulate the output signals.\n",
    "\n",
    "When generating randomized benchmarking experiments in Qiskit, it will return a list of quantum circuits with the specified parameters. \n",
    "We show here how to efficiently import, compile and execute such a list into LabOne Q, resulting in a single, large experiment."
   ]
  },
  {
   "cell_type": "markdown",
   "metadata": {},
   "source": [
    "## 0. Python Imports"
   ]
  },
  {
   "cell_type": "code",
   "execution_count": null,
   "metadata": {},
   "outputs": [],
   "source": [
    "# LabOne Q:\n",
    "# additional imports\n",
    "from math import pi\n",
    "\n",
    "# device setup and descriptor\n",
    "from laboneq._utils import id_generator\n",
    "from laboneq.contrib.example_helpers.generate_device_setup import (\n",
    "    generate_device_setup_qubits,\n",
    ")\n",
    "\n",
    "# plotting functionality\n",
    "from laboneq.contrib.example_helpers.plotting.plot_helpers import plot_simulation\n",
    "\n",
    "# core LabOne Q functionality\n",
    "from laboneq.simple import *\n",
    "\n",
    "# qiskit\n",
    "from qiskit import qasm3, transpile\n",
    "from qiskit_experiments.library import randomized_benchmarking"
   ]
  },
  {
   "cell_type": "markdown",
   "metadata": {},
   "source": [
    "## 1. LabOne Q startup"
   ]
  },
  {
   "cell_type": "markdown",
   "metadata": {},
   "source": [
    "### 1.1 Generate pre-calibrated setup - Qubits and setup configuration & set up LabOne Q session"
   ]
  },
  {
   "cell_type": "code",
   "execution_count": null,
   "metadata": {},
   "outputs": [],
   "source": [
    "# specify the number of qubits you want to use\n",
    "number_of_qubits = 2\n",
    "\n",
    "# generate the device setup and the qubit objects using a helper function\n",
    "device_setup, qubits = generate_device_setup_qubits(\n",
    "    number_qubits=number_of_qubits,\n",
    "    pqsc=[{\"serial\": \"DEV10001\"}],\n",
    "    hdawg=[{\"serial\": \"DEV8001\", \"zsync\": 0, \"number_of_channels\": 8, \"options\": None}],\n",
    "    shfqc=[\n",
    "        {\n",
    "            \"serial\": \"DEV12001\",\n",
    "            \"zsync\": 1,\n",
    "            \"number_of_channels\": 6,\n",
    "            \"readout_multiplex\": 6,\n",
    "            \"options\": None,\n",
    "        }\n",
    "    ],\n",
    "    include_flux_lines=True,\n",
    "    server_host=\"localhost\",\n",
    "    setup_name=f\"my_{number_of_qubits}_tuneable_qubit_setup\",\n",
    ")\n",
    "\n",
    "q0, q1 = qubits[:2]"
   ]
  },
  {
   "cell_type": "code",
   "execution_count": null,
   "metadata": {},
   "outputs": [],
   "source": [
    "# create and connect to Session\n",
    "\n",
    "# use emulation mode - no connection to instruments\n",
    "use_emulation = True\n",
    "\n",
    "my_session = Session(device_setup=device_setup)\n",
    "my_session.connect(do_emulation=use_emulation, reset_devices=True)"
   ]
  },
  {
   "cell_type": "markdown",
   "metadata": {},
   "source": [
    "## 2. Defining a LabOne Q Backend"
   ]
  },
  {
   "cell_type": "markdown",
   "metadata": {},
   "source": [
    "Here, we add Gate and Pulse Definitions for Transpilation Support from QASM into LabOne Q"
   ]
  },
  {
   "cell_type": "code",
   "execution_count": null,
   "metadata": {},
   "outputs": [],
   "source": [
    "def drive_pulse(qubit: Qubit, label: str, amplitude_scale=1.0):\n",
    "    \"\"\"Return a drive pulse for the given qubit.\n",
    "\n",
    "    Pulse parameters are taken from the qubit parameters.\n",
    "    \"\"\"\n",
    "    return pulse_library.drag(\n",
    "        uid=f\"{qubit.uid}_{label}\",\n",
    "        length=qubit.parameters.user_defined[\"pulse_length\"],\n",
    "        amplitude=amplitude_scale * qubit.parameters.user_defined[\"amplitude_pi\"],\n",
    "    )"
   ]
  },
  {
   "cell_type": "code",
   "execution_count": null,
   "metadata": {},
   "outputs": [],
   "source": [
    "def rz(qubit: Qubit):\n",
    "    \"\"\"Return a parameterized rotation (virtual z) gate for the specified qubit.\n",
    "\n",
    "    The gate is a function that takes the angle to rotate and\n",
    "    returns a LabOne Q section that performs the rotation.\n",
    "    \"\"\"\n",
    "\n",
    "    def rz_gate(angle: float):\n",
    "        \"\"\"Rz(theta).\n",
    "\n",
    "        Theta is in radians - implements a virtual z-gate\n",
    "        \"\"\"\n",
    "        gate = Section(uid=id_generator(f\"p_{qubit.uid}_rz_{int(180 * angle / pi)}\"))\n",
    "        gate.play(\n",
    "            signal=qubit.signals[\"drive\"],\n",
    "            pulse=None,\n",
    "            increment_oscillator_phase=angle,\n",
    "        )\n",
    "        return gate\n",
    "\n",
    "    return rz_gate"
   ]
  },
  {
   "cell_type": "code",
   "execution_count": null,
   "metadata": {},
   "outputs": [],
   "source": [
    "def measurement(qubit: Qubit):\n",
    "    \"\"\"Return a measurement operation of the specified qubit.\n",
    "\n",
    "    The operation is a function that takes the measurement handle (a string)\n",
    "    and returns a LabOne Q section that performs the measurement.\n",
    "    \"\"\"\n",
    "\n",
    "    def measurement_gate(handle: str):\n",
    "        \"\"\"Perform a measurement.\n",
    "\n",
    "        Handle is the name of where to store the measurement result. E.g. \"meas[0]\".\n",
    "        \"\"\"\n",
    "        measure_pulse = pulse_library.gaussian_square(\n",
    "            uid=f\"{qubit.uid}_readout_pulse\",\n",
    "            length=qubit.parameters.user_defined[\"readout_length\"],\n",
    "            amplitude=qubit.parameters.user_defined[\"readout_amplitude\"],\n",
    "            zero_boundaries=True,\n",
    "        )\n",
    "        integration_kernel = pulse_library.const(\n",
    "            uid=f\"{qubit.uid}_integration_kernel\",\n",
    "            length=qubit.parameters.user_defined[\"readout_length\"],\n",
    "        )\n",
    "\n",
    "        gate = Section(uid=id_generator(f\"meas_{qubit.uid}_{handle}\"))\n",
    "        gate.reserve(signal=qubit.signals[\"drive\"])\n",
    "        gate.play(signal=qubit.signals[\"measure\"], pulse=measure_pulse)\n",
    "        gate.acquire(\n",
    "            signal=qubit.signals[\"acquire\"],\n",
    "            handle=handle,\n",
    "            kernel=integration_kernel,\n",
    "        )\n",
    "        return gate\n",
    "\n",
    "    return measurement_gate"
   ]
  },
  {
   "cell_type": "code",
   "execution_count": null,
   "metadata": {},
   "outputs": [],
   "source": [
    "def reset(qubit: Qubit, reset_pulse):\n",
    "    \"\"\"Reset the specified qubit to the ground state with the supplied reset pulse.\n",
    "\n",
    "    The reset gate function takes no arguments and returns a LabOne Q section that performs\n",
    "    the reset.\n",
    "    \"\"\"\n",
    "\n",
    "    def reset_gate():\n",
    "        sig = qubit.signals\n",
    "        # Reset Section\n",
    "        reset = Section(uid=f\"{qubit.uid}_reset\")\n",
    "        # qubit state readout\n",
    "        readout = measurement(qubit)(f\"{qubit.uid}_qubit_state\")\n",
    "        # delay after measurement\n",
    "        readout.delay(\n",
    "            signal=sig[\"acquire\"],\n",
    "            time=qubit.parameters.user_defined[\"reset_delay_length\"],\n",
    "        )\n",
    "        # real-time feedback, fetching the measurement data identified by handle locally from the QA unit of the SHFQC\n",
    "        match_case = Match(\n",
    "            uid=f\"{qubit.uid}_feedback\",\n",
    "            handle=f\"{qubit.uid}_qubit_state\",\n",
    "            play_after=readout,\n",
    "        )\n",
    "        # measurement result 0 - ground state\n",
    "        case_0 = Case(uid=f\"{qubit.uid}_0_Case\", state=0)\n",
    "        case_0.play(signal=sig[\"drive\"], pulse=reset_pulse, amplitude=0.01)\n",
    "        # measurement result 1 - excited state\n",
    "        case_1 = Case(uid=f\"{qubit.uid}_1_Case\", state=1)\n",
    "        # play x180 pulse\n",
    "        case_1.play(signal=sig[\"drive\"], pulse=reset_pulse)\n",
    "        match_case.add(case_0)\n",
    "        match_case.add(case_1)\n",
    "\n",
    "        reset.add(readout)\n",
    "        reset.add(match_case)\n",
    "        return reset\n",
    "\n",
    "    return reset_gate"
   ]
  },
  {
   "cell_type": "code",
   "execution_count": null,
   "metadata": {},
   "outputs": [],
   "source": [
    "def cx(control: Qubit, target: Qubit):\n",
    "    \"\"\"Return a controlled X gate for the specified control and target qubits.\n",
    "\n",
    "    The CX gate function takes the control and target qubit and returns a LabOne Q section that performs\n",
    "    a controlled X gate between these two qubits using a cross-resonance scheme.\n",
    "    \"\"\"\n",
    "\n",
    "    def cx_gate():\n",
    "        cx_id = f\"cx_{control.uid}_{target.uid}\"\n",
    "\n",
    "        gate = Section(uid=id_generator(cx_id))\n",
    "\n",
    "        # define X pulses for target and control\n",
    "        x180_pulse_control = drive_pulse(control, label=\"x180\")\n",
    "        x180_pulse_target = drive_pulse(target, label=\"x180\")\n",
    "\n",
    "        # define cancellation pulses for target and control\n",
    "        cancellation_control_n = pulse_library.gaussian_square(uid=\"CR-\")\n",
    "        cancellation_control_p = pulse_library.gaussian_square(uid=\"CR+\")\n",
    "        cancellation_target_p = pulse_library.gaussian_square(uid=\"q1+\")\n",
    "        cancellation_target_n = pulse_library.gaussian_square(uid=\"q1-\")\n",
    "\n",
    "        # play X pulses on both target and control\n",
    "        x180_both = Section(uid=id_generator(f\"{cx_id}_x_both\"))\n",
    "        x180_both.play(signal=control.signals[\"drive\"], pulse=x180_pulse_control)\n",
    "        x180_both.play(signal=target.signals[\"drive\"], pulse=x180_pulse_target)\n",
    "        gate.add(x180_both)\n",
    "\n",
    "        # First cross-resonance component\n",
    "        cancellation_p = Section(\n",
    "            uid=id_generator(f\"{cx_id}_canc_p\"), play_after=x180_both.uid\n",
    "        )\n",
    "        cancellation_p.play(signal=target.signals[\"drive\"], pulse=cancellation_target_p)\n",
    "        cancellation_p.play(\n",
    "            signal=control.signals[\"flux\"], pulse=cancellation_control_n\n",
    "        )\n",
    "        gate.add(cancellation_p)\n",
    "\n",
    "        # play X pulse on control\n",
    "        x180_control = Section(\n",
    "            uid=id_generator(f\"{cx_id}_x_q0\"), play_after=cancellation_p.uid\n",
    "        )\n",
    "        x180_control.play(signal=control.signals[\"drive\"], pulse=x180_pulse_control)\n",
    "        gate.add(x180_control)\n",
    "\n",
    "        # Second cross-resonance component\n",
    "        cancellation_n = Section(\n",
    "            uid=id_generator(f\"cx_{cx_id}_canc_n\"), play_after=x180_control.uid\n",
    "        )\n",
    "        cancellation_n.play(signal=target.signals[\"drive\"], pulse=cancellation_target_n)\n",
    "        cancellation_n.play(\n",
    "            signal=control.signals[\"flux\"], pulse=cancellation_control_p\n",
    "        )\n",
    "        gate.add(cancellation_n)\n",
    "\n",
    "        return gate\n",
    "\n",
    "    return cx_gate"
   ]
  },
  {
   "cell_type": "markdown",
   "metadata": {},
   "source": [
    "## 3. Randomised benchmarking circuits from Qiskit"
   ]
  },
  {
   "cell_type": "markdown",
   "metadata": {},
   "source": [
    "You'll start by creating Standard RB experiments from the Qiskit Experiment Library [here](https://qiskit.org/ecosystem/experiments/stubs/qiskit_experiments.library.randomized_benchmarking.StandardRB.html#qiskit_experiments.library.randomized_benchmarking.StandardRB). \n",
    "We do this for one and two qubits for a few different sequence lengths.\n",
    "\n",
    "Note that most circuits that can be generated in Qiskit and converted to OpenQASM could be adapted to be run in a similar way in LabOne Q! "
   ]
  },
  {
   "cell_type": "code",
   "execution_count": null,
   "metadata": {},
   "outputs": [],
   "source": [
    "# Use Qiskit Experiment Library to Generate RB\n",
    "rb1_qiskit_circuits = randomized_benchmarking.StandardRB(\n",
    "    physical_qubits=[0],\n",
    "    lengths=[4, 8, 16],\n",
    "    num_samples=2,\n",
    ").circuits()\n",
    "\n",
    "rb2_qiskit_circuits = randomized_benchmarking.StandardRB(\n",
    "    physical_qubits=[0, 1],\n",
    "    lengths=[4, 8, 16],\n",
    "    num_samples=2,\n",
    ").circuits()"
   ]
  },
  {
   "cell_type": "markdown",
   "metadata": {},
   "source": [
    "When efficiently importing and executing a list of quantum circuits, there currently are strong limitations as to how the measurements are scheduled in these experiment. \n",
    "We strip them here from the Qiskit circuit. We will re-add them to the LabOne Q experiment separately when doing the import.  "
   ]
  },
  {
   "cell_type": "code",
   "execution_count": null,
   "metadata": {},
   "outputs": [],
   "source": [
    "for circuit in rb1_qiskit_circuits:\n",
    "    circuit.remove_final_measurements()\n",
    "\n",
    "for circuit in rb2_qiskit_circuits:\n",
    "    circuit.remove_final_measurements()"
   ]
  },
  {
   "cell_type": "code",
   "execution_count": null,
   "metadata": {},
   "outputs": [],
   "source": [
    "rb1_qiskit_circuits[2].draw()"
   ]
  },
  {
   "cell_type": "code",
   "execution_count": null,
   "metadata": {},
   "outputs": [],
   "source": [
    "rb2_qiskit_circuits[2].draw()"
   ]
  },
  {
   "cell_type": "markdown",
   "metadata": {},
   "source": [
    "You can then use the Qiskit `transpile` function to obtain a representation of the circuits in your favorite set of basis gates."
   ]
  },
  {
   "cell_type": "code",
   "execution_count": null,
   "metadata": {},
   "outputs": [],
   "source": [
    "# Choose basis gates\n",
    "rb1_transpiled_circuits = transpile(\n",
    "    rb1_qiskit_circuits, basis_gates=[\"id\", \"sx\", \"x\", \"rz\", \"cx\"]\n",
    ")\n",
    "\n",
    "rb2_transpiled_circuits = transpile(\n",
    "    rb2_qiskit_circuits, basis_gates=[\"id\", \"sx\", \"x\", \"rz\", \"cx\"]\n",
    ")\n",
    "\n",
    "rb1_transpiled_circuits[2].draw()"
   ]
  },
  {
   "cell_type": "code",
   "execution_count": null,
   "metadata": {},
   "outputs": [],
   "source": [
    "rb1_program_list = []\n",
    "for circuit in rb1_transpiled_circuits:\n",
    "    rb1_program_list.append(qasm3.dumps(circuit))\n",
    "\n",
    "rb2_program_list = []\n",
    "for circuit in rb2_transpiled_circuits:\n",
    "    rb2_program_list.append(qasm3.dumps(circuit))\n",
    "\n",
    "\n",
    "print(rb1_program_list[2])"
   ]
  },
  {
   "cell_type": "markdown",
   "metadata": {},
   "source": [
    "## 4. Execute one Qubit RB"
   ]
  },
  {
   "cell_type": "markdown",
   "metadata": {},
   "source": [
    "#### Define Gates, Load QASM 3 Program, and Go!"
   ]
  },
  {
   "cell_type": "markdown",
   "metadata": {},
   "source": [
    "Now, you'll map your OpenQASM gates to signals produced on the instruments using `register_gate` and `register_gate_section` functions. \n",
    "\n",
    "Once you've done that, you can compile your experiment and plot the output using the LabOne Q simulator."
   ]
  },
  {
   "cell_type": "code",
   "execution_count": null,
   "metadata": {},
   "outputs": [],
   "source": [
    "rb1_gate_store = GateStore()\n",
    "\n",
    "# Note: the below may need to be updated to match the\n",
    "# names of your qubits from your QASM circuit!\n",
    "rb1_qubit_map = {\"q[0]\": q0}\n",
    "\n",
    "# Single qubit gates:\n",
    "for oq3_qubit, l1q_qubit in rb1_qubit_map.items():\n",
    "    rb1_gate_store.register_gate(\n",
    "        \"sx\",\n",
    "        oq3_qubit,\n",
    "        drive_pulse(l1q_qubit, label=\"sx\", amplitude_scale=0.5),\n",
    "        signal=l1q_qubit.signals[\"drive\"],\n",
    "    )\n",
    "    rb1_gate_store.register_gate(\n",
    "        \"x\",\n",
    "        oq3_qubit,\n",
    "        drive_pulse(l1q_qubit, label=\"x\"),\n",
    "        signal=l1q_qubit.signals[\"drive\"],\n",
    "    )\n",
    "    rb1_gate_store.register_gate_section(\"rz\", (oq3_qubit,), rz(l1q_qubit))\n",
    "    rb1_gate_store.register_gate_section(\n",
    "        \"measure\", (oq3_qubit,), measurement(l1q_qubit)\n",
    "    )"
   ]
  },
  {
   "cell_type": "markdown",
   "metadata": {},
   "source": [
    "### 4.1 Compile and execute a single QASM program"
   ]
  },
  {
   "cell_type": "code",
   "execution_count": null,
   "metadata": {},
   "outputs": [],
   "source": [
    "rb1_exp = exp_from_qasm(\n",
    "    rb1_program_list[2], qubits=rb1_qubit_map, gate_store=rb1_gate_store\n",
    ")\n",
    "rb1_compiled_exp = my_session.compile(rb1_exp)\n",
    "\n",
    "# _ = my_session.run(rb1_compiled_exp)"
   ]
  },
  {
   "cell_type": "code",
   "execution_count": null,
   "metadata": {},
   "outputs": [],
   "source": [
    "plot_simulation(\n",
    "    rb1_compiled_exp,\n",
    "    length=1.6e-6,\n",
    "    plot_width=12,\n",
    "    plot_height=3,\n",
    "    signals=[\n",
    "        \"/logical_signal_groups/q0/drive_line\",\n",
    "    ],\n",
    ")"
   ]
  },
  {
   "cell_type": "markdown",
   "metadata": {},
   "source": [
    "#### Draw the circuit from above"
   ]
  },
  {
   "cell_type": "code",
   "execution_count": null,
   "metadata": {},
   "outputs": [],
   "source": [
    "rb1_transpiled_circuits[2].draw()"
   ]
  },
  {
   "cell_type": "markdown",
   "metadata": {},
   "source": [
    "#### Look at the pulse sheet"
   ]
  },
  {
   "cell_type": "code",
   "execution_count": null,
   "metadata": {},
   "outputs": [],
   "source": [
    "show_pulse_sheet(name=\"1-qubit RB\", compiled_experiment=rb1_compiled_exp)"
   ]
  },
  {
   "cell_type": "markdown",
   "metadata": {},
   "source": [
    "### 4.2 Compile and execute a list of QASM programs"
   ]
  },
  {
   "cell_type": "code",
   "execution_count": null,
   "metadata": {},
   "outputs": [],
   "source": [
    "exp = exp_from_qasm_list(\n",
    "    rb1_program_list,\n",
    "    qubits=rb1_qubit_map,\n",
    "    gate_store=rb1_gate_store,\n",
    "    repetition_time=20e-5,\n",
    "    # batch_execution_mode=\"rt\",\n",
    "    batch_execution_mode=\"pipeline\",\n",
    "    do_reset=False,\n",
    "    count=1,\n",
    "    pipeline_chunk_count=2,\n",
    ")\n",
    "compiled_exp = my_session.compile(exp)\n",
    "\n",
    "_ = my_session.run(compiled_exp)"
   ]
  },
  {
   "cell_type": "code",
   "execution_count": null,
   "metadata": {},
   "outputs": [],
   "source": [
    "## KNOWN ISSUE - pulse sheet viewer and output simulation are not available"
   ]
  },
  {
   "cell_type": "markdown",
   "metadata": {},
   "source": [
    "### 4.3 Compile and execute a list of QASM programs - including active qubit reset"
   ]
  },
  {
   "cell_type": "code",
   "execution_count": null,
   "metadata": {},
   "outputs": [],
   "source": [
    "# add reset operation to the gate store\n",
    "for oq3_qubit, l1q_qubit in rb1_qubit_map.items():\n",
    "    rb1_gate_store.register_gate_section(\n",
    "        \"reset\", (oq3_qubit,), reset(l1q_qubit, drive_pulse(l1q_qubit, \"reset\"))\n",
    "    )"
   ]
  },
  {
   "cell_type": "code",
   "execution_count": null,
   "metadata": {},
   "outputs": [],
   "source": [
    "exp = exp_from_qasm_list(\n",
    "    rb1_program_list,\n",
    "    qubits=rb1_qubit_map,\n",
    "    gate_store=rb1_gate_store,\n",
    "    repetition_time=20e-5,\n",
    "    # batch_execution_mode=\"rt\",\n",
    "    batch_execution_mode=\"pipeline\",\n",
    "    do_reset=True,\n",
    "    count=1,\n",
    "    pipeline_chunk_count=3,\n",
    ")\n",
    "compiled_exp = my_session.compile(exp)\n",
    "\n",
    "_ = my_session.run(compiled_exp)"
   ]
  },
  {
   "cell_type": "markdown",
   "metadata": {},
   "source": [
    "## 5. Execute two Qubit RB"
   ]
  },
  {
   "cell_type": "markdown",
   "metadata": {},
   "source": [
    "#### Define Gates, Load QASM 3 Program, and Go!"
   ]
  },
  {
   "cell_type": "markdown",
   "metadata": {},
   "source": [
    "Now, you'll map your OpenQASM gates to signals produced on the instruments using `register_gate` and `register_gate_section` functions. \n",
    "\n",
    "Once you've done that, you can compile your experiment and plot the output using the LabOne Q simulator."
   ]
  },
  {
   "cell_type": "code",
   "execution_count": null,
   "metadata": {},
   "outputs": [],
   "source": [
    "rb2_gate_store = GateStore()\n",
    "\n",
    "# Note: the below may need to be updated to match the\n",
    "# names of your qubits from your QASM circuit!\n",
    "rb2_qubit_map = {\"q[0]\": q0, \"q[1]\": q1}\n",
    "\n",
    "# Single qubit gates:\n",
    "for oq3_qubit, l1q_qubit in rb2_qubit_map.items():\n",
    "    rb2_gate_store.register_gate(\n",
    "        \"sx\",\n",
    "        oq3_qubit,\n",
    "        drive_pulse(l1q_qubit, label=\"sx\", amplitude_scale=0.5),\n",
    "        signal=l1q_qubit.signals[\"drive\"],\n",
    "    )\n",
    "    rb2_gate_store.register_gate(\n",
    "        \"x\",\n",
    "        oq3_qubit,\n",
    "        drive_pulse(l1q_qubit, label=\"x\"),\n",
    "        signal=l1q_qubit.signals[\"drive\"],\n",
    "    )\n",
    "    rb2_gate_store.register_gate_section(\"rz\", (oq3_qubit,), rz(l1q_qubit))\n",
    "    rb2_gate_store.register_gate_section(\n",
    "        \"measure\", (oq3_qubit,), measurement(l1q_qubit)\n",
    "    )\n",
    "\n",
    "# Two qubit gates:\n",
    "rb2_gate_store.register_gate_section(\"cx\", (\"q[0]\", \"q[1]\"), cx(q0, q1))\n",
    "rb2_gate_store.register_gate_section(\"cx\", (\"q[1]\", \"q[0]\"), cx(q1, q0))"
   ]
  },
  {
   "cell_type": "markdown",
   "metadata": {},
   "source": [
    "### 5.1 Compile and execute a single QASM program"
   ]
  },
  {
   "cell_type": "code",
   "execution_count": null,
   "metadata": {},
   "outputs": [],
   "source": [
    "rb2_exp = exp_from_qasm(\n",
    "    rb2_program_list[2], qubits=rb2_qubit_map, gate_store=rb2_gate_store\n",
    ")\n",
    "rb2_compiled_exp = my_session.compile(rb2_exp)\n",
    "\n",
    "_ = my_session.run(rb2_compiled_exp)"
   ]
  },
  {
   "cell_type": "code",
   "execution_count": null,
   "metadata": {},
   "outputs": [],
   "source": [
    "plot_simulation(\n",
    "    rb2_compiled_exp,\n",
    "    length=15e-6,\n",
    "    plot_width=12,\n",
    "    plot_height=3,\n",
    "    signals=[\n",
    "        \"/logical_signal_groups/q0/flux_line\",\n",
    "        \"/logical_signal_groups/q1/flux_line\",\n",
    "        \"/logical_signal_groups/q0/drive_line\",\n",
    "        \"/logical_signal_groups/q1/drive_line\",\n",
    "    ],\n",
    ")"
   ]
  },
  {
   "cell_type": "markdown",
   "metadata": {},
   "source": [
    "#### Draw the circuit from above"
   ]
  },
  {
   "cell_type": "code",
   "execution_count": null,
   "metadata": {},
   "outputs": [],
   "source": [
    "rb2_transpiled_circuits[2].draw()"
   ]
  },
  {
   "cell_type": "markdown",
   "metadata": {},
   "source": [
    "#### Look at the pulse sheet"
   ]
  },
  {
   "cell_type": "code",
   "execution_count": null,
   "metadata": {},
   "outputs": [],
   "source": [
    "show_pulse_sheet(\n",
    "    name=\"2-qubit RB\", compiled_experiment=rb2_compiled_exp, max_events_to_publish=10e4\n",
    ")"
   ]
  },
  {
   "cell_type": "markdown",
   "metadata": {},
   "source": [
    "### 5.2 Compile and execute a list of QASM programs"
   ]
  },
  {
   "cell_type": "code",
   "execution_count": null,
   "metadata": {},
   "outputs": [],
   "source": [
    "exp = exp_from_qasm_list(\n",
    "    rb2_program_list,\n",
    "    qubits=rb2_qubit_map,\n",
    "    gate_store=rb2_gate_store,\n",
    "    repetition_time=100e-5,\n",
    "    # batch_execution_mode=\"rt\",\n",
    "    batch_execution_mode=\"pipeline\",\n",
    "    do_reset=False,\n",
    "    count=1,\n",
    "    pipeline_chunk_count=3,\n",
    ")\n",
    "compiled_exp = my_session.compile(exp)\n",
    "\n",
    "_ = my_session.run(compiled_exp)"
   ]
  },
  {
   "cell_type": "code",
   "execution_count": null,
   "metadata": {},
   "outputs": [],
   "source": [
    "## KNOWN ISSUE - pulse sheet viewer and output simulation are not available"
   ]
  },
  {
   "cell_type": "markdown",
   "metadata": {},
   "source": [
    "### 5.3 Compile and execute a list of QASM programs - including active qubit reset"
   ]
  },
  {
   "cell_type": "code",
   "execution_count": null,
   "metadata": {},
   "outputs": [],
   "source": [
    "# add reset operation to the gate store\n",
    "for oq3_qubit, l1q_qubit in rb2_qubit_map.items():\n",
    "    rb2_gate_store.register_gate_section(\n",
    "        \"reset\", (oq3_qubit,), reset(l1q_qubit, drive_pulse(l1q_qubit, \"reset\"))\n",
    "    )"
   ]
  },
  {
   "cell_type": "code",
   "execution_count": null,
   "metadata": {},
   "outputs": [],
   "source": [
    "exp = exp_from_qasm_list(\n",
    "    rb2_program_list,\n",
    "    qubits=rb2_qubit_map,\n",
    "    gate_store=rb2_gate_store,\n",
    "    repetition_time=100e-5,\n",
    "    # batch_execution_mode=\"rt\",\n",
    "    batch_execution_mode=\"pipeline\",\n",
    "    do_reset=True,\n",
    "    count=1,\n",
    "    pipeline_chunk_count=3,\n",
    ")\n",
    "compiled_exp = my_session.compile(exp)\n",
    "\n",
    "_ = my_session.run(compiled_exp)"
   ]
  },
  {
   "cell_type": "code",
   "execution_count": null,
   "metadata": {},
   "outputs": [],
   "source": []
  }
 ],
 "metadata": {
  "kernelspec": {
   "display_name": "develop",
   "language": "python",
   "name": "python3"
  },
  "language_info": {
   "codemirror_mode": {
    "name": "ipython",
    "version": 3
   },
   "file_extension": ".py",
   "mimetype": "text/x-python",
   "name": "python",
   "nbconvert_exporter": "python",
   "pygments_lexer": "ipython3",
   "version": "3.12.4"
  }
 },
 "nbformat": 4,
 "nbformat_minor": 4
}
