{
 "cells": [
  {
   "cell_type": "markdown",
   "metadata": {},
   "source": [
    "# One- and Two-Qubit Randomized Benchmarking in LabOne Q with Qiskit"
   ]
  },
  {
   "cell_type": "markdown",
   "metadata": {},
   "source": [
    "In this notebook, we'll use the [Qiskit Experiment Library](https://qiskit.org/ecosystem/experiments/apidocs/library.html) to generate one and two qubit randomized benchmarking experiments. \n",
    "We'll then export the generated experiment to [OpenQASM](https://openqasm.com/), import these OpenQASM experiments into LabOne Q, compile, and simulate the output signals.\n",
    "\n",
    "When generating randomized benchmarking experiments in Qiskit, it will return a list of quantum circuits with the specified parameters. \n",
    "We show here how to efficiently import, compile and execute such a list into LabOne Q, resulting in a single, large experiment."
   ]
  },
  {
   "cell_type": "markdown",
   "metadata": {},
   "source": [
    "## Imports"
   ]
  },
  {
   "cell_type": "code",
   "execution_count": null,
   "metadata": {},
   "outputs": [],
   "source": [
    "from __future__ import annotations\n",
    "\n",
    "# LabOne Q:\n",
    "# additional imports\n",
    "# device setup and descriptor\n",
    "from laboneq import openqasm3\n",
    "from laboneq.contrib.example_helpers.generate_device_setup import (\n",
    "    generate_device_setup_qubits,\n",
    ")\n",
    "\n",
    "# plotting functionality\n",
    "from laboneq.contrib.example_helpers.plotting.plot_helpers import plot_simulation\n",
    "\n",
    "# core LabOne Q functionality\n",
    "from laboneq.simple import *\n",
    "\n",
    "# qiskit\n",
    "from qiskit import qasm3, transpile\n",
    "from qiskit_experiments.library import randomized_benchmarking"
   ]
  },
  {
   "cell_type": "markdown",
   "metadata": {},
   "source": [
    "## Define the Experimental Setup"
   ]
  },
  {
   "cell_type": "markdown",
   "metadata": {},
   "source": [
    "Below, we generate a pre-calibrated experimental setup containing a [DeviceSetup](https://docs.zhinst.com/labone_q_user_manual/core/functionality_and_concepts/00_device_setup/concepts/00_set_up_equipment.html#devicesetup), [Transmon qubits](https://docs.zhinst.com/labone_q_user_manual/core/reference/dsl/quantum.html?h=transmon#laboneq.dsl.quantum.transmon.Transmon) and a [Session](https://docs.zhinst.com/labone_q_user_manual/core/functionality_and_concepts/01_session/concepts/00_session.html?h=session) to run the experiments. "
   ]
  },
  {
   "cell_type": "code",
   "execution_count": null,
   "metadata": {},
   "outputs": [],
   "source": [
    "# specify the number of qubits you want to use\n",
    "number_of_qubits = 2\n",
    "\n",
    "# generate the device setup and the qubit objects using a helper function\n",
    "device_setup, qubits = generate_device_setup_qubits(\n",
    "    number_qubits=number_of_qubits,\n",
    "    pqsc=[{\"serial\": \"DEV10001\"}],\n",
    "    hdawg=[{\"serial\": \"DEV8001\", \"zsync\": 0, \"number_of_channels\": 8, \"options\": None}],\n",
    "    shfqc=[\n",
    "        {\n",
    "            \"serial\": \"DEV12001\",\n",
    "            \"zsync\": 1,\n",
    "            \"number_of_channels\": 6,\n",
    "            \"readout_multiplex\": 6,\n",
    "            \"options\": None,\n",
    "        }\n",
    "    ],\n",
    "    include_flux_lines=True,\n",
    "    server_host=\"localhost\",\n",
    "    setup_name=f\"my_{number_of_qubits}_tuneable_qubit_setup\",\n",
    ")\n",
    "\n",
    "q0, q1 = qubits[:2]"
   ]
  },
  {
   "cell_type": "code",
   "execution_count": null,
   "metadata": {},
   "outputs": [],
   "source": [
    "# create and connect to Session\n",
    "\n",
    "# use emulation mode - no connection to instruments\n",
    "use_emulation = True\n",
    "\n",
    "my_session = Session(device_setup=device_setup)\n",
    "my_session.connect(do_emulation=use_emulation, reset_devices=True)"
   ]
  },
  {
   "cell_type": "markdown",
   "metadata": {},
   "source": [
    "## Defining the QPU and Quantum Operations"
   ]
  },
  {
   "cell_type": "markdown",
   "metadata": {},
   "source": [
    "Here, we define the QPU and the class of quantum operations corresponding to the gates in our QASM programs for Randomized Benchmarking produced with Qiskit. \n",
    "\n",
    "To learn more about quantum operations, check out these pages in the LabOne Q User's Manual, [here](https://docs.zhinst.com/labone_q_user_manual/core/functionality_and_concepts/03_sections_pulses_and_quantum_operations/concepts/08_quantum_operations.html) and [here](https://docs.zhinst.com/labone_q_user_manual/applications_library/tutorials/sources/quantum_operations.html). To learn more about the QPU, have a look at [this page](https://docs.zhinst.com/labone_q_user_manual/applications_library/tutorials/sources/getting_started.html)."
   ]
  },
  {
   "cell_type": "code",
   "execution_count": null,
   "metadata": {},
   "outputs": [],
   "source": [
    "class QASMOperations(dsl.QuantumOperations):\n",
    "    \"\"\"Class implementing the collection of quantum operations.\n",
    "\n",
    "    Operations for the QASM RB experiments created by Qiskit.\n",
    "    \"\"\"\n",
    "\n",
    "    QUBIT_TYPES = Transmon\n",
    "\n",
    "    @dsl.quantum_operation\n",
    "    def delay(self, q: Transmon, time: float) -> None:\n",
    "        \"\"\"A delay operation on the drive signal of the qubit.\"\"\"\n",
    "        dsl.delay(q.signals[\"drive\"], time=time)\n",
    "\n",
    "    @dsl.quantum_operation\n",
    "    def x(\n",
    "        self,\n",
    "        q: Transmon,\n",
    "        amplitude_scale: float = 1.0,\n",
    "        amplitude: float | None = None,\n",
    "        label: str = \"x\",\n",
    "    ) -> None:\n",
    "        \"\"\"A drag pulse implementing an x rotation.\n",
    "\n",
    "        The pulse length and amplitude are taken from the qubit parameters.\n",
    "        \"\"\"\n",
    "        pulse_parameters = {\"function\": \"drag\"}\n",
    "        x_pulse = dsl.create_pulse(pulse_parameters, name=f\"{q.uid}_{label}\")\n",
    "        if amplitude is None:\n",
    "            amplitude = amplitude_scale * q.parameters.user_defined[\"amplitude_pi\"]\n",
    "        dsl.play(\n",
    "            q.signals[\"drive\"],\n",
    "            amplitude=amplitude,\n",
    "            length=q.parameters.user_defined[\"pulse_length\"],\n",
    "            pulse=x_pulse,\n",
    "        )\n",
    "\n",
    "    @dsl.quantum_operation\n",
    "    def sx(self, q: Transmon) -> None:\n",
    "        \"\"\"An sx operation used in the RB decomposition.\n",
    "\n",
    "        Calls the x operation with a fixed amplitude_scale of 0.5.\n",
    "        \"\"\"\n",
    "        self.x.omit_section(q, amplitude_scale=0.5, label=\"sx\")\n",
    "\n",
    "    @dsl.quantum_operation\n",
    "    def rz(self, q: Transmon, angle: float) -> None:\n",
    "        \"\"\"An operation implementing a z rotation by the given angle.\"\"\"\n",
    "        dsl.play(\n",
    "            signal=q.signals[\"drive\"],\n",
    "            pulse=None,\n",
    "            increment_oscillator_phase=angle,\n",
    "        )\n",
    "\n",
    "    @dsl.quantum_operation\n",
    "    def measure(self, q: Transmon, handle: str) -> None:\n",
    "        \"\"\"An operation implementing a qubit measurement.\n",
    "\n",
    "        The results are stored under the name given by handle. The readout\n",
    "        and integration parameters are taken from the qubit.\n",
    "        \"\"\"\n",
    "        ro_pulse_parameters = {\"function\": \"gaussian_square\", \"zero_boundaries\": True}\n",
    "        ro_pulse = dsl.create_pulse(ro_pulse_parameters, name=f\"{q.uid}_readout_pulse\")\n",
    "        int_pulse_parameters = {\"function\": \"const\"}\n",
    "        kernels = [\n",
    "            dsl.create_pulse(int_pulse_parameters, name=f\"{q.uid}_integration_kernel\")\n",
    "        ]\n",
    "        dsl.measure(\n",
    "            measure_signal=q.signals[\"measure\"],\n",
    "            measure_pulse_amplitude=q.parameters.user_defined[\"readout_amplitude\"],\n",
    "            measure_pulse_length=q.parameters.user_defined[\"readout_length\"],\n",
    "            measure_pulse=ro_pulse,\n",
    "            handle=handle,\n",
    "            acquire_signal=q.signals[\"acquire\"],\n",
    "            integration_kernel=kernels,\n",
    "            integration_length=q.parameters.user_defined[\"readout_length\"],\n",
    "            reset_delay=None,\n",
    "        )\n",
    "\n",
    "    @dsl.quantum_operation\n",
    "    def reset(self, q: Transmon) -> None:\n",
    "        \"\"\"An operation implementing active reset on a qubit.\"\"\"\n",
    "        handle = f\"{q.uid}_qubit_state\"\n",
    "        self.measure(q, handle=handle)\n",
    "        self.delay(q, q.parameters.user_defined[\"reset_delay_length\"])\n",
    "        with dsl.match(name=f\"match_{q.uid}\", handle=handle):\n",
    "            with dsl.case(name=f\"case_{q.uid}_g\", state=0):\n",
    "                pass\n",
    "            with dsl.case(name=f\"case_{q.uid}_e\", state=1):\n",
    "                self.x.omit_section(q)\n",
    "\n",
    "    @dsl.quantum_operation\n",
    "    def cx(self, q_control: Transmon, q_target: Transmon) -> None:\n",
    "        \"\"\"An operation implementing a cx gate on two qubits.\n",
    "\n",
    "        The controlled X gate is implemented using a cross-resonance gate.\n",
    "        \"\"\"\n",
    "        cx_id = f\"cx_{q_control.uid}_{q_target.uid}\"\n",
    "\n",
    "        # define cancellation pulses for target and control\n",
    "        cancellation_control_n = dsl.create_pulse(\n",
    "            {\"function\": \"gaussian_square\"}, name=\"CR-\"\n",
    "        )\n",
    "        cancellation_control_p = dsl.create_pulse(\n",
    "            {\"function\": \"gaussian_square\"}, name=\"CR+\"\n",
    "        )\n",
    "        cancellation_target_p = dsl.create_pulse(\n",
    "            {\"function\": \"gaussian_square\"}, name=\"q1+\"\n",
    "        )\n",
    "        cancellation_target_n = dsl.create_pulse(\n",
    "            {\"function\": \"gaussian_square\"}, name=\"q1-\"\n",
    "        )\n",
    "\n",
    "        # play X pulses on both target and control\n",
    "        with dsl.section(name=f\"{cx_id}_x_both\") as x180_both:\n",
    "            self.x(q_control, label=\"x180\")\n",
    "            self.x(q_target, label=\"x180\")\n",
    "\n",
    "        # First cross-resonance component\n",
    "        with dsl.section(\n",
    "            name=f\"{cx_id}_canc_p\", play_after=x180_both.uid\n",
    "        ) as cancellation_p:\n",
    "            dsl.play(signal=q_target.signals[\"drive\"], pulse=cancellation_target_p)\n",
    "            dsl.play(signal=q_control.signals[\"flux\"], pulse=cancellation_control_n)\n",
    "\n",
    "        # play X pulse on control\n",
    "        x180_control = self.x(q_control, label=\"x180\")\n",
    "        x180_control.play_after = cancellation_p.uid\n",
    "\n",
    "        # Second cross-resonance component\n",
    "        with dsl.section(\n",
    "            name=f\"cx_{cx_id}_canc_n\", play_after=x180_control.uid\n",
    "        ):\n",
    "            dsl.play(signal=q_target.signals[\"drive\"], pulse=cancellation_target_n)\n",
    "            dsl.play(signal=q_control.signals[\"flux\"], pulse=cancellation_control_p)"
   ]
  },
  {
   "cell_type": "code",
   "execution_count": null,
   "metadata": {},
   "outputs": [],
   "source": [
    "from laboneq.dsl.quantum import QPU\n",
    "\n",
    "qpu = QPU(qubits=[q0, q1], quantum_operations=QASMOperations())"
   ]
  },
  {
   "cell_type": "markdown",
   "metadata": {},
   "source": [
    "## Single-Qubit Randomized Benchmarking using Qiskit"
   ]
  },
  {
   "cell_type": "markdown",
   "metadata": {},
   "source": [
    "You'll start by creating Standard RB experiments from the Qiskit Experiment Library [here](https://qiskit.org/ecosystem/experiments/stubs/qiskit_experiments.library.randomized_benchmarking.StandardRB.html#qiskit_experiments.library.randomized_benchmarking.StandardRB). \n",
    "Here, we do this for one qubit for a few different RB sequence lengths.\n",
    "\n",
    "Note that most circuits that can be generated in Qiskit and converted to OpenQASM could be adapted to be run in a similar way in LabOne Q! "
   ]
  },
  {
   "cell_type": "markdown",
   "metadata": {},
   "source": [
    "### Define Circuits with Qiskit"
   ]
  },
  {
   "cell_type": "code",
   "execution_count": null,
   "metadata": {},
   "outputs": [],
   "source": [
    "# Use Qiskit Experiment Library to Generate RB\n",
    "rb1_qiskit_circuits = randomized_benchmarking.StandardRB(\n",
    "    physical_qubits=[0],\n",
    "    lengths=[4, 8, 16],\n",
    "    num_samples=2,\n",
    ").circuits()"
   ]
  },
  {
   "cell_type": "markdown",
   "metadata": {},
   "source": [
    "When efficiently importing and executing a list of quantum circuits, there currently are strong limitations as to how the measurements are scheduled in these experiment. \n",
    "We strip them here from the Qiskit circuit. We will re-add them to the LabOne Q experiment separately when doing the import.  "
   ]
  },
  {
   "cell_type": "code",
   "execution_count": null,
   "metadata": {},
   "outputs": [],
   "source": [
    "for circuit in rb1_qiskit_circuits:\n",
    "    circuit.remove_final_measurements()"
   ]
  },
  {
   "cell_type": "code",
   "execution_count": null,
   "metadata": {},
   "outputs": [],
   "source": [
    "rb1_qiskit_circuits[2].draw()"
   ]
  },
  {
   "cell_type": "markdown",
   "metadata": {},
   "source": [
    "You can then use the Qiskit `transpile` function to obtain a representation of the circuits in your favorite set of basis gates.\n",
    "\n",
    "Below, we choose the basis `[\"id\", \"sx\", \"x\", \"rz\", \"cx\"]`. Note that all these gates (except the identity \"id\") must exist in your set of quantum operations!"
   ]
  },
  {
   "cell_type": "code",
   "execution_count": null,
   "metadata": {},
   "outputs": [],
   "source": [
    "# Choose basis gates\n",
    "rb1_transpiled_circuits = transpile(\n",
    "    rb1_qiskit_circuits, basis_gates=[\"id\", \"sx\", \"x\", \"rz\", \"cx\"]\n",
    ")"
   ]
  },
  {
   "cell_type": "code",
   "execution_count": null,
   "metadata": {},
   "outputs": [],
   "source": [
    "rb1_program_list = []\n",
    "for circuit in rb1_transpiled_circuits:\n",
    "    rb1_program_list.append(qasm3.dumps(circuit))\n",
    "\n",
    "print(rb1_program_list[2])"
   ]
  },
  {
   "cell_type": "markdown",
   "metadata": {},
   "source": [
    "### Execute a single QASM program"
   ]
  },
  {
   "cell_type": "markdown",
   "metadata": {},
   "source": [
    "Now, you'll transpile a single OpenQASM program into a LabOne Q `Experiment` pulse sequence using the class `OpenQASMTranspiler` and the options class `SingleProgramOptions`. Check out the [LabOne Q QASM transpiler tutorial](https://docs.zhinst.com/labone_q_user_manual/core/functionality_and_concepts/08_openqasm/00_program_to_experiment.html) to learn more about this interface.\n",
    "\n",
    "Once you've done that, you can compile your `Experiment` and plot the output using the LabOne Q simulator.\n",
    "\n",
    "**Note**: the parameter `qubit_map` below may need to be updated to match the names of the qubit register from your QASM circuit!\n",
    "\n",
    "Below, we choose the QASM program defined in the third entry of `rb1_program_list`."
   ]
  },
  {
   "cell_type": "code",
   "execution_count": null,
   "metadata": {},
   "outputs": [],
   "source": [
    "# Instantiate OpenQASMTranspiler from the QPU\n",
    "transpiler = openqasm3.OpenQASMTranspiler(qpu)\n",
    "\n",
    "# Define options\n",
    "options = openqasm3.SingleProgramOptions()\n",
    "# We will not change any of the default options\n",
    "\n",
    "# Create the Experiment\n",
    "rb1_exp_single_program = transpiler.experiment(\n",
    "    program=rb1_program_list[2],\n",
    "    qubit_map={\"q\": [q0]},\n",
    "    options=options,\n",
    ")\n",
    "\n",
    "# Set the Experiment calibration from the qubit calibration\n",
    "rb1_exp_single_program.set_calibration(q0.calibration())\n",
    "\n",
    "# Compile the Experiment\n",
    "rb1_compiled_exp_single_program = my_session.compile(rb1_exp_single_program)\n",
    "\n",
    "# Run the Experiment\n",
    "rb1_results_single_program = my_session.run(rb1_compiled_exp_single_program)"
   ]
  },
  {
   "cell_type": "markdown",
   "metadata": {},
   "source": [
    "#### Look at the simulated output"
   ]
  },
  {
   "cell_type": "code",
   "execution_count": null,
   "metadata": {},
   "outputs": [],
   "source": [
    "plot_simulation(\n",
    "    rb1_compiled_exp_single_program,\n",
    "    length=1.6e-6,\n",
    "    plot_width=12,\n",
    "    plot_height=3,\n",
    "    signal_names_to_show=[\"drive\"],\n",
    ")"
   ]
  },
  {
   "cell_type": "markdown",
   "metadata": {},
   "source": [
    "#### Draw the circuit from above"
   ]
  },
  {
   "cell_type": "code",
   "execution_count": null,
   "metadata": {},
   "outputs": [],
   "source": [
    "rb1_transpiled_circuits[2].draw()"
   ]
  },
  {
   "cell_type": "markdown",
   "metadata": {},
   "source": [
    "#### Look at the pulse sheet"
   ]
  },
  {
   "cell_type": "code",
   "execution_count": null,
   "metadata": {},
   "outputs": [],
   "source": [
    "show_pulse_sheet(name=\"1-qubit RB\", compiled_experiment=rb1_compiled_exp_single_program)"
   ]
  },
  {
   "cell_type": "markdown",
   "metadata": {},
   "source": [
    "### Execute the full RB Experiment\n",
    "\n",
    "Below, we will use the `.batch_experiment()` method to create and `Experiment` from our list of QASM programs `rb1_program_list`, containing the full single-qubit RB experiment. \n",
    "\n",
    "The entries in `rb1_program_list` are individual RB sequences of a given number of gates, `m`. In total, there will be $m\\times K$ sequences in the list, where `K` is the number of randomizations of each length (the `num_samples` parameter in the Qiskit interface above). In our choice above, we have $K=2$ and $m\\in \\{4, 8, 16\\}$.\n",
    "\n",
    "In the `MultiProgramOptions`, you can use the field `batch_execution_mode` to specify how all these RB sequences in the list should be executed: \n",
    "\n",
    "* all in real-time (\"rt\");\n",
    "* every sequence of `m` gates in real-time and the iteration over the sequences in near-time (\"nt\");\n",
    "* split the entries into the number of near-time steps (called \"chunks\") using the pipeliner (\"pipeline\"). Specify the number of chunks to use in the options field `pipeline_chunk_count`.\n",
    "\n",
    "Below, we use the \"pipeline\" option, and split our 10 sequences into 2 chunks of 3 RB sequences each. This means that we will have two near-time steps, and each real-time loop will run over 3 RB sequences (all the lengths, in our case).\n",
    "\n",
    "Note that here we use a different options class, `MultiProgramOptions`."
   ]
  },
  {
   "cell_type": "code",
   "execution_count": null,
   "metadata": {},
   "outputs": [],
   "source": [
    "# Instantiate OpenQASMTranspiler from the QPU\n",
    "transpiler = openqasm3.OpenQASMTranspiler(qpu)\n",
    "\n",
    "# Define options\n",
    "options = openqasm3.MultiProgramOptions()\n",
    "options.repetition_time = 20e-5\n",
    "options.batch_execution_mode = \"pipeline\"\n",
    "options.pipeline_chunk_count = 2\n",
    "options.add_reset = False\n",
    "\n",
    "# Create the Experiment\n",
    "rb1_exp = transpiler.batch_experiment(\n",
    "    programs=rb1_program_list,\n",
    "    qubit_map={\"q\": [q0]},\n",
    "    options=options,\n",
    ")\n",
    "\n",
    "# Set the Experiment calibration from the qubit calibration\n",
    "rb1_exp.set_calibration(q0.calibration())\n",
    "\n",
    "# Compile the Experiment\n",
    "rb1_compiled_exp = my_session.compile(rb1_exp)\n",
    "\n",
    "# Run the Experiment\n",
    "rb1_results = my_session.run(rb1_compiled_exp)"
   ]
  },
  {
   "cell_type": "code",
   "execution_count": null,
   "metadata": {},
   "outputs": [],
   "source": [
    "## KNOWN ISSUE - pulse sheet viewer and output simulation are not available"
   ]
  },
  {
   "cell_type": "markdown",
   "metadata": {},
   "source": [
    "### Execute the full RB Experiment - including active qubit reset\n",
    "\n",
    "Let's re-run the single-qubit RB experiment with active reset. Just set the options field `.add_reset` to `True`."
   ]
  },
  {
   "cell_type": "code",
   "execution_count": null,
   "metadata": {},
   "outputs": [],
   "source": [
    "# Instantiate OpenQASMTranspiler from the QPU\n",
    "transpiler = openqasm3.OpenQASMTranspiler(qpu)\n",
    "\n",
    "# Define options\n",
    "options = openqasm3.MultiProgramOptions()\n",
    "options.repetition_time = 20e-5\n",
    "options.batch_execution_mode = \"pipeline\"\n",
    "options.pipeline_chunk_count = 2\n",
    "options.add_reset = True\n",
    "\n",
    "# Create the Experiment\n",
    "rb1_exp_with_reset = transpiler.batch_experiment(\n",
    "    programs=rb1_program_list,\n",
    "    qubit_map={\"q\": [q0]},\n",
    "    options=options,\n",
    ")\n",
    "\n",
    "# Set the Experiment calibration from the qubit calibration\n",
    "rb1_exp_with_reset.set_calibration(q0.calibration())\n",
    "\n",
    "# Compile the Experiment\n",
    "rb1_compiled_exp_with_reset = my_session.compile(rb1_exp_with_reset)\n",
    "\n",
    "# Run the Experiment\n",
    "rb1_results_with_reset = my_session.run(rb1_compiled_exp_with_reset)"
   ]
  },
  {
   "cell_type": "markdown",
   "metadata": {},
   "source": [
    "## Two-Qubit Randomized Benchmarking using Qiskit"
   ]
  },
  {
   "cell_type": "markdown",
   "metadata": {},
   "source": [
    "### Define Circuits with Qiskit"
   ]
  },
  {
   "cell_type": "code",
   "execution_count": null,
   "metadata": {},
   "outputs": [],
   "source": [
    "# Use Qiskit Experiment Library to Generate RB\n",
    "rb2_qiskit_circuits = randomized_benchmarking.StandardRB(\n",
    "    physical_qubits=[0, 1],\n",
    "    lengths=[4, 8, 16],\n",
    "    num_samples=2,\n",
    ").circuits()"
   ]
  },
  {
   "cell_type": "markdown",
   "metadata": {},
   "source": [
    "When efficiently importing and executing a list of quantum circuits, there currently are strong limitations as to how the measurements are scheduled in these experiment. \n",
    "We strip them here from the Qiskit circuit. We will re-add them to the LabOne Q experiment separately when doing the import.  "
   ]
  },
  {
   "cell_type": "code",
   "execution_count": null,
   "metadata": {},
   "outputs": [],
   "source": [
    "for circuit in rb1_qiskit_circuits:\n",
    "    circuit.remove_final_measurements()"
   ]
  },
  {
   "cell_type": "code",
   "execution_count": null,
   "metadata": {},
   "outputs": [],
   "source": [
    "rb2_qiskit_circuits[0].draw()"
   ]
  },
  {
   "cell_type": "markdown",
   "metadata": {},
   "source": [
    "You can then use the Qiskit `transpile` function to obtain a representation of the circuits in your favorite set of basis gates. \n",
    "\n",
    "Below, we choose the basis `[\"id\", \"sx\", \"x\", \"rz\", \"cx\"]`. Note that all these gates (except the identity \"id\") must exist in your set of quantum operations!"
   ]
  },
  {
   "cell_type": "code",
   "execution_count": null,
   "metadata": {},
   "outputs": [],
   "source": [
    "# Choose basis gates\n",
    "rb2_transpiled_circuits = transpile(\n",
    "    rb2_qiskit_circuits, basis_gates=[\"id\", \"sx\", \"x\", \"rz\", \"cx\"]\n",
    ")"
   ]
  },
  {
   "cell_type": "code",
   "execution_count": null,
   "metadata": {},
   "outputs": [],
   "source": [
    "rb2_program_list = []\n",
    "for circuit in rb2_transpiled_circuits:\n",
    "    rb2_program_list.append(qasm3.dumps(circuit))\n",
    "\n",
    "\n",
    "print(rb2_program_list[0])"
   ]
  },
  {
   "cell_type": "markdown",
   "metadata": {},
   "source": [
    "### Execute a single QASM program"
   ]
  },
  {
   "cell_type": "markdown",
   "metadata": {},
   "source": [
    "Now, you'll transpile a two-qubit OpenQASM program into a LabOne Q `Experiment` pulse sequence using the class `OpenQASMTranspiler` and the options class `SingleProgramOptions`. Check out the [LabOne Q QASM transplier tutorial](https://docs.zhinst.com/labone_q_user_manual/core/functionality_and_concepts/08_openqasm/00_program_to_experiment.html) to learn more about this interface.\n",
    "\n",
    "Once you've done that, you can compile your `Experiment` and plot the output using the LabOne Q simulator.\n",
    "\n",
    "**Note**: the parameter `qubit_map` below may need to be updated to match the names of the qubit register from your QASM circuit!\n",
    "\n",
    "Below, we choose the QASM program defined in the first entry of `rb2_program_list`."
   ]
  },
  {
   "cell_type": "code",
   "execution_count": null,
   "metadata": {
    "scrolled": true
   },
   "outputs": [],
   "source": [
    "# Instantiate OpenQASMTranspiler from the QPU\n",
    "transpiler = openqasm3.OpenQASMTranspiler(qpu)\n",
    "\n",
    "# Define options\n",
    "options = openqasm3.SingleProgramOptions()\n",
    "# We will not change any of the default options\n",
    "\n",
    "# Create the Experiment\n",
    "rb2_exp_single_program = transpiler.experiment(\n",
    "    program=rb2_program_list[0],\n",
    "    qubit_map={\"q\": [q0, q1]},\n",
    "    options=options,\n",
    ")\n",
    "\n",
    "# Set the Experiment calibration from the qubit calibrations\n",
    "rb2_exp_single_program.set_calibration(q0.calibration())\n",
    "rb2_exp_single_program.set_calibration(q1.calibration())\n",
    "\n",
    "# Compile the Experiment\n",
    "rb2_compiled_exp_single_program = my_session.compile(rb2_exp_single_program)\n",
    "\n",
    "# Run the Experiment\n",
    "rb2_results_single_program = my_session.run(rb2_compiled_exp_single_program)"
   ]
  },
  {
   "cell_type": "markdown",
   "metadata": {},
   "source": [
    "#### Look at the simulated output"
   ]
  },
  {
   "cell_type": "code",
   "execution_count": null,
   "metadata": {},
   "outputs": [],
   "source": [
    "plot_simulation(\n",
    "    rb2_compiled_exp_single_program,\n",
    "    length=15e-6,\n",
    "    plot_width=12,\n",
    "    plot_height=3,\n",
    "    signal_names_to_show=[\n",
    "        \"q0/drive\",\n",
    "        \"q0/flux\",\n",
    "        \"q1/drive\",\n",
    "        \"q1/flux\",\n",
    "    ],\n",
    ")"
   ]
  },
  {
   "cell_type": "markdown",
   "metadata": {},
   "source": [
    "#### Draw the circuit from above"
   ]
  },
  {
   "cell_type": "code",
   "execution_count": null,
   "metadata": {},
   "outputs": [],
   "source": [
    "rb2_transpiled_circuits[0].draw()"
   ]
  },
  {
   "cell_type": "markdown",
   "metadata": {},
   "source": [
    "#### Look at the pulse sheet"
   ]
  },
  {
   "cell_type": "code",
   "execution_count": null,
   "metadata": {},
   "outputs": [],
   "source": [
    "show_pulse_sheet(\n",
    "    name=\"2-qubit RB\",\n",
    "    compiled_experiment=rb2_compiled_exp_single_program,\n",
    "    max_events_to_publish=10e4\n",
    ")"
   ]
  },
  {
   "cell_type": "markdown",
   "metadata": {},
   "source": [
    "### Execute the full RB Experiment\n",
    "\n",
    "Below, we will use the `.batch_experiment()` method to create and `Experiment` from our list of QASM programs, `rb2_program_list`, containing the full two-qubit RB experiment. \n",
    "\n",
    "The entries in `rb2_program_list` are individual RB sequences of a given number of gates, `m`. In total, there will be $m\\times K$ sequences in the list, where `K` is the number of randomizations of each length (the `num_samples` parameter in the Qiskit interface above). In our choice above, we have $K=2$ and $m\\in \\{4, 8, 16\\}$.\n",
    "\n",
    "In the `MultiProgramOptions`, you can use the field `batch_execution_mode` to specify how all these RB sequences in the list should be executed: \n",
    "\n",
    "* all in real-time (\"rt\");\n",
    "* every sequence of `m` gates in real-time and the iteration over the sequences in near-time (\"nt\");\n",
    "* split the entries into the number of near-time steps (called \"chunks\") using the pipeliner (\"pipeline\"). Specify the number of chunks to use in the options field `pipeline_chunk_count`.\n",
    "\n",
    "Below, we use the \"pipeline\" option, and split our 10 sequences into 2 chunks of 3 RB sequences each. This means that we will have two near-time steps, and each real-time loop will run over 3 RB sequences (all the lengths, in our case).\n",
    "\n",
    "Note that here we use a different options class, `MultiProgramOptions`."
   ]
  },
  {
   "cell_type": "code",
   "execution_count": null,
   "metadata": {
    "scrolled": true
   },
   "outputs": [],
   "source": [
    "# Instantiate OpenQASMTranspiler from the QPU\n",
    "transpiler = openqasm3.OpenQASMTranspiler(qpu)\n",
    "\n",
    "# Define options\n",
    "options = openqasm3.MultiProgramOptions()\n",
    "options.repetition_time = 100e-5\n",
    "options.batch_execution_mode = \"pipeline\"\n",
    "options.pipeline_chunk_count = 2\n",
    "options.add_reset = False\n",
    "\n",
    "# Create the Experiment\n",
    "rb2_exp = transpiler.batch_experiment(\n",
    "    programs=rb2_program_list,\n",
    "    qubit_map={\"q\": [q0, q1]},\n",
    "    options=options,\n",
    ")\n",
    "\n",
    "# Set the Experiment calibration from the qubit calibrations\n",
    "rb2_exp.set_calibration(q0.calibration())\n",
    "rb2_exp.set_calibration(q1.calibration())\n",
    "\n",
    "# Compile the Experiment\n",
    "rb2_compiled_exp = my_session.compile(rb2_exp)\n",
    "\n",
    "# Run the Experiment\n",
    "rb2_results = my_session.run(rb2_compiled_exp)"
   ]
  },
  {
   "cell_type": "code",
   "execution_count": null,
   "metadata": {},
   "outputs": [],
   "source": [
    "## KNOWN ISSUE - pulse sheet viewer and output simulation are not available"
   ]
  },
  {
   "cell_type": "markdown",
   "metadata": {},
   "source": [
    "### Execute the full RB Experiment - including active qubit reset\n",
    "\n",
    "Let's re-run the two-qubit RB experiment with active reset. Just set the options field `.add_reset` to `True`."
   ]
  },
  {
   "cell_type": "code",
   "execution_count": null,
   "metadata": {},
   "outputs": [],
   "source": [
    "# Instantiate OpenQASMTranspiler from the QPU\n",
    "transpiler = openqasm3.OpenQASMTranspiler(qpu)\n",
    "\n",
    "# Define options\n",
    "options = openqasm3.MultiProgramOptions()\n",
    "options.repetition_time = 100e-5\n",
    "options.batch_execution_mode = \"pipeline\"\n",
    "options.pipeline_chunk_count = 2\n",
    "options.add_reset = True\n",
    "\n",
    "# Create the Experiment\n",
    "rb2_exp_with_reset = transpiler.batch_experiment(\n",
    "    programs=rb2_program_list,\n",
    "    qubit_map={\"q\": [q0, q1]},\n",
    "    options=options,\n",
    ")\n",
    "\n",
    "# Set the Experiment calibration from the qubit calibrations\n",
    "rb2_exp_with_reset.set_calibration(q0.calibration())\n",
    "rb2_exp_with_reset.set_calibration(q1.calibration())\n",
    "\n",
    "# Compile the Experiment\n",
    "rb2_compiled_exp_with_reset = my_session.compile(rb2_exp_with_reset)\n",
    "\n",
    "# Run the Experiment\n",
    "rb2_results_with_reset = my_session.run(rb2_compiled_exp_with_reset)"
   ]
  }
 ],
 "metadata": {
  "kernelspec": {
   "display_name": "Python 3 (ipykernel)",
   "language": "python",
   "name": "python3"
  },
  "language_info": {
   "codemirror_mode": {
    "name": "ipython",
    "version": 3
   },
   "file_extension": ".py",
   "mimetype": "text/x-python",
   "name": "python",
   "nbconvert_exporter": "python",
   "pygments_lexer": "ipython3",
   "version": "3.12.3"
  }
 },
 "nbformat": 4,
 "nbformat_minor": 4
}
