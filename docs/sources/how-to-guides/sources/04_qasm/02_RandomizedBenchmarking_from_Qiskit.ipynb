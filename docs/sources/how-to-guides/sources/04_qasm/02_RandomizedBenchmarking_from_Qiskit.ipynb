{
 "cells": [
  {
   "cell_type": "markdown",
   "metadata": {},
   "source": [
    "# One- and Two-Qubit Randomized Benchmarking in LabOne Q with Qiskit"
   ]
  },
  {
   "cell_type": "markdown",
   "metadata": {},
   "source": [
    "In this notebook, we'll use the [Qiskit Experiment Library](https://qiskit.org/ecosystem/experiments/apidocs/library.html) to generate one and two qubit randomized benchmarking experiments. \n",
    "We'll then export the generated experiment to [OpenQASM](https://openqasm.com/), import these OpenQASM experiments into LabOne Q, compile, and simulate the output signals.\n",
    "\n",
    "When generating randomized benchmarking experiments in Qiskit, it will return a list of quantum circuits with the specified parameters. \n",
    "We show here how to efficiently import, compile and execute such a list into LabOne Q, resulting in a single, large experiment."
   ]
  },
  {
   "cell_type": "markdown",
   "metadata": {},
   "source": [
    "## Imports"
   ]
  },
  {
   "cell_type": "code",
   "execution_count": null,
   "metadata": {},
   "outputs": [],
   "source": [
    "from __future__ import annotations\n",
    "\n",
    "# LabOne Q:\n",
    "# additional imports\n",
    "# device setup and descriptor\n",
    "from laboneq import openqasm3\n",
    "\n",
    "# plotting functionality\n",
    "from laboneq.contrib.example_helpers.plotting.plot_helpers import plot_simulation\n",
    "\n",
    "# core LabOne Q functionality\n",
    "from laboneq.simple import *\n",
    "\n",
    "# qiskit\n",
    "from qiskit import qasm3, transpile\n",
    "from qiskit_experiments.library import randomized_benchmarking"
   ]
  },
  {
   "cell_type": "markdown",
   "metadata": {},
   "source": [
    "## Define the Experimental Setup"
   ]
  },
  {
   "cell_type": "markdown",
   "metadata": {},
   "source": [
    "Let's define our experimental setup. We will need:\n",
    "\n",
    "* a [DeviceSetup](https://docs.zhinst.com/labone_q_user_manual/core/functionality_and_concepts/00_device_setup/concepts/index.html)\n",
    "\n",
    "* `n` [TunableTransmonQubits](https://docs.zhinst.com/labone_q_user_manual/applications_library/reference/qpu_types/tunable_transmon.html#laboneq_applications.qpu_types.tunable_transmon.TunableTransmonQubit)\n",
    "\n",
    "* a set of [TunableTransmonOperations](https://docs.zhinst.com/labone_q_user_manual/applications_library/reference/qpu_types/tunable_transmon.html#laboneq_applications.qpu_types.tunable_transmon.TunableTransmonOperations)\n",
    "\n",
    "* a [QPU](https://docs.zhinst.com/labone_q_user_manual/core/reference/dsl/quantum.html#laboneq.dsl.quantum.qpu.QPU)"
   ]
  },
  {
   "cell_type": "markdown",
   "metadata": {},
   "source": [
    "Here, we will be brief. We will mainly provide the code to obtain these objects. To learn more, check out these other tutorials:\n",
    "\n",
    "* Details about [defining your experimental setup](https://docs.zhinst.com/labone_q_user_manual/applications_library/tutorials/sources/getting_started.html)\n",
    "\n",
    "* [Qubit parameters and how quantum operations use them](https://docs.zhinst.com/labone_q_user_manual/applications_library/tutorials/sources/quantum_operations.html)\n",
    "\n",
    "* [Quantum operations in general](https://docs.zhinst.com/labone_q_user_manual/core/functionality_and_concepts/04_quantum_processing_unit/tutorials/00_quantum_operations.html)\n",
    "\n",
    "* [Logbooks and data saving with Workflows](https://docs.zhinst.com/labone_q_user_manual/applications_library/tutorials/sources/logbooks.html)"
   ]
  },
  {
   "cell_type": "markdown",
   "metadata": {},
   "source": [
    "We will use 3 `TunableTransmonQubits` in this guide. Change this number to the one describing your setup."
   ]
  },
  {
   "cell_type": "code",
   "execution_count": null,
   "metadata": {},
   "outputs": [],
   "source": [
    "number_of_qubits = 3"
   ]
  },
  {
   "cell_type": "markdown",
   "metadata": {},
   "source": [
    "#### DeviceSetup\n",
    "\n",
    "This guide requires a setup that can drive and readout tunable transmon qubits. Your setup could contain an SHFQC+ instrument, or an SHFSG together with an SHFQA instrument. Here, we will use an SHFQC+ with 6 signal generation channels and a PQSC.\n",
    "\n",
    "If you have used LabOne Q before and already have a `DeviceSetup` for your setup, you can reuse that.\n",
    "\n",
    "If you do not have a `DeviceSetup`, you can create one using the code below. Just change the device numbers to the ones in your rack and adjust any other input parameters as needed."
   ]
  },
  {
   "cell_type": "code",
   "execution_count": null,
   "metadata": {},
   "outputs": [],
   "source": [
    "# generate the device setup using a helper function\n",
    "from laboneq.contrib.example_helpers.generate_device_setup import (\n",
    "    generate_device_setup,\n",
    ")\n",
    "\n",
    "setup = generate_device_setup(\n",
    "    number_qubits=number_of_qubits,\n",
    "    pqsc=[{\"serial\": \"DEV10001\"}],\n",
    "    hdawg=[\n",
    "        {\n",
    "            \"serial\": \"DEV8001\",\n",
    "            \"zsync\": 0,\n",
    "            \"number_of_channels\": 8,\n",
    "            \"options\": \"HDAWG8/MF/ME/SKW/PC\",\n",
    "        }\n",
    "    ],\n",
    "    shfqc=[\n",
    "        {\n",
    "            \"serial\": \"DEV12001\",\n",
    "            \"zsync\": 1,\n",
    "            \"number_of_channels\": 6,\n",
    "            \"readout_multiplex\": number_of_qubits,\n",
    "            \"options\": \"SHFQC/QC6CH/PLUS/16W\",\n",
    "        }\n",
    "    ],\n",
    "    include_flux_lines=True,\n",
    "    multiplex_drive_lines=True,  # adds drive_ef signal line\n",
    "    server_host=\"localhost\",\n",
    "    setup_name=f\"my_{number_of_qubits}_tunable_qubit_setup\",\n",
    ")"
   ]
  },
  {
   "cell_type": "markdown",
   "metadata": {},
   "source": [
    "#### Qubits\n",
    "\n",
    "We will generate 3 `TunableTransmonQubits` from the logical signal groups in our `DeviceSetup`. The names of the logical signal groups, `q0`, `q1`, `q2`, will be the UIDs of the qubits. Moreover, the qubits will have the same logical signal lines as the ones of the logical signal groups in the `DeviceSetup`."
   ]
  },
  {
   "cell_type": "code",
   "execution_count": null,
   "metadata": {},
   "outputs": [],
   "source": [
    "from laboneq_applications.qpu_types.tunable_transmon import TunableTransmonQubit\n",
    "\n",
    "qubits = TunableTransmonQubit.from_device_setup(setup)\n",
    "q0, q1, q2 = qubits"
   ]
  },
  {
   "cell_type": "code",
   "execution_count": null,
   "metadata": {},
   "outputs": [],
   "source": [
    "for q in qubits:\n",
    "    print(\"-------------\")\n",
    "    print(\"Qubit UID:\", q.uid)\n",
    "    print(\"Qubit logical signals:\")\n",
    "    for sig, lsg in q.signals.items():\n",
    "        print(f\"  {sig:<10} ('{lsg:>10}')\")"
   ]
  },
  {
   "cell_type": "markdown",
   "metadata": {},
   "source": [
    "Configure the qubit parameters to reflect the properties of the qubits on your QPU using the following code:"
   ]
  },
  {
   "cell_type": "code",
   "execution_count": null,
   "metadata": {},
   "outputs": [],
   "source": [
    "for q in qubits:\n",
    "    q.parameters.ge_drive_pulse[\"sigma\"] = 0.25\n",
    "    q.parameters.readout_amplitude = 0.5\n",
    "    q.parameters.reset_delay_length = 1e-6\n",
    "    q.parameters.readout_range_out = -25\n",
    "    q.parameters.readout_lo_frequency = 7.4e9\n",
    "\n",
    "qubits[0].parameters.drive_lo_frequency = 6.4e9\n",
    "qubits[0].parameters.resonance_frequency_ge = 6.3e9\n",
    "qubits[0].parameters.resonance_frequency_ef = 6.0e9\n",
    "qubits[0].parameters.readout_resonator_frequency = 7.0e9\n",
    "\n",
    "qubits[1].parameters.drive_lo_frequency = 6.4e9\n",
    "qubits[1].parameters.resonance_frequency_ge = 6.5e9\n",
    "qubits[1].parameters.resonance_frequency_ef = 6.3e9\n",
    "qubits[1].parameters.readout_resonator_frequency = 7.3e9\n",
    "\n",
    "qubits[2].parameters.drive_lo_frequency = 6.0e9\n",
    "qubits[2].parameters.resonance_frequency_ge = 5.8e9\n",
    "qubits[2].parameters.resonance_frequency_ef = 5.6e9\n",
    "qubits[2].parameters.readout_resonator_frequency = 7.2e9"
   ]
  },
  {
   "cell_type": "markdown",
   "metadata": {},
   "source": [
    "#### Quantum Operations\n",
    "\n",
    "Create the set of `TunableTransmonOperations`:"
   ]
  },
  {
   "cell_type": "code",
   "execution_count": null,
   "metadata": {},
   "outputs": [],
   "source": [
    "from laboneq_applications.qpu_types.tunable_transmon import TunableTransmonOperations\n",
    "\n",
    "qops = TunableTransmonOperations()"
   ]
  },
  {
   "cell_type": "markdown",
   "metadata": {},
   "source": [
    "#### QPU\n",
    "\n",
    "Create the `QPU` object from the qubits and the quantum operations"
   ]
  },
  {
   "cell_type": "code",
   "execution_count": null,
   "metadata": {},
   "outputs": [],
   "source": [
    "from laboneq.dsl.quantum import QPU\n",
    "\n",
    "qpu = QPU(qubits, quantum_operations=qops)"
   ]
  },
  {
   "cell_type": "markdown",
   "metadata": {},
   "source": [
    "#### Alternatively, load from a file\n",
    "\n",
    "If you already have a `DeviceSetup` and a `QPU` stored in `.json` files, you can simply load them back using the code below:\n",
    "\n",
    "```python\n",
    "from laboneq import serializers\n",
    "\n",
    "setup = serializers.load(full_path_to_device_setup_file)\n",
    "qpu = serializers.load(full_path_to_qpu_file)\n",
    "\n",
    "qubits = qpu.quantum_elements\n",
    "qops = qpu.quantum_operations\n",
    "```"
   ]
  },
  {
   "cell_type": "markdown",
   "metadata": {},
   "source": [
    "### Connect to Session"
   ]
  },
  {
   "cell_type": "code",
   "execution_count": null,
   "metadata": {},
   "outputs": [],
   "source": [
    "session = Session(setup)\n",
    "session.connect(do_emulation=True)  # do_emulation=False when at a real setup"
   ]
  },
  {
   "cell_type": "markdown",
   "metadata": {},
   "source": [
    "## QASM operations\n",
    "\n",
    "We need to make sure that the gate names that appear in the OpenQASM program are defined in our set of quantum operations. For the randomized benchmarking experiments in this notebook, we will need the gates `x`, `sx`, `rz`, `cx`, and a `reset` operation to implement active reset."
   ]
  },
  {
   "cell_type": "markdown",
   "metadata": {},
   "source": [
    "The `rz` operation already exists in our set of quantum operations:"
   ]
  },
  {
   "cell_type": "code",
   "execution_count": null,
   "metadata": {},
   "outputs": [],
   "source": [
    "qpu.quantum_operations.rz.src"
   ]
  },
  {
   "cell_type": "markdown",
   "metadata": {},
   "source": [
    "The `sx`, `x`, and `reset` operations exist in our set under the names `x90`, `x180`, and `active_reset`. Below, we create aliases for these existing operations to map them to the names of the equivalent operations in the OpenQASM program. To learn more about creating aliases for quantum operations, check out [our tutorial](https://docs.zhinst.com/labone_q_user_manual/core/functionality_and_concepts/04_quantum_processing_unit/tutorials/00_quantum_operations.html#aliases-for-quantum-operations)."
   ]
  },
  {
   "cell_type": "code",
   "execution_count": null,
   "metadata": {},
   "outputs": [],
   "source": [
    "qops = qpu.quantum_operations\n",
    "qops[\"sx\"] = qops.x90\n",
    "qops[\"x\"] = qops.x180\n",
    "qops[\"reset\"] = qops.active_reset"
   ]
  },
  {
   "cell_type": "markdown",
   "metadata": {},
   "source": [
    "Finally, we define the `cx` operation and register it to our existing set. Check out [our tutorial](https://docs.zhinst.com/labone_q_user_manual/core/functionality_and_concepts/04_quantum_processing_unit/tutorials/00_quantum_operations.html#registering-a-new-quantum-operation-to-an-existing-set) to learn more about registering a new operation to an existing set of quantum operations."
   ]
  },
  {
   "cell_type": "code",
   "execution_count": null,
   "metadata": {},
   "outputs": [],
   "source": [
    "@qops.register\n",
    "def cx(self, q_control: Transmon, q_target: Transmon) -> None:\n",
    "    \"\"\"An operation implementing a cx gate on two qubits.\n",
    "\n",
    "    The controlled X gate is implemented using a cross-resonance gate.\n",
    "    \"\"\"\n",
    "    cx_id = f\"cx_{q_control.uid}_{q_target.uid}\"\n",
    "\n",
    "    # define cancellation pulses for target and control\n",
    "    cancellation_control_n = dsl.create_pulse(\n",
    "        {\"function\": \"gaussian_square\"}, name=\"CR-\"\n",
    "    )\n",
    "    cancellation_control_p = dsl.create_pulse(\n",
    "        {\"function\": \"gaussian_square\"}, name=\"CR+\"\n",
    "    )\n",
    "    cancellation_target_p = dsl.create_pulse(\n",
    "        {\"function\": \"gaussian_square\"}, name=\"q1+\"\n",
    "    )\n",
    "    cancellation_target_n = dsl.create_pulse(\n",
    "        {\"function\": \"gaussian_square\"}, name=\"q1-\"\n",
    "    )\n",
    "\n",
    "    # play X pulses on both target and control\n",
    "    with dsl.section(name=f\"{cx_id}_x_both\") as x180_both:\n",
    "        self.x180(q_control)\n",
    "        self.x180(q_target)\n",
    "\n",
    "    # First cross-resonance component\n",
    "    with dsl.section(\n",
    "        name=f\"{cx_id}_canc_p\", play_after=x180_both.uid\n",
    "    ) as cancellation_p:\n",
    "        dsl.play(signal=q_target.signals[\"drive\"], pulse=cancellation_target_p)\n",
    "        dsl.play(signal=q_control.signals[\"flux\"], pulse=cancellation_control_n)\n",
    "\n",
    "    # play X pulse on control\n",
    "    x180_control = self.x180(q_control)\n",
    "    x180_control.play_after = cancellation_p.uid\n",
    "\n",
    "    # Second cross-resonance component\n",
    "    with dsl.section(name=f\"cx_{cx_id}_canc_n\", play_after=x180_control.uid):\n",
    "        dsl.play(signal=q_target.signals[\"drive\"], pulse=cancellation_target_n)\n",
    "        dsl.play(signal=q_control.signals[\"flux\"], pulse=cancellation_control_p)"
   ]
  },
  {
   "cell_type": "markdown",
   "metadata": {},
   "source": [
    "Great! Now we can move on to defining and running the randomized benchmarking experiments."
   ]
  },
  {
   "cell_type": "markdown",
   "metadata": {},
   "source": [
    "## Single-Qubit Randomized Benchmarking using Qiskit"
   ]
  },
  {
   "cell_type": "markdown",
   "metadata": {},
   "source": [
    "You'll start by creating Standard RB experiments from the Qiskit Experiment Library [here](https://qiskit.org/ecosystem/experiments/stubs/qiskit_experiments.library.randomized_benchmarking.StandardRB.html#qiskit_experiments.library.randomized_benchmarking.StandardRB). \n",
    "Here, we do this for one qubit for a few different RB sequence lengths.\n",
    "\n",
    "Note that most circuits that can be generated in Qiskit and converted to OpenQASM could be adapted to be run in a similar way in LabOne Q! "
   ]
  },
  {
   "cell_type": "markdown",
   "metadata": {},
   "source": [
    "### Define Circuits with Qiskit"
   ]
  },
  {
   "cell_type": "code",
   "execution_count": null,
   "metadata": {},
   "outputs": [],
   "source": [
    "# Use Qiskit Experiment Library to Generate RB\n",
    "rb1_qiskit_circuits = randomized_benchmarking.StandardRB(\n",
    "    physical_qubits=[0],\n",
    "    lengths=[4, 8, 16],\n",
    "    num_samples=2,\n",
    ").circuits()"
   ]
  },
  {
   "cell_type": "markdown",
   "metadata": {},
   "source": [
    "Handling the measurement operations in an OpenQASM program is currently not supported (see the Known-Issues section in our [release notes](https://docs.zhinst.com/labone_q_user_manual/release_notes/index.html#known-issues)).\n",
    "Here, we strip the measurement operation from the Qiskit circuit. We will add them to the LabOne Q experiment in `OpenQASMTranspiler.batch_experiment`."
   ]
  },
  {
   "cell_type": "code",
   "execution_count": null,
   "metadata": {},
   "outputs": [],
   "source": [
    "for circuit in rb1_qiskit_circuits:\n",
    "    circuit.remove_final_measurements()"
   ]
  },
  {
   "cell_type": "code",
   "execution_count": null,
   "metadata": {},
   "outputs": [],
   "source": [
    "rb1_qiskit_circuits[2].draw()"
   ]
  },
  {
   "cell_type": "markdown",
   "metadata": {},
   "source": [
    "You can then use the Qiskit `transpile` function to obtain a representation of the circuits in your favorite set of basis gates.\n",
    "\n",
    "Below, we choose the basis `[\"id\", \"sx\", \"x\", \"rz\", \"cx\"]`. Note that all these gates (except the identity \"id\") must exist in your set of quantum operations!"
   ]
  },
  {
   "cell_type": "code",
   "execution_count": null,
   "metadata": {},
   "outputs": [],
   "source": [
    "# Choose basis gates\n",
    "rb1_transpiled_circuits = transpile(\n",
    "    rb1_qiskit_circuits, basis_gates=[\"id\", \"sx\", \"x\", \"rz\", \"cx\"]\n",
    ")"
   ]
  },
  {
   "cell_type": "code",
   "execution_count": null,
   "metadata": {},
   "outputs": [],
   "source": [
    "rb1_program_list = [qasm3.dumps(circuit) for circuit in rb1_transpiled_circuits]\n",
    "\n",
    "print(rb1_program_list[2])"
   ]
  },
  {
   "cell_type": "markdown",
   "metadata": {},
   "source": [
    "### Execute a single QASM program"
   ]
  },
  {
   "cell_type": "markdown",
   "metadata": {},
   "source": [
    "Now, you'll transpile a single OpenQASM program into a LabOne Q `Experiment` pulse sequence using the class `OpenQASMTranspiler` and the options class `SingleProgramOptions`. Check out the [LabOne Q QASM transpiler tutorial](https://docs.zhinst.com/labone_q_user_manual/core/functionality_and_concepts/08_openqasm/tutorials/00_program_to_experiment.html) to learn more about this interface.\n",
    "\n",
    "Once you've done that, you can compile your `Experiment` and plot the output using the LabOne Q simulator.\n",
    "\n",
    "**Note**: the parameter `qubit_map` below may need to be updated to match the names of the qubit register from your QASM circuit!\n",
    "\n",
    "Below, we choose the QASM program defined in the third entry of `rb1_program_list`."
   ]
  },
  {
   "cell_type": "code",
   "execution_count": null,
   "metadata": {
    "scrolled": true
   },
   "outputs": [],
   "source": [
    "# Instantiate OpenQASMTranspiler from the QPU\n",
    "transpiler = openqasm3.OpenQASMTranspiler(qpu)\n",
    "\n",
    "# Define options\n",
    "options = openqasm3.SingleProgramOptions()\n",
    "# We will not change any of the default options\n",
    "\n",
    "# Create the Experiment\n",
    "rb1_exp_single_program = transpiler.experiment(\n",
    "    program=rb1_program_list[2],\n",
    "    qubit_map={\"q\": [q0]},\n",
    "    options=options,\n",
    ")\n",
    "\n",
    "# Compile the Experiment\n",
    "rb1_compiled_exp_single_program = session.compile(rb1_exp_single_program)\n",
    "\n",
    "# Run the Experiment\n",
    "rb1_results_single_program = session.run(rb1_compiled_exp_single_program)"
   ]
  },
  {
   "cell_type": "markdown",
   "metadata": {},
   "source": [
    "#### Look at the simulated output"
   ]
  },
  {
   "cell_type": "code",
   "execution_count": null,
   "metadata": {},
   "outputs": [],
   "source": [
    "plot_simulation(\n",
    "    rb1_compiled_exp_single_program,\n",
    "    length=0.8e-6,\n",
    "    plot_width=12,\n",
    "    plot_height=3,\n",
    "    signal_names_to_show=[\"drive\"],\n",
    ")"
   ]
  },
  {
   "cell_type": "markdown",
   "metadata": {},
   "source": [
    "#### Draw the circuit from above"
   ]
  },
  {
   "cell_type": "code",
   "execution_count": null,
   "metadata": {},
   "outputs": [],
   "source": [
    "rb1_transpiled_circuits[2].draw()"
   ]
  },
  {
   "cell_type": "markdown",
   "metadata": {},
   "source": [
    "#### Look at the pulse sheet"
   ]
  },
  {
   "cell_type": "code",
   "execution_count": null,
   "metadata": {},
   "outputs": [],
   "source": [
    "show_pulse_sheet(name=\"1-qubit RB\", compiled_experiment=rb1_compiled_exp_single_program)"
   ]
  },
  {
   "cell_type": "markdown",
   "metadata": {},
   "source": [
    "### Execute the full RB Experiment\n",
    "\n",
    "Below, we will use the `.batch_experiment()` method to create and `Experiment` from our list of QASM programs `rb1_program_list`, containing the full single-qubit RB experiment. \n",
    "\n",
    "The entries in `rb1_program_list` are individual RB sequences of a given number of gates, `m`. In total, there will be $m\\times K$ sequences in the list, where `K` is the number of randomizations of each length (the `num_samples` parameter in the Qiskit interface above). In our choice above, we have $K=2$ and $m\\in \\{4, 8, 16\\}$.\n",
    "\n",
    "In the `MultiProgramOptions`, you can use the field `batch_execution_mode` to specify how all these RB sequences in the list should be executed: \n",
    "\n",
    "* all in real-time (\"rt\");\n",
    "* every sequence of `m` gates in real-time and the iteration over the sequences in near-time (\"nt\");\n",
    "* split the entries into the number of near-time steps (called \"chunks\") using the pipeliner (\"pipeline\"). Specify the number of chunks to use in the options field `pipeline_chunk_count`.\n",
    "\n",
    "Below, we use the \"pipeline\" option, and split our 10 sequences into 2 chunks of 3 RB sequences each. This means that we will have two near-time steps, and each real-time loop will run over 3 RB sequences (all the lengths, in our case).\n",
    "\n",
    "Note that here we use a different options class, `MultiProgramOptions`."
   ]
  },
  {
   "cell_type": "code",
   "execution_count": null,
   "metadata": {},
   "outputs": [],
   "source": [
    "# Instantiate OpenQASMTranspiler from the QPU\n",
    "transpiler = openqasm3.OpenQASMTranspiler(qpu)\n",
    "\n",
    "# Define options\n",
    "options = openqasm3.MultiProgramOptions()\n",
    "options.batch_execution_mode = \"pipeline\"\n",
    "options.pipeline_chunk_count = 2\n",
    "options.add_measurement = (\n",
    "    True  # adds the measurement operations which were removed above\n",
    ")\n",
    "# Set the format of the result handles to align with the handles\n",
    "# defined in our quantum operations:\n",
    "options.add_measurement_handle = \"{qubit.uid}/result\"\n",
    "\n",
    "# Create the Experiment\n",
    "rb1_exp = transpiler.batch_experiment(\n",
    "    programs=rb1_program_list,\n",
    "    qubit_map={\"q\": [q0]},\n",
    "    options=options,\n",
    ")\n",
    "\n",
    "# Compile the Experiment\n",
    "rb1_compiled_exp = session.compile(rb1_exp)\n",
    "\n",
    "# Run the Experiment\n",
    "rb1_results = session.run(rb1_compiled_exp)"
   ]
  },
  {
   "cell_type": "code",
   "execution_count": null,
   "metadata": {},
   "outputs": [],
   "source": [
    "## KNOWN ISSUE - pulse sheet viewer and output simulation are not available"
   ]
  },
  {
   "cell_type": "markdown",
   "metadata": {},
   "source": [
    "### Execute the full RB Experiment - including active qubit reset\n",
    "\n",
    "Let's re-run the single-qubit RB experiment with active reset. Just set the options field `.add_reset` to `True`."
   ]
  },
  {
   "cell_type": "code",
   "execution_count": null,
   "metadata": {},
   "outputs": [],
   "source": [
    "# Instantiate OpenQASMTranspiler from the QPU\n",
    "transpiler = openqasm3.OpenQASMTranspiler(qpu)\n",
    "\n",
    "# Define options\n",
    "options = openqasm3.MultiProgramOptions()\n",
    "options.batch_execution_mode = \"pipeline\"\n",
    "options.pipeline_chunk_count = 2\n",
    "options.add_measurement = (\n",
    "    True  # adds the measurement operations which were removed above\n",
    ")\n",
    "# Set the format of the result handles to align with the handles\n",
    "# defined in our quantum operations:\n",
    "options.add_measurement_handle = \"{qubit.uid}/result\"\n",
    "options.add_reset = True\n",
    "\n",
    "# Create the Experiment\n",
    "rb1_exp_with_reset = transpiler.batch_experiment(\n",
    "    programs=rb1_program_list,\n",
    "    qubit_map={\"q\": [q0]},\n",
    "    options=options,\n",
    ")\n",
    "\n",
    "# Compile the Experiment\n",
    "rb1_compiled_exp_with_reset = session.compile(rb1_exp_with_reset)\n",
    "\n",
    "# Run the Experiment\n",
    "rb1_results_with_reset = session.run(rb1_compiled_exp_with_reset)"
   ]
  },
  {
   "cell_type": "markdown",
   "metadata": {},
   "source": [
    "## Two-Qubit Randomized Benchmarking using Qiskit"
   ]
  },
  {
   "cell_type": "markdown",
   "metadata": {},
   "source": [
    "### Define Circuits with Qiskit"
   ]
  },
  {
   "cell_type": "code",
   "execution_count": null,
   "metadata": {},
   "outputs": [],
   "source": [
    "# Use Qiskit Experiment Library to Generate RB\n",
    "rb2_qiskit_circuits = randomized_benchmarking.StandardRB(\n",
    "    physical_qubits=[0, 1],\n",
    "    lengths=[4, 8, 16],\n",
    "    num_samples=2,\n",
    ").circuits()"
   ]
  },
  {
   "cell_type": "markdown",
   "metadata": {},
   "source": [
    "Handling the measurement operations in an OpenQASM program is currently not supported (see the Known-Issues section in our [release notes](https://docs.zhinst.com/labone_q_user_manual/release_notes/index.html#known-issues)).\n",
    "Here, we strip the measurement operation from the Qiskit circuit. We will add them to the LabOne Q experiment in `OpenQASMTranspiler.batch_experiment`."
   ]
  },
  {
   "cell_type": "code",
   "execution_count": null,
   "metadata": {},
   "outputs": [],
   "source": [
    "for circuit in rb2_qiskit_circuits:\n",
    "    circuit.remove_final_measurements()"
   ]
  },
  {
   "cell_type": "code",
   "execution_count": null,
   "metadata": {},
   "outputs": [],
   "source": [
    "rb2_qiskit_circuits[0].draw()"
   ]
  },
  {
   "cell_type": "markdown",
   "metadata": {},
   "source": [
    "You can then use the Qiskit `transpile` function to obtain a representation of the circuits in your favorite set of basis gates. \n",
    "\n",
    "Below, we choose the basis `[\"id\", \"sx\", \"x\", \"rz\", \"cx\"]`. Note that all these gates (except the identity \"id\") must exist in your set of quantum operations!"
   ]
  },
  {
   "cell_type": "code",
   "execution_count": null,
   "metadata": {},
   "outputs": [],
   "source": [
    "# Choose basis gates\n",
    "rb2_transpiled_circuits = transpile(\n",
    "    rb2_qiskit_circuits, basis_gates=[\"id\", \"sx\", \"x\", \"rz\", \"cx\"]\n",
    ")"
   ]
  },
  {
   "cell_type": "code",
   "execution_count": null,
   "metadata": {},
   "outputs": [],
   "source": [
    "rb2_program_list = [qasm3.dumps(circuit) for circuit in rb2_transpiled_circuits]\n",
    "print(rb2_program_list[0])"
   ]
  },
  {
   "cell_type": "markdown",
   "metadata": {},
   "source": [
    "### Execute a single QASM program"
   ]
  },
  {
   "cell_type": "markdown",
   "metadata": {},
   "source": [
    "Now, you'll transpile a two-qubit OpenQASM program into a LabOne Q `Experiment` pulse sequence using the class `OpenQASMTranspiler` and the options class `SingleProgramOptions`. Check out the [LabOne Q QASM transplier tutorial](https://docs.zhinst.com/labone_q_user_manual/core/functionality_and_concepts/08_openqasm/tutorials/00_program_to_experiment.html) to learn more about this interface.\n",
    "\n",
    "Once you've done that, you can compile your `Experiment` and plot the output using the LabOne Q simulator.\n",
    "\n",
    "**Note**: the parameter `qubit_map` below may need to be updated to match the names of the qubit register from your QASM circuit!\n",
    "\n",
    "Below, we choose the QASM program defined in the first entry of `rb2_program_list`."
   ]
  },
  {
   "cell_type": "code",
   "execution_count": null,
   "metadata": {
    "scrolled": true
   },
   "outputs": [],
   "source": [
    "# Instantiate OpenQASMTranspiler from the QPU\n",
    "transpiler = openqasm3.OpenQASMTranspiler(qpu)\n",
    "\n",
    "# Define options\n",
    "options = openqasm3.SingleProgramOptions()\n",
    "# We will not change any of the default options\n",
    "\n",
    "# Create the Experiment\n",
    "rb2_exp_single_program = transpiler.experiment(\n",
    "    program=rb2_program_list[0],\n",
    "    qubit_map={\"q\": [q0, q1]},\n",
    "    options=options,\n",
    ")\n",
    "\n",
    "# Compile the Experiment\n",
    "rb2_compiled_exp_single_program = session.compile(rb2_exp_single_program)\n",
    "\n",
    "# Run the Experiment\n",
    "rb2_results_single_program = session.run(rb2_compiled_exp_single_program)"
   ]
  },
  {
   "cell_type": "markdown",
   "metadata": {},
   "source": [
    "#### Look at the simulated output"
   ]
  },
  {
   "cell_type": "code",
   "execution_count": null,
   "metadata": {},
   "outputs": [],
   "source": [
    "plot_simulation(\n",
    "    rb2_compiled_exp_single_program,\n",
    "    length=3e-6,\n",
    "    plot_width=12,\n",
    "    plot_height=3,\n",
    "    signal_names_to_show=[\n",
    "        \"q0/drive\",\n",
    "        \"q0/flux\",\n",
    "        \"q1/drive\",\n",
    "        \"q1/flux\",\n",
    "    ],\n",
    ")"
   ]
  },
  {
   "cell_type": "markdown",
   "metadata": {},
   "source": [
    "#### Draw the circuit from above"
   ]
  },
  {
   "cell_type": "code",
   "execution_count": null,
   "metadata": {},
   "outputs": [],
   "source": [
    "rb2_transpiled_circuits[0].draw()"
   ]
  },
  {
   "cell_type": "markdown",
   "metadata": {},
   "source": [
    "#### Look at the pulse sheet"
   ]
  },
  {
   "cell_type": "code",
   "execution_count": null,
   "metadata": {},
   "outputs": [],
   "source": [
    "show_pulse_sheet(\n",
    "    name=\"2-qubit RB\",\n",
    "    compiled_experiment=rb2_compiled_exp_single_program,\n",
    "    max_events_to_publish=10e4,\n",
    ")"
   ]
  },
  {
   "cell_type": "markdown",
   "metadata": {},
   "source": [
    "### Execute the full RB Experiment\n",
    "\n",
    "Below, we will use the `.batch_experiment()` method to create and `Experiment` from our list of QASM programs, `rb2_program_list`, containing the full two-qubit RB experiment. \n",
    "\n",
    "The entries in `rb2_program_list` are individual RB sequences of a given number of gates, `m`. In total, there will be $m\\times K$ sequences in the list, where `K` is the number of randomizations of each length (the `num_samples` parameter in the Qiskit interface above). In our choice above, we have $K=2$ and $m\\in \\{4, 8, 16\\}$.\n",
    "\n",
    "In the `MultiProgramOptions`, you can use the field `batch_execution_mode` to specify how all these RB sequences in the list should be executed: \n",
    "\n",
    "* all in real-time (\"rt\");\n",
    "* every sequence of `m` gates in real-time and the iteration over the sequences in near-time (\"nt\");\n",
    "* split the entries into the number of near-time steps (called \"chunks\") using the pipeliner (\"pipeline\"). Specify the number of chunks to use in the options field `pipeline_chunk_count`.\n",
    "\n",
    "Below, we use the \"pipeline\" option, and split our 10 sequences into 2 chunks of 3 RB sequences each. This means that we will have two near-time steps, and each real-time loop will run over 3 RB sequences (all the lengths, in our case).\n",
    "\n",
    "Note that here we use a different options class, `MultiProgramOptions`."
   ]
  },
  {
   "cell_type": "code",
   "execution_count": null,
   "metadata": {
    "scrolled": true
   },
   "outputs": [],
   "source": [
    "# Instantiate OpenQASMTranspiler from the QPU\n",
    "transpiler = openqasm3.OpenQASMTranspiler(qpu)\n",
    "\n",
    "# Define options\n",
    "options = openqasm3.MultiProgramOptions()\n",
    "options.batch_execution_mode = \"pipeline\"\n",
    "options.pipeline_chunk_count = 2\n",
    "options.add_measurement = (\n",
    "    True  # adds the measurement operations which were removed above\n",
    ")\n",
    "# Set the format of the result handles to align with the handles\n",
    "# defined in our quantum operations:\n",
    "options.add_measurement_handle = \"{qubit.uid}/result\"\n",
    "\n",
    "# Create the Experiment\n",
    "rb2_exp = transpiler.batch_experiment(\n",
    "    programs=rb2_program_list,\n",
    "    qubit_map={\"q\": [q0, q1]},\n",
    "    options=options,\n",
    ")\n",
    "\n",
    "# Compile the Experiment\n",
    "rb2_compiled_exp = session.compile(rb2_exp)\n",
    "\n",
    "# Run the Experiment\n",
    "rb2_results = session.run(rb2_compiled_exp)"
   ]
  },
  {
   "cell_type": "code",
   "execution_count": null,
   "metadata": {},
   "outputs": [],
   "source": [
    "## KNOWN ISSUE - pulse sheet viewer and output simulation are not available"
   ]
  },
  {
   "cell_type": "markdown",
   "metadata": {},
   "source": [
    "### Execute the full RB Experiment - including active qubit reset\n",
    "\n",
    "Let's re-run the two-qubit RB experiment with active reset. Just set the options field `.add_reset` to `True`."
   ]
  },
  {
   "cell_type": "code",
   "execution_count": null,
   "metadata": {},
   "outputs": [],
   "source": [
    "# Instantiate OpenQASMTranspiler from the QPU\n",
    "transpiler = openqasm3.OpenQASMTranspiler(qpu)\n",
    "\n",
    "# Define options\n",
    "options = openqasm3.MultiProgramOptions()\n",
    "options.batch_execution_mode = \"pipeline\"\n",
    "options.pipeline_chunk_count = 2\n",
    "options.add_measurement = (\n",
    "    True  # adds the measurement operations which were removed above\n",
    ")\n",
    "# Set the format of the result handles to align with the handles\n",
    "# defined in our quantum operations:\n",
    "options.add_measurement_handle = \"{qubit.uid}/result\"\n",
    "options.add_reset = True\n",
    "\n",
    "# Create the Experiment\n",
    "rb2_exp_with_reset = transpiler.batch_experiment(\n",
    "    programs=rb2_program_list,\n",
    "    qubit_map={\"q\": [q0, q1]},\n",
    "    options=options,\n",
    ")\n",
    "\n",
    "# Compile the Experiment\n",
    "rb2_compiled_exp_with_reset = session.compile(rb2_exp_with_reset)\n",
    "\n",
    "# Run the Experiment\n",
    "rb2_results_with_reset = session.run(rb2_compiled_exp_with_reset)"
   ]
  }
 ],
 "metadata": {
  "kernelspec": {
   "display_name": "repo",
   "language": "python",
   "name": "python3"
  },
  "language_info": {
   "codemirror_mode": {
    "name": "ipython",
    "version": 3
   },
   "file_extension": ".py",
   "mimetype": "text/x-python",
   "name": "python",
   "nbconvert_exporter": "python",
   "pygments_lexer": "ipython3",
   "version": "3.13.7"
  }
 },
 "nbformat": 4,
 "nbformat_minor": 4
}
