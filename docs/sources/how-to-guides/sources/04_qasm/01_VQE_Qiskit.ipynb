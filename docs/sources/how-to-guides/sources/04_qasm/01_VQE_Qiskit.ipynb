{
 "cells": [
  {
   "cell_type": "markdown",
   "id": "16b5004b",
   "metadata": {},
   "source": [
    "# VQE with LabOne Q and Qiskit"
   ]
  },
  {
   "cell_type": "markdown",
   "id": "aff8200e",
   "metadata": {},
   "source": [
    "The following example demonstrates a simple end-to-end implementation of the variational quantum eigensolver (VQE) with LabOne Q.\n",
    "\n",
    "Qiskit is used to generate the quantum circuits to prepare a parameterized state ansatz and to perform the transformations needed to compute the Hamiltonian expectation value.\n",
    "\n",
    "The circuits are then exported as OpenQASM programs and subsequently transformed into a LabOne Q experiment.\n",
    "The compiled experiment is then used in an example implementation of a VQE objective function that updates the parameters of the state ansatz, executes the experiment, and returns the expectation value.\n",
    "Finally, this objective function is then minimized with the help of an external optimizer.\n",
    "\n",
    "Note, there are many ways to improve the efficiency of the VQE algorithm.\n",
    "The comparatively simple implementation demonstrated in this example serves to illustrate basic concepts and might serve as a starting point for users to optimize its performance.\n"
   ]
  },
  {
   "cell_type": "markdown",
   "id": "60650052",
   "metadata": {},
   "source": [
    "## Imports"
   ]
  },
  {
   "cell_type": "code",
   "execution_count": null,
   "id": "86b39817",
   "metadata": {},
   "outputs": [],
   "source": [
    "# Numpy:\n",
    "import numpy as np\n",
    "from laboneq._utils import id_generator\n",
    "from laboneq.contrib.example_helpers.generate_device_setup import (\n",
    "    generate_device_setup_qubits,\n",
    ")\n",
    "from laboneq.openqasm3.gate_store import GateStore\n",
    "\n",
    "# LabOne Q:\n",
    "from laboneq.simple import *\n",
    "\n",
    "# Qiskit:\n",
    "from qiskit import QuantumCircuit, qasm3\n",
    "from qiskit.circuit.library import EfficientSU2\n",
    "from qiskit.quantum_info import SparsePauliOp\n",
    "\n",
    "# scipy optimizer\n",
    "from scipy.optimize import minimize\n",
    "\n",
    "# Enable/disable emulation mode\n",
    "use_emulation = True"
   ]
  },
  {
   "cell_type": "markdown",
   "id": "0d6e141e",
   "metadata": {},
   "source": [
    "## Hamiltonian (Qiskit)\n",
    "The variational quantum eigensolver (VQE) is an algorithm to approximate the ground state $\\psi_{0}$ with eigenvalue $\\epsilon_{0}$ of a problem described by a Hamiltonian $\\hat{H}$.\n",
    "VQE achieves this by minimizing the expectation value of $\\hat{H}$\n",
    "\n",
    "$\\epsilon_{\\theta} = \\langle\\psi_{\\theta}|\\hat{H}|\\psi_{\\theta}\\rangle$\n",
    "\n",
    "with respect to a trial ansatz $\\psi_{\\theta}$ parameterized by $\\theta$.\n",
    "Because of the variational principle $\\epsilon_{\\theta}$ is always an upper bound for $\\epsilon_{0}$.\n",
    "A successful minimization of $\\epsilon_{\\theta}$ will thus provide an increasingly accurate approximation to the sought solution.\n",
    "\n",
    "VQE requires the repeated computation of expectation values.\n",
    "This can be done efficiently for Hamiltonians which have the form of a (sparse) series,\n",
    "\n",
    "$\\hat{H} = \\sum\\limits_{i}c_{i}\\ \\hat{P}_{i}$\n",
    "\n",
    "of multi-qubit Pauli operators $\\hat{P}_{i} \\in \\{\\hat{I}, \\hat{X}, \\hat{Y}, \\hat{Z}\\}^{\\otimes n}$ with coefficients $c_{i}$.\n",
    "\n",
    "Quantum computing software packages like Qiskit have dedicated modules that construct Hamiltonians in this form for various quantum computational applications.\n",
    "For this example, we use Qiskit's `SparsePauliOp` class to define such a Hamiltonian explicitly.\n"
   ]
  },
  {
   "cell_type": "code",
   "execution_count": null,
   "id": "31a820ed",
   "metadata": {},
   "outputs": [],
   "source": [
    "ham = SparsePauliOp.from_list(\n",
    "    [(\"YZ\", 0.3980), (\"ZI\", -0.3980), (\"ZZ\", -1.0113), (\"XX\", 0.1810)]\n",
    ")"
   ]
  },
  {
   "cell_type": "markdown",
   "id": "d74ecd0f",
   "metadata": {},
   "source": [
    "## Parameterized wavefunction ansatz (Qiskit)\n",
    "\n",
    "In this section, we construct a parameterized circuit that prepares the trial state $\\psi_{\\theta}$.\n",
    "Qiskit's `EfficientSU2` class allows us to define an ansatz for this state.\n",
    "For two qubits this results in four layers.\n",
    "Each layer applies two parameterized SU2 gates (here `Rx` and `Ry`) to each qubit, respectively, followed by a `cnot` gate to create an entangled state.\n",
    "\n",
    "Note, that we use the `Rx`,`Ry` pair of SU2 gates over the default `Ry`, `Rz` pair since optimizing over virtual z-gate angles would require replacing phase increments in compiled LabOne Q experiments, which at the time of writing is still an experimental feature.\n",
    "\n",
    "The resulting circuit is appended to the initial state reset.\n"
   ]
  },
  {
   "cell_type": "code",
   "execution_count": null,
   "id": "129bd0e7",
   "metadata": {},
   "outputs": [],
   "source": [
    "trial_state = EfficientSU2(ham.num_qubits, su2_gates=[\"rx\", \"ry\"], insert_barriers=True)\n",
    "trial_state.barrier()\n",
    "\n",
    "trial_state.decompose().draw(style=\"iqp\")"
   ]
  },
  {
   "cell_type": "markdown",
   "id": "71e26e90",
   "metadata": {},
   "source": [
    "The above trial state $|\\psi_{\\theta}\\rangle$ is parameterized by $\\theta=(\\theta_{0}, \\theta_{1}, \\dots, \\theta_{15})$.\n"
   ]
  },
  {
   "cell_type": "markdown",
   "id": "52424fd7",
   "metadata": {},
   "source": [
    "## Transformation to Pauli eigenbasis (Qiskit)\n",
    "\n",
    "After preparing the parameterized trial state $|\\psi_{\\theta}\\rangle$ we need to evaluate the Hamiltonian expectation value for this state.\n",
    "We note the following aspects:\n",
    "\n",
    "* Expectation values are computed for each Pauli term $\\hat{P}_{i}$ individually. For the sake of simplicity, we use circuits and ultimately separate LabOne Q experiments. We note here, that optimizing the approach discussed here is \n",
    "* We can only obtain information from a quantum circuit by measuring states in the computational basis $\\left\\{|0\\rangle, |1\\rangle\\right\\}$.\n",
    "* The computational basis of a qubit corresponds to the eigenfunctions of the Pauli $\\hat{Z}$ operator acting on that qubit. All occurrences of $\\hat{X}$ or $\\hat{Y}$ in a Pauli term are therefore transformed into $\\hat{Z}$ operators by applying a transformation $\\hat{U}$ to the trial state $|\\psi_{\\theta}\\rangle$.\n",
    "\n",
    "<!-- We obtain $\\epsilon_{\\theta}$ as expectation value of individual Pauli terms\n",
    "\n",
    "$\\langle\\psi_{\\theta}|\\hat{P}|\\psi_{\\theta}\\rangle = \\langle\\psi_{\\theta}\\hat{U}^{\\dagger}|\\hat{Z}\\otimes\\hat{1}|\\hat{U}\\psi_{\\theta}\\rangle$,\n",
    "\n",
    "with the unitary operator $\\hat{U}$ transforming $\\hat{P}$ into $\\hat{Z}\\otimes\\hat{1}$.\n",
    "Recall, that $\\hat{P}$ has eigenvalues of $\\pm1$.\n",
    "The corresponding eigenfunctions with eigenvalue +1 are thereby projected by $\\hat{U}$ onto states corresponding to measuring the first qubit in $|0q_{1}q_{2}\\cdots\\rangle$.\n",
    "Likewise, eigenfunctions of $\\hat{P}$ with negative eigenvalues are projected into the subspace corresponding to measuring this qubit in $|1q_{1}q_{2}\\cdots\\rangle$.\n",
    "Furthermore, \n",
    "\n",
    " $\\langle\\psi_{\\theta}|\\hat{P}|\\psi_{\\theta}\\rangle = |a|^{2}\\langle0\\cdots|H|0\\cdots\\rangle + |b|^{2}\\langle1\\cdots|H|1\\cdots\\rangle = |a|^{2} - |b|^{2}$,\n",
    "\n",
    "directly relates the expectation value to the coefficients $a$ and $b$, which are determined by a state tomography process.\n",
    "\n",
    "Here, we define the required transformations for each Pauli term separately. -->\n"
   ]
  },
  {
   "cell_type": "code",
   "execution_count": null,
   "id": "47cba685",
   "metadata": {},
   "outputs": [],
   "source": [
    "vqe_terms = []\n",
    "for p in ham.paulis:\n",
    "    P_i = p.to_label()\n",
    "    u_transform = QuantumCircuit(ham.num_qubits, ham.num_qubits)\n",
    "\n",
    "    for q in range(ham.num_qubits):\n",
    "        if P_i[q] == \"X\":\n",
    "            u_transform.h(q)\n",
    "\n",
    "        elif P_i[q] == \"Y\":\n",
    "            u_transform.sdg(q)\n",
    "            u_transform.h(q)\n",
    "\n",
    "    # u_transform.barrier()\n",
    "\n",
    "    # for q in range(ham.num_qubits):\n",
    "    #     u_transform.measure(q, q)\n",
    "\n",
    "    vqe_terms.append(trial_state & u_transform)"
   ]
  },
  {
   "cell_type": "markdown",
   "id": "89845f72",
   "metadata": {},
   "source": [
    "We can now inspect the final circuits of the VQE algorithm."
   ]
  },
  {
   "cell_type": "code",
   "execution_count": null,
   "id": "dbe1dfc4",
   "metadata": {},
   "outputs": [],
   "source": [
    "vqe_terms[0].decompose().draw(style=\"iqp\")\n",
    "# vqe_terms[1].decompose().draw(style=\"iqp\")\n",
    "# vqe_terms[2].decompose().draw(style=\"iqp\")\n",
    "# vqe_terms[3].decompose().draw(style=\"iqp\")"
   ]
  },
  {
   "cell_type": "markdown",
   "id": "f89f150e",
   "metadata": {},
   "source": [
    "## Conversion to OpenQASM code (Qiskit)\n",
    "We can use Qiskit's qasm3 functionality to turn the circuits defined above into qasm programs. \n"
   ]
  },
  {
   "cell_type": "code",
   "execution_count": null,
   "id": "b9251920",
   "metadata": {},
   "outputs": [],
   "source": [
    "qasm_programs = [qasm3.dumps(c.decompose()) for c in vqe_terms]\n",
    "\n",
    "print(qasm_programs[0])"
   ]
  },
  {
   "cell_type": "markdown",
   "id": "6bea27cb",
   "metadata": {},
   "source": [
    "Note, that the parameters now appear as input variables `_θ_0_` to `_θ_15_`."
   ]
  },
  {
   "cell_type": "markdown",
   "id": "00d92dd1",
   "metadata": {},
   "source": [
    "## Parameter Initialization\n",
    "\n",
    "When later assigning values to these parameters, we will need to provide matching parameter names.\n",
    "\n",
    "Also parameter updates to the objective function are achieved by replacing the pulses containing these parameters.\n",
    "For this we need to be able to identify such parameter dependent pulses in the compiled experiments.\n",
    "\n",
    "To achieve this, we define the `ScalarParameter` class that holds the parameter value as well as its name."
   ]
  },
  {
   "cell_type": "code",
   "execution_count": null,
   "id": "f8f962cb",
   "metadata": {},
   "outputs": [],
   "source": [
    "class ScalarParameter:\n",
    "    def __init__(self, val, identifier):\n",
    "        self.val = val\n",
    "        self.identifier = identifier"
   ]
  },
  {
   "cell_type": "markdown",
   "id": "6042680a",
   "metadata": {},
   "source": [
    "We initialize the parameters with random values in the interval $[0, 1)$."
   ]
  },
  {
   "cell_type": "code",
   "execution_count": null,
   "id": "9b44d890",
   "metadata": {},
   "outputs": [],
   "source": [
    "np.random.seed(seed=42)\n",
    "theta = [\n",
    "    ScalarParameter(np.random.random(), f\"_θ_{i}_\")\n",
    "    for i in range(trial_state.num_parameters)\n",
    "]"
   ]
  },
  {
   "cell_type": "markdown",
   "id": "299f15cd",
   "metadata": {},
   "source": [
    "## Gate Definitions (LabOne Q)\n",
    "The construction of circuits and qasm programs made use of abstract gate definitions.\n",
    "To run the VQE algorithm on actual hardware, we need to define the gates $U_1$, $U_2$, $CX$, $R_x$, and $R_y$ as well as reset and measurement operations in terms of pulse sequences in LabOne Q.\n",
    "\n",
    "Note that the definitions below are for demonstration purposes. Actual gate and pulse implementations are typically hardware-specific might even vary for individual qubits."
   ]
  },
  {
   "cell_type": "code",
   "execution_count": null,
   "id": "7fb27b941602401d91542211134fc71a",
   "metadata": {},
   "outputs": [],
   "source": [
    "def u1(qubit: Qubit):\n",
    "    \"\"\"Return a parameterized U1 gate for the specified qubit.\n",
    "\n",
    "    The gate is a function that takes the angle to rotate and\n",
    "    returns a LabOne Q section that performs the rotation.\n",
    "    \"\"\"\n",
    "\n",
    "    def u1_gate(angle):\n",
    "        \"\"\"Equivalent to Rz(theta) as U1(theta) differs from it only by a global phase which is ignored.\n",
    "\n",
    "        Theta is in radians - implements a virtual z-gate.\n",
    "        \"\"\"\n",
    "        gate = Section(uid=id_generator(f\"p_{qubit.uid}_u1_{int(180 * angle / np.pi)}\"))\n",
    "        gate.play(\n",
    "            signal=qubit.signals[\"drive\"],\n",
    "            pulse=None,\n",
    "            increment_oscillator_phase=angle,\n",
    "        )\n",
    "        return gate\n",
    "\n",
    "    return u1_gate"
   ]
  },
  {
   "cell_type": "code",
   "execution_count": null,
   "id": "0e2a9b3e",
   "metadata": {},
   "outputs": [],
   "source": [
    "def u2(qubit: Qubit):\n",
    "    \"\"\"Return a parameterized U2 gate for the specified qubit.\n",
    "\n",
    "    The gate is a function that takes two angles to rotate and\n",
    "    returns a LabOne Q section that performs the rotation.\n",
    "    \"\"\"\n",
    "\n",
    "    def u2_gate(phi, lam):\n",
    "        \"\"\"U2(ϕ,λ) = RZ(ϕ).RY(π/2).RZ(λ) - following definition in qiskit.circuit.library.U2Gate.\n",
    "\n",
    "        Variables phi and lambda are in radians and serve to implement\n",
    "        the two virtual z-gates.\n",
    "        \"\"\"\n",
    "        pulse = pulse_library.drag(\n",
    "            uid=f\"{qubit.uid}_ry_in_u2\",\n",
    "            length=qubit.parameters.user_defined[\"pulse_length\"],\n",
    "            amplitude=qubit.parameters.user_defined[\"amplitude_pi\"] / 2,\n",
    "        )\n",
    "        gate = Section(\n",
    "            uid=id_generator(\n",
    "                f\"p_{qubit.uid}_u2_{int(180 * phi / np.pi)}_{int(180 * lam / np.pi)}\"\n",
    "            )\n",
    "        )\n",
    "        gate.play(\n",
    "            signal=qubit.signals[\"drive\"],\n",
    "            pulse=None,\n",
    "            increment_oscillator_phase=lam,\n",
    "        )\n",
    "        gate.play(\n",
    "            signal=qubit.signals[\"drive\"],\n",
    "            pulse=pulse,\n",
    "            phase=np.pi / 2,\n",
    "        )\n",
    "        gate.play(\n",
    "            signal=qubit.signals[\"drive\"],\n",
    "            pulse=None,\n",
    "            increment_oscillator_phase=phi,\n",
    "        )\n",
    "        return gate\n",
    "\n",
    "    return u2_gate"
   ]
  },
  {
   "cell_type": "code",
   "execution_count": null,
   "id": "e6c55a1f",
   "metadata": {},
   "outputs": [],
   "source": [
    "def cx(control: Qubit, target: Qubit):\n",
    "    \"\"\"Return a controlled X gate for the specified control and target qubits.\n",
    "\n",
    "    The CX gate function takes no arguments and returns a LabOne Q section that performs\n",
    "    the controlled X gate.\n",
    "    \"\"\"\n",
    "\n",
    "    def cx_gate():\n",
    "        cx_id = f\"cx_{control.uid}_{target.uid}\"\n",
    "\n",
    "        gate = Section(uid=id_generator(cx_id))\n",
    "\n",
    "        # define X pulses for target and control\n",
    "        x180_pulse_control = pulse_library.drag(\n",
    "            uid=f\"{control.uid}_x180\",\n",
    "            length=control.parameters.user_defined[\"pulse_length\"],\n",
    "            amplitude=control.parameters.user_defined[\"amplitude_pi\"],\n",
    "        )\n",
    "        x180_pulse_target = pulse_library.drag(\n",
    "            uid=f\"{target.uid}_x180\",\n",
    "            length=target.parameters.user_defined[\"pulse_length\"],\n",
    "            amplitude=target.parameters.user_defined[\"amplitude_pi\"],\n",
    "        )\n",
    "\n",
    "        # define cancellation pulses for target and control\n",
    "        cancellation_control_n = pulse_library.gaussian_square(uid=\"CR-\")\n",
    "        cancellation_control_p = pulse_library.gaussian_square(uid=\"CR+\")\n",
    "        cancellation_target_p = pulse_library.gaussian_square(uid=\"q1+\")\n",
    "        cancellation_target_n = pulse_library.gaussian_square(uid=\"q1-\")\n",
    "\n",
    "        # play X pulses on both target and control\n",
    "        x180_both = Section(uid=id_generator(f\"{cx_id}_x_both\"))\n",
    "        x180_both.play(signal=control.signals[\"drive\"], pulse=x180_pulse_control)\n",
    "        x180_both.play(signal=target.signals[\"drive\"], pulse=x180_pulse_target)\n",
    "        gate.add(x180_both)\n",
    "\n",
    "        # First cross-resonance component\n",
    "        cancellation_p = Section(\n",
    "            uid=id_generator(f\"{cx_id}_canc_p\"), play_after=x180_both\n",
    "        )\n",
    "        cancellation_p.play(signal=target.signals[\"drive\"], pulse=cancellation_target_p)\n",
    "        cancellation_p.play(\n",
    "            signal=control.signals[\"flux\"], pulse=cancellation_control_n\n",
    "        )\n",
    "        gate.add(cancellation_p)\n",
    "\n",
    "        # play X pulse on control\n",
    "        x180_control = Section(\n",
    "            uid=id_generator(f\"{cx_id}_x_q0\"), play_after=cancellation_p\n",
    "        )\n",
    "        x180_control.play(signal=control.signals[\"drive\"], pulse=x180_pulse_control)\n",
    "        gate.add(x180_control)\n",
    "\n",
    "        # Second cross-resonance component\n",
    "        cancellation_n = Section(\n",
    "            uid=id_generator(f\"cx_{cx_id}_canc_n\"), play_after=x180_control\n",
    "        )\n",
    "        cancellation_n.play(signal=target.signals[\"drive\"], pulse=cancellation_target_n)\n",
    "        cancellation_n.play(\n",
    "            signal=control.signals[\"flux\"], pulse=cancellation_control_p\n",
    "        )\n",
    "        gate.add(cancellation_n)\n",
    "\n",
    "        return gate\n",
    "\n",
    "    return cx_gate"
   ]
  },
  {
   "cell_type": "code",
   "execution_count": null,
   "id": "9fc52bab",
   "metadata": {},
   "outputs": [],
   "source": [
    "def measurement(qubit: Qubit):\n",
    "    \"\"\"Return a measurement operation of the specified qubit.\n",
    "\n",
    "    The operation is a function that takes the measurement handle (a string)\n",
    "    and returns a LabOne Q section that performs the measurement.\n",
    "    \"\"\"\n",
    "\n",
    "    def measurement_gate(handle: str):\n",
    "        \"\"\"Perform a measurement.\n",
    "\n",
    "        Handle is the name of where to store the measurement result. E.g. \"meas[0]\".\n",
    "        \"\"\"\n",
    "        measure_pulse = pulse_library.gaussian_square(\n",
    "            uid=f\"{qubit.uid}_readout_pulse\",\n",
    "            length=qubit.parameters.user_defined[\"readout_length\"],\n",
    "            amplitude=qubit.parameters.user_defined[\"readout_amplitude\"],\n",
    "        )\n",
    "        integration_kernel = pulse_library.const(\n",
    "            uid=f\"{qubit.uid}_integration_kernel\",\n",
    "            length=qubit.parameters.user_defined[\"readout_length\"],\n",
    "        )\n",
    "        gate = Section(uid=id_generator(f\"meas_{qubit.uid}_{handle}\"))\n",
    "        gate.reserve(signal=qubit.signals[\"drive\"])\n",
    "        gate.play(signal=qubit.signals[\"measure\"], pulse=measure_pulse)\n",
    "        gate.acquire(\n",
    "            signal=qubit.signals[\"acquire\"],\n",
    "            handle=handle,\n",
    "            kernel=integration_kernel,\n",
    "        )\n",
    "        return gate\n",
    "\n",
    "    return measurement_gate"
   ]
  },
  {
   "cell_type": "code",
   "execution_count": null,
   "id": "3df8834e",
   "metadata": {},
   "outputs": [],
   "source": [
    "def reset(qubit: Qubit):\n",
    "    \"\"\"Reset the specified qubit to the ground state with the supplied reset pulse.\n",
    "\n",
    "    The reset gate function takes no arguments and returns a LabOne Q section that performs\n",
    "    the reset.\n",
    "    \"\"\"\n",
    "\n",
    "    def reset_gate():\n",
    "        reset_pulse = pulse_library.drag(\n",
    "            uid=f\"{qubit.uid}_reset\",\n",
    "            length=qubit.parameters.user_defined[\"pulse_length\"],\n",
    "            amplitude=qubit.parameters.user_defined[\"amplitude_pi\"],\n",
    "        )\n",
    "        # Reset Section\n",
    "        reset = Section(uid=f\"{qubit.uid}_reset\")\n",
    "        # qubit state readout\n",
    "        readout = measurement(qubit)(f\"{qubit.uid}_reset\")\n",
    "        # delay after measurement\n",
    "        readout.delay(\n",
    "            signal=qubit.signals[\"acquire\"],\n",
    "            time=qubit.parameters.user_defined[\"reset_delay_length\"],\n",
    "        )\n",
    "        # real-time feedback, fetching measurement data identified\n",
    "        # by handle locally from the QA unit of the SHFQC\n",
    "        match_case = Match(\n",
    "            uid=f\"{qubit.uid}_feedback\",\n",
    "            handle=f\"{qubit.uid}_reset\",\n",
    "            play_after=readout,\n",
    "        )\n",
    "        # measurement result 0 - ground state\n",
    "        case_0 = Case(uid=f\"{qubit.uid}_0_Case\", state=0)\n",
    "        case_0.play(signal=qubit.signals[\"drive\"], pulse=reset_pulse, amplitude=0.01)\n",
    "        # measurement result 1 - excited state\n",
    "        case_1 = Case(uid=f\"{qubit.uid}_1_Case\", state=1)\n",
    "        # play x180 pulse\n",
    "        case_1.play(signal=qubit.signals[\"drive\"], pulse=reset_pulse)\n",
    "        match_case.add(case_0)\n",
    "        match_case.add(case_1)\n",
    "\n",
    "        reset.add(readout)\n",
    "        reset.add(match_case)\n",
    "        return reset\n",
    "\n",
    "    return reset_gate"
   ]
  },
  {
   "cell_type": "markdown",
   "id": "5c8233a2",
   "metadata": {},
   "source": [
    "The remaining `Rx` and `Ry` gates depend on the parameters θ.\n",
    "\n",
    "The following function generates a drag pulse from an amplitude parameter. "
   ]
  },
  {
   "cell_type": "code",
   "execution_count": null,
   "id": "c585d750",
   "metadata": {},
   "outputs": [],
   "source": [
    "def pulse_from_parameter(theta):\n",
    "    val = theta.val % 2.0  # full rotations\n",
    "    identifier = f\"pulse{theta.identifier}\"\n",
    "    return pulse_library.drag(\n",
    "        uid=identifier, amplitude=val if val <= 1.0 else val - 2.0\n",
    "    )"
   ]
  },
  {
   "cell_type": "code",
   "execution_count": null,
   "id": "0a89bd2a",
   "metadata": {},
   "outputs": [],
   "source": [
    "def rx(qubit: Qubit):\n",
    "    \"\"\"Return a parameterized Rx gate for the specified qubit.\n",
    "\n",
    "    The gate is a function that takes the angle to rotate and\n",
    "    returns a LabOne Q section that performs the rotation.\n",
    "    \"\"\"\n",
    "\n",
    "    def rx_gate(angle: ScalarParameter):\n",
    "        \"\"\"Rx(theta).\n",
    "\n",
    "        Theta is in units of pi - pulse amplitude\n",
    "        is adjusted according to the chosen angle.\n",
    "        \"\"\"\n",
    "        gate = Section(uid=id_generator(f\"p_{qubit.uid}_rx_{int(180 * angle.val)}\"))\n",
    "        gate.play(\n",
    "            signal=qubit.signals[\"drive\"],\n",
    "            pulse=pulse_from_parameter(angle),\n",
    "            amplitude=qubit.parameters.user_defined[\"amplitude_pi\"],\n",
    "        )\n",
    "        return gate\n",
    "\n",
    "    return rx_gate"
   ]
  },
  {
   "cell_type": "code",
   "execution_count": null,
   "id": "f94929d7",
   "metadata": {},
   "outputs": [],
   "source": [
    "def ry(qubit: Qubit):\n",
    "    \"\"\"Return a parameterized Ry gate for the specified qubit.\n",
    "\n",
    "    The gate is a function that takes the angle to rotate and\n",
    "    returns a LabOne Q section that performs the rotation.\n",
    "    \"\"\"\n",
    "\n",
    "    def ry_gate(angle: ScalarParameter):\n",
    "        \"\"\"Ry(theta).\n",
    "\n",
    "        Theta is in units of pi - pulse amplitude\n",
    "        is adjusted according to the chosen angle.\n",
    "        \"\"\"\n",
    "        gate = Section(uid=id_generator(f\"p_{qubit.uid}_ry_{int(180 * angle.val)}\"))\n",
    "\n",
    "        gate.play(\n",
    "            signal=qubit.signals[\"drive\"],\n",
    "            pulse=pulse_from_parameter(angle),\n",
    "            amplitude=qubit.parameters.user_defined[\"amplitude_pi\"],\n",
    "            phase=np.pi / 2,\n",
    "        )\n",
    "        return gate\n",
    "\n",
    "    return ry_gate"
   ]
  },
  {
   "cell_type": "markdown",
   "id": "201ce63c",
   "metadata": {},
   "source": [
    "## Device setup, qubits, and gate store (LabOne Q)\n",
    "\n",
    "Before we can proceed with LabOne Q, we need to define the necessary qubit objects (and their respective parameters). Here we use a helper function to generate the `device_setup` and qubit objects from a pre-defined parameter set."
   ]
  },
  {
   "cell_type": "code",
   "execution_count": null,
   "id": "1ac72a40",
   "metadata": {},
   "outputs": [],
   "source": [
    "# specify the number of qubits you want to use\n",
    "number_of_qubits = 2\n",
    "\n",
    "# generate the device setup and the qubit objects using a helper function\n",
    "device_setup, qubits = generate_device_setup_qubits(\n",
    "    number_qubits=number_of_qubits,\n",
    "    pqsc=[{\"serial\": \"DEV10001\"}],\n",
    "    hdawg=[{\"serial\": \"DEV8001\", \"zsync\": 0, \"number_of_channels\": 8, \"options\": None}],\n",
    "    shfqc=[\n",
    "        {\n",
    "            \"serial\": \"DEV12001\",\n",
    "            \"zsync\": 1,\n",
    "            \"number_of_channels\": 6,\n",
    "            \"readout_multiplex\": 6,\n",
    "            \"options\": None,\n",
    "        }\n",
    "    ],\n",
    "    include_flux_lines=True,\n",
    "    server_host=\"localhost\",\n",
    "    setup_name=f\"my_{number_of_qubits}_tuneable_qubit_setup\",\n",
    ")\n",
    "\n",
    "q0, q1 = qubits[:2]"
   ]
  },
  {
   "cell_type": "markdown",
   "id": "fcb89e3a",
   "metadata": {},
   "source": [
    "The gate store  defines the mapping between logical operations (i.e. those that appear in OpenQASM statements) and the physical operations (i.e. functions that define LabOne Q sections to play) above.\n",
    "\n",
    "The qubit names provided in this mapping therefore need to match the qubit names of the OpenQASM program.\n"
   ]
  },
  {
   "cell_type": "code",
   "execution_count": null,
   "id": "22281dbf",
   "metadata": {},
   "outputs": [],
   "source": [
    "# Initialize\n",
    "gate_store = GateStore()\n",
    "\n",
    "# map LabOne Q qubits to qasm qubits\n",
    "qubit_map = {\"q[0]\": device_setup.qubits[0], \"q[1]\": device_setup.qubits[1]}\n",
    "\n",
    "# Single qubit gates:\n",
    "for q in qubit_map:\n",
    "    gate_store.register_gate_section(\"rx\", (q,), rx(qubit_map[q]))\n",
    "    gate_store.register_gate_section(\"ry\", (q,), ry(qubit_map[q]))\n",
    "    gate_store.register_gate_section(\"u1\", (q,), u1(qubit_map[q]))\n",
    "    gate_store.register_gate_section(\"u2\", (q,), u2(qubit_map[q]))\n",
    "    gate_store.register_gate_section(\"measure\", (q,), measurement(qubit_map[q]))\n",
    "    gate_store.register_gate_section(\"reset\", (q,), reset(qubit_map[q]))\n",
    "\n",
    "# Two qubit gates:\n",
    "gate_store.register_gate_section(\"cx\", (\"q[0]\", \"q[1]\"), cx(q0, q1))"
   ]
  },
  {
   "cell_type": "markdown",
   "id": "f89532d9",
   "metadata": {},
   "source": [
    "## LabOne Q Experiment (LabOne Q)\n",
    "\n",
    "We are now ready to use LabOne Q's `exp_from_qasm_list` function to convert the OpenQASM programs into a single `Experiment` instance and note the following\n",
    "\n",
    "* the initial parameter values are assigned to the `inputs` argument\n",
    "* `averaging_mode` and `acquisition_type` are set to allow to use the state indices for the computation of the expectation value\n",
    "* we set the repetition time to the approximative length of the VQE sequence manually\n",
    "* the `do_reset` option is used to initialize all qubits to the ground state before each VQE sequence\n",
    "* the `add_measurement` option allows to add measurements of all qubit after each VQE sequence"
   ]
  },
  {
   "cell_type": "code",
   "execution_count": null,
   "id": "5172faa7",
   "metadata": {},
   "outputs": [],
   "source": [
    "exp = exp_from_qasm_list(\n",
    "    qasm_programs,\n",
    "    qubits=qubit_map,\n",
    "    gate_store=gate_store,\n",
    "    inputs={t.identifier: t for t in theta},\n",
    "    count=1024,\n",
    "    averaging_mode=AveragingMode.SINGLE_SHOT,\n",
    "    acquisition_type=AcquisitionType.DISCRIMINATION,\n",
    "    batch_execution_mode=\"pipeline\",\n",
    "    repetition_time=2.2e-6,\n",
    "    do_reset=True,\n",
    "    add_measurement=True,\n",
    ")"
   ]
  },
  {
   "cell_type": "markdown",
   "id": "dcbb3a63",
   "metadata": {},
   "source": [
    "A `Session` instance is created and used to compile all experiments."
   ]
  },
  {
   "cell_type": "code",
   "execution_count": null,
   "id": "e9ba9671",
   "metadata": {},
   "outputs": [],
   "source": [
    "session = Session(device_setup=device_setup)\n",
    "session.connect(do_emulation=use_emulation)\n",
    "\n",
    "cexp = session.compile(exp)"
   ]
  },
  {
   "cell_type": "markdown",
   "id": "5f14a23e",
   "metadata": {},
   "source": [
    "We can use the pulse sheet viewer to inspect the compiled experiment.\n",
    "Note, that the VQE experiments are relatively long and we need to raise the number of events to see a full sequence of all VQE terms."
   ]
  },
  {
   "cell_type": "code",
   "execution_count": null,
   "id": "598a8687",
   "metadata": {},
   "outputs": [],
   "source": [
    "show_pulse_sheet(\"vqe\", cexp, max_events_to_publish=3000)"
   ]
  },
  {
   "cell_type": "markdown",
   "id": "8d5d111c",
   "metadata": {},
   "source": [
    "## VQE objective function\n",
    "\n",
    "We have now established the parts needed to compute the expectation value $\\epsilon_{\\theta} = \\langle\\psi_{\\theta}|\\hat{H}|\\psi_{\\theta}\\rangle$.\n",
    "For this we first define the following auxiliary functions:\n",
    "\n",
    "At present, the emulation mode does not provide the the qubit state indices. To make the acquired results compatible, the function `format_emulated_results` defines the measured qubit states as random integer vectors with entries $\\{0, 1\\}$."
   ]
  },
  {
   "cell_type": "code",
   "execution_count": null,
   "id": "d0635fc7",
   "metadata": {},
   "outputs": [],
   "source": [
    "def format_emulated_results(results, num_qubits):\n",
    "    for i in range(num_qubits):\n",
    "        results.acquired_results[f\"measq[{i}]\"].data = np.array(\n",
    "            np.random.randint(\n",
    "                0, 2, size=results.acquired_results[f\"measq[{i}]\"].data.shape\n",
    "            )\n",
    "        )\n",
    "    return results"
   ]
  },
  {
   "cell_type": "markdown",
   "id": "b707d6b9",
   "metadata": {},
   "source": [
    "The function `expectation_value_vqe` computes $\\langle\\psi_{\\theta}|\\hat{P}_{i}|\\psi_{\\theta}\\rangle$.\n",
    "* The acquired results (qubit state indices) are collected into a single array with axes spanning 1. qubits, 2. single shots, and 3. VQE terms.\n",
    "* The expectation value of each multi-qubit Pauli operator is either $1$ or $-1$ depending on whether an even or odd number of contributing qubits is found in state 1. Note, that this corresponds to the parity of the sum of the state indices. The parity is computed over all qubits that contribute to the expectation value, i.e. onto which a Pauli operator acts.\n",
    "* The resulting parities are then averaged over the number of single shots, converted into expectation values contributions and summed up to the final $\\epsilon_{\\theta}$."
   ]
  },
  {
   "cell_type": "code",
   "execution_count": null,
   "id": "8fe7c21e",
   "metadata": {},
   "outputs": [],
   "source": [
    "def expectation_value_vqe(acquired_results, ham):\n",
    "    # sort measurement data\n",
    "    state_indices = np.array(\n",
    "        [acquired_results[f\"measq[{q}]\"].data for q in range(ham.num_qubits)]\n",
    "    ).transpose((2, 1, 0))\n",
    "    # expectation value\n",
    "    exp_val = 0.0\n",
    "    for i, (pauli, c) in enumerate(ham.to_list()):\n",
    "        exp_val += (\n",
    "            c.real\n",
    "            - c.real\n",
    "            * np.mean(\n",
    "                np.sum(state_indices[i], axis=-1, where=[p for p in pauli if p != \"I\"])\n",
    "                % 2,\n",
    "                axis=-1,\n",
    "            )\n",
    "            * 2.0\n",
    "        )\n",
    "    return exp_val"
   ]
  },
  {
   "cell_type": "markdown",
   "id": "acfa88b8",
   "metadata": {},
   "source": [
    "Finally, we collect all the above functionality for parameter updates, experiment execution, results emulation, and VQE-postprocessing into a single objective function that returns $\\langle\\psi_{\\theta}|\\hat{P}_{i}|\\psi_{\\theta}\\rangle$ in terms of a vector of parameter values. "
   ]
  },
  {
   "cell_type": "code",
   "execution_count": null,
   "id": "36bb65fe",
   "metadata": {},
   "outputs": [],
   "source": [
    "def objective_function_vqe(ham, theta, cexp, session):\n",
    "    def hamiltonian_expectation_value(x):\n",
    "        if use_emulation:  # ensure consistent results at every pass\n",
    "            np.random.seed(seed=10101)\n",
    "\n",
    "        # Parameter Update\n",
    "        for xx, t in zip(x, theta):\n",
    "            t.val = xx\n",
    "            new_pulse = pulse_from_parameter(t)\n",
    "            cexp.replace_pulse(new_pulse.uid, new_pulse)\n",
    "\n",
    "        # Execute Experiment\n",
    "        res = session.run(cexp)\n",
    "\n",
    "        # Format Results\n",
    "        if use_emulation:\n",
    "            res = format_emulated_results(res, ham.num_qubits)\n",
    "\n",
    "        # Obtain expectation value\n",
    "        y = expectation_value_vqe(res.acquired_results, ham)\n",
    "\n",
    "        # Log iteration result and return\n",
    "        print(f\"VQE expectation value {y:20.4e}\")\n",
    "        return y\n",
    "\n",
    "    return hamiltonian_expectation_value"
   ]
  },
  {
   "cell_type": "markdown",
   "id": "98a6810b",
   "metadata": {},
   "source": [
    "## Optimization\n",
    "\n",
    "The objective function constructed in the previous section can now directly be used for minimization.\n",
    "We use the \"constrained optimization by linear approximation\" (COBYLA) method from the scipy library for this.\n",
    "However, any gradient-less optimization method should be suitable for this step. \n",
    "\n",
    "Note, that we restrict the number of evaluation steps to 1 in emulation mode as we would otherwise optimize a constant function."
   ]
  },
  {
   "cell_type": "code",
   "execution_count": null,
   "id": "ccc854c2",
   "metadata": {},
   "outputs": [],
   "source": [
    "res = minimize(\n",
    "    fun=objective_function_vqe(ham, theta, cexp, session),\n",
    "    x0=[t.val for t in theta],\n",
    "    method=\"COBYLA\",\n",
    "    options={\"maxiter\": 1} if use_emulation else {},\n",
    ")"
   ]
  },
  {
   "cell_type": "markdown",
   "id": "c518fa6d",
   "metadata": {},
   "source": [
    "Finally, we can retrieve $\\min\\limits_{\\theta}\\{\\epsilon_{\\theta}\\}$ as VQE approximation of the ground state energy of $\\hat{H}$"
   ]
  },
  {
   "cell_type": "code",
   "execution_count": null,
   "id": "1190c4cc",
   "metadata": {},
   "outputs": [],
   "source": [
    "res.fun"
   ]
  },
  {
   "cell_type": "markdown",
   "id": "1868630a",
   "metadata": {},
   "source": [
    "We can also inspect the full results object returned by the minimizer for the metainformation of the optimization."
   ]
  },
  {
   "cell_type": "code",
   "execution_count": null,
   "id": "3282c6fc",
   "metadata": {},
   "outputs": [],
   "source": [
    "res"
   ]
  }
 ],
 "metadata": {
  "kernelspec": {
   "display_name": "l1qal",
   "language": "python",
   "name": "python3"
  },
  "language_info": {
   "codemirror_mode": {
    "name": "ipython",
    "version": 3
   },
   "file_extension": ".py",
   "mimetype": "text/x-python",
   "name": "python",
   "nbconvert_exporter": "python",
   "pygments_lexer": "ipython3",
   "version": "3.10.0"
  }
 },
 "nbformat": 4,
 "nbformat_minor": 5
}
