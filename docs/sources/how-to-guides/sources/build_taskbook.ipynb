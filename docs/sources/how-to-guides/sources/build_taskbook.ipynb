{
 "cells": [
  {
   "cell_type": "markdown",
   "id": "3cd2ddc8",
   "metadata": {},
   "source": [
    "# Build a taskbook"
   ]
  },
  {
   "cell_type": "markdown",
   "id": "077f977a",
   "metadata": {},
   "source": [
    "A taskbook is a collection of tasks and their records.\n",
    "\n",
    "Whenever a task is executed within a taskbook, its'\n",
    "arguments, result and other relevant information are recorded.\n",
    "\n",
    "The main components of an taskbook are the following:\n",
    "\n",
    "* **Task**:\n",
    "\n",
    "    `@task`: A decorator to mark a function as a task\n",
    "\n",
    "* **Taskbook**:\n",
    "\n",
    "    `@taskbook`: A decorator to convert a function into a taskbook\n",
    "\n",
    "    `TaskBook`: Result of an executed function decorated with `@taskbook`\n",
    "\n",
    "\n",
    "## Building a simple taskbook"
   ]
  },
  {
   "cell_type": "markdown",
   "id": "902d02cf",
   "metadata": {},
   "source": [
    "### Import relevant objects"
   ]
  },
  {
   "cell_type": "code",
   "execution_count": null,
   "id": "eef3902f",
   "metadata": {},
   "outputs": [],
   "source": [
    "from laboneq_applications.workflow import task, taskbook"
   ]
  },
  {
   "cell_type": "markdown",
   "id": "ff21ff4b",
   "metadata": {},
   "source": [
    "### Define the tasks"
   ]
  },
  {
   "cell_type": "code",
   "execution_count": null,
   "id": "4344b1d1",
   "metadata": {},
   "outputs": [],
   "source": [
    "@task\n",
    "def measure() -> int:\n",
    "    return 100\n",
    "\n",
    "@task\n",
    "def analyze(measurement_result: int, threshold: int) -> bool:\n",
    "    return measurement_result < threshold"
   ]
  },
  {
   "cell_type": "markdown",
   "id": "e0a8e595",
   "metadata": {},
   "source": [
    "### Define the taskbook"
   ]
  },
  {
   "cell_type": "code",
   "execution_count": null,
   "id": "35f905d6",
   "metadata": {},
   "outputs": [],
   "source": [
    "@taskbook\n",
    "def experiment(threshold: int):\n",
    "    measurement = measure()\n",
    "    analysis_result = analyze(measurement, threshold)\n",
    "    if analysis_result:\n",
    "        return \"PASS\"\n",
    "    return \"FAIL\""
   ]
  },
  {
   "cell_type": "markdown",
   "id": "78a37e93",
   "metadata": {},
   "source": [
    "### Run the taskbook"
   ]
  },
  {
   "cell_type": "code",
   "execution_count": null,
   "id": "0f1f9daf",
   "metadata": {},
   "outputs": [],
   "source": [
    "book = experiment(threshold=101)"
   ]
  },
  {
   "cell_type": "markdown",
   "id": "f40c72f4",
   "metadata": {},
   "source": [
    "### Inspecting the results"
   ]
  },
  {
   "cell_type": "markdown",
   "id": "9f2a665e",
   "metadata": {},
   "source": [
    "#### Inspecting the `TaskBook`"
   ]
  },
  {
   "cell_type": "code",
   "execution_count": null,
   "id": "0b5661b3",
   "metadata": {},
   "outputs": [],
   "source": [
    "book"
   ]
  },
  {
   "cell_type": "code",
   "execution_count": null,
   "id": "17ae7e04",
   "metadata": {},
   "outputs": [],
   "source": [
    "book.output"
   ]
  },
  {
   "cell_type": "markdown",
   "id": "264fce95",
   "metadata": {},
   "source": [
    "#### Inspecting the tasks"
   ]
  },
  {
   "cell_type": "code",
   "execution_count": null,
   "id": "33f7de03",
   "metadata": {},
   "outputs": [],
   "source": [
    "book.tasks"
   ]
  },
  {
   "cell_type": "markdown",
   "id": "f3cbc400",
   "metadata": {},
   "source": [
    "There are several ways to get the individual tasks from the `TaskBook`"
   ]
  },
  {
   "cell_type": "markdown",
   "id": "a0a470f9",
   "metadata": {},
   "source": [
    "Single task with an index or name"
   ]
  },
  {
   "cell_type": "code",
   "execution_count": null,
   "id": "6f3f77ac",
   "metadata": {},
   "outputs": [],
   "source": [
    "book.tasks[1], book.tasks[\"analyze\"]"
   ]
  },
  {
   "cell_type": "markdown",
   "id": "f13e08c8",
   "metadata": {},
   "source": [
    "Specific task lookup with indexing\n",
    "\n",
    "The first argument is the name of the task and the second is an integer or a\n",
    "`slice`"
   ]
  },
  {
   "cell_type": "code",
   "execution_count": null,
   "id": "d4b148e7",
   "metadata": {},
   "outputs": [],
   "source": [
    "book.tasks[\"analyze\", :]  # All tasks named 'analyze'"
   ]
  },
  {
   "cell_type": "markdown",
   "id": "eacdc017",
   "metadata": {},
   "source": [
    "### Rerunning a task\n",
    "\n",
    "A task can be rerun from the `TaskBook` \n",
    "\n",
    "This can be useful when one wants to modify only specific arguments of the task,\n",
    "e.g a plotting arguments.\n",
    "\n",
    "In this example we will only lower the `threshold` of the `analyze` task \n",
    "and since we did not supply the argument `measurement_result`, the original value\n",
    "is used and our `analyze` should now fail."
   ]
  },
  {
   "cell_type": "code",
   "execution_count": null,
   "id": "301880e4",
   "metadata": {},
   "outputs": [],
   "source": [
    "book.tasks[\"analyze\"].rerun(threshold=99)"
   ]
  },
  {
   "cell_type": "markdown",
   "id": "23b5a2f8",
   "metadata": {},
   "source": [
    "After rerunning the task, we can also see that the `TaskBook` is updated with\n",
    "the rerun results"
   ]
  },
  {
   "cell_type": "code",
   "execution_count": null,
   "id": "8cb6c7db",
   "metadata": {},
   "outputs": [],
   "source": [
    "book.tasks[\"analyze\", :]"
   ]
  }
 ],
 "metadata": {
  "jupytext": {
   "cell_metadata_filter": "-all",
   "main_language": "python",
   "notebook_metadata_filter": "-all"
  }
 },
 "nbformat": 4,
 "nbformat_minor": 5
}
