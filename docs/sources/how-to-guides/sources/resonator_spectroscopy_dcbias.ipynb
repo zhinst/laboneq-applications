{
    "cells": [
        {
            "cell_type": "markdown",
            "metadata": {},
            "source": [
                "## How To Perform an Resonator Spectroscopy Experiment\n",
                "\n",
                "TODO: Substitute experiment with dsl once QuantumOperations are re-worked to exclude reserve"
            ]
        },
        {
            "cell_type": "markdown",
            "metadata": {},
            "source": [
                "### Prerequisites\n",
                "This guide assumes you have a configured `DeviceSetup` as well as `Qubit` objects with assigned parameters. Please see these guides (add links) if you need to create your setup and qubits for the first time. However, you can also run this notebook \"as is\" using an emulated session. If you are just getting started with the LabOne Q Applications Library, please don't hesitate to reach out to us at info@zhinst.com."
            ]
        },
        {
            "cell_type": "markdown",
            "metadata": {},
            "source": [
                "### Background\n",
                "In this notebook, we will learn how to extend the workflow of resonator spectroscopy to include the sweep of the dc bias provided by a third party instruments. In this tutorial, we will in order do the following:\n",
                "\n",
                "- Extend a Tunable Transmon functionality to include the property of DC bias\n",
                "- Learn how to create a new Quantum Operation to sweep the bias how a Tunable Transmon and include it in our standard set of operations\n",
                "- Learn how to manipulate third-party devices using neartime-callback functions inside Quantum Operations\n",
                "- Build a new Workflow that exploit the new functionalities"
            ]
        },
        {
            "cell_type": "markdown",
            "metadata": {},
            "source": [
                "### Imports\n",
                "\n",
                "You'll start by importing `laboneq.simple` and a demo QPU and device setup to run in emulation mode."
            ]
        },
        {
            "cell_type": "code",
            "execution_count": null,
            "metadata": {},
            "outputs": [],
            "source": [
                "from __future__ import annotations\n",
                "\n",
                "import numpy as np\n",
                "from laboneq.simple import *\n",
                "\n",
                "from laboneq_applications.qpu_types.tunable_transmon.demo_qpus import demo_platform"
            ]
        },
        {
            "cell_type": "markdown",
            "metadata": {},
            "source": [
                "### QPU and Device Setup\n",
                "\n",
                "You'll generate six qubits with pre-defined parameters, as well as a `Device_Setup` consisting of a SHFQC+, HDAWG, and PQSC. If you already have your own `DeviceSetup` and qubits configured, you'll instead initialize the session using your setup."
            ]
        },
        {
            "cell_type": "code",
            "execution_count": null,
            "metadata": {},
            "outputs": [],
            "source": [
                "my_platform = demo_platform(6)"
            ]
        },
        {
            "cell_type": "markdown",
            "metadata": {},
            "source": [
                "Then, you'll connect to the `Session`. Here we connect to an emulated one:"
            ]
        },
        {
            "cell_type": "code",
            "execution_count": null,
            "metadata": {},
            "outputs": [],
            "source": [
                "session = Session(my_platform.setup)\n",
                "session.connect(do_emulation=True)"
            ]
        },
        {
            "cell_type": "markdown",
            "metadata": {},
            "source": [
                "### Set the parameter of a Tunable Transmon\n",
                "\n",
                "First, let's set the relevant qubit parameters for controlling an external DC voltage source. The `TunableTransmon` object already posses two parameters to describe the DC bias of the qubit:\n",
                "- **dc_slot** to describe to which channel the qubit is connected to\n",
                "- **dc_voltage_parking** to describe how much voltage the channel should provide."
            ]
        },
        {
            "cell_type": "code",
            "execution_count": null,
            "metadata": {},
            "outputs": [],
            "source": [
                "for n, qubit in enumerate(my_platform.qpu.qubits):\n",
                "    qubit.parameters.dc_slot = n\n",
                "    qubit.parameters.dc_voltage_parking = 0"
            ]
        },
        {
            "cell_type": "markdown",
            "metadata": {},
            "source": [
                "Above we used as convention that the qubit are connected to the channel in order, and we set their initial value of the DC bias to 0 Volt. Let's look at a qubit to see how this object changed:"
            ]
        },
        {
            "cell_type": "code",
            "execution_count": null,
            "metadata": {},
            "outputs": [],
            "source": [
                "print(my_platform.qpu.qubits[2].parameters)"
            ]
        },
        {
            "cell_type": "markdown",
            "metadata": {},
            "source": [
                "## Create a Quantum Operation to set the DC bias for a qubit\n",
                "\n",
                "Next, we want to create a Quantum Operations to set the DC bias of a qubit. To do this, we will follow these steps:\n",
                "- Create a function to set the DC in a third-party instrument\n",
                "- Register the function to our session with a standard name\n",
                "- Create a Quantum Operation that uses the function from the session\n",
                "- Register the new quantum operation in our platform"
            ]
        },
        {
            "cell_type": "markdown",
            "metadata": {},
            "source": [
                "### Create a function to set the DC bias of qubit\n",
                "\n",
                "Next, we need to provide a function to set the DC bias of a particular qubit. The exact form of this function will depend on the driver of the device that is to be used, for the purpose of this tutorial, we will just use a mock to show how this is done. Following the prescription provided in the documentation of [Neartime-Callback Functions and 3rd-Party Devices](https://docs.zhinst.com/labone_q_user_manual/concepts/callback_functions/), the first argument of such function should always be the session."
            ]
        },
        {
            "cell_type": "code",
            "execution_count": null,
            "metadata": {},
            "outputs": [],
            "source": [
                "def my_setter(\n",
                "    session: Session,\n",
                "    voltage,\n",
                "    channel,\n",
                "):\n",
                "    return f\"channel={channel}, voltage={voltage:.1f}\""
            ]
        },
        {
            "cell_type": "markdown",
            "metadata": {},
            "source": [
                "### Register function in the session and create a matching Quantum Operation\n",
                "\n",
                "The next two steps will be performed together, we do this to be sure that there is a proper match between the function register and the Quantum Operation that uses it. Thanks to the quantum operation, we can be sure that this function will be used with the correct parameters relevant to a particular qubit each time. Notice how we allow the voltage to be selected optionally by the user. This allow us to override the voltage stored in the qubit parameter if it is needed for particular reasons, for example to sweep it in the context of an experiment."
            ]
        },
        {
            "cell_type": "code",
            "execution_count": null,
            "metadata": {},
            "outputs": [],
            "source": [
                "func_id = \"set_dc_bias\"\n",
                "\n",
                "session.register_neartime_callback(my_setter, func_id)\n",
                "\n",
                "\n",
                "@my_platform.qpu.qop.register\n",
                "def set_dc_bias(\n",
                "    self,\n",
                "    qubit,\n",
                "    voltage=None,\n",
                "):\n",
                "    # fetch parameters\n",
                "    ## voltage if not provided\n",
                "    if voltage is None:\n",
                "        voltage = qubit.parameters.dc_voltage_parking\n",
                "    ## channel always provided by the qubit\n",
                "    channel = qubit.parameters.dc_slot\n",
                "\n",
                "    # call the function\n",
                "    dsl.call(func_id, voltage=voltage, channel=channel)"
            ]
        },
        {
            "cell_type": "markdown",
            "metadata": {},
            "source": [
                "let's convince ourselves that the operation is there by inspecting the source code:"
            ]
        },
        {
            "cell_type": "code",
            "execution_count": null,
            "metadata": {},
            "outputs": [],
            "source": [
                "my_platform.qpu.qop.set_dc_bias.src"
            ]
        },
        {
            "cell_type": "markdown",
            "metadata": {},
            "source": [
                "## Create a new Workflow using the new Quantum Operation\n",
                "\n",
                "We are now set to include the new Quantum Operation in a workflow of our choice. For the purpose of this exercise, let's create a simplified version of a pulsed resonator spectroscopy were the DC bias is swept together with the frequency sent to the measure line.\n",
                "\n",
                "Creating a new `Workflow` requires additional tools from the Applications Library, so let's go ahead and import them."
            ]
        },
        {
            "cell_type": "code",
            "execution_count": null,
            "metadata": {},
            "outputs": [],
            "source": [
                "# Import to build a new workflow\n",
                "from laboneq_applications import dsl\n",
                "from laboneq_applications.tasks import (\n",
                "    compile_experiment,\n",
                "    run_experiment,\n",
                ")\n",
                "from laboneq_applications.workflow import (\n",
                "    task,\n",
                "    workflow,\n",
                ")"
            ]
        },
        {
            "cell_type": "markdown",
            "metadata": {},
            "source": [
                "Now we are ready to define a new `Workflow` we the help of standard imported tasks like `compile_experiment` and `run_experiment` together with a specific experiment yet to be defined. We call this task `create_experiment`"
            ]
        },
        {
            "cell_type": "code",
            "execution_count": null,
            "metadata": {},
            "outputs": [],
            "source": [
                "@workflow\n",
                "def res_spec_with_dc_workflow(\n",
                "    session,\n",
                "    qpu,\n",
                "    qubit,\n",
                "    frequencies,\n",
                "    voltages,\n",
                "):\n",
                "    # create experiment\n",
                "    exp = create_experiment(\n",
                "        qpu,\n",
                "        qubit,\n",
                "        frequencies=frequencies,\n",
                "        voltages=voltages,\n",
                "    )\n",
                "    # compile it\n",
                "    compiled_exp = compile_experiment(session, exp)\n",
                "    # run it\n",
                "    _result = run_experiment(session, compiled_exp)"
            ]
        },
        {
            "cell_type": "markdown",
            "metadata": {},
            "source": [
                "and now let's write the experiment using the dsl. We used a code similar to the `resonator_spectroscopy_amplitude` but simpler. The main change is that now instead of sweeping the amplitude we use our new Quantum Operation for changing the DC bias, and we pass a sweep parameter to it."
            ]
        },
        {
            "cell_type": "code",
            "execution_count": null,
            "metadata": {},
            "outputs": [],
            "source": [
                "@task\n",
                "@dsl.qubit_experiment\n",
                "def create_experiment(\n",
                "    qpu,\n",
                "    qubit,\n",
                "    frequencies,\n",
                "    voltages,\n",
                "):\n",
                "    with dsl.sweep(\n",
                "        parameter=SweepParameter(f\"voltages{qubit.uid}\", voltages),\n",
                "    ) as voltage:\n",
                "        with dsl.section():\n",
                "            qpu.qop.set_dc_bias.omit_section(qubit, voltage=voltage)  # set dc bias here\n",
                "        with dsl.acquire_loop_rt(\n",
                "            count=100,\n",
                "            averaging_mode=AveragingMode.SEQUENTIAL,\n",
                "            acquisition_type=AcquisitionType.SPECTROSCOPY,\n",
                "        ):\n",
                "            with dsl.sweep(\n",
                "                name=f\"freq_{qubit.uid}\",\n",
                "                parameter=SweepParameter(f\"frequencies_{qubit.uid}\", frequencies),\n",
                "            ) as frequency:\n",
                "                qpu.qop.set_frequency(qubit, frequency=frequency, readout=True)\n",
                "                qpu.qop.measure(qubit, dsl.handles.result_handle(qubit.uid))\n",
                "                qpu.qop.delay(qubit, 1e-6)"
            ]
        },
        {
            "cell_type": "markdown",
            "metadata": {},
            "source": [
                "#### Run the experiment\n",
                "\n",
                "We are now good to go! Let's run of workflow with some test voltages. We should expect the printout of our mock function to appear with the voltages we passed"
            ]
        },
        {
            "cell_type": "code",
            "execution_count": null,
            "metadata": {},
            "outputs": [],
            "source": [
                "my_workflow = res_spec_with_dc_workflow(\n",
                "    session=session,\n",
                "    qpu=my_platform.qpu,\n",
                "    qubit=qubit,\n",
                "    frequencies=np.linspace(1.5e9, 2.5e9, 1001),\n",
                "    voltages=[0.5, 1.0, 2.0, 3.0],\n",
                ")\n",
                "\n",
                "my_results = my_workflow.run()"
            ]
        },
        {
            "cell_type": "markdown",
            "metadata": {},
            "source": [
                "To verify that the function was run, let's inspect the result object and check the neartime-callbacks"
            ]
        },
        {
            "cell_type": "code",
            "execution_count": null,
            "metadata": {},
            "outputs": [],
            "source": [
                "my_results.tasks[\"run_experiment\"].output.neartime_callbacks[\"set_dc_bias\"]"
            ]
        },
        {
            "cell_type": "markdown",
            "metadata": {},
            "source": [
                "#### Add task to a workflow\n",
                "\n",
                "Now that we convinced ourselves that this work, and used the previous experiment to find the optimal parking voltages for each qubit, we can expand this concept and use `Task` to define a calibration for the DC sources. First, let's set some mockup values for the voltage to the qubits in our platform."
            ]
        },
        {
            "cell_type": "code",
            "execution_count": null,
            "metadata": {},
            "outputs": [],
            "source": [
                "voltages = [1, 1.3, 1.5, 1.2, 1.7, 0.9]\n",
                "for voltage, qubit in zip(voltages, my_platform.qpu.qubits):\n",
                "    qubit.parameters.dc_parking_voltage = voltage"
            ]
        },
        {
            "cell_type": "markdown",
            "metadata": {},
            "source": [
                "Next, let's define a `Task` to automatically set the correct DC biases. Some DC sources allow for parallel settings of these values, so let's explore this more general case to exploit this feature. We will prepare a dictionary with parameters starting from the `QPU`"
            ]
        },
        {
            "cell_type": "code",
            "execution_count": null,
            "metadata": {},
            "outputs": [],
            "source": [
                "@task\n",
                "def set_all_dc(\n",
                "    qpu,\n",
                "):\n",
                "    dc_dict = {}\n",
                "    for qubit in qpu.qubits:\n",
                "        dc_dict[qubit.uid] = {\n",
                "            \"channel\": qubit.parameters.dc_slot,\n",
                "            \"voltage\": qubit.parameters.dc_parking_voltage,\n",
                "        }\n",
                "\n",
                "    # mocking the voltage settings\n",
                "    for key, value in dc_dict.items():\n",
                "        voltage = value[\"voltage\"]\n",
                "        channel = value[\"channel\"]\n",
                "        print(f\"voltage {voltage} Volt was set in channel {channel} for qubit {key}\")"
            ]
        },
        {
            "cell_type": "markdown",
            "metadata": {},
            "source": [
                "Now let's assume we want to make sure all values are correctly set before we run another workflow. To do this, we use an existing workflow and we add the above task to perform this calibration"
            ]
        },
        {
            "cell_type": "code",
            "execution_count": null,
            "metadata": {},
            "outputs": [],
            "source": [
                "from laboneq_applications.experiments import amplitude_rabi\n",
                "from laboneq_applications.workflow import TuneUpWorkflowOptions\n",
                "\n",
                "\n",
                "@workflow\n",
                "def new_rabi_workflow(\n",
                "    session,\n",
                "    qpu,\n",
                "    qubits,\n",
                "    amplitudes,\n",
                "    options: TuneUpWorkflowOptions | None = None,\n",
                "):\n",
                "    # calibrate dc sources\n",
                "    set_all_dc(qpu)\n",
                "    exp = amplitude_rabi.create_experiment(\n",
                "        qpu,\n",
                "        qubits,\n",
                "        amplitudes=amplitudes,\n",
                "    )\n",
                "    compiled_exp = compile_experiment(session, exp)\n",
                "    _result = run_experiment(session, compiled_exp)"
            ]
        },
        {
            "cell_type": "markdown",
            "metadata": {},
            "source": [
                "Let's check that the printout are there by running the workflow!"
            ]
        },
        {
            "cell_type": "code",
            "execution_count": null,
            "metadata": {},
            "outputs": [],
            "source": [
                "new_workflow = new_rabi_workflow(\n",
                "    session,\n",
                "    my_platform.qpu,\n",
                "    my_platform.qpu.qubits,\n",
                "    amplitudes=[np.linspace(0.1, 1.0, 11) for n in range(6)],\n",
                ")\n",
                "\n",
                "workflow_result = new_workflow.run()"
            ]
        }
    ],
    "metadata": {
        "kernelspec": {
            "display_name": "Python 3 (ipykernel)",
            "language": "python",
            "name": "python3"
        },
        "language_info": {
            "codemirror_mode": {
                "name": "ipython",
                "version": 3
            },
            "file_extension": ".py",
            "mimetype": "text/x-python",
            "name": "python",
            "nbconvert_exporter": "python",
            "pygments_lexer": "ipython3",
            "version": "3.10.7"
        }
    },
    "nbformat": 4,
    "nbformat_minor": 4
}