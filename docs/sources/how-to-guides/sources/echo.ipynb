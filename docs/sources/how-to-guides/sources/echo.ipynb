{
    "cells": [
        {
            "cell_type": "markdown",
            "metadata": {},
            "source": [
                "## How To Perform an Echo Experiment"
            ]
        },
        {
            "cell_type": "markdown",
            "metadata": {},
            "source": [
                "### Prerequisites\n",
                "This guide assumes you have a configured `DeviceSetup` as well as `Qubit` objects with assigned parameters. Please see these guides (add links) if you need to create your setup and qubits for the first time. However, you can also run this notebook \"as is\" using an emulated session. If you are just getting started with the LabOne Q Applications Library, please don't hesitate to reach out to us at info@zhinst.com."
            ]
        },
        {
            "cell_type": "markdown",
            "metadata": {},
            "source": [
                "### Background\n",
                "In this how-to guide, you'll perform a Hahn echo experiment to measure the transversal relaxation of a qubit using the `echo` experiment included in the LabOne Q Applications Library. \n",
                "\n",
                "In a previous how-to-guide, we already used Ramsey interferometry (link to ramsey how-to) to measure the transversal relaxation ( $T_2^*$ ). However, the Ramsey experiment is sensitive to quasi-static, low-frequency fluctuations. The Hahn echo protocol is less sensitive to quasi-static noise. \n",
                "\n",
                "#### Ramsey protocol\n",
                "\n",
                "Let's start with a short summary of the Ramsey protocol: \n",
                "\n",
                "A $X_{\\pi/2}$ (X90) pulse positions the Bloch vector on the equator (Fig. 1a). Typically, the carrier frequency of this pulse is slightly detuned from the qubit frequency. As a result, the Bloch vector will rotate around the z-axis. After waiting for a time $\\tau$, a second $X_{\\pi/2}$-pulse projects the Bloch vector back on to the z-axis. Repeated measurements are made to take an ensemble averaged estimate of the qubit polarization, as a function of $\\tau$. The resulting oscillations feature an approximately exponential decay function with decaytime $T_2^*$. (from https://arxiv.org/pdf/1904.06560)\n",
                "\n",
                "Here, the “ $^*$ ” indicates that the Ramsey experiment is sensitive to inhomogeneous broadening. That is, it is highly sensitive to quasi-static, low-frequency fluctuations that are constant within one experimental trial, but vary from trial to trial, e.g., due to $1/f$-type noise. These fluctuations cause a dephasing of the qubit state (Fig. 1b) during the time $\\tau$. \n",
                "\n",
                "#### Hahn echo protocol\n",
                "\n",
                "Now let's have a look at the Hahn echo protocol, which is less sensitive to quasi-static noise:\n",
                "\n",
                "We perform the same protocol as for the Ramsey interferometry, but place one extra $Y_\\pi$ (Y180) pulse in-between the two $X_{\\pi/2}$ pulses (X90). The accumulated dephasing during the first period can be undone (refocused) in the second period by rotating the qubit state by 180 $^\\circ$ in-between through an $Y_{\\pi}$ pulse. The final $X_{\\pi/2}$-pulse projects the Bloch vector back on to the z-axis. In summary the overall quasi-static contributions to dephasing are reduced, leaving an estimate $T_{2e}$ that is less sensitive to inhomogeneous broadening mechanisms.\n",
                "\n",
                "The pulses are generally chosen to be resonant with the qubit transition for a Hahn echo, since any frequency detuning would be nominally refocused anyway.\n",
                "\n",
                "\n",
                "![](../images/hahn_echo.svg \"Hahn echo experiment to refocus quasi-static contributions to dephasing.\")"
            ]
        },
        {
            "cell_type": "markdown",
            "metadata": {},
            "source": [
                "### Imports\n",
                "\n",
                "You'll start by importing the echo experiment from `laboneq_applications`, as well as `laboneq.simple` and a demo QPU and device setup to run in emulation mode."
            ]
        },
        {
            "cell_type": "code",
            "execution_count": null,
            "metadata": {},
            "outputs": [],
            "source": [
                "%load_ext autoreload\n",
                "%autoreload 2\n",
                "\n",
                "from laboneq.contrib.example_helpers.plotting.plot_helpers import plot_simulation\n",
                "from laboneq.simple import *\n",
                "\n",
                "from laboneq_applications.experiments import echo\n",
                "from laboneq_applications.qpu_types.tunable_transmon.demo_qpus import demo_platform\n",
                "\n",
                "# from laboneq_applications.experiments.options import TuneupExperimentOptions"
            ]
        },
        {
            "cell_type": "markdown",
            "metadata": {},
            "source": [
                "### QPU and Device Setup\n",
                "\n",
                "You'll generate six qubits with pre-defined parameters, as well as a `Device_Setup` consisting of a SHFQC+, HDAWG, and PQSC. If you already have your own `DeviceSetup` and qubits configured, you'll instead initialize the session using your setup."
            ]
        },
        {
            "cell_type": "code",
            "execution_count": null,
            "metadata": {},
            "outputs": [],
            "source": [
                "my_platform = demo_platform(6)"
            ]
        },
        {
            "cell_type": "markdown",
            "metadata": {},
            "source": [
                "Then, you'll connect to the `Session`. Here we connect to an emulated one:"
            ]
        },
        {
            "cell_type": "code",
            "execution_count": null,
            "metadata": {},
            "outputs": [],
            "source": [
                "session = Session(my_platform.setup)\n",
                "session.connect(do_emulation=True)"
            ]
        },
        {
            "cell_type": "markdown",
            "metadata": {},
            "source": [
                "### Running the Echo Workflow\n",
                "\n",
                "You'll now make the experiment workflow and run the following lines of code. The delay parameter corresponds to the delay $\\tau$ in the figure above and must be given as one list per qubit. In particular, the time between the end of the first X90 pulse and the beginning of the Y180 pulse is defined as delay/2 ( $\\tau/2$ ). The same is true for the delay between the end of the Y180 pulse and the beginning of the second X90 pulse."
            ]
        },
        {
            "cell_type": "code",
            "execution_count": null,
            "metadata": {},
            "outputs": [],
            "source": [
                "# our qubits live here in the demo setup:\n",
                "qubits = my_platform.qpu.qubits\n",
                "\n",
                "my_workflow = echo.experiment_workflow(\n",
                "    session=session,\n",
                "    qpu=my_platform.qpu,\n",
                "    qubits=[qubits[0], qubits[1]],\n",
                "    delays=[[1e-6, 2e-6, 3e-6, 4e-6, 5e-6],[1e-6, 2e-6, 3e-6, 4e-6, 5e-6]],\n",
                ")\n",
                "\n",
                "my_results = my_workflow.run()"
            ]
        },
        {
            "cell_type": "markdown",
            "metadata": {},
            "source": [
                "#### Output Simulation\n",
                "\n",
                "You can also inspect the compiled experiment and plot the simulated output:"
            ]
        },
        {
            "cell_type": "code",
            "execution_count": null,
            "metadata": {},
            "outputs": [],
            "source": [
                "compiled_echo = my_results.tasks[\"compile_experiment\"].output\n",
                "plot_simulation(compiled_echo, length=60e-6)"
            ]
        },
        {
            "cell_type": "markdown",
            "metadata": {},
            "source": [
                "#### Inspecting the Source Code\n",
                "\n",
                "You can inspect the source code of the `create_experiment` task defined in `echo` to see how the experiment pulse sequence is created:"
            ]
        },
        {
            "cell_type": "code",
            "execution_count": null,
            "metadata": {
                "scrolled": true
            },
            "outputs": [],
            "source": [
                "echo.create_experiment.src"
            ]
        },
        {
            "cell_type": "markdown",
            "metadata": {},
            "source": [
                "### Changing the Options\n",
                "\n",
                "We can give our Hahn echo experiment options. First, inspect what they currently are:"
            ]
        },
        {
            "cell_type": "code",
            "execution_count": null,
            "metadata": {},
            "outputs": [],
            "source": [
                "my_new_opts = echo.experiment_workflow.options()\n",
                "my_new_opts"
            ]
        },
        {
            "cell_type": "markdown",
            "metadata": {},
            "source": [
                "Then provide new options. This time, you'll remove the calibration traces. Furthermore, instead of an y180 pulse in-between the x90 pulses, you'll play an x180 pulse instead."
            ]
        },
        {
            "cell_type": "code",
            "execution_count": null,
            "metadata": {},
            "outputs": [],
            "source": [
                "my_new_opts.use_cal_traces(value=False)\n",
                "my_new_opts.refocus_qop(\"x180\")\n",
                "my_new_opts"
            ]
        },
        {
            "cell_type": "markdown",
            "metadata": {},
            "source": [
                "#### Run the workflow with updated options\n",
                "\n",
                "Now, run the workflow with new options and inspect the simulated output. You'll notice that the calibration traces are no longer there and the sequence is now `x90 - x180 - x90`. "
            ]
        },
        {
            "cell_type": "code",
            "execution_count": null,
            "metadata": {},
            "outputs": [],
            "source": [
                "my_new_workflow = echo.experiment_workflow(\n",
                "    session=session,\n",
                "    qpu=my_platform.qpu,\n",
                "    qubits=[qubits[0], qubits[1]],\n",
                "    delays=[[1e-6, 2e-6, 3e-6, 4e-6, 5e-6],[1e-6, 2e-6, 3e-6, 4e-6, 5e-6]],\n",
                "    options=my_new_opts,\n",
                ")\n",
                "\n",
                "my_new_results = my_new_workflow.run()\n",
                "new_compiled_echo = my_new_results.tasks[\"compile_experiment\"].output\n",
                "plot_simulation(new_compiled_echo, length=50e-6)"
            ]
        },
        {
            "cell_type": "markdown",
            "metadata": {},
            "source": [
                "### Temporary settings\n",
                "\n",
                "The qubit parameters are used to control the settings of pulses and instruments during the experiment. We can run the Hahn echo experiment with different settings by passing it a copy of the qubits with modified parameters:"
            ]
        },
        {
            "cell_type": "code",
            "execution_count": null,
            "metadata": {},
            "outputs": [],
            "source": [
                "# Make a copy of the qubits\n",
                "temp_qubits = my_platform.qpu.copy_qubits()\n",
                "# Change the length of the drive pulses\n",
                "temp_qubits[0].parameters.ge_drive_length = 1000e-9\n",
                "temp_qubits[1].parameters.ge_drive_length = 1000e-9\n",
                "\n",
                "my_new_workflow = echo.experiment_workflow(\n",
                "    session=session,\n",
                "    qpu=my_platform.qpu,\n",
                "    qubits=[temp_qubits[0], temp_qubits[1]],  # pass temporary qubits\n",
                "    delays=[[1e-6, 2e-6, 3e-6, 4e-6, 5e-6],[1e-6, 2e-6, 3e-6, 4e-6, 5e-6]],\n",
                "    options=my_new_opts,\n",
                ")\n",
                "\n",
                "my_new_results = my_new_workflow.run()\n",
                "new_compiled_echo = my_new_results.tasks[\"compile_experiment\"].output\n",
                "plot_simulation(new_compiled_echo, length=10e-6)"
            ]
        },
        {
            "cell_type": "markdown",
            "metadata": {},
            "source": [
                "Great! You've now run your Hahn echo experiment. Check out these other experiments to keep characterizing your qubits:"
            ]
        },
        {
            "cell_type": "code",
            "execution_count": null,
            "metadata": {},
            "outputs": [],
            "source": [
                "# TODO: Add experiment links\n",
                "# TODO: Add Analysis"
            ]
        },
        {
            "cell_type": "code",
            "execution_count": null,
            "metadata": {},
            "outputs": [],
            "source": []
        }
    ],
    "metadata": {
        "kernelspec": {
            "display_name": "Python 3 (ipykernel)",
            "language": "python",
            "name": "python3"
        },
        "language_info": {
            "codemirror_mode": {
                "name": "ipython",
                "version": 3
            },
            "file_extension": ".py",
            "mimetype": "text/x-python",
            "name": "python",
            "nbconvert_exporter": "python",
            "pygments_lexer": "ipython3",
            "version": "3.12.4"
        }
    },
    "nbformat": 4,
    "nbformat_minor": 4
}