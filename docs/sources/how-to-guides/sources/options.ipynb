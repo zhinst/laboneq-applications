{
 "cells": [
  {
   "cell_type": "markdown",
   "metadata": {},
   "source": [
    "# Use options\n",
    "\n",
    "Options provided for taskbook can be created via \"options\" classes.\n",
    "\n",
    "There are two categories of options:\n",
    "\n",
    "* **ExperimentOptions**:\n",
    "    These options are used to set some parameters for the experiment. For example, the number of experiment shots (`counts`),\n",
    "    the averaging mode (`averaging_mode`), the acquisition type (`acquisition_type`) and so on. \n",
    "\n",
    "* **TaskBookOptions**:\n",
    "    These options are used to set some parameters for the taskbook. These include the settings for operating the taskbook, such as `run_until` which specifies the task the taskbook should stop at.\n",
    "    In addition, options for the constituent tasks of the taskbook can also be set by specifying the task name and the options for that task.\n",
    "\n"
   ]
  },
  {
   "cell_type": "code",
   "execution_count": null,
   "metadata": {},
   "outputs": [],
   "source": [
    "from __future__ import annotations\n",
    "\n",
    "from laboneq_applications.core.options import (\n",
    "    BaseExperimentOptions,\n",
    "    TuneupExperimentOptions,\n",
    ")\n",
    "from laboneq_applications.workflow import TaskBookOptions, task, taskbook"
   ]
  },
  {
   "cell_type": "markdown",
   "metadata": {},
   "source": [
    "# Create a new experiment options class\n",
    "The options for an experiment can be created by inheriting from `BaseExperimentOptions` class.\n",
    "\n",
    "It is recommended to create options classes always with default values. This way, options can be used without specifying them, and the default values will be used."
   ]
  },
  {
   "cell_type": "code",
   "execution_count": null,
   "metadata": {},
   "outputs": [],
   "source": [
    "class NewExperimentOptions(BaseExperimentOptions):\n",
    "    operand: int = 1"
   ]
  },
  {
   "cell_type": "code",
   "execution_count": null,
   "metadata": {},
   "outputs": [],
   "source": [
    "opt = NewExperimentOptions()"
   ]
  },
  {
   "cell_type": "code",
   "execution_count": null,
   "metadata": {},
   "outputs": [],
   "source": [
    "opt"
   ]
  },
  {
   "cell_type": "markdown",
   "metadata": {},
   "source": [
    "The library provides a few standard options classes, such as `TuneupExperimentOptions`"
   ]
  },
  {
   "cell_type": "code",
   "execution_count": null,
   "metadata": {},
   "outputs": [],
   "source": [
    "opt = TuneupExperimentOptions()\n",
    "opt"
   ]
  },
  {
   "cell_type": "markdown",
   "metadata": {},
   "source": [
    "# Create a new taskbook options class"
   ]
  },
  {
   "cell_type": "markdown",
   "metadata": {},
   "source": [
    "Taskbook options classes are used to set the options for the taskbook and its constituent tasks. These classes must inherit from `TaskBookOptions`, as shown in the cell below. \n",
    "\n",
    "The options for the constituent tasks of the taskbook can be set by specifying the task name and the options class used for that task.\n",
    "As in the case of the experiment options, it is recommended to create the taskbook options class with default values.\n",
    "\n",
    "For example, in the cell below, the line `add: NewExperimentOptions = NewExperimentOptions()` sets the type `NewExperimentOptions` and default value `NewExperimentOptions()` for the options of task `add`:"
   ]
  },
  {
   "cell_type": "code",
   "execution_count": null,
   "metadata": {},
   "outputs": [],
   "source": [
    "class NewTaskBookOptions(TaskBookOptions):\n",
    "    add: NewExperimentOptions = NewExperimentOptions()\n",
    "    multiply: NewExperimentOptions = NewExperimentOptions()"
   ]
  },
  {
   "cell_type": "code",
   "execution_count": null,
   "metadata": {},
   "outputs": [],
   "source": [
    "taskbook_opt = NewTaskBookOptions()"
   ]
  },
  {
   "cell_type": "code",
   "execution_count": null,
   "metadata": {},
   "outputs": [],
   "source": [
    "taskbook_opt.add.operand = 2"
   ]
  },
  {
   "cell_type": "markdown",
   "metadata": {},
   "source": [
    "# Enable the options feature in the taskbook"
   ]
  },
  {
   "cell_type": "markdown",
   "metadata": {},
   "source": [
    "The advantage of using the options feature of a taskbook is the automatic passing of options to the tasks and other features like run_until, etc.\n",
    "\n",
    "Let's illustrate the concepts via an example. \n",
    "\n",
    "`mytaskbook` contains task `mytask` which takes in an argument and options. \n",
    "\n",
    "To use `mytaskbook` with options, we must provide the right types for the `options` argument in `mytaskbook`.\n",
    "\n",
    "The supported types are:\n",
    "- `TaskBookOptionsA | None`\n",
    "- `Union[TaskBookOptionsA, None]`\n",
    "- `Optional[TaskBookOptionsA]`\n",
    "\n",
    "where `TaskBookOptionsA` is a subclass of `TaskBookOptions`.\n",
    "\n",
    "From Python 3.10 onward, it is recommended to use `TaskBookOptionsA | None` to conform with the standard practice.\n",
    "\n",
    "On Python 3.9, `from _future_ import annotations` must be imported to use `TaskBookOptionsA | None`.\n"
   ]
  },
  {
   "cell_type": "code",
   "execution_count": null,
   "metadata": {},
   "outputs": [],
   "source": [
    "@task\n",
    "def add(x, options: NewExperimentOptions):\n",
    "    return x + options.operand\n",
    "\n",
    "\n",
    "@task\n",
    "def multiply(x, options: NewExperimentOptions):\n",
    "    return x * options.operand"
   ]
  },
  {
   "cell_type": "code",
   "execution_count": null,
   "metadata": {},
   "outputs": [],
   "source": [
    "@taskbook\n",
    "def mytaskbook(options: NewTaskBookOptions | None = None):\n",
    "    add(x=1)\n",
    "    multiply(x=2)"
   ]
  },
  {
   "cell_type": "markdown",
   "metadata": {},
   "source": [
    "# Disallowed types for options\n",
    "\n",
    "When the type provided for the options includes a subclass of `TaskBookOptions`, we assume that users are attempting to use the options feature. Hence, if the specified type does not follow the form of the above-mentioned types, an error will be raised to inform the user about this, as shown below. \n",
    "\n",
    "Note: users are allowed to define and use their own options, passed as any standard Python type (`str`, `dict` etc.). See 'Manual handling of options' below. "
   ]
  },
  {
   "cell_type": "code",
   "execution_count": null,
   "metadata": {},
   "outputs": [],
   "source": [
    "# an error will be raised\n",
    "\n",
    "\n",
    "@taskbook\n",
    "def mytaskbook(options: NewTaskBookOptions | str):\n",
    "    add(x=1)\n",
    "    multiply(x=2)"
   ]
  },
  {
   "cell_type": "markdown",
   "metadata": {},
   "source": [
    "# Run the taskbook with options"
   ]
  },
  {
   "cell_type": "markdown",
   "metadata": {},
   "source": [
    "Create an options object and pass it to the taskbook when running it."
   ]
  },
  {
   "cell_type": "code",
   "execution_count": null,
   "metadata": {},
   "outputs": [],
   "source": [
    "taskbook_opt = NewTaskBookOptions()"
   ]
  },
  {
   "cell_type": "code",
   "execution_count": null,
   "metadata": {},
   "outputs": [],
   "source": [
    "taskbook_opt.add.operand = 3\n",
    "taskbook_opt.multiply.operand = 3"
   ]
  },
  {
   "cell_type": "code",
   "execution_count": null,
   "metadata": {},
   "outputs": [],
   "source": [
    "res = mytaskbook(options=taskbook_opt)\n",
    "res.tasks[1].output"
   ]
  },
  {
   "cell_type": "code",
   "execution_count": null,
   "metadata": {},
   "outputs": [],
   "source": [
    "taskbook_opt.run_until = \"add\""
   ]
  },
  {
   "cell_type": "markdown",
   "metadata": {},
   "source": [
    "Note how the options for each task are automatically set by the taskbook options."
   ]
  },
  {
   "cell_type": "code",
   "execution_count": null,
   "metadata": {},
   "outputs": [],
   "source": [
    "res = mytaskbook(options=taskbook_opt)\n",
    "res.tasks  # only the first task is executed"
   ]
  },
  {
   "cell_type": "markdown",
   "metadata": {},
   "source": [
    "# Manual handling of options\n",
    "\n",
    "For quick prototyping, it is possible to disable the automatic forwarding of `options` by the taskbook to its tasks. \n",
    "\n",
    "This can be done by not including `TaskBookOptions` or its subclasses for the types of `options` argument in `mytaskbook`.\n",
    "\n",
    " However, we can still pass options manually to each task as standard Python dictionaries."
   ]
  },
  {
   "cell_type": "code",
   "execution_count": null,
   "metadata": {},
   "outputs": [],
   "source": [
    "@task\n",
    "def add(x, options: int):\n",
    "    return x + options\n",
    "\n",
    "\n",
    "@task\n",
    "def multiply(x, options: int):\n",
    "    return x * options\n",
    "\n",
    "\n",
    "@taskbook\n",
    "def mytaskbook(options: dict):\n",
    "    add(x=1, options=options[\"operand1\"])\n",
    "    multiply(x=2, options=options[\"operand2\"])"
   ]
  },
  {
   "cell_type": "code",
   "execution_count": null,
   "metadata": {},
   "outputs": [],
   "source": [
    "mytaskbook(options={\"operand1\": 1, \"operand2\": 2})"
   ]
  }
 ],
 "metadata": {
  "kernelspec": {
   "display_name": "Python 3 (ipykernel)",
   "language": "python",
   "name": "python3"
  },
  "language_info": {
   "codemirror_mode": {
    "name": "ipython",
    "version": 3
   },
   "file_extension": ".py",
   "mimetype": "text/x-python",
   "name": "python",
   "nbconvert_exporter": "python",
   "pygments_lexer": "ipython3",
   "version": "3.12.4"
  }
 },
 "nbformat": 4,
 "nbformat_minor": 4
}
