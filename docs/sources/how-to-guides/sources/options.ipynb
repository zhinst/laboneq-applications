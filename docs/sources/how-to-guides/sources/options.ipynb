{
 "cells": [
  {
   "cell_type": "markdown",
   "metadata": {},
   "source": [
    "# Use options\n",
    "\n",
    "Options provided for taskbook can be created via \"options\" classes.\n",
    "\n",
    "There are two categories of options:\n",
    "\n",
    "* **ExperimentOptions**:\n",
    "    These options are used to set some parameters for the experiment. For example, the number of experiment shots (`counts`),\n",
    "    the averaging mode (`averaging_mode`), the acquisition type (`acquisition_type`) and so on. \n",
    "\n",
    "* **TaskBookOptions**:\n",
    "    These options are used to set some parameters for the taskbook. These include the settings for operating the taskbook, such as `run_until` which specifies the task the taskbook should stop at.\n",
    "    In addition, options for the constituent tasks of the taskbook can also be set, by specifying the task name and the options for that task.\n",
    "\n"
   ]
  },
  {
   "cell_type": "code",
   "execution_count": null,
   "metadata": {},
   "outputs": [],
   "source": [
    "from __future__ import annotations\n",
    "\n",
    "from laboneq_applications.core.options import (\n",
    "    BaseExperimentOptions,\n",
    "    TaskBookOptions,\n",
    ")\n",
    "from laboneq_applications.workflow import task, taskbook"
   ]
  },
  {
   "cell_type": "markdown",
   "metadata": {},
   "source": [
    "# Create a new experiment options class\n",
    "\n",
    "It is recommended to create options classes always with default values. This way, options can be used without specifying them, and the default values will be used."
   ]
  },
  {
   "cell_type": "code",
   "execution_count": null,
   "metadata": {},
   "outputs": [],
   "source": [
    "class NewExperimentOptions(BaseExperimentOptions):\n",
    "    operand: int = 1"
   ]
  },
  {
   "cell_type": "code",
   "execution_count": null,
   "metadata": {},
   "outputs": [],
   "source": [
    "opt = NewExperimentOptions()"
   ]
  },
  {
   "cell_type": "code",
   "execution_count": null,
   "metadata": {},
   "outputs": [],
   "source": [
    "opt"
   ]
  },
  {
   "cell_type": "markdown",
   "metadata": {},
   "source": [
    "# Create a new taskbook options class"
   ]
  },
  {
   "cell_type": "markdown",
   "metadata": {},
   "source": [
    "The taskbook options class is used to set the options for the taskbook. They must inherit from `TaskBookOptions`. \n",
    "The options for the constituent tasks of the taskbook can also be set by specifying the task name and the options class used for that task.\n",
    "As in the case of the experiment options, it is recommended to create the taskbook options class with default values.\n",
    "\n",
    "For instances, the following line sets the type `NewExperimentOptions` and default values `NewExperimentOptions()` for the options of task `add`:\n",
    "\n",
    "`add: NewExperimentOptions = NewExperimentOptions()`"
   ]
  },
  {
   "cell_type": "code",
   "execution_count": null,
   "metadata": {},
   "outputs": [],
   "source": [
    "class NewTaskBookOptions(TaskBookOptions):\n",
    "    add: NewExperimentOptions = NewExperimentOptions()\n",
    "    multiply: NewExperimentOptions = NewExperimentOptions()"
   ]
  },
  {
   "cell_type": "code",
   "execution_count": null,
   "metadata": {},
   "outputs": [],
   "source": [
    "taskbook_opt = NewTaskBookOptions()"
   ]
  },
  {
   "cell_type": "code",
   "execution_count": null,
   "metadata": {},
   "outputs": [],
   "source": [
    "taskbook_opt.add.operand = 2"
   ]
  },
  {
   "cell_type": "markdown",
   "metadata": {},
   "source": [
    "# Use options in the taskbook"
   ]
  },
  {
   "cell_type": "markdown",
   "metadata": {},
   "source": [
    "Define tasks and taskbook to be used\n",
    "\n",
    "`mytaskbook` contains task `mytask` which takes in an argument and an options. \n",
    "\n",
    "To use `mytaskbook` with options, we must declare the type of options to be used, via the `options` attribute of the taskbook decorator.\n",
    "\n",
    "Note how the options for each task are automatically set by the taskbook options."
   ]
  },
  {
   "cell_type": "code",
   "execution_count": null,
   "metadata": {},
   "outputs": [],
   "source": [
    "@task\n",
    "def add(x, options: NewExperimentOptions):\n",
    "    return x + options.operand\n",
    "\n",
    "\n",
    "@task\n",
    "def multiply(x, options: NewExperimentOptions):\n",
    "    return x * options.operand"
   ]
  },
  {
   "cell_type": "code",
   "execution_count": null,
   "metadata": {},
   "outputs": [],
   "source": [
    "@taskbook(options=NewTaskBookOptions)\n",
    "def mytaskbook(options: NewTaskBookOptions | None = None):\n",
    "    add(x=1)\n",
    "    multiply(x=2)"
   ]
  },
  {
   "cell_type": "markdown",
   "metadata": {},
   "source": [
    "Create an options object and pass it to the taskbook when running it."
   ]
  },
  {
   "cell_type": "code",
   "execution_count": null,
   "metadata": {},
   "outputs": [],
   "source": [
    "taskbook_opt = mytaskbook.options()"
   ]
  },
  {
   "cell_type": "code",
   "execution_count": null,
   "metadata": {},
   "outputs": [],
   "source": [
    "taskbook_opt.add.operand = 3\n",
    "taskbook_opt.multiply.operand = 3"
   ]
  },
  {
   "cell_type": "code",
   "execution_count": null,
   "metadata": {},
   "outputs": [],
   "source": [
    "res = mytaskbook(options=taskbook_opt)\n",
    "res.tasks[1].output"
   ]
  },
  {
   "cell_type": "code",
   "execution_count": null,
   "metadata": {},
   "outputs": [],
   "source": [
    "taskbook_opt.run_until = \"add\""
   ]
  },
  {
   "cell_type": "code",
   "execution_count": null,
   "metadata": {},
   "outputs": [],
   "source": [
    "res = mytaskbook(options=taskbook_opt)\n",
    "res.tasks  # only the first task is executed"
   ]
  },
  {
   "cell_type": "markdown",
   "metadata": {},
   "source": [
    "Of course, the options can be created directly via the option class."
   ]
  },
  {
   "cell_type": "code",
   "execution_count": null,
   "metadata": {},
   "outputs": [],
   "source": [
    "taskbook_opt = NewTaskBookOptions()"
   ]
  },
  {
   "cell_type": "markdown",
   "metadata": {},
   "source": [
    "# Disable options\n",
    "\n",
    "For quick prototyping, it is possible to disable the automatic forwarding of `options` by the taskbook to its tasks by not setting the options attribute of the taskbook decorator. However, we can still pass options manually to each task as standard Python dictionaries."
   ]
  },
  {
   "cell_type": "code",
   "execution_count": null,
   "metadata": {},
   "outputs": [],
   "source": [
    "@task\n",
    "def add(x, options: int):\n",
    "    return x + options\n",
    "\n",
    "\n",
    "@task\n",
    "def multiply(x, options: int):\n",
    "    return x * options\n",
    "\n",
    "\n",
    "@taskbook\n",
    "def mytaskbook(options: dict | None = None):\n",
    "    add(x=1, options=options[\"operand1\"])\n",
    "    multiply(x=2, options=options[\"operand2\"])"
   ]
  },
  {
   "cell_type": "code",
   "execution_count": null,
   "metadata": {},
   "outputs": [],
   "source": [
    "mytaskbook(options={\"operand1\": 1, \"operand2\": 2})"
   ]
  }
 ],
 "metadata": {
  "kernelspec": {
   "display_name": "laboneq_apps",
   "language": "python",
   "name": "python3"
  },
  "language_info": {
   "codemirror_mode": {
    "name": "ipython",
    "version": 3
   },
   "file_extension": ".py",
   "mimetype": "text/x-python",
   "name": "python",
   "nbconvert_exporter": "python",
   "pygments_lexer": "ipython3",
   "version": "3.11.8"
  }
 },
 "nbformat": 4,
 "nbformat_minor": 2
}
