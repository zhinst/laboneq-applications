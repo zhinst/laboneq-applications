{
 "cells": [
  {
   "attachments": {},
   "cell_type": "markdown",
   "id": "46cfbe23",
   "metadata": {},
   "source": [
    "# Sweeps with Callback Functions"
   ]
  },
  {
   "attachments": {},
   "cell_type": "markdown",
   "id": "4a5e08b0",
   "metadata": {},
   "source": [
    "This notebook shows you how the [call-back functionality](https://docs.zhinst.com/labone_q_user_manual/concepts/callback_functions/) of LabOne Q can be used to do a very general 2D sweep. The two axes are swept with call-back functions, and at each point of the sweep some data is acquired with the MFLI DAQ module"
   ]
  },
  {
   "attachments": {},
   "cell_type": "markdown",
   "id": "41e16d80",
   "metadata": {},
   "source": [
    "## 0. General Imports"
   ]
  },
  {
   "cell_type": "code",
   "execution_count": null,
   "id": "9c56cac7",
   "metadata": {},
   "outputs": [],
   "source": [
    "import time\n",
    "from unittest.mock import MagicMock\n",
    "\n",
    "import matplotlib.pyplot as plt\n",
    "import numpy as np\n",
    "from laboneq.simple import *"
   ]
  },
  {
   "cell_type": "markdown",
   "id": "e66d0291",
   "metadata": {},
   "source": [
    "## 1. Device Setup"
   ]
  },
  {
   "cell_type": "markdown",
   "id": "a36a3823",
   "metadata": {},
   "source": [
    "### 1.1 Create device setup"
   ]
  },
  {
   "cell_type": "code",
   "execution_count": null,
   "id": "f142cff7",
   "metadata": {},
   "outputs": [],
   "source": [
    "descriptor = \"\"\"\\\n",
    "instruments:\n",
    "  MFLI:\n",
    "  - address: DEV5534\n",
    "    uid: device_mfli\n",
    "\"\"\"\n",
    "\n",
    "device_setup = DeviceSetup.from_descriptor(\n",
    "    descriptor,\n",
    "    server_host=\"your_ip_address\",\n",
    "    server_port=8004,\n",
    "    setup_name=\"MySetup\",\n",
    ")"
   ]
  },
  {
   "cell_type": "code",
   "execution_count": null,
   "id": "e0030081-8bdc-44bb-b618-bfd2a6967c07",
   "metadata": {},
   "outputs": [],
   "source": [
    "class EmulatedMFLI(MagicMock):\n",
    "    \"\"\"An dummy MFLI for emulation mode.\"\"\"\n",
    "    def __float__(self):\n",
    "        return 0\n",
    "\n",
    "    def __array__(self):\n",
    "        return np.array(0)"
   ]
  },
  {
   "attachments": {},
   "cell_type": "markdown",
   "id": "476a49d2",
   "metadata": {},
   "source": [
    "## 2. MFLI example"
   ]
  },
  {
   "attachments": {},
   "cell_type": "markdown",
   "id": "0cb835ce",
   "metadata": {},
   "source": [
    "### 2.1 Connect to session"
   ]
  },
  {
   "cell_type": "code",
   "execution_count": null,
   "id": "a689956b",
   "metadata": {},
   "outputs": [],
   "source": [
    "# create and connect to session\n",
    "session = Session(device_setup=device_setup)\n",
    "session.connect(do_emulation=True)"
   ]
  },
  {
   "attachments": {},
   "cell_type": "markdown",
   "id": "b2ed6e8f",
   "metadata": {},
   "source": [
    "### 2.2 Experiment definition"
   ]
  },
  {
   "cell_type": "code",
   "execution_count": null,
   "id": "81c29f0d",
   "metadata": {},
   "outputs": [],
   "source": [
    "## constant definition\n",
    "INT_TIME = 30e-3\n",
    "\n",
    "# Define sweep parameter\n",
    "outer_sweep_parameter = LinearSweepParameter(\n",
    "    uid=\"outer_sweep_parameter\", start=1, stop=5, count=3\n",
    ")\n",
    "inner_sweep_parameter = LinearSweepParameter(\n",
    "    uid=\"inner_sweep_parameter\", start=0, stop=4, count=3\n",
    ")\n",
    "\n",
    "## Create Experiment\n",
    "exp = Experiment(\"Generic experiment\")\n",
    "\n",
    "# define experiment\n",
    "with exp.sweep(uid=\"outer_sweep\", parameter=outer_sweep_parameter):\n",
    "    # use near-time callback\n",
    "    exp.call(\"setSlowAxis\", param=outer_sweep_parameter)\n",
    "    with exp.sweep(uid=\"inner_sweep\", parameter=inner_sweep_parameter):\n",
    "        # use near-time callback\n",
    "        exp.call(\"setFastAxis\", param=inner_sweep_parameter)\n",
    "        exp.call(\"readMFLI\", settling_time=0.1)\n",
    "        with exp.acquire_loop_rt(uid=\"RT_shots\", count=1):\n",
    "            pass"
   ]
  },
  {
   "attachments": {},
   "cell_type": "markdown",
   "id": "b2e7be1f",
   "metadata": {},
   "source": [
    "### 2.3 Configure MFLI and DAQ module"
   ]
  },
  {
   "cell_type": "code",
   "execution_count": null,
   "id": "dd7ddfcb-256d-4dd2-9bb2-df902ce30cb7",
   "metadata": {},
   "outputs": [],
   "source": [
    "# retrieve MFLI or mock it in emulation mode\n",
    "if not session.connection_state.emulated:\n",
    "    mfli = session.devices[\"device_mfli\"]\n",
    "else:\n",
    "    mfli = EmulatedMFLI()"
   ]
  },
  {
   "cell_type": "code",
   "execution_count": null,
   "id": "f88760d2",
   "metadata": {},
   "outputs": [],
   "source": [
    "# configure MFLI\n",
    "demod = mfli.demods[0]  # which demodulator to use (depends on MF option)\n",
    "\n",
    "with mfli.set_transaction():\n",
    "    mfli.demods[\"*\"].enable(False)\n",
    "    mfli.oscs[0].freq(1e6)\n",
    "    mfli.sigouts[0].enable(True)\n",
    "    demod.order(1)\n",
    "    demod.rate(1e3)\n",
    "    demod.trigger(\"continuous\")\n",
    "    demod.timeconstant(10e-3)\n",
    "    demod.enable(True)\n",
    "\n",
    "# Parameters\n",
    "DEMOD_RATE_MFLI = demod.rate()  # read the value from the instrument\n",
    "NUM_COLS = int(\n",
    "    np.ceil(DEMOD_RATE_MFLI * INT_TIME)\n",
    ")  # Number of samples per burst. Corresponds to length of time trace in units of sampling rate.\n",
    "\n",
    "# Module creation\n",
    "daq_module = mfli._session.modules.daq  # Create DAQ module\n",
    "daq_module.device(mfli)  # Assign DAQ module to instrument\n",
    "daq_module.type(0)  # Continuous acquisition\n",
    "daq_module.endless(False)  # Single acquisition/trace\n",
    "\n",
    "# Shape of my grid\n",
    "daq_module.grid.mode(\n",
    "    4\n",
    ")  # Specify how the acquired data is sampled onto the horizontal axis of the matrix (4='exact')\n",
    "daq_module.count(1)  # Number of grids to be acquired\n",
    "daq_module.grid.cols(\n",
    "    NUM_COLS\n",
    ")  # Length of acquired trace (in units of demodulator sample)\n",
    "daq_module.grid.rows(1)  # Number of rows per acquisition run\n",
    "daq_module.grid.rowrepetition(\n",
    "    False\n",
    ")  # Averaging mode of rows (irrelevant for grid.rows(1))\n",
    "# True: First average each row, then fill the next row -> sequential averaging\n",
    "# False: First fill each row, then average the rows -> cyclic averaging\n",
    "\n",
    "# Subscribe to the values that should be measured\n",
    "# Nodes to read\n",
    "sample_nodes = [\n",
    "    demod.sample.r.avg,\n",
    "    demod.sample.theta.avg,\n",
    "]\n",
    "for node in sample_nodes:\n",
    "    daq_module.subscribe(node)\n",
    "\n",
    "# Print relevant settings if needed\n",
    "# print(f\"Columns: {daq_module.grid.cols()}\")\n",
    "# print(f\"Rows: {daq_module.grid.rows()}\")\n",
    "# print(f\"Repetitions: {daq_module.grid.repetitions()}\")\n",
    "# print(f\"Holdoff: {daq_module.holdoff.time()}\")"
   ]
  },
  {
   "attachments": {},
   "cell_type": "markdown",
   "id": "07495f1a",
   "metadata": {},
   "source": [
    "### 2.4 Define near-time callbacks for arming MFLI and reading results"
   ]
  },
  {
   "cell_type": "code",
   "execution_count": null,
   "id": "39481a91",
   "metadata": {},
   "outputs": [],
   "source": [
    "def read_mfli(session, settling_time):\n",
    "    if session.connection_state.emulated:\n",
    "        return \"Running emulation - no real data\"\n",
    "\n",
    "    clockbase = mfli.clockbase()\n",
    "    timeout = 10  # s\n",
    "\n",
    "    time.sleep(settling_time)\n",
    "    daq_module.execute()\n",
    "\n",
    "    # Retrieve data from UHFLI DAQ module\n",
    "    start_time = time.time()\n",
    "    while time.time() - start_time < timeout:\n",
    "        time.sleep(INT_TIME)\n",
    "\n",
    "        if daq_module.raw_module.finished() is True:\n",
    "            progress = daq_module.raw_module.finished()\n",
    "            print(f\"Progress of data acquisition: {100 * progress:.2f}%.\")\n",
    "            break\n",
    "\n",
    "        progress = daq_module.raw_module.finished()\n",
    "\n",
    "    if not (time.time() - start_time < timeout):\n",
    "        print(\n",
    "            \"Data acquisition timed out. Not all results collected, data is corrupted.\"\n",
    "        )\n",
    "\n",
    "    # Get data\n",
    "    daq_data = daq_module.read(raw=False, clk_rate=clockbase)\n",
    "\n",
    "    return daq_data\n",
    "\n",
    "\n",
    "def set_slow_axis(session, param):\n",
    "    print(f\"outer: {int(param)}\")\n",
    "\n",
    "\n",
    "def set_fast_axis(session, param):\n",
    "    print(f\"inner: {int(param)}\")"
   ]
  },
  {
   "attachments": {},
   "cell_type": "markdown",
   "id": "84753ef0",
   "metadata": {},
   "source": [
    "### 2.5 Register near-time callbacks"
   ]
  },
  {
   "cell_type": "code",
   "execution_count": null,
   "id": "435c6852",
   "metadata": {},
   "outputs": [],
   "source": [
    "session.register_neartime_callback(set_slow_axis, \"setSlowAxis\")\n",
    "session.register_neartime_callback(set_fast_axis, \"setFastAxis\")\n",
    "session.register_neartime_callback(read_mfli, \"readMFLI\")"
   ]
  },
  {
   "cell_type": "markdown",
   "id": "b8dbfb54",
   "metadata": {},
   "source": [
    "### 2.6 Run experiment"
   ]
  },
  {
   "cell_type": "code",
   "execution_count": null,
   "id": "a27e3ca0",
   "metadata": {},
   "outputs": [],
   "source": [
    "my_results = session.run(exp)"
   ]
  },
  {
   "cell_type": "markdown",
   "id": "676af516",
   "metadata": {},
   "source": [
    "## 3. Plot results"
   ]
  },
  {
   "cell_type": "code",
   "execution_count": null,
   "id": "9208e584",
   "metadata": {},
   "outputs": [],
   "source": [
    "clockbase = mfli.clockbase()\n",
    "\n",
    "if not session.connection_state.emulated:\n",
    "    for node in sample_nodes:\n",
    "        plt.figure()\n",
    "        for idx in range(my_results.neartime_callback_results[\"readMFLI\"].__len__()):\n",
    "            results = my_results.neartime_callback_results[\"readMFLI\"][idx][node][\n",
    "                0\n",
    "            ]  # Results\n",
    "            plt.plot(results.time, results.value[0], label=f\"readout step {int(idx+1)}\")\n",
    "        plt.xlabel(\"Time [s]\")\n",
    "        plt.ylabel(str(node))\n",
    "        plt.legend(loc=\"best\", fontsize=8)\n",
    "        plt.title(\"MFLI time traces of demodulated data\")\n",
    "else:\n",
    "    print(\"Emulation - nothing to plot\")"
   ]
  },
  {
   "cell_type": "code",
   "execution_count": null,
   "id": "44a4621d-3b6f-41d2-98c1-beb8e12f9dea",
   "metadata": {},
   "outputs": [],
   "source": []
  }
 ],
 "metadata": {
  "kernelspec": {
   "display_name": "Python 3 (ipykernel)",
   "language": "python",
   "name": "python3"
  },
  "language_info": {
   "codemirror_mode": {
    "name": "ipython",
    "version": 3
   },
   "file_extension": ".py",
   "mimetype": "text/x-python",
   "name": "python",
   "nbconvert_exporter": "python",
   "pygments_lexer": "ipython3",
   "version": "3.12.8"
  },
  "vscode": {
   "interpreter": {
    "hash": "e246a1dff379dae57e93334b1470e42a0e319b987494b841af57ed5cfd410014"
   }
  }
 },
 "nbformat": 4,
 "nbformat_minor": 5
}
