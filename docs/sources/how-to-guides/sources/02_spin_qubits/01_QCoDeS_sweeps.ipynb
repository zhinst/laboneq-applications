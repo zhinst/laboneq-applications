{
 "cells": [
  {
   "attachments": {},
   "cell_type": "markdown",
   "id": "46cfbe23",
   "metadata": {},
   "source": [
    "# Sweeping parameters with QCoDeS in LabOne Q"
   ]
  },
  {
   "attachments": {},
   "cell_type": "markdown",
   "id": "4a5e08b0",
   "metadata": {},
   "source": [
    "This notebook shows you how to perform a very general 2D sweep. Here, the two sweep axes are set through a [QCoDeS](https://qcodes.github.io/Qcodes/) parameter, mimicking arbitrary instruments that can be controlled with a QCoDeS driver."
   ]
  },
  {
   "attachments": {},
   "cell_type": "markdown",
   "id": "199d7fb5",
   "metadata": {},
   "source": [
    "## 0. General Imports"
   ]
  },
  {
   "cell_type": "code",
   "execution_count": null,
   "id": "9c56cac7",
   "metadata": {},
   "outputs": [],
   "source": [
    "import time\n",
    "\n",
    "import matplotlib.pyplot as plt\n",
    "import numpy as np\n",
    "from laboneq.simple import *"
   ]
  },
  {
   "cell_type": "code",
   "execution_count": null,
   "id": "abda368b",
   "metadata": {},
   "outputs": [],
   "source": [
    "from qcodes.tests.instrument_mocks import DummyInstrument"
   ]
  },
  {
   "cell_type": "code",
   "execution_count": null,
   "id": "cfe83f26",
   "metadata": {},
   "outputs": [],
   "source": [
    "# generate dummy instruments\n",
    "my_magnet = DummyInstrument(name=\"magnet\", gates=[\"Bx\", \"By\", \"Bz\"])\n",
    "my_local_osc = DummyInstrument(name=\"RF_source\", gates=[\"P\", \"f\"])"
   ]
  },
  {
   "cell_type": "markdown",
   "id": "e66d0291",
   "metadata": {},
   "source": [
    "## 1. Device Setup"
   ]
  },
  {
   "cell_type": "markdown",
   "id": "a36a3823",
   "metadata": {},
   "source": [
    "### 1.1 Create device setup"
   ]
  },
  {
   "cell_type": "code",
   "execution_count": null,
   "id": "f142cff7",
   "metadata": {},
   "outputs": [],
   "source": [
    "descriptor = \"\"\"\\\n",
    "instruments:\n",
    "  MFLI:\n",
    "  - address: DEV5534\n",
    "    uid: device_mfli\n",
    "\"\"\"\n",
    "\n",
    "device_setup = DeviceSetup.from_descriptor(\n",
    "    descriptor,\n",
    "    server_host=\"your_ip_address\",\n",
    "    server_port=8004,\n",
    "    setup_name=\"MySetup\",\n",
    ")"
   ]
  },
  {
   "attachments": {},
   "cell_type": "markdown",
   "id": "476a49d2",
   "metadata": {},
   "source": [
    "## 2. MFLI example"
   ]
  },
  {
   "cell_type": "markdown",
   "id": "ef196447",
   "metadata": {},
   "source": [
    "### 2.1 Connect session"
   ]
  },
  {
   "cell_type": "code",
   "execution_count": null,
   "id": "70913a8b",
   "metadata": {},
   "outputs": [],
   "source": [
    "# create and connect to session\n",
    "session = Session(device_setup=device_setup)\n",
    "session.connect(do_emulation=True)"
   ]
  },
  {
   "attachments": {},
   "cell_type": "markdown",
   "id": "0cb835ce",
   "metadata": {},
   "source": [
    "Connect to the instrument in the session"
   ]
  },
  {
   "cell_type": "code",
   "execution_count": null,
   "id": "60c1e3f6",
   "metadata": {},
   "outputs": [],
   "source": [
    "mfli = session.devices[\"device_mfli\"]"
   ]
  },
  {
   "attachments": {},
   "cell_type": "markdown",
   "id": "b2ed6e8f",
   "metadata": {},
   "source": [
    "### 2.2 Experiment Definition"
   ]
  },
  {
   "cell_type": "code",
   "execution_count": null,
   "id": "81c29f0d",
   "metadata": {},
   "outputs": [],
   "source": [
    "## constant definition\n",
    "INT_TIME = 30e-3\n",
    "\n",
    "# Define sweep parameter\n",
    "magnet_sweep = LinearSweepParameter(\n",
    "    uid=\"Bfield_sweep\", start=-400, stop=400, count=9, axis_name=\"Magnetic field (mT)\"\n",
    ")\n",
    "\n",
    "frequency_sweep = LinearSweepParameter(\n",
    "    uid=\"frequency_sweep\", start=0, stop=400, count=5, axis_name=\"Frequency (MHz)\"\n",
    ")\n",
    "\n",
    "## Create Experiment\n",
    "exp = Experiment(\"Generic experiment\")\n",
    "\n",
    "# define experiment\n",
    "with exp.sweep(uid=\"outer_sweep\", parameter=magnet_sweep):\n",
    "    # use near-time callback\n",
    "    exp.call(\"set_magnet\", value=magnet_sweep)\n",
    "    with exp.sweep(uid=\"inner_sweep\", parameter=frequency_sweep):\n",
    "        # use near-time callback\n",
    "        exp.call(\"set_frequency\", value=frequency_sweep)\n",
    "        exp.call(\"readMFLI\", settling_time=0.1)\n",
    "        with exp.acquire_loop_rt(uid=\"RT_shots\", count=1):\n",
    "            pass"
   ]
  },
  {
   "attachments": {},
   "cell_type": "markdown",
   "id": "2d46bacf",
   "metadata": {},
   "source": [
    "### 2.3 Configure MFLI and DAQ module"
   ]
  },
  {
   "cell_type": "code",
   "execution_count": null,
   "id": "f88760d2",
   "metadata": {},
   "outputs": [],
   "source": [
    "# configure MFLI\n",
    "demod = mfli.demods[0]  # which demodulator to use (depends on MF option)\n",
    "\n",
    "with mfli.set_transaction():\n",
    "    mfli.demods[\"*\"].enable(False)\n",
    "    mfli.oscs[0].freq(1e6)\n",
    "    demod.order(1)\n",
    "    demod.rate(1e3)\n",
    "    demod.trigger(\"continuous\")\n",
    "    demod.timeconstant(10e-3)\n",
    "    demod.enable(True)\n",
    "\n",
    "# Parameters\n",
    "DEMOD_RATE_MFLI = demod.rate()  # read the value from the instrument\n",
    "NUM_COLS = int(\n",
    "    np.ceil(DEMOD_RATE_MFLI * INT_TIME)\n",
    ")  # Number of samples per burst. Corresponds to length of time trace in units of sampling rate.\n",
    "\n",
    "# Module creation\n",
    "daq_module = mfli._session.modules.daq  # Create DAQ module\n",
    "daq_module.device(mfli)  # Assign DAQ module to instrument\n",
    "daq_module.type(0)  # Continuous acquisition\n",
    "daq_module.endless(False)  # Single acquisition/trace\n",
    "\n",
    "# Shape of my grid\n",
    "daq_module.grid.mode(\n",
    "    4\n",
    ")  # Specify how the acquired data is sampled onto the horizontal axis of the matrix (4='exact')\n",
    "daq_module.count(1)  # Number of grids to be acquired\n",
    "daq_module.grid.cols(\n",
    "    NUM_COLS\n",
    ")  # Length of acquired trace (in units of demodulator sample)\n",
    "daq_module.grid.rows(1)  # Number of rows per acquisition run\n",
    "daq_module.grid.rowrepetition(\n",
    "    False\n",
    ")  # Averaging mode of rows (irrelevant for grid.rows(1))\n",
    "# True: First average each row, then fill the next row -> sequential averaging\n",
    "# False: First fill each row, then average the rows -> cyclic averaging\n",
    "\n",
    "# Subscribe to the values that should be measured\n",
    "# Nodes to read\n",
    "sample_nodes = [\n",
    "    demod.sample.r.avg,\n",
    "    demod.sample.theta.avg,\n",
    "]\n",
    "for node in sample_nodes:\n",
    "    daq_module.subscribe(node)\n",
    "\n",
    "# Print relevant settings if needed\n",
    "# print(f\"Columns: {daq_module.grid.cols()}\")\n",
    "# print(f\"Rows: {daq_module.grid.rows()}\")\n",
    "# print(f\"Repetitions: {daq_module.grid.repetitions()}\")\n",
    "# print(f\"Holdoff: {daq_module.holdoff.time()}\")"
   ]
  },
  {
   "attachments": {},
   "cell_type": "markdown",
   "id": "107b8356",
   "metadata": {},
   "source": [
    "### 2.4 Define near-time callbacks for arming MFLI and reading results"
   ]
  },
  {
   "cell_type": "code",
   "execution_count": null,
   "id": "39481a91",
   "metadata": {},
   "outputs": [],
   "source": [
    "def read_mfli(session, settling_time):\n",
    "    if session.connection_state.emulated:\n",
    "        return \"Emulation running\"\n",
    "\n",
    "    clockbase = mfli.clockbase()\n",
    "    timeout = 10  # s\n",
    "\n",
    "    time.sleep(settling_time)\n",
    "    daq_module.execute()\n",
    "\n",
    "    # Retrieve data from UHFLI DAQ module\n",
    "    start_time = time.time()\n",
    "    while time.time() - start_time < timeout:\n",
    "        time.sleep(INT_TIME)\n",
    "\n",
    "        if daq_module.raw_module.finished() is True:\n",
    "            daq_module.raw_module.finished()\n",
    "            # print(f\"Progress of data acquisition: {100 * progress:.2f}%.\")\n",
    "            break\n",
    "\n",
    "        daq_module.raw_module.finished()\n",
    "\n",
    "    if not (time.time() - start_time < timeout):\n",
    "        print(\n",
    "            \"Data acquisition timed out. Not all results collected, data is corrupted.\"\n",
    "        )\n",
    "\n",
    "    # Get data\n",
    "    daq_data = daq_module.read(raw=False, clk_rate=clockbase)\n",
    "\n",
    "    return daq_data"
   ]
  },
  {
   "cell_type": "code",
   "execution_count": null,
   "id": "494b76a7",
   "metadata": {},
   "outputs": [],
   "source": [
    "def set_magnet(session, value):\n",
    "    my_magnet.Bx.set(value)  # set new value in mT\n",
    "    print(f\"Set magnet to new value:{value}\")\n",
    "    time.sleep(0.1)  # settling time\n",
    "    return my_magnet.Bx.get()  # return new value\n",
    "\n",
    "\n",
    "def set_frequency(session, value):\n",
    "    my_local_osc.f.set(value)  # set new value in MHz\n",
    "    print(f\"Set new frequency:{value}\")\n",
    "    time.sleep(0.1)  # settling time\n",
    "    return my_local_osc.f.get()  # return new value"
   ]
  },
  {
   "cell_type": "code",
   "execution_count": null,
   "id": "435c6852",
   "metadata": {},
   "outputs": [],
   "source": [
    "# register near-time callbacks\n",
    "session.register_neartime_callback(set_magnet, \"set_magnet\")\n",
    "session.register_neartime_callback(set_frequency, \"set_frequency\")\n",
    "session.register_neartime_callback(read_mfli, \"readMFLI\")"
   ]
  },
  {
   "cell_type": "markdown",
   "id": "4d67e550",
   "metadata": {},
   "source": [
    "### 2.5 Run experiment"
   ]
  },
  {
   "cell_type": "code",
   "execution_count": null,
   "id": "08b7cab6",
   "metadata": {},
   "outputs": [],
   "source": [
    "my_results = session.run(exp)"
   ]
  },
  {
   "cell_type": "markdown",
   "id": "78f98325",
   "metadata": {},
   "source": [
    "## 3. Plot results"
   ]
  },
  {
   "cell_type": "code",
   "execution_count": null,
   "id": "c57b1766",
   "metadata": {},
   "outputs": [],
   "source": [
    "if not session.connection_state.emulated:\n",
    "    fig, axs = plt.subplots(1, 2, figsize=(10, 7))\n",
    "    fig.tight_layout(pad=5)\n",
    "\n",
    "    sweep_axes = []\n",
    "    for x in my_results.experiment.all_sections():\n",
    "        sweep_axes.append(x.parameters[0])\n",
    "\n",
    "    for dimension, node in enumerate(sample_nodes):\n",
    "        # extract all data and put into a result list\n",
    "        values, times = ([], [])\n",
    "        for idx in range(my_results.neartime_callback_results[\"readMFLI\"].__len__()):\n",
    "            values.append(\n",
    "                my_results.neartime_callback_results[\"readMFLI\"][idx][node][0].value[0]\n",
    "            )\n",
    "            times.append(\n",
    "                my_results.neartime_callback_results[\"readMFLI\"][idx][node][0].time[0]\n",
    "            )\n",
    "\n",
    "        # post process time traces\n",
    "        # here: average\n",
    "        for ii in range(len(values)):\n",
    "            values[ii] = np.average(values[ii])\n",
    "\n",
    "        # reshape results into dimensions of original sweep\n",
    "        values = np.array(values).reshape(\n",
    "            sweep_axes[0].count,\n",
    "            # int(len(values)/sweep_axes[1].count),\n",
    "            sweep_axes[1].count,\n",
    "        )\n",
    "\n",
    "        # plot the values/datapoints\n",
    "        ax = axs[dimension]\n",
    "        pcm = ax.pcolormesh(\n",
    "            sweep_axes[1].values,\n",
    "            sweep_axes[0].values,\n",
    "            values,\n",
    "            shading=\"nearest\",\n",
    "        )\n",
    "\n",
    "        fig.colorbar(pcm, ax=ax, label=str(node))\n",
    "        ax.set_xlabel(sweep_axes[1].axis_name)\n",
    "        ax.set_ylabel(sweep_axes[0].axis_name)\n",
    "else:\n",
    "    print(\"Emulation - nothing to plot\")"
   ]
  },
  {
   "attachments": {},
   "cell_type": "markdown",
   "id": "d7b0fb91",
   "metadata": {},
   "source": [
    "### 3.1 Plot individual time traces"
   ]
  },
  {
   "cell_type": "code",
   "execution_count": null,
   "id": "9208e584",
   "metadata": {},
   "outputs": [],
   "source": [
    "if not session.connection_state.emulated:\n",
    "    clockbase = mfli.clockbase()\n",
    "\n",
    "    for node in sample_nodes:\n",
    "        plt.figure()\n",
    "        for idx in range(my_results.neartime_callback_results[\"readMFLI\"].__len__()):\n",
    "            results = my_results.neartime_callback_results[\"readMFLI\"][idx][node][0]\n",
    "            plt.plot(results.time, results.value[0], label=f\"readout step {int(idx+1)}\")\n",
    "        plt.xlabel(\"Time [s]\")\n",
    "        plt.ylabel(str(node))\n",
    "        # plt.legend(loc='best', fontsize=8)\n",
    "        plt.title(\"MFLI time traces of demodulated data\")\n",
    "else:\n",
    "    print(\"Emulation - nothing to plot\")"
   ]
  }
 ],
 "metadata": {
  "kernelspec": {
   "display_name": "Python 3.9.13 64-bit ('qccs39')",
   "language": "python",
   "name": "python3"
  },
  "language_info": {
   "codemirror_mode": {
    "name": "ipython",
    "version": 3
   },
   "file_extension": ".py",
   "mimetype": "text/x-python",
   "name": "python",
   "nbconvert_exporter": "python",
   "pygments_lexer": "ipython3",
   "version": "3.9.13"
  },
  "vscode": {
   "interpreter": {
    "hash": "663ad8cffee7d16d4a16abf16e8d21d17c08eabaea46fdaf4c26ce4207f33d42"
   }
  }
 },
 "nbformat": 4,
 "nbformat_minor": 5
}
