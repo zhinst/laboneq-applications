{
 "cells": [
  {
   "attachments": {},
   "cell_type": "markdown",
   "id": "46cfbe23",
   "metadata": {},
   "source": [
    "# Pulsed Acquisition with HDAWG and UHFLI"
   ]
  },
  {
   "attachments": {},
   "cell_type": "markdown",
   "id": "4a5e08b0",
   "metadata": {},
   "source": [
    "This notebook shows you how to perform a pulsed acquisition experiment using a HDAWG and an UHFLI. On the HDAWG, a Ramsey sequence is played. In each iteration a trigger from the HDAWG is sent to the UHFLI DAQ module, to trigger the data acquisition. A second trigger is sent to the UHFLI demodulator, to gate the data transfer and enable fast measurements. In each iteration (pulse/shot) of the experiment, a time trace is acquired with the UHFLI. To imitate the readout signal, a Gaussian pulse is played and acquired with the UHFLI. You might use this notebook if you are interested in acquiring short time traces with the UHFLI, e.g. for RF reflectometry.\n",
    "\n",
    "Connections:\n",
    "* HDAWG SigOut 4 to UHFLI Input 1\n",
    "* HDAWG Mark 4 to UHFLI TrigIn 1 (frontpanel)\n",
    "* HDAWG Mark 5 to UHFLI TrigIn 3 (backpanel)\n",
    "* synchronize RefClk of both instruments"
   ]
  },
  {
   "cell_type": "markdown",
   "id": "f762233a",
   "metadata": {},
   "source": [
    "## 0. General Imports"
   ]
  },
  {
   "cell_type": "code",
   "execution_count": null,
   "id": "9c56cac7",
   "metadata": {},
   "outputs": [],
   "source": [
    "# additional import for the purpose of demonstration\n",
    "import logging\n",
    "import time\n",
    "from unittest.mock import MagicMock\n",
    "\n",
    "import matplotlib.pyplot as plt\n",
    "import numpy as np\n",
    "from laboneq.simple import *\n",
    "\n",
    "mylogger = logging.getLogger(\"neartime_callback\")"
   ]
  },
  {
   "cell_type": "markdown",
   "id": "e66d0291",
   "metadata": {},
   "source": [
    "## 1. Device Setup"
   ]
  },
  {
   "cell_type": "markdown",
   "id": "332a893d",
   "metadata": {},
   "source": [
    "### 1.1 Calibration"
   ]
  },
  {
   "cell_type": "code",
   "execution_count": null,
   "id": "3fce9ed6",
   "metadata": {},
   "outputs": [],
   "source": [
    "def calibrate_devices(device_setup):\n",
    "    device_setup.logical_signal_groups[\"q0\"].logical_signals[\n",
    "        \"drive_line\"\n",
    "    ].calibration = SignalCalibration(\n",
    "        oscillator=Oscillator(\n",
    "            uid=\"drive_q0_osc\", frequency=1e8, modulation_type=ModulationType.HARDWARE\n",
    "        ),\n",
    "        mixer_calibration=MixerCalibration(\n",
    "            voltage_offsets=[0.0, 0.0],\n",
    "            correction_matrix=[\n",
    "                [1.0, 0.0],\n",
    "                [0.0, 1.0],\n",
    "            ],\n",
    "        ),\n",
    "    )"
   ]
  },
  {
   "cell_type": "markdown",
   "id": "a36a3823",
   "metadata": {},
   "source": [
    "### 1.2 Create device setup"
   ]
  },
  {
   "cell_type": "code",
   "execution_count": null,
   "id": "f142cff7",
   "metadata": {},
   "outputs": [],
   "source": [
    "descriptor = \"\"\"\\\n",
    "instruments:\n",
    "  HDAWG:\n",
    "  - address: DEV8434\n",
    "    uid: device_hdawg\n",
    "    interface: usb\n",
    "  UHFLI:\n",
    "  - address: DEV2283\n",
    "    uid: device_uhfli\n",
    "    # interface: usb\n",
    "connections:\n",
    "  device_hdawg:\n",
    "    - iq_signal: q0/drive_line\n",
    "      ports: [SIGOUTS/4, SIGOUTS/5]\n",
    "    - rf_signal: q0/coulomb_line_1\n",
    "      ports: [SIGOUTS/0]\n",
    "    - rf_signal: q0/coulomb_line_2\n",
    "      ports: [SIGOUTS/1]\n",
    "\"\"\"\n",
    "\n",
    "device_setup = DeviceSetup.from_descriptor(\n",
    "    descriptor,\n",
    "    server_host=\"your_ip_address\",\n",
    "    server_port=8004,\n",
    "    setup_name=\"MySetup\",\n",
    ")\n",
    "calibrate_devices(device_setup)"
   ]
  },
  {
   "cell_type": "code",
   "execution_count": null,
   "id": "c3fe3163-2f91-4188-bc3e-b2c4af16ad0b",
   "metadata": {},
   "outputs": [],
   "source": [
    "class EmulatedUHFLI(MagicMock):\n",
    "    \"\"\"An dummy MFLI for emulation mode.\"\"\"\n",
    "    def __float__(self):\n",
    "        return 0\n",
    "\n",
    "    def __array__(self):\n",
    "        return np.array(0)"
   ]
  },
  {
   "attachments": {},
   "cell_type": "markdown",
   "id": "476a49d2",
   "metadata": {},
   "source": [
    "## 2. UHFLI example"
   ]
  },
  {
   "attachments": {},
   "cell_type": "markdown",
   "id": "0cb835ce",
   "metadata": {},
   "source": [
    "### 2.1 Connect to instrument in zhinst-toolkit session"
   ]
  },
  {
   "cell_type": "code",
   "execution_count": null,
   "id": "ed8b939c",
   "metadata": {},
   "outputs": [],
   "source": [
    "# create and connect to session\n",
    "session = Session(device_setup=device_setup)\n",
    "session.connect(do_emulation=True)"
   ]
  },
  {
   "cell_type": "code",
   "execution_count": null,
   "id": "60c1e3f6",
   "metadata": {},
   "outputs": [],
   "source": [
    "# retrieve UHFLI or mock it in emulation mode\n",
    "if not session.connection_state.emulated:\n",
    "    uhfli = session.devices[\"device_uhfli\"]\n",
    "else:\n",
    "    uhfli = EmulatedUHFLI()"
   ]
  },
  {
   "attachments": {},
   "cell_type": "markdown",
   "id": "b2ed6e8f",
   "metadata": {},
   "source": [
    "### 2.2 Experiment (Ramsey with marker sent to UHFLI)"
   ]
  },
  {
   "cell_type": "code",
   "execution_count": null,
   "id": "81c29f0d",
   "metadata": {},
   "outputs": [],
   "source": [
    "## constant definition\n",
    "LEN_COULOMB_CYCLE = 4e-6\n",
    "TAU_X90_TIME = 100e-9  # [s]\n",
    "LEN_READOUT = 5e-6\n",
    "\n",
    "\n",
    "# define three stages of gate pulses\n",
    "coulomb_pulse = pulse_library.const(\n",
    "    uid=\"coulomb_manipulate\", length=LEN_COULOMB_CYCLE / 2, amplitude=0.5\n",
    ")\n",
    "coulomb_readout = pulse_library.const(\n",
    "    uid=\"coulomb_readout\", length=LEN_READOUT, amplitude=1\n",
    ")\n",
    "\n",
    "# define drive pulse\n",
    "drive_pulse = pulse_library.const(uid=\"pihalf\", length=TAU_X90_TIME, amplitude=1)\n",
    "\n",
    "START = 0\n",
    "STOP = 50e-9\n",
    "STEPS = 4\n",
    "NUM_REP = 5\n",
    "\n",
    "sweep_delay = LinearSweepParameter(\n",
    "    uid=\"Ramsey_delay\", start=START, stop=STOP, count=STEPS\n",
    ")\n",
    "\n",
    "imitate_readout = LinearSweepParameter(\n",
    "    uid=\"readout_imitation\", start=0.2, stop=1, count=STEPS\n",
    ")\n",
    "\n",
    "readout_parameter = LinearSweepParameter(uid=\"readoutparam\", start=0, stop=1, count=1)\n",
    "\n",
    "## Create Experiment\n",
    "exp = Experiment(\n",
    "    \"UHFLI experiment\",\n",
    "    signals=[\n",
    "        ExperimentSignal(\"drive\"),\n",
    "        ExperimentSignal(\"coulomb_1\"),\n",
    "        ExperimentSignal(\"coulomb_2\"),\n",
    "    ],\n",
    ")\n",
    "\n",
    "# define experiment\n",
    "with exp.sweep(uid=\"readout_loop\", parameter=readout_parameter):\n",
    "    # use near-time callback to arm the acquisition in the DAQ module\n",
    "    exp.call(\"arm_UHFLI\")\n",
    "    with exp.acquire_loop_rt(\n",
    "        uid=\"shots\", count=NUM_REP, averaging_mode=AveragingMode.CYCLIC\n",
    "    ):\n",
    "        with exp.sweep(uid=\"sweep\", parameter=[sweep_delay, imitate_readout]):\n",
    "            with exp.section(\n",
    "                uid=(\"empty\"),\n",
    "                length=LEN_COULOMB_CYCLE / 2,\n",
    "                alignment=SectionAlignment.RIGHT,\n",
    "            ):\n",
    "                exp.play(signal=\"coulomb_1\", pulse=coulomb_pulse, amplitude=0.5)\n",
    "                exp.play(signal=\"coulomb_2\", pulse=coulomb_pulse, amplitude=0.5)\n",
    "\n",
    "            with exp.section(\n",
    "                uid=(\"manipulation\"),\n",
    "                length=LEN_COULOMB_CYCLE / 2,\n",
    "                alignment=SectionAlignment.RIGHT,\n",
    "            ):\n",
    "                exp.play(signal=\"coulomb_1\", pulse=coulomb_pulse, amplitude=0.75)\n",
    "                exp.play(signal=\"coulomb_2\", pulse=coulomb_pulse, amplitude=0.75)\n",
    "\n",
    "                exp.play(signal=\"drive\", pulse=drive_pulse)\n",
    "                exp.delay(signal=\"drive\", time=sweep_delay)\n",
    "                exp.play(signal=\"drive\", pulse=drive_pulse)\n",
    "            with exp.section(\n",
    "                uid=\"outer_trigger\",\n",
    "                length=LEN_READOUT,\n",
    "                trigger={\"drive\": {\"state\": 2}},\n",
    "                alignment=SectionAlignment.RIGHT,\n",
    "            ):\n",
    "                with exp.section(\n",
    "                    uid=\"inner_trigger\",\n",
    "                    length=LEN_READOUT - 500e-9,\n",
    "                    trigger={\"drive\": {\"state\": 3}},\n",
    "                ):\n",
    "                    exp.delay(signal=\"drive\", time=LEN_READOUT / 4)\n",
    "                    exp.play(\n",
    "                        signal=\"drive\",\n",
    "                        pulse=pulse_library.gaussian(\n",
    "                            uid=\"dummy_readout\", length=LEN_READOUT / 3\n",
    "                        ),\n",
    "                        amplitude=imitate_readout,\n",
    "                    )\n",
    "            with exp.section(uid=\"qubit_readout\", length=LEN_READOUT):\n",
    "                exp.play(signal=\"coulomb_1\", pulse=coulomb_readout, amplitude=0.3)\n",
    "                exp.play(signal=\"coulomb_2\", pulse=coulomb_readout, amplitude=0.3)\n",
    "    # use near-time callback to read out the results from the DAQ module\n",
    "    exp.call(\"read_UHFLI\")"
   ]
  },
  {
   "cell_type": "markdown",
   "id": "3a113874",
   "metadata": {},
   "source": [
    "### 2.3 Configure UHFLI and DAQ module"
   ]
  },
  {
   "cell_type": "code",
   "execution_count": null,
   "id": "f88760d2",
   "metadata": {},
   "outputs": [],
   "source": [
    "# configure UHFLI\n",
    "demod = uhfli.demods[3]  # which demodulator to use (depends on UHF-MF option)\n",
    "\n",
    "with uhfli.set_transaction():\n",
    "    uhfli.demods[\"*\"].enable(False)\n",
    "    uhfli.oscs[0].freq(100e6)\n",
    "    demod.order(1)\n",
    "    demod.rate(14e6)\n",
    "    demod.trigger(\"trigin2_high\")\n",
    "    demod.timeconstant(10e-9)\n",
    "    demod.enable(True)\n",
    "\n",
    "# Parameters\n",
    "DEMOD_RATE_UHFLI = demod.rate()  # read the value from the instrument\n",
    "NUM_COLS = int(\n",
    "    np.ceil(DEMOD_RATE_UHFLI * LEN_READOUT)\n",
    ")  # Number of samples per burst. Corresponds to length of time trace in units of sampling rate.\n",
    "\n",
    "# Nodes to read\n",
    "sample_nodes = [demod.sample.r.avg]\n",
    "\n",
    "# Module creation\n",
    "daq_module = uhfli._session.modules.daq\n",
    "daq_module.device(uhfli)\n",
    "daq_module.type(\"hardware_trigger\")\n",
    "\n",
    "for node in sample_nodes:\n",
    "    daq_module.subscribe(node)\n",
    "\n",
    "# Shape of my grid\n",
    "daq_module.grid.mode(\n",
    "    4\n",
    ")  # Specify how the acquired data is sampled onto the horizontal axis of the matrix\n",
    "daq_module.count(1)\n",
    "daq_module.grid.cols(NUM_COLS)\n",
    "daq_module.grid.rows(STEPS)\n",
    "daq_module.grid.repetitions(NUM_REP)\n",
    "daq_module.grid.rowrepetition(\n",
    "    False\n",
    ")  # True: First average each row, then fill the next row -> sequential averaging\n",
    "# False: First fill each row, then average the rows -> cyclic averaging\n",
    "\n",
    "# Acquisition using Digital Triggering\n",
    "node_trigger = demod.sample.TrigIn1\n",
    "daq_module.triggernode(node_trigger)\n",
    "daq_module.edge(\"rising\")\n",
    "daq_module.bandwidth(0)\n",
    "\n",
    "daq_module.level(0.5)\n",
    "daq_module.delay(500e-9)\n",
    "daq_module.holdoff.time(0)\n",
    "daq_module.holdoff.count(0)\n",
    "daq_module.clearhistory(1)\n",
    "\n",
    "# print(f\"Columns: {daq_module.grid.cols()}\")\n",
    "# print(f\"Rows: {daq_module.grid.rows()}\")\n",
    "# print(f\"Repetitions: {daq_module.grid.repetitions()}\")\n",
    "# print(f\"Holdoff: {daq_module.holdoff.time()}\")\n",
    "# print(f\"Delay: {daq_module.delay()}\")"
   ]
  },
  {
   "cell_type": "markdown",
   "id": "25897b42",
   "metadata": {},
   "source": [
    "### 2.4 Define near-time callbacks for arming UHFLI and reading results"
   ]
  },
  {
   "cell_type": "code",
   "execution_count": null,
   "id": "39481a91",
   "metadata": {},
   "outputs": [],
   "source": [
    "def arm_uhfli(session):\n",
    "    # device_uhfli.armDAQmodule()\n",
    "    daq_module.execute()\n",
    "\n",
    "\n",
    "def read_uhfli(session):\n",
    "    # device_uhfli.readout()\n",
    "    clockbase = uhfli.clockbase()\n",
    "    timeout = 1  # s\n",
    "\n",
    "    # Retrieve data from UHFLI DAQ module\n",
    "    start_time = time.time()\n",
    "    while time.time() - start_time < timeout:\n",
    "        time.sleep(LEN_READOUT)\n",
    "\n",
    "        if daq_module.raw_module.finished() is True:\n",
    "            progress = daq_module.raw_module.finished()\n",
    "            mylogger.info(f\"Progress of data acquisition: {100 * progress:.2f}%.\")\n",
    "            break\n",
    "\n",
    "        progress = daq_module.raw_module.finished()\n",
    "\n",
    "    # Get data\n",
    "    daq_data = daq_module.read(raw=False, clk_rate=clockbase)\n",
    "\n",
    "    return daq_data"
   ]
  },
  {
   "cell_type": "markdown",
   "id": "afecf4a8",
   "metadata": {},
   "source": [
    "### 2.5 Signal mapping"
   ]
  },
  {
   "cell_type": "code",
   "execution_count": null,
   "id": "eb3407dd",
   "metadata": {},
   "outputs": [],
   "source": [
    "# define signal maps for different qubits\n",
    "map_q0 = {\n",
    "    \"drive\": \"/logical_signal_groups/q0/drive_line\",\n",
    "    \"coulomb_1\": \"/logical_signal_groups/q0/coulomb_line_1\",\n",
    "    \"coulomb_2\": \"/logical_signal_groups/q0/coulomb_line_2\",\n",
    "}\n",
    "\n",
    "# calibration  for qubit 0\n",
    "calib_q0 = Calibration()\n",
    "calib_q0[\"drive\"] = SignalCalibration(\n",
    "    oscillator=Oscillator(\n",
    "        frequency=100e6,\n",
    "        modulation_type=ModulationType.HARDWARE,\n",
    "    )\n",
    ")"
   ]
  },
  {
   "attachments": {},
   "cell_type": "markdown",
   "id": "bac2edc1",
   "metadata": {},
   "source": [
    "### 2.6 Register near-time callbacks"
   ]
  },
  {
   "cell_type": "code",
   "execution_count": null,
   "id": "435c6852",
   "metadata": {},
   "outputs": [],
   "source": [
    "# set experiment calibration and signal map\n",
    "exp.set_calibration(calib_q0)\n",
    "exp.set_signal_map(map_q0)\n",
    "\n",
    "# register near-time callbacks\n",
    "session.register_neartime_callback(arm_uhfli, \"arm_UHFLI\")\n",
    "session.register_neartime_callback(read_uhfli, \"read_UHFLI\")"
   ]
  },
  {
   "cell_type": "code",
   "execution_count": null,
   "id": "8976a81b",
   "metadata": {},
   "outputs": [],
   "source": [
    "if not session.connection_state.emulated:\n",
    "    instrument_serial = device_setup.instrument_by_uid(\"device_hdawg\").address\n",
    "    device = session.devices[instrument_serial]\n",
    "    device.triggers.out[2].delay(23.9e-9)\n",
    "    device.triggers.out[3].delay(23.9e-9)"
   ]
  },
  {
   "cell_type": "markdown",
   "id": "82f3c858",
   "metadata": {},
   "source": [
    "### 2.7 Run experiment"
   ]
  },
  {
   "cell_type": "code",
   "execution_count": null,
   "id": "d1842c58",
   "metadata": {
    "scrolled": true
   },
   "outputs": [],
   "source": [
    "session.run(exp)"
   ]
  },
  {
   "cell_type": "markdown",
   "id": "ebd268b2",
   "metadata": {},
   "source": [
    "## 3. Plot results"
   ]
  },
  {
   "cell_type": "code",
   "execution_count": null,
   "id": "9208e584",
   "metadata": {},
   "outputs": [],
   "source": [
    "results = []\n",
    "ts0 = np.nan\n",
    "plt.figure()\n",
    "plt.xlabel(\"Time [s]\")\n",
    "plt.ylabel(str(node))\n",
    "\n",
    "clockbase = uhfli.clockbase()\n",
    "\n",
    "for node in sample_nodes:\n",
    "    for sig_burst in session.results.neartime_callback_results[\"read_UHFLI\"][0][node]:\n",
    "        results.append(sig_burst.value)  # Results\n",
    "        if np.any(np.isnan(ts0)):\n",
    "            ts0 = sig_burst.header[\"createdtimestamp\"][0] / clockbase\n",
    "        # Convert from device ticks to time in seconds.\n",
    "        t0_burst = sig_burst.header[\"createdtimestamp\"][0] / clockbase\n",
    "        t = (sig_burst.time + t0_burst) - ts0\n",
    "        for ii, value in enumerate(results[0]):\n",
    "            plt.plot(t, value, label=\"readout step \" + str(ii + 1))\n",
    "\n",
    "plt.legend(loc=\"upper right\", fontsize=8)\n",
    "plt.title(\"CYCLIC averaging\")\n",
    "# plt.xlim([0,10e-6])\n",
    "# if SEQUENTIAL: plt.title(\"Sequential averaging\")\n",
    "# if not SEQUENTIAL: plt.title(\"Cyclic averaging\")"
   ]
  },
  {
   "cell_type": "code",
   "execution_count": null,
   "id": "ac2da976",
   "metadata": {},
   "outputs": [],
   "source": [
    "show_pulse_sheet(\"UHFLI integration\", session.compiled_experiment)"
   ]
  }
 ],
 "metadata": {
  "kernelspec": {
   "display_name": "Python 3 (ipykernel)",
   "language": "python",
   "name": "python3"
  },
  "language_info": {
   "codemirror_mode": {
    "name": "ipython",
    "version": 3
   },
   "file_extension": ".py",
   "mimetype": "text/x-python",
   "name": "python",
   "nbconvert_exporter": "python",
   "pygments_lexer": "ipython3",
   "version": "3.12.8"
  },
  "vscode": {
   "interpreter": {
    "hash": "e246a1dff379dae57e93334b1470e42a0e319b987494b841af57ed5cfd410014"
   }
  }
 },
 "nbformat": 4,
 "nbformat_minor": 5
}
