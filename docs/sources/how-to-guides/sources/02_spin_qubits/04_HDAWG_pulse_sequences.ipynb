{
 "cells": [
  {
   "cell_type": "markdown",
   "id": "46cfbe23",
   "metadata": {},
   "source": [
    "# Spin Qubit Pulse Sequences with the HDAWG"
   ]
  },
  {
   "cell_type": "markdown",
   "id": "4a5e08b0",
   "metadata": {},
   "source": [
    "This notebook shows you how to use pulse sequences with an HDAWG to realize various experiments. While the sequences are mostly general, they are adapted to those typically used for spin qubits by adding the gate pulsing to control between Coulomb and spin blockade.\n",
    "\n",
    "List of experiemnts\n",
    "* Rabi - sweep length of burst\n",
    "* Ramsey variant 1 - sweep delay with constant burst duration\n",
    "* Ramsey variant 2 - sweep burst duration at constant delay\n",
    "* Ramsey variant 3 - sweep phase of second burst and delay between bursts"
   ]
  },
  {
   "cell_type": "markdown",
   "id": "3647462f",
   "metadata": {},
   "source": [
    "## 0. General Imports"
   ]
  },
  {
   "cell_type": "code",
   "execution_count": null,
   "id": "9c56cac7",
   "metadata": {},
   "outputs": [],
   "source": [
    "import numpy as np\n",
    "from laboneq.simple import *\n",
    "\n",
    "DO_EMULATION = True  # run in emulation mode by default"
   ]
  },
  {
   "cell_type": "markdown",
   "id": "e66d0291",
   "metadata": {},
   "source": [
    "## 1. Device Setup\n",
    "### 1.1 Calibration"
   ]
  },
  {
   "cell_type": "code",
   "execution_count": null,
   "id": "3fce9ed6",
   "metadata": {},
   "outputs": [],
   "source": [
    "def calibrate_devices(device_setup):\n",
    "    device_setup.logical_signal_groups[\"q0\"].logical_signals[\n",
    "        \"drive_line\"\n",
    "    ].calibration = SignalCalibration(\n",
    "        oscillator=Oscillator(\n",
    "            uid=\"drive_q0_osc\", frequency=1e8, modulation_type=ModulationType.HARDWARE\n",
    "        ),\n",
    "        mixer_calibration=MixerCalibration(\n",
    "            voltage_offsets=[0.0, 0.0],\n",
    "            correction_matrix=[\n",
    "                [1.0, 0.0],\n",
    "                [0.0, 1.0],\n",
    "            ],\n",
    "        ),\n",
    "    )"
   ]
  },
  {
   "cell_type": "markdown",
   "id": "a36a3823",
   "metadata": {},
   "source": [
    "### 1.2 Create device setup"
   ]
  },
  {
   "cell_type": "code",
   "execution_count": null,
   "id": "f142cff7",
   "metadata": {},
   "outputs": [],
   "source": [
    "descriptor = \"\"\"\\\n",
    "instruments:\n",
    "  HDAWG:\n",
    "  - address: DEV8431\n",
    "    uid: device_hdawg\n",
    "connections:\n",
    "  device_hdawg:\n",
    "    - iq_signal: q0/drive_line\n",
    "      ports: [SIGOUTS/2, SIGOUTS/3]\n",
    "    - rf_signal: q0/coulomb_line_1\n",
    "      ports: [SIGOUTS/0]\n",
    "    - rf_signal: q0/coulomb_line_2\n",
    "      ports: [SIGOUTS/1]\n",
    "\"\"\"\n",
    "\n",
    "device_setup = DeviceSetup.from_descriptor(\n",
    "    descriptor,\n",
    "    server_host=\"your_ip_address\",\n",
    "    server_port=8004,\n",
    "    setup_name=\"MySetup\",\n",
    ")\n",
    "calibrate_devices(device_setup)"
   ]
  },
  {
   "cell_type": "markdown",
   "id": "04cd28fe",
   "metadata": {},
   "source": [
    "## 2. Rabi Experiment: sweep burst length"
   ]
  },
  {
   "cell_type": "markdown",
   "id": "bed6f007",
   "metadata": {},
   "source": [
    "### 2.1 Define parameters for experiment"
   ]
  },
  {
   "cell_type": "code",
   "execution_count": null,
   "id": "0c46216e",
   "metadata": {},
   "outputs": [],
   "source": [
    "## constant definition\n",
    "LEN_COULOMB_CYCLE = 200e-9\n",
    "LEN_READOUT = 2 * LEN_COULOMB_CYCLE\n",
    "X90_DURATION = 10e-9\n",
    "\n",
    "START = 0\n",
    "STOP = LEN_COULOMB_CYCLE / 2\n",
    "STEPS = 5\n",
    "NUM_REP = 2"
   ]
  },
  {
   "cell_type": "code",
   "execution_count": null,
   "id": "6330d960",
   "metadata": {},
   "outputs": [],
   "source": [
    "## define length sweep parameter\n",
    "length_sweep_parameter = LinearSweepParameter(\n",
    "    uid=\"length_sweep\", start=START, stop=STOP, count=STEPS\n",
    ")"
   ]
  },
  {
   "cell_type": "markdown",
   "id": "687ff6a6",
   "metadata": {},
   "source": [
    "### 2.2 Experiment"
   ]
  },
  {
   "cell_type": "code",
   "execution_count": null,
   "id": "18e122d5",
   "metadata": {},
   "outputs": [],
   "source": [
    "# define pulse shapes\n",
    "coulomb_pulse = pulse_library.const(\n",
    "    uid=\"coulomb_pulse\", length=LEN_COULOMB_CYCLE / 2, amplitude=0.5\n",
    ")\n",
    "coulomb_readout = pulse_library.const(\n",
    "    uid=\"coulomb_readout\", length=LEN_READOUT, amplitude=1\n",
    ")\n",
    "drive_pulse = pulse_library.const(\n",
    "    uid=\"rabi_drive_pulse\", length=X90_DURATION, amplitude=1\n",
    ")"
   ]
  },
  {
   "cell_type": "code",
   "execution_count": null,
   "id": "2c7cc860",
   "metadata": {},
   "outputs": [],
   "source": [
    "## Create Experiment\n",
    "exp = Experiment(\n",
    "    \"Rabi with Coulomb pulse\",\n",
    "    signals=[\n",
    "        ExperimentSignal(\"drive\"),\n",
    "        ExperimentSignal(\"coulomb_1\"),\n",
    "        ExperimentSignal(\"coulomb_2\"),\n",
    "    ],\n",
    ")\n",
    "\n",
    "# define experiment\n",
    "with exp.acquire_loop_rt(\n",
    "    uid=(\"shots\"), count=NUM_REP, averaging_mode=AveragingMode.SEQUENTIAL\n",
    "):\n",
    "    with exp.sweep(parameter=length_sweep_parameter):\n",
    "        with exp.section(\n",
    "            uid=(\"empty\"),\n",
    "            length=LEN_COULOMB_CYCLE / 2,\n",
    "            alignment=SectionAlignment.RIGHT,\n",
    "        ):\n",
    "            exp.play(signal=\"coulomb_1\", pulse=coulomb_pulse, amplitude=0.5)\n",
    "            exp.play(signal=\"coulomb_2\", pulse=coulomb_pulse, amplitude=0.5)\n",
    "        with exp.section(\n",
    "            uid=(\"manipulation\"),\n",
    "            length=LEN_COULOMB_CYCLE / 2,\n",
    "            alignment=SectionAlignment.RIGHT,\n",
    "        ):\n",
    "            exp.play(signal=\"coulomb_1\", pulse=coulomb_pulse, amplitude=0.75)\n",
    "            exp.play(signal=\"coulomb_2\", pulse=coulomb_pulse, amplitude=0.75)\n",
    "            exp.play(signal=\"drive\", pulse=drive_pulse, length=length_sweep_parameter)\n",
    "        with exp.section(uid=\"qubit_readout\", length=LEN_READOUT):\n",
    "            exp.play(signal=\"coulomb_1\", pulse=coulomb_readout, amplitude=0.3)\n",
    "            exp.play(signal=\"coulomb_2\", pulse=coulomb_readout, amplitude=0.3)\n",
    "        with exp.section(\n",
    "            uid=\"outer_trigger\",\n",
    "            length=LEN_READOUT,\n",
    "            trigger={\"drive\": {\"state\": 1}},\n",
    "            alignment=SectionAlignment.RIGHT,\n",
    "        ):\n",
    "            with exp.section(\n",
    "                uid=\"inner_trigger\",\n",
    "                length=LEN_READOUT - 100e-9,\n",
    "                trigger={\"drive\": {\"state\": 2}},\n",
    "            ):\n",
    "                exp.reserve(signal=\"drive\")"
   ]
  },
  {
   "cell_type": "markdown",
   "id": "6e8a6e1c",
   "metadata": {},
   "source": [
    "### 2.3 Signal mapping"
   ]
  },
  {
   "cell_type": "code",
   "execution_count": null,
   "id": "eb3407dd",
   "metadata": {},
   "outputs": [],
   "source": [
    "# define signal maps for different qubits\n",
    "map_q0 = {\n",
    "    \"drive\": \"/logical_signal_groups/q0/drive_line\",\n",
    "    \"coulomb_1\": \"/logical_signal_groups/q0/coulomb_line_1\",\n",
    "    \"coulomb_2\": \"/logical_signal_groups/q0/coulomb_line_2\",\n",
    "}\n",
    "\n",
    "# calibration  for qubit 0\n",
    "calib_q0 = Calibration()\n",
    "calib_q0[\"drive\"] = SignalCalibration(\n",
    "    oscillator=Oscillator(\n",
    "        frequency=500e6,\n",
    "        modulation_type=ModulationType.HARDWARE,\n",
    "    )\n",
    ")"
   ]
  },
  {
   "cell_type": "markdown",
   "id": "322dbc5d",
   "metadata": {},
   "source": [
    "### 2.4 Session"
   ]
  },
  {
   "cell_type": "code",
   "execution_count": null,
   "id": "bd21a36c",
   "metadata": {},
   "outputs": [],
   "source": [
    "# create and connect to session\n",
    "session = Session(device_setup=device_setup)\n",
    "session.connect(do_emulation=DO_EMULATION)\n",
    "\n",
    "# set experiment calibration and signal map\n",
    "exp.set_calibration(calib_q0)\n",
    "exp.set_signal_map(map_q0)"
   ]
  },
  {
   "cell_type": "code",
   "execution_count": null,
   "id": "3fadec3d",
   "metadata": {},
   "outputs": [],
   "source": [
    "if not session.connection_state.emulated:\n",
    "    instrument_serial = device_setup.instrument_by_uid(\"device_hdawg\").address\n",
    "    device = session.devices[instrument_serial]\n",
    "    device.triggers.out[2].delay(23.9e-9)"
   ]
  },
  {
   "cell_type": "markdown",
   "id": "5bab2a0c",
   "metadata": {},
   "source": [
    "### 2.5 Run"
   ]
  },
  {
   "cell_type": "code",
   "execution_count": null,
   "id": "435c6852",
   "metadata": {},
   "outputs": [],
   "source": [
    "session.run(exp)"
   ]
  },
  {
   "cell_type": "markdown",
   "id": "05562c77",
   "metadata": {},
   "source": [
    "### 2.6 View experiment in pulse sheet viewer"
   ]
  },
  {
   "cell_type": "code",
   "execution_count": null,
   "id": "a286c938",
   "metadata": {},
   "outputs": [],
   "source": [
    "# use pulse sheet viewer to display the pulse sequence - only recommended for small number of averages and sweep steps to avoid performance issues\n",
    "compiled_exp = session.compiled_experiment\n",
    "show_pulse_sheet(\"Spin qubit length Rabi\", compiled_exp)"
   ]
  },
  {
   "cell_type": "markdown",
   "id": "bc2c27f8",
   "metadata": {},
   "source": [
    "## 3. Ramsey Experiment I: sweep wait time at constant burst length\n",
    "### 3.1 Define parameters for experiment"
   ]
  },
  {
   "cell_type": "code",
   "execution_count": null,
   "id": "4ced36a1",
   "metadata": {},
   "outputs": [],
   "source": [
    "START = 0\n",
    "STOP = LEN_COULOMB_CYCLE / 2 - 2 * X90_DURATION\n",
    "STEPS = 3\n",
    "NUM_REP = 20"
   ]
  },
  {
   "cell_type": "code",
   "execution_count": null,
   "id": "b0b6d5bf",
   "metadata": {},
   "outputs": [],
   "source": [
    "## Define sweep parameter\n",
    "sweep_delay = LinearSweepParameter(\n",
    "    uid=\"Ramsey_delay\", start=START, stop=STOP, count=STEPS\n",
    ")"
   ]
  },
  {
   "cell_type": "markdown",
   "id": "55f9133a",
   "metadata": {},
   "source": [
    "### 3.2 Experiment"
   ]
  },
  {
   "cell_type": "code",
   "execution_count": null,
   "id": "345a62cd",
   "metadata": {},
   "outputs": [],
   "source": [
    "## Create Experiment\n",
    "exp = Experiment(\n",
    "    \"Ramsey variant I\",\n",
    "    signals=[\n",
    "        ExperimentSignal(\"drive\"),\n",
    "        ExperimentSignal(\"coulomb_1\"),\n",
    "        ExperimentSignal(\"coulomb_2\"),\n",
    "    ],\n",
    ")\n",
    "\n",
    "# define experiment\n",
    "with exp.acquire_loop_rt(\n",
    "    uid=\"shots\", count=NUM_REP, averaging_mode=AveragingMode.SEQUENTIAL\n",
    "):\n",
    "    with exp.sweep(uid=\"sweep\", parameter=sweep_delay):\n",
    "        with exp.section(\n",
    "            uid=\"qubit_excitation\",\n",
    "            alignment=SectionAlignment.RIGHT,\n",
    "            length=LEN_COULOMB_CYCLE,\n",
    "        ):\n",
    "            exp.play(signal=\"coulomb_1\", pulse=coulomb_pulse, amplitude=0.5)\n",
    "            exp.play(signal=\"coulomb_1\", pulse=coulomb_pulse, amplitude=0.75)\n",
    "\n",
    "            exp.play(signal=\"coulomb_2\", pulse=coulomb_pulse, amplitude=0.5)\n",
    "            exp.play(signal=\"coulomb_2\", pulse=coulomb_pulse, amplitude=0.75)\n",
    "\n",
    "            exp.play(signal=\"drive\", pulse=drive_pulse)\n",
    "            exp.delay(signal=\"drive\", time=sweep_delay)\n",
    "            exp.play(signal=\"drive\", pulse=drive_pulse)\n",
    "        with exp.section(uid=\"qubit_readout\", length=LEN_READOUT):\n",
    "            with exp.section(uid=\"readout_pulses\"):\n",
    "                exp.play(signal=\"coulomb_1\", pulse=coulomb_readout, amplitude=0.3)\n",
    "                exp.play(signal=\"coulomb_2\", pulse=coulomb_readout, amplitude=0.3)\n",
    "            with exp.section(\n",
    "                uid=\"outer_trigger\",\n",
    "                length=LEN_READOUT,\n",
    "                trigger={\"drive\": {\"state\": 1}},\n",
    "                alignment=SectionAlignment.RIGHT,\n",
    "            ):\n",
    "                with exp.section(\n",
    "                    uid=\"inner_trigger\",\n",
    "                    length=LEN_READOUT - 100e-9,\n",
    "                    trigger={\"drive\": {\"state\": 2}},\n",
    "                ):\n",
    "                    exp.reserve(signal=\"drive\")"
   ]
  },
  {
   "cell_type": "markdown",
   "id": "44cc0461",
   "metadata": {},
   "source": [
    "### 3.3 Signal mapping"
   ]
  },
  {
   "cell_type": "code",
   "execution_count": null,
   "id": "d9c26142",
   "metadata": {},
   "outputs": [],
   "source": [
    "# define signal maps for different qubits\n",
    "map_q0 = {\n",
    "    \"drive\": \"/logical_signal_groups/q0/drive_line\",\n",
    "    \"coulomb_1\": \"/logical_signal_groups/q0/coulomb_line_1\",\n",
    "    \"coulomb_2\": \"/logical_signal_groups/q0/coulomb_line_2\",\n",
    "}\n",
    "\n",
    "# calibration  for qubit 0\n",
    "calib_q0 = Calibration()\n",
    "calib_q0[\"drive\"] = SignalCalibration(\n",
    "    oscillator=Oscillator(\n",
    "        frequency=500e6,\n",
    "        modulation_type=ModulationType.HARDWARE,\n",
    "    )\n",
    ")"
   ]
  },
  {
   "cell_type": "markdown",
   "id": "190e4cdd",
   "metadata": {},
   "source": [
    "### 3.4 Connect Session and Run"
   ]
  },
  {
   "cell_type": "code",
   "execution_count": null,
   "id": "1e4288aa",
   "metadata": {},
   "outputs": [],
   "source": [
    "# create and connect to session\n",
    "session = Session(device_setup=device_setup)\n",
    "session.connect(do_emulation=DO_EMULATION)\n",
    "\n",
    "# set experiment calibration and signal map\n",
    "exp.set_calibration(calib_q0)\n",
    "exp.set_signal_map(map_q0)\n",
    "\n",
    "session.run(exp)"
   ]
  },
  {
   "cell_type": "markdown",
   "id": "51ab74a9",
   "metadata": {},
   "source": [
    "### 3.5 View experiment in pulse sheet viewer"
   ]
  },
  {
   "cell_type": "code",
   "execution_count": null,
   "id": "5c1f9337",
   "metadata": {},
   "outputs": [],
   "source": [
    "# use pulse sheet viewer to display the pulse sequence - only recommended for small number of averages and sweep steps to avoid performance issues\n",
    "compiled_exp = session.compiled_experiment\n",
    "show_pulse_sheet(\"Ramsey variant I\", compiled_exp)"
   ]
  },
  {
   "cell_type": "markdown",
   "id": "4acd21e8",
   "metadata": {},
   "source": [
    "## 4. Ramsey Experiment II: sweep burst length at constant wait time\n",
    "### 4.1 Define parameters for experiment"
   ]
  },
  {
   "cell_type": "code",
   "execution_count": null,
   "id": "f1a97f67",
   "metadata": {},
   "outputs": [],
   "source": [
    "# define constant delay\n",
    "T_DELAY = 40e-9"
   ]
  },
  {
   "cell_type": "code",
   "execution_count": null,
   "id": "e4521480",
   "metadata": {},
   "outputs": [],
   "source": [
    "## parameters for experiment\n",
    "START = 0\n",
    "STOP = (LEN_COULOMB_CYCLE / 2 - T_DELAY) / 2\n",
    "STEPS = 5\n",
    "NUM_REP = 2"
   ]
  },
  {
   "cell_type": "markdown",
   "id": "b3e1bac3",
   "metadata": {},
   "source": [
    "### 4.2 Experiment"
   ]
  },
  {
   "cell_type": "code",
   "execution_count": null,
   "id": "34048656",
   "metadata": {},
   "outputs": [],
   "source": [
    "## Define sweep parameter\n",
    "sweep_length = LinearSweepParameter(\n",
    "    uid=\"pulse_length_sweep\", start=START, stop=STOP, count=STEPS\n",
    ")"
   ]
  },
  {
   "cell_type": "code",
   "execution_count": null,
   "id": "49e0da5f",
   "metadata": {},
   "outputs": [],
   "source": [
    "## Create Experiment\n",
    "exp = Experiment(\n",
    "    \"Ramsey variant II\",\n",
    "    signals=[\n",
    "        ExperimentSignal(\"drive\"),\n",
    "        ExperimentSignal(\"coulomb_1\"),\n",
    "        ExperimentSignal(\"coulomb_2\"),\n",
    "    ],\n",
    ")\n",
    "\n",
    "# define experiment\n",
    "with exp.acquire_loop_rt(\n",
    "    uid=\"shots\", count=NUM_REP, averaging_mode=AveragingMode.SEQUENTIAL\n",
    "):\n",
    "    with exp.sweep(uid=\"length_sweep\", parameter=sweep_length):\n",
    "        with exp.section(uid=\"qubit_excitation\", alignment=SectionAlignment.RIGHT):\n",
    "            exp.play(signal=\"coulomb_1\", pulse=coulomb_pulse, amplitude=0.5)\n",
    "            exp.play(signal=\"coulomb_1\", pulse=coulomb_pulse, amplitude=0.75)\n",
    "\n",
    "            exp.play(signal=\"coulomb_2\", pulse=coulomb_pulse, amplitude=0.5)\n",
    "            exp.play(signal=\"coulomb_2\", pulse=coulomb_pulse, amplitude=0.75)\n",
    "\n",
    "            exp.play(signal=\"drive\", pulse=drive_pulse, length=sweep_length)\n",
    "            exp.delay(signal=\"drive\", time=T_DELAY)\n",
    "            exp.play(signal=\"drive\", pulse=drive_pulse, length=sweep_length)\n",
    "        with exp.section(\n",
    "            uid=\"qubit_readout\", alignment=SectionAlignment.RIGHT, length=LEN_READOUT\n",
    "        ):\n",
    "            with exp.section(uid=\"readout_pulses\"):\n",
    "                exp.play(signal=\"coulomb_1\", pulse=coulomb_readout, amplitude=0.3)\n",
    "                exp.play(signal=\"coulomb_2\", pulse=coulomb_readout, amplitude=0.3)\n",
    "            with exp.section(\n",
    "                uid=\"outer_trigger\",\n",
    "                length=LEN_READOUT,\n",
    "                trigger={\"drive\": {\"state\": 1}},\n",
    "                alignment=SectionAlignment.RIGHT,\n",
    "            ):\n",
    "                with exp.section(\n",
    "                    uid=\"inner_trigger\",\n",
    "                    length=LEN_READOUT - 100e-9,\n",
    "                    trigger={\"drive\": {\"state\": 2}},\n",
    "                ):\n",
    "                    exp.reserve(signal=\"drive\")"
   ]
  },
  {
   "cell_type": "markdown",
   "id": "6b5ee59a",
   "metadata": {},
   "source": [
    "### 4.3 Signal Mapping"
   ]
  },
  {
   "cell_type": "code",
   "execution_count": null,
   "id": "a0cde133",
   "metadata": {},
   "outputs": [],
   "source": [
    "# define signal maps for different qubits\n",
    "map_q0 = {\n",
    "    \"drive\": \"/logical_signal_groups/q0/drive_line\",\n",
    "    \"coulomb_1\": \"/logical_signal_groups/q0/coulomb_line_1\",\n",
    "    \"coulomb_2\": \"/logical_signal_groups/q0/coulomb_line_2\",\n",
    "}\n",
    "\n",
    "# calibration  for qubit 0\n",
    "calib_q0 = Calibration()\n",
    "calib_q0[\"drive\"] = SignalCalibration(\n",
    "    oscillator=Oscillator(\n",
    "        frequency=100e6,\n",
    "        modulation_type=ModulationType.HARDWARE,\n",
    "    )\n",
    ")"
   ]
  },
  {
   "cell_type": "markdown",
   "id": "f04cba7d",
   "metadata": {},
   "source": [
    "### 4.4 Connect Session and Run"
   ]
  },
  {
   "cell_type": "code",
   "execution_count": null,
   "id": "5d41ca23",
   "metadata": {},
   "outputs": [],
   "source": [
    "# create and connect to session\n",
    "session = Session(device_setup=device_setup)\n",
    "session.connect(do_emulation=DO_EMULATION)\n",
    "\n",
    "# set experiment calibration and signal map\n",
    "exp.set_calibration(calib_q0)\n",
    "exp.set_signal_map(map_q0)\n",
    "\n",
    "session.run(exp)"
   ]
  },
  {
   "cell_type": "markdown",
   "id": "ec6bf9fb",
   "metadata": {},
   "source": [
    "### 4.5 View experiment in pulse sheet viewer"
   ]
  },
  {
   "cell_type": "code",
   "execution_count": null,
   "id": "1afb76b1",
   "metadata": {},
   "outputs": [],
   "source": [
    "# use pulse sheet viewer to display the pulse sequence - only recommended for small number of averages and sweep steps to avoid performance issues\n",
    "compiled_exp = session.compiled_experiment\n",
    "show_pulse_sheet(\"Ramsey variant II\", compiled_exp)"
   ]
  },
  {
   "cell_type": "markdown",
   "id": "daa3a73a",
   "metadata": {},
   "source": [
    "## 5. Ramsey Experiment III: 2D sweep, wait time vs phase of second pulse\n",
    "### 5.1 Define parameters for experiment"
   ]
  },
  {
   "cell_type": "code",
   "execution_count": null,
   "id": "70622fa8",
   "metadata": {},
   "outputs": [],
   "source": [
    "## constant definition\n",
    "X90_DURATION = 10e-9  # [s]\n",
    "\n",
    "START = 0\n",
    "STOP = 2 * np.pi\n",
    "STEPS = 5\n",
    "NUM_REP = 2\n",
    "\n",
    "START_DELAY = 0\n",
    "STOP_DELAY = LEN_COULOMB_CYCLE / 2 - 2 * X90_DURATION\n",
    "STEPS_DELAY = 3"
   ]
  },
  {
   "cell_type": "code",
   "execution_count": null,
   "id": "20f6ef49",
   "metadata": {},
   "outputs": [],
   "source": [
    "## define phase sweep parameter\n",
    "sweep_phase = LinearSweepParameter(\n",
    "    uid=\"phase_sweep\", start=START, stop=STOP, count=STEPS\n",
    ")\n",
    "sweep_delay = LinearSweepParameter(\n",
    "    uid=\"Ramsey_delay\", start=START_DELAY, stop=STOP_DELAY, count=STEPS_DELAY\n",
    ")\n",
    "\n",
    "print(sweep_phase.values / np.pi)"
   ]
  },
  {
   "cell_type": "markdown",
   "id": "ad40d7c9",
   "metadata": {},
   "source": [
    "### 5.2 Experiment"
   ]
  },
  {
   "cell_type": "code",
   "execution_count": null,
   "id": "6dc3e35b",
   "metadata": {},
   "outputs": [],
   "source": [
    "## Create Experiment\n",
    "exp = Experiment(\n",
    "    \"Ramsey variant I\",\n",
    "    signals=[\n",
    "        ExperimentSignal(\"drive\"),\n",
    "        ExperimentSignal(\"coulomb_1\"),\n",
    "        ExperimentSignal(\"coulomb_2\"),\n",
    "    ],\n",
    ")\n",
    "\n",
    "# define experiment\n",
    "with exp.acquire_loop_rt(\n",
    "    uid=\"shots\", count=NUM_REP, averaging_mode=AveragingMode.CYCLIC\n",
    "):\n",
    "    with exp.sweep(uid=\"sweep_delay\", parameter=sweep_delay):\n",
    "        with exp.sweep(uid=\"sweep_phase\", parameter=sweep_phase):\n",
    "            with exp.section(\n",
    "                uid=\"qubit_excitation\",\n",
    "                alignment=SectionAlignment.RIGHT,\n",
    "                length=LEN_COULOMB_CYCLE,\n",
    "            ):\n",
    "                exp.play(signal=\"coulomb_1\", pulse=coulomb_pulse, amplitude=0.5)\n",
    "                exp.play(signal=\"coulomb_1\", pulse=coulomb_pulse, amplitude=0.75)\n",
    "\n",
    "                exp.play(signal=\"coulomb_2\", pulse=coulomb_pulse, amplitude=0.5)\n",
    "                exp.play(signal=\"coulomb_2\", pulse=coulomb_pulse, amplitude=0.75)\n",
    "\n",
    "                exp.play(signal=\"drive\", pulse=drive_pulse, set_oscillator_phase=0)\n",
    "                exp.delay(signal=\"drive\", time=sweep_delay)\n",
    "                exp.play(\n",
    "                    signal=\"drive\",\n",
    "                    pulse=drive_pulse,\n",
    "                    increment_oscillator_phase=sweep_phase,\n",
    "                )\n",
    "            with exp.section(\n",
    "                uid=\"qubit_readout\",\n",
    "                alignment=SectionAlignment.RIGHT,\n",
    "                length=LEN_READOUT,\n",
    "            ):\n",
    "                exp.play(signal=\"coulomb_1\", pulse=coulomb_readout, amplitude=0.3)\n",
    "                exp.play(signal=\"coulomb_2\", pulse=coulomb_readout, amplitude=0.3)\n",
    "            with exp.section(\n",
    "                uid=\"outer_trigger\",\n",
    "                length=LEN_READOUT,\n",
    "                trigger={\"drive\": {\"state\": 1}},\n",
    "                alignment=SectionAlignment.RIGHT,\n",
    "            ):\n",
    "                with exp.section(\n",
    "                    uid=\"inner_trigger\",\n",
    "                    length=LEN_READOUT - 100e-9,\n",
    "                    trigger={\"drive\": {\"state\": 2}},\n",
    "                ):\n",
    "                    exp.reserve(signal=\"drive\")"
   ]
  },
  {
   "cell_type": "markdown",
   "id": "c10be024",
   "metadata": {},
   "source": [
    "### 5.3 Signal Mapping"
   ]
  },
  {
   "cell_type": "code",
   "execution_count": null,
   "id": "f1ab5f0a",
   "metadata": {},
   "outputs": [],
   "source": [
    "# define signal maps for different qubits\n",
    "map_q0 = {\n",
    "    \"drive\": \"/logical_signal_groups/q0/drive_line\",\n",
    "    \"coulomb_1\": \"/logical_signal_groups/q0/coulomb_line_1\",\n",
    "    \"coulomb_2\": \"/logical_signal_groups/q0/coulomb_line_2\",\n",
    "}\n",
    "\n",
    "# calibration  for qubit 0\n",
    "calib_q0 = Calibration()\n",
    "calib_q0[\"drive\"] = SignalCalibration(\n",
    "    oscillator=Oscillator(\n",
    "        frequency=0,\n",
    "        modulation_type=ModulationType.SOFTWARE,\n",
    "    )\n",
    ")\n",
    "\n",
    "print(\"Set modulation frequency to 0 Hz to better observe the phase sweep.\")"
   ]
  },
  {
   "cell_type": "markdown",
   "id": "6878f3f7",
   "metadata": {},
   "source": [
    "### 5.4 Connect Session and Run"
   ]
  },
  {
   "cell_type": "code",
   "execution_count": null,
   "id": "2f72836b",
   "metadata": {},
   "outputs": [],
   "source": [
    "# create and connect to session\n",
    "session = Session(device_setup=device_setup)\n",
    "session.connect(do_emulation=DO_EMULATION)\n",
    "\n",
    "# set experiment calibration and signal map\n",
    "exp.set_calibration(calib_q0)\n",
    "exp.set_signal_map(map_q0)\n",
    "\n",
    "session.run(exp)"
   ]
  },
  {
   "cell_type": "markdown",
   "id": "519cb971",
   "metadata": {},
   "source": [
    "### 5.5 View experiment in pulse sheet viewer"
   ]
  },
  {
   "cell_type": "code",
   "execution_count": null,
   "id": "57bd0c30",
   "metadata": {},
   "outputs": [],
   "source": [
    "# use pulse sheet viewer to display the pulse sequence - only recommended for small number of averages and sweep steps to avoid performance issues\n",
    "compiled_exp = session.compiled_experiment\n",
    "show_pulse_sheet(\"Ramsey variant III\", compiled_exp)"
   ]
  }
 ],
 "metadata": {
  "hide_input": false,
  "kernelspec": {
   "display_name": "Python 3 (ipykernel)",
   "language": "python",
   "name": "python3"
  },
  "language_info": {
   "codemirror_mode": {
    "name": "ipython",
    "version": 3
   },
   "file_extension": ".py",
   "mimetype": "text/x-python",
   "name": "python",
   "nbconvert_exporter": "python",
   "pygments_lexer": "ipython3",
   "version": "3.10.11"
  },
  "toc": {
   "base_numbering": 1,
   "nav_menu": {},
   "number_sections": true,
   "sideBar": true,
   "skip_h1_title": false,
   "title_cell": "Table of Contents",
   "title_sidebar": "Contents",
   "toc_cell": false,
   "toc_position": {},
   "toc_section_display": true,
   "toc_window_display": true
  },
  "varInspector": {
   "cols": {
    "lenName": 16,
    "lenType": 16,
    "lenVar": 40
   },
   "kernels_config": {
    "python": {
     "delete_cmd_postfix": "",
     "delete_cmd_prefix": "del ",
     "library": "var_list.py",
     "varRefreshCmd": "print(var_dic_list())"
    },
    "r": {
     "delete_cmd_postfix": ") ",
     "delete_cmd_prefix": "rm(",
     "library": "var_list.r",
     "varRefreshCmd": "cat(var_dic_list()) "
    }
   },
   "types_to_exclude": [
    "module",
    "function",
    "builtin_function_or_method",
    "instance",
    "_Feature"
   ],
   "window_display": false
  },
  "vscode": {
   "interpreter": {
    "hash": "1e2348b99e9b57c06dda9e7900ba673dbbad3d2fc82d9d0b061682349b938991"
   }
  }
 },
 "nbformat": 4,
 "nbformat_minor": 5
}
