{
    "cells": [
        {
            "cell_type": "markdown",
            "metadata": {},
            "source": [
                "## How To Take Time Traces to Determine Optimal Weights for Qubit Readout"
            ]
        },
        {
            "cell_type": "markdown",
            "metadata": {},
            "source": [
                "### Prerequisites\n",
                "This guide assumes you have a configured `DeviceSetup` as well as `Qubit` objects with assigned parameters. Please see these guides (add links) if you need to create your setup and qubits for the first time. However, you can also run this notebook \"as is\" using an emulated session. If you are just getting started with the LabOne Q Applications Library, please don't hesitate to reach out to us at info@zhinst.com."
            ]
        },
        {
            "cell_type": "markdown",
            "metadata": {},
            "source": [
                "### Background\n"
            ]
        },
        {
            "cell_type": "markdown",
            "metadata": {},
            "source": [
                "In this how-to guide, you will measure the raw time traces of the readout signal coming back to the Quantum Analyzer unit of a SHFQC or SHFQA, before demodulation with the digital oscillator signal. This can be done here for every qubit in the sample for every possible combination of the states $\\ket{g}$, $\\ket{e}$ and $\\ket{f}$. In a future version of the guide, the raw time traces will be used to determine the optimal integration kernel for qubit readout, achieving maximal distinguishability between different qubit states. To distinguish between $n$ different states, a total of $n(n-1)/2$ integration weights $w_{i, j}(t)$ is required, with $i, j \\in\\left\\{0, 1, ..., n-1\\right\\}$ and $j>i$. At each time $t$, the optimal integration weights can be calculated as $w_{i, j}(t) = \\overline{r_i(t) - r_j(t)}$, where $r_i$ denotes the time trace with the qubit in state $i$ and the horizontal bar represents the complex conjugate. Note that in general only $n-1$ different integration weights need to be explicitly measured since the remaining ones can be obtained from the pairwise difference of the measured weights."
            ]
        },
        {
            "cell_type": "markdown",
            "metadata": {},
            "source": [
                "### Imports\n",
                "\n",
                "You'll start by importing the time traces experiment from `laboneq_applications`, as well as `laboneq.simple` and a demo QPU and device setup to run in emulation mode."
            ]
        },
        {
            "cell_type": "code",
            "execution_count": null,
            "metadata": {},
            "outputs": [],
            "source": [
                "from laboneq.contrib.example_helpers.plotting.plot_helpers import plot_simulation\n",
                "from laboneq.simple import *\n",
                "\n",
                "from laboneq_applications.experiments import time_traces\n",
                "from laboneq_applications.qpu_types.tunable_transmon.demo_qpus import demo_platform"
            ]
        },
        {
            "cell_type": "markdown",
            "metadata": {},
            "source": [
                "### QPU and Device Setup\n",
                "\n",
                "You'll generate two qubits with pre-defined parameters, as well as a `Device_Setup` consisting of a SHFQC+, HDAWG, and PQSC. If you already have your own `DeviceSetup` and qubits configured, you'll instead initialize the session using your setup."
            ]
        },
        {
            "cell_type": "code",
            "execution_count": null,
            "metadata": {},
            "outputs": [],
            "source": [
                "my_platform = demo_platform(2)"
            ]
        },
        {
            "cell_type": "markdown",
            "metadata": {},
            "source": [
                "Then, you'll connect to the `Session`. Here we connect to an emulated one:"
            ]
        },
        {
            "cell_type": "code",
            "execution_count": null,
            "metadata": {
                "scrolled": true
            },
            "outputs": [],
            "source": [
                "session = Session(my_platform.setup)\n",
                "session.connect(do_emulation=True)"
            ]
        },
        {
            "cell_type": "markdown",
            "metadata": {},
            "source": [
                "### Running the weight optimization Workflow\n",
                "\n",
                "You'll now make the experiment workflow and run:"
            ]
        },
        {
            "cell_type": "code",
            "execution_count": null,
            "metadata": {},
            "outputs": [],
            "source": [
                "opts = time_traces.experiment_workflow.options()"
            ]
        },
        {
            "cell_type": "code",
            "execution_count": null,
            "metadata": {
                "scrolled": true
            },
            "outputs": [],
            "source": [
                "# our qubits live here in the demo setup:\n",
                "qubits = [my_platform.qpu.qubits[0], my_platform.qpu.qubits[1]]\n",
                "states = [\"g\", \"e\", \"f\"]\n",
                "\n",
                "my_workflow = time_traces.experiment_workflow(\n",
                "    session=session, qpu=my_platform.qpu, qubits=qubits, states=states, options=opts\n",
                ")\n",
                "\n",
                "my_results = my_workflow.run()"
            ]
        },
        {
            "cell_type": "markdown",
            "metadata": {},
            "source": [
                "#### Output Simulation\n",
                "\n",
                "You can also plot the simulated output:"
            ]
        },
        {
            "cell_type": "code",
            "execution_count": null,
            "metadata": {
                "scrolled": true
            },
            "outputs": [],
            "source": [
                "for compiled_exp in my_results.tasks[\"compile_experiment\", :]:\n",
                "    compiled_traces = compiled_exp.output\n",
                "    plot_simulation(compiled_traces, start_time=0, length=10e-6)"
            ]
        },
        {
            "cell_type": "markdown",
            "metadata": {},
            "source": [
                "Great! You've now run your Rabi experiment. Check out these other experiments to keep characterizing your qubits:"
            ]
        },
        {
            "cell_type": "code",
            "execution_count": null,
            "metadata": {},
            "outputs": [],
            "source": [
                "# TODO: Add experiment links\n",
                "# TODO: Add Analysis"
            ]
        }
    ],
    "metadata": {
        "kernelspec": {
            "display_name": "Python 3 (ipykernel)",
            "language": "python",
            "name": "python3"
        },
        "language_info": {
            "codemirror_mode": {
                "name": "ipython",
                "version": 3
            },
            "file_extension": ".py",
            "mimetype": "text/x-python",
            "name": "python",
            "nbconvert_exporter": "python",
            "pygments_lexer": "ipython3",
            "version": "3.10.4"
        }
    },
    "nbformat": 4,
    "nbformat_minor": 4
}
