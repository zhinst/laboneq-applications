{
 "cells": [
  {
   "cell_type": "markdown",
   "metadata": {},
   "source": [
    "## TWPA Tune-up\n",
    "\n",
    "This guide shows you how to use the experiment workflows in the Applications Library to perform setup and calibration of a Traveling Wave Parametric Amplifier (TWPA)"
   ]
  },
  {
   "cell_type": "markdown",
   "metadata": {},
   "source": [
    "## Getting Started\n",
    "\n",
    "We will start by [defining our experimental setup](#Define-your-experimental-setup), [connecting to the LabOne Q Session](#Connect-to-Session), and [creating a FolderStore to save our data](#Create-a-FolderStore-for-saving-data).\n",
    "\n",
    "But first, we import `numpy` and  `laboneq.simple`."
   ]
  },
  {
   "cell_type": "code",
   "execution_count": 1,
   "metadata": {},
   "outputs": [],
   "source": [
    "import numpy as np\n",
    "from laboneq.simple import Session, workflow"
   ]
  },
  {
   "cell_type": "markdown",
   "metadata": {},
   "source": [
    "### Define your experimental setup\n",
    "\n",
    "Let's define our experimental setup. We will need:\n",
    "\n",
    "* a [DeviceSetup](https://docs.zhinst.com/labone_q_user_manual/core/functionality_and_concepts/00_device_setup/concepts/00_set_up_equipment.html#devicesetup)\n",
    "\n",
    "* `n` [TWPA](https://docs.zhinst.com/labone_q_user_manual/applications_library/reference/qpu_types/tunable_transmon.html#laboneq_applications.qpu_types.tunable_transmon.TunableTransmonQubit)\n",
    "\n",
    "* a set of [TWPAOperations](https://docs.zhinst.com/labone_q_user_manual/applications_library/reference/qpu_types/tunable_transmon.html#laboneq_applications.qpu_types.tunable_transmon.TunableTransmonOperations)\n",
    "\n",
    "* a [QPU](https://docs.zhinst.com/labone_q_user_manual/core/reference/dsl/quantum.html#laboneq.dsl.quantum.qpu.QPU)"
   ]
  },
  {
   "cell_type": "markdown",
   "metadata": {},
   "source": [
    "Here, we will be brief. We will mainly provide the code to obtain these objects. To learn more, check out these other tutorials:\n",
    "\n",
    "* Details about [defining your experimental setup](https://docs.zhinst.com/labone_q_user_manual/applications_library/tutorials/sources/getting_started.html)\n",
    "\n",
    "* [TWPA parameters and how quantum operations use them](https://docs.zhinst.com/labone_q_user_manual/applications_library/tutorials/sources/quantum_operations.html)\n",
    "\n",
    "* [Quantum operations in general](https://docs.zhinst.com/labone_q_user_manual/core/functionality_and_concepts/03_sections_pulses_and_quantum_operationss/concepts/08_quantum_operations.html)\n",
    "\n",
    "* [Logbooks and data saving with Workflows](https://docs.zhinst.com/labone_q_user_manual/applications_library/tutorials/sources/logbooks.html)"
   ]
  },
  {
   "cell_type": "markdown",
   "metadata": {},
   "source": [
    "We will use 1 `TWPA` in this guide. Change this number to the one describing your setup."
   ]
  },
  {
   "cell_type": "code",
   "execution_count": 2,
   "metadata": {},
   "outputs": [],
   "source": [
    "number_of_twpas = 1"
   ]
  },
  {
   "cell_type": "markdown",
   "metadata": {},
   "source": [
    "#### DeviceSetup\n",
    "\n",
    "This guide requires a setup that can pump and readout TWPAs. Your setup could contain an SHFPPC, with an SHFQA+ or an SHFQC+ instruments. Here, we will use an SHFPPC with 4 channels to pump the TWPAs and an SHFQA+ with 4 channels to readout the TWPAs.\n",
    "\n",
    "If you have used LabOne Q before and already had a `DeviceSetup` for your setup, you can reuse it. \n",
    "\n",
    "If you do not have a `DeviceSetup`, you can create one using the code below. Just update the device numbers to the ones in your rack and adjust any other input parameters as needed.\n",
    "\n",
    "**Note:** The user must pay special attention to ensure that the Marker A output of the SHFQA+ is properly connected to the corresponding trigger input of the SHFPPC output channel that will be used. Failure to do so may result in improper operation.\n",
    "\n",
    "**Note:** The two instruments are synchronized by connecting the reference clock output of the SHFQA+ to the reference clock input of the SHFPPC, thereby locking them to the SHFQA+ reference clock. \n"
   ]
  },
  {
   "cell_type": "code",
   "execution_count": 3,
   "metadata": {},
   "outputs": [],
   "source": [
    "from laboneq.dsl.device import DeviceSetup, create_connection\n",
    "from laboneq.dsl.device.instruments import SHFPPC, SHFQA\n",
    "\n",
    "twpa_ids = [f\"twpa{i}\" for i in range(number_of_twpas)]\n",
    "\n",
    "setup = DeviceSetup(f\"tunable_twpas_{number_of_twpas}\")\n",
    "setup.add_dataserver(host=\"localhost\", port=\"8004\")\n",
    "\n",
    "setup.add_instruments(\n",
    "    SHFQA(uid=\"device_shfqa\", address=\"dev123\"),\n",
    ")\n",
    "setup.add_instruments(\n",
    "    SHFPPC(\n",
    "        uid=\"device_shfppc\",\n",
    "        address=\"dev124\",\n",
    "    )\n",
    ")\n",
    "for i, twpa in enumerate(twpa_ids):\n",
    "    setup.add_connections(\n",
    "        \"device_shfqa\",\n",
    "        # each TWPA uses its own measure and acquire lines:\n",
    "        create_connection(\n",
    "            to_signal=f\"{twpa}/measure\",\n",
    "            ports=f\"QACHANNELS/{i}/OUTPUT\",\n",
    "        ),\n",
    "        create_connection(to_signal=f\"{twpa}/acquire\", ports=f\"QACHANNELS/{i}/INPUT\"),\n",
    "    )\n",
    "    setup.add_connections(\n",
    "        \"device_shfppc\",\n",
    "        # each TWPA uses its own measure and acquire lines:\n",
    "        create_connection(to_signal=f\"{twpa}/acquire\", ports=f\"PPCHANNELS/{i}\"),\n",
    "    )"
   ]
  },
  {
   "cell_type": "markdown",
   "metadata": {},
   "source": [
    "#### TWPAs\n",
    "\n",
    "We will generate 1 `TWPA` from the logical signal groups in our `DeviceSetup`. The names of the logical signal groups, `twpa0` will be the UIDs of the twpa. Moreover, the twpa will have the same logical signal lines as the ones of the logical signal groups in the `DeviceSetup`."
   ]
  },
  {
   "cell_type": "code",
   "execution_count": 4,
   "metadata": {},
   "outputs": [],
   "source": [
    "from laboneq_applications.qpu_types.twpa.twpa_types import (\n",
    "    TWPA,\n",
    "    TWPAParameters,\n",
    ")\n",
    "\n",
    "twpas = []\n",
    "for i in range(number_of_twpas):\n",
    "    t = TWPA.from_logical_signal_group(\n",
    "        f\"twpa{i}\", setup.logical_signal_groups[f\"twpa{i}\"], parameters=TWPAParameters()\n",
    "    )\n",
    "    twpas.append(t)"
   ]
  },
  {
   "cell_type": "markdown",
   "metadata": {},
   "source": [
    "Configure the TWPA parameters by using the following code: "
   ]
  },
  {
   "cell_type": "code",
   "execution_count": 5,
   "metadata": {},
   "outputs": [],
   "source": [
    "for t in twpas:\n",
    "    t.parameters.probe_frequency = 6.5e9\n",
    "    t.parameters.readout_lo_frequency = 6.4e9\n",
    "    t.parameters.readout_length = 1e-6\n",
    "    t.parameters.pump_frequency = 7.9e9\n",
    "    t.parameters.pump_power = 12.5\n",
    "    t.parameters.probe_power = 0\n",
    "    t.parameters.cancellation_phase = 0\n",
    "    t.parameters.cancellation_attenuation = 10"
   ]
  },
  {
   "cell_type": "markdown",
   "metadata": {},
   "source": [
    "#### Quantum Operations\n",
    "\n",
    "Define the set of `TWPAOperations`:"
   ]
  },
  {
   "cell_type": "code",
   "execution_count": 6,
   "metadata": {},
   "outputs": [],
   "source": [
    "from laboneq_applications.qpu_types.twpa.operations import TWPAOperations\n",
    "\n",
    "qops = TWPAOperations()"
   ]
  },
  {
   "cell_type": "markdown",
   "metadata": {},
   "source": [
    "#### QPU\n",
    "\n",
    "Create the `QPU` object from the qubits and the quantum operations"
   ]
  },
  {
   "cell_type": "code",
   "execution_count": 7,
   "metadata": {},
   "outputs": [],
   "source": [
    "from laboneq.dsl.quantum import QPU\n",
    "\n",
    "qpu = QPU(qubits=twpas, quantum_operations=qops)"
   ]
  },
  {
   "cell_type": "markdown",
   "metadata": {},
   "source": [
    "#### Alternatively, load from a file\n",
    "\n",
    "If you you already have a `DeviceSetup` and a `QPU` stored in `.json` files, you can simply load them back using the code below:\n",
    "\n",
    "```python\n",
    "from laboneq import serializers\n",
    "\n",
    "setup = serializers.load(full_path_to_device_setup_file)\n",
    "qpu = serializers.load(full_path_to_qpu_file)\n",
    "\n",
    "twpas = qpu.twpas\n",
    "qops = qpu.quantum_operations\n",
    "```"
   ]
  },
  {
   "cell_type": "markdown",
   "metadata": {},
   "source": [
    "### Connect to Session"
   ]
  },
  {
   "cell_type": "code",
   "execution_count": null,
   "metadata": {},
   "outputs": [],
   "source": [
    "session = Session(setup)\n",
    "session.connect(do_emulation=True)  # do_emulation=False when at a real setup"
   ]
  },
  {
   "cell_type": "markdown",
   "metadata": {},
   "source": [
    "### Create a FolderStore for saving data\n",
    "\n",
    "The experiment `Workflows` can automatically save the inputs and outputs of all their tasks to the folder path we specify when instantiating the [FolderStore](https://docs.zhinst.com/labone_q_user_manual/applications_library/tutorials/sources/logbooks.html#the-folderstore). Here, we choose the current working directory."
   ]
  },
  {
   "cell_type": "code",
   "execution_count": 9,
   "metadata": {},
   "outputs": [],
   "source": [
    "# import FolderStore from the `workflow` namespace of LabOne Q, which was imported\n",
    "# from `laboneq.simple`\n",
    "from pathlib import Path\n",
    "\n",
    "folder_store = workflow.logbook.FolderStore(Path.cwd())"
   ]
  },
  {
   "cell_type": "markdown",
   "metadata": {},
   "source": [
    "We disable saving in this guide. To enable it, simply run `folder_store.activate()`."
   ]
  },
  {
   "cell_type": "code",
   "execution_count": 10,
   "metadata": {},
   "outputs": [],
   "source": [
    "folder_store.deactivate()"
   ]
  },
  {
   "cell_type": "markdown",
   "metadata": {},
   "source": [
    "### Optional: Configure the LoggingStore\n",
    "\n",
    "You can also activate/deactivate the `LoggingStore`, which is used for displaying the `Workflow` logging information in the notebook; see again the [tutorial on Recording Experiment Workflow Results](https://docs.zhinst.com/labone_q_user_manual/applications_library/tutorials/sources/logbooks.html) for details. \n",
    "\n",
    "Displaying the `Workflow` logging information is activated by default, but here we deactivate it to shorten the outputs, which are not very meaningful in emulation mode. \n",
    "\n",
    "**We recommend that you do not deactivate the Workflow logging in practice.**"
   ]
  },
  {
   "cell_type": "code",
   "execution_count": 11,
   "metadata": {},
   "outputs": [],
   "source": [
    "from laboneq.workflow.logbook import LoggingStore\n",
    "\n",
    "logging_store = LoggingStore()\n",
    "logging_store.deactivate()"
   ]
  },
  {
   "cell_type": "markdown",
   "metadata": {},
   "source": [
    "## TWPA tune-up experiments\n",
    "\n",
    "Let's now proceed to calibrate our twpa using the experiment workflows from the modules imported below: "
   ]
  },
  {
   "cell_type": "code",
   "execution_count": 12,
   "metadata": {},
   "outputs": [],
   "source": [
    "from laboneq_applications.contrib.experiments import (\n",
    "    calibrate_cancellation,\n",
    "    measure_gain_curve,\n",
    "    scan_pump_parameters,\n",
    ")"
   ]
  },
  {
   "cell_type": "markdown",
   "metadata": {},
   "source": [
    "To learn more about what each of these experiments does, check out our [experiment how-to guides](https://docs.zhinst.com/labone_q_user_manual/applications_library/how-to-guides/sources/01_superconducting_qubits/index.html#workflow-based-experiments).\n",
    "\n",
    "To learn more about experiment `Workflows` in general and what you can do with them, check out [this tutorial](https://docs.zhinst.com/labone_q_user_manual/applications_library/tutorials/sources/experiment_workflows.html).\n",
    "\n",
    "To learn how to write your own experiment `Workflow`, check out [this tutorial](https://docs.zhinst.com/labone_q_user_manual/applications_library/tutorials/sources/writing_experiments.html).\n",
    "\n",
    "To learn more about `Workflows`, `Task` and options, look [here](https://docs.zhinst.com/labone_q_user_manual/core/functionality_and_concepts/07_workflow/index.html)."
   ]
  },
  {
   "cell_type": "markdown",
   "metadata": {},
   "source": [
    "**Note:** all the analysis results including the plots will be saved into the folder you have passed to the `FolderStore` (if the `FolderStore` is activated). You can also configure each experiment `Workflow` to display the plots in this notebook by setting `options.close_figures(False)`. We do not do this here because the data and the plots are meaningless in emulation mode.\n",
    "\n",
    "**Note:** we will run all the experiments in this notebook with the setting `options.update(True)`. This means that the relevant qubit parameters will be updated to the values extracted from the analysis (for example, the `pump_frequency` parameter in an amplitude Scan pump parameters experiment). If you're not happy with the new values or you've updated by mistake, you can revert to the original values from before the start of the experiment using the code,\n",
    "\n",
    "```python\n",
    "experiment_module.update_parametric_amplifiers(qpu, workflow_result.tasks[\"analysis_workflow\"].output[\"old_parameter_values\"])\n",
    "```\n",
    "\n",
    "where `experiment_module` is one of the experiment modules imported above. \n",
    "\n",
    "Similarly, in case you've run your experiment with the `update` option set to `False` but would still like to update your values, use the code,\n",
    "\n",
    "```python\n",
    "experiment_module.update_parametric_amplifiers(qpu, workflow_result.tasks[\"analysis_workflow\"].output[\"new_parameter_values\"])\n",
    "```\n"
   ]
  },
  {
   "cell_type": "markdown",
   "metadata": {},
   "source": [
    "### Scan pump parameters experiment\n",
    "\n",
    "Run characterization measurement of the TWPAs by sweeping the pump power and frequency \n",
    "\n",
    "**Note:**  To conduct Signal-to-Noise Ratio (SNR) gain measurements, this is achieved by setting `options.do_SNR(True)`. \n",
    "\n",
    "**Note:** The probe signal can be generated from either the Quantum Analyzer's output channel or the SHFPPC's output channel. For the latter, this is enabled with the setting.  `options.use_probe_from_ppc(True)`"
   ]
  },
  {
   "cell_type": "code",
   "execution_count": null,
   "metadata": {},
   "outputs": [],
   "source": [
    "options = scan_pump_parameters.experiment_workflow.options()\n",
    "options.close_figures(False)\n",
    "options.do_snr(True)\n",
    "options.use_probe_from_ppc(True)\n",
    "options.update(True)\n",
    "\n",
    "twpa_to_measure = twpas\n",
    "\n",
    "temporary_parameters = {\"readout_range_out\": -30}\n",
    "\n",
    "frequencies = np.linspace(6e9, 7e9, 11)\n",
    "powers = np.linspace(8, 16, 3)\n",
    "exp_workflow = scan_pump_parameters.experiment_workflow(\n",
    "    session=session,\n",
    "    qpu=qpu,\n",
    "    parametric_amplifier=twpa_to_measure[0],\n",
    "    temporary_parameters=temporary_parameters,\n",
    "    pump_frequency=frequencies,\n",
    "    pump_power=powers,\n",
    "    options=options,\n",
    ")\n",
    "\n",
    "workflow_results = exp_workflow.run()"
   ]
  },
  {
   "cell_type": "markdown",
   "metadata": {},
   "source": [
    "Check the updated value of the twpa parameter:"
   ]
  },
  {
   "cell_type": "code",
   "execution_count": null,
   "metadata": {},
   "outputs": [],
   "source": [
    "[(t.parameters.pump_frequency, t.parameters.pump_power) for t in twpa_to_measure]"
   ]
  },
  {
   "cell_type": "markdown",
   "metadata": {},
   "source": [
    "### Measure gain curve\n",
    "\n",
    "Measure the gain of the TWPAs while sweeping across different probe frequencies."
   ]
  },
  {
   "cell_type": "code",
   "execution_count": null,
   "metadata": {},
   "outputs": [],
   "source": [
    "options = measure_gain_curve.experiment_workflow.options()\n",
    "options.close_figures(False, \"analysis_workflow.plot_1D\")\n",
    "options.use_probe_from_ppc(True)\n",
    "options.update(False)\n",
    "\n",
    "twpa_to_measure = twpas\n",
    "\n",
    "frequencies = [6e9, 6.7e9]\n",
    "\n",
    "exp_workflow = measure_gain_curve.experiment_workflow(\n",
    "    session=session,\n",
    "    qpu=qpu,\n",
    "    parametric_amplifier=twpa_to_measure[0],\n",
    "    probe_frequency=frequencies,\n",
    "    pump_power=[twpa_to_measure[0].parameters.pump_power],\n",
    "    selected_indexes=[0],\n",
    "    options=options,\n",
    ")\n",
    "\n",
    "workflow_results = exp_workflow.run()"
   ]
  },
  {
   "cell_type": "markdown",
   "metadata": {},
   "source": [
    "### Calibrate cancellation experiment\n",
    "\n",
    "Sweep the phase and attunation of the cancellation circuit while measuring the residual pump tone signal.\n",
    "\n",
    "**Note:** It is important to consider the readout local oscillator frequency `twpas[0].parameters.readout_lo_frequency`, which should be set appropriately in relation to the pump frequency."
   ]
  },
  {
   "cell_type": "code",
   "execution_count": null,
   "metadata": {},
   "outputs": [],
   "source": [
    "options = calibrate_cancellation.experiment_workflow.options()\n",
    "options.close_figures(False)\n",
    "options.update(True)\n",
    "\n",
    "twpa_to_measure = twpas\n",
    "\n",
    "cancel_phase = np.linspace(1.5 * np.pi, 2 * np.pi, 11)\n",
    "cancel_attenuation = np.linspace(10, 20, 11)\n",
    "exp_workflow = calibrate_cancellation.experiment_workflow(\n",
    "    session=session,\n",
    "    qpu=qpu,\n",
    "    parametric_amplifier=twpa_to_measure[0],\n",
    "    cancel_phase=cancel_phase,\n",
    "    cancel_attenuation=cancel_attenuation,\n",
    "    options=options,\n",
    ")\n",
    "\n",
    "workflow_results = exp_workflow.run()"
   ]
  },
  {
   "cell_type": "markdown",
   "metadata": {},
   "source": [
    "Check the updated value of the twpa parameter:"
   ]
  },
  {
   "cell_type": "code",
   "execution_count": null,
   "metadata": {},
   "outputs": [],
   "source": [
    "[\n",
    "    (t.parameters.cancellation_phase, t.parameters.cancellation_attenuation)\n",
    "    for t in twpas\n",
    "]"
   ]
  }
 ],
 "metadata": {
  "kernelspec": {
   "display_name": "l1qal",
   "language": "python",
   "name": "python3"
  },
  "language_info": {
   "codemirror_mode": {
    "name": "ipython",
    "version": 3
   },
   "file_extension": ".py",
   "mimetype": "text/x-python",
   "name": "python",
   "nbconvert_exporter": "python",
   "pygments_lexer": "ipython3",
   "version": "3.10.0"
  }
 },
 "nbformat": 4,
 "nbformat_minor": 2
}
