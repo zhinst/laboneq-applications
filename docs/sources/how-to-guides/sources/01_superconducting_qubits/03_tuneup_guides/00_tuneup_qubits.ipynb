{
 "cells": [
  {
   "cell_type": "markdown",
   "id": "430a9b3f-4765-4655-bbe3-d78fa123685c",
   "metadata": {},
   "source": [
    "## Qubit Tune-Up\n",
    "\n",
    "This guide show you how to use the experiment workflows in the Applications Library to perform single-qubit gate tune-up at your experimental setup containing a quantum processor of superconducting transmon qubits. "
   ]
  },
  {
   "cell_type": "markdown",
   "id": "3e52bd2d-183d-425b-9716-4f289ad94fe4",
   "metadata": {},
   "source": [
    "## Getting Started\n",
    "\n",
    "We will start by [defining our experimental setup](#Define-your-experimental-setup), [connecting to the LabOne Q Session](#Connect-to-Session), and [creating a FolderStore to save our data](#Create-a-FolderStore-for-saving-data).\n",
    "\n",
    "But first, we import `numpy`, `deepcopy`, and  `laboneq.simple`."
   ]
  },
  {
   "cell_type": "code",
   "execution_count": null,
   "id": "9295a386-354c-4992-8c1e-f92058729e06",
   "metadata": {
    "scrolled": true
   },
   "outputs": [],
   "source": [
    "from copy import deepcopy\n",
    "\n",
    "import numpy as np\n",
    "from laboneq.simple import *"
   ]
  },
  {
   "cell_type": "markdown",
   "id": "93144eb4-981d-4f44-b024-d9d6b9696528",
   "metadata": {},
   "source": [
    "### Define your experimental setup\n",
    "\n",
    "Let's define our experimental setup. We will need:\n",
    "\n",
    "* a [DeviceSetup](https://docs.zhinst.com/labone_q_user_manual/core/functionality_and_concepts/00_device_setup/concepts/index.html)\n",
    "\n",
    "* `n` [TunableTransmonQubits](https://docs.zhinst.com/labone_q_user_manual/applications_library/reference/qpu_types/tunable_transmon.html#laboneq_applications.qpu_types.tunable_transmon.TunableTransmonQubit)\n",
    "\n",
    "* a set of [TunableTransmonOperations](https://docs.zhinst.com/labone_q_user_manual/applications_library/reference/qpu_types/tunable_transmon.html#laboneq_applications.qpu_types.tunable_transmon.TunableTransmonOperations)\n",
    "\n",
    "* a [QPU](https://docs.zhinst.com/labone_q_user_manual/core/reference/dsl/quantum.html#laboneq.dsl.quantum.qpu.QPU)"
   ]
  },
  {
   "cell_type": "markdown",
   "id": "87b28a7d-a6cb-4901-87b7-21bef01f9a3d",
   "metadata": {},
   "source": [
    "Here, we will be brief. We will mainly provide the code to obtain these objects. To learn more, check out these other tutorials:\n",
    "\n",
    "* Details about [defining your experimental setup](https://docs.zhinst.com/labone_q_user_manual/applications_library/tutorials/sources/getting_started.html)\n",
    "\n",
    "* [Qubit parameters and how quantum operations use them](https://docs.zhinst.com/labone_q_user_manual/applications_library/tutorials/sources/quantum_operations.html)\n",
    "\n",
    "* [Quantum operations in general](https://docs.zhinst.com/labone_q_user_manual/core/functionality_and_concepts/04_quantum_processing_unit/tutorials/00_quantum_operations.html)\n",
    "\n",
    "* [Logbooks and data saving with Workflows](https://docs.zhinst.com/labone_q_user_manual/applications_library/tutorials/sources/logbooks.html)"
   ]
  },
  {
   "cell_type": "markdown",
   "id": "ef27c409-715d-4787-8682-9c3774783ace",
   "metadata": {},
   "source": [
    "We will use 3 `TunableTransmonQubits` in this guide. Change this number to the one describing your setup."
   ]
  },
  {
   "cell_type": "code",
   "execution_count": null,
   "id": "75e5d907-e45d-44e5-8bac-1205a98b910a",
   "metadata": {},
   "outputs": [],
   "source": [
    "number_of_qubits = 3"
   ]
  },
  {
   "cell_type": "markdown",
   "id": "29d6f710-faac-4d53-94bd-2174ecb0183c",
   "metadata": {},
   "source": [
    "#### DeviceSetup\n",
    "\n",
    "This guide requires a setup that can drive and readout tunable transmon qubits. Your setup could contain an SHFQC+ instrument, or an SHFSG and an SHFQA instruments. Here, we will use an SHFQC+ with 6 signal generation channels and a PQSC. \n",
    "\n",
    "If you have used LabOne Q before and already have a `DeviceSetup` for your setup, you can reuse that. \n",
    "\n",
    "If you do not have a `DeviceSetup`, you can create one using the code below. Just change the device numbers to the ones in your rack and adjust any other input parameters as needed."
   ]
  },
  {
   "cell_type": "code",
   "execution_count": null,
   "id": "bb1667ad-2f54-4642-8ae2-ab78685eb01c",
   "metadata": {},
   "outputs": [],
   "source": [
    "# Setting get_zsync=True below, automatically detects the zsync ports of the PQCS that\n",
    "# are used by the other instruments in this descriptor.\n",
    "# Here, we are not connected to instruments, so we set this flag to False.\n",
    "from laboneq.contrib.example_helpers.generate_descriptor import generate_descriptor\n",
    "\n",
    "descriptor = generate_descriptor(\n",
    "    pqsc=[\"DEV10001\"],\n",
    "    shfqc_6=[\"DEV12001\"],\n",
    "    number_data_qubits=number_of_qubits,\n",
    "    multiplex=True,\n",
    "    number_multiplex=number_of_qubits,\n",
    "    include_cr_lines=False,\n",
    "    get_zsync=False,  # set to True when at a real setup\n",
    "    ip_address=\"localhost\",\n",
    ")\n",
    "setup = DeviceSetup.from_descriptor(descriptor, \"localhost\")"
   ]
  },
  {
   "cell_type": "markdown",
   "id": "5c94e2ee-f969-404c-926f-2588941941ac",
   "metadata": {},
   "source": [
    "#### Qubits\n",
    "\n",
    "We will generate 3 `TunableTransmonQubits` from the logical signal groups in our `DeviceSetup`. The names of the logical signal groups, `q0`, `q1`, `q2`, will be the UIDs of the qubits. Moreover, the qubits will have the same logical signal lines as the ones of the logical signal groups in the `DeviceSetup`."
   ]
  },
  {
   "cell_type": "code",
   "execution_count": null,
   "id": "fd0e2d73-5157-431a-85e7-4c0f253480e7",
   "metadata": {},
   "outputs": [],
   "source": [
    "from laboneq_applications.qpu_types.tunable_transmon import (\n",
    "    TunableTransmonQubit,\n",
    ")\n",
    "\n",
    "qubits = TunableTransmonQubit.from_device_setup(setup)"
   ]
  },
  {
   "cell_type": "code",
   "execution_count": null,
   "id": "d3f8ec90-173a-4b65-a7ba-292c90e85aba",
   "metadata": {},
   "outputs": [],
   "source": [
    "for q in qubits:\n",
    "    print(\"-------------\")\n",
    "    print(\"Qubit UID:\", q.uid)\n",
    "    print(\"Qubit logical signals:\")\n",
    "    for sig, lsg in q.signals.items():\n",
    "        print(f\"  {sig:<10} ('{lsg:>10}')\")"
   ]
  },
  {
   "cell_type": "markdown",
   "id": "8120add7-b054-4005-8cd7-b98cb555ed48",
   "metadata": {},
   "source": [
    "Configure the qubit parameters to reflect the properties of the qubits on your QPU using the following code:"
   ]
  },
  {
   "cell_type": "code",
   "execution_count": null,
   "id": "6b0b25d5-3e6b-403e-b089-62204f506f9d",
   "metadata": {},
   "outputs": [],
   "source": [
    "for q in qubits:\n",
    "    q.parameters.ge_drive_pulse[\"sigma\"] = 0.25\n",
    "    q.parameters.readout_amplitude = 0.5\n",
    "    q.parameters.reset_delay_length = 200e-6\n",
    "    q.parameters.readout_range_out = -25\n",
    "    q.parameters.readout_lo_frequency = 7.4e9\n",
    "\n",
    "qubits[0].parameters.drive_lo_frequency = 6.4e9\n",
    "qubits[0].parameters.resonance_frequency_ge = 6.3e9\n",
    "qubits[0].parameters.resonance_frequency_ef = 6.0e9\n",
    "qubits[0].parameters.readout_resonator_frequency = 7.0e9\n",
    "\n",
    "qubits[1].parameters.drive_lo_frequency = 6.4e9\n",
    "qubits[1].parameters.resonance_frequency_ge = 6.5e9\n",
    "qubits[1].parameters.resonance_frequency_ef = 6.3e9\n",
    "qubits[1].parameters.readout_resonator_frequency = 7.3e9\n",
    "\n",
    "qubits[2].parameters.drive_lo_frequency = 6.0e9\n",
    "qubits[2].parameters.resonance_frequency_ge = 5.8e9\n",
    "qubits[2].parameters.resonance_frequency_ef = 5.6e9\n",
    "qubits[2].parameters.readout_resonator_frequency = 7.2e9"
   ]
  },
  {
   "cell_type": "markdown",
   "id": "c5cbc23a-871b-4531-b2e1-d392cfc2af43",
   "metadata": {},
   "source": [
    "#### Quantum Operations\n",
    "\n",
    "Create the set of `TunableTransmonOperations`:"
   ]
  },
  {
   "cell_type": "code",
   "execution_count": null,
   "id": "e866bed1-4032-46c4-aaf4-0ae62580d605",
   "metadata": {},
   "outputs": [],
   "source": [
    "from laboneq_applications.qpu_types.tunable_transmon import TunableTransmonOperations\n",
    "\n",
    "qops = TunableTransmonOperations()"
   ]
  },
  {
   "cell_type": "markdown",
   "id": "0ebe7dca-4abd-4497-a0fb-5be1f119209a",
   "metadata": {},
   "source": [
    "#### QPU\n",
    "\n",
    "Create the `QPU` object from the qubits and the quantum operations"
   ]
  },
  {
   "cell_type": "code",
   "execution_count": null,
   "id": "c61c51d3-5839-4eb1-88b8-7c315ccfdf03",
   "metadata": {},
   "outputs": [],
   "source": [
    "from laboneq.dsl.quantum import QPU\n",
    "\n",
    "qpu = QPU(qubits, quantum_operations=qops)"
   ]
  },
  {
   "cell_type": "markdown",
   "id": "f3bd8b41-e27f-4938-b1b0-6f05e8e49baf",
   "metadata": {},
   "source": [
    "#### Alternatively, load from a file\n",
    "\n",
    "If you you already have a `DeviceSetup` and a `QPU` stored in `.json` files, you can simply load them back using the code below:\n",
    "\n",
    "```python\n",
    "from laboneq import serializers\n",
    "\n",
    "setup = serializers.load(full_path_to_device_setup_file)\n",
    "qpu = serializers.load(full_path_to_qpu_file)\n",
    "\n",
    "qubits = qpu.quantum_elements\n",
    "qops = qpu.quantum_operations\n",
    "```"
   ]
  },
  {
   "cell_type": "markdown",
   "id": "9ad419b8-941d-44bf-976e-5c7dd2828054",
   "metadata": {},
   "source": [
    "### Connect to Session"
   ]
  },
  {
   "cell_type": "code",
   "execution_count": null,
   "id": "b1c6f88a-6104-41f0-9152-ea1bbc8921bb",
   "metadata": {
    "scrolled": true
   },
   "outputs": [],
   "source": [
    "session = Session(setup)\n",
    "session.connect(do_emulation=True)  # do_emulation=False when at a real setup"
   ]
  },
  {
   "cell_type": "markdown",
   "id": "058a31ec-c0f6-45b4-9f1f-3de3d29a7b8e",
   "metadata": {},
   "source": [
    "### Create a FolderStore for saving data\n",
    "\n",
    "The experiment `Workflows` can automatically save the inputs and outputs of all their tasks to the folder path we specify when instantiating the [FolderStore](https://docs.zhinst.com/labone_q_user_manual/applications_library/tutorials/sources/logbooks.html#the-folderstore). Here, we choose the current working directory."
   ]
  },
  {
   "cell_type": "code",
   "execution_count": null,
   "id": "7a332fec-da22-44ed-9605-88718ee05320",
   "metadata": {},
   "outputs": [],
   "source": [
    "# import FolderStore from the `workflow` namespace of LabOne Q, which was imported\n",
    "# from `laboneq.simple`\n",
    "from pathlib import Path\n",
    "\n",
    "folder_store = workflow.logbook.FolderStore(Path.cwd())"
   ]
  },
  {
   "cell_type": "markdown",
   "id": "0c45d10b-0dd0-47c5-b140-06c4c7384bb3",
   "metadata": {},
   "source": [
    "We disable saving in this guide. To enable it, simply run `folder_store.activate()`."
   ]
  },
  {
   "cell_type": "code",
   "execution_count": null,
   "id": "5056da2e-9215-43bd-a5d8-199f2a471150",
   "metadata": {},
   "outputs": [],
   "source": [
    "folder_store.deactivate()"
   ]
  },
  {
   "cell_type": "markdown",
   "id": "ba3815cd-6e7e-49c7-b009-b80cb4110228",
   "metadata": {},
   "source": [
    "### Optional: Configure the LoggingStore\n",
    "\n",
    "You can also activate/deactivate the `LoggingStore`, which is used for displaying the `Workflow` logging information in the notebook; see again the [tutorial on Recording Experiment Workflow Results](https://docs.zhinst.com/labone_q_user_manual/applications_library/tutorials/sources/logbooks.html) for details. \n",
    "\n",
    "Displaying the `Workflow` logging information is activated by default, but here we deactivate it to shorten the outputs, which are not very meaningful in emulation mode. \n",
    "\n",
    "**We recommend that you do not deactivate the Workflow logging in practice.**"
   ]
  },
  {
   "cell_type": "code",
   "execution_count": null,
   "id": "90d8c704-39b8-40f1-aaa0-1d5d42e7bfbe",
   "metadata": {},
   "outputs": [],
   "source": [
    "from laboneq.workflow.logbook import LoggingStore\n",
    "\n",
    "logging_store = LoggingStore()\n",
    "logging_store.deactivate()"
   ]
  },
  {
   "cell_type": "markdown",
   "id": "1f55e05a-66ee-4760-a1f1-0ea1a3ab53fb",
   "metadata": {},
   "source": [
    "## Single-qubit gate tune-up\n",
    "\n",
    "Let's now proceed to calibrate our qubits using the experiment workflows from the modules imported below: "
   ]
  },
  {
   "cell_type": "code",
   "execution_count": null,
   "id": "cecce368-e91c-47a4-8497-88def201731b",
   "metadata": {},
   "outputs": [],
   "source": [
    "from laboneq_applications.experiments import (\n",
    "    amplitude_rabi,\n",
    "    drag_q_scaling,\n",
    "    echo,\n",
    "    lifetime_measurement,\n",
    "    qubit_spectroscopy,\n",
    "    ramsey,\n",
    "    resonator_spectroscopy,\n",
    ")"
   ]
  },
  {
   "cell_type": "markdown",
   "id": "59ece864-7a4a-4556-a817-c16f7940b5eb",
   "metadata": {},
   "source": [
    "To learn more about what each of these experiments does, check out our [experiment how-to guides](https://docs.zhinst.com/labone_q_user_manual/applications_library/how-to-guides/sources/01_superconducting_qubits/index.html#workflow-based-experiments).\n",
    "\n",
    "To learn more about experiment `Workflows` in general and what you can do with them, check out [this tutorial](https://docs.zhinst.com/labone_q_user_manual/applications_library/tutorials/sources/experiment_workflows.html).\n",
    "\n",
    "To learn how to write your own experiment `Workflow`, check out [this tutorial](https://docs.zhinst.com/labone_q_user_manual/applications_library/tutorials/sources/writing_experiments.html).\n",
    "\n",
    "To learn more about `Workflow`, `Task` and options, look [here](https://docs.zhinst.com/labone_q_user_manual/core/functionality_and_concepts/07_workflow/concepts/index.html)."
   ]
  },
  {
   "cell_type": "markdown",
   "id": "eb252710-a9b9-4ef3-b6b8-b5df18e70300",
   "metadata": {},
   "source": [
    "**Note:** all the analysis results including the plots will be saved into the folder you have passed to the `FolderStore` (if the `FolderStore` is activated). You can also configure each experiment `Workflow` to display the plots in this notebook by setting `options.close_figures(False)`. We do not do this here because the data and the plots are meaningless in emulation mode. \n",
    "\n",
    "**Note:** we will run all the experiments in this notebook with the setting `options.update(True)`. This means that the relevant qubit parameters will be updated to the values extracted from the analysis (for example, the `ge_drive_amplitude_pi` parameter in an amplitude Rabi experiment). If you're not happy with the new values or you've updated by mistake, you can revert to the original values from before the start of the experiment using the code,\n",
    "\n",
    "```python\n",
    "experiment_module.update_qubits(qpu, workflow_result.tasks[\"analysis_workflow\"].output[\"old_parameter_values\"])\n",
    "```\n",
    "\n",
    "where `experiment_module` is one of the experiment modules imported above. \n",
    "\n",
    "Similarly, in case you've run your experiment with the `update` option set to `False` but would still like to update your values, use the code,\n",
    "\n",
    "```python\n",
    "experiment_module.update_qubits(qpu, workflow_result.tasks[\"analysis_workflow\"].output[\"new_parameter_values\"])\n",
    "```"
   ]
  },
  {
   "cell_type": "markdown",
   "id": "7faab65e-7853-4a99-9303-40584d91f081",
   "metadata": {},
   "source": [
    "### Resonator Spectroscopy"
   ]
  },
  {
   "cell_type": "code",
   "execution_count": null,
   "id": "987b2bad-7f89-41cd-8f24-d51813492dc1",
   "metadata": {
    "scrolled": true
   },
   "outputs": [],
   "source": [
    "options = resonator_spectroscopy.experiment_workflow.options()\n",
    "options.update(True)  # updates the qubit parameter \"readout_resonator_frequency\"\n",
    "\n",
    "# The resonator spectroscopy can only be done on one qubit at a time\n",
    "qubit_to_measure = qubits[0]\n",
    "\n",
    "frequencies = qubit_to_measure.parameters.readout_resonator_frequency + np.linspace(-30e6, 30e6, 101)\n",
    "exp_workflow = resonator_spectroscopy.experiment_workflow(\n",
    "    session=session,\n",
    "    qpu=qpu,\n",
    "    qubit=qubit_to_measure,\n",
    "    frequencies=frequencies,\n",
    "    options=options\n",
    ")\n",
    "workflow_result = exp_workflow.run()"
   ]
  },
  {
   "cell_type": "code",
   "execution_count": null,
   "id": "bb368870-152d-4f33-ba45-1ec83a4b859e",
   "metadata": {},
   "outputs": [],
   "source": [
    "qubit_to_measure.parameters.readout_resonator_frequency"
   ]
  },
  {
   "cell_type": "markdown",
   "id": "840ab991-a4c6-4077-8d4e-e6a518461914",
   "metadata": {},
   "source": [
    "### Qubit Spectroscopy"
   ]
  },
  {
   "cell_type": "code",
   "execution_count": null,
   "id": "442bedd3-420b-45e5-9576-e9054b898902",
   "metadata": {
    "scrolled": true
   },
   "outputs": [],
   "source": [
    "options = qubit_spectroscopy.experiment_workflow.options()\n",
    "options.count(4096)\n",
    "options.update(True)  # updates the qubit parameter \"resonance_frequency_ge\"\n",
    "\n",
    "qubits_to_measure = qubits\n",
    "\n",
    "temporary_parameters = {}\n",
    "for q in qubits_to_measure:\n",
    "    temp_pars = deepcopy(q.parameters)\n",
    "    temp_pars.drive_range = -30\n",
    "    temp_pars.spectroscopy_amplitude = 1\n",
    "    temporary_parameters[q.uid] = temp_pars\n",
    "\n",
    "frequencies = [\n",
    "    q.parameters.resonance_frequency_ge + np.linspace(-20e6, 20e6, 201)\n",
    "    for q in qubits_to_measure\n",
    "]\n",
    "exp_workflow = qubit_spectroscopy.experiment_workflow(\n",
    "    session=session,\n",
    "    qpu=qpu,\n",
    "    qubits=qubits_to_measure,\n",
    "    temporary_parameters=temporary_parameters,\n",
    "    frequencies=frequencies,\n",
    "    options=options\n",
    ")\n",
    "workflow_result = exp_workflow.run()"
   ]
  },
  {
   "cell_type": "markdown",
   "id": "cec4f92a-2159-4c08-a590-d14463d73032",
   "metadata": {},
   "source": [
    "Check the updated value of the qubit parameter:"
   ]
  },
  {
   "cell_type": "code",
   "execution_count": null,
   "id": "80df157a-0b81-4a50-9933-99200335d950",
   "metadata": {},
   "outputs": [],
   "source": [
    "[q.parameters.resonance_frequency_ge for q in qubits]"
   ]
  },
  {
   "cell_type": "markdown",
   "id": "bd1e50a4-6653-4ef5-be79-3f8b684d8a98",
   "metadata": {},
   "source": [
    "### Amplitude Rabi"
   ]
  },
  {
   "cell_type": "code",
   "execution_count": null,
   "id": "05ad6693-78b9-4623-a2a5-da1730326dfb",
   "metadata": {
    "scrolled": true
   },
   "outputs": [],
   "source": [
    "options = amplitude_rabi.experiment_workflow.options()\n",
    "# updates the qubit parameters \"ge_drive_amplitude_pi\" and ge_drive_amplitude_pi2\n",
    "options.update(False)\n",
    "\n",
    "transition_to_calibrate = \"ge\"\n",
    "options.transition(transition_to_calibrate)\n",
    "options.cal_states(transition_to_calibrate)\n",
    "\n",
    "qubits_to_measure = qubits\n",
    "\n",
    "exp_workflow = amplitude_rabi.experiment_workflow(\n",
    "    session=session,\n",
    "    qpu=qpu,\n",
    "    qubits=qubits_to_measure,\n",
    "    amplitudes=[np.linspace(0, 1, 21) for q in qubits_to_measure],\n",
    "    options=options\n",
    ")\n",
    "workflow_result = exp_workflow.run()"
   ]
  },
  {
   "cell_type": "markdown",
   "id": "2c70b205-07a2-4681-b2f3-0f185faa9554",
   "metadata": {},
   "source": [
    "Note that the fit fails for this measurement in emulation mode, so the new qubit parameters were not extracted."
   ]
  },
  {
   "cell_type": "code",
   "execution_count": null,
   "id": "b9aa86d8-c22c-483b-b8e0-66566fe9b1ab",
   "metadata": {},
   "outputs": [],
   "source": [
    "[(q.parameters.ge_drive_amplitude_pi, q.parameters.ge_drive_amplitude_pi2) for q in qubits]"
   ]
  },
  {
   "cell_type": "markdown",
   "id": "49063986-4ed3-4fdf-95b0-ec4598fb1962",
   "metadata": {},
   "source": [
    "### Ramsey"
   ]
  },
  {
   "cell_type": "code",
   "execution_count": null,
   "id": "f78068e7-610d-4c05-819a-43e0725e1a2a",
   "metadata": {
    "scrolled": true
   },
   "outputs": [],
   "source": [
    "options = ramsey.experiment_workflow.options()\n",
    "# updates the qubit parameters \"resonance_frequency_ge\" and ge_T2_star\n",
    "options.update(True)\n",
    "\n",
    "transition_to_calibrate = \"ge\"\n",
    "options.transition(transition_to_calibrate)\n",
    "options.cal_states(transition_to_calibrate)\n",
    "\n",
    "# Note: if neighbouring qubits are physically coupled by a resonator,\n",
    "# you usually don't want to run Ramsey in parallel on them because\n",
    "# your result will be skewed by strong residual-ZZ coupling.\n",
    "# Next-nearest neighbours is typically okay.\n",
    "qubits_to_measure = [qubits[0], qubits[2]]\n",
    "\n",
    "delays = [\n",
    "    np.linspace(0, 1e-6, 51)\n",
    "    if transition_to_calibrate == \"ef\"\n",
    "    else np.linspace(0, 20e-6, 51)\n",
    "    for q in qubits_to_measure\n",
    "]\n",
    "detunings = [\n",
    "    11.76e6 if transition_to_calibrate == \"ef\"\n",
    "    else 0.673e6 for q in qubits_to_measure]\n",
    "\n",
    "exp_workflow = ramsey.experiment_workflow(\n",
    "    session=session,\n",
    "    qpu=qpu,\n",
    "    qubits=qubits_to_measure,\n",
    "    delays=delays,\n",
    "    detunings=detunings,\n",
    "    options=options\n",
    ")\n",
    "\n",
    "workflow_result = exp_workflow.run()"
   ]
  },
  {
   "cell_type": "markdown",
   "id": "d5e236a8-7207-468a-93fa-9fa7d518388d",
   "metadata": {},
   "source": [
    "Check the updated values of the qubit parameters:"
   ]
  },
  {
   "cell_type": "code",
   "execution_count": null,
   "id": "e56cc1dc-c5d7-40c3-a5dd-a34588a5224b",
   "metadata": {},
   "outputs": [],
   "source": [
    "[q.parameters.resonance_frequency_ge * 1e6 for q in qubits]"
   ]
  },
  {
   "cell_type": "code",
   "execution_count": null,
   "id": "745ee776-868a-49aa-8dc4-370d9976c06c",
   "metadata": {},
   "outputs": [],
   "source": [
    "[q.parameters.ge_T2_star * 1e6 for q in qubits]"
   ]
  },
  {
   "cell_type": "markdown",
   "id": "5072a4d3-bd94-4858-a552-1eeb2c1c5e05",
   "metadata": {},
   "source": [
    "### DRAG Calib"
   ]
  },
  {
   "cell_type": "code",
   "execution_count": null,
   "id": "3f361a25-6727-4cc0-a0c9-8e667682b4f2",
   "metadata": {
    "scrolled": true
   },
   "outputs": [],
   "source": [
    "options = drag_q_scaling.experiment_workflow.options()\n",
    "options.update(True)  # updates the qubit parameter 'ge_drive_pulse[\"beta\"]'\n",
    "\n",
    "transition_to_calibrate = \"ge\"\n",
    "options.transition(transition_to_calibrate)\n",
    "options.cal_states(transition_to_calibrate)\n",
    "\n",
    "qubits_to_measure = qubits\n",
    "\n",
    "exp_workflow = drag_q_scaling.experiment_workflow(\n",
    "    session=session,\n",
    "    qpu=qpu,\n",
    "    qubits=qubits_to_measure,\n",
    "    q_scalings=[np.linspace(-0.03, 0.03, 11) for _ in qubits_to_measure],\n",
    "    options=options\n",
    ")\n",
    "workflow_result = exp_workflow.run()"
   ]
  },
  {
   "cell_type": "markdown",
   "id": "06704e8a-b033-4777-aaf5-8975ea733cbb",
   "metadata": {},
   "source": [
    "Note that the fit fails for this measurement in emulation mode, so the new qubit parameters were not extracted."
   ]
  },
  {
   "cell_type": "code",
   "execution_count": null,
   "id": "4752c2f8-3a54-4f56-84ff-ec7dc0ae3f43",
   "metadata": {},
   "outputs": [],
   "source": [
    "[q.parameters.ge_drive_pulse[\"beta\"] for q in qubits]"
   ]
  },
  {
   "cell_type": "markdown",
   "id": "f9ad764f-d672-4305-af3b-0447f1866b45",
   "metadata": {},
   "source": [
    "### T1"
   ]
  },
  {
   "cell_type": "code",
   "execution_count": null,
   "id": "65fcb55e-1134-473e-8989-e54c2bf04937",
   "metadata": {
    "scrolled": true
   },
   "outputs": [],
   "source": [
    "options = lifetime_measurement.experiment_workflow.options()\n",
    "options.update(True)  # updates the qubit parameter \"ge_T1\"\n",
    "\n",
    "qubits_to_measure = qubits\n",
    "\n",
    "exp_workflow = lifetime_measurement.experiment_workflow(\n",
    "    session=session,\n",
    "    qpu=qpu,\n",
    "    qubits=qubits_to_measure,\n",
    "    temporary_parameters=temporary_parameters,\n",
    "    delays=[np.linspace(0, 100e-6, 50) for q in qubits_to_measure],\n",
    "    options=options\n",
    ")\n",
    "workflow_result = exp_workflow.run()"
   ]
  },
  {
   "cell_type": "markdown",
   "id": "939b995f-a5d8-4f34-b609-3dce1e8a971c",
   "metadata": {},
   "source": [
    "Check the updated value of the qubit parameter:"
   ]
  },
  {
   "cell_type": "code",
   "execution_count": null,
   "id": "b3bbfe26-4ab3-4111-825a-a596b096ebf5",
   "metadata": {},
   "outputs": [],
   "source": [
    "[q.parameters.ge_T1 * 1e6 for q in qubits]"
   ]
  },
  {
   "cell_type": "markdown",
   "id": "0645d639-3ff3-45fa-8795-c4a708e952a3",
   "metadata": {},
   "source": [
    "### Echo"
   ]
  },
  {
   "cell_type": "code",
   "execution_count": null,
   "id": "6956c87d-943a-4a9c-b611-abadc21ebed3",
   "metadata": {
    "scrolled": true
   },
   "outputs": [],
   "source": [
    "options = echo.experiment_workflow.options()\n",
    "options.update(True)  # updates the qubit parameter \"ge_T2\"\n",
    "\n",
    "# Note: if neighbouring qubits are physically coupled by a resonator,\n",
    "# you usually don't want to run Echo in parallel on them because\n",
    "# your result will be skewed by strong residual-ZZ coupling.\n",
    "# Next-nearest neighbours is typically okay.\n",
    "qubits_to_measure = [qubits[0], qubits[2]]\n",
    "\n",
    "exp_workflow = echo.experiment_workflow(\n",
    "    session=session,\n",
    "    qpu=qpu,\n",
    "    qubits=qubits_to_measure,\n",
    "    delays=[np.linspace(0, 100e-6, 50) for q in qubits_to_measure],\n",
    "    options=options\n",
    ")\n",
    "workflow_result = exp_workflow.run()"
   ]
  },
  {
   "cell_type": "markdown",
   "id": "7e739414-4f49-42ba-8d11-35ca7db4300d",
   "metadata": {},
   "source": [
    "Check the updated value of the qubit parameter:"
   ]
  },
  {
   "cell_type": "code",
   "execution_count": null,
   "id": "626e55f7-22e9-499d-80a4-98e707eeb41d",
   "metadata": {},
   "outputs": [],
   "source": [
    "[q.parameters.ge_T2*1e6 for q in qubits]"
   ]
  }
 ],
 "metadata": {
  "kernelspec": {
   "display_name": "Python 3 (ipykernel)",
   "language": "python",
   "name": "python3"
  },
  "language_info": {
   "codemirror_mode": {
    "name": "ipython",
    "version": 3
   },
   "file_extension": ".py",
   "mimetype": "text/x-python",
   "name": "python",
   "nbconvert_exporter": "python",
   "pygments_lexer": "ipython3",
   "version": "3.13.2"
  }
 },
 "nbformat": 4,
 "nbformat_minor": 5
}
