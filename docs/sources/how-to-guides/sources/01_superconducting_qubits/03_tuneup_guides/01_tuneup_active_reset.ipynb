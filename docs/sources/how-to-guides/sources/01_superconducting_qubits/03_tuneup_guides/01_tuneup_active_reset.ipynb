{
 "cells": [
  {
   "cell_type": "markdown",
   "metadata": {},
   "source": [
    "# Active Reset Tune-Up "
   ]
  },
  {
   "cell_type": "markdown",
   "metadata": {
    "jp-MarkdownHeadingCollapsed": true
   },
   "source": [
    "### Prerequisites\n",
    "This guide assumes you have a configured `DeviceSetup` as well as `Qubit` objects with assigned parameters. Please see [Getting Started tutorial](https://docs.zhinst.com/labone_q_user_manual/applications_library/tutorials/sources/getting_started.html) if you need to create your setup and qubits for the first time. \n",
    "\n",
    "You can run this notebook on real hardware in the lab. However, if you don't have the hardware at your disposal, you can also run the notebook \"as is\" using an emulated session (see below). \n",
    "\n",
    "If you are just getting started with the LabOne Q Applications Library, please don't hesitate to reach out to us at info@zhinst.com.\n",
    "\n",
    "The data shown in this guide was acquired by Zurich Instruments at the [ETHZ-PSI Quantum Computing Hub](https://www.psi.ch/en/lnq/qchub), as part of the Innosuisse Sherloq project."
   ]
  },
  {
   "cell_type": "markdown",
   "metadata": {},
   "source": [
    "### Background\n",
    "In order to execute any set of gates on a quantum bit (qubit), the latter needs to be prepared in a known state. This state is usually the qubit’s ground state, denoted either by 'g' or '0'. This preparation is most simply done by waiting: the qubit naturally relaxes into its thermal ground state at an exponential rate given by its lifetime $T_1$. Note that the thermal ground state differs to the true ground state of the qubit by the amount of thermal population produced by unwanted thermal excitation of the qubit. A good rule of thumb for letting the qubit relax into its thermal ground state is to wait for a time of around $3T_1$ after every measurement. However, as qubit lifetimes increase with further improvements in the qubit-fabrication processes, this reset waiting time becomes prohibitively long, leading to a idling overhead in quantum computation. For example, with a lifetime of $T_1 = 100 \\mu$s, a simple Rabi experiment with 10 points and 4096 averages per point, already results in a total measurement time of around 12 seconds. \n",
    "\n",
    "Active reset is a technique that uses the discrimination and feedback logic in our instruments in order to prepare a qubit in its true ground state with minimal waiting time given by the processing latency of the instruments. A diagram of the three-step active reset process is shown in Figure 1 below. The measured signal carrying information about the qubit response is received by the Quantum Analyzer (QA), where, in the first step, it is integrated with the complex weights . Then, in a second step, the integration result is sent to the discrimination unit of the instrument, which classifies the complex value of the integrated signal into one of the qudit states (0, 1, 2 …) depending on the discrimination thresholds and other settings with which the discrimination unit was configured. Finally, in the last step, the discrimination results is fed back to the Signal Generator (SG) instrument, which has been configured to play back the correct pulse to reset the qubit into the ground state. \n",
    "\n",
    "<br>\n",
    "\n",
    "<img src=\"../../../images/tuneup_active_reset/00_active_reset_diagram.png\" width=\"600\">\n",
    "\n",
    "Below, we provide a step-by-step guide for tuning up active reset on a qutrit. The procedure is the same for qubits; simply pass `states=\"ge\"` in the measurements below instead of `states=\"gef\"`."
   ]
  },
  {
   "cell_type": "markdown",
   "metadata": {},
   "source": [
    "## Getting Started\n",
    "\n",
    "We will start by [defining our experimental setup](#Define-your-experimental-setup), [connecting to the LabOne Q Session](#Connect-to-Session), and [creating a FolderStore to save our data](#Create-a-FolderStore-for-saving-data).\n",
    "\n",
    "But first, we import `numpy`, `deepcopy`, and  `laboneq.simple`, and the following experiments workflows from `laboneq_applications`: dispersive shift, IQ blobs, IQ blobs, time traces, amplitude Rabi."
   ]
  },
  {
   "cell_type": "code",
   "execution_count": null,
   "metadata": {},
   "outputs": [],
   "source": [
    "from copy import deepcopy\n",
    "\n",
    "import numpy as np\n",
    "from laboneq.simple import *\n",
    "\n",
    "from laboneq_applications.experiments import (\n",
    "    amplitude_rabi,\n",
    "    dispersive_shift,\n",
    "    iq_blobs,\n",
    "    time_traces,\n",
    ")"
   ]
  },
  {
   "cell_type": "markdown",
   "metadata": {},
   "source": [
    "### Define your experimental setup\n",
    "\n",
    "Let's define our experimental setup. We will need:\n",
    "\n",
    "* a [DeviceSetup](https://docs.zhinst.com/labone_q_user_manual/core/functionality_and_concepts/00_device_setup/concepts/00_set_up_equipment.html#devicesetup)\n",
    "\n",
    "* `n` [TunableTransmonQubits](https://docs.zhinst.com/labone_q_user_manual/applications_library/reference/qpu_types/tunable_transmon.html#laboneq_applications.qpu_types.tunable_transmon.TunableTransmonQubit)\n",
    "\n",
    "* a set of [TunableTransmonOperations](https://docs.zhinst.com/labone_q_user_manual/applications_library/reference/qpu_types/tunable_transmon.html#laboneq_applications.qpu_types.tunable_transmon.TunableTransmonOperations)\n",
    "\n",
    "* a [QPU](https://docs.zhinst.com/labone_q_user_manual/core/reference/dsl/quantum.html#laboneq.dsl.quantum.qpu.QPU)"
   ]
  },
  {
   "cell_type": "markdown",
   "metadata": {},
   "source": [
    "Here, we will be brief. We will mainly provide the code to obtain these objects. To learn more, check out these other tutorials:\n",
    "\n",
    "* Details about [defining your experimental setup](https://docs.zhinst.com/labone_q_user_manual/applications_library/tutorials/sources/getting_started.html)\n",
    "\n",
    "* [Qubit parameters and how quantum operations use them](https://docs.zhinst.com/labone_q_user_manual/applications_library/tutorials/sources/quantum_operations.html)\n",
    "\n",
    "* [Quantum operations in general](https://docs.zhinst.com/labone_q_user_manual/core/functionality_and_concepts/03_sections_pulses_and_quantum_operations/concepts/08_quantum_operations.html)\n",
    "\n",
    "* [Logbooks and data saving with Workflows](https://docs.zhinst.com/labone_q_user_manual/applications_library/tutorials/sources/logbooks.html)"
   ]
  },
  {
   "cell_type": "markdown",
   "metadata": {},
   "source": [
    "We will use 3 `TunableTransmonQubits` in this guide. Change this number to the one describing your setup."
   ]
  },
  {
   "cell_type": "code",
   "execution_count": null,
   "metadata": {},
   "outputs": [],
   "source": [
    "number_of_qubits = 3"
   ]
  },
  {
   "cell_type": "markdown",
   "metadata": {},
   "source": [
    "#### DeviceSetup\n",
    "\n",
    "This guide requires a setup that can drive and readout tunable transmon qubits. Your setup could contain an SHFQC+ instrument, or an SHFSG and an SHFQA instruments. Here, we will use an SHFQC+ with 6 signal generation channels and a PQSC. \n",
    "\n",
    "If you have used LabOne Q before and already have a `DeviceSetup` for your setup, you can reuse that. \n",
    "\n",
    "If you do not have a `DeviceSetup`, you can create one using the code below. Just change the device numbers to the ones in your rack and adjust any other input parameters as needed."
   ]
  },
  {
   "cell_type": "code",
   "execution_count": null,
   "metadata": {},
   "outputs": [],
   "source": [
    "# Setting get_zsync=True below, automatically detects the zsync ports of the PQCS that\n",
    "# are used by the other instruments in this descriptor.\n",
    "# Here, we are not connected to instruments, so we set this flag to False.\n",
    "from laboneq.contrib.example_helpers.generate_descriptor import generate_descriptor\n",
    "\n",
    "descriptor = generate_descriptor(\n",
    "    pqsc=[\"DEV10001\"],\n",
    "    shfqc_6=[\"DEV12001\"],\n",
    "    number_data_qubits=number_of_qubits,\n",
    "    multiplex=True,\n",
    "    number_multiplex=number_of_qubits,\n",
    "    include_cr_lines=False,\n",
    "    get_zsync=False,  # set to True when at a real setup\n",
    "    ip_address=\"localhost\",\n",
    ")\n",
    "setup = DeviceSetup.from_descriptor(descriptor, \"localhost\")"
   ]
  },
  {
   "cell_type": "markdown",
   "metadata": {},
   "source": [
    "#### Qubits\n",
    "\n",
    "We will generate 3 `TunableTransmonQubits` from the logical signal groups in our `DeviceSetup`. The names of the logical signal groups, `q0`, `q1`, `q2`, will be the UIDs of the qubits. Moreover, the qubits will have the same logical signal lines as the ones of the logical signal groups in the `DeviceSetup`."
   ]
  },
  {
   "cell_type": "code",
   "execution_count": null,
   "metadata": {},
   "outputs": [],
   "source": [
    "from laboneq_applications.qpu_types.tunable_transmon import (\n",
    "    TunableTransmonQubit,\n",
    ")\n",
    "\n",
    "qubits = TunableTransmonQubit.from_device_setup(setup)"
   ]
  },
  {
   "cell_type": "code",
   "execution_count": null,
   "metadata": {},
   "outputs": [],
   "source": [
    "for q in qubits:\n",
    "    print(\"-------------\")\n",
    "    print(\"Qubit UID:\", q.uid)\n",
    "    print(\"Qubit logical signals:\")\n",
    "    for sig, lsg in q.signals.items():\n",
    "        print(f\"  {sig:<10} ('{lsg:>10}')\")"
   ]
  },
  {
   "cell_type": "markdown",
   "metadata": {},
   "source": [
    "Configure the qubit parameters to reflect the properties of the qubits on your QPU using the following code:"
   ]
  },
  {
   "cell_type": "code",
   "execution_count": null,
   "metadata": {},
   "outputs": [],
   "source": [
    "for q in qubits:\n",
    "    q.parameters.ge_drive_pulse[\"sigma\"] = 0.25\n",
    "    q.parameters.readout_amplitude = 0.5\n",
    "    q.parameters.reset_delay_length = 200e-6\n",
    "    q.parameters.readout_range_out = -25\n",
    "    q.parameters.readout_lo_frequency = 7.4e9\n",
    "\n",
    "qubits[0].parameters.drive_lo_frequency = 6.4e9\n",
    "qubits[0].parameters.resonance_frequency_ge = 6.3e9\n",
    "qubits[0].parameters.resonance_frequency_ef = 6.0e9\n",
    "qubits[0].parameters.readout_resonator_frequency = 7.0e9\n",
    "\n",
    "qubits[1].parameters.drive_lo_frequency = 6.4e9\n",
    "qubits[1].parameters.resonance_frequency_ge = 6.5e9\n",
    "qubits[1].parameters.resonance_frequency_ef = 6.3e9\n",
    "qubits[1].parameters.readout_resonator_frequency = 7.3e9\n",
    "\n",
    "qubits[2].parameters.drive_lo_frequency = 6.0e9\n",
    "qubits[2].parameters.resonance_frequency_ge = 5.8e9\n",
    "qubits[2].parameters.resonance_frequency_ef = 5.6e9\n",
    "qubits[2].parameters.readout_resonator_frequency = 7.2e9"
   ]
  },
  {
   "cell_type": "markdown",
   "metadata": {},
   "source": [
    "#### Quantum Operations\n",
    "\n",
    "Create the set of `TunableTransmonOperations`:"
   ]
  },
  {
   "cell_type": "code",
   "execution_count": null,
   "metadata": {},
   "outputs": [],
   "source": [
    "from laboneq_applications.qpu_types.tunable_transmon import TunableTransmonOperations\n",
    "\n",
    "qops = TunableTransmonOperations()"
   ]
  },
  {
   "cell_type": "markdown",
   "metadata": {},
   "source": [
    "#### QPU\n",
    "\n",
    "Create the `QPU` object from the qubits and the quantum operations"
   ]
  },
  {
   "cell_type": "code",
   "execution_count": null,
   "metadata": {},
   "outputs": [],
   "source": [
    "from laboneq.dsl.quantum import QPU\n",
    "\n",
    "qpu = QPU(qubits=qubits, quantum_operations=qops)"
   ]
  },
  {
   "cell_type": "markdown",
   "metadata": {},
   "source": [
    "#### Alternatively, load from a file\n",
    "\n",
    "If you you already have a `DeviceSetup` and a `QPU` stored in `.json` files, you can simply load them back using the code below:\n",
    "\n",
    "```python\n",
    "from laboneq import serializers\n",
    "\n",
    "setup = serializers.load(full_path_to_device_setup_file)\n",
    "qpu = serializers.load(full_path_to_qpu_file)\n",
    "\n",
    "qubits = qpu.qubits\n",
    "qops = qpu.quantum_operations\n",
    "```"
   ]
  },
  {
   "cell_type": "markdown",
   "metadata": {},
   "source": [
    "### Connect to Session\n",
    "\n",
    "Then, you'll connect to the `Session`. Here we connect to an emulated one:"
   ]
  },
  {
   "cell_type": "code",
   "execution_count": null,
   "metadata": {},
   "outputs": [],
   "source": [
    "session = Session(setup)\n",
    "session.connect(do_emulation=True)  # do_emulation=False when at a real setup"
   ]
  },
  {
   "cell_type": "markdown",
   "metadata": {},
   "source": [
    "### Create a FolderStore for Saving Data\n",
    "\n",
    "The experiment `Workflows` can automatically save the inputs and outputs of all their tasks to the folder path we specify when instantiating a `FolderStore`; the the [tutorial on Recording Experiment Workflow Results](https://docs.zhinst.com/labone_q_user_manual/applications_library/tutorials/sources/logbooks.html) for details. \n",
    "\n",
    "Here, we choose the current working directory."
   ]
  },
  {
   "cell_type": "code",
   "execution_count": null,
   "metadata": {},
   "outputs": [],
   "source": [
    "# import FolderStore from the `workflow` namespace of LabOne Q, which was imported\n",
    "# from `laboneq.simple`\n",
    "from pathlib import Path\n",
    "\n",
    "folder_store = workflow.logbook.FolderStore(Path.cwd())"
   ]
  },
  {
   "cell_type": "markdown",
   "metadata": {},
   "source": [
    "We disable saving in this guide. To enable it, simply run `folder_store.activate()`."
   ]
  },
  {
   "cell_type": "code",
   "execution_count": null,
   "metadata": {},
   "outputs": [],
   "source": [
    "folder_store.deactivate()"
   ]
  },
  {
   "cell_type": "markdown",
   "metadata": {},
   "source": [
    "### Optional: Configure the LoggingStore\n",
    "\n",
    "You can also activate/deactivate the `LoggingStore`, which is used for displaying the `Workflow` logging information in the notebook; see again the [tutorial on Recording Experiment Workflow Results](https://docs.zhinst.com/labone_q_user_manual/applications_library/tutorials/sources/logbooks.html) for details. \n",
    "\n",
    "Displaying the `Workflow` logging information is activated by default, but here we deactivate it to shorten the outputs, which are not very meaningful in emulation mode. \n",
    "\n",
    "**We recommend that you do not deactivate the Workflow logging in practice.**"
   ]
  },
  {
   "cell_type": "code",
   "execution_count": null,
   "metadata": {},
   "outputs": [],
   "source": [
    "from laboneq.workflow.logbook import LoggingStore\n",
    "\n",
    "logging_store = LoggingStore()\n",
    "logging_store.deactivate()"
   ]
  },
  {
   "cell_type": "markdown",
   "metadata": {},
   "source": [
    "### Readout tune-up \n",
    "\n",
    "The active-reset tune-up procedure begins with tuning up the readout performance to achieve the highest measurement fidelity. As described [above](#Background), a successful active reset protocol relies on having an accurate qubit-state discrimination process. Hence, having a high readout fidelity $>90\\%$ is important.\n",
    "\n",
    "We start by calibrating the readout frequency to obtain the maximum discrimination between the prepared qubit states."
   ]
  },
  {
   "cell_type": "markdown",
   "metadata": {},
   "source": [
    "#### Optimal Readout Frequency"
   ]
  },
  {
   "cell_type": "markdown",
   "metadata": {},
   "source": [
    "Find the optimal readout frequency from a dispersive shift measurement. To this end, we measure the response of the readout resonator when the qubit is prepared in the states g, e, and then f. \n",
    "\n",
    "Expect a result like this:\n",
    "\n",
    "![](../../../images/tuneup_active_reset/01_dispersive_shift.png \"Analysis results from a dispersive-shift measurement on the qutrit states g, e, f. Left: Magnitude of the transmission signal through the readout feedline as a function of the signal frequency when the qutrit is prepared in g (blue), e (orange), and f (green). Right: Absolute value of the pairwise difference between the transmission traces shown on the left. The points and vertical lines indicate the maximum points on each curve.\")"
   ]
  },
  {
   "cell_type": "markdown",
   "metadata": {},
   "source": [
    "The optimal readout frequency is that at which we get the best discrimination between the qubit states. This is given by the frequency at which we get the maximum separation between the resonator lineshapes obtained when the qubit is prepared in different states. In the plot on the left, this occurs at around 7.223 GHz, where the vertical separation between the three lines is maximal (as shown by the red line in the plot on the right). "
   ]
  },
  {
   "cell_type": "code",
   "execution_count": null,
   "metadata": {
    "scrolled": true
   },
   "outputs": [],
   "source": [
    "options = dispersive_shift.experiment_workflow.options()\n",
    "options"
   ]
  },
  {
   "cell_type": "code",
   "execution_count": null,
   "metadata": {},
   "outputs": [],
   "source": [
    "qubit_to_measure = qubits[0]\n",
    "\n",
    "options = dispersive_shift.experiment_workflow.options()\n",
    "# options.close_figures(False)  # uncomment to display the analysis figures in the kernels\n",
    "options.update(True)\n",
    "\n",
    "exp_workflow = dispersive_shift.experiment_workflow(\n",
    "    session=session,\n",
    "    qpu=qpu,\n",
    "    qubit=qubit_to_measure,\n",
    "    frequencies=qubit_to_measure.parameters.readout_resonator_frequency + np.linspace(-50e6, 50e6, 121),\n",
    "    states=\"gef\",\n",
    "    options=options\n",
    ")\n",
    "workflow_result = exp_workflow.run()"
   ]
  },
  {
   "cell_type": "markdown",
   "metadata": {},
   "source": [
    "#### IQ-Blobs Measurement"
   ]
  },
  {
   "cell_type": "markdown",
   "metadata": {},
   "source": [
    "Estimate the readout fidelity from the correct state assignment probability matrix by doing a single-shot-readout measurement. Prepare the qubit in g, e, f and acquire using `AveragingMode.SINGLE_SHOT`.\n",
    "\n",
    "The automated analysis calculates the assignment probability matrix and estimates the readout fidelity (also referred to here as the average assignment fidelity, $F_{avg}$.\n",
    "\n",
    "Expect a result like this:\n",
    "\n",
    "![](../../../images/tuneup_active_reset/02_iq_blobs.png \"Analysis results from an IQ-blobs measurement on the qutrit states g, e, f. Left: Imaginary part as a function of the real part of individuals acquisition shots obtained when the qutrit is prepared in g (blue), e (orange), and f (green). The lines represent the optimal thresholds between the distributions of shots. Right: Correct state assignment probability matrix calculated from classifying the single-shot results into the qutrit states g, e, f. $F_{avg}$ is the average correct assignment fidelity calculated as the average of the values shown on the diagonal.\")"
   ]
  },
  {
   "cell_type": "code",
   "execution_count": null,
   "metadata": {},
   "outputs": [],
   "source": [
    "qubit_to_measure = qubits[0]\n",
    "\n",
    "options = iq_blobs.experiment_workflow.options()\n",
    "# options.close_figures(False)  # uncomment to display the analysis figures in the kernels\n",
    "options.count(2**12)\n",
    "\n",
    "exp_workflow = iq_blobs.experiment_workflow(\n",
    "    session=session,\n",
    "    qpu=qpu,\n",
    "    qubits=qubit_to_measure,\n",
    "    states=\"gef\",\n",
    "    options=options\n",
    ")\n",
    "workflow_result = exp_workflow.run()"
   ]
  },
  {
   "cell_type": "markdown",
   "metadata": {},
   "source": [
    "As mentioned [above](#Readout-tune-up), aim to obtain an average correct assignment fidelity ($F_{avg}$) greater than 90% before moving on with the tune-up of active reset. This fidelity depends on both the readout pulse amplitude and length. Find the optimal values of these parameters that give the higher readout fidelity."
   ]
  },
  {
   "cell_type": "markdown",
   "metadata": {},
   "source": [
    "#### Optimal Weights\n",
    "\n",
    "Next, we want to find the integration weights that results in the best discrimination between the basis states of the qubit, and which allow us to perform multi-state discrimination.\n",
    "\n",
    "As shown in the figure at [the top of this notebook](#Background), the first processing stage in the active-reset process is a weighted integration of the acquired signal with the complex weights $w$ (often referred to as integration kernels). In the simplest case, we can set the integration weights to the real and imaginary components of a square pulse with a fixed length (maximum $2\\mu$s for the QA) modulated at the readout IF frequency chosen as $f_{IF}=f_{RO}-f_{LO}$. Here, $f_{RO}$ is the readout frequency of the qubit, and $f_{LO}$ is the readout LO frequency for that qubit.  "
   ]
  },
  {
   "cell_type": "markdown",
   "metadata": {},
   "source": [
    "By default, each qubit has this simple integration kernel, is constructed as a constant pulse using the pulse functional `pulse_library.const` with `amplitude = 1`, and the length given by the qubit parameter:"
   ]
  },
  {
   "cell_type": "code",
   "execution_count": null,
   "metadata": {},
   "outputs": [],
   "source": [
    "qubits[0].parameters.readout_integration_length"
   ]
  },
  {
   "cell_type": "markdown",
   "metadata": {},
   "source": [
    "This constant pulse is then modulated at the chosen IF frequency, which is stored in the qubit parameter:"
   ]
  },
  {
   "cell_type": "code",
   "execution_count": null,
   "metadata": {},
   "outputs": [],
   "source": [
    "qubits[0].parameters.readout_frequency  # = qubits[0].parameters.readout_resonator_frequency - qubits[0].parameters.readout_lo_frequency"
   ]
  },
  {
   "cell_type": "markdown",
   "metadata": {},
   "source": [
    "This modulation is done in software in order to allow multiplexed acquisition on the same QA unit, and is enabled inside the qubit calibration by setting `ModulationType.SOFTWARE` to the acquire-line oscillator (added automatically upon creation of the qubit):\n",
    "\n",
    "```\n",
    "cal[f\"acquire_{qubit.uid}\"] = SignalCalibration(\n",
    "    oscillator = Oscillator(\n",
    "        uid=f\"{qubit.uid}_acquire_osc\",\n",
    "        frequency=self.parameters.readout_frequency,\n",
    "        modulation_type=ModulationType.SOFTWARE,\n",
    "    )\n",
    ")\n",
    "```"
   ]
  },
  {
   "cell_type": "markdown",
   "metadata": {},
   "source": [
    "Since the readout pulse used to probe the qubit is also modulated at $f_{IF}$, the weighted integration step implements a demodulation of the acquired signal to DC. However, this demodulation process is not necessarily optimal for obtaining the best distinguishability between the readout signals for different qubit states. The so-called optimal weights which achieve this maximal distinguishability can be calculated from the measured time-traces $r_{s_i}$ of the qubit response when the qubit is prepared in the basis states that will be used for discrimination. \n",
    "\n",
    "\n",
    "We measure these time traces by preparing the qubit in g, e, f and acquiring the signal response in time using `AcquisitionType.RAW`. Expect a result like this:\n",
    "\n",
    "<img src=../../../images/tuneup_active_reset/03_time_traces.png width=\"400\" align=\"left\">"
   ]
  },
  {
   "cell_type": "markdown",
   "metadata": {},
   "source": [
    "The last panel in the image above shows the extracted integration weights. The integration weights are calculated as $w_{i,j}=\\overline{r_{s_i}=r_{s_j}}$, with $i, j \\in {0, 1, 2, ..., n-1}$ denoting the $n$ qudit states, and $j>i$. The horizontal line denotes complex conjugation. In total, $N_w = n(n-1)/2$ integration weights are needed for distinguishing between $n$ qudit states. For example, for the qutrit case with $n=3$, we obtain the three weights $w_{0,1}=\\overline{r_{s_0} - r_{s_1}}$, $w_{0,2}=\\overline{r_{s_0} - r_{s_2}}$, and $w_{1,2}=\\overline{r_{s_1} - r_{s_2}}$, with $r_{s_0}, r_{s_1}, r_{s_2}$ denoting the time-traces for the qutrit states g (0), e (1), f (2); see the top two panels of the image above, where we show the real and imaginary components of the measured time-traces for the states g, e, f. We've used $2^{18}$ averages, a readout-pulse length of $800$ ns and an integration length of $1~\\mu$s. \n",
    "\n",
    "Notice that $w_{1,2}=w_{0,2}-w_{0,1}$. Hence, only $w_0,1$ and $w_{0,2}$ need to be obtained from a measurement, and the remaining integration weight $w_{1,2}$ can be calculated. In general, only $n-1$ of the total of $N_w$ integration weights need to be measured, and the rest can be calculated from the pairwise differences of these measured weights. This feature is used by our instruments to enable efficient multi-state discrimination. The bottom panel in the figure above shows the two integration weights needed for discriminating a qutrit, $w_1=w_{0,1}$ and $w_2=w_{0,2}$."
   ]
  },
  {
   "cell_type": "markdown",
   "metadata": {},
   "source": [
    "The time-traces experiment workflow provided by the Applications Library measures the time traces and calculates both the optimal integration kernels $w_1,~w_2$ and the discrimination thresholds. The latter are computed as the pairwise average between the three points in the IQ plane obtained from a weighted integration of the measured time traces with the calculated weights:\n",
    "\n",
    "$$ v_{th,i} = \\cfrac{1}{2} \\bigg( \\sum_k w_{i,k} \\cdot r_{s_0,k} + \\sum_j w_{i,k} \\cdot r_{s_1,k} \\bigg).$$\n",
    "\n",
    "In the equation above, $r_{s_0}$ and $r_{s_1}$ are the measured time-traces for the qudit states $s_0,s_1 \\in {g, e, f, h}$, and $w_i$ is the integration weight calculated from the time-traces $r_{s_0}$ and $r_{s_1}$. The sums are over the samples $k$ of the numerical traces and weights. \n",
    "\n",
    "Hence, the thresholds are calculated assuming equal thermal noise for the two states , which can result in a suboptimal threshold value in the case of low signal-to-noise ratio, when the distributions of the two states have significant overlap. \n",
    "\n",
    "For $n$ discrimination states, we obtain $N_{th} = N_w = n(n-1)/2$ threshold values: as many as the total number of integration weights $N_w$. By using several acquire lines for each qubit and the calculated thresholds, we can discriminate between the $n$ qudit states during data analysis. However, the SHFQA instrument has the capability to automatically perform this multi-state discrimination and classification for every acquired shot in real-time. Below, we summarise the explanation of this process provided in the [SHFQA User’s Manual](https://docs.zhinst.com/shfqa_user_manual/functional_description/qa_setup_tab.html?h=assignment+matrix#shfqa_fig_readout_result_data_processing_qubit) and show experimental results for the multi-state discrimination of a qutrit ($n=3$)."
   ]
  },
  {
   "cell_type": "markdown",
   "metadata": {},
   "source": [
    "The multi-state discrimination functionality in the SHFQA instrument classifies a signal integrated with $n-1$ weights into $n$ qudit states using $N_{th}$ discrimination thresholds and an assignment matrix specifying how the integrated signal is to be interpreted with respect to the discrimination thresholds; for example, for a qubit ($n=2$), whether $v_{sig} < v_{th}$ corresponds to state 0 or state 1, and vice versa. The process uses $N_{IU}=n-1$ integration units of the SHFQA and $N_{th}$ thresholding units. The remaining $N_{diff}=N_{th}-N_w=(n-1)(n-2)/2$ results needed by the thresholding units are calculated from the pairwise differences of the $N_{IU}$ integrated results. Thus, for example for a qutrit ($n=3$ states), $N_{IU}=2$ integration units are used and the remaining $N_{diff}=1$ result is calculated from the difference between the two integrated results; see the figure below. Finally, the thresholded results are passed to the assignment matrix, which returns a value $b\\in \\{ 0, 1, 2, ...\\}$, corresponding to one of the $n$ qudit states $\\{ g, e, f, ...\\}$.\n",
    "\n",
    "<img src=\"../../../images/tuneup_active_reset/04_msd.png\" width=\"600\">"
   ]
  },
  {
   "cell_type": "markdown",
   "metadata": {},
   "source": [
    "The SHFQA instrument supports discrimination of up to $n=4$ basis states; see the [SHFQA User’s Manual](https://docs.zhinst.com/shfqa_user_manual/functional_description/qa_setup_tab.html?h=assignment+matrix#shfqa_fig_readout_result_data_processing_qubit). For $n\\in \\{2,3,4\\}$, we give the values for $N_w$, $N_{IU}$, $N_{th}$, and in the table below.\n",
    "\n",
    "| Number of basis states,<br>$n$ | Number if time traces<br>that need to be measured,<br>$N_{tr}=n$ | Int. weights uploaded to QA <br> (i. e. number of int. units <br> needed for discrimination),<br>$N_{UI}=n-1$| Total number of int. weights, <br>$N_w=n(n-1)/2$ | Thresholding units <br> needed for discrimination,<br>$N_{th}=N_w$|\n",
    "| :-: | :-: | :-: | :-: | :-: |\n",
    "| 2 | 2 | 1 | 1 | 1 |\n",
    "| 3 | 3 | 2 | 3 | 3 |\n",
    "| 4 | 4 | 3 | 6 | 6 |"
   ]
  },
  {
   "cell_type": "markdown",
   "metadata": {},
   "source": [
    "The optimal integration kernels and discrimination thresholds are stored in the qubit parameters `readout_integration_kernels` and `readout_integration_discrimination_thresholds`, respectively. \n",
    "\n",
    "Running the time-traces experiment workflow with the configuration `options.update(True)` and `options.do_analysis(True)` (default) will update the two qubit parameters mentioned above with the new kernel and threshold values extracted from the analysis of the measurement. In addition, the qubit parameter `readout_integration_kernels_type` will be set to `optimal`, thus enabling the use of these optimal weights in all the weighted-integration based acquisitions of that qubit. To switch back to using the default square-shaped integration kernel, set  `readout_integration_kernels_type = \"default\"`. \n",
    "\n",
    "Let's run the time-traces experiment workflow!"
   ]
  },
  {
   "cell_type": "code",
   "execution_count": null,
   "metadata": {
    "scrolled": true
   },
   "outputs": [],
   "source": [
    "qubit_to_measure = qubits[0]\n",
    "\n",
    "options = time_traces.experiment_workflow.options()\n",
    "options.update(True)\n",
    "# options.close_figures(False)  # uncomment to display the analysis figures in the kernels\n",
    "options.count(2**16)  # You typically want as many averages as you can here to have good SNR in your weights\n",
    "\n",
    "# You can optionally choose to low-pass-filter the kernels in the analysis using the following options:\n",
    "# options.filter_kernels(True)\n",
    "# options.filter_cutoff_frequency(350e6)  # of the low-pass-filter\n",
    "# options.granularity(16)\n",
    "# options.sampling_rate(2e9)\n",
    "\n",
    "exp_workflow = time_traces.experiment_workflow(\n",
    "    session=session,\n",
    "    qpu=qpu,\n",
    "    qubits=qubit_to_measure,\n",
    "    states=\"gef\",\n",
    "    options=options\n",
    ")\n",
    "workflow_result = exp_workflow.run()"
   ]
  },
  {
   "cell_type": "markdown",
   "metadata": {},
   "source": [
    "Inspect the updated qubit parameters. Note that in emulation mode, the kernels are `nan`."
   ]
  },
  {
   "cell_type": "code",
   "execution_count": null,
   "metadata": {},
   "outputs": [],
   "source": [
    "qubit_to_measure.parameters.readout_integration_kernels"
   ]
  },
  {
   "cell_type": "code",
   "execution_count": null,
   "metadata": {},
   "outputs": [],
   "source": [
    "qubit_to_measure.parameters.readout_integration_discrimination_thresholds"
   ]
  },
  {
   "cell_type": "markdown",
   "metadata": {},
   "source": [
    "Check that `readout_integration_kernels_type` was set to \"optimal\":"
   ]
  },
  {
   "cell_type": "code",
   "execution_count": null,
   "metadata": {},
   "outputs": [],
   "source": [
    "qubit_to_measure.parameters.readout_integration_kernels_type"
   ]
  },
  {
   "cell_type": "markdown",
   "metadata": {},
   "source": [
    "Before proceeding with the tutorial, let's manually pass some numerical values to the `readout_integration_kernels` so the following measurements do not fail in emulation mode."
   ]
  },
  {
   "cell_type": "code",
   "execution_count": null,
   "metadata": {},
   "outputs": [],
   "source": [
    "nr_samples = len(qubit_to_measure.parameters.readout_integration_kernels[0][\"samples\"])\n",
    "qubit_to_measure.parameters.readout_integration_kernels[0][\"samples\"] = np.random.rand(nr_samples)\n",
    "qubit_to_measure.parameters.readout_integration_kernels[1][\"samples\"] = np.random.rand(nr_samples)"
   ]
  },
  {
   "cell_type": "markdown",
   "metadata": {},
   "source": [
    "### Understanding Optimal-Weights Acquisition"
   ]
  },
  {
   "cell_type": "markdown",
   "metadata": {},
   "source": [
    "To understand the effect of the optimal integration weights on the data acquisition process, let's compare the result of the IQ blobs measurement performed with the standard square-shaped weights and with the optimal weights. We start with the reference measurement, using the standard square-shaped weights; see the I-Q signal plane in the first panel of the figure below. Note that this is the same measurement that was described in section [IQ-Blobs Measurement](#IQ-Blobs-Measurement), but the data was obtained during a different cooldown cycle. \n",
    "\n",
    "![](../../../images/tuneup_active_reset/05_understanding_optimal_weights.png \"Single-shot acquisition of the qubit response when the qubit was prepared in the states g (blue), e (orange) and f (green), using (a) standard demodulation at the IF frequency, and the weights (b) w1 and (c) w2 from Figure 2(c). In each panel, the black circles represent the average over the points with the corresponding color. Note that the horizontal axes are different for the three panels. The green and orange outlier points are predominantly caused by energy relaxation.\")"
   ]
  },
  {
   "cell_type": "markdown",
   "metadata": {},
   "source": [
    "We repeat the IQ-blobs measurement using the optimal weights $w_1$. To do this, we temporarily set the qubit integration kernels to the first in the list:"
   ]
  },
  {
   "cell_type": "code",
   "execution_count": null,
   "metadata": {
    "scrolled": true
   },
   "outputs": [],
   "source": [
    "qubit_to_measure = qubits[0]\n",
    "\n",
    "options = iq_blobs.experiment_workflow.options()\n",
    "# options.close_figures(False)  # uncomment to display the analysis figures in the kernels\n",
    "options.count(2**12)\n",
    "\n",
    "# get the weights\n",
    "temp_pars = deepcopy(qubit_to_measure.parameters)\n",
    "temp_pars.readout_integration_kernels = [qubit_to_measure.parameters.readout_integration_kernels[0]]\n",
    "# set the threshold corresponding to the first integration kernel\n",
    "temp_pars.readout_integration_discrimination_thresholds = [qubit_to_measure.parameters.readout_integration_discrimination_thresholds[0]]\n",
    "\n",
    "exp_workflow = iq_blobs.experiment_workflow(\n",
    "    session=session,\n",
    "    qpu=qpu,\n",
    "    qubits=qubit_to_measure,\n",
    "    temporary_parameters={qubit_to_measure.uid: temp_pars},\n",
    "    states=\"gef\",\n",
    "    options=options\n",
    ")\n",
    "workflow_result = exp_workflow.run()"
   ]
  },
  {
   "cell_type": "markdown",
   "metadata": {},
   "source": [
    "If you run the measurement above, you should find that the distributions of points for the three qutrit states are rotated such that the distributions for the states g (blue) and e (orange) lie along the horizontal, real-signal axis. We show this in the middle panel of the figure above. \n",
    "\n",
    "Similarly, we can re-run the measurement using the weights $w_2$ by changing the index 0 to 1 in the code cell above. The result is that now the distributions for the states g (blue) and f (green) lie along the horizontal axis. We show this in the right-most panel in the figure above. \n",
    "\n",
    "In summary, the weights $w_{i,j}$ calculated from the qudit states $i,j$ ensure that a line drawn between the distribution of integrated signals for those states is parallel to the horizontal axis (as a result of conjugation), and that these distributions are maximally separated along this axis, resulting in the best distinguishability between the states $i,j$. "
   ]
  },
  {
   "cell_type": "markdown",
   "metadata": {},
   "source": [
    "### Enabling Multi-State Discrimination"
   ]
  },
  {
   "cell_type": "markdown",
   "metadata": {},
   "source": [
    "To enable an acquisition process that uses multi-state discrimination in LabOne Q, you simply need to pass the list of thresholds to the `threshold` parameter of the [SignalCalibration](https://docs.zhinst.com/labone_q_user_manual/core/functionality_and_concepts/02_logical_signals/tutorials/02_calibration.html#signal-calibration) of the acquire line, and use `AcquisitionType.DISCRIMINATION` in the real-time acquire loop.\n",
    "\n",
    "If you are using the Applications Library with `TunableTransmonQubit` objects like the ones we have in this notebook, then you only need to set the threshold values to the qubit parameter `readout_integration_discrimination_thresholds`. Doing this automatically ensures that the threshold value end up in the correct `SignalCalibration` property.\n",
    "\n",
    "Moreover, in the Applications Library the `AcquisitionType.DISCRIMINATION` mode can be easily enabled via the options in any experiment `Workflow`. We show this below for the IQ-blobs measurement:"
   ]
  },
  {
   "cell_type": "code",
   "execution_count": null,
   "metadata": {
    "scrolled": true
   },
   "outputs": [],
   "source": [
    "qubit_to_measure = qubits[0]\n",
    "\n",
    "options = iq_blobs.experiment_workflow.options()\n",
    "# options.close_figures(False)  # uncomment to display the analysis figures in the kernels\n",
    "options.count(2**12)\n",
    "\n",
    "# Enable the discrimination mode\n",
    "options.acquisition_type(AcquisitionType.DISCRIMINATION)\n",
    "# Analysis is not yet implemented for the discrimination mode\n",
    "# so we disabled the analysis routine here\n",
    "options.do_analysis(False)\n",
    "\n",
    "exp_workflow = iq_blobs.experiment_workflow(\n",
    "    session=session,\n",
    "    qpu=qpu,\n",
    "    qubits=qubit_to_measure,\n",
    "    states=\"gef\",\n",
    "    options=options\n",
    ")\n",
    "workflow_result = exp_workflow.run()"
   ]
  },
  {
   "cell_type": "markdown",
   "metadata": {},
   "source": [
    "With the optimal weights used to acquire the data shown in the section [Understanding Optimal-Weights Acquisition](#Understanding-Optimal-Weights-Acquisition), we obtain the following result when measuring the IQ-blobs with multi-state discrimination:\n",
    "\n",
    "<img src=\"../../../images/tuneup_active_reset/06_msd_data.png\" width=\"600\">\n",
    "\n",
    "We observe a state population of $p_g=0.01$ when preparing the ground state $|g\\rangle$, a population of $p_e=0.96$ when preparing the excited state $|e\\rangle$, and a population of $p_f=1.94$ when preparing the second-excited state $|f\\rangle$, resulting in an average correct-assignment fidelity of $96.6\\%$ for the discrimination process. Note that in the ideal case, $p_f=2$ because the $|f\\rangle$,-state is classified as the integer $2$; see the table in section [Active Reset](#Active-Reset) below. The fidelity of the discrimination process is limited by thermal population and energy relaxation. "
   ]
  },
  {
   "cell_type": "markdown",
   "metadata": {},
   "source": [
    "## Active Reset\n",
    "\n",
    "Refer back to the figure we have shown in the [Background section](#background). During active reset, the results of the multi-state discrimination process (the classified shot $b\\in\\{0,1,2,...\\}$) is passed back to the signal generator. The latter can be either the SG unit of an SHFQC instrument, an SHFSG instrument, or an HDAWG instrument. A reset pulse is then played back depending on the value of $b$ as follows: \n",
    "\n",
    "| Basis state, $s$ | Classified into, $b$ | Transitions to reset |\n",
    "| :-: | :-: | :-: | \n",
    "| $|g\\rangle$ | 0 | No reset needed. <br> Qutrit is in the ground state.|\n",
    "| $|e\\rangle$ | 0 | $|e\\rangle \\rightarrow |g\\rangle$ |\n",
    "| $|f\\rangle$ | 0 | $|f\\rangle \\rightarrow |e\\rangle \\rightarrow |g\\rangle$ |"
   ]
  },
  {
   "cell_type": "markdown",
   "metadata": {},
   "source": [
    "In the Applications Library, we provide a multi-qubit `active_reset` quantum operation, which can be used in any `Experiment`. Currently, you can find it in the `TunableTransmonOperations`. It implements active reset on qubits or qutrits.\n",
    "\n",
    "Let's have a look at its source code to see how active reset is implemented in LabOne Q."
   ]
  },
  {
   "cell_type": "code",
   "execution_count": null,
   "metadata": {},
   "outputs": [],
   "source": [
    "from laboneq_applications.qpu_types.tunable_transmon import TunableTransmonOperations\n",
    "\n",
    "qops = TunableTransmonOperations()"
   ]
  },
  {
   "cell_type": "code",
   "execution_count": null,
   "metadata": {
    "scrolled": true
   },
   "outputs": [],
   "source": [
    "qops.active_reset.src"
   ]
  },
  {
   "cell_type": "markdown",
   "metadata": {},
   "source": [
    "In a similar way, you can inspect the source code of any of the other operations used inside the `active_reset` operation to better understand the code.\n",
    "\n",
    "There is one subtlety about this implementation that is worth drawing attention to. As shown in the table above, resetting the qubit from the \"f\" state to the \"g\" state would ideally require two $\\pi$-pulses, first on the \"ef\" transition, and then on the \"ge\" transition. Because these pulses are modulated at different IF frequencies but are played back from the same physical output of the SG instrument, a fast oscillator switch is required between these two $\\pi$-pulses. However, this is not possible in a `Case` section. Hence, we cannot simply write:\n",
    "\n",
    "```python\n",
    "with dsl.case():\n",
    "    qops.x180(transition=\"ef\")\n",
    "    qops.x180(transition=\"ge\")\n",
    "```\n",
    "\n",
    "What we must do instead to avoid an oscillator switch, is to use a special \"ef\" $\\pi$-pulse which is software-modulated at the difference between the IF frequency of the \"ef\" transition and that of the \"ge\" transition. Then, the same instrument oscillator can be used for both pulses.\n",
    "\n",
    "In the `TunableTransmonOperations` this special operation is called `x180_ef_reset`. Let's inspect its source code:"
   ]
  },
  {
   "cell_type": "code",
   "execution_count": null,
   "metadata": {},
   "outputs": [],
   "source": [
    "qops.x180_ef_reset.src"
   ]
  },
  {
   "cell_type": "markdown",
   "metadata": {},
   "source": [
    "Notice `reset_pulse` modulated at the difference between the IF frequencies of the \"ge\" and \"ef\" transitions.\n",
    "\n",
    "Notice also how the pulse is played on the qubit logical signal used for the \"ge\" drive, not the \"ef\" drive. This ensures that the same oscillator is used for both pulses. To learn more about the qubit method `.transition_parameters`, check out the [tutorial on qubit and quantum operations](https://docs.zhinst.com/labone_q_user_manual/applications_library/tutorials/sources/quantum_operations.html)."
   ]
  },
  {
   "cell_type": "markdown",
   "metadata": {},
   "source": [
    "The `active_reset` operation is integrated into all of the pulse-based experiment `Workflows` in the Applications Library. You can enable it via the options. Below, we show how to do this for an amplitude-Rabi experiment.\n",
    "\n",
    "\n",
    "You can also easily enable a threshold-discrimination-based acquisition by setting `options.acquisition_type(AcquisitionType.DISCRIMINATION)`.\n",
    "\n",
    "**Note**: `AcquisitionType.DISCRIMINATION` is not needed to enable active reset. The active reset protocol is enabled by setting the qubit parameter `readout_integration_discrimination_thresholds` and adding the `Match`-`Case` sections to the `Experiment` pulse sequence.\n",
    "\n",
    "**Note**: If you are using active reset, it makes sense to reduce the `reset_delay_length` to a few microseconds.\n",
    "\n",
    "Below, we show how to run an amplitude-Rabi experiment workflow with active reset on the qubit states \"g\" and \"e\". The fidelity of the active reset protocol is typically limited by qubit decay and the error of the state-discrimination process. Repeating the active reset protocol a few times increases the overall reset fidelity. Below, we apply 4 repetitions."
   ]
  },
  {
   "cell_type": "code",
   "execution_count": null,
   "metadata": {},
   "outputs": [],
   "source": [
    "options = amplitude_rabi.experiment_workflow.options()\n",
    "# options.close_figures(False)  # uncomment to display the analysis figures in the kernels\n",
    "options.count(2**12)\n",
    "# Enable and configure active reset\n",
    "options.active_reset(True)\n",
    "options.active_reset_repetitions(4)\n",
    "options.active_reset_states(\"ge\")\n",
    "\n",
    "\n",
    "qubit_to_measure = qubits[0]\n",
    "\n",
    "# Here we change the reset_delay_length only for this experiment.\n",
    "# If you continue to use active reset for all experiments, it might make sense to change the qubit parameter globally:\n",
    "# qubit.parameter.reset_delay_length = 1e-6\n",
    "temp_pars = deepcopy(qubit_to_measure.parameters)\n",
    "temp_pars.reset_delay_length = 1e-6\n",
    "\n",
    "\n",
    "workflow_result = amplitude_rabi.experiment_workflow(\n",
    "    session=session,\n",
    "    qpu=qpu,\n",
    "    qubits=qubit_to_measure,\n",
    "    temporary_parameters={qubit_to_measure.uid: temp_pars},\n",
    "    amplitudes=np.linspace(0, 1, 21),\n",
    "    options=options\n",
    ").run()"
   ]
  },
  {
   "cell_type": "markdown",
   "metadata": {},
   "source": [
    "With the optimal weights used to acquire the data shown in the section [Understanding Optimal-Weights Acquisition](#Understanding-Optimal-Weights-Acquisition), we have obtained the following results when measuring the amplitude-Rabi experiment with up to 4 active reset repetitions:\n",
    "\n",
    "\n",
    "<img src=\"../../../images/tuneup_active_reset/07_Rabi_ge_active_reset.png\" width=\"500\">"
   ]
  }
 ],
 "metadata": {
  "kernelspec": {
   "display_name": "Python 3 (ipykernel)",
   "language": "python",
   "name": "python3"
  },
  "language_info": {
   "codemirror_mode": {
    "name": "ipython",
    "version": 3
   },
   "file_extension": ".py",
   "mimetype": "text/x-python",
   "name": "python",
   "nbconvert_exporter": "python",
   "pygments_lexer": "ipython3",
   "version": "3.12.7"
  }
 },
 "nbformat": 4,
 "nbformat_minor": 4
}
