{
 "cells": [
  {
   "attachments": {},
   "cell_type": "markdown",
   "id": "fe2d00d7-c88e-4c5c-a2ca-8d6bc78ebe3e",
   "metadata": {
    "tags": []
   },
   "source": [
    "# Active Qudit Multistate Reset with SHF instruments\n",
    "\n",
    "In this notebook, you will learn how to execute active reset of a multistate qudit, i.e. active feedback based on real-time measurement of the qudit state. \n",
    "We require either a SHFQC instrument for this notebook or a combination of SHFSG and SHFQA connected via a PQSC. \n",
    "\n",
    "This demonstration runs without real qubits, assuming a loopback on the readout drive line directly into the readoud acquisition line. We emulate the different qubit states by up to four different readout measurement pulses, differing by a phase. \n",
    "To demonstrate real-time feedback, we first calibrate the state discrimintation unit for the four measurement pulses with which we choose to emulate the qudit response. Then we use this calibration to play an arbitrary simulated pattern of qudit states and demonstrate the real-time feedback capabilities of the instrument.  "
   ]
  },
  {
   "attachments": {},
   "cell_type": "markdown",
   "id": "4d4e7d0b-b53a-40e4-831c-236ed9d97c42",
   "metadata": {},
   "source": [
    "## 0. General Imports and Definitions"
   ]
  },
  {
   "attachments": {},
   "cell_type": "markdown",
   "id": "f3ecf2ff-f304-472a-b6d2-a50792a39a0d",
   "metadata": {
    "jp-MarkdownHeadingCollapsed": true,
    "tags": []
   },
   "source": [
    "### 0.1 Python Imports "
   ]
  },
  {
   "cell_type": "code",
   "execution_count": null,
   "id": "3514beeb",
   "metadata": {},
   "outputs": [],
   "source": [
    "import matplotlib.pyplot as plt\n",
    "import numpy as np\n",
    "from laboneq.analysis import calculate_integration_kernels_thresholds\n",
    "from laboneq.contrib.example_helpers.feedback_helper import (\n",
    "    create_calibration_experiment,\n",
    "    create_discrimination_experiment,\n",
    "    piecewise_modulated,\n",
    "    state_emulation_pulse,\n",
    ")\n",
    "from laboneq.contrib.example_helpers.generate_device_setup import (\n",
    "    generate_device_setup_qubits,\n",
    ")\n",
    "from laboneq.dsl.experiment.builtins import *\n",
    "\n",
    "# LabOne Q:\n",
    "from laboneq.simple import *"
   ]
  },
  {
   "cell_type": "markdown",
   "id": "48a37d71",
   "metadata": {},
   "source": [
    "# 1. Device setup and calibration"
   ]
  },
  {
   "attachments": {},
   "cell_type": "markdown",
   "id": "ce9078f7",
   "metadata": {},
   "source": [
    "## 1.1 Generate a calibrated Device Setup and qubit objects"
   ]
  },
  {
   "cell_type": "code",
   "execution_count": null,
   "id": "19a7e131",
   "metadata": {},
   "outputs": [],
   "source": [
    "feedback_type = \"global\"\n",
    "# feedback_type = \"local\"\n",
    "\n",
    "# specify the number of qubits you want to use\n",
    "number_of_qubits = 6\n",
    "\n",
    "# generate the device setup and the qubit objects using a helper function\n",
    "device_setup, qubits = generate_device_setup_qubits(\n",
    "    number_qubits=number_of_qubits,\n",
    "    pqsc=[{\"serial\": \"DEV10001\"}],\n",
    "    hdawg=[{\"serial\": \"DEV8001\", \"zsync\": 0, \"number_of_channels\": 8, \"options\": None}],\n",
    "    shfqc=[\n",
    "        {\n",
    "            \"serial\": \"DEV12001\",\n",
    "            \"zsync\": 1,\n",
    "            \"number_of_channels\": 6,\n",
    "            \"readout_multiplex\": 6,\n",
    "            \"options\": None,\n",
    "        }\n",
    "    ],\n",
    "    include_flux_lines=True,\n",
    "    server_host=\"localhost\",\n",
    "    setup_name=f\"my_{number_of_qubits}_tuneable_qubit_setup\",\n",
    ")\n",
    "\n",
    "q0, q1, q2, q3 = qubits[:4]"
   ]
  },
  {
   "cell_type": "markdown",
   "id": "e8952134",
   "metadata": {},
   "source": [
    "## 1.2 Adapt setup calibration\n",
    "\n",
    "In this notebook we are using pulses played from an additional set of measure lines to emulate the qudit being in the excited state. In this case we want to have the same instrument settings for the four used measurement lines. \n",
    "Additionally, for the method of readout weight calibration demonstrated in this notebook, the acquire line should not be modulated, as the calculated readout weights already contain the software modulation by construction."
   ]
  },
  {
   "cell_type": "code",
   "execution_count": null,
   "id": "ca08e999",
   "metadata": {},
   "outputs": [],
   "source": [
    "active_reset_calibration = Calibration()\n",
    "active_reset_calibration[\"/logical_signal_groups/q1/measure\"] = (\n",
    "    device_setup.get_calibration()[\"/logical_signal_groups/q0/measure\"]\n",
    ")\n",
    "active_reset_calibration[\"/logical_signal_groups/q2/measure\"] = (\n",
    "    device_setup.get_calibration()[\"/logical_signal_groups/q0/measure\"]\n",
    ")\n",
    "active_reset_calibration[\"/logical_signal_groups/q3/measure\"] = (\n",
    "    device_setup.get_calibration()[\"/logical_signal_groups/q0/measure\"]\n",
    ")\n",
    "active_reset_calibration[\"/logical_signal_groups/q0/acquire\"] = (\n",
    "    device_setup.get_calibration()[\"/logical_signal_groups/q0/acquire\"]\n",
    ")\n",
    "active_reset_calibration[\"/logical_signal_groups/q0/acquire\"].oscillator = None\n",
    "\n",
    "# print(active_reset_calibration)\n",
    "\n",
    "device_setup.set_calibration(active_reset_calibration)\n",
    "\n",
    "# print(device_setup.get_calibration())"
   ]
  },
  {
   "cell_type": "code",
   "execution_count": null,
   "id": "6bb93815",
   "metadata": {},
   "outputs": [],
   "source": [
    "# use emulation mode - no connection to instruments\n",
    "use_emulation = True\n",
    "\n",
    "# create and connect to a LabOne Q session\n",
    "my_session = Session(device_setup=device_setup)\n",
    "my_session.connect(do_emulation=use_emulation)"
   ]
  },
  {
   "attachments": {},
   "cell_type": "markdown",
   "id": "5bbb593c",
   "metadata": {},
   "source": [
    "## 2. Calibration of state discrimination\n",
    "\n",
    "We determine the optimal integration weights by measuring traces of the four qubit states (ground state, e, f, and h) and computing integration kernels using the toolkit routines. We simulate different qubit responses by playing pulses with different phases and amplitudes on the readout line. We have to make sure that the traces are a multiple of 16 samples long."
   ]
  },
  {
   "cell_type": "markdown",
   "id": "871dbf63",
   "metadata": {},
   "source": [
    "## 2.1 Obtain traces"
   ]
  },
  {
   "cell_type": "code",
   "execution_count": null,
   "id": "800948cd",
   "metadata": {},
   "outputs": [],
   "source": [
    "num_states = 4\n",
    "used_qubits = [q0, q1, q2, q3][:num_states]\n",
    "\n",
    "calibration_experiment = create_calibration_experiment(\n",
    "    state_emulation_pulse=state_emulation_pulse(),\n",
    "    qubit_states=range(num_states),\n",
    "    measure_signals=[q.signals[\"measure\"] for q in used_qubits],\n",
    "    acquire_signal=q0.signals[\"acquire\"],\n",
    ")\n",
    "\n",
    "calibration_results = my_session.run(calibration_experiment)\n",
    "\n",
    "calibration_traces = []\n",
    "for it in range(num_states):\n",
    "    trace = calibration_results.get_data(f\"raw_{it}\")\n",
    "    calibration_traces.append(trace[: (len(trace) // 16) * 16])\n",
    "\n",
    "\n",
    "# In emulation mode, the 'acquired' traces are all identical. Consequently, the computation of the optimal\n",
    "# discrimination weights will fail. Instead we 'patch' the traces with an artificial phase.\n",
    "if use_emulation:\n",
    "    for i in range(num_states):\n",
    "        phase = np.exp(2j * np.pi * i / num_states)\n",
    "        calibration_traces[i] *= phase"
   ]
  },
  {
   "cell_type": "markdown",
   "id": "723aebbbac37f74a",
   "metadata": {},
   "source": [
    "## 2.2 Compute kernels"
   ]
  },
  {
   "cell_type": "markdown",
   "id": "2b25ff75c68f506a",
   "metadata": {},
   "source": [
    "Using `calculate_integration_kernels_thresholds`, we get number of states minus 1 optimal integration kernels together with the optimal thresholds for state discrimination. "
   ]
  },
  {
   "cell_type": "code",
   "execution_count": null,
   "id": "4fd87e39",
   "metadata": {},
   "outputs": [],
   "source": [
    "# Calculate and plot kernels\n",
    "kernels, thresholds = calculate_integration_kernels_thresholds(calibration_traces)\n",
    "\n",
    "for i, k in enumerate(kernels):\n",
    "    plt.plot(k.samples.real, k.samples.imag, [\"ro-\", \"gx-\", \"b+-\"][i], alpha=0.2)"
   ]
  },
  {
   "cell_type": "code",
   "execution_count": null,
   "id": "06225520",
   "metadata": {},
   "outputs": [],
   "source": [
    "# set the thresholds in the acquire line calibration\n",
    "\n",
    "threshold_calibration = Calibration()\n",
    "threshold_calibration[\"/logical_signal_groups/q0/acquire\"] = SignalCalibration(\n",
    "    threshold=thresholds\n",
    ")\n",
    "\n",
    "device_setup.set_calibration(threshold_calibration)\n",
    "\n",
    "# print(device_setup.get_calibration())"
   ]
  },
  {
   "cell_type": "markdown",
   "id": "4d604275",
   "metadata": {},
   "source": [
    "## 2.3 Verify state discrimination"
   ]
  },
  {
   "cell_type": "code",
   "execution_count": null,
   "id": "64a8692b",
   "metadata": {},
   "outputs": [],
   "source": [
    "my_exp = create_discrimination_experiment(\n",
    "    measure_lines=[\n",
    "        q0.signals[\"measure\"],\n",
    "        q1.signals[\"measure\"],\n",
    "        q2.signals[\"measure\"],\n",
    "        q3.signals[\"measure\"],\n",
    "    ],\n",
    "    acquire_line=q0.signals[\"acquire\"],\n",
    "    kernels=kernels,\n",
    "    state_emulation_pulse=state_emulation_pulse,\n",
    "    thresholds=thresholds,\n",
    ")\n",
    "\n",
    "discrimination_results = my_session.run(my_exp)"
   ]
  },
  {
   "cell_type": "code",
   "execution_count": null,
   "id": "7bf97b40",
   "metadata": {},
   "outputs": [],
   "source": [
    "s0 = discrimination_results.get_data(\"data_0\").real\n",
    "s1 = discrimination_results.get_data(\"data_1\").real\n",
    "s2 = discrimination_results.get_data(\"data_2\").real\n",
    "s3 = discrimination_results.get_data(\"data_3\").real\n",
    "\n",
    "plt.plot(s0, \".b\")\n",
    "plt.plot(s1, \".r\")\n",
    "plt.plot(s2, \".g\")\n",
    "plt.plot(s3, \".k\")"
   ]
  },
  {
   "attachments": {},
   "cell_type": "markdown",
   "id": "38f12bb7",
   "metadata": {},
   "source": [
    "## 3. Feedback experiment\n",
    "\n",
    "Here, we create a real-time feedback demonstration that plays back a user defined sequence of \"qubit states\", i.e., a sequences of different measurement pulses emulating different qubit states. The measured qubit state after state discrimination is used in a real-time feedback section to play back one of four pulses. "
   ]
  },
  {
   "cell_type": "code",
   "execution_count": null,
   "id": "09581f4d",
   "metadata": {},
   "outputs": [],
   "source": [
    "# define pulses\n",
    "pulse_length = q0.parameters.user_defined[\"pulse_length\"]\n",
    "\n",
    "x90_eg = pulse_library.drag(uid=\"x90_eg\", length=pulse_length)\n",
    "\n",
    "x180_eg = pulse_library.sampled_pulse(\n",
    "    uid=\"x180_eg\",\n",
    "    samples=piecewise_modulated(\n",
    "        piece_length=[pulse_length],\n",
    "        piece_frequency=[0],\n",
    "        piece_amplitude=[0.3],\n",
    "    ),\n",
    ")\n",
    "x180_fg = pulse_library.sampled_pulse(\n",
    "    uid=\"x180_fg\",\n",
    "    samples=piecewise_modulated(\n",
    "        piece_length=[pulse_length, pulse_length],\n",
    "        piece_frequency=[-200e6, 0],\n",
    "        piece_amplitude=[0.6, 0.3],\n",
    "    ),\n",
    ")\n",
    "x180_hg = pulse_library.sampled_pulse(\n",
    "    uid=\"x180_hg\",\n",
    "    samples=piecewise_modulated(\n",
    "        piece_length=[pulse_length, pulse_length, pulse_length],\n",
    "        piece_frequency=[-400e6, -200e6, 0],\n",
    "        piece_amplitude=[0.9, 0.6, 0.3],\n",
    "    ),\n",
    ")"
   ]
  },
  {
   "cell_type": "code",
   "execution_count": null,
   "id": "1c1bc1c0",
   "metadata": {},
   "outputs": [],
   "source": [
    "plt.plot(x180_hg.samples.real)\n",
    "plt.plot(x180_fg.samples.real)\n",
    "plt.plot(x180_eg.samples.real)"
   ]
  },
  {
   "attachments": {},
   "cell_type": "markdown",
   "id": "879933eb",
   "metadata": {},
   "source": [
    "### 3.1 Define Experiment"
   ]
  },
  {
   "cell_type": "code",
   "execution_count": null,
   "id": "095b71ef",
   "metadata": {},
   "outputs": [],
   "source": [
    "def create_feedback_experiment(\n",
    "    feedback_pattern=\"0102 2313 1031\",\n",
    "    kernels=kernels,\n",
    "    num_average=4,\n",
    "    space_delay=400e-9,\n",
    "    pattern_delay=1000e-9,\n",
    "    acquire_delay=150e-9,\n",
    "    state_emulation_pulse=state_emulation_pulse,\n",
    "    reset_pulses=(x90_eg, x180_eg, x180_fg, x180_hg),\n",
    "    acquisition_type=AcquisitionType.DISCRIMINATION,\n",
    "):\n",
    "    # Pattern example: \"0102 2313 1031\"\n",
    "    # with:\n",
    "    # 0 - ground state\n",
    "    # 1 - first excited state\n",
    "    # 2 - second excited state\n",
    "    # 3 - third excited state\n",
    "    # (empty space) break between symbols\n",
    "\n",
    "    @experiment(\n",
    "        signals=[\n",
    "            \"drive\",\n",
    "            \"measure_g\",\n",
    "            \"measure_e\",\n",
    "            \"measure_f\",\n",
    "            \"measure_h\",\n",
    "            \"acquire\",\n",
    "        ]\n",
    "    )\n",
    "    def exp():\n",
    "        map_signal(\"drive\", q0.signals[\"drive\"])\n",
    "        map_signal(\"measure_g\", q0.signals[\"measure\"])\n",
    "        map_signal(\"measure_e\", q1.signals[\"measure\"])\n",
    "        map_signal(\"measure_f\", q2.signals[\"measure\"])\n",
    "        map_signal(\"measure_h\", q3.signals[\"measure\"])\n",
    "        map_signal(\"acquire\", q0.signals[\"acquire\"])\n",
    "\n",
    "        measure_emulation_pulse = state_emulation_pulse()\n",
    "\n",
    "        with acquire_loop_rt(\n",
    "            count=num_average,\n",
    "            acquisition_type=acquisition_type,\n",
    "            uid=\"shots\",\n",
    "        ):\n",
    "            # iterate over the letters of the given pattern\n",
    "            last = None\n",
    "            identifier = 0\n",
    "            for identifier, letter in enumerate(feedback_pattern):\n",
    "                if letter == \" \":\n",
    "                    with section(uid=f\"delay_{identifier}\", play_after=last):\n",
    "                        delay(signal=\"drive\", time=space_delay)\n",
    "                    last = f\"delay_{identifier}\"\n",
    "                    continue\n",
    "                # emulate qubit state by playing different measurement pulses based on pattern\n",
    "                with section(uid=f\"measure_{identifier}\", play_after=last):\n",
    "                    idx = {\"0\": 0, \"1\": 1, \"2\": 2, \"3\": 3}[letter]\n",
    "                    line = [\"measure_g\", \"measure_e\", \"measure_f\", \"measure_h\"][idx]\n",
    "                    play(\n",
    "                        signal=line,\n",
    "                        pulse=measure_emulation_pulse.pulse,\n",
    "                        phase=measure_emulation_pulse.pulse_phase(qubit_state=idx),\n",
    "                        amplitude=measure_emulation_pulse.pulse_amplitude(\n",
    "                            qubit_state=idx\n",
    "                        ),\n",
    "                    )\n",
    "                    acquire(signal=\"acquire\", handle=\"qubit_state\", kernel=kernels)\n",
    "                    last = f\"measure_{identifier}\"\n",
    "                # delay after state discrimination and before reset pulse playback\n",
    "                if acquire_delay > 0:\n",
    "                    with section(uid=f\"acquire_delay_{identifier}\", play_after=last):\n",
    "                        reserve(signal=\"acquire\")\n",
    "                        delay(signal=\"drive\", time=acquire_delay)\n",
    "                        last = f\"acquire_delay_{identifier}\"\n",
    "                # real-time feedback, fetching the measurement data identified by handle from the QA unit specified in the descriptor\n",
    "                # determines automatically if local (SHFQC only) of global (through PQSC) feedback path is to be used\n",
    "                with match(\n",
    "                    uid=f\"feedback_{identifier}\", handle=\"qubit_state\", play_after=last\n",
    "                ):\n",
    "                    with case(state=0):\n",
    "                        play(signal=\"drive\", pulse=reset_pulses[0])\n",
    "                    with case(state=1):\n",
    "                        play(signal=\"drive\", pulse=reset_pulses[1])\n",
    "                    if len(kernels) > 1:\n",
    "                        with case(state=2):\n",
    "                            play(signal=\"drive\", pulse=reset_pulses[2])\n",
    "                    if len(kernels) > 2:\n",
    "                        with case(state=3):\n",
    "                            play(signal=\"drive\", pulse=reset_pulses[3])\n",
    "                    last = f\"feedback_{identifier}\"\n",
    "            # introduce a delay between repetitions of the pattern, for visual distinction\n",
    "            with section(uid=f\"pattern_delay{identifier}\", play_after=last):\n",
    "                delay(signal=\"drive\", time=pattern_delay)\n",
    "            last = f\"pattern_delay{identifier}\"\n",
    "\n",
    "    return exp()"
   ]
  },
  {
   "attachments": {},
   "cell_type": "markdown",
   "id": "8fbdf1f3",
   "metadata": {},
   "source": [
    "### 3.2 Run experiment"
   ]
  },
  {
   "cell_type": "code",
   "execution_count": null,
   "id": "698c049c",
   "metadata": {},
   "outputs": [],
   "source": [
    "my_feedback_exp = create_feedback_experiment(feedback_pattern=\"0102 2313 1031\")"
   ]
  },
  {
   "cell_type": "code",
   "execution_count": null,
   "id": "fc7e15b3",
   "metadata": {},
   "outputs": [],
   "source": [
    "# compile experiment\n",
    "my_compiled_exp = my_session.compile(my_feedback_exp)"
   ]
  },
  {
   "cell_type": "code",
   "execution_count": null,
   "id": "cc52e915",
   "metadata": {},
   "outputs": [],
   "source": [
    "# run experiment and get the results\n",
    "my_results = my_session.run(my_compiled_exp)"
   ]
  },
  {
   "cell_type": "code",
   "execution_count": null,
   "id": "21a5ecc2",
   "metadata": {},
   "outputs": [],
   "source": [
    "## Look at th pulse sheet - feedback is characterised by multiple simultaneous sections\n",
    "# show_pulse_sheet(\"feedback_experiment\", my_compiled_exp)"
   ]
  }
 ],
 "metadata": {
  "kernelspec": {
   "display_name": "repo",
   "language": "python",
   "name": "python3"
  },
  "language_info": {
   "codemirror_mode": {
    "name": "ipython",
    "version": 3
   },
   "file_extension": ".py",
   "mimetype": "text/x-python",
   "name": "python",
   "nbconvert_exporter": "python",
   "pygments_lexer": "ipython3",
   "version": "3.10.0"
  },
  "orig_nbformat": 4
 },
 "nbformat": 4,
 "nbformat_minor": 5
}
