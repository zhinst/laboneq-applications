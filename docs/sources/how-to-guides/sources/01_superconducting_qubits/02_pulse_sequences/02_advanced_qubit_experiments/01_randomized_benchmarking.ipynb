{
 "cells": [
  {
   "attachments": {},
   "cell_type": "markdown",
   "id": "dd656230",
   "metadata": {},
   "source": [
    "# Randomized Benchmarking\n",
    "\n",
    "An advanced use case example - Randomized benchmarking using the Clifford group\n",
    "\n",
    "One applies random sequences of Clifford gates for different sequence lengths followed by a recovery gate - the resulting decay of the state fidelity as function of sequence length is a measure of overall gate fidelity"
   ]
  },
  {
   "attachments": {},
   "cell_type": "markdown",
   "id": "fad0c51b",
   "metadata": {},
   "source": [
    "## 0. General Imports and Definitions"
   ]
  },
  {
   "attachments": {},
   "cell_type": "markdown",
   "id": "7b01c7db",
   "metadata": {},
   "source": [
    "### 0.1 Python Imports"
   ]
  },
  {
   "cell_type": "code",
   "execution_count": null,
   "id": "3e772d8d",
   "metadata": {},
   "outputs": [],
   "source": [
    "from __future__ import annotations\n",
    "\n",
    "import matplotlib.pyplot as plt\n",
    "import numpy as np\n",
    "from laboneq.contrib.example_helpers.plotting.plot_helpers import plot_simulation\n",
    "\n",
    "# Helpers:\n",
    "# additional imports needed for Clifford gate calculation\n",
    "from laboneq.contrib.example_helpers.randomized_benchmarking_helper import (\n",
    "    clifford_parametrized,\n",
    "    generate_play_rb_pulses,\n",
    "    make_pauli_gate_map,\n",
    ")\n",
    "\n",
    "# LabOne Q:\n",
    "from laboneq.simple import *"
   ]
  },
  {
   "attachments": {},
   "cell_type": "markdown",
   "id": "f6f2a1fa",
   "metadata": {},
   "source": [
    "## 1. Setting up the LabOne Q Software\n",
    "\n",
    "Define the device setup, experimental parameters and baseline calibration\n",
    "\n",
    "Establish a session and connect to it"
   ]
  },
  {
   "attachments": {},
   "cell_type": "markdown",
   "id": "c463c14f",
   "metadata": {},
   "source": [
    "### 1.1 Create Device Setup"
   ]
  },
  {
   "cell_type": "code",
   "execution_count": null,
   "id": "16561398",
   "metadata": {},
   "outputs": [],
   "source": [
    "device_setup = DeviceSetup(uid=\"my_QCCS\")\n",
    "\n",
    "device_setup.add_dataserver(host=\"localhost\", port=\"8004\")\n",
    "\n",
    "device_setup.add_instruments(\n",
    "    SHFQC(uid=\"device_shfqc\", address=\"dev12345\", device_options=\"SHFQC/QC6CH\")\n",
    ")\n",
    "\n",
    "device_setup.add_connections(\n",
    "    \"device_shfqc\",\n",
    "    create_connection(to_signal=\"q0/drive_line\", ports=\"SGCHANNELS/0/OUTPUT\"),\n",
    "    create_connection(to_signal=\"q0/measure_line\", ports=\"QACHANNELS/0/OUTPUT\"),\n",
    "    create_connection(to_signal=\"q0/acquire_line\", ports=\"QACHANNELS/0/INPUT\"),\n",
    ")"
   ]
  },
  {
   "attachments": {},
   "cell_type": "markdown",
   "id": "f1744463",
   "metadata": {},
   "source": [
    "### 1.2 Define Qubit / Experiment Parameters"
   ]
  },
  {
   "cell_type": "code",
   "execution_count": null,
   "id": "4f55e81f",
   "metadata": {},
   "outputs": [],
   "source": [
    "# a collection of qubit control and readout parameters as a python dictionary\n",
    "qubit_parameters = {\n",
    "    \"freq\": 100e6,  # qubit 0 drive frequency in [Hz] - relative to local oscillator for qubit drive upconversion\n",
    "    \"ro_freq\": 50e6,\n",
    "    \"ro_delay\": 0,\n",
    "    \"ro_int_delay\": 0e-9,\n",
    "    \"qb_len_spec\": 1e-6,\n",
    "    \"qb_amp_spec\": 1.0,\n",
    "    \"pi_amp\": 1,\n",
    "    \"qb_len\": 200e-9,\n",
    "    \"freq_ef\": -500e6,\n",
    "    \"ro_len\": 200e-9,\n",
    "    \"ro_amp\": 0.8,\n",
    "    \"relax\": 50e-9,\n",
    "}\n",
    "\n",
    "# up / downconversion settings - to convert between IF and RF frequencies\n",
    "lo_settings = {\n",
    "    \"shfqa_lo\": 6.0e9,  # SHFQA LO Frequency\n",
    "    \"shfsg_lo\": 5.0e9,  # SHFSG LO Frequencies, one center frequency per two channels\n",
    "}"
   ]
  },
  {
   "attachments": {},
   "cell_type": "markdown",
   "id": "c2dfa493",
   "metadata": {},
   "source": [
    "### 1.3 Baseline Calibration for Device Setup"
   ]
  },
  {
   "cell_type": "code",
   "execution_count": null,
   "id": "3fce9ed6",
   "metadata": {},
   "outputs": [],
   "source": [
    "# function that defines a setup calibration containing the qubit / readout parameters\n",
    "\n",
    "\n",
    "def define_calibration(qubit_parameters, lo_settings):\n",
    "    qubit0_ro_lo = Oscillator(\n",
    "        uid=\"ro_lo_\" + \"q0\" + \"_osc\",\n",
    "        frequency=lo_settings[\"shfqa_lo\"],\n",
    "    )\n",
    "    qubit_0_drive_lo = Oscillator(\n",
    "        uid=\"drive_lo\" + \"q0\" + \"_osc\",\n",
    "        frequency=lo_settings[\"shfsg_lo\"],\n",
    "    )\n",
    "\n",
    "    # the calibration object will later be applied to the device setup\n",
    "    my_calibration = Calibration()\n",
    "\n",
    "    ## Calibration information for qubit 0\n",
    "    # qubit drive line - the calibration object contains SignalCalibration entries for each logical signal\n",
    "    my_calibration[\"/logical_signal_groups/q0/drive_line\"] = SignalCalibration(\n",
    "        # each logical signal can have an oscillator associated with it\n",
    "        oscillator=Oscillator(\n",
    "            \"q0_drive_osc\",\n",
    "            frequency=qubit_parameters[\"freq\"],\n",
    "            modulation_type=ModulationType.HARDWARE,\n",
    "        ),\n",
    "        local_oscillator=qubit_0_drive_lo,\n",
    "        range=10,\n",
    "    )\n",
    "\n",
    "    # readout drive line\n",
    "    my_calibration[\"/logical_signal_groups/q0/measure_line\"] = SignalCalibration(\n",
    "        oscillator=Oscillator(\n",
    "            \"q0_measure_osc\",\n",
    "            frequency=qubit_parameters[\"ro_freq\"],\n",
    "            modulation_type=ModulationType.SOFTWARE,\n",
    "        ),\n",
    "        port_delay=qubit_parameters[\"ro_delay\"],\n",
    "        local_oscillator=qubit0_ro_lo,\n",
    "        range=10,\n",
    "    )\n",
    "    # acquisition line\n",
    "    my_calibration[\"/logical_signal_groups/q0/acquire_line\"] = SignalCalibration(\n",
    "        oscillator=Oscillator(\n",
    "            \"q0_acquire_osc\",\n",
    "            frequency=qubit_parameters[\"ro_freq\"],\n",
    "            modulation_type=ModulationType.SOFTWARE,\n",
    "        ),\n",
    "        # add an offset between the readout pulse and the start of the data acquisition - to compensate for round-trip time of readout pulse\n",
    "        port_delay=qubit_parameters[\"ro_delay\"] + qubit_parameters[\"ro_int_delay\"],\n",
    "        local_oscillator=qubit0_ro_lo,\n",
    "        range=-10,\n",
    "        # add a threshold for the state discrimination -- this requires optimized readout integrator weights\n",
    "        threshold=0.0,\n",
    "    )\n",
    "\n",
    "    return my_calibration"
   ]
  },
  {
   "attachments": {},
   "cell_type": "markdown",
   "id": "001f2e70",
   "metadata": {},
   "source": [
    "### 1.4 Apply Baseline Calibration"
   ]
  },
  {
   "cell_type": "code",
   "execution_count": null,
   "id": "42b08ba0",
   "metadata": {},
   "outputs": [],
   "source": [
    "# define Calibration object based on qubit control and readout parameters\n",
    "my_calibration = define_calibration(qubit_parameters, lo_settings)\n",
    "# apply calibration to device setup\n",
    "device_setup.set_calibration(my_calibration)\n",
    "\n",
    "\n",
    "## define shortcut to logical signals for convenience\n",
    "lsg_q0 = device_setup.logical_signal_groups[\"q0\"].logical_signals\n",
    "drive_oscillator_q0 = lsg_q0[\"drive_line\"].oscillator\n",
    "readout_oscillator_q0 = lsg_q0[\"measure_line\"].oscillator\n",
    "acquire_oscillator_q0 = lsg_q0[\"acquire_line\"].oscillator\n",
    "\n",
    "# map experiment signals to logical signals\n",
    "map_q0 = {\n",
    "    \"drive\": \"/logical_signal_groups/q0/drive_line\",\n",
    "    \"measure\": \"/logical_signal_groups/q0/measure_line\",\n",
    "    \"acquire\": \"/logical_signal_groups/q0/acquire_line\",\n",
    "}"
   ]
  },
  {
   "attachments": {},
   "cell_type": "markdown",
   "id": "84a4ef0a",
   "metadata": {},
   "source": [
    "### 1.5 Create a Session and Connect to it"
   ]
  },
  {
   "cell_type": "code",
   "execution_count": null,
   "id": "6f993772",
   "metadata": {},
   "outputs": [],
   "source": [
    "emulate = True  # perform experiments in emulation mode only?\n",
    "\n",
    "my_session = Session(device_setup=device_setup)\n",
    "my_session.connect(do_emulation=emulate)"
   ]
  },
  {
   "attachments": {},
   "cell_type": "markdown",
   "id": "989af646",
   "metadata": {},
   "source": [
    "## 2. Randomized Benchmarking\n",
    "\n",
    "Perform a randomized benchmarking experiment on a qubit"
   ]
  },
  {
   "attachments": {},
   "cell_type": "markdown",
   "id": "441d7a4c",
   "metadata": {},
   "source": [
    "### 2.1 Additional Experimental Parameters and Pulses\n",
    "\n",
    "Define the number of averages and the pulses used in the experiment"
   ]
  },
  {
   "cell_type": "code",
   "execution_count": null,
   "id": "a7ddba85",
   "metadata": {},
   "outputs": [],
   "source": [
    "# qubit readout pulse\n",
    "readout_pulse = pulse_library.const(\n",
    "    uid=\"readout_pulse\",\n",
    "    length=qubit_parameters[\"ro_len\"],\n",
    "    amplitude=qubit_parameters[\"ro_amp\"],\n",
    ")\n",
    "# integration weights for qubit measurement\n",
    "integration_kernel = pulse_library.const(\n",
    "    uid=\"readout_weighting_function\", length=qubit_parameters[\"ro_len\"], amplitude=1.0\n",
    ")"
   ]
  },
  {
   "attachments": {},
   "cell_type": "markdown",
   "id": "6a79d209",
   "metadata": {},
   "source": [
    "#### 2.1.1 Adjust Pulse Parameters for Clifford Gates\n",
    "\n",
    "Define and prepare the basic gate set and the pulse objects corresponding to them"
   ]
  },
  {
   "cell_type": "code",
   "execution_count": null,
   "id": "90cfcfab",
   "metadata": {},
   "outputs": [],
   "source": [
    "pulse_reference = pulse_library.gaussian\n",
    "pulse_parameters = {\"sigma\": 1 / 3}\n",
    "pulse_length = 64e-9\n",
    "\n",
    "gate_map = make_pauli_gate_map(\n",
    "    pi_pulse_amp=0.8,\n",
    "    pi_half_pulse_amp=0.42,\n",
    "    excitation_length=pulse_length,\n",
    "    pulse_factory=pulse_reference,\n",
    "    pulse_kwargs=pulse_parameters,\n",
    ")"
   ]
  },
  {
   "attachments": {},
   "cell_type": "markdown",
   "id": "f04294e1",
   "metadata": {},
   "source": [
    "### 2.2 Define and run the RB Experiment \n",
    "The RB experiment will consist of random sequences of different lengths, where each sequence length contains a number of random instances."
   ]
  },
  {
   "attachments": {},
   "cell_type": "markdown",
   "id": "5ee6edee",
   "metadata": {},
   "source": [
    "### Create Randomized Benchmarking Experiment\n",
    "In real time (within `acquire_loop_rt`), the sequence lengths are swept, and for each sequence length, `n_sequences_per_length` random sequences are created.\n",
    "\n",
    "Each random sequence consists of three sections:\n",
    "- A right-aligned drive section, which is populated by the helper function `generate_play_rb_pulses`\n",
    "- A readout section\n",
    "- A relax section\n",
    "\n",
    "`generate_play_rb_pulses` first creates a random sequence of Clifford gates together with the recovery gate. Then, the Clifford gates in the sequence are decomposed into the basic gate set and played via an `Experiment.play` command.\n",
    "\n",
    "The `handle` in the `acquire` command follows the sequence length, facilitating straight-forward result processing after the experiment."
   ]
  },
  {
   "cell_type": "code",
   "execution_count": null,
   "id": "08969d98",
   "metadata": {},
   "outputs": [],
   "source": [
    "# define a convenience function to generate the RB sequences\n",
    "\n",
    "\n",
    "def sweep_rb_pulses(\n",
    "    sequence_length: SweepParameter | LinearSweepParameter,\n",
    "    exp: Experiment,\n",
    "    signal: str,\n",
    "    cliffords,\n",
    "    gate_map,\n",
    "    rng,\n",
    "):\n",
    "    with exp.match(sweep_parameter=sequence_length):\n",
    "        for v in sequence_length.values:\n",
    "            with exp.case(v):\n",
    "                generate_play_rb_pulses(\n",
    "                    exp=exp,\n",
    "                    signal=signal,\n",
    "                    seq_length=v,\n",
    "                    cliffords=cliffords,\n",
    "                    gate_map=gate_map,\n",
    "                    rng=rng,\n",
    "                )"
   ]
  },
  {
   "cell_type": "code",
   "execution_count": null,
   "id": "4423ea79",
   "metadata": {},
   "outputs": [],
   "source": [
    "# define the RB experiment\n",
    "\n",
    "\n",
    "def define_rb_experiment(\n",
    "    num_average=2**8,\n",
    "    min_sequence_exponent=1,\n",
    "    max_sequence_exponent=8,\n",
    "    chunk_count=1,\n",
    "    n_sequences_per_length=2,\n",
    "    signal_map=map_q0,\n",
    "    pulse_length=pulse_length,\n",
    "    readout_pulse=readout_pulse,\n",
    "    integration_kernel=integration_kernel,\n",
    "    reset_delay=qubit_parameters[\"relax\"],\n",
    "    prng=None,\n",
    "):\n",
    "    # construct the sweep over sequence length as powers of 2 of the sequence exponent\n",
    "    sequence_length_sweep = SweepParameter(\n",
    "        values=np.array(\n",
    "            [2**it for it in range(min_sequence_exponent, max_sequence_exponent + 1)]\n",
    "        )\n",
    "    )\n",
    "\n",
    "    # we are using fixed timing, where the maximum duration is determined by the maximum sequence length\n",
    "    max_seq_duration = 2**max_sequence_exponent * 3 * pulse_length\n",
    "\n",
    "    prng = np.random.default_rng(seed=42) if prng is None else prng\n",
    "\n",
    "    exp_rb = Experiment(\n",
    "        uid=\"RandomizedBenchmark\",\n",
    "        signals=[\n",
    "            ExperimentSignal(\"drive\"),\n",
    "            ExperimentSignal(\"measure\"),\n",
    "            ExperimentSignal(\"acquire\"),\n",
    "        ],\n",
    "    )\n",
    "\n",
    "    # outer loop - real-time, cyclic averaging in discrimination mode\n",
    "    with exp_rb.acquire_loop_rt(\n",
    "        uid=\"rb_shots\",\n",
    "        count=num_average,\n",
    "        averaging_mode=AveragingMode.CYCLIC,\n",
    "        acquisition_type=AcquisitionType.DISCRIMINATION,\n",
    "    ):\n",
    "        # inner loop - sweep over sequence lengths\n",
    "        with exp_rb.sweep(\n",
    "            parameter=sequence_length_sweep,\n",
    "            chunk_count=chunk_count,\n",
    "        ) as sequence_length:\n",
    "            # innermost loop - different random sequences for each length\n",
    "            ## KNOWN ISSUE: using a sweep instead of the for loop here will lead to unchanged sequences\n",
    "            for num in range(n_sequences_per_length):\n",
    "                # with exp_rb.sweep(parameter=iteration_sweep):\n",
    "                with exp_rb.section(\n",
    "                    uid=f\"drive_{num}\",\n",
    "                    length=max_seq_duration,\n",
    "                    alignment=SectionAlignment.RIGHT,\n",
    "                ):\n",
    "                    sweep_rb_pulses(\n",
    "                        sequence_length,\n",
    "                        exp_rb,\n",
    "                        \"drive\",\n",
    "                        clifford_parametrized,\n",
    "                        gate_map,\n",
    "                        prng,\n",
    "                    )\n",
    "                # readout and data acquisition\n",
    "                with exp_rb.section(uid=f\"measure_{num}\", play_after=f\"drive_{num}\"):\n",
    "                    exp_rb.measure(\n",
    "                        measure_pulse=readout_pulse,\n",
    "                        measure_signal=\"measure\",\n",
    "                        acquire_signal=\"acquire\",\n",
    "                        handle=\"rb_results\",\n",
    "                        integration_kernel=integration_kernel,\n",
    "                        reset_delay=reset_delay,\n",
    "                    )\n",
    "                    exp_rb.reserve(signal=\"drive\")\n",
    "\n",
    "    exp_rb.set_signal_map(signal_map)\n",
    "\n",
    "    return exp_rb"
   ]
  },
  {
   "cell_type": "code",
   "execution_count": null,
   "id": "e46ebe4e",
   "metadata": {},
   "outputs": [],
   "source": [
    "# Initialise PRNG\n",
    "my_prng = np.random.default_rng(42)\n",
    "\n",
    "exp_rb = define_rb_experiment(max_sequence_exponent=3, chunk_count=1)\n",
    "\n",
    "# compile the experiment\n",
    "compiled_exp_rb = my_session.compile(exp_rb)"
   ]
  },
  {
   "cell_type": "code",
   "execution_count": null,
   "id": "0272f193",
   "metadata": {},
   "outputs": [],
   "source": [
    "# KNOWN ISSUE - pulse sheet viewer not working for this experiment\n",
    "# show_pulse_sheet('rb_experiment', compiled_exp_rb)"
   ]
  },
  {
   "cell_type": "code",
   "execution_count": null,
   "id": "6fa75fd6",
   "metadata": {},
   "outputs": [],
   "source": [
    "## KNOWN ISSUE - output simulation is not yet supported with piplined experiments, if chunk_count>1\n",
    "plot_simulation(\n",
    "    compiled_exp_rb,\n",
    "    start_time=0,\n",
    "    length=10e-6,\n",
    "    plot_width=15,\n",
    "    plot_height=4,\n",
    "    signals=[\"drive\", \"measure\"],\n",
    ")"
   ]
  },
  {
   "cell_type": "code",
   "execution_count": null,
   "id": "f657c23c",
   "metadata": {},
   "outputs": [],
   "source": [
    "my_results = my_session.run(compiled_exp_rb)"
   ]
  },
  {
   "attachments": {},
   "cell_type": "markdown",
   "id": "352dbf2a",
   "metadata": {},
   "source": [
    "## 3. Process Results and Plot\n",
    "For each sequence length, the acquired results are averaged and then plotted."
   ]
  },
  {
   "cell_type": "code",
   "execution_count": null,
   "id": "7a3de381",
   "metadata": {},
   "outputs": [],
   "source": [
    "rb_axis = my_results.get_axis(\"rb_results\")\n",
    "\n",
    "rb_results = my_results.get_data(\"rb_results\")\n",
    "rb_results"
   ]
  },
  {
   "cell_type": "code",
   "execution_count": null,
   "id": "47f99d6f",
   "metadata": {},
   "outputs": [],
   "source": [
    "# plt.figure()\n",
    "plt.plot(rb_axis[0], np.mean(rb_results, axis=1))\n",
    "plt.xlabel(\"Sequence Length\")\n",
    "plt.ylabel(\"Average Fidelity\")\n",
    "plt.show()"
   ]
  },
  {
   "cell_type": "code",
   "execution_count": null,
   "id": "65a42441",
   "metadata": {},
   "outputs": [],
   "source": []
  }
 ],
 "metadata": {
  "hide_input": false,
  "kernelspec": {
   "display_name": "develop",
   "language": "python",
   "name": "python3"
  },
  "language_info": {
   "codemirror_mode": {
    "name": "ipython",
    "version": 3
   },
   "file_extension": ".py",
   "mimetype": "text/x-python",
   "name": "python",
   "nbconvert_exporter": "python",
   "pygments_lexer": "ipython3",
   "version": "3.12.1"
  },
  "toc": {
   "base_numbering": 1,
   "nav_menu": {},
   "number_sections": true,
   "sideBar": true,
   "skip_h1_title": false,
   "title_cell": "Table of Contents",
   "title_sidebar": "Contents",
   "toc_cell": false,
   "toc_position": {
    "height": "calc(100% - 180px)",
    "left": "10px",
    "top": "150px",
    "width": "409.6px"
   },
   "toc_section_display": true,
   "toc_window_display": true
  },
  "varInspector": {
   "cols": {
    "lenName": 16,
    "lenType": 16,
    "lenVar": 40
   },
   "kernels_config": {
    "python": {
     "delete_cmd_postfix": "",
     "delete_cmd_prefix": "del ",
     "library": "var_list.py",
     "varRefreshCmd": "print(var_dic_list())"
    },
    "r": {
     "delete_cmd_postfix": ") ",
     "delete_cmd_prefix": "rm(",
     "library": "var_list.r",
     "varRefreshCmd": "cat(var_dic_list()) "
    }
   },
   "types_to_exclude": [
    "module",
    "function",
    "builtin_function_or_method",
    "instance",
    "_Feature"
   ],
   "window_display": false
  }
 },
 "nbformat": 4,
 "nbformat_minor": 5
}
