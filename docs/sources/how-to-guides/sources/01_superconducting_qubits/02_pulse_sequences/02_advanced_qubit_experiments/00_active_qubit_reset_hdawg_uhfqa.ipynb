{
 "cells": [
  {
   "attachments": {},
   "cell_type": "markdown",
   "id": "fe2d00d7-c88e-4c5c-a2ca-8d6bc78ebe3e",
   "metadata": {
    "tags": []
   },
   "source": [
    "# Active Qubit Reset with UHFQA and HDAWG\n",
    "\n",
    "In this notebook, we demonstrate how to execute active qubit reset, i.e. active feedback based on real-time measurement of the qubit state. \n",
    "We require a combination of UHFQA and HDAWG instruments, connected via a PQSC. \n",
    "\n",
    "This demonstration runs without real qubits, assuming a loopback on the readout drive line directly into the readout acquisition line. We emulate the different qubit states by two different readout measurement pulses, differing by a phase. \n",
    "To demonstrate real-time feedback, we first calibrate the state discrimination unit for the two measurement pulses we choose to emulate the qubit response. Then we use this calibration to play an arbitrary simulated pattern of qubit states and demonstrate the real-time feedback capabilities of the instruments.  "
   ]
  },
  {
   "attachments": {},
   "cell_type": "markdown",
   "id": "4d4e7d0b-b53a-40e4-831c-236ed9d97c42",
   "metadata": {},
   "source": [
    "## 0. General Imports and Definitions"
   ]
  },
  {
   "attachments": {},
   "cell_type": "markdown",
   "id": "f3ecf2ff-f304-472a-b6d2-a50792a39a0d",
   "metadata": {
    "jp-MarkdownHeadingCollapsed": true,
    "tags": []
   },
   "source": [
    "### 0.1 Python Imports "
   ]
  },
  {
   "cell_type": "code",
   "execution_count": null,
   "id": "603ad7b7",
   "metadata": {},
   "outputs": [],
   "source": [
    "import matplotlib.pyplot as plt\n",
    "import numpy as np\n",
    "from laboneq.analysis import calculate_integration_kernels_thresholds\n",
    "\n",
    "# Helpers:\n",
    "from laboneq.contrib.example_helpers.feedback_helper import (\n",
    "    create_calibration_experiment,\n",
    "    create_discrimination_experiment,\n",
    "    state_emulation_pulse,\n",
    ")\n",
    "from laboneq.contrib.example_helpers.generate_device_setup import (\n",
    "    generate_device_setup_qubits,\n",
    ")\n",
    "from laboneq.dsl.experiment.builtins import *\n",
    "\n",
    "# all LabOne Q functionality\n",
    "from laboneq.simple import *"
   ]
  },
  {
   "cell_type": "markdown",
   "id": "45b7cd0e",
   "metadata": {},
   "source": [
    "# 1. Device setup and calibration"
   ]
  },
  {
   "cell_type": "markdown",
   "id": "b4b07c6a",
   "metadata": {},
   "source": [
    "## 1.1 Generate a calibrated Device Setup and qubit objects"
   ]
  },
  {
   "cell_type": "code",
   "execution_count": null,
   "id": "3ac33aaa",
   "metadata": {},
   "outputs": [],
   "source": [
    "feedback_type = \"global\"\n",
    "\n",
    "# specify the number of qubits you want to use\n",
    "number_of_qubits = 2\n",
    "\n",
    "# generate the device setup and the qubit objects using a helper function\n",
    "device_setup, qubits = generate_device_setup_qubits(\n",
    "    number_qubits=number_of_qubits,\n",
    "    pqsc=[{\"serial\": \"DEV10001\"}],\n",
    "    uhfqa=[{\"serial\": \"DEV2001\", \"readout_multiplex\": 6}],\n",
    "    hdawg=[\n",
    "        {\n",
    "            \"serial\": \"DEV8001\",\n",
    "            \"number_of_channels\": 8,\n",
    "            \"options\": None,\n",
    "            \"dio\": \"DEV2001\",\n",
    "        }\n",
    "    ],\n",
    "    server_host=\"localhost\",\n",
    "    setup_name=f\"my_{number_of_qubits}_tuneable_qubit_setup\",\n",
    ")\n",
    "\n",
    "q0, q1 = qubits[:2]"
   ]
  },
  {
   "cell_type": "markdown",
   "id": "16c970f4",
   "metadata": {},
   "source": [
    "## 1.2 Adapt setup calibration\n",
    "\n",
    "In this notebook we are using a pulse played from a second measure line to emulate the qubit being in the excited state. In this case we want to have the same instrument settings for the two used measurement lines. \n",
    "Additionally, for the method of readout weight calibration demonstrated in this notebook, the acquire line should not be modulated, as the calculated readout weights already contain the software modulation by construction."
   ]
  },
  {
   "cell_type": "code",
   "execution_count": 4,
   "id": "db4a3817",
   "metadata": {},
   "outputs": [],
   "source": [
    "active_reset_calibration = Calibration()\n",
    "active_reset_calibration[\"/logical_signal_groups/q1/measure\"] = (\n",
    "    device_setup.get_calibration()[\"/logical_signal_groups/q0/measure\"]\n",
    ")\n",
    "active_reset_calibration[\"/logical_signal_groups/q0/measure\"] = (\n",
    "    device_setup.get_calibration()[\"/logical_signal_groups/q0/measure\"]\n",
    ")\n",
    "active_reset_calibration[\"/logical_signal_groups/q0/acquire\"] = (\n",
    "    device_setup.get_calibration()[\"/logical_signal_groups/q0/acquire\"]\n",
    ")\n",
    "active_reset_calibration[\"/logical_signal_groups/q0/acquire\"].oscillator = None\n",
    "active_reset_calibration[\"/logical_signal_groups/q0/measure\"].range = 1.5\n",
    "active_reset_calibration[\"/logical_signal_groups/q1/measure\"].range = 1.5\n",
    "active_reset_calibration[\"/logical_signal_groups/q0/acquire\"].range = 1.5\n",
    "\n",
    "# print(active_reset_calibration)\n",
    "\n",
    "device_setup.set_calibration(active_reset_calibration)\n",
    "\n",
    "# print(device_setup.get_calibration())"
   ]
  },
  {
   "cell_type": "code",
   "execution_count": null,
   "id": "edfcf362",
   "metadata": {},
   "outputs": [],
   "source": [
    "# use emulation mode - no connection to instruments\n",
    "use_emulation = True\n",
    "\n",
    "# create and connect to a LabOne Q session\n",
    "my_session = Session(device_setup=device_setup)\n",
    "my_session.connect(do_emulation=use_emulation)"
   ]
  },
  {
   "attachments": {},
   "cell_type": "markdown",
   "id": "6046157b",
   "metadata": {},
   "source": [
    "## 2. Calibration of state discrimination\n",
    "\n",
    "We determine the optimal integration weights by subtracting and conjugating the raw response corresponding to the two different qubit states. We then additionally rotate these integration weights to result in maximum separation of the resulting IQ valuebs on the real axis and set the threshold to the setup calibration."
   ]
  },
  {
   "cell_type": "markdown",
   "id": "0df92612",
   "metadata": {},
   "source": [
    "## 2.1 Obtain traces"
   ]
  },
  {
   "cell_type": "code",
   "execution_count": null,
   "id": "a5e6d9e7",
   "metadata": {},
   "outputs": [],
   "source": [
    "num_states = 2\n",
    "used_qubits = [q0, q1]\n",
    "\n",
    "calibration_experiments = [\n",
    "    create_calibration_experiment(\n",
    "        state_emulation_pulse=state_emulation_pulse(),\n",
    "        qubit_states=[it],\n",
    "        measure_signals=[used_qubits[it].signals[\"measure\"]],\n",
    "        acquire_signal=q0.signals[\"acquire\"],\n",
    "    )\n",
    "    for it in range(num_states)\n",
    "]\n",
    "\n",
    "calibration_results = [\n",
    "    my_session.run(calibration_experiments[it]) for it in range(num_states)\n",
    "]\n",
    "\n",
    "calibration_traces = []\n",
    "for it in range(num_states):\n",
    "    trace = calibration_results[it].get_data(f\"raw_{it}\")\n",
    "    calibration_traces.append(trace[: (len(trace) // 16) * 16])\n",
    "\n",
    "\n",
    "# In emulation mode, the 'acquired' traces are all identical. Consequently, the computation of the optimal\n",
    "# discrimination weights will fail. Instead we 'patch' the traces with an artificial phase.\n",
    "if use_emulation:\n",
    "    for i in range(num_states):\n",
    "        phase = np.exp(2j * np.pi * i / num_states)\n",
    "        calibration_traces[i] *= phase"
   ]
  },
  {
   "cell_type": "markdown",
   "id": "48541a43",
   "metadata": {},
   "source": [
    "## 2.2 Compute kernels"
   ]
  },
  {
   "cell_type": "markdown",
   "id": "4f65ec97",
   "metadata": {},
   "source": [
    "Using `calculate_integration_kernels_thresholds`, we get number of states minus 1 optimal integration kernels together with the optimal thresholds for state discrimination. "
   ]
  },
  {
   "cell_type": "code",
   "execution_count": null,
   "id": "4a9b35a4",
   "metadata": {},
   "outputs": [],
   "source": [
    "# Calculate and plot kernel\n",
    "kernels, thresholds = calculate_integration_kernels_thresholds(calibration_traces)\n",
    "plt.plot(kernels[0].samples.real, kernels[0].samples.imag, \"ro-\", alpha=0.2)"
   ]
  },
  {
   "cell_type": "code",
   "execution_count": 9,
   "id": "27de7f22",
   "metadata": {},
   "outputs": [],
   "source": [
    "# set the thresholds in the acquire line calibration\n",
    "\n",
    "threshold_calibration = Calibration()\n",
    "threshold_calibration[\"/logical_signal_groups/q0/acquire\"] = SignalCalibration(\n",
    "    threshold=thresholds\n",
    ")\n",
    "\n",
    "device_setup.set_calibration(threshold_calibration)\n",
    "\n",
    "# print(device_setup.get_calibration())"
   ]
  },
  {
   "cell_type": "markdown",
   "id": "3c8276b7",
   "metadata": {},
   "source": [
    "## 2.3 Verify state discrimination"
   ]
  },
  {
   "cell_type": "code",
   "execution_count": null,
   "id": "5a8edbe7",
   "metadata": {},
   "outputs": [],
   "source": [
    "my_exp = create_discrimination_experiment(\n",
    "    measure_lines=[q0.signals[\"measure\"], q1.signals[\"measure\"]],\n",
    "    acquire_line=q0.signals[\"acquire\"],\n",
    "    kernels=kernels,\n",
    "    state_emulation_pulse=state_emulation_pulse,\n",
    "    thresholds=thresholds,\n",
    ")\n",
    "\n",
    "discrimination_results = my_session.run(my_exp)"
   ]
  },
  {
   "cell_type": "code",
   "execution_count": null,
   "id": "1f43e041",
   "metadata": {},
   "outputs": [],
   "source": [
    "s0 = discrimination_results.get_data(\"data_0\").real\n",
    "s1 = discrimination_results.get_data(\"data_1\").real\n",
    "\n",
    "plt.plot(s0, \".b\")\n",
    "plt.plot(s1, \".r\")"
   ]
  },
  {
   "attachments": {},
   "cell_type": "markdown",
   "id": "2b4c93ba",
   "metadata": {},
   "source": [
    "## 3. Feedback experiment\n",
    "\n",
    "Here, we create a real-time feedback demonstration that plays back a user defined sequence of \"qubit states\", i.e., a sequences of different measurement pulses emulating different qubit states. The measured qubit state after state discrimination is used in a real-time feedback section to play back either of two pulses: x90 for the qubit in its ground state and x180 for the qubit in the excited state. "
   ]
  },
  {
   "cell_type": "code",
   "execution_count": 10,
   "id": "edc37a14",
   "metadata": {},
   "outputs": [],
   "source": [
    "# define pulses\n",
    "pulse_length = q0.parameters.custom[\"pulse_length\"]\n",
    "\n",
    "x90_eg = pulse_library.drag(\n",
    "    uid=\"x90_eg\",\n",
    "    length=pulse_length,\n",
    "    amplitude=0.2,\n",
    ")\n",
    "\n",
    "x180_eg = pulse_library.drag(\n",
    "    uid=\"x180_eg\",\n",
    "    length=pulse_length,\n",
    "    amplitude=0.6,\n",
    ")"
   ]
  },
  {
   "cell_type": "markdown",
   "id": "770e1a8d",
   "metadata": {},
   "source": [
    "### 3.1 Define Experiment"
   ]
  },
  {
   "cell_type": "code",
   "execution_count": 11,
   "id": "641a57d3",
   "metadata": {},
   "outputs": [],
   "source": [
    "def create_feedback_experiment(\n",
    "    feedback_pattern=\"1010 1111 0011\",\n",
    "    kernels=kernels,\n",
    "    num_average=4,\n",
    "    space_delay=400e-9,\n",
    "    pattern_delay=1000e-9,\n",
    "    acquire_delay=150e-9,\n",
    "    state_emulation_pulse=state_emulation_pulse,\n",
    "    reset_pulses=(x90_eg, x180_eg),\n",
    "    acquisition_type=AcquisitionType.DISCRIMINATION,\n",
    "):\n",
    "    # Pattern example: \"1010 1111 0011\"\n",
    "    # with:\n",
    "    # 0 - ground state\n",
    "    # 1 - first excited state\n",
    "    # (empty space) break between symbols\n",
    "\n",
    "    @experiment(\n",
    "        signals=[\n",
    "            \"drive\",\n",
    "            \"measure_g\",\n",
    "            \"measure_e\",\n",
    "            \"acquire\",\n",
    "        ]\n",
    "    )\n",
    "    def exp():\n",
    "        map_signal(\"drive\", q0.signals[\"drive\"])\n",
    "        map_signal(\"measure_g\", q0.signals[\"measure\"])\n",
    "        map_signal(\"measure_e\", q1.signals[\"measure\"])\n",
    "        map_signal(\"acquire\", q0.signals[\"acquire\"])\n",
    "\n",
    "        measure_emulation_pulse = state_emulation_pulse()\n",
    "\n",
    "        with acquire_loop_rt(\n",
    "            count=num_average,\n",
    "            acquisition_type=acquisition_type,\n",
    "            uid=\"shots\",\n",
    "        ):\n",
    "            # iterate over the letters of the given pattern\n",
    "            last = None\n",
    "            identifier = 0\n",
    "            for identifier, letter in enumerate(feedback_pattern):\n",
    "                if letter == \" \":\n",
    "                    with section(uid=f\"delay_{identifier}\", play_after=last):\n",
    "                        delay(signal=\"drive\", time=space_delay)\n",
    "                    last = f\"delay_{identifier}\"\n",
    "                    continue\n",
    "                # emulate qubit state by playing different measurement pulses based on pattern\n",
    "                with section(uid=f\"measure_{identifier}\", play_after=last):\n",
    "                    idx = {\"0\": 0, \"1\": 1}[letter]\n",
    "                    line = [\"measure_g\", \"measure_e\"][idx]\n",
    "                    play(\n",
    "                        signal=line,\n",
    "                        pulse=measure_emulation_pulse.pulse,\n",
    "                        phase=measure_emulation_pulse.pulse_phase(qubit_state=idx),\n",
    "                        amplitude=measure_emulation_pulse.pulse_amplitude(\n",
    "                            qubit_state=idx\n",
    "                        ),\n",
    "                    )\n",
    "                    acquire(signal=\"acquire\", handle=\"qubit_state\", kernel=kernels)\n",
    "                    last = f\"measure_{identifier}\"\n",
    "                # delay after state discrimination and before reset pulse playback\n",
    "                if acquire_delay > 0:\n",
    "                    with section(uid=f\"acquire_delay_{identifier}\", play_after=last):\n",
    "                        reserve(signal=\"acquire\")\n",
    "                        delay(signal=\"drive\", time=acquire_delay)\n",
    "                        last = f\"acquire_delay_{identifier}\"\n",
    "                # real-time feedback, fetching the measurement data identified by handle from the QA unit specified in the descriptor\n",
    "                # determines automatically if local (SHFQC only) of global (through PQSC) feedback path is to be used\n",
    "                with match(\n",
    "                    uid=f\"feedback_{identifier}\", handle=\"qubit_state\", play_after=last\n",
    "                ):\n",
    "                    with case(state=0):\n",
    "                        play(signal=\"drive\", pulse=reset_pulses[0])\n",
    "                    with case(state=1):\n",
    "                        play(signal=\"drive\", pulse=reset_pulses[1])\n",
    "                    last = f\"feedback_{identifier}\"\n",
    "            # introduce a delay between repetitions of the pattern, for visual distinction\n",
    "            with section(uid=f\"pattern_delay{identifier}\", play_after=last):\n",
    "                delay(signal=\"drive\", time=pattern_delay)\n",
    "            last = f\"pattern_delay{identifier}\"\n",
    "\n",
    "    return exp()"
   ]
  },
  {
   "cell_type": "markdown",
   "id": "151432f5",
   "metadata": {},
   "source": [
    "### 3.2 Run experiment"
   ]
  },
  {
   "cell_type": "code",
   "execution_count": 12,
   "id": "069ddab5",
   "metadata": {},
   "outputs": [],
   "source": [
    "my_feedback_exp = create_feedback_experiment(\n",
    "    feedback_pattern=\"1010 1111 0011\",\n",
    "    acquisition_type=AcquisitionType.INTEGRATION,\n",
    ")"
   ]
  },
  {
   "cell_type": "code",
   "execution_count": null,
   "id": "4bf37f6c",
   "metadata": {},
   "outputs": [],
   "source": [
    "# compile experiment\n",
    "my_compiled_exp = my_session.compile(my_feedback_exp)"
   ]
  },
  {
   "cell_type": "code",
   "execution_count": null,
   "id": "a150436f",
   "metadata": {},
   "outputs": [],
   "source": [
    "# run experiment and get the results\n",
    "my_results = my_session.run(my_compiled_exp)"
   ]
  },
  {
   "cell_type": "code",
   "execution_count": null,
   "id": "fb3eab4d",
   "metadata": {},
   "outputs": [],
   "source": [
    "# when executed in integration mode, IQ data of each state readout is still available\n",
    "my_data = my_results.get_data(\"qubit_state\")\n",
    "my_data"
   ]
  },
  {
   "cell_type": "code",
   "execution_count": null,
   "id": "d3877ab4",
   "metadata": {},
   "outputs": [],
   "source": [
    "## Look at th pulse sheet - feedback is characterized by two simultaneous sections\n",
    "# show_pulse_sheet(\"feedback_experiment\", my_compiled_exp)"
   ]
  },
  {
   "cell_type": "code",
   "execution_count": null,
   "id": "bd5192f5",
   "metadata": {},
   "outputs": [],
   "source": [
    "## have a look at the sequencer code for the QA unit, making the measurements\n",
    "print(my_compiled_exp.src[0][\"text\"])"
   ]
  },
  {
   "cell_type": "code",
   "execution_count": null,
   "id": "835eb7bc",
   "metadata": {},
   "outputs": [],
   "source": [
    "## have a look at the sequencer code for the SG unit, playing the feedback pulses\n",
    "print(my_compiled_exp.src[1][\"text\"])"
   ]
  }
 ],
 "metadata": {
  "kernelspec": {
   "display_name": "repo",
   "language": "python",
   "name": "python3"
  },
  "language_info": {
   "codemirror_mode": {
    "name": "ipython",
    "version": 3
   },
   "file_extension": ".py",
   "mimetype": "text/x-python",
   "name": "python",
   "nbconvert_exporter": "python",
   "pygments_lexer": "ipython3",
   "version": "3.12.8"
  }
 },
 "nbformat": 4,
 "nbformat_minor": 5
}
