{
 "cells": [
  {
   "attachments": {},
   "cell_type": "markdown",
   "id": "fe2d00d7-c88e-4c5c-a2ca-8d6bc78ebe3e",
   "metadata": {
    "tags": []
   },
   "source": [
    "# Superconducting Qubit Tune-up with LabOne Q for SHF Instruments and many qubits in parallel\n",
    "\n",
    "In this notebook we demonstrate qubit tuneup with LabOne Q for many qubits in parallel, implemented as a sequence of experiments. \n",
    "\n",
    "Before starting the experiments, we define a set of initial qubit parameters, as might be known from fabrication. \n",
    "\n",
    "These parameters can then be used to update the baseline calibration used in the experiments and defined as part of the device setup."
   ]
  },
  {
   "attachments": {},
   "cell_type": "markdown",
   "id": "4d4e7d0b-b53a-40e4-831c-236ed9d97c42",
   "metadata": {},
   "source": [
    "## 0. General Imports and Definitions\n",
    "### 0.1 Python Imports "
   ]
  },
  {
   "cell_type": "code",
   "execution_count": 1,
   "id": "f383ab20",
   "metadata": {},
   "outputs": [],
   "source": [
    "# LabOne Q:\n",
    "import matplotlib.pyplot as plt\n",
    "import numpy as np\n",
    "from laboneq.contrib.example_helpers.generate_device_setup import (\n",
    "    generate_device_setup_qubits,\n",
    ")\n",
    "\n",
    "# plotting functionality\n",
    "from laboneq.contrib.example_helpers.plotting.plot_helpers import (\n",
    "    plot_results,\n",
    ")\n",
    "from laboneq.simple import *"
   ]
  },
  {
   "attachments": {},
   "cell_type": "markdown",
   "id": "0d9141f7-3fc4-4e0e-b553-59ea490e84cc",
   "metadata": {
    "tags": []
   },
   "source": [
    "## 1. Device Setup\n",
    "\n",
    "Below, you'll create a device setup and choose to run this notebook in emulated mode or directly on the control hardware, by specifying `use_emulation = True/False` respectively.\n",
    "\n",
    "If you run on your hardware, you need to generate a device setup first, please have a look at our [device setup tutorial](https://docs.zhinst.com/labone_q_user_manual//tutorials/tutorials/01_device_setup/) for how to do this in general. \n",
    "Here, we use a helper functions to generate the device setup and a set up qubit objects with pre-defined parameters. "
   ]
  },
  {
   "cell_type": "code",
   "execution_count": null,
   "id": "6a2a9653",
   "metadata": {},
   "outputs": [],
   "source": [
    "# specify the number of qubits you want to use\n",
    "number_of_qubits = 6\n",
    "\n",
    "# generate the device setup and the qubit objects using a helper function\n",
    "device_setup, qubits = generate_device_setup_qubits(\n",
    "    number_qubits=number_of_qubits,\n",
    "    pqsc=[{\"serial\": \"DEV10001\"}],\n",
    "    hdawg=[\n",
    "        {\n",
    "            \"serial\": \"DEV8001\",\n",
    "            \"number_of_channels\": 8,\n",
    "            \"options\": None,\n",
    "        }\n",
    "    ],\n",
    "    shfqc=[\n",
    "        {\n",
    "            \"serial\": \"DEV12001\",\n",
    "            \"number_of_channels\": 6,\n",
    "            \"readout_multiplex\": 6,\n",
    "            \"options\": None,\n",
    "        }\n",
    "    ],\n",
    "    include_flux_lines=True,\n",
    "    server_host=\"localhost\",\n",
    "    setup_name=f\"my_{number_of_qubits}_tunable_qubit_setup\",\n",
    ")"
   ]
  },
  {
   "attachments": {},
   "cell_type": "markdown",
   "id": "62ae58f8-4016-43e2-8c33-ee88645c7268",
   "metadata": {},
   "source": [
    "### 2.2 Create and Connect to a LabOne Q Session \n",
    "\n",
    "Establishes the connection to the instruments and readies them for experiments"
   ]
  },
  {
   "cell_type": "code",
   "execution_count": null,
   "id": "6bb93815",
   "metadata": {},
   "outputs": [],
   "source": [
    "# perform experiments in emulation mode only? - if True, also generate dummy data for fitting\n",
    "emulate = True\n",
    "\n",
    "# create and connect to a session\n",
    "session = Session(device_setup=device_setup)\n",
    "session.connect(do_emulation=emulate)"
   ]
  },
  {
   "attachments": {},
   "cell_type": "markdown",
   "id": "7f026e91-dff5-4548-9ecd-fb6db4f85a50",
   "metadata": {
    "tags": []
   },
   "source": [
    "## 3. Qubit Tuneup - Experimental Sequence\n",
    "\n",
    "Sequence of experiments for tuneup from scratch of a superconducting qubit in circuit QED architecture "
   ]
  },
  {
   "attachments": {},
   "cell_type": "markdown",
   "id": "18e4a41a-b1c7-432e-8cbf-d845da55b19a",
   "metadata": {
    "tags": []
   },
   "source": [
    "### 3.1 Resonator Spectroscopy: CW in parallel over full range of 0.5 - 8.5 GHz\n",
    "\n",
    "Find the resonance frequency of the qubit readout resonator by looking at the transmission or reflection of a probe signal applied through the readout line"
   ]
  },
  {
   "attachments": {},
   "cell_type": "markdown",
   "id": "44bed766-917f-4d01-98c8-86c6e841fc44",
   "metadata": {
    "tags": []
   },
   "source": [
    "#### 3.1.1 Experiment Definition\n",
    "\n",
    "Define the experimental pulse and readout sequence - here without any explicit qubit reference\n",
    "\n",
    "Explicit qubit reference is then given through different experimental calibration and signal maps"
   ]
  },
  {
   "cell_type": "code",
   "execution_count": 4,
   "id": "ec430d0c",
   "metadata": {},
   "outputs": [],
   "source": [
    "# define sweep parameter\n",
    "def create_freq_sweep(identifier, start_freq, stop_freq, num_points):\n",
    "    return LinearSweepParameter(\n",
    "        uid=f\"frequency_sweep_{identifier}\",\n",
    "        start=start_freq,\n",
    "        stop=stop_freq,\n",
    "        count=num_points,\n",
    "    )"
   ]
  },
  {
   "cell_type": "code",
   "execution_count": 5,
   "id": "1eb991d0",
   "metadata": {},
   "outputs": [],
   "source": [
    "def resonator_spectroscopy_parallel_cw(\n",
    "    qubits, outer_sweeps, inner_sweeps, integration_time=10e-3, num_averages=1\n",
    "):\n",
    "    # Create resonator spectroscopy experiment - uses only readout drive and signal acquisition\n",
    "    exp_spec = Experiment(\n",
    "        uid=\"Resonator Spectroscopy\",\n",
    "        signals=[\n",
    "            signal\n",
    "            for signal_list in [\n",
    "                [\n",
    "                    ExperimentSignal(\n",
    "                        f\"measure_{qubit.uid}\", map_to=qubit.signals[\"measure\"]\n",
    "                    ),\n",
    "                    ExperimentSignal(\n",
    "                        f\"acquire_{qubit.uid}\", map_to=qubit.signals[\"acquire\"]\n",
    "                    ),\n",
    "                ]\n",
    "                for qubit in qubits\n",
    "            ]\n",
    "            for signal in signal_list\n",
    "        ],\n",
    "    )\n",
    "\n",
    "    ## define experimental sequence\n",
    "    # loop - average multiple measurements for each frequency - measurement in spectroscopy mode\n",
    "    with exp_spec.sweep(uid=\"resonator_frequency_outer\", parameter=outer_sweeps):\n",
    "        with exp_spec.acquire_loop_rt(\n",
    "            uid=\"shots\",\n",
    "            count=num_averages,\n",
    "            acquisition_type=AcquisitionType.SPECTROSCOPY,\n",
    "        ):\n",
    "            with exp_spec.sweep(\n",
    "                uid=\"resonator_frequency_inner\", parameter=inner_sweeps\n",
    "            ):\n",
    "                for qubit in qubits:\n",
    "                    # readout pulse and data acquisition\n",
    "                    with exp_spec.section(uid=f\"resonator_spectroscopy_{qubit.uid}\"):\n",
    "                        # resonator signal readout\n",
    "                        exp_spec.acquire(\n",
    "                            signal=f\"acquire_{qubit.uid}\",\n",
    "                            handle=f\"resonator_spectroscopy_{qubit.uid}\",\n",
    "                            length=integration_time,\n",
    "                        )\n",
    "                    # relax time after readout - for qubit relaxation to groundstate and signal processing\n",
    "                    with exp_spec.section(uid=f\"relax_{qubit.uid}\", length=1e-6):\n",
    "                        exp_spec.reserve(signal=f\"measure_{qubit.uid}\")\n",
    "\n",
    "    cal = Calibration()\n",
    "    for it, qubit in enumerate(qubits):\n",
    "        measure_acquire_oscillator = Oscillator(\n",
    "            uid=f\"{qubit.uid}_measure_acquire_oscillator\", frequency=inner_sweeps[it]\n",
    "        )\n",
    "        measure_acquire_local_oscillator = Oscillator(frequency=outer_sweeps[it])\n",
    "        cal[f\"measure_{qubit.uid}\"] = SignalCalibration(\n",
    "            oscillator=measure_acquire_oscillator,\n",
    "            local_oscillator=measure_acquire_local_oscillator,\n",
    "            range=-10,\n",
    "        )\n",
    "        cal[f\"acquire_{qubit.uid}\"] = SignalCalibration(\n",
    "            local_oscillator=measure_acquire_local_oscillator,\n",
    "            oscillator=measure_acquire_oscillator,\n",
    "            range=-5,\n",
    "            port_delay=250e-9,\n",
    "        )\n",
    "    exp_spec.set_calibration(cal)\n",
    "\n",
    "    return exp_spec"
   ]
  },
  {
   "attachments": {},
   "cell_type": "markdown",
   "id": "818a5d99-8982-4758-8120-446be6f0a016",
   "metadata": {
    "tags": []
   },
   "source": [
    "#### 3.1.2 Run and Evaluate Experiment\n",
    "Runs the experiment and evaluates the data returned by the measurement"
   ]
  },
  {
   "cell_type": "code",
   "execution_count": null,
   "id": "f652c916",
   "metadata": {},
   "outputs": [],
   "source": [
    "# create experiment with outer, near-time sweep from 1-8 GHz in 1 GHz steps and a sweep over 1001 points within each 1GHz band - in parallel for all 4 QA channels\n",
    "cw_spectroscopy_exp = resonator_spectroscopy_parallel_cw(\n",
    "    qubits[::6],\n",
    "    [create_freq_sweep(f\"outer_{qubit.uid}\", 1e9, 8e9, 8) for qubit in qubits[::6]],\n",
    "    [\n",
    "        create_freq_sweep(f\"inner_{qubit.uid}\", -500e6, 500e6, 1001)\n",
    "        for qubit in qubits[::6]\n",
    "    ],\n",
    ")\n",
    "\n",
    "compiled_cw_spectroscopy_exp = session.compile(cw_spectroscopy_exp)\n",
    "cw_spectroscopy_results = session.run(compiled_cw_spectroscopy_exp)"
   ]
  },
  {
   "cell_type": "code",
   "execution_count": null,
   "id": "d21b19c1",
   "metadata": {},
   "outputs": [],
   "source": [
    "# access and plot results of one 8GHz sweep\n",
    "full_data = cw_spectroscopy_results.get_data(\"resonator_spectroscopy_q0\")\n",
    "\n",
    "if number_of_qubits / 6 <= 1:\n",
    "    outer = cw_spectroscopy_results.get_axis(\"resonator_spectroscopy_q0\")[0]\n",
    "    inner = cw_spectroscopy_results.get_axis(\"resonator_spectroscopy_q0\")[1]\n",
    "else:\n",
    "    outer = cw_spectroscopy_results.get_axis(\"resonator_spectroscopy_q0\")[0][0]\n",
    "    inner = cw_spectroscopy_results.get_axis(\"resonator_spectroscopy_q0\")[1][0]\n",
    "full_sweep = np.array(\n",
    "    [item for item_list in [out + inner for out in outer] for item in item_list]\n",
    ")\n",
    "\n",
    "plt.plot(\n",
    "    full_sweep,\n",
    "    np.array(\n",
    "        [item for item_list in [data for data in full_data] for item in item_list]\n",
    "    ),\n",
    ")"
   ]
  },
  {
   "cell_type": "code",
   "execution_count": 8,
   "id": "ab1198de",
   "metadata": {},
   "outputs": [],
   "source": [
    "# Do analysis of data here"
   ]
  },
  {
   "attachments": {},
   "cell_type": "markdown",
   "id": "d9a8dc1f",
   "metadata": {},
   "source": [
    "#### 3.1.3 Update Calibration "
   ]
  },
  {
   "cell_type": "code",
   "execution_count": 9,
   "id": "e2b228d2",
   "metadata": {},
   "outputs": [],
   "source": [
    "# update qubit parameters from analysis\n",
    "# for qubit in my_qubits:\n",
    "#     qubit.parameters.readout_resonator_frequency = my_new_frequency\n",
    "#     device_setup.set_calibration(qubit.calibration())"
   ]
  },
  {
   "attachments": {},
   "cell_type": "markdown",
   "id": "8a682b18-6de8-4b17-97e9-08d92ac239bd",
   "metadata": {
    "tags": []
   },
   "source": [
    "### 3.2 Pulsed Qubit Spectroscopy: in parallel over 100MHz range for each qubit\n",
    "\n",
    "Find the resonance frequency of the qubit by looking at the change in resonator transmission when sweeping the frequency of a qubit excitation pulse"
   ]
  },
  {
   "attachments": {},
   "cell_type": "markdown",
   "id": "fefd645d-ceee-41d3-a86c-403d63d5b4f1",
   "metadata": {},
   "source": [
    "#### 3.2.1 Experiment Definition\n",
    "\n",
    "The frequency sweep of the drive line can now be done in real time (was: near time in older software releases)"
   ]
  },
  {
   "cell_type": "code",
   "execution_count": 10,
   "id": "3eb24425",
   "metadata": {},
   "outputs": [],
   "source": [
    "def qubit_spectroscopy_pulse(qubit):\n",
    "    return pulse_library.const(\n",
    "        uid=f\"spectroscopy_pulse_{qubit.uid}\",\n",
    "        length=qubit.parameters.user_defined[\"readout_length\"],\n",
    "        amplitude=0.8,\n",
    "        # can_compress=True,\n",
    "    )\n",
    "\n",
    "\n",
    "def readout_pulse(qubit):\n",
    "    return pulse_library.const(\n",
    "        uid=f\"readout_pulse_{qubit.uid}\",\n",
    "        length=qubit.parameters.user_defined[\"readout_length\"],\n",
    "        amplitude=qubit.parameters.user_defined[\"readout_amplitude\"],\n",
    "    )\n",
    "\n",
    "\n",
    "def integration_kernel(qubit):\n",
    "    return pulse_library.const(\n",
    "        uid=f\"integration_kernel_{qubit.uid}\",\n",
    "        length=qubit.parameters.user_defined[\"readout_length\"],\n",
    "        amplitude=1,\n",
    "    )"
   ]
  },
  {
   "cell_type": "code",
   "execution_count": 11,
   "id": "4106f823",
   "metadata": {},
   "outputs": [],
   "source": [
    "# function that returns a qubit spectroscopy experiment- accepts frequency sweep range as parameter\n",
    "def qubit_spectroscopy_parallel(\n",
    "    qubits, qspec_range=100e6, qspec_num=1001, num_averages=2**10\n",
    "):\n",
    "    # Create qubit spectroscopy Experiment - uses qubit drive, readout drive and data acquisition lines\n",
    "    exp_qspec = Experiment(\n",
    "        uid=\"Qubit Spectroscopy\",\n",
    "        signals=[\n",
    "            signal\n",
    "            for signal_list in [\n",
    "                [\n",
    "                    ExperimentSignal(\n",
    "                        f\"drive_{qubit.uid}\", map_to=qubit.signals[\"drive\"]\n",
    "                    ),\n",
    "                    ExperimentSignal(\n",
    "                        f\"measure_{qubit.uid}\", map_to=qubit.signals[\"measure\"]\n",
    "                    ),\n",
    "                    ExperimentSignal(\n",
    "                        f\"acquire_{qubit.uid}\", map_to=qubit.signals[\"acquire\"]\n",
    "                    ),\n",
    "                ]\n",
    "                for qubit in qubits\n",
    "            ]\n",
    "            for signal in signal_list\n",
    "        ],\n",
    "    )\n",
    "\n",
    "    # List of frequency sweeps for all qubits\n",
    "    qubit_frequency_sweeps = [\n",
    "        LinearSweepParameter(\n",
    "            uid=f\"{qubit.uid}_spectroscopy_sweep\",\n",
    "            start=qubit.parameters.drive_frequency_ge - qspec_range / 2,\n",
    "            stop=qubit.parameters.drive_frequency_ge + qspec_range / 2,\n",
    "            count=qspec_num,\n",
    "        )\n",
    "        for qubit in qubits\n",
    "    ]\n",
    "\n",
    "    # inner loop - real-time averaging - QA in integration mode\n",
    "    with exp_qspec.acquire_loop_rt(\n",
    "        uid=\"freq_shots\",\n",
    "        count=num_averages,\n",
    "        acquisition_type=AcquisitionType.INTEGRATION,\n",
    "    ):\n",
    "        with exp_qspec.sweep(\n",
    "            uid=\"qubit_frequency_sweep\", parameter=qubit_frequency_sweeps\n",
    "        ):\n",
    "            for qubit in qubits:\n",
    "                # qubit drive\n",
    "                with exp_qspec.section(uid=f\"{qubit.uid}_excitation\"):\n",
    "                    exp_qspec.play(\n",
    "                        signal=f\"drive_{qubit.uid}\",\n",
    "                        pulse=qubit_spectroscopy_pulse(qubit),\n",
    "                    )\n",
    "                # measurement\n",
    "                with exp_qspec.section(\n",
    "                    uid=f\"readout_{qubit.uid}\", play_after=f\"{qubit.uid}_excitation\"\n",
    "                ):\n",
    "                    exp_qspec.measure(\n",
    "                        measure_signal=f\"measure_{qubit.uid}\",\n",
    "                        measure_pulse=readout_pulse(qubit),\n",
    "                        handle=f\"{qubit.uid}_spectroscopy\",\n",
    "                        acquire_signal=f\"acquire_{qubit.uid}\",\n",
    "                        integration_kernel=integration_kernel(qubit),\n",
    "                        reset_delay=qubit.parameters.user_defined[\"reset_delay_length\"],\n",
    "                    )\n",
    "\n",
    "    cal = Calibration()\n",
    "    for it, qubit in enumerate(qubits):\n",
    "        cal[f\"drive_{qubit.uid}\"] = SignalCalibration(\n",
    "            oscillator=Oscillator(\n",
    "                frequency=qubit_frequency_sweeps[it],\n",
    "                modulation_type=ModulationType.HARDWARE,\n",
    "            )\n",
    "        )\n",
    "    exp_qspec.set_calibration(cal)\n",
    "\n",
    "    return exp_qspec"
   ]
  },
  {
   "attachments": {},
   "cell_type": "markdown",
   "id": "46bf613c-2f03-4a02-8bc0-1201b845468a",
   "metadata": {},
   "source": [
    "#### 3.2.2 Run and Evaluate Experiment for all Qubits in parallel\n",
    "\n",
    "Runs the experiment and evaluates the data returned by the measurement"
   ]
  },
  {
   "cell_type": "code",
   "execution_count": null,
   "id": "814e16f2",
   "metadata": {},
   "outputs": [],
   "source": [
    "qubit_spectroscopy_exp = qubit_spectroscopy_parallel(qubits)\n",
    "\n",
    "compiled_qubit_spectroscopy_exp = session.compile(qubit_spectroscopy_exp)\n",
    "qubit_spectroscopy_results = session.run(compiled_qubit_spectroscopy_exp)"
   ]
  },
  {
   "cell_type": "code",
   "execution_count": null,
   "id": "4011a141",
   "metadata": {},
   "outputs": [],
   "source": [
    "# access and plot results of one drive frequency sweep\n",
    "index = 0\n",
    "data_qubit = qubits[index]\n",
    "\n",
    "qubit_data = qubit_spectroscopy_results.get_data(f\"{data_qubit.uid}_spectroscopy\")\n",
    "qubit_freq = (\n",
    "    qubit_spectroscopy_results.get_axis(f\"{data_qubit.uid}_spectroscopy\")[0][0]\n",
    "    + data_qubit.parameters.drive_lo_frequency\n",
    ")\n",
    "\n",
    "plt.plot(qubit_freq, qubit_data)"
   ]
  },
  {
   "cell_type": "code",
   "execution_count": 14,
   "id": "6da7a30b",
   "metadata": {},
   "outputs": [],
   "source": [
    "# Do analysis of data here"
   ]
  },
  {
   "attachments": {},
   "cell_type": "markdown",
   "id": "a432798b",
   "metadata": {},
   "source": [
    "#### 3.2.3 Update Calibration "
   ]
  },
  {
   "cell_type": "code",
   "execution_count": 15,
   "id": "dc46de78",
   "metadata": {},
   "outputs": [],
   "source": [
    "# update qubit parameters from analysis - here: qubit resonance frequency\n",
    "# for qubit in my_qubits:\n",
    "#     qubit.parameters.resonance_frequency_ge = my_new_frequency\n",
    "#     device_setup.set_calibration(qubit.calibration())"
   ]
  },
  {
   "attachments": {},
   "cell_type": "markdown",
   "id": "023ba502-7f83-49b2-a208-6207d54793f4",
   "metadata": {
    "tags": []
   },
   "source": [
    "### 3.3 Amplitude Rabi Experiment - in parallel\n",
    "\n",
    "Sweep the pulse amplitude of a qubit drive pulse to determine the ideal amplitudes for specific qubit rotation angles"
   ]
  },
  {
   "attachments": {},
   "cell_type": "markdown",
   "id": "bb70a8d7-22df-4396-a167-d1ac4a5277c1",
   "metadata": {
    "tags": []
   },
   "source": [
    "#### 3.3.1 Experiment Definition\n"
   ]
  },
  {
   "cell_type": "code",
   "execution_count": 16,
   "id": "609b7c27",
   "metadata": {},
   "outputs": [],
   "source": [
    "def drive_ge_rabi(qubit):\n",
    "    return pulse_library.drag(\n",
    "        uid=f\"drag_pulse_{qubit.uid}\",\n",
    "        length=qubit.parameters.user_defined[\"pulse_length\"],\n",
    "        sigma=0.4,\n",
    "        beta=0.2,\n",
    "        amplitude=1,\n",
    "    )"
   ]
  },
  {
   "cell_type": "code",
   "execution_count": 17,
   "id": "9bab6736",
   "metadata": {},
   "outputs": [],
   "source": [
    "# function that returns an amplitude Rabi experiment\n",
    "def amplitude_rabi_parallel(qubits, amplitude_sweep, num_averages=2**10):\n",
    "    exp_rabi = Experiment(\n",
    "        uid=\"Qubit Spectroscopy\",\n",
    "        signals=[\n",
    "            signal\n",
    "            for signal_list in [\n",
    "                [\n",
    "                    ExperimentSignal(\n",
    "                        f\"drive_{qubit.uid}\", map_to=qubit.signals[\"drive\"]\n",
    "                    ),\n",
    "                    ExperimentSignal(\n",
    "                        f\"measure_{qubit.uid}\", map_to=qubit.signals[\"measure\"]\n",
    "                    ),\n",
    "                    ExperimentSignal(\n",
    "                        f\"acquire_{qubit.uid}\", map_to=qubit.signals[\"acquire\"]\n",
    "                    ),\n",
    "                ]\n",
    "                for qubit in qubits\n",
    "            ]\n",
    "            for signal in signal_list\n",
    "        ],\n",
    "    )\n",
    "\n",
    "    ## define Rabi experiment pulse sequence\n",
    "    # outer loop - real-time, cyclic averaging\n",
    "    with exp_rabi.acquire_loop_rt(\n",
    "        uid=\"rabi_shots\",\n",
    "        count=num_averages,\n",
    "        averaging_mode=AveragingMode.CYCLIC,\n",
    "        acquisition_type=AcquisitionType.INTEGRATION,\n",
    "    ):\n",
    "        # inner loop - real time sweep of Rabi ampitudes\n",
    "        with exp_rabi.sweep(uid=\"rabi_sweep\", parameter=amplitude_sweep):\n",
    "            for qubit in qubits:\n",
    "                # qubit drive\n",
    "                with exp_rabi.section(\n",
    "                    uid=f\"{qubit.uid}_excitation\", alignment=SectionAlignment.RIGHT\n",
    "                ):\n",
    "                    exp_rabi.play(\n",
    "                        signal=f\"drive_{qubit.uid}\",\n",
    "                        pulse=drive_ge_rabi(qubit),\n",
    "                        amplitude=amplitude_sweep,\n",
    "                    )\n",
    "                # measurement\n",
    "                with exp_rabi.section(\n",
    "                    uid=f\"readout_{qubit.uid}\", play_after=f\"{qubit.uid}_excitation\"\n",
    "                ):\n",
    "                    exp_rabi.measure(\n",
    "                        measure_signal=f\"measure_{qubit.uid}\",\n",
    "                        measure_pulse=readout_pulse(qubit),\n",
    "                        handle=f\"{qubit.uid}_rabi\",\n",
    "                        acquire_signal=f\"acquire_{qubit.uid}\",\n",
    "                        integration_kernel=integration_kernel(qubit),\n",
    "                        reset_delay=qubit.parameters.user_defined[\"reset_delay_length\"],\n",
    "                    )\n",
    "\n",
    "    return exp_rabi"
   ]
  },
  {
   "attachments": {},
   "cell_type": "markdown",
   "id": "1dc2ff96-f8ff-4de5-b62a-872108c7814f",
   "metadata": {
    "tags": []
   },
   "source": [
    "#### 3.3.2 Execute experiment and analyze results"
   ]
  },
  {
   "cell_type": "code",
   "execution_count": null,
   "id": "adac1fa4",
   "metadata": {},
   "outputs": [],
   "source": [
    "rabi_exp = amplitude_rabi_parallel(\n",
    "    qubits,\n",
    "    LinearSweepParameter(uid=\"amplitude_sweep\", start=0, stop=1, count=201),\n",
    ")\n",
    "\n",
    "compiled_rabi_exp = session.compile(rabi_exp)\n",
    "rabi_results = session.run(compiled_rabi_exp)"
   ]
  },
  {
   "cell_type": "code",
   "execution_count": null,
   "id": "de982d69",
   "metadata": {},
   "outputs": [],
   "source": [
    "# access and plot results of one drive frequency sweep\n",
    "index = 0\n",
    "data_qubit = qubits[index]\n",
    "\n",
    "qubit_data = rabi_results.get_data(f\"{data_qubit.uid}_rabi\")\n",
    "qubit_amp = rabi_results.get_axis(f\"{data_qubit.uid}_rabi\")[0]\n",
    "\n",
    "plt.plot(qubit_amp, qubit_data)"
   ]
  },
  {
   "cell_type": "code",
   "execution_count": null,
   "id": "c534d842",
   "metadata": {},
   "outputs": [],
   "source": [
    "# plot all results\n",
    "plot_results(rabi_results)"
   ]
  },
  {
   "cell_type": "code",
   "execution_count": 21,
   "id": "1c59a2d4",
   "metadata": {},
   "outputs": [],
   "source": [
    "# Do analysis of data here"
   ]
  },
  {
   "attachments": {},
   "cell_type": "markdown",
   "id": "ba9b96a6",
   "metadata": {},
   "source": [
    "#### 3.3.3 Update Calibration "
   ]
  },
  {
   "cell_type": "code",
   "execution_count": 22,
   "id": "989c129a",
   "metadata": {},
   "outputs": [],
   "source": [
    "# update qubit parameters from analysis - here: qubit pulse amplitude\n",
    "# for qubit in my_qubits:\n",
    "#     qubit.parameters.user_defined[\"amplitude_pi\"] = my_amplitude"
   ]
  },
  {
   "attachments": {},
   "cell_type": "markdown",
   "id": "71848b75",
   "metadata": {},
   "source": [
    "### 3.4 Ramsey Experiment - in parallel\n",
    "The Ramsey experiment is different from the experiments above as the length of the drive section changes. Using a right-aligned sweep section and the automatic repetition time makes sure that the experiment is run as efficiently as possible on the Zurich Instruments hardware."
   ]
  },
  {
   "attachments": {},
   "cell_type": "markdown",
   "id": "7fa365d3",
   "metadata": {},
   "source": [
    "#### 3.4.1 Experiment Definition"
   ]
  },
  {
   "cell_type": "code",
   "execution_count": 23,
   "id": "4585a1b0",
   "metadata": {},
   "outputs": [],
   "source": [
    "# define ramsey drive pulse - use calibration from Rabi experiment\n",
    "def drive_ge_pi_half(qubit):\n",
    "    return pulse_library.drag(\n",
    "        uid=f\"ramsey_drive_{qubit.uid}\",\n",
    "        length=qubit.parameters.user_defined[\"pulse_length\"],\n",
    "        sigma=0.4,\n",
    "        beta=0.2,\n",
    "        amplitude=qubit.parameters.user_defined[\"amplitude_pi\"] / 2,\n",
    "    )"
   ]
  },
  {
   "cell_type": "code",
   "execution_count": 24,
   "id": "f8d1e77b",
   "metadata": {},
   "outputs": [],
   "source": [
    "# function that returns an amplitude Rabi experiment\n",
    "def ramsey_parallel(qubits, delay_sweep, num_averages=2**10):\n",
    "    exp_ramsey = Experiment(\n",
    "        uid=\"Qubit Spectroscopy\",\n",
    "        signals=[\n",
    "            signal\n",
    "            for signal_list in [\n",
    "                [\n",
    "                    ExperimentSignal(\n",
    "                        f\"drive_{qubit.uid}\", map_to=qubit.signals[\"drive\"]\n",
    "                    ),\n",
    "                    ExperimentSignal(\n",
    "                        f\"measure_{qubit.uid}\", map_to=qubit.signals[\"measure\"]\n",
    "                    ),\n",
    "                    ExperimentSignal(\n",
    "                        f\"acquire_{qubit.uid}\", map_to=qubit.signals[\"acquire\"]\n",
    "                    ),\n",
    "                ]\n",
    "                for qubit in qubits\n",
    "            ]\n",
    "            for signal in signal_list\n",
    "        ],\n",
    "    )\n",
    "\n",
    "    ## define Ramsey experiment pulse sequence\n",
    "    # outer loop - real-time, cyclic averaging\n",
    "    with exp_ramsey.acquire_loop_rt(\n",
    "        uid=\"ramsey_shots\",\n",
    "        count=num_averages,\n",
    "        averaging_mode=AveragingMode.CYCLIC,\n",
    "        acquisition_type=AcquisitionType.INTEGRATION,\n",
    "        repetition_mode=RepetitionMode.AUTO,\n",
    "    ):\n",
    "        # inner loop - real time sweep of Ramsey time delays\n",
    "        with exp_ramsey.sweep(\n",
    "            uid=\"ramsey_sweep\", parameter=delay_sweep, alignment=SectionAlignment.RIGHT\n",
    "        ):\n",
    "            for qubit in qubits:\n",
    "                # play qubit excitation pulse - pulse amplitude is swept\n",
    "                ramsey_pulse = drive_ge_pi_half(qubit)\n",
    "                with exp_ramsey.section(\n",
    "                    uid=f\"{qubit.uid}_excitation\", alignment=SectionAlignment.RIGHT\n",
    "                ):\n",
    "                    exp_ramsey.play(signal=f\"drive_{qubit.uid}\", pulse=ramsey_pulse)\n",
    "                    exp_ramsey.delay(signal=f\"drive_{qubit.uid}\", time=delay_sweep)\n",
    "                    exp_ramsey.play(signal=f\"drive_{qubit.uid}\", pulse=ramsey_pulse)\n",
    "                # readout pulse and data acquisition\n",
    "                # measurement\n",
    "                with exp_ramsey.section(\n",
    "                    uid=f\"readout_{qubit.uid}\", play_after=f\"{qubit.uid}_excitation\"\n",
    "                ):\n",
    "                    exp_ramsey.measure(\n",
    "                        measure_signal=f\"measure_{qubit.uid}\",\n",
    "                        measure_pulse=readout_pulse(qubit),\n",
    "                        handle=f\"{qubit.uid}_ramsey\",\n",
    "                        acquire_signal=f\"acquire_{qubit.uid}\",\n",
    "                        integration_kernel=integration_kernel(qubit),\n",
    "                        reset_delay=qubit.parameters.user_defined[\"reset_delay_length\"],\n",
    "                    )\n",
    "\n",
    "    return exp_ramsey"
   ]
  },
  {
   "attachments": {},
   "cell_type": "markdown",
   "id": "45f3ecb7",
   "metadata": {},
   "source": [
    "#### 3.4.2 Execute experiment"
   ]
  },
  {
   "cell_type": "code",
   "execution_count": null,
   "id": "0c86a901",
   "metadata": {},
   "outputs": [],
   "source": [
    "ramsey_exp = ramsey_parallel(\n",
    "    qubits,\n",
    "    LinearSweepParameter(\n",
    "        uid=\"ramsey_delay_sweep\",\n",
    "        start=0,\n",
    "        stop=15e-6,\n",
    "        count=201,\n",
    "    ),\n",
    ")\n",
    "\n",
    "compiled_ramsey_exp = session.compile(ramsey_exp)\n",
    "ramsey_results = session.run(compiled_ramsey_exp)"
   ]
  },
  {
   "cell_type": "code",
   "execution_count": null,
   "id": "83051cf1",
   "metadata": {},
   "outputs": [],
   "source": [
    "# access and plot results of one drive frequency sweep\n",
    "index = 0\n",
    "data_qubit = qubits[index]\n",
    "\n",
    "qubit_data = ramsey_results.get_data(f\"{data_qubit.uid}_ramsey\")\n",
    "qubit_delay = ramsey_results.get_axis(f\"{data_qubit.uid}_ramsey\")[0]\n",
    "\n",
    "plt.plot(qubit_delay, qubit_data)"
   ]
  },
  {
   "cell_type": "code",
   "execution_count": null,
   "id": "4eaa8ada",
   "metadata": {},
   "outputs": [],
   "source": [
    "# plot all results\n",
    "plot_results(ramsey_results)"
   ]
  },
  {
   "cell_type": "code",
   "execution_count": 28,
   "id": "35de4023",
   "metadata": {},
   "outputs": [],
   "source": [
    "# Do analysis of data here"
   ]
  },
  {
   "attachments": {},
   "cell_type": "markdown",
   "id": "3d0ef303",
   "metadata": {},
   "source": [
    "#### 3.4.3 Update Qubit parameters"
   ]
  },
  {
   "cell_type": "code",
   "execution_count": 29,
   "id": "aa4e65a0",
   "metadata": {},
   "outputs": [],
   "source": [
    "# update qubit parameters from analysis - here: qubit dephasing time\n",
    "# for qubit in my_qubits:\n",
    "#     qubit.parameters.user_defined[\"t2_time\"] = my_t2"
   ]
  },
  {
   "attachments": {},
   "cell_type": "markdown",
   "id": "fbcaa9fc",
   "metadata": {},
   "source": [
    "### 3.5 T1 Experiment - in parallel\n"
   ]
  },
  {
   "attachments": {},
   "cell_type": "markdown",
   "id": "23c1610f",
   "metadata": {},
   "source": [
    "#### 3.5.1 Experiment Definition"
   ]
  },
  {
   "cell_type": "code",
   "execution_count": 30,
   "id": "c0397dc2",
   "metadata": {},
   "outputs": [],
   "source": [
    "# define drive pulse - use calibration from Rabi experiment\n",
    "def drive_ge_pi(qubit):\n",
    "    return pulse_library.drag(\n",
    "        uid=f\"drive_{qubit.uid}\",\n",
    "        length=qubit.parameters.user_defined[\"pulse_length\"],\n",
    "        sigma=0.4,\n",
    "        beta=0.2,\n",
    "        amplitude=qubit.parameters.user_defined[\"amplitude_pi\"],\n",
    "    )"
   ]
  },
  {
   "cell_type": "code",
   "execution_count": 31,
   "id": "5e6139ac",
   "metadata": {},
   "outputs": [],
   "source": [
    "# function that returns an amplitude Rabi experiment\n",
    "def t1_parallel(qubits, delay_sweep, num_averages=2**10):\n",
    "    exp_t1 = Experiment(\n",
    "        uid=\"Qubit Spectroscopy\",\n",
    "        signals=[\n",
    "            signal\n",
    "            for signal_list in [\n",
    "                [\n",
    "                    ExperimentSignal(\n",
    "                        f\"drive_{qubit.uid}\", map_to=qubit.signals[\"drive\"]\n",
    "                    ),\n",
    "                    ExperimentSignal(\n",
    "                        f\"measure_{qubit.uid}\", map_to=qubit.signals[\"measure\"]\n",
    "                    ),\n",
    "                    ExperimentSignal(\n",
    "                        f\"acquire_{qubit.uid}\", map_to=qubit.signals[\"acquire\"]\n",
    "                    ),\n",
    "                ]\n",
    "                for qubit in qubits\n",
    "            ]\n",
    "            for signal in signal_list\n",
    "        ],\n",
    "    )\n",
    "\n",
    "    ## define Ramsey experiment pulse sequence\n",
    "    # outer loop - real-time, cyclic averaging\n",
    "    with exp_t1.acquire_loop_rt(\n",
    "        uid=\"t1_shots\",\n",
    "        count=num_averages,\n",
    "        averaging_mode=AveragingMode.CYCLIC,\n",
    "        acquisition_type=AcquisitionType.INTEGRATION,\n",
    "        repetition_mode=RepetitionMode.AUTO,\n",
    "    ):\n",
    "        # inner loop - real time sweep of Ramsey time delays\n",
    "        with exp_t1.sweep(\n",
    "            uid=\"t1_delay_sweep\",\n",
    "            parameter=delay_sweep,\n",
    "            alignment=SectionAlignment.RIGHT,\n",
    "        ):\n",
    "            for qubit in qubits:\n",
    "                # play qubit excitation pulse - pulse amplitude is swept\n",
    "                with exp_t1.section(\n",
    "                    uid=f\"{qubit.uid}_excitation\", alignment=SectionAlignment.RIGHT\n",
    "                ):\n",
    "                    exp_t1.play(signal=f\"drive_{qubit.uid}\", pulse=drive_ge_pi(qubit))\n",
    "                    exp_t1.delay(signal=f\"drive_{qubit.uid}\", time=delay_sweep)\n",
    "                # readout pulse and data acquisition\n",
    "                # measurement\n",
    "                with exp_t1.section(\n",
    "                    uid=f\"readout_{qubit.uid}\", play_after=f\"{qubit.uid}_excitation\"\n",
    "                ):\n",
    "                    exp_t1.measure(\n",
    "                        measure_signal=f\"measure_{qubit.uid}\",\n",
    "                        measure_pulse=readout_pulse(qubit),\n",
    "                        handle=f\"{qubit.uid}_t1\",\n",
    "                        acquire_signal=f\"acquire_{qubit.uid}\",\n",
    "                        integration_kernel=integration_kernel(qubit),\n",
    "                        reset_delay=qubit.parameters.user_defined[\"reset_delay_length\"],\n",
    "                    )\n",
    "\n",
    "    return exp_t1"
   ]
  },
  {
   "attachments": {},
   "cell_type": "markdown",
   "id": "59992477",
   "metadata": {},
   "source": [
    "#### 3.5.2 Execute experiment"
   ]
  },
  {
   "cell_type": "code",
   "execution_count": null,
   "id": "d43a6571",
   "metadata": {},
   "outputs": [],
   "source": [
    "t1_exp = t1_parallel(\n",
    "    qubits,\n",
    "    LinearSweepParameter(uid=\"t1_delay_sweep\", start=0, stop=50e-6, count=201),\n",
    ")\n",
    "\n",
    "compiled_t1_exp = session.compile(t1_exp)\n",
    "t1_results = session.run(compiled_t1_exp)"
   ]
  },
  {
   "cell_type": "code",
   "execution_count": null,
   "id": "9d71ce3d",
   "metadata": {},
   "outputs": [],
   "source": [
    "# access and plot results of one drive frequency sweep\n",
    "index = 0\n",
    "data_qubit = qubits[index]\n",
    "\n",
    "qubit_data = t1_results.get_data(f\"{data_qubit.uid}_t1\")\n",
    "qubit_delay = t1_results.get_axis(f\"{data_qubit.uid}_t1\")[0]\n",
    "\n",
    "plt.plot(qubit_delay, qubit_data)"
   ]
  },
  {
   "cell_type": "code",
   "execution_count": null,
   "id": "c3be9a88",
   "metadata": {},
   "outputs": [],
   "source": [
    "# plot all results\n",
    "plot_results(t1_results)"
   ]
  },
  {
   "cell_type": "code",
   "execution_count": 35,
   "id": "687865e3",
   "metadata": {},
   "outputs": [],
   "source": [
    "# Do analysis of data here"
   ]
  },
  {
   "attachments": {},
   "cell_type": "markdown",
   "id": "688da0dc",
   "metadata": {},
   "source": [
    "#### 3.5.3 Update Qubit parameters "
   ]
  },
  {
   "cell_type": "code",
   "execution_count": 36,
   "id": "d869fbe0",
   "metadata": {},
   "outputs": [],
   "source": [
    "# update qubit parameters from analysis - here: qubit relaxation time\n",
    "# for qubit in my_qubits:\n",
    "#     qubit.parameters.user_defined[\"t1_time\"] = my_t1"
   ]
  },
  {
   "cell_type": "code",
   "execution_count": null,
   "id": "1fe173ed",
   "metadata": {},
   "outputs": [],
   "source": []
  }
 ],
 "metadata": {
  "hide_input": false,
  "kernelspec": {
   "display_name": "laboneq-apps-dev",
   "language": "python",
   "name": "python3"
  },
  "language_info": {
   "codemirror_mode": {
    "name": "ipython",
    "version": 3
   },
   "file_extension": ".py",
   "mimetype": "text/x-python",
   "name": "python",
   "nbconvert_exporter": "python",
   "pygments_lexer": "ipython3",
   "version": "3.11.9"
  },
  "toc": {
   "base_numbering": 1,
   "nav_menu": {},
   "number_sections": true,
   "sideBar": true,
   "skip_h1_title": false,
   "title_cell": "Table of Contents",
   "title_sidebar": "Contents",
   "toc_cell": false,
   "toc_position": {
    "height": "calc(100% - 180px)",
    "left": "10px",
    "top": "150px",
    "width": "409.6px"
   },
   "toc_section_display": true,
   "toc_window_display": true
  },
  "varInspector": {
   "cols": {
    "lenName": 16,
    "lenType": 16,
    "lenVar": 40
   },
   "kernels_config": {
    "python": {
     "delete_cmd_postfix": "",
     "delete_cmd_prefix": "del ",
     "library": "var_list.py",
     "varRefreshCmd": "print(var_dic_list())"
    },
    "r": {
     "delete_cmd_postfix": ") ",
     "delete_cmd_prefix": "rm(",
     "library": "var_list.r",
     "varRefreshCmd": "cat(var_dic_list()) "
    }
   },
   "types_to_exclude": [
    "module",
    "function",
    "builtin_function_or_method",
    "instance",
    "_Feature"
   ],
   "window_display": false
  }
 },
 "nbformat": 4,
 "nbformat_minor": 5
}
