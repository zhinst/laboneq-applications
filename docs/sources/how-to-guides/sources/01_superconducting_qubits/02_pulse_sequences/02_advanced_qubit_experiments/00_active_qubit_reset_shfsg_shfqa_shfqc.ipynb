{
 "cells": [
  {
   "attachments": {},
   "cell_type": "markdown",
   "id": "fe2d00d7-c88e-4c5c-a2ca-8d6bc78ebe3e",
   "metadata": {
    "tags": []
   },
   "source": [
    "# Active Qubit Reset with SHF instruments\n",
    "\n",
    "In this notebook, we demonstrate how to execute active qubit reset, i.e. active feedback based on real-time measurement of the qubit state. \n",
    "We require either a SHFQC instrument for this notebook or a combination of SHFSG and SHFQA connected via a PQSC. \n",
    "\n",
    "This demonstration runs without real qubits, assuming a loopback on the readout drive line directly into the reaoud acquisition line. We emulate the different qubit states by two different readout measurement pulses, differing by a phase. \n",
    "To demonstrate real-time feedback, we first calibrate the state discrimintation unit for the two measurement pulsese we choose to emulate the qubit response. The we use this calibration to play an arbitrary simulated pattern of qubit states and demonstrate the real-time feedback capabilities of the instrument.  "
   ]
  },
  {
   "attachments": {},
   "cell_type": "markdown",
   "id": "4d4e7d0b-b53a-40e4-831c-236ed9d97c42",
   "metadata": {},
   "source": [
    "## 0. General Imports and Definitions"
   ]
  },
  {
   "attachments": {},
   "cell_type": "markdown",
   "id": "f3ecf2ff-f304-472a-b6d2-a50792a39a0d",
   "metadata": {
    "jp-MarkdownHeadingCollapsed": true,
    "tags": []
   },
   "source": [
    "### 0.1 Python Imports "
   ]
  },
  {
   "cell_type": "code",
   "execution_count": 1,
   "id": "3514beeb",
   "metadata": {},
   "outputs": [],
   "source": [
    "import matplotlib.pyplot as plt\n",
    "import numpy as np\n",
    "from laboneq.analysis import calculate_integration_kernels_thresholds\n",
    "\n",
    "# Helpers:\n",
    "from laboneq.contrib.example_helpers.feedback_helper import (\n",
    "    create_calibration_experiment,\n",
    "    create_discrimination_experiment,\n",
    "    state_emulation_pulse,\n",
    ")\n",
    "from laboneq.contrib.example_helpers.generate_device_setup import (\n",
    "    generate_device_setup_qubits,\n",
    ")\n",
    "from laboneq.dsl.experiment.builtins import *\n",
    "\n",
    "# all LabOne Q functionality\n",
    "from laboneq.simple import *"
   ]
  },
  {
   "cell_type": "markdown",
   "id": "48a37d71",
   "metadata": {},
   "source": [
    "# 1. Device setup and calibration"
   ]
  },
  {
   "attachments": {},
   "cell_type": "markdown",
   "id": "ce9078f7",
   "metadata": {},
   "source": [
    "## 1.1 Generate a calibrated Device Setup and qubit objects"
   ]
  },
  {
   "cell_type": "code",
   "execution_count": 2,
   "id": "2f45a9c9",
   "metadata": {},
   "outputs": [],
   "source": [
    "feedback_type = \"global\"\n",
    "\n",
    "# specify the number of qubits you want to use\n",
    "number_of_qubits = 6\n",
    "\n",
    "# generate the device setup and the qubit objects using a helper function\n",
    "device_setup, qubits = generate_device_setup_qubits(\n",
    "    number_qubits=number_of_qubits,\n",
    "    pqsc=[{\"serial\": \"DEV10001\"}],\n",
    "    hdawg=[{\"serial\": \"DEV8001\", \"zsync\": 0, \"number_of_channels\": 8, \"options\": None}],\n",
    "    shfqc=[\n",
    "        {\n",
    "            \"serial\": \"DEV12001\",\n",
    "            \"zsync\": 1,\n",
    "            \"number_of_channels\": 6,\n",
    "            \"readout_multiplex\": 6,\n",
    "            \"options\": None,\n",
    "        }\n",
    "    ],\n",
    "    include_flux_lines=True,\n",
    "    server_host=\"localhost\",\n",
    "    setup_name=f\"my_{number_of_qubits}_tuneable_qubit_setup\",\n",
    ")\n",
    "\n",
    "q0, q1 = qubits[:2]"
   ]
  },
  {
   "cell_type": "markdown",
   "id": "e8952134",
   "metadata": {},
   "source": [
    "## 1.2 Adapt setup calibration\n",
    "\n",
    "In this notebook we are using a pulse played from a second measure line to emulate the qubit being in the excited state. In this case we want to have the same instrument settings for the two used measurement lines. \n",
    "Additionally, for the method of readout weight calibration demonstrated in this notebook, the acquire line should not be modulated, as the calculated readout weights already contain the software modulation by construction."
   ]
  },
  {
   "cell_type": "code",
   "execution_count": 3,
   "id": "ca08e999",
   "metadata": {},
   "outputs": [],
   "source": [
    "active_reset_calibration = Calibration()\n",
    "active_reset_calibration[\"/logical_signal_groups/q1/measure\"] = (\n",
    "    device_setup.get_calibration()[\"/logical_signal_groups/q0/measure\"]\n",
    ")\n",
    "active_reset_calibration[\"/logical_signal_groups/q0/acquire\"] = (\n",
    "    device_setup.get_calibration()[\"/logical_signal_groups/q0/acquire\"]\n",
    ")\n",
    "active_reset_calibration[\"/logical_signal_groups/q0/acquire\"].oscillator = None\n",
    "\n",
    "# print(active_reset_calibration)\n",
    "\n",
    "device_setup.set_calibration(active_reset_calibration)\n",
    "\n",
    "# print(device_setup.get_calibration())"
   ]
  },
  {
   "cell_type": "code",
   "execution_count": null,
   "id": "6bb93815",
   "metadata": {},
   "outputs": [],
   "source": [
    "# use emulation mode - no connection to instruments\n",
    "use_emulation = True\n",
    "\n",
    "# create and connect to a LabOne Q session\n",
    "my_session = Session(device_setup=device_setup)\n",
    "my_session.connect(do_emulation=use_emulation)"
   ]
  },
  {
   "attachments": {},
   "cell_type": "markdown",
   "id": "5bbb593c",
   "metadata": {},
   "source": [
    "## 2. Calibration of state discrimination\n",
    "\n",
    "We determine the optimal integration weights by measuring traces of the qubit states and computing an integration kernel using the toolkit routines. We simulate different qubit responses by playing pulses with different phases and amplitudes on the readout line. We have to make sure that the traces are a multiple of 16 samples long."
   ]
  },
  {
   "cell_type": "markdown",
   "id": "3975e887",
   "metadata": {},
   "source": [
    "## 2.1 Obtain traces"
   ]
  },
  {
   "cell_type": "code",
   "execution_count": null,
   "id": "33b0f9fd",
   "metadata": {},
   "outputs": [],
   "source": [
    "num_states = 2\n",
    "\n",
    "experiments = [\n",
    "    create_calibration_experiment(\n",
    "        state_emulation_pulse=state_emulation_pulse(),\n",
    "        qubit_state=i,\n",
    "        measure_signal=k.signals[\"measure\"],\n",
    "        acquire_signal=q0.signals[\"acquire\"],\n",
    "    )\n",
    "    for i, k in enumerate([q0, q1])\n",
    "]\n",
    "\n",
    "traces = []\n",
    "for exp in experiments:\n",
    "    res = my_session.run(exp)\n",
    "    trace = res.get_data(\"raw\")\n",
    "    traces.append(trace[: (len(trace) // 16) * 16])\n",
    "\n",
    "\n",
    "# In emulation mode, the 'acquired' traces are all identical. Consequently, the computation of the optimal\n",
    "# discrimination weights will fail. Instead we 'patch' the traces with an artificial phase.\n",
    "if use_emulation:\n",
    "    for i in range(num_states):\n",
    "        phase = np.exp(2j * np.pi * i / num_states)\n",
    "        traces[i] *= phase"
   ]
  },
  {
   "cell_type": "markdown",
   "id": "c917b954",
   "metadata": {},
   "source": [
    "## 2.2 Compute kernels"
   ]
  },
  {
   "cell_type": "markdown",
   "id": "59b0bd61",
   "metadata": {},
   "source": [
    "Using `calculate_integration_kernels_thresholds`, we get number of states minus 1 optimal integration kernels together with the optimal thresholds for state discrimination. "
   ]
  },
  {
   "cell_type": "code",
   "execution_count": null,
   "id": "ceef59fc",
   "metadata": {},
   "outputs": [],
   "source": [
    "# Calculate and plot kernel\n",
    "kernels, thresholds = calculate_integration_kernels_thresholds(traces)\n",
    "plt.plot(kernels[0].samples.real, kernels[0].samples.imag, \"ro-\", alpha=0.2)"
   ]
  },
  {
   "cell_type": "code",
   "execution_count": 7,
   "id": "716072bc",
   "metadata": {},
   "outputs": [],
   "source": [
    "# set the thresholds in the acquire line calibration\n",
    "\n",
    "threshold_calibration = Calibration()\n",
    "threshold_calibration[\"/logical_signal_groups/q0/acquire\"] = SignalCalibration(\n",
    "    threshold=thresholds\n",
    ")\n",
    "\n",
    "device_setup.set_calibration(threshold_calibration)\n",
    "\n",
    "# print(device_setup.get_calibration())"
   ]
  },
  {
   "cell_type": "markdown",
   "id": "e43732a9",
   "metadata": {},
   "source": [
    "## 2.3 Verify state discrimination"
   ]
  },
  {
   "cell_type": "code",
   "execution_count": null,
   "id": "f074beaf",
   "metadata": {},
   "outputs": [],
   "source": [
    "my_exp = create_discrimination_experiment(\n",
    "    measure_lines=[q0.signals[\"measure\"], q1.signals[\"measure\"]],\n",
    "    acquire_line=q0.signals[\"acquire\"],\n",
    "    kernels=kernels,\n",
    "    state_emulation_pulse=state_emulation_pulse,\n",
    "    thresholds=thresholds,\n",
    ")\n",
    "\n",
    "discrimination_results = my_session.run(my_exp)"
   ]
  },
  {
   "cell_type": "code",
   "execution_count": null,
   "id": "ec78d018",
   "metadata": {},
   "outputs": [],
   "source": [
    "s0 = discrimination_results.get_data(\"data_0\").real\n",
    "s1 = discrimination_results.get_data(\"data_1\").real\n",
    "\n",
    "plt.plot(s0, \".b\")\n",
    "plt.plot(s1, \".r\")"
   ]
  },
  {
   "attachments": {},
   "cell_type": "markdown",
   "id": "38f12bb7",
   "metadata": {},
   "source": [
    "## 3. Feedback experiment\n",
    "\n",
    "Here, we create a real-time feedback demonstration that plays back a user defined sequence of \"qubit states\", i.e., a sequences of different measurement pulses emulating different qubit states. The measured qubit state after state discrimination is used in a real-time feedback section to play back either of two pulses: x90 for the qubit in its ground state and x180 for the qubit in the excited state. "
   ]
  },
  {
   "cell_type": "code",
   "execution_count": 10,
   "id": "707f4565",
   "metadata": {},
   "outputs": [],
   "source": [
    "# define pulses\n",
    "pulse_length = q0.parameters.user_defined[\"pulse_length\"]\n",
    "\n",
    "x90_eg = pulse_library.drag(\n",
    "    uid=\"x90_eg\",\n",
    "    length=pulse_length,\n",
    "    amplitude=0.2,\n",
    ")\n",
    "\n",
    "x180_eg = pulse_library.drag(\n",
    "    uid=\"x180_eg\",\n",
    "    length=pulse_length,\n",
    "    amplitude=0.6,\n",
    ")"
   ]
  },
  {
   "attachments": {},
   "cell_type": "markdown",
   "id": "879933eb",
   "metadata": {},
   "source": [
    "### 3.1 Define Experiment"
   ]
  },
  {
   "cell_type": "code",
   "execution_count": 11,
   "id": "a8c96550",
   "metadata": {},
   "outputs": [],
   "source": [
    "def create_feedback_experiment(\n",
    "    feedback_pattern=\"1010 1111 0011\",\n",
    "    kernels=kernels,\n",
    "    num_average=4,\n",
    "    space_delay=400e-9,\n",
    "    pattern_delay=1000e-9,\n",
    "    acquire_delay=150e-9,\n",
    "    state_emulation_pulse=state_emulation_pulse,\n",
    "    reset_pulses=(x90_eg, x180_eg),\n",
    "    acquisition_type=AcquisitionType.DISCRIMINATION,\n",
    "):\n",
    "    # Pattern example: \"1010 1111 0011\"\n",
    "    # with:\n",
    "    # 0 - ground state\n",
    "    # 1 - first excited state\n",
    "    # (empty space) break between symbols\n",
    "\n",
    "    @experiment(\n",
    "        signals=[\n",
    "            \"drive\",\n",
    "            \"measure_g\",\n",
    "            \"measure_e\",\n",
    "            \"acquire\",\n",
    "        ]\n",
    "    )\n",
    "    def exp():\n",
    "        map_signal(\"drive\", q0.signals[\"drive\"])\n",
    "        map_signal(\"measure_g\", q0.signals[\"measure\"])\n",
    "        map_signal(\"measure_e\", q1.signals[\"measure\"])\n",
    "        map_signal(\"acquire\", q0.signals[\"acquire\"])\n",
    "\n",
    "        measure_emulation_pulse = state_emulation_pulse()\n",
    "\n",
    "        with acquire_loop_rt(\n",
    "            count=num_average,\n",
    "            acquisition_type=acquisition_type,\n",
    "            uid=\"shots\",\n",
    "        ):\n",
    "            # iterate over the letters of the given pattern\n",
    "            last = None\n",
    "            identifier = 0\n",
    "            for identifier, letter in enumerate(feedback_pattern):\n",
    "                if letter == \" \":\n",
    "                    with section(uid=f\"delay_{identifier}\", play_after=last):\n",
    "                        delay(signal=\"drive\", time=space_delay)\n",
    "                    last = f\"delay_{identifier}\"\n",
    "                    continue\n",
    "                # emulate qubit state by playing different measurement pulses based on pattern\n",
    "                with section(uid=f\"measure_{identifier}\", play_after=last):\n",
    "                    idx = {\"0\": 0, \"1\": 1}[letter]\n",
    "                    line = [\"measure_g\", \"measure_e\"][idx]\n",
    "                    play(\n",
    "                        signal=line,\n",
    "                        pulse=measure_emulation_pulse.pulse,\n",
    "                        phase=measure_emulation_pulse.pulse_phase(qubit_state=idx),\n",
    "                        amplitude=measure_emulation_pulse.pulse_amplitude(\n",
    "                            qubit_state=idx\n",
    "                        ),\n",
    "                    )\n",
    "                    acquire(signal=\"acquire\", handle=\"qubit_state\", kernel=kernels)\n",
    "                    last = f\"measure_{identifier}\"\n",
    "                # delay after state discrimination and before reset pulse playback\n",
    "                if acquire_delay > 0:\n",
    "                    with section(uid=f\"acquire_delay_{identifier}\", play_after=last):\n",
    "                        reserve(signal=\"acquire\")\n",
    "                        delay(signal=\"drive\", time=acquire_delay)\n",
    "                        last = f\"acquire_delay_{identifier}\"\n",
    "                # real-time feedback, fetching the measurement data identified by handle from the QA unit specified in the descriptor\n",
    "                # determines automatically if local (SHFQC only) of global (through PQSC) feedback path is to be used\n",
    "                with match(\n",
    "                    uid=f\"feedback_{identifier}\", handle=\"qubit_state\", play_after=last\n",
    "                ):\n",
    "                    with case(state=0):\n",
    "                        play(signal=\"drive\", pulse=reset_pulses[0])\n",
    "                    with case(state=1):\n",
    "                        play(signal=\"drive\", pulse=reset_pulses[1])\n",
    "                    last = f\"feedback_{identifier}\"\n",
    "            # introduce a delay between repetitions of the pattern, for visual distinction\n",
    "            with section(uid=f\"pattern_delay{identifier}\", play_after=last):\n",
    "                delay(signal=\"drive\", time=pattern_delay)\n",
    "            last = f\"pattern_delay{identifier}\"\n",
    "\n",
    "    return exp()"
   ]
  },
  {
   "attachments": {},
   "cell_type": "markdown",
   "id": "8fbdf1f3",
   "metadata": {},
   "source": [
    "### 3.2 Run experiment"
   ]
  },
  {
   "cell_type": "code",
   "execution_count": 12,
   "id": "d6ac4e6a",
   "metadata": {},
   "outputs": [],
   "source": [
    "my_feedback_exp = create_feedback_experiment(\n",
    "    feedback_pattern=\"1010 1111 0011\",\n",
    "    acquisition_type=AcquisitionType.INTEGRATION,\n",
    ")"
   ]
  },
  {
   "cell_type": "code",
   "execution_count": null,
   "id": "a52c8338",
   "metadata": {},
   "outputs": [],
   "source": [
    "# compile experiment\n",
    "my_compiled_exp = my_session.compile(my_feedback_exp)"
   ]
  },
  {
   "cell_type": "code",
   "execution_count": null,
   "id": "edbe42db",
   "metadata": {},
   "outputs": [],
   "source": [
    "# run experiment and get the results\n",
    "my_results = my_session.run(my_compiled_exp)"
   ]
  },
  {
   "cell_type": "code",
   "execution_count": 15,
   "id": "7178f093",
   "metadata": {},
   "outputs": [],
   "source": [
    "## Look at th pulse sheet - feedback is characterised by multiple simultaneous sections\n",
    "# show_pulse_sheet(\"feedback_experiment\", my_compiled_exp)"
   ]
  },
  {
   "cell_type": "code",
   "execution_count": null,
   "id": "1b5eb6f9",
   "metadata": {},
   "outputs": [],
   "source": [
    "# when executed in integration mode, IQ data of each state readout is still available\n",
    "my_data = my_results.get_data(\"qubit_state\")\n",
    "my_data"
   ]
  },
  {
   "cell_type": "code",
   "execution_count": null,
   "id": "7dafdd44",
   "metadata": {},
   "outputs": [],
   "source": [
    "## have a look at the sequencer code for the QA unit, making the measurements\n",
    "print(my_compiled_exp.src[0][\"text\"])"
   ]
  },
  {
   "cell_type": "code",
   "execution_count": null,
   "id": "c862456d",
   "metadata": {},
   "outputs": [],
   "source": [
    "## have a look at the sequencer code for the SG unit, playing the feedback pulses\n",
    "print(my_compiled_exp.src[1][\"text\"])"
   ]
  },
  {
   "cell_type": "code",
   "execution_count": null,
   "id": "5d2ff1bf",
   "metadata": {},
   "outputs": [],
   "source": []
  }
 ],
 "metadata": {
  "kernelspec": {
   "display_name": "laboneq_apps",
   "language": "python",
   "name": "python3"
  },
  "language_info": {
   "codemirror_mode": {
    "name": "ipython",
    "version": 3
   },
   "file_extension": ".py",
   "mimetype": "text/x-python",
   "name": "python",
   "nbconvert_exporter": "python",
   "pygments_lexer": "ipython3",
   "version": "3.11.10"
  }
 },
 "nbformat": 4,
 "nbformat_minor": 5
}
