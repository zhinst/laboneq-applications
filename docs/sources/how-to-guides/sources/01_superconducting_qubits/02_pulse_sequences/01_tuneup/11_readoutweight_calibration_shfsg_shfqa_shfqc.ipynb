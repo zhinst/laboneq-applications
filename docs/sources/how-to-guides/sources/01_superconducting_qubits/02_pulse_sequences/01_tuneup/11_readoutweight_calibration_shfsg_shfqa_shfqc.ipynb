{
 "cells": [
  {
   "attachments": {},
   "cell_type": "markdown",
   "id": "fe2d00d7-c88e-4c5c-a2ca-8d6bc78ebe3e",
   "metadata": {
    "tags": []
   },
   "source": [
    "# Readout weight calibration\n",
    "\n",
    "In this notebook, you will learn how to calibrate and use optimal integration weights to distinguish between qubits states in circuit QED.\n",
    "\n",
    "This demonstration runs without connection to real qubits, assuming a loopback on the readout drive line directly into the readoud acquisition line. We emulate the measurement signals corresponding to different qubit states by two different measurement pulses, differing only by a phase."
   ]
  },
  {
   "attachments": {},
   "cell_type": "markdown",
   "id": "4d4e7d0b-b53a-40e4-831c-236ed9d97c42",
   "metadata": {},
   "source": [
    "## 0. General Imports and Definitions"
   ]
  },
  {
   "attachments": {},
   "cell_type": "markdown",
   "id": "f3ecf2ff-f304-472a-b6d2-a50792a39a0d",
   "metadata": {
    "jp-MarkdownHeadingCollapsed": true,
    "tags": []
   },
   "source": [
    "### 0.1 Python Imports "
   ]
  },
  {
   "cell_type": "code",
   "execution_count": null,
   "id": "6c9d9b4c",
   "metadata": {},
   "outputs": [],
   "source": [
    "import matplotlib.pyplot as plt\n",
    "import numpy as np\n",
    "from laboneq.analysis import calculate_integration_kernels_thresholds\n",
    "\n",
    "# Helpers:\n",
    "from laboneq.contrib.example_helpers.feedback_helper import (\n",
    "    create_calibration_experiment,\n",
    "    create_integration_verification_experiment,\n",
    "    state_emulation_pulse,\n",
    ")\n",
    "from laboneq.contrib.example_helpers.generate_example_datastore import (\n",
    "    generate_example_datastore,\n",
    "    get_first_named_entry,\n",
    ")\n",
    "\n",
    "# all LabOne Q functionality\n",
    "from laboneq.simple import *"
   ]
  },
  {
   "cell_type": "code",
   "execution_count": null,
   "id": "40d954b8",
   "metadata": {},
   "outputs": [],
   "source": [
    "# Build an in-memory data store with device setup and qubit parameters for the\n",
    "# example notebooks\n",
    "dummy_db = generate_example_datastore(in_memory=True)\n",
    "\n",
    "use_emulation = True"
   ]
  },
  {
   "cell_type": "markdown",
   "id": "7dd26aea",
   "metadata": {},
   "source": [
    "## 1. Device setup and calibration"
   ]
  },
  {
   "cell_type": "markdown",
   "id": "4c8530c1",
   "metadata": {},
   "source": [
    "### 1.1 Load a calibrated Device Setup and qubit object"
   ]
  },
  {
   "cell_type": "code",
   "execution_count": null,
   "id": "e2e93f09",
   "metadata": {},
   "outputs": [],
   "source": [
    "my_setup = get_first_named_entry(\n",
    "    db=dummy_db,\n",
    "    name=\"6_tuneable_qubit_setup_shfsg_shfqa_hdawg_pqsc_calibrated\",\n",
    ")\n",
    "\n",
    "my_qubit = my_setup.qubits[0]\n",
    "\n",
    "q0 = my_setup.logical_signal_groups[\"q0\"].logical_signals\n",
    "q1 = my_setup.logical_signal_groups[\"q1\"].logical_signals"
   ]
  },
  {
   "cell_type": "markdown",
   "id": "ac2de66e",
   "metadata": {},
   "source": [
    "### 1.2 Adapt setup calibration\n",
    "\n",
    "In this notebook we are using a pulse played from a second measure line to emulate the qubit being in the excited state. In this case we want to have the same instrument settings for the two used measurement lines. \n",
    "Additionally, for the method of readout weight calibration demonstrated in this notebook, the acquire line should not be modulated, as the calculated readout weights already contain the software modulation by construction."
   ]
  },
  {
   "cell_type": "code",
   "execution_count": null,
   "id": "3e1c7e84",
   "metadata": {},
   "outputs": [],
   "source": [
    "readout_weight_calibration = Calibration()\n",
    "readout_weight_calibration[\"/logical_signal_groups/q1/measure_line\"] = (\n",
    "    my_setup.get_calibration()[\"/logical_signal_groups/q0/measure_line\"]\n",
    ")\n",
    "readout_weight_calibration[\"/logical_signal_groups/q0/acquire_line\"] = (\n",
    "    my_setup.get_calibration()[\"/logical_signal_groups/q0/acquire_line\"]\n",
    ")\n",
    "readout_weight_calibration[\"/logical_signal_groups/q0/acquire_line\"].oscillator = None\n",
    "\n",
    "# print(readout_weight_calibration)\n",
    "\n",
    "my_setup.set_calibration(readout_weight_calibration)\n",
    "\n",
    "# print(my_setup.get_calibration())"
   ]
  },
  {
   "cell_type": "code",
   "execution_count": null,
   "id": "ead957c4",
   "metadata": {},
   "outputs": [],
   "source": [
    "# create and connect to a LabOne Q session\n",
    "my_session = Session(device_setup=my_setup)\n",
    "my_session.connect(do_emulation=use_emulation)"
   ]
  },
  {
   "cell_type": "markdown",
   "id": "08c6a74e",
   "metadata": {},
   "source": [
    "## 2. Calibration of state discrimination\n",
    "\n",
    "We determine the optimal integration weights by measuring traces of the qubit states and computing an integration kernel using the toolkit routines. We simulate different qubit responses by playing pulses with different phases and amplitudes on the readout line. We have to make sure that the traces are a multiple of 16 samples long."
   ]
  },
  {
   "cell_type": "markdown",
   "id": "313a2701",
   "metadata": {},
   "source": [
    "### 2.1 Obtain traces"
   ]
  },
  {
   "cell_type": "code",
   "execution_count": null,
   "id": "1e234978",
   "metadata": {},
   "outputs": [],
   "source": [
    "num_states = 2\n",
    "\n",
    "experiments = [\n",
    "    create_calibration_experiment(\n",
    "        state_emulation_pulse=state_emulation_pulse(),\n",
    "        qubit_state=i,\n",
    "        measure_signal=k[\"measure_line\"],\n",
    "        acquire_signal=q0[\"acquire_line\"],\n",
    "    )\n",
    "    for i, k in enumerate([q0, q1])\n",
    "]\n",
    "\n",
    "traces = []\n",
    "for exp in experiments:\n",
    "    res = my_session.run(exp)\n",
    "    trace = res.get_data(\"raw\")\n",
    "    traces.append(trace[: (len(trace) // 16) * 16])\n",
    "\n",
    "# In emulation mode, the 'acquired' traces are all identical. Consequently, the computation of the optimal\n",
    "# discrimination weights will fail. Instead we 'patch' the traces with an artificial phase.\n",
    "if use_emulation:\n",
    "    for i in range(num_states):\n",
    "        phase = np.exp(2j * np.pi * i / num_states)\n",
    "        traces[i] *= phase"
   ]
  },
  {
   "cell_type": "markdown",
   "id": "35b0736f",
   "metadata": {},
   "source": [
    "### 2.2 Compute kernels"
   ]
  },
  {
   "cell_type": "markdown",
   "id": "c9f9c955",
   "metadata": {},
   "source": [
    "We only need the number of states minus 1 kernels, the additional kernel is computed on the device."
   ]
  },
  {
   "cell_type": "code",
   "execution_count": null,
   "id": "8b542144",
   "metadata": {},
   "outputs": [],
   "source": [
    "# Calculate and plot kernels\n",
    "kernels, thresholds = calculate_integration_kernels_thresholds(traces)\n",
    "\n",
    "for i, k in enumerate(kernels):\n",
    "    plt.plot(k.samples.real, k.samples.imag, [\"ro-\", \"gx-\", \"b+-\"][i], alpha=0.2)"
   ]
  },
  {
   "cell_type": "markdown",
   "id": "23004293",
   "metadata": {},
   "source": [
    "### 2.3 Plot acquired results after readout optimization\n",
    "\n",
    "When using the optimized kernels calculated in the last step, the integration results for ground and excited states are rotated so that a projection onto the real axis allows for later discrimination with a real-valued threshold."
   ]
  },
  {
   "cell_type": "code",
   "execution_count": null,
   "id": "2118245b",
   "metadata": {},
   "outputs": [],
   "source": [
    "my_exp = create_integration_verification_experiment(\n",
    "    measure_lines=[q0[\"measure_line\"], q1[\"measure_line\"]],\n",
    "    acquire_line=q0[\"acquire_line\"],\n",
    "    kernels=kernels,\n",
    "    state_emulation_pulse=state_emulation_pulse,\n",
    "    thresholds=thresholds,\n",
    ")\n",
    "\n",
    "integration_results = my_session.run(my_exp)"
   ]
  },
  {
   "cell_type": "code",
   "execution_count": null,
   "id": "44f57ac7",
   "metadata": {},
   "outputs": [],
   "source": [
    "s0 = integration_results.get_data(\"data_0\").real\n",
    "s1 = integration_results.get_data(\"data_1\").real\n",
    "\n",
    "plt.plot(s0, \".b\")\n",
    "plt.plot(s1, \".r\")"
   ]
  }
 ],
 "metadata": {
  "kernelspec": {
   "display_name": "ZI_LabOneQ_2p11",
   "language": "python",
   "name": "python3"
  },
  "language_info": {
   "codemirror_mode": {
    "name": "ipython",
    "version": 3
   },
   "file_extension": ".py",
   "mimetype": "text/x-python",
   "name": "python",
   "nbconvert_exporter": "python",
   "pygments_lexer": "ipython3",
   "version": "3.12.1"
  }
 },
 "nbformat": 4,
 "nbformat_minor": 5
}
