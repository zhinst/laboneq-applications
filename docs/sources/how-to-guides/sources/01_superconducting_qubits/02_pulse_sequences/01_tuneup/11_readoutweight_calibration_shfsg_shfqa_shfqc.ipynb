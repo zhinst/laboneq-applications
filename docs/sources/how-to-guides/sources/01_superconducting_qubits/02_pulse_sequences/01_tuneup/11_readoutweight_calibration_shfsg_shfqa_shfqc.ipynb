{
 "cells": [
  {
   "attachments": {},
   "cell_type": "markdown",
   "id": "fe2d00d7-c88e-4c5c-a2ca-8d6bc78ebe3e",
   "metadata": {
    "tags": []
   },
   "source": [
    "# Readout weight calibration\n",
    "\n",
    "In this notebook, you will learn how to calibrate and use optimal integration weights to distinguish between qubits states in circuit QED.\n",
    "\n",
    "This demonstration runs without connection to real qubits, assuming a loopback on the readout drive line directly into the readoud acquisition line. We emulate the measurement signals corresponding to different qubit states by two different measurement pulses, differing only by a phase."
   ]
  },
  {
   "attachments": {},
   "cell_type": "markdown",
   "id": "4d4e7d0b-b53a-40e4-831c-236ed9d97c42",
   "metadata": {},
   "source": [
    "## 0. General Imports and Definitions"
   ]
  },
  {
   "attachments": {},
   "cell_type": "markdown",
   "id": "f3ecf2ff-f304-472a-b6d2-a50792a39a0d",
   "metadata": {
    "jp-MarkdownHeadingCollapsed": true,
    "tags": []
   },
   "source": [
    "### 0.1 Python Imports "
   ]
  },
  {
   "cell_type": "code",
   "execution_count": null,
   "id": "6c9d9b4c",
   "metadata": {},
   "outputs": [],
   "source": [
    "import matplotlib.pyplot as plt\n",
    "import numpy as np\n",
    "from laboneq.analysis import calculate_integration_kernels_thresholds\n",
    "\n",
    "# Helpers:\n",
    "from laboneq.contrib.example_helpers.feedback_helper import (\n",
    "    create_calibration_experiment,\n",
    "    create_integration_verification_experiment,\n",
    "    state_emulation_pulse,\n",
    ")\n",
    "from laboneq.contrib.example_helpers.generate_device_setup import (\n",
    "    generate_device_setup_qubits,\n",
    ")\n",
    "\n",
    "# all LabOne Q functionality\n",
    "from laboneq.simple import *"
   ]
  },
  {
   "cell_type": "markdown",
   "id": "7dd26aea",
   "metadata": {},
   "source": [
    "## 1. Device setup and calibration"
   ]
  },
  {
   "cell_type": "markdown",
   "id": "4c8530c1",
   "metadata": {},
   "source": [
    "### 1.1 Generate a calibrated Device Setup and qubit objects\n",
    "\n",
    "We'll generate a device setup and some qubit objects using a set of pre-defined parameters in a helper function. "
   ]
  },
  {
   "cell_type": "code",
   "execution_count": null,
   "id": "f30c2de1",
   "metadata": {},
   "outputs": [],
   "source": [
    "# specify the number of qubits you want to use\n",
    "number_of_qubits = 2\n",
    "\n",
    "# generate the device setup and the qubit objects using a helper function\n",
    "device_setup, qubits = generate_device_setup_qubits(\n",
    "    number_qubits=number_of_qubits,\n",
    "    pqsc=[{\"serial\": \"DEV10001\"}],\n",
    "    hdawg=[\n",
    "        {\n",
    "            \"serial\": \"DEV8001\",\n",
    "            \"number_of_channels\": 8,\n",
    "            \"options\": None,\n",
    "        }\n",
    "    ],\n",
    "    shfqc=[\n",
    "        {\n",
    "            \"serial\": \"DEV12001\",\n",
    "            \"number_of_channels\": 6,\n",
    "            \"readout_multiplex\": 6,\n",
    "            \"options\": None,\n",
    "        }\n",
    "    ],\n",
    "    multiplex_drive_lines=True,\n",
    "    include_flux_lines=True,\n",
    "    server_host=\"localhost\",\n",
    "    setup_name=f\"my_{number_of_qubits}_tunable_qubit_setup\",\n",
    ")\n",
    "\n",
    "q0, q1 = qubits[:2]"
   ]
  },
  {
   "cell_type": "markdown",
   "id": "ac2de66e",
   "metadata": {},
   "source": [
    "### 1.2 Adapt setup calibration\n",
    "\n",
    "In this notebook we are using a pulse played from a second measure line to emulate the qubit being in the excited state. In this case we want to have the same instrument settings for the two used measurement lines. \n",
    "Additionally, for the method of readout weight calibration demonstrated in this notebook, the acquire line should not be modulated, as the calculated readout weights already contain the software modulation by construction."
   ]
  },
  {
   "cell_type": "code",
   "execution_count": null,
   "id": "3e1c7e84",
   "metadata": {},
   "outputs": [],
   "source": [
    "readout_weight_calibration = Calibration()\n",
    "readout_weight_calibration[\"/logical_signal_groups/q1/measure\"] = (\n",
    "    device_setup.get_calibration()[\"/logical_signal_groups/q0/measure\"]\n",
    ")\n",
    "readout_weight_calibration[\"/logical_signal_groups/q0/acquire\"] = (\n",
    "    device_setup.get_calibration()[\"/logical_signal_groups/q0/acquire\"]\n",
    ")\n",
    "readout_weight_calibration[\"/logical_signal_groups/q0/acquire\"].oscillator = None\n",
    "\n",
    "# print(readout_weight_calibration)\n",
    "\n",
    "device_setup.set_calibration(readout_weight_calibration)\n",
    "\n",
    "# print(device_setup.get_calibration())"
   ]
  },
  {
   "cell_type": "code",
   "execution_count": null,
   "id": "6097b9c9",
   "metadata": {},
   "outputs": [],
   "source": [
    "# use emulation mode - no connection to instruments\n",
    "use_emulation = True\n",
    "\n",
    "# create and connect to a session\n",
    "session = Session(device_setup=device_setup)\n",
    "session.connect(do_emulation=use_emulation)"
   ]
  },
  {
   "cell_type": "markdown",
   "id": "08c6a74e",
   "metadata": {},
   "source": [
    "## 2. Calibration of state discrimination\n",
    "\n",
    "We determine the optimal integration weights by measuring traces of the qubit states and computing an integration kernel using the toolkit routines. We simulate different qubit responses by playing pulses with different phases and amplitudes on the readout line. We have to make sure that the traces are a multiple of 16 samples long."
   ]
  },
  {
   "cell_type": "markdown",
   "id": "313a2701",
   "metadata": {},
   "source": [
    "### 2.1 Obtain traces"
   ]
  },
  {
   "cell_type": "code",
   "execution_count": null,
   "id": "1e234978",
   "metadata": {},
   "outputs": [],
   "source": [
    "num_states = 2\n",
    "used_qubits = [q0, q1]\n",
    "\n",
    "calibration_experiment = create_calibration_experiment(\n",
    "    state_emulation_pulse=state_emulation_pulse(),\n",
    "    qubit_states=range(num_states),\n",
    "    measure_signals=[q.signals[\"measure\"] for q in used_qubits],\n",
    "    acquire_signal=q0.signals[\"acquire\"],\n",
    ")\n",
    "\n",
    "calibration_results = session.run(calibration_experiment)\n",
    "\n",
    "calibration_traces = []\n",
    "for it in range(num_states):\n",
    "    trace = calibration_results.get_data(f\"raw_{it}\")\n",
    "    calibration_traces.append(trace[: (len(trace) // 16) * 16])\n",
    "\n",
    "\n",
    "# In emulation mode, the 'acquired' traces are all identical. Consequently, the computation of the optimal\n",
    "# discrimination weights will fail. Instead we 'patch' the traces with an artificial phase.\n",
    "if use_emulation:\n",
    "    for i in range(num_states):\n",
    "        phase = np.exp(2j * np.pi * i / num_states)\n",
    "        calibration_traces[i] *= phase"
   ]
  },
  {
   "cell_type": "markdown",
   "id": "35b0736f",
   "metadata": {},
   "source": [
    "### 2.2 Compute kernels"
   ]
  },
  {
   "cell_type": "markdown",
   "id": "c9f9c955",
   "metadata": {},
   "source": [
    "We only need the number of states minus 1 kernels, the additional kernel is computed on the device."
   ]
  },
  {
   "cell_type": "code",
   "execution_count": null,
   "id": "8b542144",
   "metadata": {},
   "outputs": [],
   "source": [
    "# Calculate and plot kernels\n",
    "kernels, thresholds = calculate_integration_kernels_thresholds(calibration_traces)\n",
    "\n",
    "for i, k in enumerate(kernels):\n",
    "    plt.plot(k.samples.real, k.samples.imag, [\"ro-\", \"gx-\", \"b+-\"][i], alpha=0.2)"
   ]
  },
  {
   "cell_type": "markdown",
   "id": "23004293",
   "metadata": {},
   "source": [
    "### 2.3 Plot acquired results after readout optimization\n",
    "\n",
    "When using the optimized kernels calculated in the last step, the integration results for ground and excited states are rotated so that a projection onto the real axis allows for later discrimination with a real-valued threshold."
   ]
  },
  {
   "cell_type": "code",
   "execution_count": null,
   "id": "2118245b",
   "metadata": {},
   "outputs": [],
   "source": [
    "my_exp = create_integration_verification_experiment(\n",
    "    measure_lines=[q0.signals[\"measure\"], q1.signals[\"measure\"]],\n",
    "    acquire_line=q0.signals[\"acquire\"],\n",
    "    kernels=kernels,\n",
    "    state_emulation_pulse=state_emulation_pulse,\n",
    "    thresholds=thresholds,\n",
    ")\n",
    "\n",
    "integration_results = session.run(my_exp)"
   ]
  },
  {
   "cell_type": "code",
   "execution_count": null,
   "id": "44f57ac7",
   "metadata": {},
   "outputs": [],
   "source": [
    "s0 = integration_results.get_data(\"data_0\").real\n",
    "s1 = integration_results.get_data(\"data_1\").real\n",
    "\n",
    "plt.plot(s0, \".b\")\n",
    "plt.plot(s1, \".r\")"
   ]
  }
 ],
 "metadata": {
  "kernelspec": {
   "display_name": "develop",
   "language": "python",
   "name": "python3"
  },
  "language_info": {
   "codemirror_mode": {
    "name": "ipython",
    "version": 3
   },
   "file_extension": ".py",
   "mimetype": "text/x-python",
   "name": "python",
   "nbconvert_exporter": "python",
   "pygments_lexer": "ipython3",
   "version": "3.12.4"
  }
 },
 "nbformat": 4,
 "nbformat_minor": 5
}
