{
 "cells": [
  {
   "cell_type": "markdown",
   "id": "0ed599f8-b026-4714-8243-4df4bc485ea6",
   "metadata": {},
   "source": [
    "# T_1 Experiment\n",
    "\n",
    "This notebook demonstrates how to perform a measurement of the lifetime of a qubit, assuming qubit rotations are already calibrated."
   ]
  },
  {
   "cell_type": "markdown",
   "id": "7b5931a0",
   "metadata": {},
   "source": [
    "## 0. General Imports and Definitions"
   ]
  },
  {
   "cell_type": "markdown",
   "id": "794c96df",
   "metadata": {},
   "source": [
    "### 0.1 Python Imports "
   ]
  },
  {
   "cell_type": "code",
   "execution_count": null,
   "id": "537d6564",
   "metadata": {},
   "outputs": [],
   "source": [
    "# Helpers:\n",
    "from laboneq.contrib.example_helpers.generate_device_setup import (\n",
    "    generate_device_setup_qubits,\n",
    ")\n",
    "from laboneq.contrib.example_helpers.plotting.plot_helpers import *\n",
    "\n",
    "# LabOne Q:\n",
    "from laboneq.simple import *"
   ]
  },
  {
   "cell_type": "markdown",
   "id": "49093a99",
   "metadata": {},
   "source": [
    "## 1. Device Setup\n",
    "\n",
    "Below, you'll create a device setup and choose to run this notebook in emulated mode or directly on the control hardware, by specifying `use_emulation = True/False` respectively.\n",
    "\n",
    "If you run on your hardware, you need to generate a device setup first, please have a look at our [device setup tutorial](https://docs.zhinst.com/labone_q_user_manual//tutorials/tutorials/01_device_setup/) for how to do this in general. \n",
    "Here, we use a helper functions to generate the device setup and a set up qubit objects with pre-defined parameters. "
   ]
  },
  {
   "cell_type": "code",
   "execution_count": null,
   "id": "8f064c87",
   "metadata": {},
   "outputs": [],
   "source": [
    "# specify the number of qubits you want to use\n",
    "number_of_qubits = 2\n",
    "\n",
    "# generate the device setup and the qubit objects using a helper function\n",
    "device_setup, qubits = generate_device_setup_qubits(\n",
    "    number_qubits=number_of_qubits,\n",
    "    pqsc=[{\"serial\": \"DEV10001\"}],\n",
    "    hdawg=[\n",
    "        {\n",
    "            \"serial\": \"DEV8001\",\n",
    "            \"zsync\": 0,\n",
    "            \"number_of_channels\": 8,\n",
    "            \"options\": None,\n",
    "        }\n",
    "    ],\n",
    "    shfqc=[\n",
    "        {\n",
    "            \"serial\": \"DEV12001\",\n",
    "            \"zsync\": 1,\n",
    "            \"number_of_channels\": 6,\n",
    "            \"readout_multiplex\": 6,\n",
    "            \"options\": None,\n",
    "        }\n",
    "    ],\n",
    "    multiplex_drive_lines=True,\n",
    "    include_flux_lines=True,\n",
    "    server_host=\"localhost\",\n",
    "    setup_name=f\"my_{number_of_qubits}_tunable_qubit_setup\",\n",
    ")\n",
    "\n",
    "q0, q1 = qubits[:2]"
   ]
  },
  {
   "cell_type": "code",
   "execution_count": null,
   "id": "899246d1",
   "metadata": {},
   "outputs": [],
   "source": [
    "# use emulation mode - no connection to instruments\n",
    "use_emulation = True\n",
    "\n",
    "# create and connect to a session\n",
    "session = Session(device_setup=device_setup)\n",
    "session.connect(do_emulation=use_emulation)"
   ]
  },
  {
   "cell_type": "markdown",
   "id": "76f8bebd-da55-487e-b290-9dc15f495678",
   "metadata": {},
   "source": [
    "## 2. Experiment Definition"
   ]
  },
  {
   "cell_type": "code",
   "execution_count": null,
   "id": "b67ba967",
   "metadata": {},
   "outputs": [],
   "source": [
    "#  signal map for qubit\n",
    "def map_qubit(qubit):\n",
    "    return {\n",
    "        \"drive\": qubit.signals[\"drive\"],\n",
    "        \"measure\": qubit.signals[\"measure\"],\n",
    "        \"acquire\": qubit.signals[\"acquire\"],\n",
    "    }"
   ]
  },
  {
   "cell_type": "code",
   "execution_count": null,
   "id": "854c9b93",
   "metadata": {},
   "outputs": [],
   "source": [
    "## define pulses\n",
    "# qubit drive pulse - use amplitude calibrated by amplitude Rabi experiment\n",
    "x180 = pulse_library.gaussian(uid=\"x180\", length=100e-9, amplitude=0.66)\n",
    "# readout drive pulse\n",
    "readout_pulse = pulse_library.const(uid=\"readout_pulse\", length=400e-9, amplitude=1.0)\n",
    "# readout integration weights\n",
    "readout_weighting_function = pulse_library.const(\n",
    "    uid=\"readout_weighting_function\", length=400e-9, amplitude=1.0\n",
    ")"
   ]
  },
  {
   "cell_type": "markdown",
   "id": "d2afd5d9",
   "metadata": {},
   "source": [
    "### 2.1 Experiment Pulse Sequence"
   ]
  },
  {
   "cell_type": "code",
   "execution_count": null,
   "id": "f3f974fb",
   "metadata": {},
   "outputs": [],
   "source": [
    "# sweep parameter - delay before readout / after pi pulse\n",
    "count = 11\n",
    "start = 0\n",
    "stop = 1e-6\n",
    "delay_sweep = LinearSweepParameter(uid=\"delay\", start=start, stop=stop, count=count)\n",
    "\n",
    "# number of averages\n",
    "average_exponent = 4  # used for 2^n averages, n=average_exponent, maximum: n = 17\n",
    "\n",
    "# Create Experiment\n",
    "exp = Experiment(\n",
    "    uid=\"T1 experiment\",\n",
    "    signals=[\n",
    "        ExperimentSignal(\"drive\"),\n",
    "        ExperimentSignal(\"measure\"),\n",
    "        ExperimentSignal(\"acquire\"),\n",
    "    ],\n",
    ")\n",
    "## experimental pulse sequence\n",
    "# outer loop - real-time, cyclic averaging in standard integration mode\n",
    "with exp.acquire_loop_rt(\n",
    "    uid=\"shots\",\n",
    "    count=pow(2, average_exponent),\n",
    "    averaging_mode=AveragingMode.CYCLIC,\n",
    "    acquisition_type=AcquisitionType.INTEGRATION,\n",
    "    repetition_mode=RepetitionMode.AUTO,  # compiler sets repetition time to shortest possible constant time\n",
    "):\n",
    "    # inner loop - sweep over delay between qubit excitation and readout pulse\n",
    "    # right alignment makes sure the readout section follows a fixed timing, being the last element in each shot\n",
    "    with exp.sweep(\n",
    "        uid=\"sweep\", parameter=delay_sweep, alignment=SectionAlignment.RIGHT\n",
    "    ):\n",
    "        # qubit drive pulse followed by variable delay\n",
    "        with exp.section(uid=\"qubit_excitation\", alignment=SectionAlignment.RIGHT):\n",
    "            exp.play(signal=\"drive\", pulse=x180)\n",
    "            exp.delay(signal=\"drive\", time=delay_sweep)\n",
    "        # qubit readout pulse and data acquisition\n",
    "        with exp.section(uid=\"qubit_readout\", play_after=\"qubit_excitation\"):\n",
    "            # play readout pulse\n",
    "            exp.play(signal=\"measure\", pulse=readout_pulse)\n",
    "            # signal data acquisition\n",
    "            exp.acquire(\n",
    "                signal=\"acquire\",\n",
    "                handle=\"ac_0\",\n",
    "                kernel=readout_weighting_function,\n",
    "            )\n",
    "        # relax time after readout - for signal processing and qubit relaxation to ground state\n",
    "        with exp.section(uid=\"relax\", length=1e-6):\n",
    "            exp.reserve(signal=\"measure\")"
   ]
  },
  {
   "cell_type": "code",
   "execution_count": null,
   "id": "51b9e15f",
   "metadata": {},
   "outputs": [],
   "source": [
    "# define signal maps for qubit 0\n",
    "map_q0 = {\n",
    "    \"drive\": device_setup.logical_signal_groups[\"q0\"].logical_signals[\"drive\"],\n",
    "    \"measure\": device_setup.logical_signal_groups[\"q0\"].logical_signals[\"measure\"],\n",
    "    \"acquire\": device_setup.logical_signal_groups[\"q0\"].logical_signals[\"acquire\"],\n",
    "}"
   ]
  },
  {
   "cell_type": "markdown",
   "id": "62b0e602-da60-468b-ae92-64ecc8fcc4c0",
   "metadata": {},
   "source": [
    "### 2.2 Run the Experiment and Plot the Measurement Results and Pulse Sheet"
   ]
  },
  {
   "cell_type": "code",
   "execution_count": null,
   "id": "794f06be-5a6f-4425-b678-a59c8b1ab593",
   "metadata": {},
   "outputs": [],
   "source": [
    "# map exp to qubit 0\n",
    "exp.set_signal_map(map_qubit(q0))\n",
    "\n",
    "# run on qubit 0\n",
    "my_results = session.run(exp)"
   ]
  },
  {
   "cell_type": "code",
   "execution_count": null,
   "id": "707f46b2",
   "metadata": {},
   "outputs": [],
   "source": [
    "# Plot simulated output signals\n",
    "plot_simulation(session.compiled_experiment, start_time=0, length=10e-6)"
   ]
  },
  {
   "cell_type": "code",
   "execution_count": null,
   "id": "afae69e0",
   "metadata": {},
   "outputs": [],
   "source": [
    "# plot measurement results\n",
    "plot_result_2d(my_results, \"ac_0\")"
   ]
  },
  {
   "cell_type": "code",
   "execution_count": null,
   "id": "91baa7a5",
   "metadata": {},
   "outputs": [],
   "source": [
    "# use pulse sheet viewer to display the pulse sequence - only recommended for small number of averages and sweep steps to avoid performance issues\n",
    "show_pulse_sheet(\"T1\", session.compiled_experiment)"
   ]
  },
  {
   "cell_type": "code",
   "execution_count": null,
   "id": "15ceb7aa",
   "metadata": {},
   "outputs": [],
   "source": [
    "# map exp to qubit 1\n",
    "exp.set_signal_map(map_qubit(q1))\n",
    "\n",
    "# run on qubit 1\n",
    "my_results = session.run(exp)"
   ]
  },
  {
   "cell_type": "code",
   "execution_count": null,
   "id": "205b1cd0",
   "metadata": {},
   "outputs": [],
   "source": []
  }
 ],
 "metadata": {
  "hide_input": false,
  "kernelspec": {
   "display_name": "develop",
   "language": "python",
   "name": "python3"
  },
  "language_info": {
   "codemirror_mode": {
    "name": "ipython",
    "version": 3
   },
   "file_extension": ".py",
   "mimetype": "text/x-python",
   "name": "python",
   "nbconvert_exporter": "python",
   "pygments_lexer": "ipython3",
   "version": "3.12.4"
  },
  "toc": {
   "base_numbering": 1,
   "nav_menu": {},
   "number_sections": true,
   "sideBar": true,
   "skip_h1_title": false,
   "title_cell": "Table of Contents",
   "title_sidebar": "Contents",
   "toc_cell": false,
   "toc_position": {
    "height": "calc(100% - 180px)",
    "left": "10px",
    "top": "150px",
    "width": "426.667px"
   },
   "toc_section_display": true,
   "toc_window_display": true
  },
  "varInspector": {
   "cols": {
    "lenName": 16,
    "lenType": 16,
    "lenVar": 40
   },
   "kernels_config": {
    "python": {
     "delete_cmd_postfix": "",
     "delete_cmd_prefix": "del ",
     "library": "var_list.py",
     "varRefreshCmd": "print(var_dic_list())"
    },
    "r": {
     "delete_cmd_postfix": ") ",
     "delete_cmd_prefix": "rm(",
     "library": "var_list.r",
     "varRefreshCmd": "cat(var_dic_list()) "
    }
   },
   "types_to_exclude": [
    "module",
    "function",
    "builtin_function_or_method",
    "instance",
    "_Feature"
   ],
   "window_display": false
  }
 },
 "nbformat": 4,
 "nbformat_minor": 5
}
