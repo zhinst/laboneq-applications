{
 "cells": [
  {
   "cell_type": "markdown",
   "id": "0ed599f8-b026-4714-8243-4df4bc485ea6",
   "metadata": {},
   "source": [
    "# Cryoscope\n",
    "\n",
    "Alternate experiment to characterise the pulse distortions from line impedance, following https://arxiv.org/pdf/1907.04818.pdf - Ramsey sequence with fixed timing and variable flux pulse in between - sweeping flux pulse length and amplitude"
   ]
  },
  {
   "cell_type": "markdown",
   "id": "7c980909",
   "metadata": {},
   "source": [
    "## 0. General Imports and Definitions"
   ]
  },
  {
   "cell_type": "markdown",
   "id": "d78c6438",
   "metadata": {},
   "source": [
    "### 0.1 Python Imports"
   ]
  },
  {
   "cell_type": "code",
   "execution_count": null,
   "id": "f97aedf9",
   "metadata": {},
   "outputs": [],
   "source": [
    "# Helpers:\n",
    "from laboneq.contrib.example_helpers.generate_device_setup import (\n",
    "    generate_device_setup_qubits,\n",
    ")\n",
    "from laboneq.contrib.example_helpers.plotting.plot_helpers import *\n",
    "\n",
    "# LabOne Q:\n",
    "from laboneq.simple import *"
   ]
  },
  {
   "cell_type": "markdown",
   "id": "cdbc997f",
   "metadata": {},
   "source": [
    "## 1. Device Setup\n",
    "\n",
    "Below, you'll create a device setup and choose to run this notebook in emulated mode or directly on the control hardware, by specifying `use_emulation = True/False` respectively.\n",
    "\n",
    "If you run on your hardware, you need to generate a device setup first, please have a look at our [device setup tutorial](https://docs.zhinst.com/labone_q_user_manual//tutorials/tutorials/01_device_setup/) for how to do this in general. \n",
    "Here, we use a helper functions to generate the device setup and a set up qubit objects with pre-defined parameters. "
   ]
  },
  {
   "cell_type": "code",
   "execution_count": null,
   "id": "94c4e5d7",
   "metadata": {},
   "outputs": [],
   "source": [
    "# specify the number of qubits you want to use\n",
    "number_of_qubits = 2\n",
    "\n",
    "# generate the device setup and the qubit objects using a helper function\n",
    "device_setup, qubits = generate_device_setup_qubits(\n",
    "    number_qubits=number_of_qubits,\n",
    "    pqsc=[{\"serial\": \"DEV10001\"}],\n",
    "    hdawg=[\n",
    "        {\n",
    "            \"serial\": \"DEV8001\",\n",
    "            \"zsync\": 0,\n",
    "            \"number_of_channels\": 8,\n",
    "            \"options\": None,\n",
    "        }\n",
    "    ],\n",
    "    shfqc=[\n",
    "        {\n",
    "            \"serial\": \"DEV12001\",\n",
    "            \"zsync\": 1,\n",
    "            \"number_of_channels\": 6,\n",
    "            \"readout_multiplex\": 6,\n",
    "            \"options\": None,\n",
    "        }\n",
    "    ],\n",
    "    multiplex_drive_lines=True,\n",
    "    include_flux_lines=True,\n",
    "    server_host=\"localhost\",\n",
    "    setup_name=f\"my_{number_of_qubits}_tunable_qubit_setup\",\n",
    ")\n",
    "\n",
    "q0, q1 = qubits[:2]"
   ]
  },
  {
   "cell_type": "code",
   "execution_count": null,
   "id": "e54a7639",
   "metadata": {},
   "outputs": [],
   "source": [
    "# use emulation mode - no connection to instruments\n",
    "use_emulation = True\n",
    "\n",
    "# create and connect to a session\n",
    "session = Session(device_setup=device_setup)\n",
    "session.connect(do_emulation=use_emulation)"
   ]
  },
  {
   "cell_type": "markdown",
   "id": "9543bc09-aa41-4af1-bec1-f050d61b901e",
   "metadata": {},
   "source": [
    "## 2. Experiment Definition"
   ]
  },
  {
   "cell_type": "code",
   "execution_count": null,
   "id": "df20afd7",
   "metadata": {},
   "outputs": [],
   "source": [
    "#  signal map for qubit\n",
    "def map_qubit(qubit):\n",
    "    return {\n",
    "        \"drive\": qubit.signals[\"drive\"],\n",
    "        \"flux\": qubit.signals[\"flux\"],\n",
    "        \"measure\": qubit.signals[\"measure\"],\n",
    "        \"acquire\": qubit.signals[\"acquire\"],\n",
    "    }"
   ]
  },
  {
   "cell_type": "code",
   "execution_count": null,
   "id": "fb419230-1410-4173-9781-ecca9017a0e1",
   "metadata": {},
   "outputs": [],
   "source": [
    "## define standard pulses\n",
    "# qubit drive pulse - pi/2 rotation\n",
    "x90 = pulse_library.gaussian(uid=\"x90\", length=100e-9, amplitude=0.66)\n",
    "# readout drive pulse\n",
    "readout_pulse = pulse_library.const(uid=\"readout_pulse\", length=250e-9, amplitude=1.0)\n",
    "# readout weights for integration\n",
    "readout_weighting_function = pulse_library.const(\n",
    "    uid=\"readout_weighting_function\", length=200e-9, amplitude=1.0\n",
    ")"
   ]
  },
  {
   "cell_type": "code",
   "execution_count": null,
   "id": "00fbcf36-6a9f-4541-a6b1-d79d93835abf",
   "metadata": {},
   "outputs": [],
   "source": [
    "# define near time sweep parameter - pulse length\n",
    "length_start = 10e-9\n",
    "length_stop = 100e-9\n",
    "length_count = 5  # known issue: limited to max. 30 steps\n",
    "\n",
    "flux_length_sweep = LinearSweepParameter(\n",
    "    start=length_start, stop=length_stop, count=length_count\n",
    ")\n",
    "\n",
    "flux_pulse = pulse_library.const(uid=\"flux_pulse\", length=length_start, amplitude=1.0)"
   ]
  },
  {
   "cell_type": "code",
   "execution_count": null,
   "id": "477e0940",
   "metadata": {},
   "outputs": [],
   "source": [
    "# define flux amplitude sweep parameter\n",
    "flux_amp_count = 7\n",
    "\n",
    "flux_amp_sweep = LinearSweepParameter(\n",
    "    uid=\"flux_qubit\", start=0.1, stop=1, count=flux_amp_count\n",
    ")\n",
    "\n",
    "# define number of averages\n",
    "average_exponent = 1  # used for 2^n averages, n=average_exponent, maximum: n = 17"
   ]
  },
  {
   "cell_type": "markdown",
   "id": "b0ef8abe",
   "metadata": {},
   "source": [
    "### 2.1 Pulse Sequence"
   ]
  },
  {
   "cell_type": "code",
   "execution_count": null,
   "id": "6c37a3b2",
   "metadata": {},
   "outputs": [],
   "source": [
    "# Create Experiment - no explicit mapping to qubit lines\n",
    "exp = Experiment(\n",
    "    uid=\"Cryoscope experiment\",\n",
    "    signals=[\n",
    "        ExperimentSignal(\"flux\"),\n",
    "        ExperimentSignal(\"drive\"),\n",
    "        ExperimentSignal(\"measure\"),\n",
    "        ExperimentSignal(\"acquire\"),\n",
    "    ],\n",
    ")\n",
    "\n",
    "with exp.acquire_loop_rt(\n",
    "    uid=\"shots\",\n",
    "    count=pow(2, average_exponent),\n",
    "    averaging_mode=AveragingMode.CYCLIC,\n",
    "    acquisition_type=AcquisitionType.INTEGRATION,\n",
    "):\n",
    "    with exp.sweep(parameter=flux_amp_sweep):\n",
    "        with exp.sweep(parameter=flux_length_sweep):\n",
    "            # qubit excitation pulses - Ramsey with fixed timing\n",
    "            with exp.section(uid=\"ramsey\"):\n",
    "                # play first Ramsey excitation pulse\n",
    "                exp.play(signal=\"drive\", pulse=x90)\n",
    "                exp.delay(signal=\"drive\", time=2 * length_stop)\n",
    "                # play second Ramsey excitation pulse\n",
    "                exp.play(signal=\"drive\", pulse=x90)\n",
    "            # interleaved flux pulse with variable length and amplitude\n",
    "            with exp.section(uid=\"flux\"):\n",
    "                # delay while first Ramsey pulse is played\n",
    "                exp.delay(signal=\"flux\", time=x90.length)\n",
    "                # flux pulse\n",
    "                exp.play(\n",
    "                    signal=\"flux\",\n",
    "                    pulse=flux_pulse,\n",
    "                    amplitude=flux_amp_sweep,\n",
    "                    length=flux_length_sweep,\n",
    "                )\n",
    "            # readout and data acquisition\n",
    "            with exp.section(uid=\"qubit_readout\"):\n",
    "                exp.reserve(signal=\"drive\")\n",
    "                exp.reserve(signal=\"flux\")\n",
    "                # play readout pulse\n",
    "                exp.play(signal=\"measure\", pulse=readout_pulse)\n",
    "                # signal data acquisition\n",
    "                exp.acquire(\n",
    "                    signal=\"acquire\",\n",
    "                    handle=\"ac_0\",\n",
    "                    kernel=readout_weighting_function,\n",
    "                )\n",
    "            # relax time after readout - for signal processing and qubit relaxation to ground state\n",
    "            with exp.section(uid=\"relax\", length=1e-6):\n",
    "                exp.reserve(signal=\"measure\")"
   ]
  },
  {
   "cell_type": "markdown",
   "id": "cccae36a-a47f-4328-8f8a-062b8836f574",
   "metadata": {},
   "source": [
    "### 2.2 Run the Experiment and Plot the Measurement Results and Pulse Sheet"
   ]
  },
  {
   "cell_type": "code",
   "execution_count": null,
   "id": "0fe76b8b",
   "metadata": {},
   "outputs": [],
   "source": [
    "# set calibration and signal map for qubit 0\n",
    "exp.set_signal_map(map_qubit(q0))\n",
    "\n",
    "my_results = session.run(exp)"
   ]
  },
  {
   "cell_type": "code",
   "execution_count": null,
   "id": "d2a67b55",
   "metadata": {},
   "outputs": [],
   "source": [
    "# Plot simulated output signals\n",
    "plot_simulation(session.compiled_experiment, start_time=0, length=10e-6)"
   ]
  },
  {
   "cell_type": "code",
   "execution_count": null,
   "id": "78d14df6-7851-4551-83b5-55adcf0e8938",
   "metadata": {},
   "outputs": [],
   "source": [
    "# plot measurement results\n",
    "plot_result_3d(my_results, \"ac_0\")"
   ]
  },
  {
   "cell_type": "code",
   "execution_count": null,
   "id": "5f28d4fd",
   "metadata": {},
   "outputs": [],
   "source": [
    "# use pulse sheet viewer to display the pulse sequence - only recommended for small number of averages and sweep steps to avoid performance issues\n",
    "show_pulse_sheet(\"Cryoscope\", session.compiled_experiment)"
   ]
  },
  {
   "cell_type": "code",
   "execution_count": null,
   "id": "fab1575c",
   "metadata": {},
   "outputs": [],
   "source": [
    "# set calibration and signal map for qubit 1\n",
    "exp.set_signal_map(map_qubit(q1))\n",
    "\n",
    "my_results = session.run(exp)"
   ]
  },
  {
   "cell_type": "code",
   "execution_count": null,
   "id": "205b1cd0",
   "metadata": {},
   "outputs": [],
   "source": []
  }
 ],
 "metadata": {
  "hide_input": false,
  "kernelspec": {
   "display_name": "develop",
   "language": "python",
   "name": "python3"
  },
  "language_info": {
   "codemirror_mode": {
    "name": "ipython",
    "version": 3
   },
   "file_extension": ".py",
   "mimetype": "text/x-python",
   "name": "python",
   "nbconvert_exporter": "python",
   "pygments_lexer": "ipython3",
   "version": "3.12.4"
  },
  "toc": {
   "base_numbering": 1,
   "nav_menu": {},
   "number_sections": true,
   "sideBar": true,
   "skip_h1_title": false,
   "title_cell": "Table of Contents",
   "title_sidebar": "Contents",
   "toc_cell": false,
   "toc_position": {
    "height": "calc(100% - 180px)",
    "left": "10px",
    "top": "150px",
    "width": "426.667px"
   },
   "toc_section_display": true,
   "toc_window_display": true
  },
  "varInspector": {
   "cols": {
    "lenName": 16,
    "lenType": 16,
    "lenVar": 40
   },
   "kernels_config": {
    "python": {
     "delete_cmd_postfix": "",
     "delete_cmd_prefix": "del ",
     "library": "var_list.py",
     "varRefreshCmd": "print(var_dic_list())"
    },
    "r": {
     "delete_cmd_postfix": ") ",
     "delete_cmd_prefix": "rm(",
     "library": "var_list.r",
     "varRefreshCmd": "cat(var_dic_list()) "
    }
   },
   "types_to_exclude": [
    "module",
    "function",
    "builtin_function_or_method",
    "instance",
    "_Feature"
   ],
   "window_display": false
  }
 },
 "nbformat": 4,
 "nbformat_minor": 5
}
