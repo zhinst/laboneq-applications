{
 "cells": [
  {
   "attachments": {},
   "cell_type": "markdown",
   "metadata": {},
   "source": [
    "# Pulsed Qubit Spectroscopy\n",
    "\n",
    "This notebook shows you how to perform a qubit spectroscopy experiment. You'll find the resonance frequency of the qubit by measuring the change in resonator transmission when sweeping the frequency of a qubit excitation pulse."
   ]
  },
  {
   "attachments": {},
   "cell_type": "markdown",
   "metadata": {},
   "source": [
    "## 0. LabOne Q Imports\n",
    "\n",
    "You'll begin by importing `laboneq.simple` and some extra helper functions to run the examples. "
   ]
  },
  {
   "cell_type": "code",
   "execution_count": null,
   "metadata": {},
   "outputs": [],
   "source": [
    "# LabOne Q:\n",
    "import time\n",
    "from pathlib import Path\n",
    "\n",
    "from laboneq.contrib.example_helpers.generate_example_datastore import (\n",
    "    generate_example_datastore,\n",
    "    get_first_named_entry,\n",
    ")\n",
    "\n",
    "# Helpers:\n",
    "from laboneq.contrib.example_helpers.plotting.plot_helpers import (\n",
    "    plot_results,\n",
    "    plot_simulation,\n",
    ")\n",
    "from laboneq.simple import *"
   ]
  },
  {
   "cell_type": "code",
   "execution_count": null,
   "metadata": {},
   "outputs": [],
   "source": [
    "# Build an in-memory data store with device setup and qubit parameters for the\n",
    "# example notebooks\n",
    "setup_db = generate_example_datastore(in_memory=True)"
   ]
  },
  {
   "attachments": {},
   "cell_type": "markdown",
   "metadata": {},
   "source": [
    "## 1. Device Setup\n",
    "\n",
    "Below, you'll create a device setup and specify to run in an emulated mode or on hardware, `emulate = True/False` respectively.\n",
    "\n",
    "If you run on your hardware, the [descriptor](https://docs.zhinst.com/labone_q_user_manual/concepts/set_up_equipment/) called by `create_device_setup` should be replaced by one of your own, generally stored as a [YAML file](https://docs.zhinst.com/labone_q_user_manual/concepts/set_up_equipment/#labone_q.func_concepts.setting_up.set_up_equipment.descriptor). Once you have this descriptor, it can be reused for all your experiments."
   ]
  },
  {
   "cell_type": "code",
   "execution_count": null,
   "metadata": {},
   "outputs": [],
   "source": [
    "# load a calibrated device setup from the dummy database\n",
    "device_setup = get_first_named_entry(\n",
    "    db=setup_db, name=\"6_tuneable_qubit_setup_shfsg_shfqa_hdawg_pqsc_calibrated\"\n",
    ")\n",
    "\n",
    "emulate = True"
   ]
  },
  {
   "cell_type": "code",
   "execution_count": null,
   "metadata": {},
   "outputs": [],
   "source": [
    "# create and connect to a session\n",
    "session = Session(device_setup=device_setup)\n",
    "session.connect(do_emulation=emulate)"
   ]
  },
  {
   "attachments": {},
   "cell_type": "markdown",
   "metadata": {},
   "source": [
    "## 2. Experiment Parameters\n",
    "\n",
    "Now you'll define the frequency sweep parameters and pulse to use in your experiment."
   ]
  },
  {
   "cell_type": "code",
   "execution_count": null,
   "metadata": {},
   "outputs": [],
   "source": [
    "# define number of averages\n",
    "# used for 2^num_averages, maximum: num_averages = 17\n",
    "num_averages = 4\n",
    "\n",
    "# pulse parameters and definitions\n",
    "envelope_duration = 2.0e-6\n",
    "sigma = 0.2\n",
    "flat_duration = 1.0e-6\n",
    "\n",
    "\n",
    "def create_readout_pulse(\n",
    "    qubit, length=envelope_duration, amplitude=0.9, width=flat_duration, sigma=sigma\n",
    "):\n",
    "    readout_pulse = pulse_library.gaussian_square(\n",
    "        uid=f\"readout_pulse_{qubit}\",\n",
    "        length=length,\n",
    "        amplitude=amplitude,\n",
    "        width=width,\n",
    "        sigma=sigma,\n",
    "    )\n",
    "    return readout_pulse\n",
    "\n",
    "\n",
    "drive_length = 1e-6\n",
    "\n",
    "\n",
    "def create_drive_spec_pulse(qubit, length=drive_length, amplitude=0.9):\n",
    "    pulse = pulse_library.const(\n",
    "        uid=f\"drive_spec_pulse_{qubit}\", length=length, amplitude=amplitude\n",
    "    )\n",
    "    return pulse\n",
    "\n",
    "\n",
    "def create_drive_freq_sweep(qubit, start_freq, stop_freq, num_points):\n",
    "    return LinearSweepParameter(\n",
    "        uid=f\"drive_freq_{qubit}\", start=start_freq, stop=stop_freq, count=num_points\n",
    "    )"
   ]
  },
  {
   "attachments": {},
   "cell_type": "markdown",
   "metadata": {},
   "source": [
    "## 3. Experiment Definition\n",
    "\n",
    "To perform qubit spectroscopy, you'll create a function which generates an [experiment](https://docs.zhinst.com/labone_q_user_manual/concepts/experiment/). In this experiment, you'll pass a frequency sweep parameter as an argument to the [sweep section](https://docs.zhinst.com/labone_q_user_manual/concepts/averaging_sweeping/#labone_q.func_concepts.experiment.averaging_sweeping.parameters_sweeps). Within the sweep section, you'll create another [section](https://docs.zhinst.com/labone_q_user_manual/concepts/sections_and_pulses/) containing a `play` command to drive the qubit and an `play` and `acquire` commands to perform readout. Within the real-time acquisition section, you'll set use `INTEGRATION` as your acquisition type."
   ]
  },
  {
   "cell_type": "code",
   "execution_count": null,
   "metadata": {},
   "outputs": [],
   "source": [
    "# function that returns a qubit spectroscopy experiment- accepts frequency sweep range as parameter\n",
    "\n",
    "\n",
    "def qubit_spectroscopy(freq_sweep, drive_pulse, readout_pulse):\n",
    "    # Create qubit spectroscopy Experiment - uses qubit drive, readout drive and data acquisition lines\n",
    "    exp_qspec = Experiment(\n",
    "        uid=\"Qubit Spectroscopy\",\n",
    "        signals=[\n",
    "            ExperimentSignal(\"drive\"),\n",
    "            ExperimentSignal(\"measure\"),\n",
    "            ExperimentSignal(\"acquire\"),\n",
    "        ],\n",
    "    )\n",
    "\n",
    "    # inner loop - real-time averaging - QA in integration mode\n",
    "    with exp_qspec.acquire_loop_rt(\n",
    "        uid=\"freq_shots\",\n",
    "        count=2**num_averages,\n",
    "        acquisition_type=AcquisitionType.INTEGRATION,\n",
    "    ):\n",
    "        with exp_qspec.sweep(uid=\"qfreq_sweep\", parameter=freq_sweep):\n",
    "            # qubit drive\n",
    "            with exp_qspec.section(uid=\"qubit_excitation\"):\n",
    "                exp_qspec.play(signal=\"drive\", pulse=drive_pulse)\n",
    "            with exp_qspec.section(\n",
    "                uid=\"readout_section\", play_after=\"qubit_excitation\"\n",
    "            ):\n",
    "                # play readout pulse on measure line\n",
    "                exp_qspec.play(signal=\"measure\", pulse=readout_pulse)\n",
    "                # trigger signal data acquisition\n",
    "                exp_qspec.acquire(\n",
    "                    signal=\"acquire\",\n",
    "                    handle=\"qb_spec\",\n",
    "                    kernel=readout_pulse,\n",
    "                )\n",
    "            # relax time after readout - for qubit relaxation to groundstate and signal processing\n",
    "            with exp_qspec.section(uid=\"relax\", length=1e-6):\n",
    "                exp_qspec.reserve(signal=\"measure\")\n",
    "\n",
    "    return exp_qspec"
   ]
  },
  {
   "attachments": {},
   "cell_type": "markdown",
   "metadata": {},
   "source": [
    "### 3.1 Signal Map\n",
    "\n",
    "Before running the experiment, you'll define and set the mapping between the experimental and logical lines."
   ]
  },
  {
   "cell_type": "code",
   "execution_count": null,
   "metadata": {},
   "outputs": [],
   "source": [
    "# frequency range of spectroscopy scan - defined around expected qubit frequency as defined in qubit parameters\n",
    "qspec_range = 100e6\n",
    "# how many frequency points to measure\n",
    "qspec_num = 1001\n",
    "freq_sweep_q0 = create_drive_freq_sweep(\"q0\", -qspec_range, qspec_range, qspec_num)\n",
    "\n",
    "# experiment signal calibration for qubit 0\n",
    "exp_calibration_q0 = Calibration()\n",
    "exp_calibration_q0[\"drive\"] = SignalCalibration(\n",
    "    oscillator=Oscillator(\n",
    "        frequency=freq_sweep_q0,\n",
    "        modulation_type=ModulationType.HARDWARE,\n",
    "    ),\n",
    ")\n",
    "\n",
    "\n",
    "# signal map for qubit 0\n",
    "def signal_map_default(qubit):\n",
    "    signal_map = {\n",
    "        \"drive\": device_setup.logical_signal_groups[f\"{qubit}\"].logical_signals[\n",
    "            \"drive_line\"\n",
    "        ],\n",
    "        \"measure\": device_setup.logical_signal_groups[f\"{qubit}\"].logical_signals[\n",
    "            \"measure_line\"\n",
    "        ],\n",
    "        \"acquire\": device_setup.logical_signal_groups[f\"{qubit}\"].logical_signals[\n",
    "            \"acquire_line\"\n",
    "        ],\n",
    "    }\n",
    "    return signal_map\n",
    "\n",
    "\n",
    "# define experiment with frequency sweep for qubit 0\n",
    "drive_pulse = create_drive_spec_pulse(\"q0\")\n",
    "readout_pulse = create_readout_pulse(\"q0\", sigma=0.2, width=1e-6)\n",
    "\n",
    "exp_qspec = qubit_spectroscopy(freq_sweep_q0, drive_pulse, readout_pulse)\n",
    "\n",
    "# apply calibration and signal map for qubit 0\n",
    "exp_qspec.set_calibration(exp_calibration_q0)\n",
    "exp_qspec.set_signal_map(signal_map_default(\"q0\"))"
   ]
  },
  {
   "attachments": {},
   "cell_type": "markdown",
   "metadata": {},
   "source": [
    "### 3.2 Compile, Generate Pulse Sheet, and Plot Simulated Signals\n",
    "\n",
    "Now, you'll compile the experiment and generate a pulse sheet."
   ]
  },
  {
   "cell_type": "code",
   "execution_count": null,
   "metadata": {},
   "outputs": [],
   "source": [
    "# compile the experiment on the open instrument session\n",
    "compiled_qspec = session.compile(exp_qspec)\n",
    "\n",
    "Path(\"Pulse_Sheets\").mkdir(parents=True, exist_ok=True)\n",
    "# generate a pulse sheet to inspect experiment before runtime\n",
    "show_pulse_sheet(\"Pulse_Sheets/Qubit_Spectroscopy\", compiled_qspec)"
   ]
  },
  {
   "attachments": {},
   "cell_type": "markdown",
   "metadata": {},
   "source": [
    "In addition to creating a pulse sheet to inspect the timing of pulses, you can simulate physical output of the channels."
   ]
  },
  {
   "cell_type": "code",
   "execution_count": null,
   "metadata": {},
   "outputs": [],
   "source": [
    "plot_simulation(compiled_qspec, start_time=0, length=12e-6)"
   ]
  },
  {
   "attachments": {},
   "cell_type": "markdown",
   "metadata": {},
   "source": [
    "### 3.3 Run, Save, and Plot Results\n",
    "\n",
    "Finally, you'll run the experiment, save, and plot the results."
   ]
  },
  {
   "cell_type": "code",
   "execution_count": null,
   "metadata": {},
   "outputs": [],
   "source": [
    "# run the compiled experiemnt\n",
    "qspec_results = session.run(compiled_qspec)\n",
    "timestamp = time.strftime(\"%Y%m%dT%H%M%S\")\n",
    "Path(\"Results\").mkdir(parents=True, exist_ok=True)\n",
    "session.save_results(f\"Results/{timestamp}_qspec_results.json\")\n",
    "print(f\"File saved as Results/{timestamp}_qspec_results.json\")"
   ]
  },
  {
   "cell_type": "code",
   "execution_count": null,
   "metadata": {},
   "outputs": [],
   "source": [
    "plot_results(qspec_results, phase=True)"
   ]
  },
  {
   "cell_type": "code",
   "execution_count": null,
   "metadata": {},
   "outputs": [],
   "source": []
  }
 ],
 "metadata": {
  "kernelspec": {
   "display_name": "repo",
   "language": "python",
   "name": "python3"
  },
  "language_info": {
   "codemirror_mode": {
    "name": "ipython",
    "version": 3
   },
   "file_extension": ".py",
   "mimetype": "text/x-python",
   "name": "python",
   "nbconvert_exporter": "python",
   "pygments_lexer": "ipython3",
   "version": "3.12.1"
  }
 },
 "nbformat": 4,
 "nbformat_minor": 2
}
