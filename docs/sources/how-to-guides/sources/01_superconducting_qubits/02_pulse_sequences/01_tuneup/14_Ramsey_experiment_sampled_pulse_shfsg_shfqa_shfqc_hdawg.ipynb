{
 "cells": [
  {
   "cell_type": "markdown",
   "id": "0ed599f8-b026-4714-8243-4df4bc485ea6",
   "metadata": {},
   "source": [
    "# Ramsey with a sampled pulse\n",
    "\n",
    "This notebook demonstrates the use of a sampled pulse in a Ramsey experiment. \n",
    "We sweep the delay between two slightly detuned pi/2 pulses to determine the qubit dephasing time as well as fine calibration its excited state frequency and use a user defined pulse, given as complex valued numpy array."
   ]
  },
  {
   "cell_type": "markdown",
   "id": "f9cdc10c",
   "metadata": {},
   "source": [
    "## 0. General Imports and Definitions"
   ]
  },
  {
   "cell_type": "markdown",
   "id": "ac9e9154",
   "metadata": {},
   "source": [
    "### 0.1 Python Imports "
   ]
  },
  {
   "cell_type": "code",
   "execution_count": null,
   "id": "537d6564",
   "metadata": {},
   "outputs": [],
   "source": [
    "# LabOne Q:\n",
    "from laboneq.contrib.example_helpers.example_notebook_helper import create_device_setup\n",
    "\n",
    "# Helpers:\n",
    "from laboneq.contrib.example_helpers.plotting.plot_helpers import *\n",
    "from laboneq.simple import *"
   ]
  },
  {
   "cell_type": "markdown",
   "id": "c9ab7235",
   "metadata": {},
   "source": [
    "## 1. Device Setup"
   ]
  },
  {
   "cell_type": "code",
   "execution_count": null,
   "id": "9593232d",
   "metadata": {},
   "outputs": [],
   "source": [
    "# create device setup\n",
    "device_setup = create_device_setup(generation=2)\n",
    "use_emulation = True"
   ]
  },
  {
   "cell_type": "code",
   "execution_count": null,
   "id": "6b8d4d9a",
   "metadata": {},
   "outputs": [],
   "source": [
    "#  signal map for qubits\n",
    "\n",
    "\n",
    "def map_qubit(qubit_id):\n",
    "    return {\n",
    "        \"drive\": f\"/logical_signal_groups/q{qubit_id}/drive_line\",\n",
    "        \"measure\": f\"/logical_signal_groups/q{qubit_id}/measure_line\",\n",
    "        \"acquire\": f\"/logical_signal_groups/q{qubit_id}/acquire_line\",\n",
    "    }"
   ]
  },
  {
   "cell_type": "markdown",
   "id": "3b514450",
   "metadata": {},
   "source": [
    "## 2. Experiment Definition"
   ]
  },
  {
   "cell_type": "markdown",
   "id": "f5982a0b-1c39-40bc-993e-7df9af3eb013",
   "metadata": {},
   "source": [
    "### 2.1 Pulse definition"
   ]
  },
  {
   "cell_type": "code",
   "execution_count": null,
   "id": "8b05ae3a",
   "metadata": {},
   "outputs": [],
   "source": [
    "## define pulses\n",
    "\n",
    "\n",
    "# A setup consisting of SHF instruments and HDAWGs has a sampling rate of 2 GSa/s\n",
    "drive_sampling_rate = 2.0e9\n",
    "\n",
    "# qubit drive pulse as sampled complex pulse\n",
    "x90_length = 100e-9\n",
    "num_samples = round(x90_length * drive_sampling_rate)\n",
    "samples_complex = np.transpose(\n",
    "    np.array(\n",
    "        [\n",
    "            np.arange(num_samples) * (1 / num_samples),\n",
    "            np.arange(num_samples) * (1 / num_samples),\n",
    "        ]\n",
    "    )\n",
    ")\n",
    "\n",
    "x90 = pulse_library.sampled_pulse_complex(samples=samples_complex, uid=\"x90\")\n",
    "# readout drive pulse\n",
    "readout_pulse = pulse_library.const(uid=\"readout_pulse\", length=400e-9, amplitude=1.0)\n",
    "# readout integration weights\n",
    "readout_weighting_function = pulse_library.const(\n",
    "    uid=\"readout_weighting_function\", length=200e-9, amplitude=1.0\n",
    ")"
   ]
  },
  {
   "cell_type": "markdown",
   "id": "0dcbc56d-20e2-4622-b7df-d7886e187cc8",
   "metadata": {},
   "source": [
    "### 2.2 Pulse Sequence"
   ]
  },
  {
   "cell_type": "code",
   "execution_count": null,
   "id": "2d68fc64",
   "metadata": {},
   "outputs": [],
   "source": [
    "# set up sweep parameter - delay between pi/2 pulses\n",
    "start = 0.0\n",
    "stop = 1000e-9\n",
    "count = 11\n",
    "\n",
    "delay_sweep = LinearSweepParameter(uid=\"delay\", start=start, stop=stop, count=count)\n",
    "\n",
    "# number of averages\n",
    "average_exponent = 1  # used for 2^n averages, n=average_exponent, maximum: n = 17\n",
    "\n",
    "# Create Experiment\n",
    "exp = Experiment(\n",
    "    uid=\"Ramsey\",\n",
    "    signals=[\n",
    "        ExperimentSignal(\"drive\"),\n",
    "        ExperimentSignal(\"measure\"),\n",
    "        ExperimentSignal(\"acquire\"),\n",
    "    ],\n",
    ")\n",
    "## experimental sequence\n",
    "# outer loop - real-time, cyclic averaging in standard integration mode\n",
    "with exp.acquire_loop_rt(\n",
    "    uid=\"shots\",\n",
    "    count=pow(2, average_exponent),\n",
    "    averaging_mode=AveragingMode.CYCLIC,\n",
    "    acquisition_type=AcquisitionType.INTEGRATION,\n",
    "):\n",
    "    # inner loop - sweep over delay between qubit drive pulses\n",
    "    with exp.sweep(\n",
    "        uid=\"sweep\", parameter=delay_sweep, alignment=SectionAlignment.RIGHT\n",
    "    ):\n",
    "        # qubit excitation pulses - use right-aligned, constant length section to optimize pulse timings\n",
    "        with exp.section(\n",
    "            uid=\"qubit_excitation\",\n",
    "            length=stop + 2 * x90_length,\n",
    "            alignment=SectionAlignment.RIGHT,\n",
    "        ):\n",
    "            exp.play(signal=\"drive\", pulse=x90)\n",
    "            exp.delay(signal=\"drive\", time=delay_sweep)\n",
    "            exp.play(signal=\"drive\", pulse=x90)\n",
    "        # qubit readout pulse and data acquisition\n",
    "        with exp.section(uid=\"qubit_readout\", play_after=\"qubit_excitation\"):\n",
    "            # play readout pulse\n",
    "            exp.play(signal=\"measure\", pulse=readout_pulse)\n",
    "            # signal data acquisition\n",
    "            exp.acquire(\n",
    "                signal=\"acquire\",\n",
    "                handle=\"ac_0\",\n",
    "                kernel=readout_weighting_function,\n",
    "            )\n",
    "        # relax time after readout - for signal processing and qubit relaxation to ground state\n",
    "        with exp.section(uid=\"relax\", play_after=\"qubit_readout\"):\n",
    "            exp.delay(signal=\"measure\", time=1e-6)"
   ]
  },
  {
   "cell_type": "markdown",
   "id": "07957303-15c0-4251-9783-ea3ccd31dfb6",
   "metadata": {},
   "source": [
    "### 2.3 Run the Experiment and Plot the Measurement Results and Pulse Sheet"
   ]
  },
  {
   "cell_type": "code",
   "execution_count": null,
   "id": "2a7e25cb",
   "metadata": {},
   "outputs": [],
   "source": [
    "# map exp to qubit 0\n",
    "exp.set_signal_map(map_qubit(0))\n",
    "\n",
    "# create and connect to session\n",
    "session = Session(device_setup=device_setup)\n",
    "session.connect(do_emulation=use_emulation)\n",
    "\n",
    "# run on qubit 0\n",
    "my_results = session.run(exp)"
   ]
  },
  {
   "cell_type": "code",
   "execution_count": null,
   "id": "89cdc818",
   "metadata": {},
   "outputs": [],
   "source": [
    "# Plot simulated output signals\n",
    "plot_simulation(session.compiled_experiment, start_time=0, length=10e-6)"
   ]
  },
  {
   "cell_type": "code",
   "execution_count": null,
   "id": "4c177489",
   "metadata": {},
   "outputs": [],
   "source": [
    "# plot measurement results\n",
    "plot_result_2d(my_results, \"ac_0\")"
   ]
  },
  {
   "cell_type": "code",
   "execution_count": null,
   "id": "084f4c90",
   "metadata": {},
   "outputs": [],
   "source": [
    "# use pulse sheet viewer to display the pulse sequence - only recommended for small number of averages and sweep steps to avoid performance issues\n",
    "show_pulse_sheet(\"T1\", session.compiled_experiment)"
   ]
  },
  {
   "cell_type": "code",
   "execution_count": null,
   "id": "bbf6729d",
   "metadata": {},
   "outputs": [],
   "source": [
    "# map exp to qubit 1\n",
    "exp.set_signal_map(map_qubit(1))\n",
    "\n",
    "# create and connect to session\n",
    "session = Session(device_setup=device_setup)\n",
    "session.connect(do_emulation=use_emulation)\n",
    "\n",
    "# run on qubit 1\n",
    "my_results = session.run(exp)"
   ]
  },
  {
   "cell_type": "code",
   "execution_count": null,
   "id": "205b1cd0",
   "metadata": {},
   "outputs": [],
   "source": []
  }
 ],
 "metadata": {
  "hide_input": false,
  "kernelspec": {
   "display_name": "zi-py310",
   "language": "python",
   "name": "python3"
  },
  "language_info": {
   "codemirror_mode": {
    "name": "ipython",
    "version": 3
   },
   "file_extension": ".py",
   "mimetype": "text/x-python",
   "name": "python",
   "nbconvert_exporter": "python",
   "pygments_lexer": "ipython3",
   "version": "3.12.4"
  },
  "toc": {
   "base_numbering": 1,
   "nav_menu": {},
   "number_sections": true,
   "sideBar": true,
   "skip_h1_title": false,
   "title_cell": "Table of Contents",
   "title_sidebar": "Contents",
   "toc_cell": false,
   "toc_position": {
    "height": "calc(100% - 180px)",
    "left": "10px",
    "top": "150px",
    "width": "426.667px"
   },
   "toc_section_display": true,
   "toc_window_display": true
  },
  "varInspector": {
   "cols": {
    "lenName": 16,
    "lenType": 16,
    "lenVar": 40
   },
   "kernels_config": {
    "python": {
     "delete_cmd_postfix": "",
     "delete_cmd_prefix": "del ",
     "library": "var_list.py",
     "varRefreshCmd": "print(var_dic_list())"
    },
    "r": {
     "delete_cmd_postfix": ") ",
     "delete_cmd_prefix": "rm(",
     "library": "var_list.r",
     "varRefreshCmd": "cat(var_dic_list()) "
    }
   },
   "types_to_exclude": [
    "module",
    "function",
    "builtin_function_or_method",
    "instance",
    "_Feature"
   ],
   "window_display": false
  }
 },
 "nbformat": 4,
 "nbformat_minor": 5
}
