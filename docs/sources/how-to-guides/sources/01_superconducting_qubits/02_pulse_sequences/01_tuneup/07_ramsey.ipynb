{
 "cells": [
  {
   "attachments": {},
   "cell_type": "markdown",
   "metadata": {},
   "source": [
    "# Ramsey\n",
    "\n",
    "This notebook shows you how to perform a Ramsey experiment. You'll sweep the delay between two slightly detuned pi/2 pulses to determine the qubit dephasing time as well as fine tune the calibration of the qubit excited state frequency."
   ]
  },
  {
   "attachments": {},
   "cell_type": "markdown",
   "metadata": {},
   "source": [
    "## 0. LabOne Q Imports\n",
    "\n",
    "You'll begin by importing `laboneq.simple` and some extra helper functions to run the examples. "
   ]
  },
  {
   "cell_type": "code",
   "execution_count": null,
   "metadata": {},
   "outputs": [],
   "source": [
    "import time\n",
    "from pathlib import Path\n",
    "\n",
    "import matplotlib.pyplot as plt\n",
    "import numpy as np\n",
    "\n",
    "# Helpers:\n",
    "from laboneq.analysis.fitting import oscillatory_decay\n",
    "from laboneq.contrib.example_helpers.generate_device_setup import (\n",
    "    generate_device_setup_qubits,\n",
    ")\n",
    "from laboneq.contrib.example_helpers.plotting.plot_helpers import (\n",
    "    plot_results,\n",
    "    plot_simulation,\n",
    ")\n",
    "\n",
    "# LabOne Q:\n",
    "from laboneq.simple import *"
   ]
  },
  {
   "attachments": {},
   "cell_type": "markdown",
   "metadata": {},
   "source": [
    "## 1. Device Setup\n",
    "\n",
    "Below, you'll create a device setup and choose to run this notebook in emulated mode or directly on the control hardware, by specifying `use_emulation = True/False` respectively.\n",
    "\n",
    "If you run on your hardware, you need to generate a device setup first, please have a look at our [device setup tutorial](https://docs.zhinst.com/labone_q_user_manual//tutorials/tutorials/01_device_setup/) for how to do this in general. \n",
    "Here, we use a helper functions to generate the device setup and a set up qubit objects with pre-defined parameters. "
   ]
  },
  {
   "cell_type": "code",
   "execution_count": null,
   "metadata": {},
   "outputs": [],
   "source": [
    "# specify the number of qubits you want to use\n",
    "number_of_qubits = 6\n",
    "\n",
    "# generate the device setup and the qubit objects using a helper function\n",
    "device_setup, qubits = generate_device_setup_qubits(\n",
    "    number_qubits=number_of_qubits,\n",
    "    pqsc=[{\"serial\": \"DEV10001\"}],\n",
    "    hdawg=[\n",
    "        {\n",
    "            \"serial\": \"DEV8001\",\n",
    "            \"zsync\": 0,\n",
    "            \"number_of_channels\": 8,\n",
    "            \"options\": None,\n",
    "        }\n",
    "    ],\n",
    "    shfqc=[\n",
    "        {\n",
    "            \"serial\": \"DEV12001\",\n",
    "            \"zsync\": 1,\n",
    "            \"number_of_channels\": 6,\n",
    "            \"readout_multiplex\": 6,\n",
    "            \"options\": None,\n",
    "        }\n",
    "    ],\n",
    "    include_flux_lines=True,\n",
    "    server_host=\"localhost\",\n",
    "    setup_name=f\"my_{number_of_qubits}_tunable_qubit_setup\",\n",
    ")"
   ]
  },
  {
   "cell_type": "code",
   "execution_count": null,
   "metadata": {},
   "outputs": [],
   "source": [
    "# use emulation mode - no connection to instruments\n",
    "use_emulation = True\n",
    "\n",
    "# create and connect to a session\n",
    "session = Session(device_setup=device_setup)\n",
    "session.connect(do_emulation=use_emulation)"
   ]
  },
  {
   "attachments": {},
   "cell_type": "markdown",
   "metadata": {},
   "source": [
    "## 2. Experiment Parameters\n",
    "\n",
    "Now you'll define the amplitude sweep parameters and pulses to use in your experiment."
   ]
  },
  {
   "cell_type": "code",
   "execution_count": null,
   "metadata": {},
   "outputs": [],
   "source": [
    "# define number of averages\n",
    "# used for 2^num_averages, maximum: num_averages = 17\n",
    "num_averages = 4\n",
    "\n",
    "# pulse parameters and definitions\n",
    "envelope_duration = 2.0e-6\n",
    "sigma = 0.2\n",
    "flat_duration = 1.0e-6\n",
    "\n",
    "\n",
    "def create_readout_pulse(\n",
    "    qubit, length=envelope_duration, amplitude=0.9, width=flat_duration, sigma=sigma\n",
    "):\n",
    "    readout_pulse = pulse_library.gaussian_square(\n",
    "        uid=f\"readout_pulse_{qubit}\",\n",
    "        length=length,\n",
    "        amplitude=amplitude,\n",
    "        width=width,\n",
    "        sigma=sigma,\n",
    "    )\n",
    "    return readout_pulse\n",
    "\n",
    "\n",
    "def create_ramsey_drive_pulse(qubit, length=1e-6, amplitude=0.9):\n",
    "    return pulse_library.gaussian(\n",
    "        uid=f\"gaussian_drive_q{qubit}\", length=length, amplitude=amplitude\n",
    "    )\n",
    "\n",
    "\n",
    "# define delay sweep\n",
    "n_steps = 201\n",
    "start_delay = 0e-6\n",
    "stop_delay = 15e-6\n",
    "\n",
    "\n",
    "def create_delay_sweep(\n",
    "    start=start_delay, stop=stop_delay, count=n_steps, axis_name=\"Time [s]\"\n",
    "):\n",
    "    time_sweep = LinearSweepParameter(\n",
    "        uid=\"time_sweep_param\", start=start, stop=stop, count=count, axis_name=axis_name\n",
    "    )\n",
    "    return time_sweep"
   ]
  },
  {
   "attachments": {},
   "cell_type": "markdown",
   "metadata": {},
   "source": [
    "## 3. Experiment Definition\n",
    "\n",
    "You'll now create a function which generates an [experiment](https://docs.zhinst.com/labone_q_user_manual/concepts/experiment/). In this experiment, you'll pass a sweep parameter which changes delay time between two pulses as an argument to the [sweep section](https://docs.zhinst.com/labone_q_user_manual/concepts/averaging_sweeping/#labone_q.func_concepts.experiment.averaging_sweeping.parameters_sweeps). Within the sweeep section, you'll create another [section](https://docs.zhinst.com/labone_q_user_manual/concepts/sections_and_pulses/) containing your drive pulses with `play` commands separated by a delay. \n",
    "\n",
    "As the length of the Ramsey sweep section containing the drive pulses changes, using a right-aligned sweep section and the automatic repetition time makes sure that the experiment is run as efficiently as possible on the Zurich Instruments hardware.  \n",
    "\n",
    "You'll also make a readout section containing `play` and `acquire` commands to perform readout. \n",
    "\n",
    "Within the real-time acquisition section, you'll set use `INTEGRATION` as your acquisition type and set the repetition mode to `AUTO`."
   ]
  },
  {
   "cell_type": "code",
   "execution_count": null,
   "metadata": {},
   "outputs": [],
   "source": [
    "# function that returns an amplitude Rabi experiment\n",
    "\n",
    "\n",
    "def ramsey(drive_pulse, readout_pulse, time_sweep):\n",
    "    exp_ramsey = Experiment(\n",
    "        uid=\"Ramsey Experiment\",\n",
    "        signals=[\n",
    "            ExperimentSignal(\"drive\"),\n",
    "            ExperimentSignal(\"measure\"),\n",
    "            ExperimentSignal(\"acquire\"),\n",
    "        ],\n",
    "    )\n",
    "\n",
    "    ## define Rabi experiment pulse sequence\n",
    "    # outer loop - real-time, cyclic averaging\n",
    "    with exp_ramsey.acquire_loop_rt(\n",
    "        uid=\"ramsey_shots\",\n",
    "        count=2**num_averages,\n",
    "        averaging_mode=AveragingMode.CYCLIC,\n",
    "        acquisition_type=AcquisitionType.INTEGRATION,\n",
    "        repetition_mode=RepetitionMode.AUTO,\n",
    "    ):\n",
    "        # inner loop - real time sweep of Ramsey time delays\n",
    "        with exp_ramsey.sweep(\n",
    "            uid=\"ramsey_sweep\", parameter=time_sweep, alignment=SectionAlignment.RIGHT\n",
    "        ):\n",
    "            # play qubit excitation pulse - pulse amplitude is swept\n",
    "            with exp_ramsey.section(\n",
    "                uid=\"qubit_excitation\", alignment=SectionAlignment.RIGHT\n",
    "            ):\n",
    "                exp_ramsey.play(signal=\"drive\", pulse=drive_pulse)\n",
    "                exp_ramsey.delay(signal=\"drive\", time=time_sweep)\n",
    "                exp_ramsey.play(signal=\"drive\", pulse=drive_pulse)\n",
    "            # readout pulse and data acquisition\n",
    "            with exp_ramsey.section(\n",
    "                uid=\"readout_section\", play_after=\"qubit_excitation\"\n",
    "            ):\n",
    "                # play readout pulse on measure line\n",
    "                exp_ramsey.play(signal=\"measure\", pulse=readout_pulse)\n",
    "                # trigger signal data acquisition\n",
    "                exp_ramsey.acquire(\n",
    "                    signal=\"acquire\",\n",
    "                    handle=\"ramsey\",\n",
    "                    kernel=readout_pulse,\n",
    "                )\n",
    "\n",
    "            # relax time after readout - for qubit relaxation to groundstate and signal processing\n",
    "            with exp_ramsey.section(uid=\"relax\", length=1e-6):\n",
    "                exp_ramsey.reserve(signal=\"measure\")\n",
    "    return exp_ramsey"
   ]
  },
  {
   "attachments": {},
   "cell_type": "markdown",
   "metadata": {},
   "source": [
    "### 3.1 Create Experiment and Signal Map\n",
    "\n",
    "Before running the experiment, you'll define and set the mapping between the experimental and logical lines."
   ]
  },
  {
   "cell_type": "code",
   "execution_count": null,
   "metadata": {},
   "outputs": [],
   "source": [
    "# define pulses and create experiment\n",
    "readout_pulse = create_readout_pulse(\"q0\")\n",
    "drive_pulse = create_ramsey_drive_pulse(\"q0\")\n",
    "time_sweep = create_delay_sweep(start=0, stop=15e-6, count=51)\n",
    "\n",
    "ramsey_exp = ramsey(\n",
    "    drive_pulse=drive_pulse, readout_pulse=readout_pulse, time_sweep=time_sweep\n",
    ")\n",
    "\n",
    "\n",
    "# signal map for qubit 0\n",
    "def signal_map_default(qubit):\n",
    "    signal_map = {\n",
    "        \"drive\": device_setup.logical_signal_groups[f\"{qubit}\"].logical_signals[\n",
    "            \"drive\"\n",
    "        ],\n",
    "        \"measure\": device_setup.logical_signal_groups[f\"{qubit}\"].logical_signals[\n",
    "            \"measure\"\n",
    "        ],\n",
    "        \"acquire\": device_setup.logical_signal_groups[f\"{qubit}\"].logical_signals[\n",
    "            \"acquire\"\n",
    "        ],\n",
    "    }\n",
    "    return signal_map\n",
    "\n",
    "\n",
    "# run the experiment on qubit 0\n",
    "ramsey_exp.set_signal_map(signal_map_default(\"q0\"))"
   ]
  },
  {
   "attachments": {},
   "cell_type": "markdown",
   "metadata": {},
   "source": [
    "### 3.2 Compile, Generate Pulse Sheet, and Plot Simulated Signals\n",
    "\n",
    "Now, you'll compile the experiment and generate a pulse sheet."
   ]
  },
  {
   "cell_type": "code",
   "execution_count": null,
   "metadata": {},
   "outputs": [],
   "source": [
    "# compile the experiment on the open instrument session\n",
    "compiled_ramsey = session.compile(ramsey_exp)\n",
    "\n",
    "Path(\"Pulse_Sheets\").mkdir(parents=True, exist_ok=True)\n",
    "# generate a pulse sheet to inspect experiment before runtime\n",
    "show_pulse_sheet(\"Pulse_Sheets/Ramsey\", compiled_ramsey)"
   ]
  },
  {
   "attachments": {},
   "cell_type": "markdown",
   "metadata": {},
   "source": [
    "In addition to creating a pulse sheet to inspect the timing of pulses, you can simulate physical output of the channels."
   ]
  },
  {
   "cell_type": "code",
   "execution_count": null,
   "metadata": {},
   "outputs": [],
   "source": [
    "plot_simulation(compiled_ramsey, start_time=0, length=200e-6, plot_width=10)"
   ]
  },
  {
   "attachments": {},
   "cell_type": "markdown",
   "metadata": {},
   "source": [
    "### 3.3 Run, Save, and Plot Results\n",
    "\n",
    "Finally, you'll run the experiment, save, and plot the results."
   ]
  },
  {
   "cell_type": "code",
   "execution_count": null,
   "metadata": {},
   "outputs": [],
   "source": [
    "# run the compiled experiemnt\n",
    "ramsey_results = session.run()\n",
    "timestamp = time.strftime(\"%Y%m%dT%H%M%S\")\n",
    "Path(\"Results\").mkdir(parents=True, exist_ok=True)\n",
    "session.save_results(f\"Results/{timestamp}_ramsey_results.json\")\n",
    "print(f\"File saved as Results/{timestamp}_ramsey_results.json\")"
   ]
  },
  {
   "cell_type": "code",
   "execution_count": null,
   "metadata": {},
   "outputs": [],
   "source": [
    "# plot_result_2d(ramsey_results, list(ramsey_results.acquired_results.keys())[0])\n",
    "plot_results(ramsey_results)"
   ]
  },
  {
   "attachments": {},
   "cell_type": "markdown",
   "metadata": {},
   "source": [
    "## 4. Fitting Results\n",
    "\n",
    "You can also fit your results. The below script fits some emulated Rabi data when running in emulation mode."
   ]
  },
  {
   "cell_type": "code",
   "execution_count": null,
   "metadata": {},
   "outputs": [],
   "source": [
    "# get measurement data returned by the instruments\n",
    "ramsey_res = ramsey_results.get_data(\"ramsey\")\n",
    "\n",
    "# define time axis from qubit parameters\n",
    "ramsey_delay = ramsey_results.get_axis(\"ramsey\")[0]\n",
    "\n",
    "if use_emulation:\n",
    "    # create dummy data if running in emulation mode\n",
    "    ramsey_res = oscillatory_decay(\n",
    "        ramsey_delay, 1e6, 0, 1 / 10e-6, amplitude=0.5, offset=0.5\n",
    "    ) + 0.12 * np.random.rand(len(ramsey_delay))\n",
    "\n",
    "# plot measurement results\n",
    "fig = plt.figure()\n",
    "plt.plot(ramsey_delay, ramsey_res, \".k\")\n",
    "plt.ylabel(\"A (a.u.)\")\n",
    "plt.xlabel(\"delay (s)\")\n",
    "\n",
    "# increase number of plot points for smooth plotting of fit results\n",
    "delay_plot = np.linspace(ramsey_delay[0], ramsey_delay[-1], 5 * len(ramsey_delay))\n",
    "\n",
    "## fit measurement data to decaying sinusoidal oscillatio\n",
    "popt, pcov = oscillatory_decay.fit(\n",
    "    ramsey_delay,\n",
    "    ramsey_res,\n",
    "    1e6,\n",
    "    0,\n",
    "    2 / 1 / 10e-6,\n",
    "    0.5,\n",
    "    0.5,\n",
    "    plot=False,\n",
    "    bounds=[\n",
    "        [0.01e6, -np.pi / 2, 0.1 / 1 / 10e-6, 0.2, 0.2],\n",
    "        [15e6, np.pi / 2, 10 / 1 / 10e-6, 2, 2],\n",
    "    ],\n",
    ")\n",
    "print(f\"Fitted parameters: {popt}\")\n",
    "\n",
    "# plot fit results together with experimental data\n",
    "plt.plot(delay_plot, oscillatory_decay(delay_plot, *popt), \"-r\")"
   ]
  }
 ],
 "metadata": {
  "kernelspec": {
   "display_name": "develop",
   "language": "python",
   "name": "python3"
  },
  "language_info": {
   "codemirror_mode": {
    "name": "ipython",
    "version": 3
   },
   "file_extension": ".py",
   "mimetype": "text/x-python",
   "name": "python",
   "nbconvert_exporter": "python",
   "pygments_lexer": "ipython3",
   "version": "3.12.4"
  }
 },
 "nbformat": 4,
 "nbformat_minor": 2
}
