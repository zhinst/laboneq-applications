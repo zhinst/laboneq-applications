{
 "cells": [
  {
   "attachments": {},
   "cell_type": "markdown",
   "id": "0ed599f8-b026-4714-8243-4df4bc485ea6",
   "metadata": {},
   "source": [
    "# e-f Gate Tuneup\n",
    "\n",
    "In this reference notebook, you'll learn how to use LabOne Q's [logical signals lines](https://docs.zhinst.com/labone_q_user_manual/concepts/logical_signal_lines/) to perform tuneup of a pi-pulse working on the e-f transition of a superconducitng transmon qubit. This functionality requires an SHFSG or SHFQC and relies on using the command table instead of `playWave` commands."
   ]
  },
  {
   "attachments": {},
   "cell_type": "markdown",
   "id": "961a420e-7dc7-46fd-aea8-12af1cea8aa2",
   "metadata": {},
   "source": [
    "## 0. General Imports and Definitions"
   ]
  },
  {
   "attachments": {},
   "cell_type": "markdown",
   "id": "2a01d7d5-527b-4324-aa74-95d768f9a2ef",
   "metadata": {},
   "source": [
    "### 0.1 Python Imports"
   ]
  },
  {
   "cell_type": "code",
   "execution_count": null,
   "id": "a6283ebc",
   "metadata": {},
   "outputs": [],
   "source": [
    "# Helpers:\n",
    "from laboneq.contrib.example_helpers.generate_device_setup import (\n",
    "    generate_device_setup_qubits,\n",
    ")\n",
    "from laboneq.contrib.example_helpers.plotting.plot_helpers import plot_simulation\n",
    "\n",
    "# LabOne Q:\n",
    "from laboneq.simple import *"
   ]
  },
  {
   "attachments": {},
   "cell_type": "markdown",
   "id": "c8aa3c8e-12ce-4f86-a5bb-7f76e0c0f5d7",
   "metadata": {},
   "source": [
    "## 1. Define Device Setup and Calibration"
   ]
  },
  {
   "attachments": {},
   "cell_type": "markdown",
   "id": "f44d74bf-d663-4421-b826-bd156e65415c",
   "metadata": {},
   "source": [
    "### 1.1 Define a Device Setup\n",
    "\n",
    "We'll generate a device setup and some qubit objects using a set of pre-defined parameters in a helper function. "
   ]
  },
  {
   "cell_type": "code",
   "execution_count": null,
   "id": "2a71dc58",
   "metadata": {},
   "outputs": [],
   "source": [
    "# specify the number of qubits you want to use\n",
    "number_of_qubits = 2\n",
    "\n",
    "# generate the device setup and the qubit objects using a helper function\n",
    "device_setup, qubits = generate_device_setup_qubits(\n",
    "    number_qubits=number_of_qubits,\n",
    "    pqsc=[{\"serial\": \"DEV10001\"}],\n",
    "    hdawg=[\n",
    "        {\n",
    "            \"serial\": \"DEV8001\",\n",
    "            \"zsync\": 0,\n",
    "            \"number_of_channels\": 8,\n",
    "            \"options\": None,\n",
    "        }\n",
    "    ],\n",
    "    shfqc=[\n",
    "        {\n",
    "            \"serial\": \"DEV12001\",\n",
    "            \"zsync\": 1,\n",
    "            \"number_of_channels\": 6,\n",
    "            \"readout_multiplex\": 6,\n",
    "            \"options\": None,\n",
    "        }\n",
    "    ],\n",
    "    multiplex_drive_lines=True,\n",
    "    include_flux_lines=True,\n",
    "    server_host=\"localhost\",\n",
    "    setup_name=f\"my_{number_of_qubits}_tunable_qubit_setup\",\n",
    ")\n",
    "\n",
    "q0, q1 = qubits[:2]"
   ]
  },
  {
   "cell_type": "code",
   "execution_count": null,
   "id": "ce2f2d32",
   "metadata": {},
   "outputs": [],
   "source": [
    "# use emulation mode - no connection to instruments\n",
    "use_emulation = True\n",
    "\n",
    "# create and connect to a session\n",
    "session = Session(device_setup=device_setup)\n",
    "session.connect(do_emulation=use_emulation)"
   ]
  },
  {
   "attachments": {},
   "cell_type": "markdown",
   "id": "38438dd2-6905-4f99-a556-bb27363c3a1f",
   "metadata": {},
   "source": [
    "## 2. e-f Gate Tune-up\n",
    "\n",
    "Sweep the pulse amplitude of a qubit drive pulse to determine the ideal amplitudes to drive qubit from excited to second excited state \n",
    "- assumes that a pi-pulse to reach the e state is already calibrated"
   ]
  },
  {
   "attachments": {},
   "cell_type": "markdown",
   "id": "d068797e-1673-4a5b-93c2-c450e8c061ab",
   "metadata": {},
   "source": [
    "### 2.1 Define the Experiment"
   ]
  },
  {
   "cell_type": "code",
   "execution_count": null,
   "id": "b1dbdd2a",
   "metadata": {},
   "outputs": [],
   "source": [
    "## define pulses\n",
    "\n",
    "# qubit pi pulse for first excited state\n",
    "x180 = pulse_library.drag(uid=\"x180\", length=23e-9, amplitude=0.5, sigma=0.3, beta=0.2)\n",
    "\n",
    "# pulse to be calibrated for e-f transition - amplitude will be swept\n",
    "ef_pulse = pulse_library.drag(\n",
    "    uid=\"ef_pulse\", length=32e-9, amplitude=1.0, sigma=0.3, beta=0.2\n",
    ")\n",
    "\n",
    "# readout drive pulse\n",
    "readout_pulse = pulse_library.const(uid=\"readout_pulse\", length=400e-9, amplitude=0.2)\n",
    "# readout integration weights\n",
    "readout_weighting_function = pulse_library.const(\n",
    "    uid=\"readout_weighting_function\", length=400e-9, amplitude=0.8\n",
    ")"
   ]
  },
  {
   "cell_type": "code",
   "execution_count": null,
   "id": "4b1deeb5",
   "metadata": {},
   "outputs": [],
   "source": [
    "# set up sweep parameter - drive amplitude\n",
    "start = 0.1\n",
    "stop = 1\n",
    "count = 25\n",
    "amplitude_sweep = LinearSweepParameter(\n",
    "    uid=\"amplitude\", start=start, stop=stop, count=count\n",
    ")\n",
    "\n",
    "# number of averages\n",
    "average_exponent = 10  # used for 2^n averages, n=average_exponent, maximum: n = 17\n",
    "\n",
    "# Create Experiment\n",
    "exp_ef_gate = Experiment(\n",
    "    uid=\"e-f Tuneup\",\n",
    "    signals=[\n",
    "        ExperimentSignal(\"drive\"),\n",
    "        ExperimentSignal(\"drive_ef\"),\n",
    "        ExperimentSignal(\"measure\"),\n",
    "        ExperimentSignal(\"acquire\"),\n",
    "    ],\n",
    ")\n",
    "## experimental pulse sequence\n",
    "# outer loop - real-time, cyclic averaging in standard integration mode\n",
    "with exp_ef_gate.acquire_loop_rt(\n",
    "    uid=\"shots\",\n",
    "    count=pow(2, average_exponent),\n",
    "    averaging_mode=AveragingMode.CYCLIC,\n",
    "    acquisition_type=AcquisitionType.INTEGRATION,\n",
    "):\n",
    "    # inner loop - real-time sweep of qubit drive pulse amplitude\n",
    "    with exp_ef_gate.sweep(uid=\"sweep\", parameter=amplitude_sweep):\n",
    "        # qubit excitation - pulse amplitude will be swept\n",
    "        with exp_ef_gate.section(\n",
    "            uid=\"qubit_excitation\",\n",
    "            on_system_grid=True,\n",
    "            alignment=SectionAlignment.RIGHT,\n",
    "        ):\n",
    "            exp_ef_gate.play(signal=\"drive\", pulse=x180)\n",
    "        with exp_ef_gate.section(\n",
    "            uid=\"qubit_ef_excitation\",\n",
    "            play_after=\"qubit_excitation\",\n",
    "            on_system_grid=True,\n",
    "            alignment=SectionAlignment.LEFT,\n",
    "        ):\n",
    "            exp_ef_gate.play(\n",
    "                signal=\"drive_ef\", pulse=ef_pulse, amplitude=amplitude_sweep\n",
    "            )\n",
    "        # qubit readout pulse and data acquisition\n",
    "        with exp_ef_gate.section(uid=\"qubit_readout\", play_after=\"qubit_ef_excitation\"):\n",
    "            # play readout pulse\n",
    "            exp_ef_gate.play(signal=\"measure\", pulse=readout_pulse)\n",
    "            # signal data acquisition\n",
    "            exp_ef_gate.acquire(\n",
    "                signal=\"acquire\",\n",
    "                handle=\"ac_0\",\n",
    "                kernel=readout_weighting_function,\n",
    "            )\n",
    "        # relax time after readout - for signal processing and qubit relaxation to groundstate\n",
    "        with exp_ef_gate.section(uid=\"relax\", length=100e-9):\n",
    "            exp_ef_gate.reserve(signal=\"measure\")"
   ]
  },
  {
   "cell_type": "code",
   "execution_count": null,
   "id": "b10527ec",
   "metadata": {},
   "outputs": [],
   "source": [
    "# define signal maps for qubit 0\n",
    "map_q0 = {\n",
    "    \"drive\": q0.signals[\"drive\"],\n",
    "    \"drive_ef\": q0.signals[\"drive_ef\"],\n",
    "    \"measure\": q0.signals[\"measure\"],\n",
    "    \"acquire\": q0.signals[\"acquire\"],\n",
    "}\n",
    "# ... - and qubit 1\n",
    "map_q1 = {\n",
    "    \"drive\": q1.signals[\"drive\"],\n",
    "    \"drive_ef\": q1.signals[\"drive_ef\"],\n",
    "    \"measure\": q1.signals[\"measure\"],\n",
    "    \"acquire\": q1.signals[\"acquire\"],\n",
    "}"
   ]
  },
  {
   "attachments": {},
   "cell_type": "markdown",
   "id": "7e485382-ccd1-4c32-8253-1f5e9e2ad127",
   "metadata": {},
   "source": [
    "### 2.2 Run the Experiment and Plot the Pulse Sequence"
   ]
  },
  {
   "cell_type": "code",
   "execution_count": null,
   "id": "dc48e4a3",
   "metadata": {},
   "outputs": [],
   "source": [
    "# set signal map to qubit 0\n",
    "exp_ef_gate.set_signal_map(map_q1)\n",
    "\n",
    "# run experiment on qubit 0\n",
    "compiled_exp_ef_gate = session.compile(exp_ef_gate)\n",
    "ef_gate_results = session.run(compiled_exp_ef_gate)"
   ]
  },
  {
   "cell_type": "code",
   "execution_count": null,
   "id": "5816aba9",
   "metadata": {},
   "outputs": [],
   "source": [
    "# Plot simulated output signals\n",
    "plot_simulation(compiled_exp_ef_gate, start_time=0, length=2.5e-6)"
   ]
  },
  {
   "cell_type": "code",
   "execution_count": null,
   "id": "02b11262-1df9-4bcc-a23b-82693d4a1407",
   "metadata": {},
   "outputs": [],
   "source": []
  }
 ],
 "metadata": {
  "hide_input": false,
  "kernelspec": {
   "display_name": "develop",
   "language": "python",
   "name": "python3"
  },
  "language_info": {
   "codemirror_mode": {
    "name": "ipython",
    "version": 3
   },
   "file_extension": ".py",
   "mimetype": "text/x-python",
   "name": "python",
   "nbconvert_exporter": "python",
   "pygments_lexer": "ipython3",
   "version": "3.12.4"
  },
  "toc": {
   "base_numbering": 1,
   "nav_menu": {},
   "number_sections": true,
   "sideBar": true,
   "skip_h1_title": false,
   "title_cell": "Table of Contents",
   "title_sidebar": "Contents",
   "toc_cell": false,
   "toc_position": {
    "height": "calc(100% - 180px)",
    "left": "10px",
    "top": "150px",
    "width": "426.667px"
   },
   "toc_section_display": true,
   "toc_window_display": true
  },
  "varInspector": {
   "cols": {
    "lenName": 16,
    "lenType": 16,
    "lenVar": 40
   },
   "kernels_config": {
    "python": {
     "delete_cmd_postfix": "",
     "delete_cmd_prefix": "del ",
     "library": "var_list.py",
     "varRefreshCmd": "print(var_dic_list())"
    },
    "r": {
     "delete_cmd_postfix": ") ",
     "delete_cmd_prefix": "rm(",
     "library": "var_list.r",
     "varRefreshCmd": "cat(var_dic_list()) "
    }
   },
   "types_to_exclude": [
    "module",
    "function",
    "builtin_function_or_method",
    "instance",
    "_Feature"
   ],
   "window_display": false
  }
 },
 "nbformat": 4,
 "nbformat_minor": 5
}
