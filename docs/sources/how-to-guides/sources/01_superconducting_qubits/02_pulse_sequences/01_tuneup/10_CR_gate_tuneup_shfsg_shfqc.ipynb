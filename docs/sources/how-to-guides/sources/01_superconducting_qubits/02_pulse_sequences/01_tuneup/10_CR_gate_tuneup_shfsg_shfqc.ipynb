{
 "cells": [
  {
   "attachments": {},
   "cell_type": "markdown",
   "id": "0ed599f8-b026-4714-8243-4df4bc485ea6",
   "metadata": {},
   "source": [
    "# Cross-resonance gate tuneup\n",
    "\n",
    "In this reference notebook,  you'll learn how to use LabOne Q's [logical signals lines](https://docs.zhinst.com/labone_q_user_manual/concepts/logical_signal_lines/) to perform simple tuneup of a cross-resonance two qubit gate. This functionality requires an SHFSG or SHFQC and relies on using the command table instead of `playWave` commands."
   ]
  },
  {
   "attachments": {},
   "cell_type": "markdown",
   "id": "961a420e-7dc7-46fd-aea8-12af1cea8aa2",
   "metadata": {},
   "source": [
    "## 0. General Imports and Definitions"
   ]
  },
  {
   "attachments": {},
   "cell_type": "markdown",
   "id": "2a01d7d5-527b-4324-aa74-95d768f9a2ef",
   "metadata": {},
   "source": [
    "### 0.1 Python Imports"
   ]
  },
  {
   "cell_type": "code",
   "execution_count": null,
   "id": "537d6564",
   "metadata": {},
   "outputs": [],
   "source": [
    "# LabOne Q:\n",
    "from laboneq.contrib.example_helpers.generate_example_datastore import (\n",
    "    generate_example_datastore,\n",
    "    get_first_named_entry,\n",
    ")\n",
    "\n",
    "# Helpers:\n",
    "from laboneq.contrib.example_helpers.plotting.plot_helpers import plot_simulation\n",
    "from laboneq.simple import *"
   ]
  },
  {
   "cell_type": "code",
   "execution_count": null,
   "id": "a266cfd2",
   "metadata": {},
   "outputs": [],
   "source": [
    "# Build an in-memory data store with device setup and qubit parameters for the\n",
    "# example notebooks\n",
    "setup_db = generate_example_datastore(in_memory=True)"
   ]
  },
  {
   "attachments": {},
   "cell_type": "markdown",
   "id": "c8aa3c8e-12ce-4f86-a5bb-7f76e0c0f5d7",
   "metadata": {},
   "source": [
    "## 1. Define Device Setup and Calibration"
   ]
  },
  {
   "attachments": {},
   "cell_type": "markdown",
   "id": "f44d74bf-d663-4421-b826-bd156e65415c",
   "metadata": {},
   "source": [
    "### 1.1 Define a Device Setup\n",
    "\n",
    "We'll load a descriptor file to define our device setup and logical signal lines. We could, instead, explicitly include the descriptor here as a string and then use `DeviceSetup.from_descriptor()` below. Choose the best method that works for you!"
   ]
  },
  {
   "cell_type": "code",
   "execution_count": null,
   "id": "526295bd",
   "metadata": {},
   "outputs": [],
   "source": [
    "# load a calibrated device setup from the dummy database\n",
    "device_setup = get_first_named_entry(\n",
    "    db=setup_db, name=\"6_fixed_qubit_setup_shfqc_calibrated\"\n",
    ")\n",
    "use_emulation = True"
   ]
  },
  {
   "attachments": {},
   "cell_type": "markdown",
   "id": "38438dd2-6905-4f99-a556-bb27363c3a1f",
   "metadata": {},
   "source": [
    "## 2. CR Gate Tune-up\n",
    "\n",
    "Sweep the pulse length of a qubit drive pulse at the difference frequency of two qubits to determine the ideal parameters for a CR gate."
   ]
  },
  {
   "attachments": {},
   "cell_type": "markdown",
   "id": "d068797e-1673-4a5b-93c2-c450e8c061ab",
   "metadata": {},
   "source": [
    "### 2.1 Define the Experiment"
   ]
  },
  {
   "cell_type": "code",
   "execution_count": null,
   "id": "b1dbdd2a",
   "metadata": {},
   "outputs": [],
   "source": [
    "## define pulses\n",
    "\n",
    "# qubit pi pulse for first excited state\n",
    "x90 = pulse_library.drag(uid=\"x90\", length=11e-9, amplitude=0.5, sigma=0.3, beta=0.2)\n",
    "\n",
    "# pulse to be calibrated for CR gate - length will be swept\n",
    "cr_pulse = pulse_library.gaussian(\n",
    "    uid=\"cr_pulse\", length=32e-9, amplitude=0.7, sigma=0.3\n",
    ")\n",
    "\n",
    "# readout drive pulse\n",
    "readout_pulse = pulse_library.const(uid=\"readout_pulse\", length=400e-9, amplitude=0.2)\n",
    "# readout integration weights\n",
    "readout_weighting_function = pulse_library.const(\n",
    "    uid=\"readout_weighting_function\", length=400e-9, amplitude=0.8\n",
    ")"
   ]
  },
  {
   "cell_type": "code",
   "execution_count": null,
   "id": "4b1deeb5",
   "metadata": {},
   "outputs": [],
   "source": [
    "# set up sweep parameter - drive pulse length\n",
    "start = 32e-9\n",
    "stop = 640e-9\n",
    "count = 20\n",
    "length_sweep = LinearSweepParameter(uid=\"length\", start=start, stop=stop, count=count)\n",
    "\n",
    "# number of averages\n",
    "average_exponent = 10  # used for 2^n averages, n=average_exponent, maximum: n = 17\n",
    "\n",
    "# Create Experiment\n",
    "exp_cr_gate = Experiment(\n",
    "    uid=\"cr Tuneup\",\n",
    "    signals=[\n",
    "        ExperimentSignal(\"drive_0\"),\n",
    "        ExperimentSignal(\"drive_1\"),\n",
    "        ExperimentSignal(\"drive_cr\"),\n",
    "        ExperimentSignal(\"measure_0\"),\n",
    "        ExperimentSignal(\"acquire_0\"),\n",
    "        ExperimentSignal(\"measure_1\"),\n",
    "        ExperimentSignal(\"acquire_1\"),\n",
    "    ],\n",
    ")\n",
    "## experimental pulse sequence\n",
    "# outer loop - real-time, cyclic averaging in standard integration mode\n",
    "with exp_cr_gate.acquire_loop_rt(\n",
    "    uid=\"shots\",\n",
    "    count=pow(2, average_exponent),\n",
    "    averaging_mode=AveragingMode.CYCLIC,\n",
    "    acquisition_type=AcquisitionType.INTEGRATION,\n",
    "):\n",
    "    # inner loop - real-time sweep of qubit drive pulse amplitude\n",
    "    with exp_cr_gate.sweep(uid=\"sweep\", parameter=length_sweep):\n",
    "        with exp_cr_gate.section(\n",
    "            uid=\"drive\", alignment=SectionAlignment.RIGHT, length=stop + 2 * x90.length\n",
    "        ):\n",
    "            # qubit excitation - assume something is done to both qubits\n",
    "            with exp_cr_gate.section(\n",
    "                uid=\"qubit_excitation\",\n",
    "                on_system_grid=True,\n",
    "                alignment=SectionAlignment.RIGHT,\n",
    "            ):\n",
    "                exp_cr_gate.play(signal=\"drive_0\", pulse=x90)\n",
    "                exp_cr_gate.play(signal=\"drive_1\", pulse=x90, amplitude=0.4)\n",
    "            # play CR pulse and sweep its length\n",
    "            with exp_cr_gate.section(\n",
    "                uid=\"cr_gate\",\n",
    "                play_after=\"qubit_excitation\",\n",
    "                on_system_grid=True,\n",
    "                alignment=SectionAlignment.LEFT,\n",
    "            ):\n",
    "                exp_cr_gate.play(signal=\"drive_cr\", pulse=cr_pulse, length=length_sweep)\n",
    "        # qubit readout pulses and data acquisition\n",
    "        with exp_cr_gate.section(uid=\"qubit_readout\", play_after=\"drive\"):\n",
    "            # play readout pulse\n",
    "            exp_cr_gate.play(signal=\"measure_0\", pulse=readout_pulse)\n",
    "            exp_cr_gate.play(signal=\"measure_1\", pulse=readout_pulse)\n",
    "            # signal data acquisition\n",
    "            exp_cr_gate.acquire(\n",
    "                signal=\"acquire_0\",\n",
    "                handle=\"ac_0\",\n",
    "                kernel=readout_weighting_function,\n",
    "            )\n",
    "            # signal data acquisition\n",
    "            exp_cr_gate.acquire(\n",
    "                signal=\"acquire_1\",\n",
    "                handle=\"ac_1\",\n",
    "                kernel=readout_weighting_function,\n",
    "            )\n",
    "        # relax time after readout - for signal processing and qubit relaxation to ground state\n",
    "        with exp_cr_gate.section(uid=\"relax\", length=100e-9):\n",
    "            exp_cr_gate.reserve(signal=\"measure_0\")"
   ]
  },
  {
   "cell_type": "code",
   "execution_count": null,
   "id": "b10527ec",
   "metadata": {},
   "outputs": [],
   "source": [
    "# define the signal map - playing cr gate pulse on qubit drive 0\n",
    "map_q0 = {\n",
    "    \"drive_0\": device_setup.logical_signal_groups[\"q0\"].logical_signals[\"drive_line\"],\n",
    "    \"drive_1\": device_setup.logical_signal_groups[\"q1\"].logical_signals[\"drive_line\"],\n",
    "    \"drive_cr\": device_setup.logical_signal_groups[\"q0\"].logical_signals[\"drive_line\"],\n",
    "    \"measure_0\": device_setup.logical_signal_groups[\"q0\"].logical_signals[\n",
    "        \"measure_line\"\n",
    "    ],\n",
    "    \"acquire_0\": device_setup.logical_signal_groups[\"q0\"].logical_signals[\n",
    "        \"acquire_line\"\n",
    "    ],\n",
    "    \"measure_1\": device_setup.logical_signal_groups[\"q1\"].logical_signals[\n",
    "        \"measure_line\"\n",
    "    ],\n",
    "    \"acquire_1\": device_setup.logical_signal_groups[\"q1\"].logical_signals[\n",
    "        \"acquire_line\"\n",
    "    ],\n",
    "}\n",
    "# .. and on qubit drive 1\n",
    "map_q1 = {\n",
    "    \"drive_0\": device_setup.logical_signal_groups[\"q0\"].logical_signals[\"drive_line\"],\n",
    "    \"drive_1\": device_setup.logical_signal_groups[\"q1\"].logical_signals[\"drive_line\"],\n",
    "    \"drive_cr\": device_setup.logical_signal_groups[\"q1\"].logical_signals[\"drive_line\"],\n",
    "    \"measure_0\": device_setup.logical_signal_groups[\"q0\"].logical_signals[\n",
    "        \"measure_line\"\n",
    "    ],\n",
    "    \"acquire_0\": device_setup.logical_signal_groups[\"q0\"].logical_signals[\n",
    "        \"acquire_line\"\n",
    "    ],\n",
    "    \"measure_1\": device_setup.logical_signal_groups[\"q1\"].logical_signals[\n",
    "        \"measure_line\"\n",
    "    ],\n",
    "    \"acquire_1\": device_setup.logical_signal_groups[\"q1\"].logical_signals[\n",
    "        \"acquire_line\"\n",
    "    ],\n",
    "}"
   ]
  },
  {
   "attachments": {},
   "cell_type": "markdown",
   "id": "7e485382-ccd1-4c32-8253-1f5e9e2ad127",
   "metadata": {},
   "source": [
    "### 2.2 Run the Experiment and Plot the Pulse Sequence"
   ]
  },
  {
   "cell_type": "code",
   "execution_count": null,
   "id": "dc48e4a3",
   "metadata": {},
   "outputs": [],
   "source": [
    "# set signal map to qubit 0\n",
    "exp_cr_gate.set_signal_map(map_q1)\n",
    "\n",
    "# create and connect to session\n",
    "session = Session(device_setup=device_setup)\n",
    "session.connect(do_emulation=use_emulation)\n",
    "\n",
    "# run experiment on qubit 0\n",
    "compiled_exp_cr_gate = session.compile(exp_cr_gate)\n",
    "cr_gate_results = session.run(compiled_exp_cr_gate)"
   ]
  },
  {
   "cell_type": "code",
   "execution_count": null,
   "id": "a93bee60",
   "metadata": {},
   "outputs": [],
   "source": [
    "# Plot simulated output signals\n",
    "plot_simulation(compiled_exp_cr_gate, start_time=0, length=5e-6)"
   ]
  },
  {
   "cell_type": "code",
   "execution_count": null,
   "id": "83816509",
   "metadata": {},
   "outputs": [],
   "source": []
  }
 ],
 "metadata": {
  "hide_input": false,
  "kernelspec": {
   "display_name": "develop",
   "language": "python",
   "name": "python3"
  },
  "language_info": {
   "codemirror_mode": {
    "name": "ipython",
    "version": 3
   },
   "file_extension": ".py",
   "mimetype": "text/x-python",
   "name": "python",
   "nbconvert_exporter": "python",
   "pygments_lexer": "ipython3",
   "version": "3.12.1"
  },
  "toc": {
   "base_numbering": 1,
   "nav_menu": {},
   "number_sections": true,
   "sideBar": true,
   "skip_h1_title": false,
   "title_cell": "Table of Contents",
   "title_sidebar": "Contents",
   "toc_cell": false,
   "toc_position": {
    "height": "calc(100% - 180px)",
    "left": "10px",
    "top": "150px",
    "width": "426.667px"
   },
   "toc_section_display": true,
   "toc_window_display": true
  },
  "varInspector": {
   "cols": {
    "lenName": 16,
    "lenType": 16,
    "lenVar": 40
   },
   "kernels_config": {
    "python": {
     "delete_cmd_postfix": "",
     "delete_cmd_prefix": "del ",
     "library": "var_list.py",
     "varRefreshCmd": "print(var_dic_list())"
    },
    "r": {
     "delete_cmd_postfix": ") ",
     "delete_cmd_prefix": "rm(",
     "library": "var_list.r",
     "varRefreshCmd": "cat(var_dic_list()) "
    }
   },
   "types_to_exclude": [
    "module",
    "function",
    "builtin_function_or_method",
    "instance",
    "_Feature"
   ],
   "window_display": false
  }
 },
 "nbformat": 4,
 "nbformat_minor": 5
}
