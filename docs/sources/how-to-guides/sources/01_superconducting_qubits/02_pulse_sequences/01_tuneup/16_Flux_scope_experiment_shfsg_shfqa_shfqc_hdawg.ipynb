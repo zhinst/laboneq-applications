{
 "cells": [
  {
   "cell_type": "markdown",
   "id": "0ed599f8-b026-4714-8243-4df4bc485ea6",
   "metadata": {},
   "source": [
    "# Flux Scope\n",
    "\n",
    "Experiment to characterise the distortions of flux pulses due to the imperfect signal lines, following chapter 4.4.3 in https://www.research-collection.ethz.ch/handle/20.500.11850/153681"
   ]
  },
  {
   "cell_type": "markdown",
   "id": "24fa2591",
   "metadata": {},
   "source": [
    "## 0. General Imports and Definitions"
   ]
  },
  {
   "cell_type": "markdown",
   "id": "21f4e260",
   "metadata": {},
   "source": [
    "### 0.1 Python Imports "
   ]
  },
  {
   "cell_type": "code",
   "execution_count": null,
   "id": "537d6564",
   "metadata": {},
   "outputs": [],
   "source": [
    "# LabOne Q:\n",
    "from laboneq.contrib.example_helpers.example_notebook_helper import create_device_setup\n",
    "\n",
    "# Helpers:\n",
    "from laboneq.contrib.example_helpers.plotting.plot_helpers import *\n",
    "from laboneq.simple import *"
   ]
  },
  {
   "cell_type": "markdown",
   "id": "4a37dfb4",
   "metadata": {},
   "source": [
    "## 1. Device Setup"
   ]
  },
  {
   "cell_type": "code",
   "execution_count": null,
   "id": "9593232d",
   "metadata": {},
   "outputs": [],
   "source": [
    "# create device setup\n",
    "device_setup = create_device_setup(generation=2)\n",
    "use_emulation = True"
   ]
  },
  {
   "cell_type": "code",
   "execution_count": null,
   "id": "361fec90",
   "metadata": {},
   "outputs": [],
   "source": [
    "#  signal map for qubits\n",
    "\n",
    "\n",
    "def map_qubit(qubit_id):\n",
    "    return {\n",
    "        \"drive\": f\"/logical_signal_groups/q{qubit_id}/drive_line\",\n",
    "        \"flux\": f\"/logical_signal_groups/q{qubit_id}/flux_line\",\n",
    "        \"measure\": f\"/logical_signal_groups/q{qubit_id}/measure_line\",\n",
    "        \"acquire\": f\"/logical_signal_groups/q{qubit_id}/acquire_line\",\n",
    "    }"
   ]
  },
  {
   "cell_type": "markdown",
   "id": "f6ead121",
   "metadata": {},
   "source": [
    "## 2. Experiment Definition"
   ]
  },
  {
   "cell_type": "code",
   "execution_count": null,
   "id": "6e76d60e",
   "metadata": {},
   "outputs": [],
   "source": [
    "# Pulse definitions\n",
    "\n",
    "\n",
    "# qubit excitation pulse - amplitude such that if pulse is resonant, results in pi rotation\n",
    "x180 = pulse_library.gaussian(uid=\"x180\", length=20e-9, amplitude=0.66)\n",
    "\n",
    "# flux pulse - constant length and amplitude\n",
    "flux_pulse = pulse_library.const(uid=\"flux_pulse\", length=400e-9, amplitude=0.5)\n",
    "\n",
    "# readout drive pulse\n",
    "readout_pulse = pulse_library.const(uid=\"readout_pulse\", length=250e-9, amplitude=1.0)\n",
    "# readout weights for integration\n",
    "readout_weighting_function = pulse_library.const(\n",
    "    uid=\"readout_weighting_function\", length=200e-9, amplitude=1.0\n",
    ")\n",
    "\n",
    "# assuming all calibration settings are already correct"
   ]
  },
  {
   "cell_type": "code",
   "execution_count": null,
   "id": "929a268b",
   "metadata": {},
   "outputs": [],
   "source": [
    "# define sweep parameters\n",
    "\n",
    "# qubit excitation pulse frequency sweep\n",
    "start_freq = 40e6\n",
    "stop_freq = 200e6\n",
    "count_freq = 11\n",
    "\n",
    "sweep_frequency = LinearSweepParameter(\n",
    "    uid=\"qubit_frequency\", start=start_freq, stop=stop_freq, count=count_freq\n",
    ")\n",
    "\n",
    "# sweep delay between start of flux pulse and start of qubit excitation pulse\n",
    "start_delay = 0\n",
    "stop_delay = flux_pulse.length - x180.length\n",
    "count_delay = 11\n",
    "\n",
    "sweep_delay = LinearSweepParameter(\n",
    "    uid=\"delay\", start=start_delay, stop=stop_delay, count=count_delay\n",
    ")\n",
    "\n",
    "# define number of averages\n",
    "average_exponent = 10  # used for 2^n averages, n=average_exponent, maximum: n = 19"
   ]
  },
  {
   "cell_type": "markdown",
   "id": "b6778c45",
   "metadata": {},
   "source": [
    "### 2.1 Pulse Sequence"
   ]
  },
  {
   "cell_type": "code",
   "execution_count": null,
   "id": "701cd1b3",
   "metadata": {},
   "outputs": [],
   "source": [
    "# Create Experiment\n",
    "exp = Experiment(\n",
    "    \"Flux Scope\",\n",
    "    signals=[\n",
    "        ExperimentSignal(\"drive\"),\n",
    "        ExperimentSignal(\"flux\"),\n",
    "        ExperimentSignal(\"measure\"),\n",
    "        ExperimentSignal(\"acquire\"),\n",
    "    ],\n",
    ")\n",
    "\n",
    "## experimental pulse sequence\n",
    "# outer sweep - qubit excitation frequency\n",
    "\n",
    "# real-time acquisition loop in integration mode\n",
    "with exp.acquire_loop_rt(\n",
    "    uid=\"shots\",\n",
    "    count=pow(2, average_exponent),\n",
    "    averaging_mode=AveragingMode.CYCLIC,\n",
    "    acquisition_type=AcquisitionType.INTEGRATION,\n",
    "):\n",
    "    with exp.sweep(uid=\"frequency_sweep\", parameter=sweep_frequency):\n",
    "        # inner sweep - delay between start of qubit excitation pulse and start of flux pulse\n",
    "        with exp.sweep(uid=\"sweep\", parameter=sweep_delay):\n",
    "            # flux pulse\n",
    "            with exp.section(uid=\"qubit_excitation\"):\n",
    "                exp.play(signal=\"flux\", pulse=flux_pulse)  # qubit detuning\n",
    "                exp.delay(signal=\"drive\", time=sweep_delay)  # delay is swept\n",
    "                exp.play(signal=\"drive\", pulse=x180)  # qubit excitation\n",
    "            # readout and data acquisition\n",
    "            with exp.section(uid=\"qubit_readout\", play_after=\"qubit_excitation\"):\n",
    "                exp.play(signal=\"measure\", pulse=readout_pulse)\n",
    "                exp.acquire(\n",
    "                    signal=\"acquire\",\n",
    "                    handle=\"ac_0\",\n",
    "                    kernel=readout_weighting_function,\n",
    "                )\n",
    "            # relax time after readout - for signal processing and qubit relaxation to ground state\n",
    "            with exp.section(uid=\"relax\", play_after=\"qubit_readout\"):\n",
    "                exp.delay(signal=\"measure\", time=1e-6)"
   ]
  },
  {
   "cell_type": "code",
   "execution_count": null,
   "id": "bf5c5b82",
   "metadata": {},
   "outputs": [],
   "source": [
    "# define experiment calibration - sweep over qubit drive frequency\n",
    "exp_calib = Calibration()\n",
    "exp_calib[\"drive\"] = SignalCalibration(\n",
    "    oscillator=Oscillator(\n",
    "        frequency=sweep_frequency,\n",
    "        modulation_type=ModulationType.HARDWARE,\n",
    "    )\n",
    ")"
   ]
  },
  {
   "cell_type": "markdown",
   "id": "2c4a02bc-a500-4acd-a5b0-d8ed4302bec0",
   "metadata": {},
   "source": [
    "### 2.2 Run the Experiment and Plot the Measurement Results and Pulse Sequence"
   ]
  },
  {
   "cell_type": "code",
   "execution_count": null,
   "id": "3e20c471-a819-4b58-8616-a9f987affd84",
   "metadata": {},
   "outputs": [],
   "source": [
    "# set calibration and signal map for qubit 0\n",
    "exp.set_calibration(exp_calib)\n",
    "exp.set_signal_map(map_qubit(0))\n",
    "\n",
    "# create a session and connect to it\n",
    "session = Session(device_setup=device_setup)\n",
    "session.connect(do_emulation=use_emulation)\n",
    "\n",
    "# run experiment on qubit 0\n",
    "my_results = session.run(exp)"
   ]
  },
  {
   "cell_type": "code",
   "execution_count": null,
   "id": "80af8a70",
   "metadata": {},
   "outputs": [],
   "source": [
    "# Plot simulated output signals\n",
    "plot_simulation(session.compiled_experiment, start_time=0, length=10e-6)"
   ]
  },
  {
   "cell_type": "code",
   "execution_count": null,
   "id": "8b89154f-b2bd-4cf9-8450-3908372618ed",
   "metadata": {},
   "outputs": [],
   "source": [
    "# plot measurement results\n",
    "plot_result_3d(my_results, \"ac_0\")"
   ]
  },
  {
   "cell_type": "code",
   "execution_count": null,
   "id": "a8c5a5fe-4a30-4922-94ad-1ff9bffe5b05",
   "metadata": {},
   "outputs": [],
   "source": [
    "# use pulse sheet viewer to display the pulse sequence - only recommended for small number of averages and sweep steps to avoid performance issues\n",
    "show_pulse_sheet(\"Flux Scope Experiment\", session.compiled_experiment)"
   ]
  },
  {
   "cell_type": "code",
   "execution_count": null,
   "id": "b8b03818",
   "metadata": {},
   "outputs": [],
   "source": [
    "# set calibration and signal map for qubit 1\n",
    "exp.set_calibration(exp_calib)\n",
    "exp.set_signal_map(map_qubit(1))\n",
    "\n",
    "# create a session and connect to it\n",
    "session = Session(device_setup=device_setup)\n",
    "session.connect(do_emulation=use_emulation)\n",
    "\n",
    "# run experiment on qubit 1\n",
    "my_results = session.run(exp)"
   ]
  },
  {
   "cell_type": "code",
   "execution_count": null,
   "id": "205b1cd0",
   "metadata": {},
   "outputs": [],
   "source": []
  }
 ],
 "metadata": {
  "hide_input": false,
  "kernelspec": {
   "display_name": "zi-py310",
   "language": "python",
   "name": "python3"
  },
  "language_info": {
   "codemirror_mode": {
    "name": "ipython",
    "version": 3
   },
   "file_extension": ".py",
   "mimetype": "text/x-python",
   "name": "python",
   "nbconvert_exporter": "python",
   "pygments_lexer": "ipython3",
   "version": "3.12.4"
  },
  "toc": {
   "base_numbering": 1,
   "nav_menu": {},
   "number_sections": true,
   "sideBar": true,
   "skip_h1_title": false,
   "title_cell": "Table of Contents",
   "title_sidebar": "Contents",
   "toc_cell": false,
   "toc_position": {
    "height": "calc(100% - 180px)",
    "left": "10px",
    "top": "150px",
    "width": "426.667px"
   },
   "toc_section_display": true,
   "toc_window_display": true
  },
  "varInspector": {
   "cols": {
    "lenName": 16,
    "lenType": 16,
    "lenVar": 40
   },
   "kernels_config": {
    "python": {
     "delete_cmd_postfix": "",
     "delete_cmd_prefix": "del ",
     "library": "var_list.py",
     "varRefreshCmd": "print(var_dic_list())"
    },
    "r": {
     "delete_cmd_postfix": ") ",
     "delete_cmd_prefix": "rm(",
     "library": "var_list.r",
     "varRefreshCmd": "cat(var_dic_list()) "
    }
   },
   "types_to_exclude": [
    "module",
    "function",
    "builtin_function_or_method",
    "instance",
    "_Feature"
   ],
   "window_display": false
  }
 },
 "nbformat": 4,
 "nbformat_minor": 5
}
