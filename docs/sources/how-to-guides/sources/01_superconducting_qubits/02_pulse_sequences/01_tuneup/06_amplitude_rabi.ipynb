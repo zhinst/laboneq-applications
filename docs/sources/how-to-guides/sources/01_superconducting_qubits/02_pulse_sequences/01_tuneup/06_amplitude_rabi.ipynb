{
 "cells": [
  {
   "attachments": {},
   "cell_type": "markdown",
   "metadata": {},
   "source": [
    "# Amplitude Rabi\n",
    "\n",
    "This notebook shows you how to perform an amplitude Rabi oscillation experiment. You'll sweep the pulse amplitude of a qubit drive pulse to determine the ideal amplitudes for specific qubit rotation angles"
   ]
  },
  {
   "attachments": {},
   "cell_type": "markdown",
   "metadata": {},
   "source": [
    "## 0. LabOne Q Imports\n",
    "\n",
    "You'll begin by importing `laboneq.simple` and some extra helper functions to run the examples. "
   ]
  },
  {
   "cell_type": "code",
   "execution_count": null,
   "metadata": {},
   "outputs": [],
   "source": [
    "# LabOne Q:\n",
    "import time\n",
    "from pathlib import Path\n",
    "\n",
    "import matplotlib.pyplot as plt\n",
    "import numpy as np\n",
    "\n",
    "# Helpers:\n",
    "from laboneq.analysis.fitting import oscillatory\n",
    "from laboneq.contrib.example_helpers.generate_example_datastore import (\n",
    "    generate_example_datastore,\n",
    "    get_first_named_entry,\n",
    ")\n",
    "from laboneq.contrib.example_helpers.plotting.plot_helpers import (\n",
    "    plot_results,\n",
    "    plot_simulation,\n",
    ")\n",
    "from laboneq.simple import *"
   ]
  },
  {
   "cell_type": "code",
   "execution_count": null,
   "metadata": {},
   "outputs": [],
   "source": [
    "# Build an in-memory data store with device setup and qubit parameters for the\n",
    "# example notebooks\n",
    "setup_db = generate_example_datastore(in_memory=True)"
   ]
  },
  {
   "attachments": {},
   "cell_type": "markdown",
   "metadata": {},
   "source": [
    "## 1. Device Setup\n",
    "\n",
    "Below, you'll create a device setup and specify to run in an emulated mode or on hardware, `emulate = True/False` respectively.\n",
    "\n",
    "If you run on your hardware, the [descriptor](https://docs.zhinst.com/labone_q_user_manual/concepts/set_up_equipment/) called by `create_device_setup` should be replaced by one of your own, generally stored as a [YAML file](https://docs.zhinst.com/labone_q_user_manual/concepts/set_up_equipment/#labone_q.func_concepts.setting_up.set_up_equipment.descriptor). Once you have this descriptor, it can be reused for all your experiments."
   ]
  },
  {
   "cell_type": "code",
   "execution_count": null,
   "metadata": {},
   "outputs": [],
   "source": [
    "# load a calibrated device setup from the dummy database\n",
    "device_setup = get_first_named_entry(\n",
    "    db=setup_db, name=\"6_tuneable_qubit_setup_shfsg_shfqa_hdawg_pqsc_calibrated\"\n",
    ")\n",
    "\n",
    "emulate = True"
   ]
  },
  {
   "cell_type": "code",
   "execution_count": null,
   "metadata": {},
   "outputs": [],
   "source": [
    "# create and connect to a session\n",
    "session = Session(device_setup=device_setup)\n",
    "session.connect(do_emulation=emulate)"
   ]
  },
  {
   "attachments": {},
   "cell_type": "markdown",
   "metadata": {},
   "source": [
    "## 2. Experiment Parameters\n",
    "\n",
    "Now you'll define the amplitude sweep parameters and pulses to use in your experiment."
   ]
  },
  {
   "cell_type": "code",
   "execution_count": null,
   "metadata": {},
   "outputs": [],
   "source": [
    "# range of pulse amplitude scan\n",
    "\n",
    "\n",
    "def create_rabi_amp_sweep(amp_num, uid=\"rabi_amp\"):\n",
    "    amp_min = 0\n",
    "    amp_max = 1\n",
    "    return LinearSweepParameter(uid=uid, start=amp_min, stop=amp_max, count=amp_num)\n",
    "\n",
    "\n",
    "# define number of averages\n",
    "# used for 2^num_averages, maximum: num_averages = 17\n",
    "num_averages = 4\n",
    "\n",
    "\n",
    "# pulse parameters and definitions\n",
    "envelope_duration = 2.0e-6\n",
    "sigma = 0.2\n",
    "flat_duration = 1.0e-6\n",
    "\n",
    "\n",
    "def create_readout_pulse(\n",
    "    qubit, length=envelope_duration, amplitude=0.9, width=flat_duration, sigma=sigma\n",
    "):\n",
    "    readout_pulse = pulse_library.gaussian_square(\n",
    "        uid=f\"readout_pulse_{qubit}\",\n",
    "        length=length,\n",
    "        amplitude=amplitude,\n",
    "        width=width,\n",
    "        sigma=sigma,\n",
    "    )\n",
    "    return readout_pulse\n",
    "\n",
    "\n",
    "def create_rabi_drive_pulse(qubit, length=1e-6, amplitude=0.9):\n",
    "    return pulse_library.gaussian(\n",
    "        uid=f\"gaussian_drive_q{qubit}\", length=length, amplitude=amplitude\n",
    "    )"
   ]
  },
  {
   "attachments": {},
   "cell_type": "markdown",
   "metadata": {},
   "source": [
    "## 3. Experiment Definition\n",
    "\n",
    "You'll now create a function which generates an [experiment](https://docs.zhinst.com/labone_q_user_manual/concepts/experiment/). In this experiment, you'll pass an amplitude sweep parameter as an argument to the [sweep section](https://docs.zhinst.com/labone_q_user_manual/concepts/averaging_sweeping/#labone_q.func_concepts.experiment.averaging_sweeping.parameters_sweeps). Within the sweeep section, you'll create another [section](https://docs.zhinst.com/labone_q_user_manual/concepts/sections_and_pulses/) containing a `play` command to drive the qubit, where the amplitude of this command takes the sweep parameter. You'll also make a readout section containing `play` and `acquire` commands to perform readout. Within the real-time acquisition section, you'll set use `INTEGRATION` as your acquisition type."
   ]
  },
  {
   "cell_type": "code",
   "execution_count": null,
   "metadata": {},
   "outputs": [],
   "source": [
    "# function that returns an amplitude Rabi experiment\n",
    "\n",
    "\n",
    "def amplitude_rabi(drive_pulse, readout_pulse, amplitude_sweep):\n",
    "    exp_rabi = Experiment(\n",
    "        uid=\"Amplitude Rabi\",\n",
    "        signals=[\n",
    "            ExperimentSignal(\"drive\"),\n",
    "            ExperimentSignal(\"measure\"),\n",
    "            ExperimentSignal(\"acquire\"),\n",
    "        ],\n",
    "    )\n",
    "\n",
    "    ## define Rabi experiment pulse sequence\n",
    "    # outer loop - real-time, cyclic averaging\n",
    "    with exp_rabi.acquire_loop_rt(\n",
    "        uid=\"rabi_shots\",\n",
    "        count=num_averages,\n",
    "        averaging_mode=AveragingMode.CYCLIC,\n",
    "        acquisition_type=AcquisitionType.INTEGRATION,\n",
    "    ):\n",
    "        # inner loop - real time sweep of Rabi ampitudes\n",
    "        with exp_rabi.sweep(uid=\"rabi_sweep\", parameter=amplitude_sweep):\n",
    "            # play qubit excitation pulse - pulse amplitude is swept\n",
    "            with exp_rabi.section(\n",
    "                uid=\"qubit_excitation\", alignment=SectionAlignment.RIGHT\n",
    "            ):\n",
    "                exp_rabi.play(\n",
    "                    signal=\"drive\", pulse=drive_pulse, amplitude=amplitude_sweep\n",
    "                )\n",
    "            # readout pulse and data acquisition\n",
    "            with exp_rabi.section(uid=\"readout_section\", play_after=\"qubit_excitation\"):\n",
    "                # play readout pulse on measure line\n",
    "                exp_rabi.play(signal=\"measure\", pulse=readout_pulse)\n",
    "                # trigger signal data acquisition\n",
    "                exp_rabi.acquire(\n",
    "                    signal=\"acquire\",\n",
    "                    handle=\"amp_rabi\",\n",
    "                    kernel=readout_pulse,\n",
    "                )\n",
    "            # relax time after readout - for qubit relaxation to groundstate and signal processing\n",
    "            with exp_rabi.section(uid=\"reserve\", length=1e-6):\n",
    "                exp_rabi.reserve(signal=\"measure\")\n",
    "    return exp_rabi"
   ]
  },
  {
   "attachments": {},
   "cell_type": "markdown",
   "metadata": {},
   "source": [
    "### 3.1 Create Experiment and Signal Map\n",
    "\n",
    "Before running the experiment, you'll define and set the mapping between the experimental and logical lines."
   ]
  },
  {
   "cell_type": "code",
   "execution_count": null,
   "metadata": {},
   "outputs": [],
   "source": [
    "# define pulses and create experiment\n",
    "readout_pulse = create_readout_pulse(\"q0\")\n",
    "drive_pulse = create_rabi_drive_pulse(\"q0\")\n",
    "exp_rabi = amplitude_rabi(drive_pulse, readout_pulse, create_rabi_amp_sweep(amp_num=61))\n",
    "\n",
    "\n",
    "# signal map for qubit 0\n",
    "def signal_map_default(qubit):\n",
    "    signal_map = {\n",
    "        \"drive\": device_setup.logical_signal_groups[f\"{qubit}\"].logical_signals[\n",
    "            \"drive_line\"\n",
    "        ],\n",
    "        \"measure\": device_setup.logical_signal_groups[f\"{qubit}\"].logical_signals[\n",
    "            \"measure_line\"\n",
    "        ],\n",
    "        \"acquire\": device_setup.logical_signal_groups[f\"{qubit}\"].logical_signals[\n",
    "            \"acquire_line\"\n",
    "        ],\n",
    "    }\n",
    "    return signal_map\n",
    "\n",
    "\n",
    "# run the experiment on qubit 0\n",
    "exp_rabi.set_signal_map(signal_map_default(\"q0\"))"
   ]
  },
  {
   "attachments": {},
   "cell_type": "markdown",
   "metadata": {},
   "source": [
    "### 3.2 Compile, Generate Pulse Sheet, and Plot Simulated Signals\n",
    "\n",
    "Now, you'll compile the experiment and generate a pulse sheet."
   ]
  },
  {
   "cell_type": "code",
   "execution_count": null,
   "metadata": {},
   "outputs": [],
   "source": [
    "# compile the experiment on the open instrument session\n",
    "compiled_rabi = session.compile(exp_rabi)\n",
    "\n",
    "Path(\"Pulse_Sheets\").mkdir(parents=True, exist_ok=True)\n",
    "# generate a pulse sheet to inspect experiment before runtime\n",
    "show_pulse_sheet(\"Pulse_Sheets/Rabi\", compiled_rabi)"
   ]
  },
  {
   "attachments": {},
   "cell_type": "markdown",
   "metadata": {},
   "source": [
    "In addition to creating a pulse sheet to inspect the timing of pulses, you can simulate physical output of the channels."
   ]
  },
  {
   "cell_type": "code",
   "execution_count": null,
   "metadata": {},
   "outputs": [],
   "source": [
    "plot_simulation(compiled_rabi, start_time=0, length=100e-6)"
   ]
  },
  {
   "attachments": {},
   "cell_type": "markdown",
   "metadata": {},
   "source": [
    "### 3.3 Run, Save, and Plot Results\n",
    "\n",
    "Finally, you'll run the experiment, save, and plot the results."
   ]
  },
  {
   "cell_type": "code",
   "execution_count": null,
   "metadata": {},
   "outputs": [],
   "source": [
    "# run the compiled experiemnt\n",
    "rabi_results = session.run()\n",
    "timestamp = time.strftime(\"%Y%m%dT%H%M%S\")\n",
    "Path(\"Results\").mkdir(parents=True, exist_ok=True)\n",
    "session.save_results(f\"Results/{timestamp}_rabi_results.json\")\n",
    "print(f\"File saved as Results/{timestamp}_rabi_results.json\")"
   ]
  },
  {
   "cell_type": "code",
   "execution_count": null,
   "metadata": {},
   "outputs": [],
   "source": [
    "plot_results(rabi_results)"
   ]
  },
  {
   "attachments": {},
   "cell_type": "markdown",
   "metadata": {},
   "source": [
    "# 4. Fitting Results\n",
    "\n",
    "You can also fit your results. The below script fits some emulated Rabi data when running in emulation mode."
   ]
  },
  {
   "cell_type": "code",
   "execution_count": null,
   "metadata": {},
   "outputs": [],
   "source": [
    "# get measurement data returned by the instruments\n",
    "rabi_res = rabi_results.get_data(\"amp_rabi\")\n",
    "\n",
    "# define amplitude axis from qubit parameters\n",
    "rabi_amp = rabi_results.get_axis(\"amp_rabi\")[0]\n",
    "\n",
    "if emulate:\n",
    "    # create some dummy data if running in emulation mode\n",
    "    rabi_res = oscillatory(rabi_amp, 10, 0, 1, 1.2) + 0.2 * np.random.rand(\n",
    "        len(rabi_amp)\n",
    "    )\n",
    "\n",
    "# plot measurement data\n",
    "fig = plt.figure()\n",
    "plt.plot(rabi_amp, rabi_res, \".k\")\n",
    "plt.ylabel(\"A (a.u.)\")\n",
    "plt.xlabel(\"amplitude (a.u.)\")\n",
    "\n",
    "# increase number of plot points for smooth plotting of fit results\n",
    "amp_plot = np.linspace(rabi_amp[0], rabi_amp[-1], 5 * len(rabi_amp))\n",
    "\n",
    "# fit measurement results - assume sinusoidal oscillation with drive amplitude\n",
    "popt, pcov = oscillatory.fit(rabi_amp, rabi_res, 10, 0, 1, 1.2, plot=False)\n",
    "print(f\"Fitted parameters: {popt}\")\n",
    "\n",
    "# plot fit results together with measurement data\n",
    "plt.plot(amp_plot, oscillatory(amp_plot, *popt), \"-r\")"
   ]
  }
 ],
 "metadata": {
  "kernelspec": {
   "display_name": "repo",
   "language": "python",
   "name": "python3"
  },
  "language_info": {
   "codemirror_mode": {
    "name": "ipython",
    "version": 3
   },
   "file_extension": ".py",
   "mimetype": "text/x-python",
   "name": "python",
   "nbconvert_exporter": "python",
   "pygments_lexer": "ipython3",
   "version": "3.12.1"
  }
 },
 "nbformat": 4,
 "nbformat_minor": 2
}
