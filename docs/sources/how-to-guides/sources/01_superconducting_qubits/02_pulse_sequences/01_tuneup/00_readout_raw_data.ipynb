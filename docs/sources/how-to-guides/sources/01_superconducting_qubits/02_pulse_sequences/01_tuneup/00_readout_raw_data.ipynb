{
 "cells": [
  {
   "attachments": {},
   "cell_type": "markdown",
   "id": "19683d8e",
   "metadata": {},
   "source": [
    "# Readout Raw Data\n",
    "\n",
    "In this notebook, you'll learn how to access the raw time traces of the readout integration unit for both UHFQA and SHFQA, which may be used to optimize the readout fidelity when designing matched filter functions for the readout integration weights."
   ]
  },
  {
   "attachments": {},
   "cell_type": "markdown",
   "id": "2091d81c",
   "metadata": {},
   "source": [
    "## 0. Python Imports"
   ]
  },
  {
   "cell_type": "code",
   "execution_count": null,
   "id": "537d6564",
   "metadata": {},
   "outputs": [],
   "source": [
    "import matplotlib.pyplot as plt\n",
    "import numpy as np\n",
    "\n",
    "# Helpers:\n",
    "from laboneq.contrib.example_helpers.generate_device_setup import (\n",
    "    generate_device_setup_qubits,\n",
    ")\n",
    "\n",
    "# LabOne Q:\n",
    "from laboneq.simple import *"
   ]
  },
  {
   "attachments": {},
   "cell_type": "markdown",
   "id": "91e842db",
   "metadata": {},
   "source": [
    "## 1. Define Device Setup and Calibration\n",
    "\n",
    "### 1.1 Device Setup\n",
    "\n",
    "The device setup we use here contains either an UHFQA or a SHFQC in order to demonstrate raw readout trace access for the quantum analyser channels on those instruments."
   ]
  },
  {
   "cell_type": "code",
   "execution_count": null,
   "id": "27f1d5a8",
   "metadata": {},
   "outputs": [],
   "source": [
    "# specify the number of qubits you want to use\n",
    "number_of_qubits = 1\n",
    "\n",
    "# generate the device setup and the qubit objects using a helper function - remove either the UHFQA or the SHFQC to make this work\n",
    "device_setup, qubits = generate_device_setup_qubits(\n",
    "    number_qubits=number_of_qubits,\n",
    "    pqsc=[{\"serial\": \"DEV10001\"}],\n",
    "    hdawg=[\n",
    "        {\n",
    "            \"serial\": \"DEV8001\",\n",
    "            \"zsync\": 0,\n",
    "            \"number_of_channels\": 8,\n",
    "            \"options\": None,\n",
    "            \"dio\": \"DEV2001\",\n",
    "        }\n",
    "    ],\n",
    "    # uhfqa=[{\"serial\": \"DEV2001\", \"readout_multiplex\": 6}],\n",
    "    shfqc=[\n",
    "        {\n",
    "            \"serial\": \"DEV12001\",\n",
    "            \"zsync\": 1,\n",
    "            \"number_of_channels\": 6,\n",
    "            \"readout_multiplex\": 6,\n",
    "            \"options\": None,\n",
    "        }\n",
    "    ],\n",
    "    include_flux_lines=False,\n",
    "    server_host=\"localhost\",\n",
    "    setup_name=f\"my_{number_of_qubits}_fixed_qubit_setup\",\n",
    ")\n",
    "\n",
    "q0 = qubits[0]"
   ]
  },
  {
   "cell_type": "code",
   "execution_count": null,
   "id": "d67706a7",
   "metadata": {},
   "outputs": [],
   "source": [
    "# use emulation mode - no connection to instruments\n",
    "use_emulation = True\n",
    "\n",
    "# create and connect to a LabOne Q session\n",
    "session = Session(device_setup=device_setup)\n",
    "session.connect(do_emulation=use_emulation)"
   ]
  },
  {
   "attachments": {},
   "cell_type": "markdown",
   "id": "5f9e26d9",
   "metadata": {},
   "source": [
    "## 2. Readout raw time traces with a UHFQA or an SHFQA\n",
    "\n",
    "readout raw integrsation traces for two situations - qubit in groundstate and qubit in excited state\n",
    "\n",
    "difference in raw traces can be used for readout weight optimisation\n",
    "\n",
    "### 2.1 Define the Experiment"
   ]
  },
  {
   "cell_type": "code",
   "execution_count": null,
   "id": "f6bd48ce",
   "metadata": {},
   "outputs": [],
   "source": [
    "# how many averages\n",
    "average_exponent = 10  # used for 2^n averages, n=average_exponent, maximum: n = 19\n",
    "\n",
    "## define pulses used for experiment\n",
    "\n",
    "# qubit drive - needs to be calibrated pulse to bring qubit into excited state\n",
    "x180 = pulse_library.gaussian(uid=\"x180\", length=100e-9, amplitude=1.0)\n",
    "# qubit readout pulse\n",
    "readout_pulse = pulse_library.const(uid=\"readout_pulse\", length=100e-9, amplitude=1.0)\n",
    "# readout integration weights - here simple square pulse, i.e. same weights at all times\n",
    "readout_weighting_function = pulse_library.const(\n",
    "    uid=\"readout_weighting_function\", length=200e-9, amplitude=1.0\n",
    ")"
   ]
  },
  {
   "cell_type": "code",
   "execution_count": null,
   "id": "05c89091",
   "metadata": {},
   "outputs": [],
   "source": [
    "# Create Experiment - qubit remains in ground state\n",
    "exp_0 = Experiment(\n",
    "    uid=\"Optimal weights\",\n",
    "    signals=[\n",
    "        ExperimentSignal(uid=\"drive\", map_to=q0.signals[\"drive\"]),\n",
    "        ExperimentSignal(uid=\"measure\", map_to=q0.signals[\"measure\"]),\n",
    "        ExperimentSignal(uid=\"acquire\", map_to=q0.signals[\"acquire\"]),\n",
    "    ],\n",
    ")\n",
    "# outer averaging loop - real-time averaging of raw data\n",
    "with exp_0.acquire_loop_rt(\n",
    "    uid=\"shots\",\n",
    "    count=pow(2, average_exponent),\n",
    "    averaging_mode=AveragingMode.CYCLIC,\n",
    "    acquisition_type=AcquisitionType.RAW,\n",
    "):\n",
    "    # qubit readout and data acquisition\n",
    "    with exp_0.section(uid=\"qubit_readout\"):\n",
    "        exp_0.play(signal=\"measure\", pulse=readout_pulse)\n",
    "        exp_0.acquire(\n",
    "            signal=\"acquire\", handle=\"ac_0\", kernel=readout_weighting_function\n",
    "        )\n",
    "    # relax time after readout - for signal processing and qubit relaxation to ground state\n",
    "    with exp_0.section(uid=\"relax\", length=1e-6):\n",
    "        exp_0.reserve(signal=\"measure\")"
   ]
  },
  {
   "cell_type": "code",
   "execution_count": null,
   "id": "bcef9651",
   "metadata": {},
   "outputs": [],
   "source": [
    "# Create Experiment - qubit gets excited into excited state\n",
    "exp_1 = Experiment(\n",
    "    uid=\"Optimal weights\",\n",
    "    signals=[\n",
    "        ExperimentSignal(uid=\"drive\", map_to=q0.signals[\"drive\"]),\n",
    "        ExperimentSignal(uid=\"measure\", map_to=q0.signals[\"measure\"]),\n",
    "        ExperimentSignal(uid=\"acquire\", map_to=q0.signals[\"acquire\"]),\n",
    "    ],\n",
    ")\n",
    "# outer averaging loop - real-time averaging of raw data\n",
    "with exp_1.acquire_loop_rt(\n",
    "    uid=\"shots\",\n",
    "    count=pow(2, average_exponent),\n",
    "    averaging_mode=AveragingMode.CYCLIC,\n",
    "    acquisition_type=AcquisitionType.RAW,\n",
    "):\n",
    "    # qubit excitation section - drive qubit into excited state\n",
    "    with exp_1.section(uid=\"qubit_excitation\"):\n",
    "        exp_1.play(signal=\"drive\", pulse=x180)\n",
    "    # qubit readout and data acquisition\n",
    "    with exp_1.section(uid=\"qubit_readout\"):\n",
    "        exp_1.reserve(signal=\"drive\")\n",
    "        exp_1.play(signal=\"measure\", pulse=readout_pulse)\n",
    "        exp_1.acquire(\n",
    "            signal=\"acquire\", handle=\"ac_1\", kernel=readout_weighting_function\n",
    "        )\n",
    "    # relax time after readout - for signal processing and qubit relaxation to ground state\n",
    "    with exp_1.section(uid=\"relax\", length=1e-6):\n",
    "        exp_1.reserve(signal=\"measure\")"
   ]
  },
  {
   "cell_type": "code",
   "execution_count": null,
   "id": "9c8add8e",
   "metadata": {},
   "outputs": [],
   "source": [
    "# run the first experiment and access the data\n",
    "results_0 = session.run(exp_0)\n",
    "raw_0 = results_0.get_data(\"ac_0\")\n",
    "\n",
    "# run the second experiment and access the data\n",
    "results_1 = session.run(exp_1)\n",
    "raw_1 = results_1.get_data(\"ac_1\")"
   ]
  },
  {
   "attachments": {},
   "cell_type": "markdown",
   "id": "13d24ca1",
   "metadata": {},
   "source": [
    "### 2.2 Plot the results"
   ]
  },
  {
   "cell_type": "code",
   "execution_count": null,
   "id": "fa2040a3",
   "metadata": {},
   "outputs": [],
   "source": [
    "time = np.linspace(0, len(raw_0) / 1.8, len(raw_0))\n",
    "# for groundstate\n",
    "plt.plot(time, np.real(raw_0), \"b\")\n",
    "plt.plot(time, np.imag(raw_0), \"-b\")\n",
    "# for excited state\n",
    "plt.plot(time, np.real(raw_1), \"r\")\n",
    "plt.plot(time, np.imag(raw_1), \"-r\")\n",
    "\n",
    "plt.xlabel(\"Time (ns)\")\n",
    "plt.ylabel(\"Amplitude (a.u.)\")"
   ]
  },
  {
   "cell_type": "code",
   "execution_count": null,
   "id": "61ef68ae",
   "metadata": {},
   "outputs": [],
   "source": []
  }
 ],
 "metadata": {
  "hide_input": false,
  "kernelspec": {
   "display_name": "develop",
   "language": "python",
   "name": "python3"
  },
  "language_info": {
   "codemirror_mode": {
    "name": "ipython",
    "version": 3
   },
   "file_extension": ".py",
   "mimetype": "text/x-python",
   "name": "python",
   "nbconvert_exporter": "python",
   "pygments_lexer": "ipython3",
   "version": "3.12.4"
  },
  "toc": {
   "base_numbering": 1,
   "nav_menu": {},
   "number_sections": true,
   "sideBar": true,
   "skip_h1_title": false,
   "title_cell": "Table of Contents",
   "title_sidebar": "Contents",
   "toc_cell": false,
   "toc_position": {
    "height": "calc(100% - 180px)",
    "left": "10px",
    "top": "150px",
    "width": "426.667px"
   },
   "toc_section_display": true,
   "toc_window_display": true
  },
  "varInspector": {
   "cols": {
    "lenName": 16,
    "lenType": 16,
    "lenVar": 40
   },
   "kernels_config": {
    "python": {
     "delete_cmd_postfix": "",
     "delete_cmd_prefix": "del ",
     "library": "var_list.py",
     "varRefreshCmd": "print(var_dic_list())"
    },
    "r": {
     "delete_cmd_postfix": ") ",
     "delete_cmd_prefix": "rm(",
     "library": "var_list.r",
     "varRefreshCmd": "cat(var_dic_list()) "
    }
   },
   "types_to_exclude": [
    "module",
    "function",
    "builtin_function_or_method",
    "instance",
    "_Feature"
   ],
   "window_display": false
  }
 },
 "nbformat": 4,
 "nbformat_minor": 5
}
