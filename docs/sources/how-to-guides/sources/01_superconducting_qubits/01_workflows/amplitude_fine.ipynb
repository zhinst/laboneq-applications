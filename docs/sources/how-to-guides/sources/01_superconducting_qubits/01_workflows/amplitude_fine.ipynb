{
 "cells": [
  {
   "cell_type": "markdown",
   "metadata": {},
   "source": [
    "## How To Perform an Amplitude Fine Experiment"
   ]
  },
  {
   "cell_type": "markdown",
   "metadata": {},
   "source": [
    "### Prerequisites\n",
    "This guide assumes you have a configured `DeviceSetup` as well as `Qubit` objects with assigned parameters. Please see these guides (add links) if you need to create your setup and qubits for the first time. However, you can also run this notebook \"as is\" using an emulated session. If you are just getting started with the LabOne Q Applications Library, please don't hesitate to reach out to us at info@zhinst.com."
   ]
  },
  {
   "cell_type": "markdown",
   "metadata": {},
   "source": [
    "### Background\n",
    "In this how-to guide, you'll optimize the pulse amplitude of the pi-pulse for a given qubit transition using the `amplitude_fine` experiment included in the LabOne Q Applications Library. It is recommended to have the pulse amplitude already roughly calibrated, e.g. with the `amplitude_rabi` experiment.\n",
    "\n",
    "The amplitude of a pulse can be precisely calibrated using error amplifying gate sequences. These gate sequences apply the same quantum operation (qop) a variable number of times. Therefore, if each qop has a small error $\\theta$ in the rotation angle then a sequence of multiple qop's will have a rotation error of $\\text{reps}\\cdot \\theta$, where $\\text{reps}$ is the number of repetitions. By implementing sequences with increasing number of repetitions we can obtain a correction value for the imperfect pulse amplitude (see also https://qiskit-community.github.io/qiskit-experiments/tutorials/calibrations). A larger number of repetitions leads to a higher precision in the pulse calibration, finally limited by the coherence time of the qubit.  \n",
    "\n",
    "![](../../../images/amplitude_fine.svg \"Demonstration of pulses and the corresponding rotation around the Bloch sphere during an amplitude fine experiment.\")\n",
    "\n",
    "In the `amplitude_fine` experiment, we add an x90 gate before the gates that are repeated, in order to move the ideal population to the equator of the Bloch sphere where the sensitivity to over/under rotations is the highest. \n",
    "\n",
    "![](../../../images/amplitude_fine_underrotation.svg \"Pulses with too small ammplitudes cause under-rotation.\")\n",
    "\n",
    "Below we show the results of an amplitude-fine experiment for calibration an x180 operation. The ping-pong pattern in the figure on the left indicates an under-rotation which makes the initial state rotate less than $\\pi$. The rotated phase per gate $\\phi_{\\text{x180}}$ is given by the frequency of the fitted oscillation. The comparison to the ideal angle defines the correction factor $c$\n",
    "\n",
    "$c=\\frac{\\phi_{\\text{x180}}}{\\pi}$\n",
    "\n",
    "Finally, we scale our amplitude by $c^{-1}$ to obtain the optimized amplitude. \n",
    "\n"
   ]
  },
  {
   "cell_type": "markdown",
   "metadata": {},
   "source": [
    "### Imports\n",
    "\n",
    "You'll start by importing the amplitude-Rabi experiment from `laboneq_applications`, as well as `laboneq.simple` and a demo QPU and device setup to run in emulation mode."
   ]
  },
  {
   "cell_type": "code",
   "execution_count": null,
   "metadata": {},
   "outputs": [],
   "source": [
    "import numpy as np\n",
    "from laboneq.contrib.example_helpers.plotting.plot_helpers import plot_simulation\n",
    "from laboneq.simple import *\n",
    "\n",
    "from laboneq_applications.experiments import amplitude_fine\n",
    "from laboneq_applications.qpu_types.tunable_transmon.demo_qpus import demo_platform"
   ]
  },
  {
   "cell_type": "markdown",
   "metadata": {},
   "source": [
    "### QPU and Device Setup\n",
    "\n",
    "You'll generate six qubits with pre-defined parameters, as well as a `Device_Setup` consisting of a SHFQC+, HDAWG, and PQSC. If you already have your own `DeviceSetup` and qubits configured, you'll instead initialize the session using your setup."
   ]
  },
  {
   "cell_type": "code",
   "execution_count": null,
   "metadata": {},
   "outputs": [],
   "source": [
    "my_platform = demo_platform(6)"
   ]
  },
  {
   "cell_type": "markdown",
   "metadata": {},
   "source": [
    "Then, you'll connect to the `Session`. Here we connect to an emulated one:"
   ]
  },
  {
   "cell_type": "code",
   "execution_count": null,
   "metadata": {},
   "outputs": [],
   "source": [
    "session = Session(my_platform.setup)\n",
    "session.connect(do_emulation=True)"
   ]
  },
  {
   "cell_type": "markdown",
   "metadata": {},
   "source": [
    "### Running the Amplitude Fine x180 Workflow\n",
    "\n",
    "You'll now make the experiment workflow and run:"
   ]
  },
  {
   "cell_type": "code",
   "execution_count": null,
   "metadata": {},
   "outputs": [],
   "source": [
    "# our qubits live here in the demo setup:\n",
    "qubits = my_platform.qpu.qubits\n",
    "\n",
    "my_workflow = amplitude_fine.experiment_workflow_x180(\n",
    "    session=session,\n",
    "    qpu=my_platform.qpu,\n",
    "    qubits=[qubits[0], qubits[1]],\n",
    "    repetitions=[[1,2,3,4,5], [1,2,3,4,5]],\n",
    ")\n",
    "\n",
    "my_results = my_workflow.run()"
   ]
  },
  {
   "cell_type": "markdown",
   "metadata": {},
   "source": [
    "In the `amplitude_fine` experiment for an x180 gate, we apply the quantum operation `x180` multiple times, defined by the `repetitions`. "
   ]
  },
  {
   "cell_type": "markdown",
   "metadata": {},
   "source": [
    "#### Output Simulation\n",
    "\n",
    "You can also inspect the compiled experiment and plot the simulated output:"
   ]
  },
  {
   "cell_type": "code",
   "execution_count": null,
   "metadata": {},
   "outputs": [],
   "source": [
    "compiled_exp = my_results.tasks[\"compile_experiment\"].output\n",
    "plot_simulation(compiled_exp, length=12e-6)"
   ]
  },
  {
   "cell_type": "markdown",
   "metadata": {},
   "source": [
    "#### Inspecting the Source Code\n",
    "\n",
    "You can inspect the source code of the `create_experiment` task defined in `amplitude_fine` to see how the experiment pulse sequence is created:"
   ]
  },
  {
   "cell_type": "code",
   "execution_count": null,
   "metadata": {
    "scrolled": true
   },
   "outputs": [],
   "source": [
    "print(amplitude_fine.create_experiment.src)"
   ]
  },
  {
   "cell_type": "markdown",
   "metadata": {},
   "source": [
    "### Changing the Options\n",
    "\n",
    "We can give our `amplitude_fine` experiment options. First, inspect what they currently are:"
   ]
  },
  {
   "cell_type": "code",
   "execution_count": null,
   "metadata": {},
   "outputs": [],
   "source": [
    "my_new_opts = amplitude_fine.experiment_workflow.options()\n",
    "my_new_opts"
   ]
  },
  {
   "cell_type": "markdown",
   "metadata": {},
   "source": [
    "Then provide new options. This time, you'll enable the calibration traces and change the counts."
   ]
  },
  {
   "cell_type": "code",
   "execution_count": null,
   "metadata": {},
   "outputs": [],
   "source": [
    "my_new_opts.count(2048)\n",
    "my_new_opts.use_cal_traces(True)\n",
    "my_new_opts"
   ]
  },
  {
   "cell_type": "markdown",
   "metadata": {},
   "source": [
    "#### Run the workflow with updated options\n",
    "\n",
    "Now, run the workflow with new options and inspect the simulated output. You'll notice that the calibration traces are no longer there."
   ]
  },
  {
   "cell_type": "code",
   "execution_count": null,
   "metadata": {},
   "outputs": [],
   "source": [
    "my_new_workflow = amplitude_fine.experiment_workflow_x180(\n",
    "    session=session,\n",
    "    qpu=my_platform.qpu,\n",
    "    qubits=[qubits[0], qubits[1]],\n",
    "    repetitions=[[1,2,3,4,5], [1,2,3,4,5]],\n",
    "    options=my_new_opts,\n",
    ")\n",
    "\n",
    "my_new_results = my_new_workflow.run()\n",
    "new_compiled_exp = my_new_results.tasks[\"compile_experiment\"].output\n",
    "plot_simulation(new_compiled_exp, length=50e-6)"
   ]
  },
  {
   "cell_type": "markdown",
   "metadata": {},
   "source": [
    "### Temporary settings\n",
    "\n",
    "The qubit parameters are used to control the settings of pulses and instruments during the experiment. We can run the amplitude-Rabi experiment with different settings by passing it a copy of the qubits with modified parameters:"
   ]
  },
  {
   "cell_type": "code",
   "execution_count": null,
   "metadata": {
    "scrolled": true
   },
   "outputs": [],
   "source": [
    "# Make a copy of the qubits\n",
    "temp_qubits = my_platform.qpu.copy_qubits()\n",
    "# Change the length of the drive pulses\n",
    "temp_qubits[0].parameters.ge_drive_length = 1000e-9\n",
    "temp_qubits[1].parameters.ge_drive_length = 1000e-9\n",
    "\n",
    "my_new_workflow = amplitude_fine.experiment_workflow_x180(\n",
    "    session=session,\n",
    "    qpu=my_platform.qpu,\n",
    "    qubits=[temp_qubits[0], temp_qubits[1]],  # pass temporary qubits\n",
    "    repetitions=[[1,2,3,4,5], [1,2,3,4,5]],\n",
    "    options=my_new_opts,\n",
    ")\n",
    "\n",
    "my_new_results = my_new_workflow.run()\n",
    "new_compiled_exp = my_new_results.tasks[\"compile_experiment\"].output\n",
    "plot_simulation(new_compiled_exp, length=10e-6)"
   ]
  },
  {
   "cell_type": "markdown",
   "metadata": {},
   "source": [
    "### Running the Amplitude Fine x90 Workflow\n",
    "\n",
    "We can use the same concept to optimize other quantum operations, e.g. the amplitude of the `x90` quantum operation."
   ]
  },
  {
   "cell_type": "code",
   "execution_count": null,
   "metadata": {},
   "outputs": [],
   "source": [
    "# our qubits live here in the demo setup:\n",
    "qubits = my_platform.qpu.qubits\n",
    "\n",
    "my_workflow = amplitude_fine.experiment_workflow_x90(\n",
    "    session=session,\n",
    "    qpu=my_platform.qpu,\n",
    "    qubits=[qubits[0], qubits[1]],\n",
    "    repetitions=[[1,2,3,4,5], [1,2,3,4,5]],\n",
    ")\n",
    "\n",
    "my_results = my_workflow.run()"
   ]
  },
  {
   "cell_type": "markdown",
   "metadata": {},
   "source": [
    "Note that `reps` is now in steps of two: As mentioned in the introduction, the sensitivity to over/under rotations is the highest for a final population at the equator of the Bloch sphere. "
   ]
  },
  {
   "cell_type": "markdown",
   "metadata": {},
   "source": [
    "### Running the general Amplitude Fine Workflow\n",
    "\n",
    "Besides standard operations, we can use the same concept to optimize quantum operations in general. Define your own quantum operation and measure deviations from the ideal `target_angle` using the `amplitude_fine` experiment. "
   ]
  },
  {
   "cell_type": "code",
   "execution_count": null,
   "metadata": {},
   "outputs": [],
   "source": [
    "# our qubits live here in the demo setup:\n",
    "qubits = my_platform.qpu.qubits\n",
    "my_qop=\"y90\"\n",
    "\n",
    "my_workflow = amplitude_fine.experiment_workflow(\n",
    "    session=session,\n",
    "    qpu=my_platform.qpu,\n",
    "    qubits=[qubits[0], qubits[1]],\n",
    "    amplification_qop=my_qop,\n",
    "    target_angle=np.pi/2,\n",
    "    phase_offset=-np.pi/2,\n",
    "    repetitions=[[1,2,3,4], [1,2,3,4]],\n",
    ")\n",
    "\n",
    "my_results = my_workflow.run()"
   ]
  },
  {
   "cell_type": "markdown",
   "metadata": {},
   "source": [
    "Great! You've now run your amplitude fine experiment. Check out these other experiments to keep characterizing your qubits:"
   ]
  },
  {
   "cell_type": "code",
   "execution_count": null,
   "metadata": {},
   "outputs": [],
   "source": [
    "# TODO: Add experiment links\n",
    "# TODO: Add Analysis"
   ]
  },
  {
   "cell_type": "code",
   "execution_count": null,
   "metadata": {},
   "outputs": [],
   "source": []
  }
 ],
 "metadata": {
  "kernelspec": {
   "display_name": "Python 3 (ipykernel)",
   "language": "python",
   "name": "python3"
  },
  "language_info": {
   "codemirror_mode": {
    "name": "ipython",
    "version": 3
   },
   "file_extension": ".py",
   "mimetype": "text/x-python",
   "name": "python",
   "nbconvert_exporter": "python",
   "pygments_lexer": "ipython3",
   "version": "3.12.4"
  }
 },
 "nbformat": 4,
 "nbformat_minor": 4
}
