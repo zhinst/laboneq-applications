{
 "cells": [
  {
   "cell_type": "markdown",
   "metadata": {},
   "source": [
    "# DRAG Quadrature Scaling Factor Calibration"
   ]
  },
  {
   "cell_type": "markdown",
   "metadata": {},
   "source": [
    "### Prerequisites\n",
    "This guide assumes you have a configured `DeviceSetup` as well as `Qubit` objects with assigned parameters. Please see [our tutorials](https://docs.zhinst.com/labone_q_user_manual/applications_library/tutorials/index.html) if you need to create your setup and qubits for the first time. \n",
    "\n",
    "You can run this notebook on real hardware in the lab. However, if you don't have the hardware at your disposal, you can also run the notebook \"as is\" using an emulated session (see below). \n",
    "\n",
    "If you are just getting started with the LabOne Q Applications Library, please don't hesitate to reach out to us at info@zhinst.com."
   ]
  },
  {
   "cell_type": "markdown",
   "metadata": {},
   "source": [
    "### Background\n",
    "In this experiment, we determine the quadrature scaling factor, $\\beta$, of a Derivative Removal by Adiabatic Gate (DRAG) pulse, which is optimal for cancelling dynamics phase errors that occur during the application of a qubit drive pulse. The DRAG drive pulse has the following form:\n",
    "\n",
    "$$v(t)=i(t) + q(t),$$\n",
    "\n",
    "where the quadrature component $q(t)$ is given by the derivative of the in-phase component $i(t)$, scaled by a factor $\\beta$:\n",
    "\n",
    "$$q(t) = \\beta \\frac{d(i(t))}{d(t)}$$\n",
    "\n",
    "In order to determine the optimal $\\beta$ for compensating phase errors, we apply a pulse sequence that is sensitive to phase errors and sweep the value of $\\beta$ for all the drive pulses in the sequence. As shown in the image below, we use pairs of drive pulses followed by a measurement.\n",
    "\n",
    "![](../../../images/drag_sequence.svg \"Quantum circuit diagram from the DRAG pulse calibration. RO refers to the measurement.\")\n",
    "\n",
    "In the absence of phase errors, all three of these sequences of two pulses should move the state vector of a qubit prepared in the ground state onto the equator, along the $\\pm \\hat{y}$ axis of the Bloch sphere. However, phase errors introduce unwanted rotations around the $\\hat{z}$ axis during the application of the pulse, resulting in the qubit state vector ending up away from the equatorial plane for the pulse pairs `x90-y180` and `x90-ym180` as shown below:\n",
    "\n",
    "![](../../../images/drag_bloch.svg \"Cartoon of the qubit state vectors on the Bloch sphere after the first x90 (black) gate and after the subsequent second gate (colors) in the presence of phase errors.\")\n",
    "\n",
    "The goal of the calibration experiment is to find the quadrature scaling factor $\\beta$ that results in all three pairs of pulses correctly moving the qubit state vector onto the equator as shown in the following plot:\n",
    "\n",
    "![](../../../images/drag_plot.svg \"Excited-state population after applying the pulse sequences as a function of the scaling factor with a second-order DRAG. The colored markers and lines are correspond to the respective pulse sequences. The vertical line indicates the optimal value for cancelling phase errors.\")\n",
    "\n",
    "\n",
    "In this guide, we refer to the $\\beta$ parameter as a \"q-scaling\". If multiple qubits are passed to the experiment, the above pulses are applied in parallel on all the qubits."
   ]
  },
  {
   "cell_type": "markdown",
   "metadata": {},
   "source": [
    "### Imports\n",
    "\n",
    "You'll start by importing `laboneq.simple`."
   ]
  },
  {
   "cell_type": "code",
   "execution_count": null,
   "metadata": {},
   "outputs": [],
   "source": [
    "from laboneq.simple import *"
   ]
  },
  {
   "cell_type": "markdown",
   "metadata": {},
   "source": [
    "### Define your experimental setup\n",
    "\n",
    "Let's define our experimental setup. We will need:\n",
    "\n",
    "* a [DeviceSetup](https://docs.zhinst.com/labone_q_user_manual/core/functionality_and_concepts/00_device_setup/concepts/00_set_up_equipment.html#devicesetup)\n",
    "\n",
    "* `n` [TunableTransmonQubits](https://docs.zhinst.com/labone_q_user_manual/applications_library/reference/qpu_types/tunable_transmon.html#laboneq_applications.qpu_types.tunable_transmon.TunableTransmonQubit)\n",
    "\n",
    "* a set of [TunableTransmonOperations](https://docs.zhinst.com/labone_q_user_manual/applications_library/reference/qpu_types/tunable_transmon.html#laboneq_applications.qpu_types.tunable_transmon.TunableTransmonOperations)\n",
    "\n",
    "* a [QPU](https://docs.zhinst.com/labone_q_user_manual/core/reference/dsl/quantum.html#laboneq.dsl.quantum.qpu.QPU)"
   ]
  },
  {
   "cell_type": "markdown",
   "metadata": {},
   "source": [
    "Here, we will be brief. We will mainly provide the code to obtain these objects. To learn more, check out these other tutorials:\n",
    "\n",
    "* Details about [defining your experimental setup](https://docs.zhinst.com/labone_q_user_manual/applications_library/tutorials/sources/getting_started.html)\n",
    "\n",
    "* [Qubit parameters and how quantum operations use them](https://docs.zhinst.com/labone_q_user_manual/applications_library/tutorials/sources/quantum_operations.html)\n",
    "\n",
    "* [Quantum operations in general](https://docs.zhinst.com/labone_q_user_manual/core/functionality_and_concepts/03_sections_pulses_and_quantum_operations/concepts/08_quantum_operations.html)\n",
    "\n",
    "* [Logbooks and data saving with Workflows](https://docs.zhinst.com/labone_q_user_manual/applications_library/tutorials/sources/logbooks.html)"
   ]
  },
  {
   "cell_type": "markdown",
   "metadata": {},
   "source": [
    "We will use 3 `TunableTransmonQubits` in this guide. Change this number to the one describing your setup."
   ]
  },
  {
   "cell_type": "code",
   "execution_count": null,
   "metadata": {},
   "outputs": [],
   "source": [
    "number_of_qubits = 3"
   ]
  },
  {
   "cell_type": "markdown",
   "metadata": {},
   "source": [
    "#### DeviceSetup\n",
    "\n",
    "This guide requires a setup that can drive and readout tunable transmon qubits. Your setup could contain an SHFQC+ instrument, or an SHFSG and an SHFQA instruments. Here, we will use an SHFQC+ with 6 signal generation channels and a PQSC.\n",
    "\n",
    "If you have used LabOne Q before and already have a `DeviceSetup` for your setup, you can reuse that.\n",
    "\n",
    "If you do not have a `DeviceSetup`, you can create one using the code below. Just change the device numbers to the ones in your rack and adjust any other input parameters as needed."
   ]
  },
  {
   "cell_type": "code",
   "execution_count": null,
   "metadata": {},
   "outputs": [],
   "source": [
    "# Setting get_zsync=True below, automatically detects the zsync ports of the PQCS that\n",
    "# are used by the other instruments in this descriptor.\n",
    "# Here, we are not connected to instruments, so we set this flag to False.\n",
    "from laboneq.contrib.example_helpers.generate_descriptor import generate_descriptor\n",
    "\n",
    "descriptor = generate_descriptor(\n",
    "    pqsc=[\"DEV10001\"],\n",
    "    shfqc_6=[\"DEV12001\"],\n",
    "    number_data_qubits=number_of_qubits,\n",
    "    multiplex=True,\n",
    "    number_multiplex=number_of_qubits,\n",
    "    include_cr_lines=False,\n",
    "    get_zsync=False,  # set to True when at a real setup\n",
    "    ip_address=\"localhost\",\n",
    ")\n",
    "setup = DeviceSetup.from_descriptor(descriptor, \"localhost\")"
   ]
  },
  {
   "cell_type": "markdown",
   "metadata": {},
   "source": [
    "#### Qubits\n",
    "\n",
    "We will generate 3 `TunableTransmonQubits` from the logical signal groups in our `DeviceSetup`. The names of the logical signal groups, `q0`, `q1`, `q2`, will be the UIDs of the qubits. Moreover, the qubits will have the same logical signal lines as the ones of the logical signal groups in the `DeviceSetup`."
   ]
  },
  {
   "cell_type": "code",
   "execution_count": null,
   "metadata": {},
   "outputs": [],
   "source": [
    "from laboneq_applications.qpu_types.tunable_transmon import (\n",
    "    TunableTransmonQubit,\n",
    ")\n",
    "\n",
    "qubits = TunableTransmonQubit.from_device_setup(setup)"
   ]
  },
  {
   "cell_type": "code",
   "execution_count": null,
   "metadata": {},
   "outputs": [],
   "source": [
    "for q in qubits:\n",
    "    print(\"-------------\")\n",
    "    print(\"Qubit UID:\", q.uid)\n",
    "    print(\"Qubit logical signals:\")\n",
    "    for sig, lsg in q.signals.items():\n",
    "        print(f\"  {sig:<10} ('{lsg:>10}')\")"
   ]
  },
  {
   "cell_type": "markdown",
   "metadata": {},
   "source": [
    "Configure the qubit parameters to reflect the properties of the qubits on your QPU using the following code:"
   ]
  },
  {
   "cell_type": "code",
   "execution_count": null,
   "metadata": {},
   "outputs": [],
   "source": [
    "for q in qubits:\n",
    "    q.parameters.ge_drive_pulse[\"sigma\"] = 0.25\n",
    "    q.parameters.readout_amplitude = 0.5\n",
    "    q.parameters.reset_delay_length = 1e-6\n",
    "    q.parameters.readout_range_out = -25\n",
    "    q.parameters.readout_lo_frequency = 7.4e9\n",
    "\n",
    "qubits[0].parameters.drive_lo_frequency = 6.4e9\n",
    "qubits[0].parameters.resonance_frequency_ge = 6.3e9\n",
    "qubits[0].parameters.resonance_frequency_ef = 6.0e9\n",
    "qubits[0].parameters.readout_resonator_frequency = 7.0e9\n",
    "\n",
    "qubits[1].parameters.drive_lo_frequency = 6.4e9\n",
    "qubits[1].parameters.resonance_frequency_ge = 6.5e9\n",
    "qubits[1].parameters.resonance_frequency_ef = 6.3e9\n",
    "qubits[1].parameters.readout_resonator_frequency = 7.3e9\n",
    "\n",
    "qubits[2].parameters.drive_lo_frequency = 6.0e9\n",
    "qubits[2].parameters.resonance_frequency_ge = 5.8e9\n",
    "qubits[2].parameters.resonance_frequency_ef = 5.6e9\n",
    "qubits[2].parameters.readout_resonator_frequency = 7.2e9"
   ]
  },
  {
   "cell_type": "markdown",
   "metadata": {},
   "source": [
    "#### Quantum Operations\n",
    "\n",
    "Create the set of `TunableTransmonOperations`:"
   ]
  },
  {
   "cell_type": "code",
   "execution_count": null,
   "metadata": {},
   "outputs": [],
   "source": [
    "from laboneq_applications.qpu_types.tunable_transmon import TunableTransmonOperations\n",
    "\n",
    "qops = TunableTransmonOperations()"
   ]
  },
  {
   "cell_type": "markdown",
   "metadata": {},
   "source": [
    "#### QPU\n",
    "\n",
    "Create the `QPU` object from the qubits and the quantum operations"
   ]
  },
  {
   "cell_type": "code",
   "execution_count": null,
   "metadata": {},
   "outputs": [],
   "source": [
    "from laboneq.dsl.quantum import QPU\n",
    "\n",
    "qpu = QPU(qubits=qubits, quantum_operations=qops)"
   ]
  },
  {
   "cell_type": "markdown",
   "metadata": {},
   "source": [
    "#### Alternatively, load from a file\n",
    "\n",
    "If you you already have a `DeviceSetup` and a `QPU` stored in `.json` files, you can simply load them back using the code below:\n",
    "\n",
    "```python\n",
    "from laboneq import serializers\n",
    "\n",
    "setup = serializers.load(full_path_to_device_setup_file)\n",
    "qpu = serializers.load(full_path_to_qpu_file)\n",
    "\n",
    "qubits = qpu.qubits\n",
    "qops = qpu.quantum_operations\n",
    "```"
   ]
  },
  {
   "cell_type": "markdown",
   "metadata": {},
   "source": [
    "### Connect to Session"
   ]
  },
  {
   "cell_type": "code",
   "execution_count": null,
   "metadata": {},
   "outputs": [],
   "source": [
    "session = Session(setup)\n",
    "session.connect(do_emulation=True)  # do_emulation=False when at a real setup"
   ]
  },
  {
   "cell_type": "markdown",
   "metadata": {},
   "source": [
    "### Create a `FolderStore` for Saving Data\n",
    "\n",
    "The experiment `Workflows` can automatically save the inputs and outputs of all their tasks to the folder path we specify when instantiating the `FolderStore`. Here, we choose the current working directory."
   ]
  },
  {
   "cell_type": "code",
   "execution_count": null,
   "metadata": {},
   "outputs": [],
   "source": [
    "# import FolderStore from the `workflow` namespace of LabOne Q, which was imported\n",
    "# from `laboneq.simple`\n",
    "from pathlib import Path\n",
    "\n",
    "folder_store = workflow.logbook.FolderStore(Path.cwd())"
   ]
  },
  {
   "cell_type": "markdown",
   "metadata": {},
   "source": [
    "We disable saving in this guide. To enable it, simply run `folder_store.activate()`."
   ]
  },
  {
   "cell_type": "code",
   "execution_count": null,
   "metadata": {},
   "outputs": [],
   "source": [
    "folder_store.deactivate()"
   ]
  },
  {
   "cell_type": "markdown",
   "metadata": {},
   "source": [
    "### Optional: Configure the LoggingStore\n",
    "\n",
    "You can also activate/deactivate the `LoggingStore`, which is used for displaying the `Workflow` logging information in the notebook; see again the [tutorial on Recording Experiment Workflow Results](https://docs.zhinst.com/labone_q_user_manual/applications_library/tutorials/sources/logbooks.html) for details.\n",
    "\n",
    "Displaying the `Workflow` logging information is activated by default, but here we deactivate it to shorten the outputs, which are not very meaningful in emulation mode.\n",
    "\n",
    "**We recommend that you do not deactivate the Workflow logging in practice.**"
   ]
  },
  {
   "cell_type": "code",
   "execution_count": null,
   "metadata": {},
   "outputs": [],
   "source": [
    "from laboneq.workflow.logbook import LoggingStore\n",
    "\n",
    "logging_store = LoggingStore()\n",
    "logging_store.deactivate()"
   ]
  },
  {
   "cell_type": "markdown",
   "metadata": {},
   "source": [
    "### Running the Experiment Workflow"
   ]
  },
  {
   "cell_type": "markdown",
   "metadata": {},
   "source": [
    "You'll now instantiate the experiment workflow and run it. For more details on what experiment workflows are and what tasks they execute, see the [Experiment Workflows tutorial](https://docs.zhinst.com/labone_q_user_manual/applications_library/tutorials/sources/experiment_workflows.html).\n",
    "\n",
    "You'll start by importing `numpy`, the DRAG-calibration experiment workflow from `laboneq_applications`, as well as `plot_simulation` for inspecting the experiment sequence."
   ]
  },
  {
   "cell_type": "code",
   "execution_count": null,
   "metadata": {},
   "outputs": [],
   "source": [
    "import numpy as np\n",
    "from laboneq.contrib.example_helpers.plotting.plot_helpers import plot_simulation\n",
    "\n",
    "from laboneq_applications.experiments import drag_q_scaling"
   ]
  },
  {
   "cell_type": "markdown",
   "metadata": {},
   "source": [
    "Let's first create the options class for the DRAG-calibration experiment and inspect it using the `show_fields` function from the `workflow` namespace of LabOne Q, which was imported from `laboneq.simple`:"
   ]
  },
  {
   "cell_type": "code",
   "execution_count": null,
   "metadata": {
    "scrolled": true
   },
   "outputs": [],
   "source": [
    "options = drag_q_scaling.experiment_workflow.options()\n",
    "workflow.show_fields(options)"
   ]
  },
  {
   "cell_type": "markdown",
   "metadata": {},
   "source": [
    "Notice that, unless we change it:\n",
    "\n",
    "- the experiment is run in `AcquisitionType.INTEGRATION` and `AveragingMode.CYCLIC`, using 1024 averages (`count`)\n",
    "- the experiment is run on the qubit $|g\\rangle \\leftrightarrow |e\\rangle$ (`transition`)\n",
    "- calibration traces are added (`use_cal_traces=True`) for the states $|g\\rangle$ and $|e\\rangle$ (`cal_states`)\n",
    "- the analysis workflow will run automatically (`do_analysis=True`)\n",
    "- the figures produced by the analysis are automatically closed (`close_figures=False`)\n",
    "- the qubit parameters will not be updated (`update=False`)\n",
    "\n",
    "Here, let's disable closing the figures produced by the analysis so we see them in the cell output. Note however that the fit attempted by the analysis routine in emulation mode will not be representative, because we do not acquire data from a real experiment."
   ]
  },
  {
   "cell_type": "code",
   "execution_count": null,
   "metadata": {},
   "outputs": [],
   "source": [
    "options.close_figures(False)"
   ]
  },
  {
   "cell_type": "markdown",
   "metadata": {},
   "source": [
    "Now we run the experiment workflow on the first two qubits in parallel.\n",
    "\n",
    "Note that the fit fails in emulation mode and the quadrature scaling factor cannot be extracted."
   ]
  },
  {
   "cell_type": "code",
   "execution_count": null,
   "metadata": {
    "scrolled": true
   },
   "outputs": [],
   "source": [
    "# our qubits live here in the demo setup:\n",
    "qubits = qpu.qubits\n",
    "\n",
    "exp_workflow = drag_q_scaling.experiment_workflow(\n",
    "    session=session,\n",
    "    qpu=qpu,\n",
    "    qubits=[qubits[0], qubits[1]],\n",
    "    q_scalings=[np.linspace(-0.02, 0.02, 11), np.linspace(-0.03, 0.03, 11)],\n",
    "    options=options\n",
    ")\n",
    "\n",
    "workflow_results = exp_workflow.run()"
   ]
  },
  {
   "cell_type": "markdown",
   "metadata": {},
   "source": [
    "#### Inspect the Tasks That Were Run"
   ]
  },
  {
   "cell_type": "code",
   "execution_count": null,
   "metadata": {},
   "outputs": [],
   "source": [
    "for t in workflow_results.tasks:\n",
    "    print(t)"
   ]
  },
  {
   "cell_type": "markdown",
   "metadata": {},
   "source": [
    "#### Inspect the Output Simulation\n",
    "\n",
    "You can also inspect the compiled experiment and plot the simulated output:"
   ]
  },
  {
   "cell_type": "code",
   "execution_count": null,
   "metadata": {
    "scrolled": true
   },
   "outputs": [],
   "source": [
    "compiled_experiment = workflow_results.tasks[\"compile_experiment\"].output\n",
    "plot_simulation(compiled_experiment, length=50e-6)"
   ]
  },
  {
   "cell_type": "markdown",
   "metadata": {},
   "source": [
    "#### Inspecting the Source Code of the Pulse-Sequence Creation Task\n",
    "\n",
    "You can inspect the source code of the `create_experiment` task defined in `drag_q_scaling` to see how the experiment pulse sequence is created using quantum operations. To learn more about the latter, see the [Quantum Operations tutorial](https://docs.zhinst.com/labone_q_user_manual/applications_library/tutorials/sources/quantum_operations.html)."
   ]
  },
  {
   "cell_type": "code",
   "execution_count": null,
   "metadata": {
    "scrolled": true
   },
   "outputs": [],
   "source": [
    "drag_q_scaling.create_experiment.src"
   ]
  },
  {
   "cell_type": "markdown",
   "metadata": {},
   "source": [
    "To learn more about how to work with experiment `Workflows`, check out the [Experiment Workflows tutorial](https://docs.zhinst.com/labone_q_user_manual/applications_library/tutorials/sources/experiment_workflows.html).\n",
    "\n",
    "Here, let's briefly inspect the analysis-workflow results."
   ]
  },
  {
   "cell_type": "markdown",
   "metadata": {},
   "source": [
    "#### Analysis Results\n",
    "\n",
    "Let's check what tasks were run as part of the analysis workflow:"
   ]
  },
  {
   "cell_type": "code",
   "execution_count": null,
   "metadata": {},
   "outputs": [],
   "source": [
    "analysis_workflow_results = workflow_results.tasks[\"analysis_workflow\"]\n",
    "for t in analysis_workflow_results.tasks:\n",
    "    print(t)"
   ]
  },
  {
   "cell_type": "markdown",
   "metadata": {},
   "source": [
    "We can access the qubit parameters extracted by the analysis from the output of the analysis-workflow. However, because the fit fails, the quadrature scaling factor cannot be extracted in emulation mode, and the new qubit parameters are empty."
   ]
  },
  {
   "cell_type": "code",
   "execution_count": null,
   "metadata": {},
   "outputs": [],
   "source": [
    "from pprint import pprint\n",
    "\n",
    "pprint(analysis_workflow_results.output)  # noqa: T203"
   ]
  },
  {
   "cell_type": "markdown",
   "metadata": {},
   "source": [
    "Check out the [Experiment Workflows tutorial](https://docs.zhinst.com/labone_q_user_manual/applications_library/tutorials/sources/experiment_workflows.html) to see how you can manually update the qubit parameters to these new values, or reset them to the old ones. "
   ]
  },
  {
   "cell_type": "markdown",
   "metadata": {},
   "source": [
    "Great! You've now run the DRAG quadrature-scaling calibration experiment. Check out other experiments in this manual to keep characterizing your qubits."
   ]
  }
 ],
 "metadata": {
  "kernelspec": {
   "display_name": "Python 3 (ipykernel)",
   "language": "python",
   "name": "python3"
  },
  "language_info": {
   "codemirror_mode": {
    "name": "ipython",
    "version": 3
   },
   "file_extension": ".py",
   "mimetype": "text/x-python",
   "name": "python",
   "nbconvert_exporter": "python",
   "pygments_lexer": "ipython3",
   "version": "3.12.7"
  }
 },
 "nbformat": 4,
 "nbformat_minor": 4
}
