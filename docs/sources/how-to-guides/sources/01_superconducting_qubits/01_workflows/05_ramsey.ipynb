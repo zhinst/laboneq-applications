{
 "cells": [
  {
   "cell_type": "markdown",
   "id": "3cd2ddc8",
   "metadata": {},
   "source": [
    "## How To Perform a Ramsey inteferometry Experiment"
   ]
  },
  {
   "cell_type": "markdown",
   "id": "077f977a",
   "metadata": {},
   "source": [
    "### Prerequisites\n",
    "This guide assumes you have a configured `DeviceSetup` as well as `Qubit` objects with assigned parameters. Please see [Getting Started tutorial](../../../../tutorials/sources/getting_started.ipynb) if you need to create your setup and qubits for the first time. \n",
    "\n",
    "You can run this notebook on real hardware in the lab. However, if you don't have the hardware at your disposal, you can also run the notebook \"as is\" using an emulated session (see below). \n",
    "\n",
    "If you are just getting started with the LabOne Q Applications Library, please don't hesitate to reach out to us at info@zhinst.com."
   ]
  },
  {
   "cell_type": "markdown",
   "id": "905a0241",
   "metadata": {},
   "source": [
    "### Background\n",
    "In this how-to guide, you'll perform an experiment to find the qubit frequency and $T_2^*$ time of transmons using the `ramsey` experiment included in the LabOne Q Applications Library. \n",
    "\n",
    "In a Ramsey inteferometry experiment, you'll vary the wait time, $t_{wait}$, between the two $X_{90}$ operations, and give a parameter `detuning`, $\\Delta f$ in unit of Hz. A phase $\\phi_2(t_{wait})$ is calculated from $t_{wait}$ by using the parameter `detuning`:\n",
    "\n",
    "$$\\phi_2(t_{wait}) = 2\\pi \\Delta f \\cdot t_{wait} $$\n",
    "\n",
    "and added to the second $X_{90}$ operation. This way, the second $X_{90}$ operation is equivalent to a rotation around the $z$-axis by $\\phi_2(t_{wait})$, followed by a rotation around the $x$-axis by $\\pi/2$."
   ]
  },
  {
   "cell_type": "markdown",
   "id": "647591ec",
   "metadata": {},
   "source": [
    "### Imports\n",
    "\n",
    "You'll start by importing the Ramsey experiment from `laboneq_applications`, as well as `laboneq.simple` and a demo quantum platform containing a qpu and device setup to run in emulation mode. See the [Getting Started tutorial](../../../../tutorials/sources/getting_started.ipynb) for more details about the quantum platform and how to create your experimental setup."
   ]
  },
  {
   "cell_type": "code",
   "execution_count": null,
   "id": "9bcc9013",
   "metadata": {},
   "outputs": [],
   "source": [
    "import numpy as np\n",
    "from laboneq.contrib.example_helpers.plotting.plot_helpers import plot_simulation\n",
    "from laboneq.simple import *\n",
    "\n",
    "from laboneq_applications.experiments import ramsey\n",
    "from laboneq_applications.qpu_types.tunable_transmon.demo_qpus import demo_platform"
   ]
  },
  {
   "cell_type": "markdown",
   "id": "06af4979",
   "metadata": {},
   "source": [
    "### QPU and Device Setup\n",
    "\n",
    "You'll generate six qubits with pre-defined parameters, as well as a `Device_Setup` consisting of a SHFQC+, HDAWG, and PQSC. If you already have your own `DeviceSetup` and qubits configured, you'll instead initialize the session using your setup as shown in the [Getting Started tutorial](../../../../tutorials/sources/getting_started.ipynb)."
   ]
  },
  {
   "cell_type": "code",
   "execution_count": null,
   "id": "d4b38157",
   "metadata": {},
   "outputs": [],
   "source": [
    "my_platform = demo_platform(6)"
   ]
  },
  {
   "cell_type": "markdown",
   "id": "c2726dbc",
   "metadata": {},
   "source": [
    "Then, you'll connect to the `Session`. Here we connect to an emulated one:"
   ]
  },
  {
   "cell_type": "code",
   "execution_count": null,
   "id": "4e652b5b",
   "metadata": {},
   "outputs": [],
   "source": [
    "session = Session(my_platform.setup)\n",
    "session.connect(do_emulation=True)"
   ]
  },
  {
   "cell_type": "markdown",
   "id": "1e802043-de68-4783-a141-013348e5eb57",
   "metadata": {},
   "source": [
    "### Create a `FolderStore` for Saving Data\n",
    "\n",
    "The experiment `Workflows` can automatically save the inputs and outputs of all their tasks to the folder path we specify when instantiating the `FolderStore`. Here, we choose the current working directory."
   ]
  },
  {
   "cell_type": "code",
   "execution_count": null,
   "id": "c558e84b-aa84-4f4b-bf2c-b2f5f8aec37c",
   "metadata": {},
   "outputs": [],
   "source": [
    "# import FolderStore from the `workflow` namespace of LabOne Q, which was imported\n",
    "# from `laboneq.simple`\n",
    "from pathlib import Path\n",
    "\n",
    "folder_store = workflow.logbook.FolderStore(Path.cwd())"
   ]
  },
  {
   "cell_type": "markdown",
   "id": "c8aed89d-1c8d-4951-ac9c-2e4363ade71d",
   "metadata": {},
   "source": [
    "We disable saving in this guide. To enable it, simply run `folder_store.activate()`."
   ]
  },
  {
   "cell_type": "code",
   "execution_count": null,
   "id": "74049aa8-51e7-4197-ae75-8509347fd4ec",
   "metadata": {},
   "outputs": [],
   "source": [
    "folder_store.deactivate()"
   ]
  },
  {
   "cell_type": "markdown",
   "id": "6625d2ec",
   "metadata": {},
   "source": [
    "### Running the Experiment Workflow"
   ]
  },
  {
   "cell_type": "markdown",
   "id": "67dde69f-d080-464d-8001-095deebf0ea4",
   "metadata": {},
   "source": [
    "You'll now make the experiment workflow and run. For more details on what experiment workflows are and what tasks they execute, see the [Experiment Workflows tutorial](../../../../tutorials/sources/experiment_workflows.ipynb)."
   ]
  },
  {
   "cell_type": "markdown",
   "id": "2de10fa4-f694-4b0c-a413-878aa0219f36",
   "metadata": {},
   "source": [
    "Let's first create the options class for the Ramsey experiment and inspect it using the tree view of the option fields per task:"
   ]
  },
  {
   "cell_type": "code",
   "execution_count": null,
   "id": "c7d94a16-5670-4f71-98a0-d85f68c58870",
   "metadata": {
    "scrolled": true
   },
   "outputs": [],
   "source": [
    "options = ramsey.experiment_workflow.options()\n",
    "options"
   ]
  },
  {
   "cell_type": "markdown",
   "id": "c2a6dbcd-e296-4f46-bdb7-4ee60bf95977",
   "metadata": {},
   "source": [
    "Or, alternatively, using the `show_fields` function from the `workflow` namespace of LabOne Q, which was imported from `laboneq.simple`:"
   ]
  },
  {
   "cell_type": "code",
   "execution_count": null,
   "id": "18fea8e6-a474-4165-9715-ddcf38f69ecc",
   "metadata": {},
   "outputs": [],
   "source": [
    "workflow.show_fields(options)"
   ]
  },
  {
   "cell_type": "markdown",
   "id": "939137b7-dcc0-4584-95f6-c59b1b5e9967",
   "metadata": {},
   "source": [
    "Notice that, unless we change it:\n",
    "\n",
    "- the experiment is run in `AcquisitionType.INTEGRATION` and `AveragingMode.CYCLIC`, using 1024 averages (`count`)\n",
    "- the experiment is run on the qubit $|g\\rangle \\leftrightarrow |e\\rangle$ (`transition`)\n",
    "- calibration traces are added (`use_cal_traces=True`) for the states $|g\\rangle$ and $|e\\rangle$ (`cal_states`)\n",
    "- the analysis workflow will run automatically (`do_analysis=True`)\n",
    "- the figures produced by the analysis are automatically closed (`close_figures=False`)\n",
    "- the qubit parameters will not be updated (`update=False`)\n",
    "\n",
    "Here, let's disable closing the figures:"
   ]
  },
  {
   "cell_type": "code",
   "execution_count": null,
   "id": "be8506d6-e08a-4337-96bc-86ca918c17ff",
   "metadata": {},
   "outputs": [],
   "source": [
    "options.close_figures(False)"
   ]
  },
  {
   "cell_type": "markdown",
   "id": "4ebf30b8-5e48-4e46-b19e-a3a30b2e62b7",
   "metadata": {},
   "source": [
    "Now we run the experiment workflow on the first two qubits in parallel."
   ]
  },
  {
   "cell_type": "code",
   "execution_count": null,
   "id": "07db542c",
   "metadata": {
    "scrolled": true
   },
   "outputs": [],
   "source": [
    "# our qubits live here in the demo setup:\n",
    "qubits = my_platform.qpu.qubits\n",
    "\n",
    "exp_workflow = ramsey.experiment_workflow(\n",
    "    session=session,\n",
    "    qpu=my_platform.qpu,\n",
    "    qubits=[qubits[0], qubits[1]],\n",
    "    delays=[np.linspace(0, 1e-6, 10), np.linspace(0, 1e-6, 10)],\n",
    "    detunings=[1e6, 1e6],\n",
    "    options=options\n",
    ")\n",
    "\n",
    "workflow_results = exp_workflow.run()"
   ]
  },
  {
   "cell_type": "markdown",
   "id": "d13b6d33-e159-4958-9a3c-b4e03a8e4968",
   "metadata": {},
   "source": [
    "#### Inspect the Tasks That Were Run"
   ]
  },
  {
   "cell_type": "code",
   "execution_count": null,
   "id": "913cbab4-2e08-4232-8002-f811638fed85",
   "metadata": {},
   "outputs": [],
   "source": [
    "for t in workflow_results.tasks:\n",
    "    print(t)"
   ]
  },
  {
   "cell_type": "markdown",
   "id": "3acdbe8f",
   "metadata": {},
   "source": [
    "#### Inspect the Output Simulation\n",
    "\n",
    "You can also inspect the compiled experiment and plot the simulated output:"
   ]
  },
  {
   "cell_type": "code",
   "execution_count": null,
   "id": "576cd72a",
   "metadata": {
    "scrolled": true
   },
   "outputs": [],
   "source": [
    "compiled_experiment = workflow_results.tasks[\"compile_experiment\"].output\n",
    "plot_simulation(compiled_experiment, length=50e-6)"
   ]
  },
  {
   "cell_type": "markdown",
   "id": "4b965e92",
   "metadata": {},
   "source": [
    "#### Inspecting the Source Code of the Pulse-Sequence Creation Task\n",
    "\n",
    "You can inspect the source code of the `create_experiment` task defined in `ramsey` to see how the experiment pulse sequence is created using quantum operations. To learn more about the latter, see the Quantum Operations tutorial (add link)."
   ]
  },
  {
   "cell_type": "code",
   "execution_count": null,
   "id": "37c5cc55",
   "metadata": {},
   "outputs": [],
   "source": [
    "ramsey.create_experiment.src"
   ]
  },
  {
   "cell_type": "markdown",
   "id": "fcf1029f-9b7e-4d58-a61e-7cd56b6288ba",
   "metadata": {},
   "source": [
    "To learn more about how to work with experiment `Workflows`, check out the [Experiment Workflows tutorial](../../../../tutorials/sources/experiment_workflows.ipynb).\n",
    "\n",
    "Here, let's briefly inspect the analysis-workflow results."
   ]
  },
  {
   "cell_type": "markdown",
   "id": "30d1923e-acf4-4372-a65d-e427c60cc8ec",
   "metadata": {},
   "source": [
    "#### Analysis Results\n",
    "\n",
    "Let's check what tasks were run as part of the analysis workflow:"
   ]
  },
  {
   "cell_type": "code",
   "execution_count": null,
   "id": "d19561c1-c23e-4c07-a03e-e0dbf9079c7f",
   "metadata": {},
   "outputs": [],
   "source": [
    "analysis_workflow_results = workflow_results.tasks[\"analysis_workflow\"]\n",
    "for t in analysis_workflow_results.tasks:\n",
    "    print(t)"
   ]
  },
  {
   "cell_type": "markdown",
   "id": "63b8dcde-2db5-4556-8f45-01770d734a96",
   "metadata": {},
   "source": [
    "We can access the qubit parameters extracted by the analysis from the output of the analysis-workflow:"
   ]
  },
  {
   "cell_type": "code",
   "execution_count": null,
   "id": "26fb042a-2e74-4a98-b73b-1cd5f1bb92c9",
   "metadata": {},
   "outputs": [],
   "source": [
    "from pprint import pprint\n",
    "\n",
    "pprint(analysis_workflow_results.output)  # noqa: T203"
   ]
  },
  {
   "cell_type": "markdown",
   "id": "408f7e83-a30b-469d-9e17-c84198a55c10",
   "metadata": {},
   "source": [
    "Check out the [Experiment Workflows tutorial](../../../../tutorials/sources/experiment_workflows.ipynb) to see how you can manually update the qubit parameters to these new values, or reset them to the old ones. "
   ]
  },
  {
   "cell_type": "markdown",
   "id": "c0f9d412",
   "metadata": {},
   "source": [
    "Great! You've now run your Ramsey experiment. Check out other experiments in this manual to keep characterizing your qubits."
   ]
  }
 ],
 "metadata": {
  "jupytext": {
   "cell_metadata_filter": "-all",
   "main_language": "python",
   "notebook_metadata_filter": "-all"
  },
  "kernelspec": {
   "display_name": "Python 3 (ipykernel)",
   "language": "python",
   "name": "python3"
  },
  "language_info": {
   "codemirror_mode": {
    "name": "ipython",
    "version": 3
   },
   "file_extension": ".py",
   "mimetype": "text/x-python",
   "name": "python",
   "nbconvert_exporter": "python",
   "pygments_lexer": "ipython3",
   "version": "3.12.4"
  }
 },
 "nbformat": 4,
 "nbformat_minor": 5
}
