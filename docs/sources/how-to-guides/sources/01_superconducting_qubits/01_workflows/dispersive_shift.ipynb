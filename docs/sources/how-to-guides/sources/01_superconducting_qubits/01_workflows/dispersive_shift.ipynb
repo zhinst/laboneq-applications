{
    "cells": [
        {
            "cell_type": "markdown",
            "metadata": {},
            "source": [
                "## How To Perform a Dispersive Shift Experiment"
            ]
        },
        {
            "cell_type": "markdown",
            "metadata": {},
            "source": [
                "### Prerequisites\n",
                "This guide assumes you have a configured `DeviceSetup` as well as `Qubit` objects with assigned parameters. Please see these guides (add links) if you need to create your setup and qubits for the first time. However, you can also run this notebook \"as is\" using an emulated session. If you are just getting started with the LabOne Q Applications Library, please don't hesitate to reach out to us at info@zhinst.com."
            ]
        },
        {
            "cell_type": "markdown",
            "metadata": {},
            "source": [
                "### Background\n",
                "In this how-to guide, you'll be measuring the dispersive shift of the readout resonator.\n",
                "\n",
                "Measurements on superconducting qubits such as Transmons are often based on dispersive readout. Here, the qubit itself is not directly probed, instead a resonator, which is coupled capacitively to the qubit, is probed with a measure pulse close to its resonance frequency (see figure below). The amplitude and phase of the returning measure pulse (here transmitted) contain information about the qubit state.\n",
                "\n",
                "Dispersive limit is a regime where the qubit frequency ($\\omega_Q$) is far detuned from the resonance frequency of the resonator ($\\omega_R$) such that its detuning ($\\Delta = |\\omega_Q-\\omega_R|$) is large compared to the coupling strength ($g \\ll \\Delta$). In this regime, the cavity frequency experiences a dispersive shift,\n",
                "\n",
                "$$\\pm\\chi = \\pm\\frac{g^2}{\\Delta}$$\n",
                "\n",
                "dependent on the qubit state. This is illustrated in the figure below that shows the transmitted amplitude and phase responses of the readout resonator when qubit is in its ground and excited states. Higher excited stats of the qubits can be similarly measured through dispersive readout.\n",
                "\n",
                "![Transmitted amplitude and phase response of the readout resonator coupled to a qubit in state g, e and f. When the resonator is probed, the transmitted amplitude and phase contain information about the qubit state.](../../../images/dispersive_ro_1_gef.svg \"Transmitted amplitude and phase response of the readout resonator coupled to a qubit in state g, e and f. When the resonator is probed, the transmitted amplitude and phase contain information about the qubit state.\")\n",
                "\n",
                "In the dispersive limit, there is no direct exchange of energy between the two systems. Hence, we minimize back action on the qubit (quantum non-demolition (QND) measurement)."
            ]
        },
        {
            "cell_type": "markdown",
            "metadata": {},
            "source": [
                "### Imports\n",
                "\n",
                "You'll start by importing the qubit spectroscopy experiment from `laboneq_applications`, as well as `laboneq.simple` and a demo QPU and device setup to run in emulation mode."
            ]
        },
        {
            "cell_type": "code",
            "execution_count": 1,
            "metadata": {},
            "outputs": [],
            "source": [
                "import numpy as np\n",
                "from laboneq.contrib.example_helpers.plotting.plot_helpers import plot_simulation\n",
                "from laboneq.simple import *\n",
                "\n",
                "from laboneq_applications.experiments import (\n",
                "    dispersive_shift,\n",
                ")\n",
                "from laboneq_applications.qpu_types.tunable_transmon.demo_qpus import demo_platform"
            ]
        },
        {
            "cell_type": "markdown",
            "metadata": {},
            "source": [
                "### QPU and Device Setup\n",
                "\n",
                "You'll generate six qubits with pre-defined parameters, as well as a `Device_Setup` consisting of a SHFQC+, HDAWG, and PQSC. If you already have your own `DeviceSetup` and qubits configured, you'll instead initialize the session using your setup."
            ]
        },
        {
            "cell_type": "code",
            "execution_count": 2,
            "metadata": {},
            "outputs": [],
            "source": [
                "my_platform = demo_platform(6)"
            ]
        },
        {
            "cell_type": "markdown",
            "metadata": {},
            "source": [
                "Then, you'll connect to the `Session`. Here we connect to an emulated one:"
            ]
        },
        {
            "cell_type": "code",
            "execution_count": null,
            "metadata": {},
            "outputs": [],
            "source": [
                "session = Session(my_platform.setup)\n",
                "session.connect(do_emulation=True)"
            ]
        },
        {
            "cell_type": "markdown",
            "metadata": {},
            "source": [
                "### Running the Qubit Spectroscopy Workflow\n",
                "\n",
                "You'll now make the experiment workflow and run:"
            ]
        },
        {
            "cell_type": "code",
            "execution_count": null,
            "metadata": {},
            "outputs": [],
            "source": [
                "# our qubits live here in the demo setup:\n",
                "qubits = my_platform.qpu.qubits\n",
                "\n",
                "my_workflow = dispersive_shift.experiment_workflow(\n",
                "    session=session,\n",
                "    qpu=my_platform.qpu,\n",
                "    qubit=qubits[0],\n",
                "    frequencies=np.linspace(6.8e9, 7.1e9, 101),\n",
                "    states = \"ge\",\n",
                ")\n",
                "\n",
                "my_results = my_workflow.run()"
            ]
        },
        {
            "cell_type": "markdown",
            "metadata": {},
            "source": [
                "#### Output Simulation\n",
                "\n",
                "You can also inspect the compiled experiment and plot the simulated output:"
            ]
        },
        {
            "cell_type": "code",
            "execution_count": null,
            "metadata": {},
            "outputs": [],
            "source": [
                "compiled_qubit_spec = my_results.tasks[\"compile_experiment\"].output\n",
                "plot_simulation(compiled_qubit_spec, length=10e-6)"
            ]
        },
        {
            "cell_type": "markdown",
            "metadata": {},
            "source": [
                "#### Inspecting the Source Code\n",
                "\n",
                "You can inspect the source code of the `create_experiment` task defined in `dispersive_shift` to see how the experiment pulse sequence is created:"
            ]
        },
        {
            "cell_type": "code",
            "execution_count": null,
            "metadata": {
                "scrolled": true
            },
            "outputs": [],
            "source": [
                "print(dispersive_shift.create_experiment.src)"
            ]
        },
        {
            "cell_type": "markdown",
            "metadata": {},
            "source": [
                "### Changing the Options\n",
                "\n",
                "We can give our Qubit Spectroscopy experiment options. First, inspect what they currently are:"
            ]
        },
        {
            "cell_type": "code",
            "execution_count": null,
            "metadata": {},
            "outputs": [],
            "source": [
                "my_new_opts = dispersive_shift.experiment_workflow.options()\n",
                "my_new_opts"
            ]
        },
        {
            "cell_type": "markdown",
            "metadata": {},
            "source": [
                "Then provide new options. Let's change the counts"
            ]
        },
        {
            "cell_type": "code",
            "execution_count": 8,
            "metadata": {},
            "outputs": [],
            "source": [
                "my_new_opts.count(2048)"
            ]
        },
        {
            "cell_type": "markdown",
            "metadata": {},
            "source": [
                "#### Run the workflow with updated options\n",
                "\n",
                "Now, run the workflow with new options and inspect the simulated output. Here, we change the states into \"gef\" to map the resonator dispersive shift at both e and f qubit states. You'll notice that the first part of the sequence does not have a drive pulse for g state measurement, followed by a single ge transition pulse for e state measurement, and lastly contain both ge and ef transition pulses for f state measurement."
            ]
        },
        {
            "cell_type": "code",
            "execution_count": null,
            "metadata": {},
            "outputs": [],
            "source": [
                "my_new_workflow = dispersive_shift.experiment_workflow(\n",
                "    session=session,\n",
                "    qpu=my_platform.qpu,\n",
                "    qubit=qubits[0],\n",
                "    frequencies=np.linspace(6.8e9, 7.1e9, 101),\n",
                "    states = \"gef\",\n",
                "    options=my_new_opts,\n",
                ")\n",
                "\n",
                "my_new_results = my_new_workflow.run()\n",
                "new_compiled_qubit_spec = my_new_results.tasks[\"compile_experiment\"].output\n",
                "plot_simulation(new_compiled_qubit_spec, length=10e-6)"
            ]
        },
        {
            "cell_type": "markdown",
            "metadata": {},
            "source": [
                "### Temporary settings\n",
                "\n",
                "The qubit parameters are used to control the settings of pulses and instruments during the experiment. We can run the qubit spectroscopy experiment with different settings by passing it a copy of the qubits with modified parameters:\n",
                "\n",
                "Let's reduce the readout length and reset delay length to better see the qubit drive pulses."
            ]
        },
        {
            "cell_type": "code",
            "execution_count": null,
            "metadata": {
                "scrolled": true
            },
            "outputs": [],
            "source": [
                "# Make a copy of the qubits\n",
                "temp_qubits = my_platform.qpu.copy_qubits()\n",
                "# Change the reset delay length of the drive pulses\n",
                "temp_qubits[0].parameters.reset_delay_length = 0.1e-6\n",
                "temp_qubits[0].parameters.readout_length = 0.5e-6\n",
                "temp_qubits[0].parameters.readout_integration_length = 0.5e-6\n",
                "\n",
                "\n",
                "my_new_workflow = dispersive_shift.experiment_workflow(\n",
                "    session=session,\n",
                "    qpu=my_platform.qpu,\n",
                "    qubit=temp_qubits[0],\n",
                "    frequencies=np.linspace(6.8e9, 7.1e9, 101),\n",
                "    states = \"gef\",\n",
                "    options=my_new_opts,\n",
                ")\n",
                "\n",
                "my_new_results = my_new_workflow.run()\n",
                "new_compiled_qubit_spec = my_new_results.tasks[\"compile_experiment\"].output\n",
                "plot_simulation(new_compiled_qubit_spec, length=2e-6)\n",
                "\n",
                "# revert the reset delay length of the drive pulses back to its default value of 1us\n",
                "temp_qubits[0].parameters.reset_delay_length = 1e-6\n",
                "temp_qubits[0].parameters.readout_length = 2e-6\n",
                "temp_qubits[0].parameters.readout_integration_length = 2e-6"
            ]
        },
        {
            "cell_type": "markdown",
            "metadata": {},
            "source": [
                "Great! You've now run your Dispersive Shift experiment. Check out these other experiments to keep characterizing your qubits:"
            ]
        },
        {
            "cell_type": "code",
            "execution_count": 11,
            "metadata": {},
            "outputs": [],
            "source": [
                "# TODO: Add experiment links\n",
                "# TODO: Add Analysis"
            ]
        },
        {
            "cell_type": "code",
            "execution_count": null,
            "metadata": {},
            "outputs": [],
            "source": []
        }
    ],
    "metadata": {
        "kernelspec": {
            "display_name": "Python 3 (ipykernel)",
            "language": "python",
            "name": "python3"
        },
        "language_info": {
            "codemirror_mode": {
                "name": "ipython",
                "version": 3
            },
            "file_extension": ".py",
            "mimetype": "text/x-python",
            "name": "python",
            "nbconvert_exporter": "python",
            "pygments_lexer": "ipython3",
            "version": "3.11.8"
        }
    },
    "nbformat": 4,
    "nbformat_minor": 4
}
