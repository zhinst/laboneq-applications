{
 "cells": [
  {
   "cell_type": "markdown",
   "id": "3cd2ddc8",
   "metadata": {},
   "source": [
    "# Amplitude Calibration with Error Amplification"
   ]
  },
  {
   "cell_type": "markdown",
   "id": "077f977a",
   "metadata": {},
   "source": [
    "### Prerequisites\n",
    "This guide assumes you have a configured `DeviceSetup` as well as `Qubit` objects with assigned parameters. Please see [our tutorials](https://docs.zhinst.com/labone_q_user_manual/applications_library/tutorials/index.html) if you need to create your setup and qubits for the first time. \n",
    "\n",
    "You can run this notebook on real hardware in the lab. However, if you don't have the hardware at your disposal, you can also run the notebook \"as is\" using an emulated session (see below). \n",
    "\n",
    "If you are just getting started with the LabOne Q Applications Library, please don't hesitate to reach out to us at info@zhinst.com."
   ]
  },
  {
   "cell_type": "markdown",
   "id": "905a0241",
   "metadata": {},
   "source": [
    "### Background\n",
    "In this how-to guide, you'll optimize the pulse amplitude of the pi-pulse for a given qubit transition using error amplfication: the `amplitude_fine` experiment included in the LabOne Q Applications Library. It is recommended to have the pulse amplitude already roughly calibrated, e.g. with the `amplitude_rabi` experiment.\n",
    "\n",
    "The amplitude of a pulse can be precisely calibrated using error amplifying gate sequences. These gate sequences apply the same quantum operation (qop) a variable number of times. Therefore, if each qop has a small error $\\theta$ in the rotation angle then a sequence of multiple qop's will have a rotation error of $\\text{reps}\\cdot \\theta$, where $\\text{reps}$ is the number of repetitions. By implementing sequences with increasing number of repetitions we can obtain a correction value for the imperfect pulse amplitude (see also https://qiskit-community.github.io/qiskit-experiments/tutorials/calibrations). A larger number of repetitions leads to a higher precision in the pulse calibration, finally limited by the coherence time of the qubit.  \n",
    "\n",
    "![](../../../images/amplitude_fine.svg \"Demonstration of pulses and the corresponding rotation around the Bloch sphere during an amplitude fine experiment.\")\n",
    "\n",
    "In the `amplitude_fine` experiment, we add an x90 gate before the gates that are repeated, in order to move the ideal population to the equator of the Bloch sphere where the sensitivity to over/under rotations is the highest. \n",
    "\n",
    "![](../../../images/amplitude_fine_underrotation.svg \"Plots showing the results of pulses with too-small amplitudes, which cause under-rotation, and those with correct amplitudes.\")\n",
    "\n",
    "Below we show the results of an amplitude-fine experiment for calibration an x180 operation. The ping-pong pattern in the figure on the left indicates an under-rotation which makes the initial state rotate less than $\\pi$. The rotated phase per gate $\\phi_{\\text{x180}}$ is given by the frequency of the fitted oscillation. The comparison to the ideal angle defines the correction factor $c$\n",
    "\n",
    "$c=\\frac{\\phi_{\\text{x180}}}{\\pi}$\n",
    "\n",
    "Finally, we scale our amplitude by $c^{-1}$ to obtain the optimized amplitude. \n",
    "\n"
   ]
  },
  {
   "cell_type": "markdown",
   "id": "73b80bfead2011e",
   "metadata": {},
   "source": [
    "### Imports\n",
    "\n",
    "You'll start by importing `laboneq.simple`."
   ]
  },
  {
   "cell_type": "code",
   "execution_count": null,
   "id": "495c7f41fb91c6f9",
   "metadata": {},
   "outputs": [],
   "source": [
    "from laboneq.simple import *"
   ]
  },
  {
   "cell_type": "markdown",
   "id": "d07c7fb7e04487",
   "metadata": {},
   "source": [
    "### Define your experimental setup\n",
    "\n",
    "Let's define our experimental setup. We will need:\n",
    "\n",
    "* a [DeviceSetup](https://docs.zhinst.com/labone_q_user_manual/core/functionality_and_concepts/00_device_setup/concepts/00_set_up_equipment.html#devicesetup)\n",
    "\n",
    "* `n` [TunableTransmonQubits](https://docs.zhinst.com/labone_q_user_manual/applications_library/reference/qpu_types/tunable_transmon.html#laboneq_applications.qpu_types.tunable_transmon.TunableTransmonQubit)\n",
    "\n",
    "* a set of [TunableTransmonOperations](https://docs.zhinst.com/labone_q_user_manual/applications_library/reference/qpu_types/tunable_transmon.html#laboneq_applications.qpu_types.tunable_transmon.TunableTransmonOperations)\n",
    "\n",
    "* a [QPU](https://docs.zhinst.com/labone_q_user_manual/core/reference/dsl/quantum.html#laboneq.dsl.quantum.qpu.QPU)"
   ]
  },
  {
   "cell_type": "markdown",
   "id": "9c9ac58dca4feebd",
   "metadata": {},
   "source": [
    "Here, we will be brief. We will mainly provide the code to obtain these objects. To learn more, check out these other tutorials:\n",
    "\n",
    "* Details about [defining your experimental setup](https://docs.zhinst.com/labone_q_user_manual/applications_library/tutorials/sources/getting_started.html)\n",
    "\n",
    "* [Qubit parameters and how quantum operations use them](https://docs.zhinst.com/labone_q_user_manual/applications_library/tutorials/sources/quantum_operations.html)\n",
    "\n",
    "* [Quantum operations in general](https://docs.zhinst.com/labone_q_user_manual/core/functionality_and_concepts/03_sections_pulses_and_quantum_operations/concepts/08_quantum_operations.html)\n",
    "\n",
    "* [Logbooks and data saving with Workflows](https://docs.zhinst.com/labone_q_user_manual/applications_library/tutorials/sources/logbooks.html)"
   ]
  },
  {
   "cell_type": "markdown",
   "id": "b001848d0351aa64",
   "metadata": {},
   "source": [
    "We will use 3 `TunableTransmonQubits` in this guide. Change this number to the one describing your setup."
   ]
  },
  {
   "cell_type": "code",
   "execution_count": null,
   "id": "c93604e61aed391c",
   "metadata": {},
   "outputs": [],
   "source": [
    "number_of_qubits = 3"
   ]
  },
  {
   "cell_type": "markdown",
   "id": "209922c789b5b936",
   "metadata": {},
   "source": [
    "#### DeviceSetup\n",
    "\n",
    "This guide requires a setup that can drive and readout tunable transmon qubits. Your setup could contain an SHFQC+ instrument, or an SHFSG and an SHFQA instruments. Here, we will use an SHFQC+ with 6 signal generation channels and a PQSC.\n",
    "\n",
    "If you have used LabOne Q before and already have a `DeviceSetup` for your setup, you can reuse that.\n",
    "\n",
    "If you do not have a `DeviceSetup`, you can create one using the code below. Just change the device numbers to the ones in your rack and adjust any other input parameters as needed."
   ]
  },
  {
   "cell_type": "code",
   "execution_count": null,
   "id": "8a5cd8fb53ca7b49",
   "metadata": {},
   "outputs": [],
   "source": [
    "# Setting get_zsync=True below, automatically detects the zsync ports of the PQCS that\n",
    "# are used by the other instruments in this descriptor.\n",
    "# Here, we are not connected to instruments, so we set this flag to False.\n",
    "from laboneq.contrib.example_helpers.generate_descriptor import generate_descriptor\n",
    "\n",
    "descriptor = generate_descriptor(\n",
    "    pqsc=[\"DEV10001\"],\n",
    "    shfqc_6=[\"DEV12001\"],\n",
    "    number_data_qubits=number_of_qubits,\n",
    "    multiplex=True,\n",
    "    number_multiplex=number_of_qubits,\n",
    "    include_cr_lines=False,\n",
    "    get_zsync=False,  # set to True when at a real setup\n",
    "    ip_address=\"localhost\",\n",
    ")\n",
    "setup = DeviceSetup.from_descriptor(descriptor, \"localhost\")"
   ]
  },
  {
   "cell_type": "markdown",
   "id": "39eb4ab0d3fdb62c",
   "metadata": {},
   "source": [
    "#### Qubits\n",
    "\n",
    "We will generate 3 `TunableTransmonQubits` from the logical signal groups in our `DeviceSetup`. The names of the logical signal groups, `q0`, `q1`, `q2`, will be the UIDs of the qubits. Moreover, the qubits will have the same logical signal lines as the ones of the logical signal groups in the `DeviceSetup`."
   ]
  },
  {
   "cell_type": "code",
   "execution_count": null,
   "id": "baff367f47207ad5",
   "metadata": {},
   "outputs": [],
   "source": [
    "from laboneq_applications.qpu_types.tunable_transmon import (\n",
    "    TunableTransmonQubit,\n",
    ")\n",
    "\n",
    "qubits = TunableTransmonQubit.from_device_setup(setup)"
   ]
  },
  {
   "cell_type": "code",
   "execution_count": null,
   "id": "6c19748531d268fe",
   "metadata": {},
   "outputs": [],
   "source": [
    "for q in qubits:\n",
    "    print(\"-------------\")\n",
    "    print(\"Qubit UID:\", q.uid)\n",
    "    print(\"Qubit logical signals:\")\n",
    "    for sig, lsg in q.signals.items():\n",
    "        print(f\"  {sig:<10} ('{lsg:>10}')\")"
   ]
  },
  {
   "cell_type": "markdown",
   "id": "56283d5076c251f1",
   "metadata": {},
   "source": [
    "Configure the qubit parameters to reflect the properties of the qubits on your QPU using the following code:"
   ]
  },
  {
   "cell_type": "code",
   "execution_count": null,
   "id": "8d32cfe087325841",
   "metadata": {},
   "outputs": [],
   "source": [
    "for q in qubits:\n",
    "    q.parameters.ge_drive_pulse[\"sigma\"] = 0.25\n",
    "    q.parameters.readout_amplitude = 0.5\n",
    "    q.parameters.reset_delay_length = 1e-6\n",
    "    q.parameters.readout_range_out = -25\n",
    "    q.parameters.readout_lo_frequency = 7.4e9\n",
    "\n",
    "qubits[0].parameters.drive_lo_frequency = 6.4e9\n",
    "qubits[0].parameters.resonance_frequency_ge = 6.3e9\n",
    "qubits[0].parameters.resonance_frequency_ef = 6.0e9\n",
    "qubits[0].parameters.readout_resonator_frequency = 7.0e9\n",
    "\n",
    "qubits[1].parameters.drive_lo_frequency = 6.4e9\n",
    "qubits[1].parameters.resonance_frequency_ge = 6.5e9\n",
    "qubits[1].parameters.resonance_frequency_ef = 6.3e9\n",
    "qubits[1].parameters.readout_resonator_frequency = 7.3e9\n",
    "\n",
    "qubits[2].parameters.drive_lo_frequency = 6.0e9\n",
    "qubits[2].parameters.resonance_frequency_ge = 5.8e9\n",
    "qubits[2].parameters.resonance_frequency_ef = 5.6e9\n",
    "qubits[2].parameters.readout_resonator_frequency = 7.2e9"
   ]
  },
  {
   "cell_type": "markdown",
   "id": "45ad274971f8b2c0",
   "metadata": {},
   "source": [
    "#### Quantum Operations\n",
    "\n",
    "Create the set of `TunableTransmonOperations`:"
   ]
  },
  {
   "cell_type": "code",
   "execution_count": null,
   "id": "cfb697a9aa903606",
   "metadata": {},
   "outputs": [],
   "source": [
    "from laboneq_applications.qpu_types.tunable_transmon import TunableTransmonOperations\n",
    "\n",
    "qops = TunableTransmonOperations()"
   ]
  },
  {
   "cell_type": "markdown",
   "id": "34f0257b0573ad56",
   "metadata": {},
   "source": [
    "#### QPU\n",
    "\n",
    "Create the `QPU` object from the qubits and the quantum operations"
   ]
  },
  {
   "cell_type": "code",
   "execution_count": null,
   "id": "6dc72c60d63ccba6",
   "metadata": {},
   "outputs": [],
   "source": [
    "from laboneq.dsl.quantum import QPU\n",
    "\n",
    "qpu = QPU(qubits=qubits, quantum_operations=qops)"
   ]
  },
  {
   "cell_type": "markdown",
   "id": "ec4d8585c771c55a",
   "metadata": {},
   "source": [
    "#### Alternatively, load from a file\n",
    "\n",
    "If you you already have a `DeviceSetup` and a `QPU` stored in `.json` files, you can simply load them back using the code below:\n",
    "\n",
    "```python\n",
    "from laboneq import serializers\n",
    "\n",
    "setup = serializers.load(full_path_to_device_setup_file)\n",
    "qpu = serializers.load(full_path_to_qpu_file)\n",
    "\n",
    "qubits = qpu.qubits\n",
    "qops = qpu.quantum_operations\n",
    "```"
   ]
  },
  {
   "cell_type": "markdown",
   "id": "68052b53df5790dd",
   "metadata": {},
   "source": [
    "### Connect to Session"
   ]
  },
  {
   "cell_type": "code",
   "execution_count": null,
   "id": "ae5bfb1126e03f6f",
   "metadata": {},
   "outputs": [],
   "source": [
    "session = Session(setup)\n",
    "session.connect(do_emulation=True)  # do_emulation=False when at a real setup"
   ]
  },
  {
   "cell_type": "markdown",
   "id": "1c8d9b4ff11ffeaa",
   "metadata": {},
   "source": [
    "### Create a `FolderStore` for Saving Data\n",
    "\n",
    "The experiment `Workflows` can automatically save the inputs and outputs of all their tasks to the folder path we specify when instantiating the `FolderStore`. Here, we choose the current working directory."
   ]
  },
  {
   "cell_type": "code",
   "execution_count": null,
   "id": "88839aa9758ef0b6",
   "metadata": {},
   "outputs": [],
   "source": [
    "# import FolderStore from the `workflow` namespace of LabOne Q, which was imported\n",
    "# from `laboneq.simple`\n",
    "from pathlib import Path\n",
    "\n",
    "folder_store = workflow.logbook.FolderStore(Path.cwd())"
   ]
  },
  {
   "cell_type": "markdown",
   "id": "6d7a00bdb026ec9c",
   "metadata": {},
   "source": [
    "We disable saving in this guide. To enable it, simply run `folder_store.activate()`."
   ]
  },
  {
   "cell_type": "code",
   "execution_count": null,
   "id": "5b9b10b55f025e79",
   "metadata": {},
   "outputs": [],
   "source": [
    "folder_store.deactivate()"
   ]
  },
  {
   "cell_type": "markdown",
   "id": "a684dca290192460",
   "metadata": {},
   "source": [
    "### Optional: Configure the LoggingStore\n",
    "\n",
    "You can also activate/deactivate the `LoggingStore`, which is used for displaying the `Workflow` logging information in the notebook; see again the [tutorial on Recording Experiment Workflow Results](https://docs.zhinst.com/labone_q_user_manual/applications_library/tutorials/sources/logbooks.html) for details.\n",
    "\n",
    "Displaying the `Workflow` logging information is activated by default, but here we deactivate it to shorten the outputs, which are not very meaningful in emulation mode.\n",
    "\n",
    "**We recommend that you do not deactivate the Workflow logging in practice.**"
   ]
  },
  {
   "cell_type": "code",
   "execution_count": null,
   "id": "32bca936023a9d52",
   "metadata": {},
   "outputs": [],
   "source": [
    "from laboneq.workflow.logbook import LoggingStore\n",
    "\n",
    "logging_store = LoggingStore()\n",
    "logging_store.deactivate()"
   ]
  },
  {
   "cell_type": "markdown",
   "id": "16a7282f560d9522",
   "metadata": {},
   "source": [
    "### Running the Experiment Workflow"
   ]
  },
  {
   "cell_type": "markdown",
   "id": "b99f5f85bc027829",
   "metadata": {},
   "source": [
    "In the `amplitude_fine` experiment for an x180 gate, we apply the quantum operation `x180` multiple times, defined by the `repetitions`.\n",
    "\n",
    "You'll now instantiate the experiment workflow and run it. For more details on what experiment workflows are and what tasks they execute, see the [Experiment Workflows tutorial](https://docs.zhinst.com/labone_q_user_manual/applications_library/tutorials/sources/experiment_workflows.html).\n",
    "\n",
    "You'll start by importing `numpy`, the amplitude-fine experiment workflow from `laboneq_applications`, as well as `plot_simulation` for inspecting the experiment sequence."
   ]
  },
  {
   "cell_type": "code",
   "execution_count": null,
   "id": "da3005d69e9ed183",
   "metadata": {},
   "outputs": [],
   "source": [
    "import numpy as np\n",
    "from laboneq.contrib.example_helpers.plotting.plot_helpers import plot_simulation\n",
    "\n",
    "from laboneq_applications.experiments import amplitude_fine"
   ]
  },
  {
   "cell_type": "markdown",
   "id": "70e030713ecb88fc",
   "metadata": {},
   "source": [
    "Let's first create the options class for the amplitude-fine experiment and inspect it using the `show_fields` function from the `workflow` namespace of LabOne Q, which was imported from `laboneq.simple`:"
   ]
  },
  {
   "cell_type": "code",
   "execution_count": null,
   "id": "9bedef9561aa201b",
   "metadata": {
    "scrolled": true
   },
   "outputs": [],
   "source": [
    "options = amplitude_fine.experiment_workflow.options()\n",
    "workflow.show_fields(options)"
   ]
  },
  {
   "cell_type": "markdown",
   "id": "939137b7-dcc0-4584-95f6-c59b1b5e9967",
   "metadata": {},
   "source": [
    "Notice that, unless we change it:\n",
    "\n",
    "- the experiment is run in `AcquisitionType.INTEGRATION` and `AveragingMode.CYCLIC`, using 1024 averages (`count`)\n",
    "- the experiment is run on the qubit $|g\\rangle \\leftrightarrow |e\\rangle$ (`transition`)\n",
    "- calibration traces are added (`use_cal_traces=True`) for the states $|g\\rangle$ and $|e\\rangle$ (`cal_states`)\n",
    "- the analysis workflow will run automatically (`do_analysis=True`)\n",
    "- the figures produced by the analysis are automatically closed (`close_figures=False`)\n",
    "- the qubit parameters will not be updated (`update=False`)\n",
    "\n",
    "Here, let's disable closing the figures produced by the analysis so we see them in the cell output. Note however that the fit attempted by the analysis routine in emulation mode will not be representative, because we do not acquire data from a real experiment."
   ]
  },
  {
   "cell_type": "code",
   "execution_count": null,
   "id": "be8506d6-e08a-4337-96bc-86ca918c17ff",
   "metadata": {},
   "outputs": [],
   "source": [
    "options.close_figures(False)"
   ]
  },
  {
   "cell_type": "markdown",
   "id": "4ebf30b8-5e48-4e46-b19e-a3a30b2e62b7",
   "metadata": {},
   "source": [
    "Now we run the experiment workflow on the first two qubits in parallel."
   ]
  },
  {
   "cell_type": "code",
   "execution_count": null,
   "id": "07db542c",
   "metadata": {
    "scrolled": true
   },
   "outputs": [],
   "source": [
    "# our qubits live here in the demo setup:\n",
    "qubits = qpu.qubits\n",
    "\n",
    "exp_workflow = amplitude_fine.experiment_workflow_x180(\n",
    "    session=session,\n",
    "    qpu=qpu,\n",
    "    qubits=[qubits[0], qubits[1]],\n",
    "    repetitions=[[1,2,3,4,5], [1,2,3,4,5]],\n",
    "    options=options\n",
    ")\n",
    "\n",
    "workflow_results = exp_workflow.run()"
   ]
  },
  {
   "cell_type": "markdown",
   "id": "d13b6d33-e159-4958-9a3c-b4e03a8e4968",
   "metadata": {},
   "source": [
    "#### Inspect the Tasks That Were Run"
   ]
  },
  {
   "cell_type": "code",
   "execution_count": null,
   "id": "913cbab4-2e08-4232-8002-f811638fed85",
   "metadata": {},
   "outputs": [],
   "source": [
    "for t in workflow_results.tasks:\n",
    "    print(t)"
   ]
  },
  {
   "cell_type": "markdown",
   "id": "3acdbe8f",
   "metadata": {},
   "source": [
    "#### Inspect the Output Simulation\n",
    "\n",
    "You can also inspect the compiled experiment and plot the simulated output:"
   ]
  },
  {
   "cell_type": "code",
   "execution_count": null,
   "id": "576cd72a",
   "metadata": {
    "scrolled": true
   },
   "outputs": [],
   "source": [
    "compiled_experiment = workflow_results.tasks[\"compile_experiment\"].output\n",
    "plot_simulation(compiled_experiment, length=15e-6)"
   ]
  },
  {
   "cell_type": "markdown",
   "id": "4b965e92",
   "metadata": {},
   "source": [
    "#### Inspecting the Source Code of the Pulse-Sequence Creation Task\n",
    "\n",
    "You can inspect the source code of the `create_experiment` task defined in `amplitude_fine` to see how the experiment pulse sequence is created using quantum operations. To learn more about the latter, see the [Quantum Operations tutorial](https://docs.zhinst.com/labone_q_user_manual/applications_library/tutorials/sources/quantum_operations.html)."
   ]
  },
  {
   "cell_type": "code",
   "execution_count": null,
   "id": "37c5cc55",
   "metadata": {},
   "outputs": [],
   "source": [
    "amplitude_fine.create_experiment.src"
   ]
  },
  {
   "cell_type": "markdown",
   "id": "fcf1029f-9b7e-4d58-a61e-7cd56b6288ba",
   "metadata": {},
   "source": [
    "To learn more about how to work with experiment `Workflows`, check out the [Experiment Workflows tutorial](https://docs.zhinst.com/labone_q_user_manual/applications_library/tutorials/sources/experiment_workflows.html).\n",
    "\n",
    "Here, let's briefly inspect the analysis-workflow results."
   ]
  },
  {
   "cell_type": "markdown",
   "id": "30d1923e-acf4-4372-a65d-e427c60cc8ec",
   "metadata": {},
   "source": [
    "#### Analysis Results\n",
    "\n",
    "Let's check what tasks were run as part of the analysis workflow:"
   ]
  },
  {
   "cell_type": "code",
   "execution_count": null,
   "id": "d19561c1-c23e-4c07-a03e-e0dbf9079c7f",
   "metadata": {},
   "outputs": [],
   "source": [
    "analysis_workflow_results = workflow_results.tasks[\"analysis_workflow\"]\n",
    "for t in analysis_workflow_results.tasks:\n",
    "    print(t)"
   ]
  },
  {
   "cell_type": "markdown",
   "id": "63b8dcde-2db5-4556-8f45-01770d734a96",
   "metadata": {},
   "source": [
    "We can access the qubit parameters extracted by the analysis from the output of the analysis-workflow:"
   ]
  },
  {
   "cell_type": "code",
   "execution_count": null,
   "id": "26fb042a-2e74-4a98-b73b-1cd5f1bb92c9",
   "metadata": {},
   "outputs": [],
   "source": [
    "from pprint import pprint\n",
    "\n",
    "pprint(analysis_workflow_results.output)  # noqa: T203"
   ]
  },
  {
   "cell_type": "markdown",
   "id": "408f7e83-a30b-469d-9e17-c84198a55c10",
   "metadata": {},
   "source": [
    "Check out the [Experiment Workflows tutorial](https://docs.zhinst.com/labone_q_user_manual/applications_library/tutorials/sources/experiment_workflows.html) to see how you can manually update the qubit parameters to these new values, or reset them to the old ones. "
   ]
  },
  {
   "cell_type": "markdown",
   "id": "fceaa346-574d-4b76-993e-3ae793811b8f",
   "metadata": {},
   "source": [
    "### Running the Amplitude Fine x90 Workflow\n",
    "\n",
    "We can use the same concept to optimize other quantum operations, e.g. the amplitude of the `x90` quantum operation."
   ]
  },
  {
   "cell_type": "code",
   "execution_count": null,
   "id": "d364b54f-3999-46ca-b3a8-31f42fce0bb4",
   "metadata": {},
   "outputs": [],
   "source": [
    "# our qubits live here in the demo setup:\n",
    "qubits = qpu.qubits\n",
    "\n",
    "exp_workflow_x90 = amplitude_fine.experiment_workflow_x90(\n",
    "    session=session,\n",
    "    qpu=qpu,\n",
    "    qubits=[qubits[0], qubits[1]],\n",
    "    repetitions=[[1,2,3,4,5], [1,2,3,4,5]],\n",
    ")\n",
    "\n",
    "workflow_results_x90 = exp_workflow_x90.run()"
   ]
  },
  {
   "cell_type": "markdown",
   "id": "d107a07d-b8b6-4bc0-acaa-5960b1d978a5",
   "metadata": {},
   "source": [
    "Note that `repetitions` is now in steps of two: As mentioned in the introduction, the sensitivity to over/under rotations is the highest for a final population at the equator of the Bloch sphere. "
   ]
  },
  {
   "cell_type": "markdown",
   "id": "0df606cc-3f44-475f-a374-be4951d5da0c",
   "metadata": {},
   "source": [
    "### Running the general Amplitude Fine Workflow\n",
    "\n",
    "Besides standard operations, we can use the same concept to optimize quantum operations in general. Define your own quantum operation and measure deviations from the ideal `target_angle` using the `amplitude_fine` experiment. "
   ]
  },
  {
   "cell_type": "code",
   "execution_count": null,
   "id": "3aad9a34-2709-4283-9843-8892b3df932e",
   "metadata": {},
   "outputs": [],
   "source": [
    "# our qubits live here in the demo setup:\n",
    "qubits = qpu.qubits\n",
    "my_qop = \"y90\"\n",
    "\n",
    "exp_workflow_general = amplitude_fine.experiment_workflow(\n",
    "    session=session,\n",
    "    qpu=qpu,\n",
    "    qubits=[qubits[0], qubits[1]],\n",
    "    amplification_qop=my_qop,\n",
    "    target_angle=np.pi/2,\n",
    "    phase_offset=-np.pi/2,\n",
    "    repetitions=[[1,2,3,4], [1,2,3,4]],\n",
    ")\n",
    "\n",
    "workflow_results_general = exp_workflow_general.run()"
   ]
  },
  {
   "cell_type": "markdown",
   "id": "c0f9d412",
   "metadata": {},
   "source": [
    "Great! You've now run your amplitude-fine experiment. Check out other experiments in this manual to keep characterizing your qubits."
   ]
  }
 ],
 "metadata": {
  "jupytext": {
   "cell_metadata_filter": "-all",
   "main_language": "python",
   "notebook_metadata_filter": "-all"
  },
  "kernelspec": {
   "display_name": "Python 3 (ipykernel)",
   "language": "python",
   "name": "python3"
  },
  "language_info": {
   "codemirror_mode": {
    "name": "ipython",
    "version": 3
   },
   "file_extension": ".py",
   "mimetype": "text/x-python",
   "name": "python",
   "nbconvert_exporter": "python",
   "pygments_lexer": "ipython3",
   "version": "3.12.7"
  }
 },
 "nbformat": 4,
 "nbformat_minor": 5
}
