{
 "cells": [
  {
   "cell_type": "markdown",
   "id": "3cd2ddc8",
   "metadata": {},
   "source": [
    "# Amplitude Calibration with Error Amplification"
   ]
  },
  {
   "cell_type": "markdown",
   "id": "077f977a",
   "metadata": {},
   "source": [
    "### Prerequisites\n",
    "This guide assumes you have a configured `DeviceSetup` as well as `Qubit` objects with assigned parameters. Please see [Getting Started tutorial](../../../../tutorials/sources/getting_started.ipynb) if you need to create your setup and qubits for the first time. \n",
    "\n",
    "You can run this notebook on real hardware in the lab. However, if you don't have the hardware at your disposal, you can also run the notebook \"as is\" using an emulated session (see below). \n",
    "\n",
    "If you are just getting started with the LabOne Q Applications Library, please don't hesitate to reach out to us at info@zhinst.com."
   ]
  },
  {
   "cell_type": "markdown",
   "id": "905a0241",
   "metadata": {},
   "source": [
    "### Background\n",
    "In this how-to guide, you'll optimize the pulse amplitude of the pi-pulse for a given qubit transition using error amplfication: the `amplitude_fine` experiment included in the LabOne Q Applications Library. It is recommended to have the pulse amplitude already roughly calibrated, e.g. with the `amplitude_rabi` experiment.\n",
    "\n",
    "The amplitude of a pulse can be precisely calibrated using error amplifying gate sequences. These gate sequences apply the same quantum operation (qop) a variable number of times. Therefore, if each qop has a small error $\\theta$ in the rotation angle then a sequence of multiple qop's will have a rotation error of $\\text{reps}\\cdot \\theta$, where $\\text{reps}$ is the number of repetitions. By implementing sequences with increasing number of repetitions we can obtain a correction value for the imperfect pulse amplitude (see also https://qiskit-community.github.io/qiskit-experiments/tutorials/calibrations). A larger number of repetitions leads to a higher precision in the pulse calibration, finally limited by the coherence time of the qubit.  \n",
    "\n",
    "![](../../../images/amplitude_fine.svg \"Demonstration of pulses and the corresponding rotation around the Bloch sphere during an amplitude fine experiment.\")\n",
    "\n",
    "In the `amplitude_fine` experiment, we add an x90 gate before the gates that are repeated, in order to move the ideal population to the equator of the Bloch sphere where the sensitivity to over/under rotations is the highest. \n",
    "\n",
    "![](../../../images/amplitude_fine_underrotation.svg \"Plots showing the results of pulses with too-small amplitudes, which cause under-rotation, and those with correct amplitudes.\")\n",
    "\n",
    "Below we show the results of an amplitude-fine experiment for calibration an x180 operation. The ping-pong pattern in the figure on the left indicates an under-rotation which makes the initial state rotate less than $\\pi$. The rotated phase per gate $\\phi_{\\text{x180}}$ is given by the frequency of the fitted oscillation. The comparison to the ideal angle defines the correction factor $c$\n",
    "\n",
    "$c=\\frac{\\phi_{\\text{x180}}}{\\pi}$\n",
    "\n",
    "Finally, we scale our amplitude by $c^{-1}$ to obtain the optimized amplitude. \n",
    "\n"
   ]
  },
  {
   "cell_type": "markdown",
   "id": "647591ec",
   "metadata": {},
   "source": [
    "### Imports\n",
    "\n",
    "You'll start by importing the amplitude_fine experiment from `laboneq_applications`, as well as `laboneq.simple` and a demo quantum platform containing a qpu and device setup to run in emulation mode. See the [Getting Started tutorial](../../../../tutorials/sources/getting_started.ipynb) for more details about the quantum platform and how to create your experimental setup."
   ]
  },
  {
   "cell_type": "code",
   "execution_count": null,
   "id": "9bcc9013",
   "metadata": {},
   "outputs": [],
   "source": [
    "import numpy as np\n",
    "from laboneq.contrib.example_helpers.plotting.plot_helpers import plot_simulation\n",
    "from laboneq.simple import *\n",
    "\n",
    "from laboneq_applications.experiments import amplitude_fine\n",
    "from laboneq_applications.qpu_types.tunable_transmon.demo_qpus import demo_platform"
   ]
  },
  {
   "cell_type": "markdown",
   "id": "06af4979",
   "metadata": {},
   "source": [
    "### QPU and Device Setup\n",
    "\n",
    "You'll generate six qubits with pre-defined parameters, as well as a `Device_Setup` consisting of a SHFQC+, HDAWG, and PQSC. If you already have your own `DeviceSetup` and qubits configured, you'll instead initialize the session using your setup as shown in the [Getting Started tutorial](../../../../tutorials/sources/getting_started.ipynb)."
   ]
  },
  {
   "cell_type": "code",
   "execution_count": null,
   "id": "d4b38157",
   "metadata": {},
   "outputs": [],
   "source": [
    "my_platform = demo_platform(6)"
   ]
  },
  {
   "cell_type": "markdown",
   "id": "c2726dbc",
   "metadata": {},
   "source": [
    "Then, you'll connect to the `Session`. Here we connect to an emulated one:"
   ]
  },
  {
   "cell_type": "code",
   "execution_count": null,
   "id": "4e652b5b",
   "metadata": {},
   "outputs": [],
   "source": [
    "session = Session(my_platform.setup)\n",
    "session.connect(do_emulation=True)"
   ]
  },
  {
   "cell_type": "markdown",
   "id": "1e802043-de68-4783-a141-013348e5eb57",
   "metadata": {},
   "source": [
    "### Create a `FolderStore` for Saving Data\n",
    "\n",
    "The experiment `Workflows` can automatically save the inputs and outputs of all their tasks to the folder path we specify when instantiating the `FolderStore`. Here, we choose the current working directory."
   ]
  },
  {
   "cell_type": "code",
   "execution_count": null,
   "id": "c558e84b-aa84-4f4b-bf2c-b2f5f8aec37c",
   "metadata": {},
   "outputs": [],
   "source": [
    "# import FolderStore from the `workflow` namespace of LabOne Q, which was imported\n",
    "# from `laboneq.simple`\n",
    "from pathlib import Path\n",
    "\n",
    "folder_store = workflow.logbook.FolderStore(Path.cwd())"
   ]
  },
  {
   "cell_type": "markdown",
   "id": "c8aed89d-1c8d-4951-ac9c-2e4363ade71d",
   "metadata": {},
   "source": [
    "We disable saving in this guide. To enable it, simply run `folder_store.activate()`."
   ]
  },
  {
   "cell_type": "code",
   "execution_count": null,
   "id": "74049aa8-51e7-4197-ae75-8509347fd4ec",
   "metadata": {},
   "outputs": [],
   "source": [
    "folder_store.deactivate()"
   ]
  },
  {
   "cell_type": "markdown",
   "id": "6625d2ec",
   "metadata": {},
   "source": [
    "### Running the Amplitude Fine x180 Workflow"
   ]
  },
  {
   "cell_type": "markdown",
   "id": "67dde69f-d080-464d-8001-095deebf0ea4",
   "metadata": {},
   "source": [
    "In the `amplitude_fine` experiment for an x180 gate, we apply the quantum operation `x180` multiple times, defined by the `repetitions`.\n",
    "\n",
    "You'll now make the experiment workflow and run. For more details on what experiment workflows are and what tasks they execute, see the [Experiment Workflows tutorial](../../../../tutorials/sources/experiment_workflows.ipynb)."
   ]
  },
  {
   "cell_type": "markdown",
   "id": "2de10fa4-f694-4b0c-a413-878aa0219f36",
   "metadata": {},
   "source": [
    "Let's first create the options class for the amplitude-fine experiment and inspect it using the tree view of the option fields per task:"
   ]
  },
  {
   "cell_type": "code",
   "execution_count": null,
   "id": "c7d94a16-5670-4f71-98a0-d85f68c58870",
   "metadata": {
    "scrolled": true
   },
   "outputs": [],
   "source": [
    "options = amplitude_fine.experiment_workflow_x180.options()\n",
    "options"
   ]
  },
  {
   "cell_type": "markdown",
   "id": "c2a6dbcd-e296-4f46-bdb7-4ee60bf95977",
   "metadata": {},
   "source": [
    "Or, alternatively, using the `show_fields` function from the `workflow` namespace of LabOne Q, which was imported from `laboneq.simple`:"
   ]
  },
  {
   "cell_type": "code",
   "execution_count": null,
   "id": "18fea8e6-a474-4165-9715-ddcf38f69ecc",
   "metadata": {},
   "outputs": [],
   "source": [
    "workflow.show_fields(options)"
   ]
  },
  {
   "cell_type": "markdown",
   "id": "939137b7-dcc0-4584-95f6-c59b1b5e9967",
   "metadata": {},
   "source": [
    "Notice that, unless we change it:\n",
    "\n",
    "- the experiment is run in `AcquisitionType.INTEGRATION` and `AveragingMode.CYCLIC`, using 1024 averages (`count`)\n",
    "- the experiment is run on the qubit $|g\\rangle \\leftrightarrow |e\\rangle$ (`transition`)\n",
    "- calibration traces are added (`use_cal_traces=True`) for the states $|g\\rangle$ and $|e\\rangle$ (`cal_states`)\n",
    "- the analysis workflow will run automatically (`do_analysis=True`)\n",
    "- the figures produced by the analysis are automatically closed (`close_figures=False`)\n",
    "- the qubit parameters will not be updated (`update=False`)\n",
    "\n",
    "Here, let's disable closing the figures:"
   ]
  },
  {
   "cell_type": "code",
   "execution_count": null,
   "id": "be8506d6-e08a-4337-96bc-86ca918c17ff",
   "metadata": {},
   "outputs": [],
   "source": [
    "options.close_figures(False)"
   ]
  },
  {
   "cell_type": "markdown",
   "id": "4ebf30b8-5e48-4e46-b19e-a3a30b2e62b7",
   "metadata": {},
   "source": [
    "Now we run the experiment workflow on the first two qubits in parallel."
   ]
  },
  {
   "cell_type": "code",
   "execution_count": null,
   "id": "07db542c",
   "metadata": {
    "scrolled": true
   },
   "outputs": [],
   "source": [
    "# our qubits live here in the demo setup:\n",
    "qubits = my_platform.qpu.qubits\n",
    "\n",
    "exp_workflow = amplitude_fine.experiment_workflow_x180(\n",
    "    session=session,\n",
    "    qpu=my_platform.qpu,\n",
    "    qubits=[qubits[0], qubits[1]],\n",
    "    repetitions=[[1,2,3,4,5], [1,2,3,4,5]],\n",
    "    options=options\n",
    ")\n",
    "\n",
    "workflow_results = exp_workflow.run()"
   ]
  },
  {
   "cell_type": "markdown",
   "id": "d13b6d33-e159-4958-9a3c-b4e03a8e4968",
   "metadata": {},
   "source": [
    "#### Inspect the Tasks That Were Run"
   ]
  },
  {
   "cell_type": "code",
   "execution_count": null,
   "id": "913cbab4-2e08-4232-8002-f811638fed85",
   "metadata": {},
   "outputs": [],
   "source": [
    "for t in workflow_results.tasks:\n",
    "    print(t)"
   ]
  },
  {
   "cell_type": "markdown",
   "id": "3acdbe8f",
   "metadata": {},
   "source": [
    "#### Inspect the Output Simulation\n",
    "\n",
    "You can also inspect the compiled experiment and plot the simulated output:"
   ]
  },
  {
   "cell_type": "code",
   "execution_count": null,
   "id": "576cd72a",
   "metadata": {
    "scrolled": true
   },
   "outputs": [],
   "source": [
    "compiled_experiment = workflow_results.tasks[\"compile_experiment\"].output\n",
    "plot_simulation(compiled_experiment, length=50e-6)"
   ]
  },
  {
   "cell_type": "markdown",
   "id": "4b965e92",
   "metadata": {},
   "source": [
    "#### Inspecting the Source Code of the Pulse-Sequence Creation Task\n",
    "\n",
    "You can inspect the source code of the `create_experiment` task defined in `amplitude_fine` to see how the experiment pulse sequence is created using quantum operations. To learn more about the latter, see the Quantum Operations tutorial (add link)."
   ]
  },
  {
   "cell_type": "code",
   "execution_count": null,
   "id": "37c5cc55",
   "metadata": {},
   "outputs": [],
   "source": [
    "amplitude_fine.create_experiment.src"
   ]
  },
  {
   "cell_type": "markdown",
   "id": "fcf1029f-9b7e-4d58-a61e-7cd56b6288ba",
   "metadata": {},
   "source": [
    "To learn more about how to work with experiment `Workflows`, check out the [Experiment Workflows tutorial](../../../../tutorials/sources/experiment_workflows.ipynb).\n",
    "\n",
    "Here, let's briefly inspect the analysis-workflow results."
   ]
  },
  {
   "cell_type": "markdown",
   "id": "30d1923e-acf4-4372-a65d-e427c60cc8ec",
   "metadata": {},
   "source": [
    "#### Analysis Results\n",
    "\n",
    "Let's check what tasks were run as part of the analysis workflow:"
   ]
  },
  {
   "cell_type": "code",
   "execution_count": null,
   "id": "d19561c1-c23e-4c07-a03e-e0dbf9079c7f",
   "metadata": {},
   "outputs": [],
   "source": [
    "analysis_workflow_results = workflow_results.tasks[\"analysis_workflow\"]\n",
    "for t in analysis_workflow_results.tasks:\n",
    "    print(t)"
   ]
  },
  {
   "cell_type": "markdown",
   "id": "63b8dcde-2db5-4556-8f45-01770d734a96",
   "metadata": {},
   "source": [
    "We can access the qubit parameters extracted by the analysis from the output of the analysis-workflow:"
   ]
  },
  {
   "cell_type": "code",
   "execution_count": null,
   "id": "26fb042a-2e74-4a98-b73b-1cd5f1bb92c9",
   "metadata": {},
   "outputs": [],
   "source": [
    "from pprint import pprint\n",
    "\n",
    "pprint(analysis_workflow_results.output)  # noqa: T203"
   ]
  },
  {
   "cell_type": "markdown",
   "id": "408f7e83-a30b-469d-9e17-c84198a55c10",
   "metadata": {},
   "source": [
    "Check out the [Experiment Workflows tutorial](../../../../tutorials/sources/experiment_workflows.ipynb) to see how you can manually update the qubit parameters to these new values, or reset them to the old ones. "
   ]
  },
  {
   "cell_type": "markdown",
   "id": "fceaa346-574d-4b76-993e-3ae793811b8f",
   "metadata": {},
   "source": [
    "### Running the Amplitude Fine x90 Workflow\n",
    "\n",
    "We can use the same concept to optimize other quantum operations, e.g. the amplitude of the `x90` quantum operation."
   ]
  },
  {
   "cell_type": "code",
   "execution_count": null,
   "id": "d364b54f-3999-46ca-b3a8-31f42fce0bb4",
   "metadata": {},
   "outputs": [],
   "source": [
    "# our qubits live here in the demo setup:\n",
    "qubits = my_platform.qpu.qubits\n",
    "\n",
    "exp_workflow_x90 = amplitude_fine.experiment_workflow_x90(\n",
    "    session=session,\n",
    "    qpu=my_platform.qpu,\n",
    "    qubits=[qubits[0], qubits[1]],\n",
    "    repetitions=[[1,2,3,4,5], [1,2,3,4,5]],\n",
    ")\n",
    "\n",
    "workflow_results_x90 = exp_workflow_x90.run()"
   ]
  },
  {
   "cell_type": "markdown",
   "id": "d107a07d-b8b6-4bc0-acaa-5960b1d978a5",
   "metadata": {},
   "source": [
    "Note that `repetitions` is now in steps of two: As mentioned in the introduction, the sensitivity to over/under rotations is the highest for a final population at the equator of the Bloch sphere. "
   ]
  },
  {
   "cell_type": "markdown",
   "id": "0df606cc-3f44-475f-a374-be4951d5da0c",
   "metadata": {},
   "source": [
    "### Running the general Amplitude Fine Workflow\n",
    "\n",
    "Besides standard operations, we can use the same concept to optimize quantum operations in general. Define your own quantum operation and measure deviations from the ideal `target_angle` using the `amplitude_fine` experiment. "
   ]
  },
  {
   "cell_type": "code",
   "execution_count": null,
   "id": "3aad9a34-2709-4283-9843-8892b3df932e",
   "metadata": {},
   "outputs": [],
   "source": [
    "# our qubits live here in the demo setup:\n",
    "qubits = my_platform.qpu.qubits\n",
    "my_qop = \"y90\"\n",
    "\n",
    "exp_workflow_general = amplitude_fine.experiment_workflow(\n",
    "    session=session,\n",
    "    qpu=my_platform.qpu,\n",
    "    qubits=[qubits[0], qubits[1]],\n",
    "    amplification_qop=my_qop,\n",
    "    target_angle=np.pi/2,\n",
    "    phase_offset=-np.pi/2,\n",
    "    repetitions=[[1,2,3,4], [1,2,3,4]],\n",
    ")\n",
    "\n",
    "workflow_results_general = exp_workflow_general.run()"
   ]
  },
  {
   "cell_type": "markdown",
   "id": "c0f9d412",
   "metadata": {},
   "source": [
    "Great! You've now run your amplitude-fine experiment. Check out other experiments in this manual to keep characterizing your qubits."
   ]
  },
  {
   "cell_type": "markdown",
   "id": "fccede4d",
   "metadata": {},
   "source": []
  }
 ],
 "metadata": {
  "jupytext": {
   "cell_metadata_filter": "-all",
   "main_language": "python",
   "notebook_metadata_filter": "-all"
  },
  "kernelspec": {
   "display_name": "Python 3 (ipykernel)",
   "language": "python",
   "name": "python3"
  },
  "language_info": {
   "codemirror_mode": {
    "name": "ipython",
    "version": 3
   },
   "file_extension": ".py",
   "mimetype": "text/x-python",
   "name": "python",
   "nbconvert_exporter": "python",
   "pygments_lexer": "ipython3",
   "version": "3.12.4"
  }
 },
 "nbformat": 4,
 "nbformat_minor": 5
}
