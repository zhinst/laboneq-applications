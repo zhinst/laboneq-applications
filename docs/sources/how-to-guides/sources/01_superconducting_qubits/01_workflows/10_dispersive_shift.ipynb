{
 "cells": [
  {
   "cell_type": "markdown",
   "metadata": {},
   "source": [
    "# Dispersive Shift"
   ]
  },
  {
   "cell_type": "markdown",
   "metadata": {},
   "source": [
    "### Prerequisites\n",
    "This guide assumes you have a configured `DeviceSetup` as well as `Qubit` objects with assigned parameters. Please see [Getting Started tutorial](../../../../tutorials/sources/getting_started.ipynb) if you need to create your setup and qubits for the first time. \n",
    "\n",
    "You can run this notebook on real hardware in the lab. However, if you don't have the hardware at your disposal, you can also run the notebook \"as is\" using an emulated session (see below). \n",
    "\n",
    "If you are just getting started with the LabOne Q Applications Library, please don't hesitate to reach out to us at info@zhinst.com."
   ]
  },
  {
   "cell_type": "markdown",
   "metadata": {},
   "source": [
    "### Background\n",
    "In this how-to guide, you'll be measuring the dispersive shift of the readout resonator.\n",
    "\n",
    "Measurements on superconducting qubits such as Transmons are often based on dispersive readout. Here, the qubit itself is not directly probed, instead a resonator, which is coupled capacitively to the qubit, is probed with a measure pulse close to its resonance frequency (see figure below). The amplitude and phase of the returning measure pulse (here transmitted) contain information about the qubit state.\n",
    "\n",
    "Dispersive limit is a regime where the qubit frequency ($\\omega_Q$) is far detuned from the resonance frequency of the resonator ($\\omega_R$) such that its detuning ($\\Delta = |\\omega_Q-\\omega_R|$) is large compared to the coupling strength ($g \\ll \\Delta$). In this regime, the cavity frequency experiences a dispersive shift,\n",
    "\n",
    "$$\\pm\\chi = \\pm\\frac{g^2}{\\Delta}$$\n",
    "\n",
    "dependent on the qubit state. This is illustrated in the figure below that shows the transmitted amplitude and phase responses of the readout resonator when qubit is in its ground and excited states. Higher excited stats of the qubits can be similarly measured through dispersive readout.\n",
    "\n",
    "![Transmitted amplitude and phase response of the readout resonator coupled to a qubit in state g, e and f. When the resonator is probed, the transmitted amplitude and phase contain information about the qubit state.](../../../images/dispersive_ro_1_gef.svg \"Transmitted amplitude and phase response of the readout resonator coupled to a qubit in state g, e and f. When the resonator is probed, the transmitted amplitude and phase contain information about the qubit state.\")\n",
    "\n",
    "In the dispersive limit, there is no direct exchange of energy between the two systems. Hence, we minimize back action on the qubit (quantum non-demolition (QND) measurement)."
   ]
  },
  {
   "cell_type": "markdown",
   "metadata": {},
   "source": [
    "### Imports\n",
    "\n",
    "You'll start by importing the dispersive-shift experiment workflows from `laboneq_applications`, as well as `laboneq.simple` and a demo QPU and device setup to run in emulation mode."
   ]
  },
  {
   "cell_type": "code",
   "execution_count": null,
   "metadata": {},
   "outputs": [],
   "source": [
    "import numpy as np\n",
    "from laboneq.contrib.example_helpers.plotting.plot_helpers import plot_simulation\n",
    "from laboneq.simple import *\n",
    "\n",
    "from laboneq_applications.experiments import dispersive_shift\n",
    "from laboneq_applications.qpu_types.tunable_transmon.demo_qpus import demo_platform"
   ]
  },
  {
   "cell_type": "markdown",
   "metadata": {},
   "source": [
    "### QPU and Device Setup\n",
    "\n",
    "You'll generate six qubits with pre-defined parameters, as well as a `Device_Setup` consisting of a SHFQC+, HDAWG, and PQSC. If you already have your own `DeviceSetup` and qubits configured, you'll instead initialize the session using your setup as shown in the [Getting Started tutorial](../../../../tutorials/sources/getting_started.ipynb)."
   ]
  },
  {
   "cell_type": "code",
   "execution_count": null,
   "metadata": {},
   "outputs": [],
   "source": [
    "my_platform = demo_platform(6)"
   ]
  },
  {
   "cell_type": "markdown",
   "metadata": {},
   "source": [
    "Then, you'll connect to the `Session`. Here we connect to an emulated one:"
   ]
  },
  {
   "cell_type": "code",
   "execution_count": null,
   "metadata": {},
   "outputs": [],
   "source": [
    "session = Session(my_platform.setup)\n",
    "session.connect(do_emulation=True)"
   ]
  },
  {
   "cell_type": "markdown",
   "metadata": {},
   "source": [
    "### Create a `FolderStore` for Saving Data\n",
    "\n",
    "The experiment `Workflows` can automatically save the inputs and outputs of all their tasks to the folder path we specify when instantiating the `FolderStore`. Here, we choose the current working directory."
   ]
  },
  {
   "cell_type": "code",
   "execution_count": null,
   "metadata": {},
   "outputs": [],
   "source": [
    "# import FolderStore from the `workflow` namespace of LabOne Q, which was imported\n",
    "# from `laboneq.simple`\n",
    "from pathlib import Path\n",
    "\n",
    "folder_store = workflow.logbook.FolderStore(Path.cwd())"
   ]
  },
  {
   "cell_type": "markdown",
   "metadata": {},
   "source": [
    "We disable saving in this guide. To enable it, simply run `folder_store.activate()`."
   ]
  },
  {
   "cell_type": "code",
   "execution_count": null,
   "metadata": {},
   "outputs": [],
   "source": [
    "folder_store.deactivate()"
   ]
  },
  {
   "cell_type": "markdown",
   "metadata": {},
   "source": [
    "### Running the Experiment Workflow"
   ]
  },
  {
   "cell_type": "markdown",
   "metadata": {},
   "source": [
    "You'll now make the experiment workflow and run. For more details on what experiment workflows are and what tasks they execute, see the [Experiment Workflows tutorial](../../../../tutorials/sources/experiment_workflows.ipynb)."
   ]
  },
  {
   "cell_type": "markdown",
   "metadata": {},
   "source": [
    "Let's first create the options class for the dispersive-shift experiment and inspect it using the tree view of the option fields per task:"
   ]
  },
  {
   "cell_type": "code",
   "execution_count": null,
   "metadata": {
    "scrolled": true
   },
   "outputs": [],
   "source": [
    "options = dispersive_shift.experiment_workflow.options()\n",
    "options"
   ]
  },
  {
   "cell_type": "markdown",
   "metadata": {},
   "source": [
    "Or, alternatively, using the `show_fields` function from the `workflow` namespace of LabOne Q, which was imported from `laboneq.simple`:"
   ]
  },
  {
   "cell_type": "code",
   "execution_count": null,
   "metadata": {},
   "outputs": [],
   "source": [
    "workflow.show_fields(options)"
   ]
  },
  {
   "cell_type": "markdown",
   "metadata": {},
   "source": [
    "Notice that, unless we change it:\n",
    "\n",
    "- the experiment is run in `AcquisitionType.SPECTROSCOPY_IQ` and `AveragingMode.CYCLIC`, using 1024 averages (`count`)\n",
    "- the analysis workflow will run automatically (`do_analysis=True`)\n",
    "- the figures produced by the analysis are automatically closed (`close_figures=False`)\n",
    "- the qubit parameters will not be updated (`update=False`)\n",
    "\n",
    "Here, let's disable closing the figures:"
   ]
  },
  {
   "cell_type": "code",
   "execution_count": null,
   "metadata": {},
   "outputs": [],
   "source": [
    "options.close_figures(False)"
   ]
  },
  {
   "cell_type": "markdown",
   "metadata": {},
   "source": [
    "Now we run the experiment workflow on the first qubit, for the states $|g\\rangle$ and $|e\\rangle$. "
   ]
  },
  {
   "cell_type": "code",
   "execution_count": null,
   "metadata": {},
   "outputs": [],
   "source": [
    "# our qubits live here in the demo setup:\n",
    "qubit = my_platform.qpu.qubits[0]\n",
    "\n",
    "exp_workflow = dispersive_shift.experiment_workflow(\n",
    "    session=session,\n",
    "    qpu=my_platform.qpu,\n",
    "    qubit=qubit,\n",
    "    frequencies=np.linspace(6.8e9, 7.1e9, 101),\n",
    "    states = \"ge\",\n",
    "    options=options\n",
    ")\n",
    "\n",
    "workflow_results = exp_workflow.run()"
   ]
  },
  {
   "cell_type": "markdown",
   "metadata": {},
   "source": [
    "#### Inspect the Tasks That Were Run"
   ]
  },
  {
   "cell_type": "code",
   "execution_count": null,
   "metadata": {},
   "outputs": [],
   "source": [
    "for t in workflow_results.tasks:\n",
    "    print(t)"
   ]
  },
  {
   "cell_type": "markdown",
   "metadata": {},
   "source": [
    "#### Inspect the Output Simulation\n",
    "\n",
    "You can also inspect the compiled experiment and plot the simulated output:"
   ]
  },
  {
   "cell_type": "code",
   "execution_count": null,
   "metadata": {},
   "outputs": [],
   "source": [
    "compiled_experiment = workflow_results.tasks[\"compile_experiment\"].output\n",
    "plot_simulation(\n",
    "    compiled_experiment, length=50e-6, signal_names_to_show=[\"measure\"]\n",
    ")"
   ]
  },
  {
   "cell_type": "markdown",
   "metadata": {},
   "source": [
    "#### Inspecting the Source Code of the Pulse-Sequence Creation Task\n",
    "\n",
    "You can inspect the source code of the `create_experiment` task defined in `ramsey` to see how the experiment pulse sequence is created using quantum operations. To learn more about the latter, see the Quantum Operations tutorial (add link)."
   ]
  },
  {
   "cell_type": "code",
   "execution_count": null,
   "metadata": {
    "scrolled": true
   },
   "outputs": [],
   "source": [
    "dispersive_shift.create_experiment.src"
   ]
  },
  {
   "cell_type": "markdown",
   "metadata": {},
   "source": [
    "To learn more about how to work with experiment `Workflows`, check out the [Experiment Workflows tutorial](../../../../tutorials/sources/experiment_workflows.ipynb).\n",
    "\n",
    "Here, let's briefly inspect the analysis-workflow results."
   ]
  },
  {
   "cell_type": "markdown",
   "metadata": {},
   "source": [
    "#### Analysis Results\n",
    "\n",
    "Let's check what tasks were run as part of the analysis workflow:"
   ]
  },
  {
   "cell_type": "code",
   "execution_count": null,
   "metadata": {},
   "outputs": [],
   "source": [
    "analysis_workflow_results = workflow_results.tasks[\"analysis_workflow\"]\n",
    "for t in analysis_workflow_results.tasks:\n",
    "    print(t)"
   ]
  },
  {
   "cell_type": "markdown",
   "metadata": {},
   "source": [
    "We can access the qubit parameters extracted by the analysis from the output of the analysis-workflow:"
   ]
  },
  {
   "cell_type": "code",
   "execution_count": null,
   "metadata": {},
   "outputs": [],
   "source": [
    "from pprint import pprint\n",
    "\n",
    "pprint(analysis_workflow_results.output)  # noqa: T203"
   ]
  },
  {
   "cell_type": "markdown",
   "metadata": {},
   "source": [
    "Check out the [Experiment Workflows tutorial](../../../../tutorials/sources/experiment_workflows.ipynb) to see how you can manually update the qubit parameters to these new values, or reset them to the old ones. "
   ]
  },
  {
   "cell_type": "markdown",
   "metadata": {},
   "source": [
    "Great! You've now run your dispersive-shift experiment. Check out other experiments in this manual to keep characterizing your qubits."
   ]
  }
 ],
 "metadata": {
  "kernelspec": {
   "display_name": "Python 3 (ipykernel)",
   "language": "python",
   "name": "python3"
  },
  "language_info": {
   "codemirror_mode": {
    "name": "ipython",
    "version": 3
   },
   "file_extension": ".py",
   "mimetype": "text/x-python",
   "name": "python",
   "nbconvert_exporter": "python",
   "pygments_lexer": "ipython3",
   "version": "3.12.4"
  }
 },
 "nbformat": 4,
 "nbformat_minor": 4
}
