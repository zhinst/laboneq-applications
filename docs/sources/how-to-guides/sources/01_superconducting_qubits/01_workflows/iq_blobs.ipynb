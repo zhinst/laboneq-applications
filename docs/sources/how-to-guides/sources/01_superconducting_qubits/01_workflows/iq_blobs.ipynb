{
    "cells": [
        {
            "cell_type": "markdown",
            "id": "3cd2ddc8",
            "metadata": {},
            "source": [
                "## How To Perform the IQ Blobs Experiment"
            ]
        },
        {
            "cell_type": "markdown",
            "id": "077f977a",
            "metadata": {},
            "source": [
                "### Prerequisites\n",
                "This guide assumes you have a configured `DeviceSetup` as well as `Qubit` objects with assigned parameters. Please see these guides (add links) if you need to create your setup and qubits for the first time. However, you can also run this notebook \"as is\" using an emulated session. If you are just getting started with the LabOne Q Applications Library, please don't hesitate to reach out to us at info@zhinst.com."
            ]
        },
        {
            "cell_type": "markdown",
            "id": "e941e317",
            "metadata": {},
            "source": [
                "### Background\n",
                "In this how-to guide, you'll investigate the complex response of qubit readout for different qubit states and display the results in the IQ-plane. The experiment itself is very simple: we prepare the qubit in the one of its basis states - g, e, or f - and perform single-shot measurements. \n",
                "\n",
                "Measurements on superconducting qubits such as Transmons are often based on dispersive readout. Here, the qubit (Qubit) itself is not directly probed, instead a resonator (Res), which is coupled capacitively to the qubit, is probed with a measure pulse close to its resonance frequency (see figure below). The amplitude and phase of the returning measure pulse (here transmitted) contain information about the qubit state.\n",
                "\n",
                "Here we use the effect that the readout resonator is sensitive to the qubit state as depicted by the transmitted amplitude and phase response of the readout resonator below. \n",
                "\n",
                "Note: In the dispersive limit, i.e., when the qubit frequency is far detuned from the resonance frequency of the resonator, there is no direct exchange of energy between the two systems. Hence, we minimize back action on the qubit (quantum non-demolition (QND) measurement).\n",
                "\n",
                "![Transmitted amplitude and phase response of the readout resonator coupled to a qubit in state g and state e. When the resonator is probed, the transmitted amplitude and phase contain information about the qubit state.](../../../images/dispersive_readout.svg \"Transmitted amplitude and phase response of the readout resonator coupled to a qubit in state g and state e. When the resonator is probed, the transmitted amplitude and phase contain information about the qubit state.\")\n",
                "\n",
                "### Measurements in the IQ-plane\n",
                "\n",
                "In the `iq_blobs` experiment we prepare the qubit in the one of its basis states - e.g. g or e - and perform single-shot measurements. \n",
                "For each single-shot measurement we demodulate and integrate the resonator response to obtain the in-phase ( $I$ ) and quadrature ( $Q$ ) component (link to qubit_readout explanation). Amplitude $A$ and phase $\\theta$ of a single-shot measurement are directly related to in-phase and quadrature components via \n",
                "\n",
                "$$ I = \\text{Re}[A\\cdot \\exp(i\\cdot \\theta)] $$\n",
                "\n",
                "$$ Q = \\text{Im}[A\\cdot \\exp(i\\cdot \\theta)] $$\n",
                "\n",
                "By repeating the single-shot measurements many times, we obtain the state distribution for each state in the complex plane. Below a schematic complex plane representation of states $g$ and $e$, composed of the in-phase ( $I$ ) and quadrature ( $Q$ ) components. \n",
                "\n",
                "![Complex plane representation of states g and e composed of the in-phase (I) and quadrature (Q) components of the transmitted amplitude and phase response of the readout resonator.](../../../images/dispersive_readout_2.svg \"Complex plane representation of states g and e composed of the in-phase (I) and quadrature (Q) components of the transmitted amplitude and phase response of the readout resonator.\")\n",
                "\n",
                "A good starting point for the readout frequency is given by the readout resonator frequency with the qubit in the ground state $g$.  \n",
                "\n",
                "\n",
                "\n",
                "\n"
            ]
        },
        {
            "cell_type": "markdown",
            "id": "902d02cf",
            "metadata": {},
            "source": [
                "### Import \n",
                "\n",
                "You'll start by importing the `iq_blobs` experiment from `laboneq_applications`, as well as `laboneq.simple` and a demo QPU and device setup to run in emulation mode."
            ]
        },
        {
            "cell_type": "code",
            "execution_count": null,
            "id": "81080932",
            "metadata": {},
            "outputs": [],
            "source": [
                "from laboneq.contrib.example_helpers.plotting.plot_helpers import plot_simulation\n",
                "from laboneq.simple import *\n",
                "\n",
                "from laboneq_applications.experiments import iq_blobs\n",
                "from laboneq_applications.qpu_types.tunable_transmon.demo_qpus import demo_platform"
            ]
        },
        {
            "cell_type": "markdown",
            "id": "fe9b7590",
            "metadata": {},
            "source": [
                "### QPU and Device Setup\n",
                "\n",
                "You'll generate six qubits with pre-defined parameters, as well as a `Device_Setup` consisting of a SHFQC+, HDAWG, and PQSC. If you already have your own `DeviceSetup` and qubits configured, you'll instead initialize the session using your setup."
            ]
        },
        {
            "cell_type": "code",
            "execution_count": null,
            "id": "24ef9c07",
            "metadata": {},
            "outputs": [],
            "source": [
                "my_platform = demo_platform(6)"
            ]
        },
        {
            "cell_type": "markdown",
            "id": "beca7f46",
            "metadata": {},
            "source": [
                "Then, you'll connect to the `Session`. Here we connect to an emulated one:"
            ]
        },
        {
            "cell_type": "code",
            "execution_count": null,
            "id": "49bdd444",
            "metadata": {},
            "outputs": [],
            "source": [
                "session = Session(my_platform.setup)\n",
                "session.connect(do_emulation=True)"
            ]
        },
        {
            "cell_type": "markdown",
            "id": "2ace9df0",
            "metadata": {},
            "source": [
                "### Running the IQ blob Workflow\n",
                "\n",
                "You'll now make the experiment workflow and run:"
            ]
        },
        {
            "cell_type": "code",
            "execution_count": null,
            "id": "d09f8a33",
            "metadata": {},
            "outputs": [],
            "source": [
                "# our qubits live here in the demo setup:\n",
                "qubits = my_platform.qpu.qubits\n",
                "\n",
                "options = iq_blobs.experiment_workflow.options()\n",
                "my_workflow = iq_blobs.experiment_workflow(\n",
                "    session,\n",
                "    qpu = my_platform.qpu,\n",
                "    qubits = [qubits[0],qubits[1]],\n",
                "    states = \"gef\",\n",
                "    options=options,\n",
                ")\n",
                "\n",
                "result = my_workflow.run()"
            ]
        },
        {
            "cell_type": "markdown",
            "id": "fb3bd883",
            "metadata": {},
            "source": [
                "#### Output Simulation\n",
                "\n",
                "You can also inspect the compiled experiment and plot the simulated output:"
            ]
        },
        {
            "cell_type": "code",
            "execution_count": null,
            "id": "ad6e835a-f542-4651-ae1b-02d7b4abb093",
            "metadata": {},
            "outputs": [],
            "source": [
                "plot_simulation(\n",
                "    result.tasks[\"compile_experiment\"].output,\n",
                "    signal_names_to_show=[\"drive\", \"measure\"],\n",
                "    start_time=0,\n",
                "    length=12e-6,\n",
                ")"
            ]
        },
        {
            "cell_type": "markdown",
            "id": "2ecb2a90",
            "metadata": {},
            "source": [
                "#### Inspecting the Source Code\n",
                "\n",
                "You can inspect the source code of the `create_experiment` task defined in `iq_blobs` to see how the experiment pulse sequence is created:"
            ]
        },
        {
            "cell_type": "code",
            "execution_count": null,
            "id": "34f82afd",
            "metadata": {},
            "outputs": [],
            "source": [
                "iq_blobs.create_experiment.src"
            ]
        },
        {
            "cell_type": "markdown",
            "id": "53aaaef0",
            "metadata": {},
            "source": [
                "### Changing the Options\n",
                "\n",
                "We can give our `iq_blobs` experiment options. First, inspect what they currently are:"
            ]
        },
        {
            "cell_type": "code",
            "execution_count": null,
            "id": "324ea219",
            "metadata": {},
            "outputs": [],
            "source": [
                "my_new_opts = iq_blobs.experiment_workflow.options()\n",
                "my_new_opts"
            ]
        },
        {
            "cell_type": "markdown",
            "id": "815b0741",
            "metadata": {},
            "source": [
                "Then provide new options. This time, you'll change the counts."
            ]
        },
        {
            "cell_type": "code",
            "execution_count": null,
            "id": "b64d3093",
            "metadata": {},
            "outputs": [],
            "source": [
                "my_new_opts.count(2048)\n",
                "my_new_opts"
            ]
        },
        {
            "cell_type": "markdown",
            "id": "8241449e",
            "metadata": {},
            "source": [
                "#### Run the workflow with updated options\n",
                "\n",
                "Now, run the workflow with new options and inspect the simulated output."
            ]
        },
        {
            "cell_type": "code",
            "execution_count": null,
            "id": "78ea83a2",
            "metadata": {},
            "outputs": [],
            "source": [
                "my_new_workflow = iq_blobs.experiment_workflow(\n",
                "    session=session,\n",
                "    qpu=my_platform.qpu,\n",
                "    qubits=[qubits[0], qubits[1]],\n",
                "    states = \"gef\",\n",
                "    options=my_new_opts,\n",
                ")\n",
                "\n",
                "my_new_results = my_new_workflow.run()\n",
                "new_compiled_iq_blobs = my_new_results.tasks[\"compile_experiment\"].output\n",
                "plot_simulation(new_compiled_iq_blobs, length=12e-6)"
            ]
        },
        {
            "cell_type": "markdown",
            "id": "8e6c18ce",
            "metadata": {},
            "source": [
                "### Temporary settings\n",
                "\n",
                "The qubit parameters are used to control the settings of pulses and instruments during the experiment. We can run the IQ blobs experiment with different settings by passing it a copy of the qubits with modified parameters:"
            ]
        },
        {
            "cell_type": "code",
            "execution_count": null,
            "id": "d5422101",
            "metadata": {},
            "outputs": [],
            "source": [
                "# Make a copy of the qubits\n",
                "temp_qubits = my_platform.qpu.copy_qubits()\n",
                "# Change the length of the drive pulses\n",
                "temp_qubits[0].parameters.ge_drive_length = 1000e-9\n",
                "temp_qubits[1].parameters.ge_drive_length = 1000e-9\n",
                "temp_qubits[0].parameters.ef_drive_length = 1000e-9\n",
                "temp_qubits[1].parameters.ef_drive_length = 1000e-9\n",
                "\n",
                "my_new_workflow = iq_blobs.experiment_workflow(\n",
                "    session=session,\n",
                "    qpu=my_platform.qpu,\n",
                "    qubits=[temp_qubits[0], temp_qubits[1]],  # pass temporary qubits\n",
                "    states=\"gef\",\n",
                "    options=my_new_opts,\n",
                ")\n",
                "\n",
                "my_new_results = my_new_workflow.run()\n",
                "new_compiled_iq_blobs = my_new_results.tasks[\"compile_experiment\"].output\n",
                "plot_simulation(new_compiled_iq_blobs, length=10e-6)"
            ]
        },
        {
            "cell_type": "code",
            "execution_count": null,
            "id": "4139f247",
            "metadata": {},
            "outputs": [],
            "source": []
        },
        {
            "cell_type": "code",
            "execution_count": null,
            "id": "6ec89bac",
            "metadata": {},
            "outputs": [],
            "source": []
        },
        {
            "cell_type": "markdown",
            "id": "4da5543f",
            "metadata": {},
            "source": [
                "Great! You've now run your IQ blobs experiment. Check out these other experiments to keep characterizing your qubits:"
            ]
        },
        {
            "cell_type": "code",
            "execution_count": null,
            "id": "9094d50f",
            "metadata": {},
            "outputs": [],
            "source": [
                "# TODO: Add experiment links\n",
                "# TODO: Add Analysis"
            ]
        },
        {
            "cell_type": "code",
            "execution_count": null,
            "id": "81f022bc",
            "metadata": {},
            "outputs": [],
            "source": []
        }
    ],
    "metadata": {
        "jupytext": {
            "cell_metadata_filter": "-all",
            "main_language": "python",
            "notebook_metadata_filter": "-all"
        },
        "kernelspec": {
            "display_name": "Python 3 (ipykernel)",
            "language": "python",
            "name": "python3"
        },
        "language_info": {
            "codemirror_mode": {
                "name": "ipython",
                "version": 3
            },
            "file_extension": ".py",
            "mimetype": "text/x-python",
            "name": "python",
            "nbconvert_exporter": "python",
            "pygments_lexer": "ipython3",
            "version": "3.12.4"
        }
    },
    "nbformat": 4,
    "nbformat_minor": 5
}
