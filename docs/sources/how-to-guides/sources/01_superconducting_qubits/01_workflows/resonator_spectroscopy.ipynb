{
    "cells": [
        {
            "cell_type": "markdown",
            "metadata": {},
            "source": [
                "## How To Perform an Resonator Spectroscopy Experiment"
            ]
        },
        {
            "cell_type": "markdown",
            "metadata": {},
            "source": [
                "### Prerequisites\n",
                "This guide assumes you have a configured `DeviceSetup` as well as `Qubit` objects with assigned parameters. Please see these guides (add links) if you need to create your setup and qubits for the first time. However, you can also run this notebook \"as is\" using an emulated session. If you are just getting started with the LabOne Q Applications Library, please don't hesitate to reach out to us at info@zhinst.com."
            ]
        },
        {
            "cell_type": "markdown",
            "metadata": {},
            "source": [
                "### Background\n",
                "In this how-to guide, you'll perform a measurement to find the optimal response frequency of a resonator to maximize signal-to-noise for a qubit measurement. The LabOne Q Applications Library provides different experiment workflows to achieve this task. You can either just sweep the frequency of a measure-pulse using the `resonator_spectroscopy` experiment workflow, or perform a 2D sweep to optimize at the same time the amplitude of the measure-pulse (the `resonator_spectroscopy_amplitude` experiment workflow). The measure-pulse modulated at different frequencies will be sent on a readout line traversing multiple resonators each coupled with one qubit.\n",
                "\n",
                "When isolated, a superconducting resonator can be fully described simply by the magnetic flux threaded through the inductor $\\phi$ and the difference $n$ in the number of charges on the two plates of the capacitor in units of Copper pairs. In this case, the resulting Hamiltonian will be\n",
                "\n",
                "$$H = \\frac{E_L}{2}\\phi^2 + 4 E_C n^2$$\n",
                "\n",
                "The above Hamiltonian is changed when the resonator is in contact with an external environment, consisting of coupling to other quantum elements and other undesired interactions with a dissipative bath. This more general Hamiltonian can be simplified in the limit where the resonator and the quantum element are far detuned and there is weak anharmonicity. In this regime, the net effect of this interaction will be a shift in the frequency of both quantum elements due to the Lamb shift. For small couplings, the change in frequency for the resonator will be\n",
                "\n",
                "$$\\omega^{1}_R \\approx \\omega_R + \\frac{g^2}{\\Delta}$$\n",
                "\n",
                "where $g$ is the coupling between the two elements and $\\Delta$ is their difference in frequency. This frequency shift effectively allows us to measure the state of a quantum element by checking the response of its coupled resonator. This method is called *dispersive readout*.\n",
                "\n",
                "![](../../../images/resonators_and_qubits.svg \"Sketch of the layout of a simple chip with each qubits coupled to a resonator.\")\n",
                "\n",
                "Given this context, we see now that the scope of this experiment workflow is to characterize the resonator at a particular qubit state, typically when this is in its ground state, by looking at the response in the readout line to different frequencies. In practice, the exact response depends on the details of the circuit. Here is an example of how data would look like when several resonators are connected to the same line:\n",
                "\n",
                "![](<../../../images/resonator_result.png> \"Plot of Resonator spectroscopy where the different frequencies scanned are depicted on the x-axis and the absolute value of the integration is presented in the y-axis.\")"
            ]
        },
        {
            "cell_type": "markdown",
            "metadata": {},
            "source": [
                "### Imports\n",
                "\n",
                "You'll start by importing the resonator spectroscopy experiment workflows from `laboneq_applications`, as well as `laboneq.simple` and a demo QPU and device setup to run in emulation mode."
            ]
        },
        {
            "cell_type": "code",
            "execution_count": 1,
            "metadata": {},
            "outputs": [],
            "source": [
                "import numpy as np\n",
                "from laboneq.contrib.example_helpers.plotting.plot_helpers import plot_simulation\n",
                "from laboneq.simple import *\n",
                "\n",
                "from laboneq_applications.experiments import (\n",
                "    resonator_spectroscopy,\n",
                "    resonator_spectroscopy_amplitude,\n",
                ")\n",
                "from laboneq_applications.qpu_types.tunable_transmon.demo_qpus import demo_platform"
            ]
        },
        {
            "cell_type": "markdown",
            "metadata": {},
            "source": [
                "### QPU and Device Setup\n",
                "\n",
                "You'll generate six qubits with pre-defined parameters, as well as a `Device_Setup` consisting of a SHFQC+, HDAWG, and PQSC. If you already have your own `DeviceSetup` and qubits configured, you'll instead initialize the session using your setup."
            ]
        },
        {
            "cell_type": "code",
            "execution_count": 2,
            "metadata": {},
            "outputs": [],
            "source": [
                "my_platform = demo_platform(6)"
            ]
        },
        {
            "cell_type": "markdown",
            "metadata": {},
            "source": [
                "Then, you'll connect to the `Session`. Here we connect to an emulated one:"
            ]
        },
        {
            "cell_type": "code",
            "execution_count": null,
            "metadata": {},
            "outputs": [],
            "source": [
                "session = Session(my_platform.setup)\n",
                "session.connect(do_emulation=True)"
            ]
        },
        {
            "cell_type": "markdown",
            "metadata": {},
            "source": [
                "### Running the Resonator Spectroscopy Workflow\n",
                "\n",
                "You'll now make the experiment workflow and run:"
            ]
        },
        {
            "cell_type": "code",
            "execution_count": null,
            "metadata": {},
            "outputs": [],
            "source": [
                "# our qubits live here in the demo setup:\n",
                "qubit = my_platform.qpu.qubits[0]\n",
                "\n",
                "my_workflow = resonator_spectroscopy.experiment_workflow(\n",
                "    session=session,\n",
                "    qpu=my_platform.qpu,\n",
                "    qubit=qubit,\n",
                "    frequencies=np.linspace(6.8e9, 7.2e9, 1001),\n",
                ")\n",
                "\n",
                "my_results = my_workflow.run()"
            ]
        },
        {
            "cell_type": "markdown",
            "metadata": {},
            "source": [
                "#### Output Simulation\n",
                "\n",
                "You can also inspect the compiled experiment and plot the simulated output. Remember that since no kernel are used, the OutputSimulator won't show anything in the acquire line."
            ]
        },
        {
            "cell_type": "code",
            "execution_count": null,
            "metadata": {},
            "outputs": [],
            "source": [
                "compiled_resonator_spectroscopy = my_results.tasks[\"compile_experiment\"].output\n",
                "plot_simulation(\n",
                "    compiled_resonator_spectroscopy, length=50e-6, signal_names_to_show=[\"measure\"]\n",
                ")"
            ]
        },
        {
            "cell_type": "markdown",
            "metadata": {},
            "source": [
                "#### Inspecting the Source Code\n",
                "\n",
                "You can inspect the source code of the `create_experiment` task defined in `resonator_spectroscopy` to see how the experiment pulse sequence is created:"
            ]
        },
        {
            "cell_type": "code",
            "execution_count": null,
            "metadata": {
                "scrolled": true
            },
            "outputs": [],
            "source": [
                "resonator_spectroscopy.create_experiment.src"
            ]
        },
        {
            "cell_type": "markdown",
            "metadata": {},
            "source": [
                "### Changing the Options\n",
                "\n",
                "We can give our Resonator spectroscopy experiment options. First, inspect what they currently are:"
            ]
        },
        {
            "cell_type": "code",
            "execution_count": null,
            "metadata": {},
            "outputs": [],
            "source": [
                "my_new_opts = resonator_spectroscopy.experiment_workflow.options()\n",
                "my_new_opts"
            ]
        },
        {
            "cell_type": "markdown",
            "metadata": {},
            "source": [
                "Then provide new options. This time, you'll reduce the waiting time between shots."
            ]
        },
        {
            "cell_type": "code",
            "execution_count": null,
            "metadata": {},
            "outputs": [],
            "source": [
                "my_new_opts.count(2048)\n",
                "my_new_opts.spectroscopy_reset_delay(100e-9)\n",
                "my_new_opts"
            ]
        },
        {
            "cell_type": "markdown",
            "metadata": {},
            "source": [
                "#### Run the workflow with updated options\n",
                "\n",
                "Now, run the workflow with new options and inspect the simulated output. You'll notice that the delay between shots is now smaller."
            ]
        },
        {
            "cell_type": "code",
            "execution_count": null,
            "metadata": {},
            "outputs": [],
            "source": [
                "my_new_workflow = resonator_spectroscopy.experiment_workflow(\n",
                "    session=session,\n",
                "    qpu=my_platform.qpu,\n",
                "    qubit=qubit,\n",
                "    frequencies=np.linspace(6.5e9, 7.5e9, 1001),\n",
                "    options=my_new_opts,\n",
                ")\n",
                "\n",
                "my_new_results = my_new_workflow.run()\n",
                "new_compiled_res_spec = my_new_results.tasks[\"compile_experiment\"].output\n",
                "plot_simulation(new_compiled_res_spec, length=50e-6, signal_names_to_show=[\"measure\"])"
            ]
        },
        {
            "cell_type": "markdown",
            "metadata": {},
            "source": [
                "### Temporary settings\n",
                "\n",
                "The qubit parameters are used to control the settings of pulses and instruments during the experiment. We can run the resonator spectroscopy experiment with different settings by passing it a copy of the qubit with modified parameters:"
            ]
        },
        {
            "cell_type": "code",
            "execution_count": null,
            "metadata": {
                "scrolled": true
            },
            "outputs": [],
            "source": [
                "# Make a copy of the qubits\n",
                "temp_qubits = my_platform.qpu.copy_qubits()\n",
                "temp_qubit = temp_qubits[0]\n",
                "# Change the value of the LO to allow for another range to be swept\n",
                "temp_qubit.parameters.readout_lo_frequency = 4e9\n",
                "temp_qubit.parameters.readout_resonator_frequency = 4.1e9\n",
                "# increase length of the readout pulse\n",
                "temp_qubit.parameters.readout_length = 10e-6\n",
                "\n",
                "my_new_workflow = resonator_spectroscopy.experiment_workflow(\n",
                "    session=session,\n",
                "    qpu=my_platform.qpu,\n",
                "    qubit=temp_qubit,  # pass temporary qubits\n",
                "    frequencies=np.linspace(3.5e9, 4.5e9, 1001),\n",
                "    options=my_new_opts,\n",
                ")\n",
                "\n",
                "my_new_results = my_new_workflow.run()\n",
                "new_compiled_res_spec = my_new_results.tasks[\"compile_experiment\"].output\n",
                "plot_simulation(new_compiled_res_spec, length=50e-6)"
            ]
        },
        {
            "cell_type": "markdown",
            "metadata": {},
            "source": [
                "### Sweep the amplitude at the same time\n",
                "\n",
                "Getting back to our found parameters, we now repeat the workflow while sweeping the amplitude at the same time. Since the analysis and the interface are different, a dedicated workflow is used, but the input only differs slightly. Consider that since the amplitude is swept in near-time, the change in amplitude will not be visible in the OutputSimulator"
            ]
        },
        {
            "cell_type": "code",
            "execution_count": null,
            "metadata": {},
            "outputs": [],
            "source": [
                "my_workflow = resonator_spectroscopy_amplitude.experiment_workflow(\n",
                "    session=session,\n",
                "    qpu=my_platform.qpu,\n",
                "    qubit=qubit,\n",
                "    frequencies=np.linspace(6.5e9, 7.5e9, 1001),\n",
                "    amplitudes=np.linspace(0.1, 0.9, 10),\n",
                ")\n",
                "\n",
                "my_results = my_workflow.run()"
            ]
        },
        {
            "cell_type": "markdown",
            "metadata": {},
            "source": [
                "Great! You've now run your Resonator Spectroscopy experiment. Check out these other experiments to keep characterizing your qubits:"
            ]
        },
        {
            "cell_type": "code",
            "execution_count": 12,
            "metadata": {},
            "outputs": [],
            "source": [
                "# TODO: Add experiment links\n",
                "# TODO: Add Analysis"
            ]
        },
        {
            "cell_type": "code",
            "execution_count": null,
            "metadata": {},
            "outputs": [],
            "source": []
        }
    ],
    "metadata": {
        "kernelspec": {
            "display_name": "Python 3 (ipykernel)",
            "language": "python",
            "name": "python3"
        },
        "language_info": {
            "codemirror_mode": {
                "name": "ipython",
                "version": 3
            },
            "file_extension": ".py",
            "mimetype": "text/x-python",
            "name": "python",
            "nbconvert_exporter": "python",
            "pygments_lexer": "ipython3",
            "version": "3.11.8"
        }
    },
    "nbformat": 4,
    "nbformat_minor": 4
}
