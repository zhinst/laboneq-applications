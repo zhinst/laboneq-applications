{
    "cells": [
        {
            "cell_type": "markdown",
            "metadata": {},
            "source": [
                "## How To Perform an Amplitude Rabi Experiment"
            ]
        },
        {
            "cell_type": "markdown",
            "metadata": {},
            "source": [
                "### Prerequisites\n",
                "This guide assumes you have a configured `DeviceSetup` as well as `Qubit` objects with assigned parameters. Please see these guides (add links) if you need to create your setup and qubits for the first time. However, you can also run this notebook \"as is\" using an emulated session. If you are just getting started with the LabOne Q Applications Library, please don't hesitate to reach out to us at info@zhinst.com."
            ]
        },
        {
            "cell_type": "markdown",
            "metadata": {},
            "source": [
                "### Background\n",
                "In this how-to guide, you'll perform a measurement to find the optimal pulse amplidue to induce a $\\pi$-rotation for a given qubit transition using the `amplitude_rabi` experiment included in the LabOne Q Applications Library. In an amplitude-Rabi experiment, you'll vary the drive-pulse amplitude, $A$, and measure the state of the qubit as it rotates around the Bloch sphere depending on $A$, as depicted below. \n",
                "\n",
                "![](../../../images/rabi_pulses_and_sphere.svg \"Demonstration of pulses and the corresponding rotation around the Bloch sphere during an amplitude Rabi experiment.\")\n",
                "\n",
                "For a qubit oscialling between the ground state, $\\ket{0}$, and excited state, $\\ket{1}$, the population behaves depends on the drive-pulse amplitude according to:\n",
                "\n",
                "$$\\rho(\\ket{1}) = sin^2 \\bigg(\\int_{0}^{\\tau}\\frac{\\Omega_{R}(A)}{2}dt \\bigg) = sin^2\\bigg(\\frac{\\theta}{2}\\bigg)$$\n",
                "\n",
                "This results in data that will, ignoring any other effects, look like:\n",
                "\n",
                "![](<../../../images/rabi_plot.svg> \"Plot of Rabi oscillations with the population of the excited state on the left axis and the pulse amplitude on the bottom axis. Measurement points are depicted as cyan circles.\")"
            ]
        },
        {
            "cell_type": "markdown",
            "metadata": {},
            "source": [
                "### Imports\n",
                "\n",
                "You'll start by importing the amplitude-Rabi experiment from `laboneq_applications`, as well as `laboneq.simple` and a demo QPU and device setup to run in emulation mode."
            ]
        },
        {
            "cell_type": "code",
            "execution_count": 1,
            "metadata": {},
            "outputs": [],
            "source": [
                "from laboneq.contrib.example_helpers.plotting.plot_helpers import plot_simulation\n",
                "from laboneq.simple import *\n",
                "\n",
                "from laboneq_applications.experiments import amplitude_rabi\n",
                "from laboneq_applications.qpu_types.tunable_transmon.demo_qpus import demo_platform"
            ]
        },
        {
            "cell_type": "markdown",
            "metadata": {},
            "source": [
                "### QPU and Device Setup\n",
                "\n",
                "You'll generate six qubits with pre-defined parameters, as well as a `Device_Setup` consisting of a SHFQC+, HDAWG, and PQSC. If you already have your own `DeviceSetup` and qubits configured, you'll instead initialize the session using your setup."
            ]
        },
        {
            "cell_type": "code",
            "execution_count": 2,
            "metadata": {},
            "outputs": [],
            "source": [
                "my_platform = demo_platform(6)"
            ]
        },
        {
            "cell_type": "markdown",
            "metadata": {},
            "source": [
                "Then, you'll connect to the `Session`. Here we connect to an emulated one:"
            ]
        },
        {
            "cell_type": "code",
            "execution_count": null,
            "metadata": {},
            "outputs": [],
            "source": [
                "session = Session(my_platform.setup)\n",
                "session.connect(do_emulation=True)"
            ]
        },
        {
            "cell_type": "markdown",
            "metadata": {},
            "source": [
                "### Running the Rabi Workflow\n",
                "\n",
                "You'll now make the experiment workflow and run:"
            ]
        },
        {
            "cell_type": "code",
            "execution_count": null,
            "metadata": {},
            "outputs": [],
            "source": [
                "# our qubits live here in the demo setup:\n",
                "qubits = my_platform.qpu.qubits\n",
                "\n",
                "default_opts = amplitude_rabi.experiment_workflow.options()\n",
                "default_opts.do_analysis(False)\n",
                "\n",
                "my_workflow = amplitude_rabi.experiment_workflow(\n",
                "    session=session,\n",
                "    qpu=my_platform.qpu,\n",
                "    qubits=[qubits[0], qubits[1]],\n",
                "    amplitudes=[[0, 0.25, 0.5, 0.75, 1], [0, 0.25, 0.5, 0.75, 1]],\n",
                "    options=default_opts,\n",
                ")\n",
                "\n",
                "my_results = my_workflow.run()"
            ]
        },
        {
            "cell_type": "markdown",
            "metadata": {},
            "source": [
                "#### Output Simulation\n",
                "\n",
                "You can also inspect the compiled experiment and plot the simulated output:"
            ]
        },
        {
            "cell_type": "code",
            "execution_count": null,
            "metadata": {},
            "outputs": [],
            "source": [
                "compiled_rabi = my_results.tasks[\"compile_experiment\"].output\n",
                "plot_simulation(compiled_rabi, length=50e-6)"
            ]
        },
        {
            "cell_type": "markdown",
            "metadata": {},
            "source": [
                "#### Inspecting the Source Code\n",
                "\n",
                "You can inspect the source code of the `create_experiment` task defined in `amplitude_rabi` to see how the experiment pulse sequence is created:"
            ]
        },
        {
            "cell_type": "code",
            "execution_count": null,
            "metadata": {
                "scrolled": true
            },
            "outputs": [],
            "source": [
                "amplitude_rabi.create_experiment.src"
            ]
        },
        {
            "cell_type": "markdown",
            "metadata": {},
            "source": [
                "### Changing the Options\n",
                "\n",
                "We can give our Rabi experiment options. First, inspect what they currently are:"
            ]
        },
        {
            "cell_type": "code",
            "execution_count": null,
            "metadata": {},
            "outputs": [],
            "source": [
                "my_new_opts = amplitude_rabi.experiment_workflow.options()\n",
                "my_new_opts"
            ]
        },
        {
            "cell_type": "markdown",
            "metadata": {},
            "source": [
                "Then provide new options. This time, you'll remove the calibration traces and change the counts."
            ]
        },
        {
            "cell_type": "code",
            "execution_count": null,
            "metadata": {},
            "outputs": [],
            "source": [
                "my_new_opts.count(2048)\n",
                "my_new_opts.use_cal_traces(value=False)\n",
                "my_new_opts.do_analysis(False)\n",
                "my_new_opts"
            ]
        },
        {
            "cell_type": "markdown",
            "metadata": {},
            "source": [
                "#### Run the workflow with updated options\n",
                "\n",
                "Now, run the workflow with new options and inspect the simulated output. You'll notice that the calibration traces are no longer there."
            ]
        },
        {
            "cell_type": "code",
            "execution_count": null,
            "metadata": {},
            "outputs": [],
            "source": [
                "my_new_workflow = amplitude_rabi.experiment_workflow(\n",
                "    session=session,\n",
                "    qpu=my_platform.qpu,\n",
                "    qubits=[qubits[0], qubits[1]],\n",
                "    amplitudes=[[0, 0.25, 0.5, 0.75, 1], [0, 0.25, 0.5, 0.75, 1]],\n",
                "    options=my_new_opts,\n",
                ")\n",
                "\n",
                "my_new_results = my_new_workflow.run()\n",
                "new_compiled_rabi = my_new_results.tasks[\"compile_experiment\"].output\n",
                "plot_simulation(new_compiled_rabi, length=50e-6)"
            ]
        },
        {
            "cell_type": "markdown",
            "metadata": {},
            "source": [
                "### Temporary settings\n",
                "\n",
                "The qubit parameters are used to control the settings of pulses and instruments during the experiment. We can run the amplitude-Rabi experiment with different settings by passing it a copy of the qubits with modified parameters:"
            ]
        },
        {
            "cell_type": "code",
            "execution_count": null,
            "metadata": {
                "scrolled": true
            },
            "outputs": [],
            "source": [
                "# Make a copy of the qubits\n",
                "temp_qubits = my_platform.qpu.copy_qubits()\n",
                "# Change the length of the drive pulses\n",
                "temp_qubits[0].parameters.ge_drive_length = 1000e-9\n",
                "temp_qubits[1].parameters.ge_drive_length = 1000e-9\n",
                "\n",
                "my_new_workflow = amplitude_rabi.experiment_workflow(\n",
                "    session=session,\n",
                "    qpu=my_platform.qpu,\n",
                "    qubits=[temp_qubits[0], temp_qubits[1]],  # pass temporary qubits\n",
                "    amplitudes=[[0, 0.25, 0.5, 0.75, 1], [0, 0.25, 0.5, 0.75, 1]],\n",
                "    options=my_new_opts,\n",
                ")\n",
                "\n",
                "my_new_results = my_new_workflow.run()\n",
                "new_compiled_rabi = my_new_results.tasks[\"compile_experiment\"].output\n",
                "plot_simulation(new_compiled_rabi, length=10e-6)"
            ]
        },
        {
            "cell_type": "code",
            "execution_count": null,
            "metadata": {},
            "outputs": [],
            "source": []
        },
        {
            "cell_type": "code",
            "execution_count": null,
            "metadata": {},
            "outputs": [],
            "source": []
        },
        {
            "cell_type": "markdown",
            "metadata": {},
            "source": [
                "Great! You've now run your Rabi experiment. Check out these other experiments to keep characterizing your qubits:"
            ]
        },
        {
            "cell_type": "code",
            "execution_count": null,
            "metadata": {},
            "outputs": [],
            "source": [
                "# TODO: Add experiment links\n",
                "# TODO: Add Analysis"
            ]
        },
        {
            "cell_type": "code",
            "execution_count": null,
            "metadata": {},
            "outputs": [],
            "source": []
        }
    ],
    "metadata": {
        "kernelspec": {
            "display_name": "Python 3 (ipykernel)",
            "language": "python",
            "name": "python3"
        },
        "language_info": {
            "codemirror_mode": {
                "name": "ipython",
                "version": 3
            },
            "file_extension": ".py",
            "mimetype": "text/x-python",
            "name": "python",
            "nbconvert_exporter": "python",
            "pygments_lexer": "ipython3",
            "version": "3.11.8"
        }
    },
    "nbformat": 4,
    "nbformat_minor": 4
}
