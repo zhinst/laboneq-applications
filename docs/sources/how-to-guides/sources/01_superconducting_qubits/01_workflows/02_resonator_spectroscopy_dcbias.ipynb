{
 "cells": [
  {
   "cell_type": "markdown",
   "metadata": {},
   "source": [
    "# Resonator Spectroscopy with DC Bias"
   ]
  },
  {
   "cell_type": "markdown",
   "metadata": {},
   "source": [
    "### Prerequisites\n",
    "This guide assumes you have a configured `DeviceSetup` as well as `Qubit` objects with assigned parameters. Please see [our tutorials](https://docs.zhinst.com/labone_q_user_manual/applications_library/tutorials/index.html) if you need to create your setup and qubits for the first time. However, you can also run this notebook \"as is\" using an emulated session. If you are just getting started with the LabOne Q Applications Library, please don't hesitate to reach out to us at info@zhinst.com."
   ]
  },
  {
   "cell_type": "markdown",
   "metadata": {},
   "source": [
    "### Background\n",
    "In this notebook, we will learn how to extend the workflow of resonator spectroscopy to include the sweep of the dc bias provided by a third party instruments. In this tutorial, we will in order do the following:\n",
    "\n",
    "- Extend a Tunable Transmon functionality to include the property of DC bias\n",
    "- Learn how to create a new Quantum Operation to sweep the bias how a Tunable Transmon and include it in our standard set of operations\n",
    "- Learn how to manipulate third-party devices using neartime-callback functions inside Quantum Operations\n",
    "- Build a new Workflow that exploit the new functionalities"
   ]
  },
  {
   "cell_type": "markdown",
   "metadata": {},
   "source": [
    "### Imports\n",
    "\n",
    "You'll start by importing `laboneq.simple` and a demo QPU and device setup to run in emulation mode."
   ]
  },
  {
   "cell_type": "code",
   "execution_count": null,
   "metadata": {},
   "outputs": [],
   "source": [
    "from __future__ import annotations\n",
    "\n",
    "import numpy as np\n",
    "from laboneq.simple import *"
   ]
  },
  {
   "cell_type": "markdown",
   "metadata": {},
   "source": [
    "### Define your experimental setup\n",
    "\n",
    "Let's define our experimental setup. We will need:\n",
    "\n",
    "* a [DeviceSetup](https://docs.zhinst.com/labone_q_user_manual/core/functionality_and_concepts/00_device_setup/concepts/00_set_up_equipment.html#devicesetup)\n",
    "\n",
    "* `n` [TunableTransmonQubits](https://docs.zhinst.com/labone_q_user_manual/applications_library/reference/qpu_types/tunable_transmon.html#laboneq_applications.qpu_types.tunable_transmon.TunableTransmonQubit)\n",
    "\n",
    "* a set of [TunableTransmonOperations](https://docs.zhinst.com/labone_q_user_manual/applications_library/reference/qpu_types/tunable_transmon.html#laboneq_applications.qpu_types.tunable_transmon.TunableTransmonOperations)\n",
    "\n",
    "* a [QPU](https://docs.zhinst.com/labone_q_user_manual/core/reference/dsl/quantum.html#laboneq.dsl.quantum.qpu.QPU)"
   ]
  },
  {
   "cell_type": "markdown",
   "metadata": {},
   "source": [
    "Here, we will be brief. We will mainly provide the code to obtain these objects. To learn more, check out these other tutorials:\n",
    "\n",
    "* Details about [defining your experimental setup](https://docs.zhinst.com/labone_q_user_manual/applications_library/tutorials/sources/getting_started.html)\n",
    "\n",
    "* [Qubit parameters and how quantum operations use them](https://docs.zhinst.com/labone_q_user_manual/applications_library/tutorials/sources/quantum_operations.html)\n",
    "\n",
    "* [Quantum operations in general](https://docs.zhinst.com/labone_q_user_manual/core/functionality_and_concepts/03_sections_pulses_and_quantum_operations/concepts/08_quantum_operations.html)\n",
    "\n",
    "* [Logbooks and data saving with Workflows](https://docs.zhinst.com/labone_q_user_manual/applications_library/tutorials/sources/logbooks.html)"
   ]
  },
  {
   "cell_type": "markdown",
   "metadata": {},
   "source": [
    "We will use 3 `TunableTransmonQubits` in this guide. Change this number to the one describing your setup."
   ]
  },
  {
   "cell_type": "code",
   "execution_count": null,
   "metadata": {},
   "outputs": [],
   "source": [
    "number_of_qubits = 3"
   ]
  },
  {
   "cell_type": "markdown",
   "metadata": {},
   "source": [
    "#### DeviceSetup\n",
    "\n",
    "This guide requires a setup that can drive and readout tunable transmon qubits. Your setup could contain an SHFQC+ instrument, or an SHFSG and an SHFQA instruments. Here, we will use an SHFQC+ with 6 signal generation channels and a PQSC.\n",
    "\n",
    "If you have used LabOne Q before and already have a `DeviceSetup` for your setup, you can reuse that.\n",
    "\n",
    "If you do not have a `DeviceSetup`, you can create one using the code below. Just change the device numbers to the ones in your rack and adjust any other input parameters as needed."
   ]
  },
  {
   "cell_type": "code",
   "execution_count": null,
   "metadata": {},
   "outputs": [],
   "source": [
    "# Setting get_zsync=True below, automatically detects the zsync ports of the PQCS that\n",
    "# are used by the other instruments in this descriptor.\n",
    "# Here, we are not connected to instruments, so we set this flag to False.\n",
    "from laboneq.contrib.example_helpers.generate_descriptor import generate_descriptor\n",
    "\n",
    "descriptor = generate_descriptor(\n",
    "    pqsc=[\"DEV10001\"],\n",
    "    shfqc_6=[\"DEV12001\"],\n",
    "    number_data_qubits=number_of_qubits,\n",
    "    multiplex=True,\n",
    "    number_multiplex=number_of_qubits,\n",
    "    include_cr_lines=False,\n",
    "    get_zsync=False,  # set to True when at a real setup\n",
    "    ip_address=\"localhost\",\n",
    ")\n",
    "setup = DeviceSetup.from_descriptor(descriptor, \"localhost\")"
   ]
  },
  {
   "cell_type": "markdown",
   "metadata": {},
   "source": [
    "#### Qubits\n",
    "\n",
    "We will generate 3 `TunableTransmonQubits` from the logical signal groups in our `DeviceSetup`. The names of the logical signal groups, `q0`, `q1`, `q2`, will be the UIDs of the qubits. Moreover, the qubits will have the same logical signal lines as the ones of the logical signal groups in the `DeviceSetup`."
   ]
  },
  {
   "cell_type": "code",
   "execution_count": null,
   "metadata": {},
   "outputs": [],
   "source": [
    "from laboneq_applications.qpu_types.tunable_transmon import TunableTransmonQubit\n",
    "\n",
    "qubits = TunableTransmonQubit.from_device_setup(setup)"
   ]
  },
  {
   "cell_type": "code",
   "execution_count": null,
   "metadata": {},
   "outputs": [],
   "source": [
    "for q in qubits:\n",
    "    print(\"-------------\")\n",
    "    print(\"Qubit UID:\", q.uid)\n",
    "    print(\"Qubit logical signals:\")\n",
    "    for sig, lsg in q.signals.items():\n",
    "        print(f\"  {sig:<10} ('{lsg:>10}')\")"
   ]
  },
  {
   "cell_type": "markdown",
   "metadata": {},
   "source": [
    "Configure the qubit parameters to reflect the properties of the qubits on your QPU using the following code:"
   ]
  },
  {
   "cell_type": "code",
   "execution_count": null,
   "metadata": {},
   "outputs": [],
   "source": [
    "for q in qubits:\n",
    "    q.parameters.ge_drive_pulse[\"sigma\"] = 0.25\n",
    "    q.parameters.readout_amplitude = 0.5\n",
    "    q.parameters.reset_delay_length = 1e-6\n",
    "    q.parameters.readout_range_out = -25\n",
    "    q.parameters.readout_lo_frequency = 7.4e9\n",
    "\n",
    "qubits[0].parameters.drive_lo_frequency = 6.4e9\n",
    "qubits[0].parameters.resonance_frequency_ge = 6.3e9\n",
    "qubits[0].parameters.resonance_frequency_ef = 6.0e9\n",
    "qubits[0].parameters.readout_resonator_frequency = 7.0e9\n",
    "\n",
    "qubits[1].parameters.drive_lo_frequency = 6.4e9\n",
    "qubits[1].parameters.resonance_frequency_ge = 6.5e9\n",
    "qubits[1].parameters.resonance_frequency_ef = 6.3e9\n",
    "qubits[1].parameters.readout_resonator_frequency = 7.3e9\n",
    "\n",
    "qubits[2].parameters.drive_lo_frequency = 6.0e9\n",
    "qubits[2].parameters.resonance_frequency_ge = 5.8e9\n",
    "qubits[2].parameters.resonance_frequency_ef = 5.6e9\n",
    "qubits[2].parameters.readout_resonator_frequency = 7.2e9"
   ]
  },
  {
   "cell_type": "markdown",
   "metadata": {},
   "source": [
    "#### Quantum Operations\n",
    "\n",
    "Create the set of `TunableTransmonOperations`:"
   ]
  },
  {
   "cell_type": "code",
   "execution_count": null,
   "metadata": {},
   "outputs": [],
   "source": [
    "from laboneq_applications.qpu_types.tunable_transmon import TunableTransmonOperations\n",
    "\n",
    "qops = TunableTransmonOperations()"
   ]
  },
  {
   "cell_type": "markdown",
   "metadata": {},
   "source": [
    "#### QPU\n",
    "\n",
    "Create the `QPU` object from the qubits and the quantum operations"
   ]
  },
  {
   "cell_type": "code",
   "execution_count": null,
   "metadata": {},
   "outputs": [],
   "source": [
    "from laboneq.dsl.quantum import QPU\n",
    "\n",
    "qpu = QPU(qubits=qubits, quantum_operations=qops)"
   ]
  },
  {
   "cell_type": "markdown",
   "metadata": {},
   "source": [
    "#### Alternatively, load from a file\n",
    "\n",
    "If you you already have a `DeviceSetup` and a `QPU` stored in `.json` files, you can simply load them back using the code below:\n",
    "\n",
    "```python\n",
    "from laboneq import serializers\n",
    "\n",
    "setup = serializers.load(full_path_to_device_setup_file)\n",
    "qpu = serializers.load(full_path_to_qpu_file)\n",
    "\n",
    "qubits = qpu.qubits\n",
    "qops = qpu.quantum_operations\n",
    "```"
   ]
  },
  {
   "cell_type": "markdown",
   "metadata": {},
   "source": [
    "### Connect to Session"
   ]
  },
  {
   "cell_type": "code",
   "execution_count": null,
   "metadata": {},
   "outputs": [],
   "source": [
    "session = Session(setup)\n",
    "session.connect(do_emulation=True)  # do_emulation=False when at a real setup"
   ]
  },
  {
   "cell_type": "markdown",
   "metadata": {},
   "source": [
    "### Create a `FolderStore` for Saving Data\n",
    "\n",
    "The experiment `Workflows` can automatically save the inputs and outputs of all their tasks to the folder path we specify when instantiating the `FolderStore`. Here, we choose the current working directory."
   ]
  },
  {
   "cell_type": "code",
   "execution_count": null,
   "metadata": {},
   "outputs": [],
   "source": [
    "# import FolderStore from the `workflow` namespace of LabOne Q, which was imported\n",
    "# from `laboneq.simple`\n",
    "from pathlib import Path\n",
    "\n",
    "folder_store = workflow.logbook.FolderStore(Path.cwd())"
   ]
  },
  {
   "cell_type": "markdown",
   "metadata": {},
   "source": [
    "We disable saving in this guide. To enable it, simply run `folder_store.activate()`."
   ]
  },
  {
   "cell_type": "code",
   "execution_count": null,
   "metadata": {},
   "outputs": [],
   "source": [
    "folder_store.deactivate()"
   ]
  },
  {
   "cell_type": "markdown",
   "metadata": {},
   "source": [
    "### Optional: Configure the LoggingStore\n",
    "\n",
    "You can also activate/deactivate the `LoggingStore`, which is used for displaying the `Workflow` logging information in the notebook; see again the [tutorial on Recording Experiment Workflow Results](https://docs.zhinst.com/labone_q_user_manual/applications_library/tutorials/sources/logbooks.html) for details.\n",
    "\n",
    "Displaying the `Workflow` logging information is activated by default, but here we deactivate it to shorten the outputs, which are not very meaningful in emulation mode.\n",
    "\n",
    "**We recommend that you do not deactivate the Workflow logging in practice.**"
   ]
  },
  {
   "cell_type": "code",
   "execution_count": null,
   "metadata": {},
   "outputs": [],
   "source": [
    "from laboneq.workflow.logbook import LoggingStore\n",
    "\n",
    "logging_store = LoggingStore()\n",
    "logging_store.deactivate()"
   ]
  },
  {
   "cell_type": "markdown",
   "metadata": {},
   "source": [
    "## Configure the setup for using an external DC Bias"
   ]
  },
  {
   "cell_type": "markdown",
   "metadata": {},
   "source": [
    "### Set the relevant qubit parameters\n",
    "\n",
    "First, let's set the relevant qubit parameters for controlling an external DC voltage source. The `TunableTransmon` object already posses two parameters to describe the DC bias of the qubit:\n",
    "- **dc_slot** to describe to which channel the qubit is connected to\n",
    "- **dc_voltage_parking** to describe how much voltage the channel should provide."
   ]
  },
  {
   "cell_type": "code",
   "execution_count": null,
   "metadata": {},
   "outputs": [],
   "source": [
    "for n, qubit in enumerate(qubits):\n",
    "    qubit.parameters.dc_slot = n\n",
    "    qubit.parameters.dc_voltage_parking = 0"
   ]
  },
  {
   "cell_type": "markdown",
   "metadata": {},
   "source": [
    "Above we used as convention that the qubit are connected to the channel in order, and we set their initial value of the DC bias to 0 Volt. Let's look at a qubit to see how this object changed:"
   ]
  },
  {
   "cell_type": "code",
   "execution_count": null,
   "metadata": {},
   "outputs": [],
   "source": [
    "print(qubits[2].parameters)"
   ]
  },
  {
   "cell_type": "markdown",
   "metadata": {},
   "source": [
    "### Create a Quantum Operation to set the DC bias for a qubit\n",
    "\n",
    "Next, we want to create a Quantum Operations to set the DC bias of a qubit. To do this, we will follow these steps:\n",
    "- Create a function to set the DC in a third-party instrument\n",
    "- Register the function to our session with a standard name\n",
    "- Create a Quantum Operation that uses the function from the session\n",
    "- Register the new quantum operation in our platform"
   ]
  },
  {
   "cell_type": "markdown",
   "metadata": {},
   "source": [
    "#### Create a function to set the DC bias of qubit\n",
    "\n",
    "Next, we need to provide a function to set the DC bias of a particular qubit. The exact form of this function will depend on the driver of the device that is to be used, for the purpose of this tutorial, we will just use a mock to show how this is done. Following the prescription provided in the documentation of the [Neartime-Callback Functions and 3rd-Party Devices chapter](https://docs.zhinst.com/labone_q_user_manual/core/functionality_and_concepts/04_experiment_sequence/concepts/02_callback_functions.html), the first argument of such function should always be the session."
   ]
  },
  {
   "cell_type": "code",
   "execution_count": null,
   "metadata": {},
   "outputs": [],
   "source": [
    "def my_setter(\n",
    "    session: Session,\n",
    "    voltage,\n",
    "    channel,\n",
    "):\n",
    "    return f\"channel={channel}, voltage={voltage:.1f}\""
   ]
  },
  {
   "cell_type": "markdown",
   "metadata": {},
   "source": [
    "#### Register function in the session and create a matching Quantum Operation\n",
    "\n",
    "The next two steps will be performed together, we do this to be sure that there is a proper match between the function register and the Quantum Operation that uses it. Thanks to the quantum operation, we can be sure that this function will be used with the correct parameters relevant to a particular qubit each time. Notice how we allow the voltage to be selected optionally by the user. This allow us to override the voltage stored in the qubit parameter if it is needed for particular reasons, for example to sweep it in the context of an experiment."
   ]
  },
  {
   "cell_type": "code",
   "execution_count": null,
   "metadata": {},
   "outputs": [],
   "source": [
    "func_id = \"set_dc_bias\"\n",
    "\n",
    "session.register_neartime_callback(my_setter, func_id)\n",
    "\n",
    "\n",
    "@qpu.quantum_operations.register\n",
    "@dsl.quantum_operation(neartime=True)\n",
    "def set_dc_bias(\n",
    "    self,\n",
    "    qubit,\n",
    "    voltage=None,\n",
    "):\n",
    "    # fetch parameters\n",
    "    ## voltage if not provided\n",
    "    if voltage is None:\n",
    "        voltage = qubit.parameters.dc_voltage_parking\n",
    "    ## channel always provided by the qubit\n",
    "    channel = qubit.parameters.dc_slot\n",
    "\n",
    "    # call the function\n",
    "    dsl.call(func_id, voltage=voltage, channel=channel)"
   ]
  },
  {
   "cell_type": "markdown",
   "metadata": {},
   "source": [
    "let's convince ourselves that the operation is there by inspecting the source code:"
   ]
  },
  {
   "cell_type": "code",
   "execution_count": null,
   "metadata": {},
   "outputs": [],
   "source": [
    "qpu.quantum_operations.set_dc_bias.src"
   ]
  },
  {
   "cell_type": "markdown",
   "metadata": {},
   "source": [
    "## Create a new Workflow using the new Quantum Operation\n",
    "\n",
    "We are now set to include the new Quantum Operation in a workflow of our choice. For the purpose of this exercise, let's create a simplified version of a pulsed resonator spectroscopy were the DC bias is swept together with the frequency sent to the measure line.\n",
    "\n",
    "Creating a new `Workflow` requires the tasks `compile_experiment` and `run_experiment`. Let's import them:"
   ]
  },
  {
   "cell_type": "code",
   "execution_count": null,
   "metadata": {},
   "outputs": [],
   "source": [
    "from laboneq.workflow.tasks import (\n",
    "    compile_experiment,\n",
    "    run_experiment,\n",
    ")"
   ]
  },
  {
   "cell_type": "markdown",
   "metadata": {},
   "source": [
    "Now let's write the experiment using the dsl. We used a code similar to the `resonator_spectroscopy_amplitude` but simpler. The main change is that now instead of sweeping the amplitude we use our new Quantum Operation for changing the DC bias, and we pass a sweep parameter to it."
   ]
  },
  {
   "cell_type": "code",
   "execution_count": null,
   "metadata": {},
   "outputs": [],
   "source": [
    "@workflow.task\n",
    "@dsl.qubit_experiment\n",
    "def create_experiment(\n",
    "    qpu,\n",
    "    qubit,\n",
    "    frequencies,\n",
    "    voltages,\n",
    "):\n",
    "    with dsl.sweep(\n",
    "        parameter=SweepParameter(f\"voltages{qubit.uid}\", voltages),\n",
    "    ) as voltage:\n",
    "        qpu.quantum_operations.set_dc_bias(qubit, voltage=voltage)  # set dc bias here\n",
    "        with dsl.acquire_loop_rt(\n",
    "            count=100,\n",
    "            averaging_mode=AveragingMode.SEQUENTIAL,\n",
    "            acquisition_type=AcquisitionType.SPECTROSCOPY,\n",
    "        ):\n",
    "            with dsl.sweep(\n",
    "                name=f\"freq_{qubit.uid}\",\n",
    "                parameter=SweepParameter(f\"frequencies_{qubit.uid}\", frequencies),\n",
    "            ) as frequency:\n",
    "                qpu.quantum_operations.set_frequency(\n",
    "                    qubit,\n",
    "                    frequency=frequency,\n",
    "                    readout=True\n",
    "                )\n",
    "                qpu.quantum_operations.measure(\n",
    "                    qubit,\n",
    "                    dsl.handles.result_handle(qubit.uid)\n",
    "                )\n",
    "                qpu.quantum_operations.delay(qubit, 1e-6)"
   ]
  },
  {
   "cell_type": "markdown",
   "metadata": {},
   "source": [
    "Now we are ready to define a new Workflow we the help of standard imported tasks like `compile_experiment` and `run_experiment` together with `create_experiment`.\n",
    "\n",
    "We also add the analysis workflow for extracting the parking readout-resonator frequency and voltage provided by the `laboneq-applications` package.\n",
    "\n",
    "Finally, we use the `update_qubits` task also provided by the `laboneq-applications` package to update the qubit parameters `readout_resonator_frequency` and `dc_parking_voltage` with the values extracted from the analysis."
   ]
  },
  {
   "cell_type": "code",
   "execution_count": null,
   "metadata": {},
   "outputs": [],
   "source": [
    "from laboneq_applications.analysis.resonator_spectroscopy_dc_bias import (\n",
    "    analysis_workflow,\n",
    ")\n",
    "from laboneq_applications.tasks import update_qubits\n",
    "\n",
    "\n",
    "@workflow.workflow_options\n",
    "class ResonatorSpectroscopyDcBiasWokflowOptions:\n",
    "    do_analysis: bool = workflow.option_field(\n",
    "        default=True,\n",
    "        description=\"Whether to run the analysis workflow.\"\n",
    "    )\n",
    "    update: bool = workflow.option_field(\n",
    "        default=False,\n",
    "        description=\"Whether to update the qubit parameters.\"\n",
    "    )\n",
    "\n",
    "\n",
    "@workflow.workflow\n",
    "def res_spec_with_dc_workflow(\n",
    "    session,\n",
    "    qpu,\n",
    "    qubit,\n",
    "    frequencies,\n",
    "    voltages,\n",
    "    options: ResonatorSpectroscopyDcBiasWokflowOptions | None = None,\n",
    "):\n",
    "    # create experiment\n",
    "    exp = create_experiment(\n",
    "        qpu,\n",
    "        qubit,\n",
    "        frequencies=frequencies,\n",
    "        voltages=voltages,\n",
    "    )\n",
    "    # compile it\n",
    "    compiled_exp = compile_experiment(session, exp)\n",
    "    # run it\n",
    "    result = run_experiment(session, compiled_exp)\n",
    "    with workflow.if_(options.do_analysis):\n",
    "        # run the analysis\n",
    "        analysis_results = analysis_workflow(\n",
    "            result=result,\n",
    "            qubit=qubit,\n",
    "            frequencies=frequencies,\n",
    "            voltages=voltages\n",
    "        )\n",
    "        with workflow.if_(options.update):\n",
    "            # update qubit parameters\n",
    "            qubit_parameters = analysis_results.output\n",
    "            update_qubits(qpu, qubit_parameters[\"new_parameter_values\"])\n",
    "    workflow.return_(\n",
    "        experiment=exp,\n",
    "        compiled_experiment=compiled_exp,\n",
    "        result=result,\n",
    "    )"
   ]
  },
  {
   "cell_type": "markdown",
   "metadata": {},
   "source": [
    "#### Run the experiment"
   ]
  },
  {
   "cell_type": "markdown",
   "metadata": {},
   "source": [
    "First, let's set the option field `update` to `True`, and the field `parking_sweet_spot` to `\"lss\"` for \"lower sweet spot\", meaning that we want to choose the lower sweet spot as the parking position for the qubit. If the parameters of the lower sweet spot are extracted by the analysis routine, they will be used to update the qubit parameters. \n",
    "\n",
    "There are many additional options field that come from the options defined in the analysis workflow, which are automatically extracted by the `res_spec_with_dc_workflow` upon parsing the logic inside it. For example, you could set `options.cloe_figures(False)` to show the figures in the kernel.\n",
    "\n",
    "To learn more about the options-feature of workflow, check out [this tutorial](https://docs.zhinst.com/labone_q_user_manual/core/functionality_and_concepts/07_workflow/03_options.html). To learn more about how to create options classes for your experiment tasks and workflows, check out [this tutorial](https://docs.zhinst.com/labone_q_user_manual/applications_library/tutorials/sources/writing_experiments.html#adding-options)."
   ]
  },
  {
   "cell_type": "code",
   "execution_count": null,
   "metadata": {
    "scrolled": true
   },
   "outputs": [],
   "source": [
    "options = res_spec_with_dc_workflow.options()\n",
    "options.update(True)\n",
    "options.parking_sweet_spot(\"lss\")\n",
    "options"
   ]
  },
  {
   "cell_type": "markdown",
   "metadata": {},
   "source": [
    "We are now good to go! Let's run of workflow with some test voltages. We should expect the printout of our mock function to appear with the voltages we passed."
   ]
  },
  {
   "cell_type": "code",
   "execution_count": null,
   "metadata": {
    "scrolled": true
   },
   "outputs": [],
   "source": [
    "my_workflow = res_spec_with_dc_workflow(\n",
    "    session=session,\n",
    "    qpu=qpu,\n",
    "    qubit=qubit,\n",
    "    frequencies=np.linspace(6.5e9, 7.5e9, 101),\n",
    "    voltages=np.linspace(0, 3, 7),\n",
    "    options=options\n",
    ")\n",
    "\n",
    "my_results = my_workflow.run()"
   ]
  },
  {
   "cell_type": "markdown",
   "metadata": {},
   "source": [
    "To verify that the function was run, let's inspect the result object and check the neartime-callbacks"
   ]
  },
  {
   "cell_type": "code",
   "execution_count": null,
   "metadata": {},
   "outputs": [],
   "source": [
    "my_results.tasks[\"run_experiment\"].output.neartime_callbacks[\"set_dc_bias\"]"
   ]
  },
  {
   "cell_type": "markdown",
   "metadata": {},
   "source": [
    "Let's check that the qubit parameters have been updated:"
   ]
  },
  {
   "cell_type": "code",
   "execution_count": null,
   "metadata": {},
   "outputs": [],
   "source": [
    "qubit.parameters.readout_resonator_frequency, qubit.parameters.dc_voltage_parking"
   ]
  },
  {
   "cell_type": "markdown",
   "metadata": {},
   "source": [
    "These values come from the `qubit_parameters` dictionary returned by the analysis workflow:"
   ]
  },
  {
   "cell_type": "code",
   "execution_count": null,
   "metadata": {},
   "outputs": [],
   "source": [
    "my_results.tasks[\"analysis_workflow\"].output"
   ]
  },
  {
   "cell_type": "markdown",
   "metadata": {},
   "source": [
    "#### Add task to a workflow\n",
    "\n",
    "Now that we convinced ourselves that this work, and used the previous experiment to find the optimal parking voltages for each qubit, we can expand this concept and use `Task` to define a calibration for the DC sources. First, let's set some mockup values for the voltage to the qubits in our platform."
   ]
  },
  {
   "cell_type": "code",
   "execution_count": null,
   "metadata": {},
   "outputs": [],
   "source": [
    "voltages = [1, 1.3, 1.5, 1.2, 1.7, 0.9]\n",
    "for voltage, qubit in zip(voltages, qpu.qubits):\n",
    "    qubit.parameters.dc_voltage_parking = voltage"
   ]
  },
  {
   "cell_type": "markdown",
   "metadata": {},
   "source": [
    "Next, let's define a `Task` to automatically set the correct DC biases. Some DC sources allow for parallel settings of these values, so let's explore this more general case to exploit this feature. We will prepare a dictionary with parameters starting from the `QPU`"
   ]
  },
  {
   "cell_type": "code",
   "execution_count": null,
   "metadata": {},
   "outputs": [],
   "source": [
    "@workflow.task\n",
    "def set_all_dc(\n",
    "    qpu,\n",
    "):\n",
    "    dc_dict = {}\n",
    "    for qubit in qpu.qubits:\n",
    "        dc_dict[qubit.uid] = {\n",
    "            \"channel\": qubit.parameters.dc_slot,\n",
    "            \"voltage\": qubit.parameters.dc_voltage_parking,\n",
    "        }\n",
    "\n",
    "    # mocking the voltage settings\n",
    "    for key, value in dc_dict.items():\n",
    "        voltage = value[\"voltage\"]\n",
    "        channel = value[\"channel\"]\n",
    "        print(f\"voltage {voltage} Volt was set in channel {channel} for qubit {key}\")"
   ]
  },
  {
   "cell_type": "markdown",
   "metadata": {},
   "source": [
    "Now let's assume we want to make sure all values are correctly set before we run another workflow. To do this, we use an existing workflow and we add the above task to perform this calibration"
   ]
  },
  {
   "cell_type": "code",
   "execution_count": null,
   "metadata": {},
   "outputs": [],
   "source": [
    "from laboneq_applications.experiments import amplitude_rabi, options\n",
    "\n",
    "\n",
    "@workflow.workflow\n",
    "def new_rabi_workflow(\n",
    "    session,\n",
    "    qpu,\n",
    "    qubits,\n",
    "    amplitudes,\n",
    "    options: options.TuneUpWorkflowOptions | None = None,\n",
    "):\n",
    "    # calibrate dc sources\n",
    "    set_all_dc(qpu)\n",
    "    exp = amplitude_rabi.create_experiment(\n",
    "        qpu,\n",
    "        qubits,\n",
    "        amplitudes=amplitudes,\n",
    "    )\n",
    "    compiled_exp = compile_experiment(session, exp)\n",
    "    _result = run_experiment(session, compiled_exp)"
   ]
  },
  {
   "cell_type": "markdown",
   "metadata": {},
   "source": [
    "Let's check that the printout is there by running the workflow!"
   ]
  },
  {
   "cell_type": "code",
   "execution_count": null,
   "metadata": {},
   "outputs": [],
   "source": [
    "new_workflow = new_rabi_workflow(\n",
    "    session,\n",
    "    qpu,\n",
    "    qpu.qubits,\n",
    "    amplitudes=[np.linspace(0.1, 1.0, 11) for n in range(number_of_qubits)],\n",
    ")\n",
    "\n",
    "workflow_result = new_workflow.run()"
   ]
  }
 ],
 "metadata": {
  "kernelspec": {
   "display_name": "Python 3 (ipykernel)",
   "language": "python",
   "name": "python3"
  },
  "language_info": {
   "codemirror_mode": {
    "name": "ipython",
    "version": 3
   },
   "file_extension": ".py",
   "mimetype": "text/x-python",
   "name": "python",
   "nbconvert_exporter": "python",
   "pygments_lexer": "ipython3",
   "version": "3.12.7"
  }
 },
 "nbformat": 4,
 "nbformat_minor": 4
}
