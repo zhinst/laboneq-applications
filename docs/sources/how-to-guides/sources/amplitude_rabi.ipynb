{
 "cells": [
  {
   "cell_type": "markdown",
   "id": "3cd2ddc8",
   "metadata": {},
   "source": [
    "# Amplitude Rabi"
   ]
  },
  {
   "cell_type": "markdown",
   "id": "077f977a",
   "metadata": {},
   "source": [
    "Short description of the experiment."
   ]
  },
  {
   "cell_type": "markdown",
   "id": "902d02cf",
   "metadata": {},
   "source": [
    "### Import relevant objects"
   ]
  },
  {
   "cell_type": "markdown",
   "id": "2f9dff0a-1480-4a9d-80bd-a47515c39942",
   "metadata": {},
   "source": [
    "### Running the amplitude-Rabi `Workflow`"
   ]
  },
  {
   "cell_type": "code",
   "execution_count": null,
   "id": "915dca58-13bb-47da-8704-e0a5c6f1f588",
   "metadata": {},
   "outputs": [],
   "source": []
  },
  {
   "cell_type": "markdown",
   "id": "e9e2e3d6-6dc0-4a4c-8023-33e6d9cd1f3a",
   "metadata": {},
   "source": [
    "### Inspecting the experiment pulse sequence"
   ]
  },
  {
   "cell_type": "code",
   "execution_count": null,
   "id": "ad6e835a-f542-4651-ae1b-02d7b4abb093",
   "metadata": {},
   "outputs": [],
   "source": []
  },
  {
   "cell_type": "markdown",
   "id": "785a64ae-bdc8-4ff9-8853-8a7adc612a31",
   "metadata": {},
   "source": [
    "### Interpreting the results"
   ]
  },
  {
   "cell_type": "code",
   "execution_count": null,
   "id": "996ca879-537c-41be-8988-09f8fd20f070",
   "metadata": {},
   "outputs": [],
   "source": []
  }
 ],
 "metadata": {
  "jupytext": {
   "cell_metadata_filter": "-all",
   "main_language": "python",
   "notebook_metadata_filter": "-all"
  },
  "kernelspec": {
   "display_name": "Python 3 (ipykernel)",
   "language": "python",
   "name": "python3"
  },
  "language_info": {
   "codemirror_mode": {
    "name": "ipython",
    "version": 3
   },
   "file_extension": ".py",
   "mimetype": "text/x-python",
   "name": "python",
   "nbconvert_exporter": "python",
   "pygments_lexer": "ipython3",
   "version": "3.12.4"
  }
 },
 "nbformat": 4,
 "nbformat_minor": 5
}
