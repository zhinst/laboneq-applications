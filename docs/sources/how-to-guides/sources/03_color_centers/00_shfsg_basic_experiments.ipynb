{
 "cells": [
  {
   "attachments": {},
   "cell_type": "markdown",
   "id": "d27f7f90",
   "metadata": {},
   "source": [
    "# Color Centers - Basic Experiments"
   ]
  },
  {
   "attachments": {},
   "cell_type": "markdown",
   "id": "1d1fabee",
   "metadata": {},
   "source": [
    "The following notebook is intended to show some of the basic functionality of LabOne Q and provide links to get you started with color centers applications.\n",
    "We'll run through ODMR spectroscopy, length Rabi and Ramsey experiments.\n",
    "\n",
    "The device ID in the descriptor and the IP address in this notebook should be updated to match your device and connection configuration."
   ]
  },
  {
   "attachments": {},
   "cell_type": "markdown",
   "id": "46cfbe23",
   "metadata": {},
   "source": [
    "## 0. General Imports"
   ]
  },
  {
   "cell_type": "code",
   "execution_count": null,
   "id": "9c56cac7",
   "metadata": {},
   "outputs": [],
   "source": [
    "# LabOne Q:\n",
    "# for saving results and pulse sheets\n",
    "from pathlib import Path\n",
    "\n",
    "# for plotting of the simulation\n",
    "from laboneq.contrib.example_helpers.plotting.plot_helpers import plot_simulation\n",
    "from laboneq.simple import *"
   ]
  },
  {
   "attachments": {},
   "cell_type": "markdown",
   "id": "e66d0291",
   "metadata": {
    "tags": []
   },
   "source": [
    "## 1. Device Setup\n",
    "\n",
    "We first need to define a calibration and our device setup."
   ]
  },
  {
   "attachments": {},
   "cell_type": "markdown",
   "id": "332a893d",
   "metadata": {
    "tags": []
   },
   "source": [
    "### 1.1 Calibration"
   ]
  },
  {
   "attachments": {},
   "cell_type": "markdown",
   "id": "36612270",
   "metadata": {},
   "source": [
    "Read about applying instrument settings through [calibration objects](https://docs.zhinst.com/labone_q_user_manual/concepts/instrument_calibration/) and their [properties](https://docs.zhinst.com/labone_q_user_manual/concepts/calibration_properties/).\n",
    "\n",
    "Here, we configure two lines of the SHFSG signal generator to play the pulses we need: The first line is used to drive the color center and is centered around 2.9 GHz. The second line will drive the AOM and uses the low-frequency output mode of the SHFSG channels."
   ]
  },
  {
   "cell_type": "code",
   "execution_count": null,
   "id": "3fce9ed6",
   "metadata": {},
   "outputs": [],
   "source": [
    "def calibrate_devices(device_setup):\n",
    "    lo_shfsg_1_2 = Oscillator(\n",
    "        \"lo_shfsg_1_2\",\n",
    "        frequency=3e9,\n",
    "    )\n",
    "\n",
    "    lo_shfsg_3 = Oscillator(\n",
    "        \"lo_shfsg_3\",\n",
    "        frequency=0,\n",
    "    )\n",
    "\n",
    "    device_setup.logical_signal_groups[\"q0\"].logical_signals[\n",
    "        \"drive_line\"\n",
    "    ].calibration = SignalCalibration(\n",
    "        oscillator=Oscillator(\n",
    "            uid=\"drive_osc\",\n",
    "            frequency=-3e8,\n",
    "            modulation_type=ModulationType.HARDWARE,\n",
    "        ),\n",
    "        local_oscillator=lo_shfsg_1_2,\n",
    "        range=10,\n",
    "    )\n",
    "\n",
    "    device_setup.logical_signal_groups[\"q0\"].logical_signals[\n",
    "        \"drive_AOM_line\"\n",
    "    ].calibration = SignalCalibration(\n",
    "        oscillator=Oscillator(\n",
    "            uid=\"drive_AOM_osc\",\n",
    "            frequency=2e8,\n",
    "            modulation_type=ModulationType.HARDWARE,\n",
    "        ),\n",
    "        port_mode=PortMode.LF,\n",
    "        local_oscillator=lo_shfsg_3,\n",
    "        range=5,\n",
    "    )"
   ]
  },
  {
   "attachments": {},
   "cell_type": "markdown",
   "id": "a36a3823",
   "metadata": {
    "tags": []
   },
   "source": [
    "### 1.2 Create device setup"
   ]
  },
  {
   "attachments": {},
   "cell_type": "markdown",
   "id": "d9451cc0",
   "metadata": {},
   "source": [
    "Read about [device setups and descriptors](https://docs.zhinst.com/labone_q_user_manual/concepts/set_up_equipment/)."
   ]
  },
  {
   "cell_type": "code",
   "execution_count": null,
   "id": "42b08ba0",
   "metadata": {},
   "outputs": [],
   "source": [
    "descriptor_shfsg_nv = \"\"\"\n",
    "instruments:\n",
    "  SHFSG:\n",
    "  - address: DEV12XXX\n",
    "    uid: device_shfsg\n",
    "\n",
    "connections:\n",
    "  device_shfsg:\n",
    "    - iq_signal: q0/drive_line\n",
    "      ports: SGCHANNELS/0/OUTPUT\n",
    "    - iq_signal: q0/drive_AOM_line\n",
    "      ports: SGCHANNELS/2/OUTPUT\n",
    "\"\"\"\n",
    "\n",
    "\n",
    "def create_device_setup(\n",
    "    descriptor=descriptor_shfsg_nv,\n",
    "    serverhost=\"localhost\",\n",
    "):\n",
    "    device_setup = DeviceSetup.from_descriptor(\n",
    "        yaml_text=descriptor,\n",
    "        server_host=serverhost,\n",
    "        server_port=\"8004\",\n",
    "        setup_name=\"SHFSG_Standalone\",\n",
    "    )\n",
    "    calibrate_devices(device_setup)\n",
    "    return device_setup"
   ]
  },
  {
   "attachments": {},
   "cell_type": "markdown",
   "id": "984d4b25",
   "metadata": {
    "tags": []
   },
   "source": [
    "### 1.3 Connect"
   ]
  },
  {
   "cell_type": "code",
   "execution_count": null,
   "id": "2a5a1c93",
   "metadata": {},
   "outputs": [],
   "source": [
    "device_setup = create_device_setup()\n",
    "shfsg_address = device_setup.instruments[0].address\n",
    "\n",
    "q0 = device_setup.logical_signal_groups[\"q0\"].logical_signals"
   ]
  },
  {
   "attachments": {},
   "cell_type": "markdown",
   "id": "2a9b08a2",
   "metadata": {},
   "source": [
    "The [Session](https://docs.zhinst.com/labone_q_user_manual/concepts/session/) class provides the connection to the instruments, and it can also be used to emulate the connection so that no hardware is necessary for testing.\n",
    "\n",
    "Note: Set `emulate = False` when running on real hardware!"
   ]
  },
  {
   "cell_type": "code",
   "execution_count": null,
   "id": "85fd0199",
   "metadata": {},
   "outputs": [],
   "source": [
    "emulate = True\n",
    "my_session = Session(device_setup=device_setup)\n",
    "my_session.connect(do_emulation=emulate)"
   ]
  },
  {
   "attachments": {},
   "cell_type": "markdown",
   "id": "a96a532c",
   "metadata": {},
   "source": [
    "## 2. Pulse definitions - To be used throughout"
   ]
  },
  {
   "cell_type": "code",
   "execution_count": null,
   "id": "511b62b5",
   "metadata": {},
   "outputs": [],
   "source": [
    "x90 = pulse_library.drag(uid=\"x90\", length=100e-9, amplitude=0.4, sigma=0.3, beta=0.4)\n",
    "x180 = pulse_library.drag(uid=\"x180\", length=100e-9, amplitude=0.8, sigma=0.3, beta=0.4)\n",
    "\n",
    "# trigger\n",
    "Trigger_Pulse_length = 250e-9\n",
    "AOM_Pulse_length = 3e-6 + Trigger_Pulse_length"
   ]
  },
  {
   "attachments": {},
   "cell_type": "markdown",
   "id": "63bf3d34",
   "metadata": {},
   "source": [
    "## 3. ODMR Spectroscopy"
   ]
  },
  {
   "attachments": {},
   "cell_type": "markdown",
   "id": "7694a75b",
   "metadata": {},
   "source": [
    "### 3.1 More pulse parameters\n",
    "\n",
    "We define a frequency sweep to be used in the spectroscopy experiment, in which we'll use a rectangular excitation pulse of 500 ns length, which we also define here."
   ]
  },
  {
   "cell_type": "code",
   "execution_count": null,
   "id": "50455f96",
   "metadata": {},
   "outputs": [],
   "source": [
    "# set up sweep parameters\n",
    "freq_sweep_q0 = LinearSweepParameter(\n",
    "    uid=\"freq_qubit\", start=-300e6, stop=300e6, count=50\n",
    ")\n",
    "\n",
    "# how many averages per point: 2^n_average\n",
    "n_average = 10\n",
    "\n",
    "# square pulse to excite the qubit\n",
    "pulse_length = 500e-9\n",
    "square_pulse = pulse_library.const(uid=\"const_iq\", length=pulse_length, amplitude=0.89)"
   ]
  },
  {
   "attachments": {},
   "cell_type": "markdown",
   "id": "7725e456",
   "metadata": {},
   "source": [
    "In LabOne Q, [experiments](https://docs.zhinst.com/labone_q_user_manual/concepts/experiment/) contain [signals](https://docs.zhinst.com/labone_q_user_manual/concepts/logical_signal_lines/), [sections](https://docs.zhinst.com/labone_q_user_manual/concepts/sections_and_pulses/), pulses, and pulse commands. Understanding their use will let you get the most out of your experiment. To learn the basics, you can follow our [section tutorial](https://github.com/zhinst/laboneq/blob/main/examples/00_reference/03_section_tutorial.ipynb).\n",
    "\n",
    "We can use [triggers or marker](https://docs.zhinst.com/labone_q_user_manual/concepts/trigger_marker/) to output a TTL signal that can be used to activate a third-party instrument. In this examples, a trigger is used, by creating a specific section where the trigger on the ExperimentalSignal \"drive\" is switched on."
   ]
  },
  {
   "cell_type": "code",
   "execution_count": null,
   "id": "00436d54",
   "metadata": {},
   "outputs": [],
   "source": [
    "# function that returns a qubit spectroscopy experiment- accepts frequency sweep range as parameter\n",
    "\n",
    "\n",
    "def qubit_spectroscopy(freq_sweep):\n",
    "    # Create qubit spectroscopy Experiment - uses qubit drive, readout drive and data acquisition lines\n",
    "    exp_nv = Experiment(\n",
    "        uid=\"Spectroscopy\",\n",
    "        signals=[\n",
    "            ExperimentSignal(\"drive\"),\n",
    "            ExperimentSignal(\"AOM\"),\n",
    "        ],\n",
    "    )\n",
    "\n",
    "    ## define experimental pulse sequence\n",
    "    with exp_nv.acquire_loop_rt(\n",
    "        uid=\"qfreq_shots\",\n",
    "        count=pow(2, n_average),\n",
    "    ):\n",
    "        # qubit drive\n",
    "        with exp_nv.sweep(uid=\"qfreq_sweep\", parameter=freq_sweep):\n",
    "            with exp_nv.section(uid=\"parent_section\", alignment=SectionAlignment.LEFT):\n",
    "                # shine the laser. Here, the AOM line is used only to send a trigger to the laser\n",
    "                with exp_nv.section(\n",
    "                    uid=\"excitation\",\n",
    "                    length=AOM_Pulse_length,\n",
    "                    trigger={\"AOM\": {\"state\": 1}},\n",
    "                ) as aom:\n",
    "                    exp_nv.reserve(signal=\"AOM\")\n",
    "\n",
    "                # excite the state using the drive line\n",
    "                with exp_nv.section(uid=\"manipulation\", play_after=\"excitation\"):\n",
    "                    exp_nv.reserve(signal=\"AOM\")\n",
    "                    exp_nv.play(signal=\"drive\", pulse=square_pulse)\n",
    "\n",
    "                # shine laser again\n",
    "                exp_nv.add(aom)\n",
    "\n",
    "                # start DAQ trigger\n",
    "                with exp_nv.section(\n",
    "                    uid=\"trigger\",\n",
    "                    length=Trigger_Pulse_length,\n",
    "                    play_after=\"manipulation\",\n",
    "                    trigger={\"drive\": {\"state\": 1}},\n",
    "                ):\n",
    "                    exp_nv.reserve(signal=\"drive\")\n",
    "\n",
    "                # delay next average\n",
    "                with exp_nv.section(uid=\"delay\"):\n",
    "                    exp_nv.reserve(signal=\"AOM\")\n",
    "                    exp_nv.delay(signal=\"drive\", time=1e-6)\n",
    "    return exp_nv"
   ]
  },
  {
   "attachments": {},
   "cell_type": "markdown",
   "id": "21fa014a",
   "metadata": {},
   "source": [
    "### 3.3 Experiment Calibration and Signal Map"
   ]
  },
  {
   "attachments": {},
   "cell_type": "markdown",
   "id": "6803d4c6",
   "metadata": {},
   "source": [
    "Here, we apply an [experiment calibration](https://docs.zhinst.com/labone_q_user_manual/concepts/experiment_calibration/) and apply a [mapping](https://docs.zhinst.com/labone_q_user_manual/concepts/logical_signal_lines/#labone_q.func_concepts.setting_up.signal_lines.maps) of the experimental signals to our logical lines (and thus to the [physical hardware](https://docs.zhinst.com/labone_q_user_manual/concepts/logical_signal_lines/#labone_q.func_concepts.setting_up.signal_lines.define_logical_signals).)"
   ]
  },
  {
   "cell_type": "code",
   "execution_count": null,
   "id": "1159a129",
   "metadata": {},
   "outputs": [],
   "source": [
    "# experiment signal calibration for qubit 0\n",
    "exp_calibration_q0 = Calibration()\n",
    "exp_calibration_q0[\"drive\"] = SignalCalibration(\n",
    "    oscillator=Oscillator(\n",
    "        frequency=freq_sweep_q0,\n",
    "        modulation_type=ModulationType.HARDWARE,\n",
    "    ),\n",
    ")\n",
    "# signal map for qubit 0\n",
    "q0_map = {\n",
    "    \"drive\": q0[\"drive_line\"],\n",
    "    \"AOM\": q0[\"drive_AOM_line\"],\n",
    "}"
   ]
  },
  {
   "attachments": {},
   "cell_type": "markdown",
   "id": "5cfe5462",
   "metadata": {},
   "source": [
    "### 3.4 Apply Experiment Settings and Run"
   ]
  },
  {
   "attachments": {},
   "cell_type": "markdown",
   "id": "e7fa7fa4",
   "metadata": {},
   "source": [
    "When running your experiments, you can create a convenient reference to the [results](https://docs.zhinst.com/labone_q_user_manual/concepts/results/) object that is created in the following way: `my_results = my_session.run()`. \n",
    "\n",
    "The [simulation](https://docs.zhinst.com/labone_q_user_manual/components/pulse_sheet_viewer/#_simulation_of_output_signals) parses the generated Sequencer C code and generates simulated output signals.\n",
    "\n",
    "Note that it is often convenient to look at the pulse sheet viewer, simulator, and Sequencer C code before running on hardware.\n",
    "\n",
    "Additionally, you can read about the what the LabOne Q compiler settings do [here](https://docs.zhinst.com/labone_q_user_manual/tips_tricks/#_setting_the_compilers_minimal_waveform_and_zero_lengths)."
   ]
  },
  {
   "cell_type": "code",
   "execution_count": null,
   "id": "82535b5a",
   "metadata": {},
   "outputs": [],
   "source": [
    "# define experiment with frequency sweep for qubit 0\n",
    "exp_nv = qubit_spectroscopy(freq_sweep_q0)\n",
    "\n",
    "# apply calibration and signal map for qubit 0\n",
    "exp_nv.set_calibration(exp_calibration_q0)\n",
    "exp_nv.set_signal_map(q0_map)\n",
    "\n",
    "# compile and run the experiment on qubit 0\n",
    "compiled_qspec = my_session.compile(exp_nv)\n",
    "qspec_results = my_session.run(compiled_qspec)"
   ]
  },
  {
   "attachments": {},
   "cell_type": "markdown",
   "id": "fc81f169",
   "metadata": {},
   "source": [
    "### 3.5 Using the Output Simulator\n",
    "\n",
    "The output simulator displays a true time-domain representation of the pulses played within the experiment."
   ]
  },
  {
   "cell_type": "code",
   "execution_count": null,
   "id": "3bab81b3",
   "metadata": {},
   "outputs": [],
   "source": [
    "plot_simulation(compiled_qspec, start_time=0, length=50e-6, plot_width=25)"
   ]
  },
  {
   "attachments": {},
   "cell_type": "markdown",
   "id": "169b0a78",
   "metadata": {},
   "source": [
    "### 3.6 Pulse Sheet Viewer\n",
    "\n",
    "The pulse sheet viewer displays the higher-level pulse sheet."
   ]
  },
  {
   "cell_type": "code",
   "execution_count": null,
   "id": "3bf5f784",
   "metadata": {},
   "outputs": [],
   "source": [
    "Path(\"Pulse_sheets\").mkdir(parents=True, exist_ok=True)\n",
    "show_pulse_sheet(\"Pulse_sheets/Spectroscopy\", compiled_experiment=compiled_qspec)"
   ]
  },
  {
   "attachments": {},
   "cell_type": "markdown",
   "id": "edf6cb9e",
   "metadata": {},
   "source": [
    "## 4. Length Rabi\n",
    "\n",
    "A sweep object is rather flexible, and can be used for many different purposes. For example, let's use it to sweep the length of a drive pulse to obtain a Rabi sequence."
   ]
  },
  {
   "attachments": {},
   "cell_type": "markdown",
   "id": "0a7b92ab",
   "metadata": {},
   "source": [
    "### 4.1 Define Pulse Parameters"
   ]
  },
  {
   "cell_type": "code",
   "execution_count": null,
   "id": "705a19a5",
   "metadata": {},
   "outputs": [],
   "source": [
    "## define length sweep parameter\n",
    "length_sweep_parameter = LinearSweepParameter(\n",
    "    uid=\"length_sweep\", start=0, stop=3e-6, count=20\n",
    ")\n",
    "\n",
    "drive_pulse = pulse_library.const(\n",
    "    uid=\"rabi_drive_pulse\",\n",
    "    length=100e-9,\n",
    "    amplitude=1,\n",
    "    can_compress=True,  # <-- pulse can be compressed by the compiler!\n",
    ")\n",
    "\n",
    "n_average = 10"
   ]
  },
  {
   "attachments": {},
   "cell_type": "markdown",
   "id": "e9f7d4dc",
   "metadata": {},
   "source": [
    "### 4.2 Experiment Definition and Sequence\n",
    "\n",
    "An alternative to trigger are markers. Their functionality inside of an experiment is the same, but they are synchronized to the wave output of a signal line. Hence, they have an increased precision compared to triggers. Notice that because of this they don't live in the section, but they are rather connected to a specific play instruction."
   ]
  },
  {
   "cell_type": "code",
   "execution_count": null,
   "id": "a0e2dc12",
   "metadata": {},
   "outputs": [],
   "source": [
    "## Create Experiment\n",
    "exp_nv_rabi = Experiment(\n",
    "    \"Rabi_length\",\n",
    "    signals=[\n",
    "        ExperimentSignal(\"drive\"),\n",
    "        ExperimentSignal(\"AOM\"),\n",
    "    ],\n",
    ")\n",
    "\n",
    "# define experiment\n",
    "with exp_nv_rabi.acquire_loop_rt(\n",
    "    uid=\"shots\", count=pow(2, n_average), averaging_mode=AveragingMode.CYCLIC\n",
    "):\n",
    "    with exp_nv_rabi.sweep(parameter=length_sweep_parameter):\n",
    "        with exp_nv_rabi.section(\n",
    "            uid=\"excitation\", length=AOM_Pulse_length, trigger={\"AOM\": {\"state\": 1}}\n",
    "        ) as aom:\n",
    "            exp_nv_rabi.reserve(signal=\"AOM\")\n",
    "\n",
    "        # sweep length of the pulse used for manipulation\n",
    "        with exp_nv_rabi.section(\n",
    "            uid=\"manipulation\",\n",
    "            alignment=SectionAlignment.LEFT,\n",
    "            play_after=\"excitation\",\n",
    "        ):\n",
    "            exp_nv_rabi.reserve(signal=\"AOM\")\n",
    "            exp_nv_rabi.play(\n",
    "                signal=\"drive\",\n",
    "                pulse=drive_pulse,\n",
    "                length=length_sweep_parameter,  # <--- sweep parameter overloads the length!\n",
    "            )\n",
    "\n",
    "        exp_nv_rabi.add(aom)\n",
    "\n",
    "        # other way to manipulate the trigger: markers completely synchronized with a waveform!\n",
    "        with exp_nv_rabi.section(uid=\"trigger\", play_after=\"manipulation\"):\n",
    "            exp_nv_rabi.play(\n",
    "                signal=\"drive\",\n",
    "                pulse=None,\n",
    "                amplitude=0.01,\n",
    "                marker={\"marker1\": {\"start\": 0, \"length\": Trigger_Pulse_length}},\n",
    "            )  # <----- Markers are used here instead\n",
    "\n",
    "        with exp_nv_rabi.section(uid=\"delay\"):\n",
    "            exp_nv_rabi.delay(signal=\"AOM\", time=3e-6)"
   ]
  },
  {
   "attachments": {},
   "cell_type": "markdown",
   "id": "37f7f730",
   "metadata": {},
   "source": [
    "### 4.3 Set Map and Update Oscillator Freq"
   ]
  },
  {
   "cell_type": "code",
   "execution_count": null,
   "id": "c67f84ac",
   "metadata": {},
   "outputs": [],
   "source": [
    "# define signal maps for different qubits\n",
    "map_q0 = {\n",
    "    \"drive\": q0[\"drive_line\"],\n",
    "    \"AOM\": q0[\"drive_AOM_line\"],\n",
    "}"
   ]
  },
  {
   "attachments": {},
   "cell_type": "markdown",
   "id": "7ab10805",
   "metadata": {},
   "source": [
    "### 4.4 Apply Settings and Run Experiment"
   ]
  },
  {
   "cell_type": "code",
   "execution_count": null,
   "id": "b3223378",
   "metadata": {},
   "outputs": [],
   "source": [
    "# set experiment calibration and signal map\n",
    "exp_nv_rabi.set_signal_map(map_q0)\n",
    "\n",
    "compiled_rabi = my_session.compile(exp_nv_rabi)\n",
    "rabi_results = my_session.run(compiled_rabi)"
   ]
  },
  {
   "attachments": {},
   "cell_type": "markdown",
   "id": "be0e02d3",
   "metadata": {},
   "source": [
    "### 4.5 Plot with Output Simulator"
   ]
  },
  {
   "cell_type": "code",
   "execution_count": null,
   "id": "b4bc0897",
   "metadata": {},
   "outputs": [],
   "source": [
    "plot_simulation(compiled_rabi, start_time=0, length=160e-6, plot_width=25)"
   ]
  },
  {
   "attachments": {},
   "cell_type": "markdown",
   "id": "2dbc9e29",
   "metadata": {},
   "source": [
    "### 4.6 Show in Pulse Sheet Viewer"
   ]
  },
  {
   "cell_type": "code",
   "execution_count": null,
   "id": "3288ac12",
   "metadata": {},
   "outputs": [],
   "source": [
    "show_pulse_sheet(\"Pulse_sheets/Rabi_length\", compiled_rabi)"
   ]
  },
  {
   "attachments": {},
   "cell_type": "markdown",
   "id": "04b5b03c",
   "metadata": {
    "jp-MarkdownHeadingCollapsed": true,
    "tags": []
   },
   "source": [
    "## 5. Ramsey Experiment"
   ]
  },
  {
   "attachments": {},
   "cell_type": "markdown",
   "id": "c85e6cc1",
   "metadata": {},
   "source": [
    "### 5.1 All-in-one experiment definitions and signal mapping\n",
    "\n",
    "Let's make our experiment customizable by creating a function that allow us to specify the parameters later on. This time, our sweep parameter is the time that we wait between two pi/2 pulses."
   ]
  },
  {
   "cell_type": "code",
   "execution_count": null,
   "id": "58bbfb51",
   "metadata": {},
   "outputs": [],
   "source": [
    "def make_ramsey_experiment(\n",
    "    start=0e-9,\n",
    "    stop=5000e-9,\n",
    "    count=11,\n",
    "    average_exponent=12,\n",
    "    averaging_mode=AveragingMode.CYCLIC,\n",
    "    repetition_mode=RepetitionMode.AUTO,\n",
    "    lsg=q0,\n",
    "):\n",
    "    # Create Experiment\n",
    "    exp = Experiment(\n",
    "        \"Ramsey\",\n",
    "        signals=[\n",
    "            ExperimentSignal(\"drive\"),\n",
    "            ExperimentSignal(\"AOM\"),\n",
    "        ],\n",
    "    )\n",
    "\n",
    "    # Connect experiment signals to logical signals\n",
    "    exp.map_signal(\"drive\", lsg[\"drive_line\"])\n",
    "    exp.map_signal(\"AOM\", lsg[\"drive_AOM_line\"])\n",
    "\n",
    "    sweep_parameter = LinearSweepParameter(\n",
    "        uid=\"delay\", start=start, stop=stop, count=count\n",
    "    )\n",
    "\n",
    "    with exp.acquire_loop_rt(\n",
    "        uid=\"shots\",\n",
    "        count=pow(2, average_exponent),\n",
    "        averaging_mode=averaging_mode,\n",
    "        repetition_mode=repetition_mode,\n",
    "        repetition_time=0,\n",
    "        reset_oscillator_phase=False,\n",
    "    ):\n",
    "        with exp.sweep(\n",
    "            uid=\"sweep\",\n",
    "            parameter=sweep_parameter,\n",
    "            reset_oscillator_phase=False,\n",
    "        ):\n",
    "            with exp.section(\n",
    "                uid=\"excitation\", length=AOM_Pulse_length, trigger={\"AOM\": {\"state\": 1}}\n",
    "            ) as aom:\n",
    "                exp.reserve(signal=\"AOM\")\n",
    "\n",
    "            with exp.section(\n",
    "                uid=\"manipulation\",\n",
    "                length=stop + 2 * x90.length,\n",
    "                play_after=\"excitation\",\n",
    "                alignment=SectionAlignment.RIGHT,\n",
    "            ):\n",
    "                exp.reserve(signal=\"AOM\")\n",
    "                ## what to put here?\n",
    "                exp.play(signal=\"drive\", pulse=x90)\n",
    "                exp.delay(signal=\"drive\", time=sweep_parameter)\n",
    "                exp.play(signal=\"drive\", pulse=x90)\n",
    "\n",
    "            exp.add(aom)\n",
    "\n",
    "            with exp.section(\n",
    "                uid=\"DAQ trigger\",\n",
    "                length=Trigger_Pulse_length,\n",
    "                trigger={\"drive\": {\"state\": 1}},\n",
    "            ):\n",
    "                exp.reserve(signal=\"drive\")\n",
    "\n",
    "    return exp"
   ]
  },
  {
   "attachments": {},
   "cell_type": "markdown",
   "id": "3c95204b",
   "metadata": {},
   "source": [
    "### 5.2 Apply settings and run"
   ]
  },
  {
   "cell_type": "code",
   "execution_count": null,
   "id": "4ec6317b",
   "metadata": {},
   "outputs": [],
   "source": [
    "avg = 10\n",
    "exp_nv_ramsey = make_ramsey_experiment(count=10, average_exponent=avg)\n",
    "\n",
    "compiled_ramsey = my_session.compile(exp_nv_ramsey)\n",
    "# Run without a specified experiment to use compiled experiment with the compiler settings:\n",
    "ramsey_results = my_session.run(compiled_ramsey)"
   ]
  },
  {
   "attachments": {},
   "cell_type": "markdown",
   "id": "afe74a86",
   "metadata": {},
   "source": [
    "### 5.3 Plot in Output Simulator"
   ]
  },
  {
   "cell_type": "code",
   "execution_count": null,
   "id": "fac0fa5a",
   "metadata": {},
   "outputs": [],
   "source": [
    "plot_simulation(compiled_ramsey, start_time=0, length=100e-6, plot_width=25)"
   ]
  },
  {
   "attachments": {},
   "cell_type": "markdown",
   "id": "d1fbc721",
   "metadata": {},
   "source": [
    "### 5.4 Show Pulse Sheet"
   ]
  },
  {
   "cell_type": "code",
   "execution_count": null,
   "id": "bd298a93",
   "metadata": {},
   "outputs": [],
   "source": [
    "show_pulse_sheet(\"Pulse_sheets/Ramsey\", compiled_ramsey)"
   ]
  },
  {
   "cell_type": "code",
   "execution_count": null,
   "id": "ebf917b0",
   "metadata": {},
   "outputs": [],
   "source": []
  }
 ],
 "metadata": {
  "hide_input": false,
  "kernelspec": {
   "display_name": "ZI_LabOneQ_2p0_Public",
   "language": "python",
   "name": "python3"
  },
  "language_info": {
   "codemirror_mode": {
    "name": "ipython",
    "version": 3
   },
   "file_extension": ".py",
   "mimetype": "text/x-python",
   "name": "python",
   "nbconvert_exporter": "python",
   "pygments_lexer": "ipython3",
   "version": "3.11.3"
  },
  "toc": {
   "base_numbering": 1,
   "nav_menu": {},
   "number_sections": true,
   "sideBar": true,
   "skip_h1_title": false,
   "title_cell": "Table of Contents",
   "title_sidebar": "Contents",
   "toc_cell": false,
   "toc_position": {},
   "toc_section_display": true,
   "toc_window_display": true
  },
  "varInspector": {
   "cols": {
    "lenName": 16,
    "lenType": 16,
    "lenVar": 40
   },
   "kernels_config": {
    "python": {
     "delete_cmd_postfix": "",
     "delete_cmd_prefix": "del ",
     "library": "var_list.py",
     "varRefreshCmd": "print(var_dic_list())"
    },
    "r": {
     "delete_cmd_postfix": ") ",
     "delete_cmd_prefix": "rm(",
     "library": "var_list.r",
     "varRefreshCmd": "cat(var_dic_list()) "
    }
   },
   "types_to_exclude": [
    "module",
    "function",
    "builtin_function_or_method",
    "instance",
    "_Feature"
   ],
   "window_display": false
  },
  "vscode": {
   "interpreter": {
    "hash": "f493f56eedc8cf44543d6dcbd801b1641582a10e3ef591368c9351970ead9570"
   }
  }
 },
 "nbformat": 4,
 "nbformat_minor": 5
}
