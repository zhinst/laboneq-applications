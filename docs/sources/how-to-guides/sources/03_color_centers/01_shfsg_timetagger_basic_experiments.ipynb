{
 "cells": [
  {
   "attachments": {},
   "cell_type": "markdown",
   "id": "d27f7f90",
   "metadata": {},
   "source": [
    "# Color Centers: Using Time Tagger with neartime callback functions"
   ]
  },
  {
   "attachments": {},
   "cell_type": "markdown",
   "id": "1d1fabee",
   "metadata": {},
   "source": [
    "The following notebook is intended to show how to use a time tagger from a third-party to integrate the readout of color center inside a LabOne Q experiment. We will use a Time Tagger of Swabian Instruments for the purpose of this demonstration."
   ]
  },
  {
   "attachments": {},
   "cell_type": "markdown",
   "id": "46cfbe23",
   "metadata": {},
   "source": [
    "# 0 - General Imports"
   ]
  },
  {
   "cell_type": "code",
   "execution_count": null,
   "id": "9c56cac7",
   "metadata": {
    "ExecuteTime": {
     "end_time": "2021-10-01T06:52:59.392055Z",
     "start_time": "2021-10-01T06:52:57.155702Z"
    }
   },
   "outputs": [],
   "source": [
    "from __future__ import annotations\n",
    "\n",
    "# convenience Import for all LabOne Q Functionality\n",
    "import matplotlib.pyplot as plt\n",
    "\n",
    "# utilities\n",
    "import numpy as np\n",
    "from laboneq.dsl.result.acquired_result import AcquiredResult\n",
    "from laboneq.simple import *"
   ]
  },
  {
   "cell_type": "markdown",
   "id": "0d8e3966",
   "metadata": {},
   "source": []
  },
  {
   "cell_type": "code",
   "execution_count": null,
   "id": "e0e9cfd4",
   "metadata": {},
   "outputs": [],
   "source": [
    "# Mock TimeTagger\n",
    "\n",
    "\n",
    "class MockCountBetweenMarkers:\n",
    "    def __init__(self, tagger, click_channel: int, begin_channel: int, end_channel: int, n_values: int): #noqa: ARG002\n",
    "        self.n_values = n_values\n",
    "\n",
    "    def getData(self): #noqa: N802\n",
    "        \"\"\"Return mock data.\"\"\"\n",
    "        return np.random.randint(0,100, self.n_values)\n",
    "\n",
    "\n",
    "def createMockTimeTaggerNetwork(address): #noqa: N802\n",
    "    \"\"\"Mock createMockTimeTaggerNetwork.\"\"\"\n",
    "    return MockTimeTagger()\n",
    "\n",
    "\n",
    "class MockTimeTagger:\n",
    "    def setTriggerLevel(self,counter_input, threshold): #noqa: N802\n",
    "        \"\"\"Mock setTriggerLevel.\"\"\"\n",
    "\n",
    "    def setInputDelay(self,counter_input, delay): #noqa: N802\n",
    "        \"\"\"Mock setInputDelay.\"\"\"\n",
    "\n",
    "    def setTriggerLevel(self, gate_start_input, threshold): #noqa: N802\n",
    "        \"\"\"Mock setTriggerLevel.\"\"\"\n",
    "\n",
    "    def setInputDelay(self, gate_start_input, delay):# noqa: N802\n",
    "        \"\"\"Mock setInputDelay.\"\"\""
   ]
  },
  {
   "cell_type": "code",
   "execution_count": null,
   "id": "72206d24",
   "metadata": {},
   "outputs": [],
   "source": [
    "# swabian libraries\n",
    "try:\n",
    "    from TimeTagger import CountBetweenMarkers, createTimeTaggerNetwork\n",
    "except ImportError:\n",
    "    print(\"TimeTagger not found, using MockTimeTagger instead. Users are advised to install TimeTagger for more accurate result.\")\n",
    "    CountBetweenMarkers = MockCountBetweenMarkers\n",
    "    createTimeTaggerNetwork = createMockTimeTaggerNetwork #noqa: N816"
   ]
  },
  {
   "cell_type": "code",
   "execution_count": null,
   "id": "1e80a87c",
   "metadata": {},
   "outputs": [],
   "source": [
    "# ADDRESS FOR THE SERVER\n",
    "dataserver = (\n",
    "    \"localhost\"  # address of LabOne dataserver and TimeTagger server for Swabian\n",
    ")\n",
    "\n",
    "# SETTINGS FOR THE SHFSG\n",
    "shfsg_address = \"devXXXXX\"  # address of SHFSG\n",
    "drive_channel = 1  # channel used for the drive of the qubit\n",
    "apd_channel = 2  # channel used for simulating the pulses for the tagger\n",
    "\n",
    "# SETTINGS FOR THE TIME TAGGER\n",
    "timetagger_server = \"localhost\"  # server connected to the timetagger\n",
    "timetagger_port = 00000  # port of the timetagger server\n",
    "counter_input = 2  # input to act as Gated counter\n",
    "gate_start_input = 1  # input for the start gate signal\n",
    "gate_end_input = -1  # input for the end gate signal"
   ]
  },
  {
   "attachments": {},
   "cell_type": "markdown",
   "id": "e66d0291",
   "metadata": {
    "tags": []
   },
   "source": [
    "# 1 - Setting up all devices\n",
    "\n",
    "We first need to define a calibration and our device setup. In this notebook, we will define our connections [programmatically](https://docs.zhinst.com/labone_q_user_manual/core/functionality_and_concepts/00_device_setup/tutorials/00_device_setup.html#programmatic-setup-generation)"
   ]
  },
  {
   "cell_type": "code",
   "execution_count": null,
   "id": "74f57a8f",
   "metadata": {},
   "outputs": [],
   "source": [
    "setup = DeviceSetup(\"TimeTagger_setup\")\n",
    "\n",
    "# add a dataserver\n",
    "setup.add_dataserver(host=dataserver, port=8004)\n",
    "\n",
    "# add an SHFSG\n",
    "setup.add_instruments(\n",
    "    SHFSG(uid=\"device_shfsg\", address=shfsg_address, device_options=\"SHFSG8\")\n",
    ")\n",
    "\n",
    "# add connections\n",
    "setup.add_connections(\n",
    "    \"device_shfsg\",\n",
    "    create_connection(\n",
    "        to_signal=\"q0/drive_line\", ports=f\"SGCHANNELS/{drive_channel}/OUTPUT\"\n",
    "    ),\n",
    "    create_connection(\n",
    "        to_signal=\"q0/apd_line\", ports=f\"SGCHANNELS/{apd_channel}/OUTPUT\"\n",
    "    ),\n",
    "    create_connection(\n",
    "        to_signal=\"q0/aom_line\", ports=f\"SGCHANNELS/{apd_channel}/OUTPUT\"\n",
    "    ),\n",
    ")\n",
    "\n",
    "# shortcut to connections\n",
    "drive_lsg = setup.logical_signal_groups[\"q0\"].logical_signals[\"drive_line\"]\n",
    "apd_lsg = setup.logical_signal_groups[\"q0\"].logical_signals[\"apd_line\"]\n",
    "aom_lsg = setup.logical_signal_groups[\"q0\"].logical_signals[\"aom_line\"]"
   ]
  },
  {
   "attachments": {},
   "cell_type": "markdown",
   "id": "332a893d",
   "metadata": {
    "tags": []
   },
   "source": [
    "## 1.1 - Calibration"
   ]
  },
  {
   "attachments": {},
   "cell_type": "markdown",
   "id": "36612270",
   "metadata": {},
   "source": [
    "Read about applying instrument settings through [calibration objects](https://docs.zhinst.com/labone_q_user_manual/core/functionality_and_concepts/02_logical_signals/tutorials/02_calibration.html). Here, we set a very simple calibration acting directly on the logical signal lines. For the `drive_line`, we use a typical RF pulse to excite an NV center. For the `apd_line`, we set the frequency to zero and set it to the LF path, since we plan on using this channel only for DC pulses. Finally, the `aom_line` will be used to distributed TTL signal to an AOM when we will use the setup in our NV center configuration. For this reason, we will leave it without calibration"
   ]
  },
  {
   "cell_type": "code",
   "execution_count": null,
   "id": "3fce9ed6",
   "metadata": {
    "ExecuteTime": {
     "end_time": "2021-10-01T06:53:06.914501Z",
     "start_time": "2021-10-01T06:53:06.893519Z"
    }
   },
   "outputs": [],
   "source": [
    "# NV center drive\n",
    "drive_lsg.calibration = SignalCalibration()\n",
    "drive_lsg.local_oscillator = Oscillator(\"NV_lo_osc\", frequency=2.8e9)\n",
    "drive_lsg.oscillator = Oscillator(\"NV_osc\", frequency=-13e6)\n",
    "drive_lsg.port_mode = PortMode.RF\n",
    "drive_lsg.range = 10  # dBm\n",
    "\n",
    "# channel to distribute trigger and simulate APD output\n",
    "apd_lsg.port_mode = PortMode.LF\n",
    "apd_lsg.range = 10  # dBm\n",
    "apd_lsg.local_oscillator = Oscillator(uid=\"apd_lo\", frequency=0)\n",
    "apd_lsg.oscillator = Oscillator(uid=\"apd_osc\", frequency=0)\n",
    "\n",
    "# channel used to trigger AOM with TTL, left uncalibrated\n",
    "aom_lsg.calibration = SignalCalibration()"
   ]
  },
  {
   "attachments": {},
   "cell_type": "markdown",
   "id": "984d4b25",
   "metadata": {
    "tags": []
   },
   "source": [
    "## 1.2 - Connect LabOne Q Session"
   ]
  },
  {
   "attachments": {},
   "cell_type": "markdown",
   "id": "2a9b08a2",
   "metadata": {},
   "source": [
    "The [Session](https://docs.zhinst.com/labone_q_user_manual/core/functionality_and_concepts/01_session/concepts/00_session.html) class provides the connection to the instruments, and it can also be used to emulate the connection so that no hardware is necessary for testing.\n",
    "\n",
    "Note: In this notebook, `emulate = False` is compulsory, as we will use [Near-time Callback Functions and 3rd-Party Devices](https://docs.zhinst.com/labone_q_user_manual/core/functionality_and_concepts/04_experiment_sequence/tutorials/02_neartime_callbacks.html) that cannot be emulated."
   ]
  },
  {
   "cell_type": "code",
   "execution_count": null,
   "id": "85fd0199",
   "metadata": {},
   "outputs": [],
   "source": [
    "session = Session(device_setup=setup)\n",
    "session.connect(do_emulation=True)"
   ]
  },
  {
   "cell_type": "markdown",
   "id": "edd25a88",
   "metadata": {},
   "source": [
    "## 1.3 Connect Swabian TimeTagger\n",
    "\n",
    "We now connect to the Time Tagger of Swabian instrument. In this case, our counter is connected to the same ip of the dataserver, so we just need to set the correct port to find an instrument. To see in more details how to set a server, see the [Swabian Time Tagger Manual](https://www.swabianinstruments.com/static/documentation/TimeTagger/api/examples.html#using-time-tagger-remotely)"
   ]
  },
  {
   "cell_type": "code",
   "execution_count": null,
   "id": "d75d15dd",
   "metadata": {},
   "outputs": [],
   "source": [
    "# address of the Time Tagger\n",
    "address = f\"{timetagger_server}:{timetagger_port}\"\n",
    "\n",
    "# connect to the server\n",
    "timetagger = createTimeTaggerNetwork(address)"
   ]
  },
  {
   "cell_type": "markdown",
   "id": "3e4e67ec",
   "metadata": {},
   "source": [
    "# 2 - Test the TimeTagger\n",
    "\n",
    "In this section, we will perform some basic test on the Time Tagger, and show how to control it and sweep its parameter inside the LabOne Q DSL. For this purpose, we will use the setup illustrated in the picture below. The marker of channel 2 is used to gate the counter card, and channel output will simulate pulses like they are coming from an APD.\n",
    "\n",
    "<img alt=\"Sketch of the setup used in chapter 2.\" src=\"../../images/timetagger_setup_1.svg\" width=\"800\">\n",
    "\n",
    "<div class=\"alert alert-block alert-info\">\n",
    "<b>CAREFUL:</b> The values used in this chapter are for illustrative purpose only and does not reflect typical value of a TTL pulse coming from an APD. Always use directly the APD of your setup to perform calibrations.\n",
    "</div>\n",
    "\n",
    "## 2.1 - Calibrate trigger level of the counter"
   ]
  },
  {
   "cell_type": "markdown",
   "id": "7b38a8ea",
   "metadata": {},
   "source": [
    "Let's set the important parameters in the timetagger following the example of the tutorial [Confocal Florescence Microscope](https://www.swabianinstruments.com/static/documentation/TimeTagger/tutorials/ConfocalMicroscope.html)"
   ]
  },
  {
   "cell_type": "code",
   "execution_count": null,
   "id": "d9a982e7",
   "metadata": {},
   "outputs": [],
   "source": [
    "# for the counter input\n",
    "timetagger.setTriggerLevel(counter_input, 0.25)\n",
    "timetagger.setInputDelay(counter_input, 0)\n",
    "\n",
    "# for the gate input\n",
    "timetagger.setTriggerLevel(gate_start_input, 0.5)\n",
    "timetagger.setInputDelay(gate_start_input, 0)"
   ]
  },
  {
   "cell_type": "markdown",
   "id": "d870d35f",
   "metadata": {},
   "source": [
    "These parameters, however, are just initial guesses. To check the proper level of the trigger, one can repeat a simple calibration experiment where a fixed amount of pulses is sent to the counter, and sweeping the trigger level of the timetagger to see when the correct number of pulses is shown. To implement this sweep, one can use [neartime callback functions](https://docs.zhinst.com/labone_q_user_manual/core/functionality_and_concepts/04_experiment_sequence/tutorials/02_neartime_callbacks.html)."
   ]
  },
  {
   "cell_type": "code",
   "execution_count": null,
   "id": "b39fa199",
   "metadata": {},
   "outputs": [],
   "source": [
    "# function to set timetagger at a specific level\n",
    "\n",
    "\n",
    "def settrigger(\n",
    "    session: Session,\n",
    "    value,\n",
    "):\n",
    "    timetagger.setTriggerLevel(counter_input, value)\n",
    "\n",
    "\n",
    "# register it to session\n",
    "session.register_neartime_callback(settrigger, \"timetagger_sweep\")"
   ]
  },
  {
   "cell_type": "markdown",
   "id": "6c1a033c",
   "metadata": {},
   "source": [
    "Next, we write a function for a simple experiment sending a specific number of clicks to our counter input while sweeping the trigger level simultaneously "
   ]
  },
  {
   "cell_type": "code",
   "execution_count": null,
   "id": "1377af84",
   "metadata": {},
   "outputs": [],
   "source": [
    "def simulate_pulses(\n",
    "    pulse_count: int,\n",
    "    timetagger_trigger_sweep,\n",
    "    click_up_length=13e-9,\n",
    "    click_down_length=10e-9,\n",
    "    click_amplitude=1.0,\n",
    "):\n",
    "    exp = Experiment(\n",
    "        uid=\"testtrigger\",\n",
    "        signals=[ExperimentSignal(\"apd\", map_to=apd_lsg)],\n",
    "    )\n",
    "\n",
    "    # define what a click is\n",
    "    click = pulse_library.const(\n",
    "        \"click\", length=click_up_length, amplitude=click_amplitude\n",
    "    )\n",
    "\n",
    "    # call trigger level settings inside the sweep\n",
    "    with exp.sweep(parameter=timetagger_trigger_sweep):\n",
    "        exp.call(\"timetagger_sweep\", value=timetagger_trigger_sweep)\n",
    "\n",
    "        with exp.acquire_loop_rt(\n",
    "            uid=\"counts\",\n",
    "            count=1,\n",
    "        ):\n",
    "            # send fixed number of pulses\n",
    "            with exp.section(\n",
    "                uid=\"readout\",\n",
    "                trigger={\"apd\": {\"state\": True}},\n",
    "            ):\n",
    "                for _ in range(pulse_count):\n",
    "                    exp.delay(signal=\"apd\", time=click_down_length)\n",
    "                    exp.play(signal=\"apd\", pulse=click)\n",
    "\n",
    "    return exp"
   ]
  },
  {
   "cell_type": "markdown",
   "id": "9e1ccd8b",
   "metadata": {},
   "source": [
    "Let's create and compile an experiment using a sweep parameter to check the trigger levels"
   ]
  },
  {
   "cell_type": "code",
   "execution_count": null,
   "id": "e799afd0",
   "metadata": {},
   "outputs": [],
   "source": [
    "# define a sweep with trigger levels\n",
    "trigger_levels = LinearSweepParameter(\n",
    "    uid=\"tlevel\", start=0.1, stop=1, count=30, axis_name=\"trigger level [V]\"\n",
    ")\n",
    "\n",
    "# create an experiment to perform the calibration\n",
    "timetagger_calibration_experiment = simulate_pulses(100, trigger_levels)\n",
    "\n",
    "# compile experiment\n",
    "cexp = session.compile(timetagger_calibration_experiment)"
   ]
  },
  {
   "cell_type": "markdown",
   "id": "e2f4032a",
   "metadata": {},
   "source": [
    "We can now call the timetagger class to prepare for the readout. We want to set the timetagger to count the number of received pulses inside a window defined by the gate. We use the measurement class [CountBetweenMarkers](https://www.swabianinstruments.com/static/documentation/TimeTagger/api/Measurements.html#countbetweenmarkers) to achieve this. Since our number of averages is set to 1, the number of expected gate is exactly equal to the dimension of our sweep, so we set the class accordingly:"
   ]
  },
  {
   "cell_type": "code",
   "execution_count": null,
   "id": "5d80538d",
   "metadata": {},
   "outputs": [],
   "source": [
    "# prepare counter based on the dimension of the sweep\n",
    "counter = CountBetweenMarkers(\n",
    "    tagger=timetagger,\n",
    "    click_channel=counter_input,\n",
    "    begin_channel=gate_start_input,\n",
    "    end_channel=gate_end_input,\n",
    "    n_values=trigger_levels.count,\n",
    ")\n",
    "\n",
    "result = session.run(cexp)"
   ]
  },
  {
   "cell_type": "markdown",
   "id": "6baa3aaf",
   "metadata": {},
   "source": [
    "Let's plot the result: we expect that for low trigger level nothing will be visible, and once the level surpass the pulse height, we should see exactly the number of pulses sent to the tagger, in this case 100."
   ]
  },
  {
   "cell_type": "code",
   "execution_count": null,
   "id": "c19c13d5",
   "metadata": {},
   "outputs": [],
   "source": [
    "# take axis from experiment, and results from the timetagger\n",
    "x = trigger_levels.values\n",
    "# take Y axis from timetagger\n",
    "y = counter.getData()\n",
    "\n",
    "plt.plot(x, y, \"o-\")\n",
    "plt.title(\"calibration results of time tagger\")\n",
    "plt.xlabel(trigger_levels.axis_name)\n",
    "plt.ylabel(\"detected counts\")"
   ]
  },
  {
   "cell_type": "markdown",
   "id": "92f29e56",
   "metadata": {},
   "source": [
    "From the results above, we decide to set the trigger level to 0.2."
   ]
  },
  {
   "cell_type": "code",
   "execution_count": null,
   "id": "c43ac3ac",
   "metadata": {},
   "outputs": [],
   "source": [
    "# set correct trigger level\n",
    "timetagger.setTriggerLevel(counter_input, 0.2)"
   ]
  },
  {
   "cell_type": "markdown",
   "id": "24c7a451",
   "metadata": {},
   "source": [
    "## 2.2 - Calibrate delay of the counter\n",
    "\n",
    "Similarly as before, we can use the same trick to calibrate the delay to the input of the TimeTagger. Again here we will simulate the input with an SG channel, but we stress that for a proper calibration the users should always use the APD of the setup by performing a simple measurement of the NV center. Again, let's define a callback function to sweep over the delay input"
   ]
  },
  {
   "cell_type": "code",
   "execution_count": null,
   "id": "f016c46b",
   "metadata": {},
   "outputs": [],
   "source": [
    "# function to set timetagger at a specific level\n",
    "\n",
    "\n",
    "def setinputdelay(\n",
    "    session: Session,\n",
    "    value,\n",
    "):\n",
    "    timetagger.setInputDelay(counter_input, value)"
   ]
  },
  {
   "cell_type": "markdown",
   "id": "c38f8686",
   "metadata": {},
   "source": [
    "We can now use the same experiment as before, we just need to switch the previous callback-function with the new one we just wrote"
   ]
  },
  {
   "cell_type": "code",
   "execution_count": null,
   "id": "a3ff6c15",
   "metadata": {},
   "outputs": [],
   "source": [
    "# register it to session\n",
    "session.register_neartime_callback(setinputdelay, \"timetagger_sweep\")"
   ]
  },
  {
   "cell_type": "markdown",
   "id": "8750f22a",
   "metadata": {},
   "source": [
    "With the two functions switched we can run the experiment again as done previously."
   ]
  },
  {
   "cell_type": "code",
   "execution_count": null,
   "id": "87033694",
   "metadata": {},
   "outputs": [],
   "source": [
    "# define a sweep with trigger levels\n",
    "delay_levels = LinearSweepParameter(\n",
    "    uid=\"dlevel\", start=0, stop=1000, count=100, axis_name=\"Delay level [ps]\"\n",
    ")\n",
    "\n",
    "# create an experiment to perform the calibration\n",
    "timetagger_calibration_experiment = simulate_pulses(100, delay_levels)\n",
    "\n",
    "# compile experiment\n",
    "cexp = session.compile(timetagger_calibration_experiment)\n",
    "\n",
    "# prepare counter based on the dimension of the sweep\n",
    "counter = CountBetweenMarkers(\n",
    "    tagger=timetagger,\n",
    "    click_channel=counter_input,\n",
    "    begin_channel=gate_start_input,\n",
    "    end_channel=gate_end_input,\n",
    "    n_values=delay_levels.count,\n",
    ")\n",
    "\n",
    "result = session.run(cexp)"
   ]
  },
  {
   "cell_type": "markdown",
   "id": "ff0576c8",
   "metadata": {},
   "source": [
    "Finally, we plot again the result as before"
   ]
  },
  {
   "cell_type": "code",
   "execution_count": null,
   "id": "af422878",
   "metadata": {},
   "outputs": [],
   "source": [
    "# take axis from experiment, and results from the timetagger\n",
    "x = delay_levels.values\n",
    "# take Y axis from timetagger\n",
    "y = counter.getData()\n",
    "\n",
    "plt.plot(x, y, \"o-\")\n",
    "plt.title(\"calibration results of time tagger\")\n",
    "plt.xlabel(delay_levels.axis_name)\n",
    "plt.ylabel(\"detected counts\")"
   ]
  },
  {
   "cell_type": "markdown",
   "id": "26fcdc8b",
   "metadata": {},
   "source": [
    "## 2.3 - Sweep number of pulses\n",
    "\n",
    "Now that the level has been calibrated, let's perform another basic check. We will create an experiment using the counter and sending a variable number of pulses to the timetagger. We will then verify after running it that the tagger indeed received the same number of pulses we provided. We follow [the Tutorial](https://docs.zhinst.com/labone_q_user_manual/core/functionality_and_concepts/04_experiment_sequence/tutorials/05_advanced_sweeping_examples.html) in order to efficiently sweep pulses in our experiments."
   ]
  },
  {
   "cell_type": "code",
   "execution_count": null,
   "id": "107fe438",
   "metadata": {},
   "outputs": [],
   "source": [
    "def sweepclick(\n",
    "    pulse_count: int | SweepParameter | LinearSweepParameter,\n",
    "    click_up_length=13e-9,\n",
    "    click_down_length=10e-9,\n",
    "    click_amplitude=1.0,\n",
    "    repetition_time=100e-6,\n",
    "):\n",
    "    exp = Experiment(\n",
    "        uid=\"sweepclicks\",\n",
    "        signals=[ExperimentSignal(\"apd\", map_to=apd_lsg)],\n",
    "    )\n",
    "\n",
    "    # define what a click is\n",
    "    click = pulse_library.const(\n",
    "        \"click\", length=click_up_length, amplitude=click_amplitude\n",
    "    )\n",
    "\n",
    "    # compute maximum length of a pulse\n",
    "    if isinstance(pulse_count, (LinearSweepParameter, SweepParameter)):\n",
    "        max_pulses = pulse_count.values.max()\n",
    "    else:\n",
    "        max_pulses = pulse_count\n",
    "\n",
    "    # compute maximum length, we will fix the readout section to this to make it constant and match the timing between sweeps\n",
    "    max_length = max_pulses * (click_up_length + click_down_length)\n",
    "\n",
    "    # describe experiment\n",
    "    with exp.acquire_loop_rt(\n",
    "        uid=\"counts\",\n",
    "        count=1,\n",
    "        repetition_mode=RepetitionMode.CONSTANT,\n",
    "        repetition_time=repetition_time,\n",
    "    ):\n",
    "        with exp.sweep(parameter=pulse_count):\n",
    "            with exp.section(\n",
    "                uid=\"readout\",\n",
    "                length=max_length,\n",
    "                trigger={\"apd\": {\"state\": True}},\n",
    "            ):\n",
    "                # match to different cases to control number of pulses per section\n",
    "                with exp.match(sweep_parameter=pulse_count):\n",
    "                    for number_of_pulses in pulse_count.values:\n",
    "                        with exp.case(number_of_pulses):\n",
    "                            for _ in range(int(number_of_pulses)):\n",
    "                                exp.delay(signal=\"apd\", time=click_down_length)\n",
    "                                exp.play(signal=\"apd\", pulse=click)\n",
    "\n",
    "    return exp"
   ]
  },
  {
   "cell_type": "markdown",
   "id": "7a1481d2",
   "metadata": {},
   "source": [
    "We now define an array containing the number of clicks sent to the counter card in each readout section. We use this vector to define the LabOne Q experiment"
   ]
  },
  {
   "cell_type": "code",
   "execution_count": null,
   "id": "9927222e",
   "metadata": {},
   "outputs": [],
   "source": [
    "pulse_count = LinearSweepParameter(\n",
    "    start=1, stop=100, count=100, axis_name=\"number of pulses\"\n",
    ")\n",
    "\n",
    "exp = sweepclick(pulse_count)"
   ]
  },
  {
   "cell_type": "markdown",
   "id": "d232a4c8",
   "metadata": {},
   "source": [
    "We now compile the experiment in a format ready to be sent to the device"
   ]
  },
  {
   "cell_type": "code",
   "execution_count": null,
   "id": "a74c3887",
   "metadata": {},
   "outputs": [],
   "source": [
    "cexp = session.compile(exp)"
   ]
  },
  {
   "cell_type": "markdown",
   "id": "03c3b5f8",
   "metadata": {},
   "source": [
    "We now run the experiment again by preparing the data class appropriately"
   ]
  },
  {
   "cell_type": "code",
   "execution_count": null,
   "id": "2e650f4c",
   "metadata": {},
   "outputs": [],
   "source": [
    "counter = CountBetweenMarkers(\n",
    "    tagger=timetagger,\n",
    "    click_channel=counter_input,\n",
    "    begin_channel=gate_start_input,\n",
    "    end_channel=gate_end_input,\n",
    "    n_values=pulse_count.values.size,\n",
    ")\n",
    "\n",
    "result = session.run(cexp)"
   ]
  },
  {
   "cell_type": "markdown",
   "id": "fa8c815b",
   "metadata": {},
   "source": [
    "Let's visualize the result, both what the timetagger has measured, and the difference from the pulses sent (which if the settings are right, should be all at zeros)"
   ]
  },
  {
   "cell_type": "code",
   "execution_count": null,
   "id": "9a71d710",
   "metadata": {},
   "outputs": [],
   "source": [
    "x = pulse_count.values\n",
    "y = counter.getData()\n",
    "y1 = y - x\n",
    "\n",
    "plt.plot(x, y, \"o-\", label=\"clicks detected\")\n",
    "plt.plot(x, y1, \"o-\", label=\"difference from pulse sent\")\n",
    "plt.legend()\n",
    "plt.title(\"result of test\")\n",
    "plt.xlabel(\"Number of pulses sent\")"
   ]
  },
  {
   "cell_type": "markdown",
   "id": "71e712eb",
   "metadata": {},
   "source": [
    "## 2.4 Check minimum distance between clicks resolved by the timetagger\n",
    "\n",
    "One more experiment we can attempt is checking if small distance between clicks influence in any way our final results for the timetagger. To do this, we create an experiment that sends a large amount pulses to the timetagger, and we then sweep the distance between these pulses"
   ]
  },
  {
   "cell_type": "code",
   "execution_count": null,
   "id": "da377bf2",
   "metadata": {},
   "outputs": [],
   "source": [
    "def sweepclickdistance(\n",
    "    pulse_count: int,\n",
    "    delay_sweep,\n",
    "    click_up_length=13e-9,\n",
    "    click_amplitude=1.0,\n",
    "):\n",
    "    exp = Experiment(\n",
    "        uid=\"click_delay\",\n",
    "        signals=[ExperimentSignal(\"apd\", map_to=apd_lsg)],\n",
    "    )\n",
    "\n",
    "    # define what a click is\n",
    "    click = pulse_library.const(\n",
    "        \"click\", length=click_up_length, amplitude=click_amplitude\n",
    "    )\n",
    "\n",
    "    # define maximum section between exp\n",
    "    repetition_time = 1e-6 + (click.length + delay_sweep.values.max()) * pulse_count\n",
    "\n",
    "    with exp.acquire_loop_rt(\n",
    "        uid=\"counts\",\n",
    "        count=1,\n",
    "        repetition_mode=RepetitionMode.CONSTANT,\n",
    "        repetition_time=repetition_time,\n",
    "    ):\n",
    "        with exp.sweep(parameter=delay_sweep) as delay:\n",
    "            # send fixed number of pulses\n",
    "            with exp.section(\n",
    "                uid=\"readout\",\n",
    "                trigger={\"apd\": {\"state\": True}},\n",
    "            ):\n",
    "                for _ in range(pulse_count):\n",
    "                    exp.delay(signal=\"apd\", time=delay)\n",
    "                    exp.play(signal=\"apd\", pulse=click)\n",
    "\n",
    "    return exp"
   ]
  },
  {
   "cell_type": "markdown",
   "id": "ffd40963",
   "metadata": {},
   "source": [
    "We now test distances from 5 ns in steps of 500 ps, which corresponds to the sampling rate of our SHFSG. We also test the special case of zero distance between pulses. In this corner case, our AWG will interpolate samples of consecutive pulses, effectively generating a single larger pulse. In this special case, we expect only one pulse to be recorded, in all other cases, we should see the timetagger receive all pulses generated."
   ]
  },
  {
   "cell_type": "code",
   "execution_count": null,
   "id": "0f82338c",
   "metadata": {},
   "outputs": [],
   "source": [
    "delay_sweep = LinearSweepParameter(\n",
    "    start=5e-9, stop=0e-9, count=11, axis_name=\"distance between pulses [s]\"\n",
    ")\n",
    "\n",
    "npulses_for_test = 3000\n",
    "\n",
    "exp = sweepclickdistance(npulses_for_test, delay_sweep)\n",
    "\n",
    "cexp = session.compile(exp)"
   ]
  },
  {
   "cell_type": "markdown",
   "id": "4cc1cbca",
   "metadata": {},
   "source": [
    "As always, we call an instance of the counter and run the experiment."
   ]
  },
  {
   "cell_type": "code",
   "execution_count": null,
   "id": "92572a1c",
   "metadata": {},
   "outputs": [],
   "source": [
    "counter = CountBetweenMarkers(\n",
    "    tagger=timetagger,\n",
    "    click_channel=counter_input,\n",
    "    begin_channel=gate_start_input,\n",
    "    end_channel=gate_end_input,\n",
    "    n_values=delay_sweep.count,\n",
    ")\n",
    "\n",
    "result = session.run(cexp)"
   ]
  },
  {
   "cell_type": "markdown",
   "id": "72e115d0",
   "metadata": {},
   "source": [
    "We now plot the result by checking the number of pulses detected per sweep step and subtracting the number of pulse generated for the AWG. It can be seen that outside of the special step of zero distance, all other steps correctly detected all pulses."
   ]
  },
  {
   "cell_type": "code",
   "execution_count": null,
   "id": "6d85dcc9",
   "metadata": {},
   "outputs": [],
   "source": [
    "x = delay_sweep.values / 1e-9  # in ns\n",
    "y = counter.getData()\n",
    "y1 = y - npulses_for_test\n",
    "print(y1)\n",
    "\n",
    "plt.plot(x, y1, \"o-\", label=\"difference from pulse sent\")\n",
    "plt.legend()\n",
    "plt.title(\"Delay sweep between clicks\")\n",
    "plt.xlabel(\"Distance between clicks [ns]\")"
   ]
  },
  {
   "cell_type": "markdown",
   "id": "3694bd24",
   "metadata": {},
   "source": [
    "## 2.5 Check how much time is needed between shots\n",
    "\n",
    "One last relevant value to check, is how long we can wait between shots to give enough time for the counter card to recover. This will give us an idea of how long we should wait to avoid overloading the device"
   ]
  },
  {
   "cell_type": "code",
   "execution_count": null,
   "id": "459677c4",
   "metadata": {},
   "outputs": [],
   "source": [
    "def sweepresetdelay(\n",
    "    pulse_count: int,\n",
    "    delay_sweep,\n",
    "    click_up_length=13e-9,\n",
    "    click_down_length=10e-9,\n",
    "    click_amplitude=1.0,\n",
    "):\n",
    "    exp = Experiment(\n",
    "        uid=\"click_delay\",\n",
    "        signals=[ExperimentSignal(\"apd\", map_to=apd_lsg)],\n",
    "    )\n",
    "\n",
    "    # define what a click is\n",
    "    click = pulse_library.const(\n",
    "        \"click\", length=click_up_length, amplitude=click_amplitude\n",
    "    )\n",
    "\n",
    "    with exp.acquire_loop_rt(\n",
    "        uid=\"counts\",\n",
    "        count=1,\n",
    "    ):\n",
    "        with exp.sweep(parameter=delay_sweep) as delay:\n",
    "            # send fixed number of pulses\n",
    "            with exp.section(\n",
    "                uid=\"readout\",\n",
    "                trigger={\"apd\": {\"state\": True}},\n",
    "            ):\n",
    "                for _ in range(pulse_count):\n",
    "                    exp.delay(signal=\"apd\", time=click_down_length)\n",
    "                    exp.play(signal=\"apd\", pulse=click)\n",
    "\n",
    "            # reset delay section with swept length\n",
    "            with exp.section(uid=\"reset_delay\"):\n",
    "                exp.delay(signal=\"apd\", time=delay)\n",
    "\n",
    "    return exp"
   ]
  },
  {
   "cell_type": "markdown",
   "id": "b7bd0e05",
   "metadata": {},
   "source": [
    "let's run this experiment again"
   ]
  },
  {
   "cell_type": "code",
   "execution_count": null,
   "id": "dd045640",
   "metadata": {},
   "outputs": [],
   "source": [
    "reset_delay_sweep = LinearSweepParameter(\n",
    "    start=90e-6, stop=52e-6, count=50, axis_name=\"Reset delay [s]\"\n",
    ")\n",
    "\n",
    "npulses_for_test = 10\n",
    "\n",
    "exp = sweepresetdelay(npulses_for_test, reset_delay_sweep)\n",
    "\n",
    "cexp = session.compile(exp)"
   ]
  },
  {
   "cell_type": "code",
   "execution_count": null,
   "id": "96157cd2",
   "metadata": {},
   "outputs": [],
   "source": [
    "# prepare counter based on the dimension of the sweep\n",
    "counter = CountBetweenMarkers(\n",
    "    tagger=timetagger,\n",
    "    click_channel=counter_input,\n",
    "    begin_channel=gate_start_input,\n",
    "    end_channel=gate_end_input,\n",
    "    n_values=reset_delay_sweep.count,\n",
    ")\n",
    "\n",
    "result = session.run(cexp)"
   ]
  },
  {
   "cell_type": "code",
   "execution_count": null,
   "id": "8108f476",
   "metadata": {},
   "outputs": [],
   "source": [
    "x = reset_delay_sweep.values / 1e-9  # in ns\n",
    "y = counter.getData()\n",
    "y1 = y - npulses_for_test\n",
    "\n",
    "plt.plot(x, y1, \"o-\", label=\"difference from pulse sent\")\n",
    "plt.legend()\n",
    "plt.title(\"Reset sweep between clicks\")\n",
    "plt.xlabel(\"Distance between shots [ns]\")"
   ]
  },
  {
   "cell_type": "markdown",
   "id": "7efa6f79",
   "metadata": {},
   "source": [
    "# 3 Write a function to run a general experiment using the counter card"
   ]
  },
  {
   "cell_type": "markdown",
   "id": "650de2be",
   "metadata": {},
   "source": [
    "Now that we checked that the tagger is running as intended and is correctly set, what we miss is integrating his functionality in our LabOne Q object. Calling neartime callback functions is a possibility, but it would slow down the experiment byu exiting the neartime loop. Instead, we set the timetagger in advance to the number of gate that it should expect, and then we perform offline the operation needed to transport the result of the timetagger to the Result object."
   ]
  },
  {
   "cell_type": "code",
   "execution_count": null,
   "id": "2271799b",
   "metadata": {},
   "outputs": [],
   "source": [
    "def run_with_counter(\n",
    "    session: Session,\n",
    "    experiment: Experiment,\n",
    "    handle=\"timetagger\",\n",
    "):\n",
    "    # gete the acquire_loop_rt of an experiment\n",
    "    rt_loop = experiment.get_rt_acquire_loop()\n",
    "\n",
    "    # averages times sweep dimensions\n",
    "    n_average = rt_loop.count\n",
    "    n_nt_sweep = tuple(\n",
    "        s.parameters[0].values.size\n",
    "        for s in experiment.all_sections()\n",
    "        if isinstance(s, (Sweep)) and s.execution_type == ExecutionType.NEAR_TIME\n",
    "    )\n",
    "    n_rt_sweep = tuple(\n",
    "        s.parameters[0].values.size\n",
    "        for s in experiment.all_sections()\n",
    "        if isinstance(s, (Sweep)) and s.execution_type == ExecutionType.REAL_TIME\n",
    "    )\n",
    "    total_sweep_steps = max(1, np.prod(n_nt_sweep)) * max(1, np.prod(n_rt_sweep))\n",
    "\n",
    "    # set total number of acquire instruction expected\n",
    "    size_of_result_object = n_average * total_sweep_steps\n",
    "\n",
    "    # before the experiment, activate the counter in the way desired\n",
    "    counter_between_markers = CountBetweenMarkers(\n",
    "        timetagger,\n",
    "        click_channel=counter_input,\n",
    "        begin_channel=gate_start_input,\n",
    "        end_channel=gate_end_input,\n",
    "        n_values=size_of_result_object,\n",
    "    )\n",
    "\n",
    "    # run the experiment, assuming gate are properly set, this will create the correct number of results\n",
    "    my_result = session.run(experiment)\n",
    "\n",
    "    # now result is inside the counter, reshape to sweep size\n",
    "    data = counter_between_markers.getData()\n",
    "\n",
    "    # reshape and averaging according to AveragingMode of rt loop\n",
    "    if rt_loop.averaging_mode == AveragingMode.SINGLE_SHOT:\n",
    "        processed_data = data\n",
    "    elif rt_loop.averaging_mode == AveragingMode.CYCLIC:\n",
    "        processed_data = np.mean(\n",
    "            data.reshape(*n_nt_sweep, n_average, *n_rt_sweep), axis=len(n_nt_sweep)\n",
    "        )\n",
    "    elif rt_loop.averaging_mode == AveragingMode.SEQUENTIAL:\n",
    "        processed_data = np.mean(\n",
    "            data.reshape(*n_nt_sweep, *n_rt_sweep, n_average),\n",
    "            axis=len(n_nt_sweep) + len(n_rt_sweep),\n",
    "        )\n",
    "\n",
    "    my_result.acquired_results = {\n",
    "        handle: AcquiredResult(\n",
    "            data=processed_data,\n",
    "            axis=[\n",
    "                s.parameters[0].values\n",
    "                if isinstance(s.parameters, list)\n",
    "                else s.parameters.uid\n",
    "                for s in experiment.all_sections()\n",
    "                if isinstance(s, (Sweep))\n",
    "            ],\n",
    "            axis_name=[\n",
    "                s.parameters[0].uid\n",
    "                if isinstance(s.parameters, list)\n",
    "                else s.parameters.uid\n",
    "                for s in experiment.all_sections()\n",
    "                if isinstance(s, (Sweep))\n",
    "            ],\n",
    "            handle=handle,\n",
    "        )\n",
    "    }\n",
    "\n",
    "    return my_result, counter_between_markers"
   ]
  },
  {
   "cell_type": "markdown",
   "id": "aeb74a0f",
   "metadata": {},
   "source": [
    "# 4 Run general experiment for Color Centers using a Timetagger\n",
    "\n",
    "Now that we have a general function to use the TimeTagger, we can run any experiment that we wish using this method. As long as a gate is present in the sequence, also previously defined experiment can be used for the purpose, for example the one illustrated in the example [Color Centers - Basic Experiments](https://docs.zhinst.com/labone_q_user_manual/applications_library/how-to-guides/sources/03_color_centers/00_shfsg_basic_experiments.html). In this chapter, we will use a setup like the one illustrated for the picture below. We will use just a green laser for simplicity, i.e. just channel 2 of the SHFSG. Adding more AOM is trivial as illustrated in the next section.\n",
    "\n",
    "![](../../images/timetagger_setup_2.svg \"Sketch of a setup for NV centers control using a SHFSG and an external counter card.\")\n",
    "\n",
    "## 4.0 Define parameters for the notebook\n",
    " Let's define sections following the same convention of our previous example. Like this, the experiments can be written more compactly, leaving to the user just the task of writing the drive section. We will use the line drive for both sending RF signal and opening the gate for the counter card, while a second line, AOM, will be used to send a trigger to the laser. For this implementation, we switch to markers to achieve a sample precise trigger. Check [Triggers and Markers](https://docs.zhinst.com/labone_q_user_manual/core/functionality_and_concepts/03_sections_pulses_and_quantum_operations/concepts/07_trigger_marker.html) to see the difference between the two in more details."
   ]
  },
  {
   "cell_type": "code",
   "execution_count": null,
   "id": "e15952d9",
   "metadata": {},
   "outputs": [],
   "source": [
    "# Parameters\n",
    "Trigger_Pulse_length = 250e-9\n",
    "AOM_pulse_length = 3e-6 + Trigger_Pulse_length\n",
    "repetition_time = 100e-6\n",
    "\n",
    "# Signals\n",
    "## function to automatically generate ExperimentSignal needed for single NV centers\n",
    "\n",
    "\n",
    "def generate_nv_signals():\n",
    "    signals = [\n",
    "        ExperimentSignal(\"drive\", map_to=drive_lsg),\n",
    "        ExperimentSignal(\"AOM\", map_to=aom_lsg),\n",
    "    ]\n",
    "    return signals\n",
    "\n",
    "\n",
    "# Pulses\n",
    "pi_pulse = pulse_library.const(\n",
    "    uid=\"pi_pulse\", length=500e-9, amplitude=0.9, can_compress=True\n",
    ")\n",
    "pi_half_pulse = pulse_library.const(\n",
    "    uid=\"pi_2_pulse\", length=250e-9, amplitude=0.9, can_compress=True\n",
    ")\n",
    "\n",
    "# Sections\n",
    "\n",
    "## AOM, activate laser\n",
    "AOM = Section(uid=\"AOM\")\n",
    "AOM.play(\n",
    "    signal=\"AOM\",\n",
    "    pulse=None,\n",
    "    marker={\"marker1\": {\"start\": 0, \"length\": AOM_pulse_length}},\n",
    ")\n",
    "AOM.reserve(signal=\"drive\")\n",
    "\n",
    "## Readout, activate laser and the timetagger\n",
    "Readout = Section(\n",
    "    uid=\"readout\",\n",
    ")\n",
    "Readout.play(\n",
    "    signal=\"AOM\",\n",
    "    pulse=None,\n",
    "    marker={\"marker1\": {\"start\": 0, \"length\": Trigger_Pulse_length}},\n",
    ")\n",
    "Readout.play(\n",
    "    signal=\"drive\",\n",
    "    pulse=None,\n",
    "    marker={\"marker1\": {\"start\": 0, \"length\": Trigger_Pulse_length}},\n",
    ")"
   ]
  },
  {
   "cell_type": "markdown",
   "id": "e2f60280",
   "metadata": {},
   "source": [
    "## 4.1 ODMR"
   ]
  },
  {
   "cell_type": "code",
   "execution_count": null,
   "id": "65e800b5",
   "metadata": {},
   "outputs": [],
   "source": [
    "odmr_exp = Experiment(uid=\"odmr\", signals=generate_nv_signals())\n",
    "\n",
    "freq_sweep = LinearSweepParameter(\n",
    "    start=-300e6, stop=300e6, count=50, axis_name=\"Frequency [Hz]\"\n",
    ")\n",
    "\n",
    "with odmr_exp.acquire_loop_rt(\n",
    "    count=1000, repetition_mode=RepetitionMode.CONSTANT, repetition_time=repetition_time\n",
    "):\n",
    "    with odmr_exp.sweep(parameter=freq_sweep):\n",
    "        # shine laser\n",
    "        odmr_exp.add(AOM)\n",
    "\n",
    "        # qubit manipulation\n",
    "        with odmr_exp.section(uid=\"manipulation\"):\n",
    "            odmr_exp.play(signal=\"drive\", pulse=pi_pulse)\n",
    "\n",
    "        # readout\n",
    "        odmr_exp.add(Readout)\n",
    "\n",
    "cal = Calibration()\n",
    "cal[\"drive\"] = SignalCalibration(oscillator=Oscillator(frequency=freq_sweep))\n",
    "odmr_exp.set_calibration(cal)"
   ]
  },
  {
   "cell_type": "markdown",
   "id": "f809c809",
   "metadata": {},
   "source": [
    "Now let's run it with the TimeTagger! It is as easy as calling the function of the defined experiment"
   ]
  },
  {
   "cell_type": "code",
   "execution_count": null,
   "id": "f18e76d0",
   "metadata": {},
   "outputs": [],
   "source": [
    "result_odmr, counter_odmr = run_with_counter(session, odmr_exp)"
   ]
  },
  {
   "cell_type": "markdown",
   "id": "fd564597",
   "metadata": {},
   "source": [
    "## 4.2 Ramsey"
   ]
  },
  {
   "cell_type": "code",
   "execution_count": null,
   "id": "23b55e4c",
   "metadata": {},
   "outputs": [],
   "source": [
    "ramsey_exp = Experiment(uid=\"ramsey\", signals=generate_nv_signals())\n",
    "\n",
    "ramsey_sweep = LinearSweepParameter(start=0, stop=5e-6, count=11, axis_name=\"Delay [s]\")\n",
    "\n",
    "with ramsey_exp.acquire_loop_rt(\n",
    "    count=1000, repetition_mode=RepetitionMode.CONSTANT, repetition_time=repetition_time\n",
    "):\n",
    "    with ramsey_exp.sweep(parameter=ramsey_sweep) as delay:\n",
    "        # shine laser\n",
    "        ramsey_exp.add(AOM)\n",
    "\n",
    "        # qubit manipulation\n",
    "        with ramsey_exp.section(uid=\"manipulation\"):\n",
    "            ramsey_exp.play(signal=\"drive\", pulse=pi_half_pulse)\n",
    "            ramsey_exp.delay(signal=\"drive\", time=delay)\n",
    "            ramsey_exp.play(signal=\"drive\", pulse=pi_half_pulse)\n",
    "\n",
    "        # readout\n",
    "        ramsey_exp.add(Readout)"
   ]
  },
  {
   "cell_type": "code",
   "execution_count": null,
   "id": "c24398d7",
   "metadata": {},
   "outputs": [],
   "source": [
    "ramsey_result, ramsey_counter = run_with_counter(session, ramsey_exp)"
   ]
  },
  {
   "cell_type": "markdown",
   "id": "fde25604",
   "metadata": {},
   "source": [
    "## 4.3 Hahn Echo"
   ]
  },
  {
   "cell_type": "code",
   "execution_count": null,
   "id": "cfebe72f",
   "metadata": {},
   "outputs": [],
   "source": [
    "hecho_exp = Experiment(uid=\"hahn echo\", signals=generate_nv_signals())\n",
    "\n",
    "hecho_sweep = LinearSweepParameter(start=0, stop=5e-6, count=11, axis_name=\"Delay [s]\")\n",
    "\n",
    "with hecho_exp.acquire_loop_rt(\n",
    "    count=1000, repetition_mode=RepetitionMode.CONSTANT, repetition_time=repetition_time\n",
    "):\n",
    "    with hecho_exp.sweep(parameter=hecho_sweep) as delay:\n",
    "        # shine laser\n",
    "        hecho_exp.add(AOM)\n",
    "\n",
    "        # qubit manipulation\n",
    "        with hecho_exp.section(uid=\"manipulation\"):\n",
    "            hecho_exp.play(signal=\"drive\", pulse=pi_half_pulse)\n",
    "            hecho_exp.delay(signal=\"drive\", time=delay)\n",
    "            hecho_exp.play(signal=\"drive\", pulse=pi_pulse)\n",
    "            hecho_exp.delay(signal=\"drive\", time=delay)\n",
    "            hecho_exp.play(signal=\"drive\", pulse=pi_half_pulse)\n",
    "\n",
    "        # readout\n",
    "        hecho_exp.add(Readout)"
   ]
  },
  {
   "cell_type": "code",
   "execution_count": null,
   "id": "04b721c1",
   "metadata": {},
   "outputs": [],
   "source": [
    "hecho_result, hecho_counter = run_with_counter(session, hecho_exp)"
   ]
  },
  {
   "cell_type": "markdown",
   "id": "d65fb038",
   "metadata": {},
   "source": [
    "## 4.4 Dynamical decoupling"
   ]
  },
  {
   "cell_type": "markdown",
   "id": "1bc3eaaa",
   "metadata": {},
   "source": [
    "Using our decorator from before, we can also compactly implement a Dynamical decoupling sequence"
   ]
  },
  {
   "cell_type": "code",
   "execution_count": null,
   "id": "7b2fe9a2",
   "metadata": {},
   "outputs": [],
   "source": [
    "dd_exp = Experiment(uid=\"dynamical_decoupling\", signals=generate_nv_signals())\n",
    "\n",
    "dd_sweep = LinearSweepParameter(\n",
    "    start=1, stop=20, count=20, axis_name=\"number of pulses\"\n",
    ")\n",
    "\n",
    "with dd_exp.acquire_loop_rt(\n",
    "    count=1000, repetition_mode=RepetitionMode.CONSTANT, repetition_time=repetition_time\n",
    "):\n",
    "    with dd_exp.sweep(parameter=dd_sweep) as npulses:\n",
    "        # Add sequence\n",
    "\n",
    "        # shine laser\n",
    "        dd_exp.add(AOM)\n",
    "\n",
    "        # qubit manipulation\n",
    "        with dd_exp.section(uid=\"manipulation\"):\n",
    "            # sweep pulses\n",
    "            with dd_exp.match(sweep_parameter=npulses):\n",
    "                for number_of_pulses in npulses.values:\n",
    "                    with dd_exp.case(number_of_pulses):\n",
    "                        # first pi_half pulse\n",
    "                        dd_exp.play(signal=\"drive\", pulse=pi_half_pulse)\n",
    "\n",
    "                        # N times pi pulses\n",
    "                        for _ in range(int(number_of_pulses)):\n",
    "                            dd_exp.delay(signal=\"drive\", time=100e-9)\n",
    "                            dd_exp.play(signal=\"drive\", pulse=pi_pulse)\n",
    "\n",
    "                        # last pi_half pulse\n",
    "                        dd_exp.play(signal=\"drive\", pulse=pi_half_pulse)\n",
    "\n",
    "        # readout\n",
    "        dd_exp.add(Readout)"
   ]
  },
  {
   "cell_type": "code",
   "execution_count": null,
   "id": "a6cfb4fc",
   "metadata": {},
   "outputs": [],
   "source": [
    "dd_result, dd_counter = run_with_counter(session, dd_exp)"
   ]
  },
  {
   "cell_type": "markdown",
   "id": "00d97b17",
   "metadata": {},
   "source": [
    "## 4.5 Rabi"
   ]
  },
  {
   "cell_type": "code",
   "execution_count": null,
   "id": "a57f340d",
   "metadata": {},
   "outputs": [],
   "source": [
    "rabi_exp = Experiment(uid=\"rabi\", signals=generate_nv_signals())\n",
    "\n",
    "rabi_sweep = LinearSweepParameter(start=0, stop=3e-6, count=21, axis_name=\"Length [s]\")\n",
    "\n",
    "with rabi_exp.acquire_loop_rt(\n",
    "    count=1000, repetition_mode=RepetitionMode.CONSTANT, repetition_time=repetition_time\n",
    "):\n",
    "    with rabi_exp.sweep(parameter=rabi_sweep) as length:\n",
    "        # shine laser\n",
    "        rabi_exp.add(AOM)\n",
    "\n",
    "        # qubit manipulation\n",
    "        with rabi_exp.section(uid=\"manipulation\"):\n",
    "            rabi_exp.play(signal=\"drive\", pulse=pi_pulse, length=length)\n",
    "\n",
    "        # readout\n",
    "        rabi_exp.add(Readout)"
   ]
  },
  {
   "cell_type": "code",
   "execution_count": null,
   "id": "e6df04ff",
   "metadata": {},
   "outputs": [],
   "source": [
    "rabi_result, rabi_counter = run_with_counter(session, rabi_exp)"
   ]
  },
  {
   "cell_type": "markdown",
   "id": "4d929c2f",
   "metadata": {},
   "source": [
    "## 4.6 T1 Relaxometry"
   ]
  },
  {
   "cell_type": "code",
   "execution_count": null,
   "id": "b63b5e22",
   "metadata": {},
   "outputs": [],
   "source": [
    "t1_exp = Experiment(uid=\"T1 relaxometry\", signals=generate_nv_signals())\n",
    "\n",
    "t1_sweep = LinearSweepParameter(start=0, stop=10e-3, count=101, axis_name=\"Delay [s]\")\n",
    "\n",
    "with t1_exp.acquire_loop_rt(\n",
    "    count=1000, repetition_mode=RepetitionMode.CONSTANT, repetition_time=11e-3\n",
    "):\n",
    "    with t1_exp.sweep(parameter=t1_sweep) as delay:\n",
    "        # shine laser\n",
    "        t1_exp.add(AOM)\n",
    "\n",
    "        # qubit manipulation\n",
    "        with t1_exp.section(uid=\"manipulation\"):\n",
    "            t1_exp.play(signal=\"drive\", pulse=pi_pulse)\n",
    "            t1_exp.delay(signal=\"drive\", time=delay)\n",
    "\n",
    "        # readout\n",
    "        rabi_exp.add(Readout)"
   ]
  },
  {
   "cell_type": "code",
   "execution_count": null,
   "id": "fe17504a",
   "metadata": {},
   "outputs": [],
   "source": [
    "t1_result, t1_counter = run_with_counter(session, t1_exp)"
   ]
  },
  {
   "cell_type": "code",
   "execution_count": null,
   "id": "065968f0",
   "metadata": {},
   "outputs": [],
   "source": []
  }
 ],
 "metadata": {
  "hide_input": false,
  "kernelspec": {
   "display_name": "l1qal",
   "language": "python",
   "name": "python3"
  },
  "language_info": {
   "codemirror_mode": {
    "name": "ipython",
    "version": 3
   },
   "file_extension": ".py",
   "mimetype": "text/x-python",
   "name": "python",
   "nbconvert_exporter": "python",
   "pygments_lexer": "ipython3",
   "version": "3.10.0"
  },
  "toc": {
   "base_numbering": 1,
   "nav_menu": {},
   "number_sections": true,
   "sideBar": true,
   "skip_h1_title": false,
   "title_cell": "Table of Contents",
   "title_sidebar": "Contents",
   "toc_cell": false,
   "toc_position": {},
   "toc_section_display": true,
   "toc_window_display": true
  },
  "varInspector": {
   "cols": {
    "lenName": 16,
    "lenType": 16,
    "lenVar": 40
   },
   "kernels_config": {
    "python": {
     "delete_cmd_postfix": "",
     "delete_cmd_prefix": "del ",
     "library": "var_list.py",
     "varRefreshCmd": "print(var_dic_list())"
    },
    "r": {
     "delete_cmd_postfix": ") ",
     "delete_cmd_prefix": "rm(",
     "library": "var_list.r",
     "varRefreshCmd": "cat(var_dic_list()) "
    }
   },
   "types_to_exclude": [
    "module",
    "function",
    "builtin_function_or_method",
    "instance",
    "_Feature"
   ],
   "window_display": false
  }
 },
 "nbformat": 4,
 "nbformat_minor": 5
}
