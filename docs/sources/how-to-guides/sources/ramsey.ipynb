{
 "cells": [
  {
   "cell_type": "markdown",
   "id": "3cd2ddc8",
   "metadata": {},
   "source": [
    "## How To Perform a Ramsey inteferometry Experiment"
   ]
  },
  {
   "cell_type": "markdown",
   "id": "077f977a",
   "metadata": {},
   "source": [
    "### Prerequisites\n",
    "This guide assumes you have a configured `DeviceSetup` as well as `Qubit` objects with assigned parameters. Please see these guides (add links) if you need to create your setup and qubits for the first time. However, you can also run this notebook \"as is\" using an emulated session. If you are just getting started with the LabOne Q Applications Library, please don't hesitate to reach out to us at info@zhinst.com."
   ]
  },
  {
   "cell_type": "markdown",
   "id": "905a0241",
   "metadata": {},
   "source": [
    "### Background\n",
    "In this how-to guide, you'll perform an experiment to find the qubit frequency and $T_2^*$ time of transmons using the `ramsey` experiment included in the LabOne Q Applications Library. \n",
    "\n",
    "In a Ramsey inteferometry experiment, you'll vary the wait time, $t_{wait}$, between the two $X_{90}$ operations, and give a parameter `detuning`, $\\Delta f$ in unit of Hz. A phase $\\phi_2(t_{wait})$ is calculated from $t_{wait}$ by using the parameter `detuning`:\n",
    "\n",
    "$$\\phi_2(t_{wait}) = 2\\pi \\Delta f \\cdot t_{wait} $$\n",
    "\n",
    "and added to the second $X_{90}$ operation. This way, the second $X_{90}$ operation is equivalent to a rotation around the $z$-axis by $\\phi_2(t_{wait})$, followed by a rotation around the $x$-axis by $\\pi/2$."
   ]
  },
  {
   "cell_type": "markdown",
   "id": "647591ec",
   "metadata": {},
   "source": [
    "### Imports\n",
    "\n",
    "You'll start by importing the Ramsey experiment from `laboneq_applications`, as well as `laboneq.simple` and a demo QPU and device setup to run in emulation mode."
   ]
  },
  {
   "cell_type": "code",
   "execution_count": null,
   "id": "9bcc9013",
   "metadata": {},
   "outputs": [],
   "source": [
    "import numpy as np\n",
    "from laboneq.contrib.example_helpers.plotting.plot_helpers import plot_simulation\n",
    "from laboneq.simple import *\n",
    "\n",
    "from laboneq_applications.experiments import ramsey\n",
    "from laboneq_applications.qpu_types.tunable_transmon.demo_qpus import demo_platform\n",
    "\n",
    "# from laboneq_applications.experiments.options import TuneupExperimentOptions"
   ]
  },
  {
   "cell_type": "markdown",
   "id": "06af4979",
   "metadata": {},
   "source": [
    "### QPU and Device Setup\n",
    "\n",
    "You'll generate six qubits with pre-defined parameters, as well as a `Device_Setup` consisting of a SHFQC+, HDAWG, and PQSC. If you already have your own `DeviceSetup` and qubits configured, you'll instead initialize the session using your setup."
   ]
  },
  {
   "cell_type": "code",
   "execution_count": null,
   "id": "d4b38157",
   "metadata": {},
   "outputs": [],
   "source": [
    "my_platform = demo_platform(6)"
   ]
  },
  {
   "cell_type": "markdown",
   "id": "c2726dbc",
   "metadata": {},
   "source": [
    "Then, you'll connect to the `Session`. Here we connect to an emulated one:"
   ]
  },
  {
   "cell_type": "code",
   "execution_count": null,
   "id": "4e652b5b",
   "metadata": {},
   "outputs": [],
   "source": [
    "session = Session(my_platform.setup)\n",
    "session.connect(do_emulation=True)"
   ]
  },
  {
   "cell_type": "markdown",
   "id": "6625d2ec",
   "metadata": {},
   "source": [
    "### Running the Ramsey Workflow\n",
    "\n",
    "You'll now make the experiment workflow and run:"
   ]
  },
  {
   "cell_type": "code",
   "execution_count": null,
   "id": "07db542c",
   "metadata": {},
   "outputs": [],
   "source": [
    "# our qubits live here in the demo setup:\n",
    "qubits = my_platform.qpu.qubits\n",
    "\n",
    "my_workflow = ramsey.experiment_workflow(\n",
    "    session=session,\n",
    "    qpu=my_platform.qpu,\n",
    "    qubits=[qubits[0], qubits[1]],\n",
    "    wait_times=[np.linspace(0, 1e-6, 10), np.linspace(0, 1e-6, 10)],\n",
    "    detunings={qubits[0].uid: 1e6, qubits[1].uid: 1e6},\n",
    ")\n",
    "\n",
    "my_results = my_workflow.run()"
   ]
  },
  {
   "cell_type": "markdown",
   "id": "3acdbe8f",
   "metadata": {},
   "source": [
    "#### Output Simulation\n",
    "\n",
    "You can also inspect the compiled experiment and plot the simulated output:"
   ]
  },
  {
   "cell_type": "code",
   "execution_count": null,
   "id": "576cd72a",
   "metadata": {},
   "outputs": [],
   "source": [
    "compiled_ramsey = my_results.tasks[\"compile_experiment\"].output\n",
    "plot_simulation(compiled_ramsey, length=50e-6)"
   ]
  },
  {
   "cell_type": "markdown",
   "id": "4b965e92",
   "metadata": {},
   "source": [
    "#### Inspecting the Source Code\n",
    "\n",
    "You can inspect the source code of the `create_experiment` task defined in `ramsey` to see how the experiment pulse sequence is created:"
   ]
  },
  {
   "cell_type": "code",
   "execution_count": null,
   "id": "37c5cc55",
   "metadata": {},
   "outputs": [],
   "source": [
    "ramsey.create_experiment.src"
   ]
  },
  {
   "cell_type": "markdown",
   "id": "d727ef76",
   "metadata": {},
   "source": [
    "### Changing the Options\n",
    "\n",
    "We can give our Rabi experiment options. First, inspect what they currently are:"
   ]
  },
  {
   "cell_type": "code",
   "execution_count": null,
   "id": "da6d9a81",
   "metadata": {},
   "outputs": [],
   "source": [
    "my_new_opts = ramsey.options()\n",
    "my_new_opts"
   ]
  },
  {
   "cell_type": "markdown",
   "id": "7ed3154c",
   "metadata": {},
   "source": [
    "Then provide new options. This time, you'll remove the calibration traces and change the counts."
   ]
  },
  {
   "cell_type": "code",
   "execution_count": null,
   "id": "62b7ac53",
   "metadata": {},
   "outputs": [],
   "source": [
    "my_new_opts.create_experiment.count = 2048\n",
    "my_new_opts.create_experiment.use_cal_traces = False\n",
    "my_new_opts"
   ]
  },
  {
   "cell_type": "markdown",
   "id": "fe50952e",
   "metadata": {},
   "source": [
    "#### Run the workflow with updated options\n",
    "\n",
    "Now, run the workflow with new options and inspect the simulated output. You'll notice that the calibration traces are no longer there."
   ]
  },
  {
   "cell_type": "code",
   "execution_count": null,
   "id": "27a02bcd",
   "metadata": {},
   "outputs": [],
   "source": [
    "my_new_workflow = ramsey.experiment_workflow(\n",
    "    session=session,\n",
    "    qpu=my_platform.qpu,\n",
    "    qubits=[qubits[0], qubits[1]],\n",
    "    wait_times=[np.linspace(0, 1e-6, 10), np.linspace(0, 1e-6, 10)],\n",
    "    detunings={qubits[0].uid: 1e6, qubits[1].uid: 1e6},\n",
    "    options=my_new_opts,\n",
    ")\n",
    "\n",
    "my_new_results = my_new_workflow.run()\n",
    "new_compiled_ramsey = my_new_results.tasks[\"compile_experiment\"].output\n",
    "plot_simulation(new_compiled_ramsey, length=50e-6)"
   ]
  },
  {
   "cell_type": "markdown",
   "id": "54313ffa",
   "metadata": {},
   "source": [
    "### Temporary settings\n",
    "\n",
    "The qubit parameters are used to control the settings of pulses and instruments during the experiment. We can run the amplitude-Rabi experiment with different settings by passing it a copy of the qubits with modified parameters:"
   ]
  },
  {
   "cell_type": "code",
   "execution_count": null,
   "id": "06f36f82",
   "metadata": {},
   "outputs": [],
   "source": [
    "# Make a copy of the qubits\n",
    "temp_qubits = my_platform.qpu.copy_qubits()\n",
    "# Change the length of the drive pulses\n",
    "temp_qubits[0].parameters.ge_drive_length = 1000e-9\n",
    "temp_qubits[1].parameters.ge_drive_length = 1000e-9\n",
    "\n",
    "my_new_workflow = ramsey.experiment_workflow(\n",
    "    session=session,\n",
    "    qpu=my_platform.qpu,\n",
    "    qubits=[temp_qubits[0], temp_qubits[1]],  # pass temporary qubits\n",
    "    wait_times=[np.linspace(0, 1e-6, 10), np.linspace(0, 1e-6, 10)],\n",
    "    detunings={temp_qubits[0].uid: 1e6, temp_qubits[1].uid: 1e6},\n",
    "    options=my_new_opts,\n",
    ")\n",
    "\n",
    "my_new_results = my_new_workflow.run()\n",
    "new_compiled_ramsey = my_new_results.tasks[\"compile_experiment\"].output\n",
    "plot_simulation(new_compiled_ramsey, length=10e-6)"
   ]
  },
  {
   "cell_type": "markdown",
   "id": "c0f9d412",
   "metadata": {},
   "source": [
    "Great! You've now run your Ramsey experiment. Check out these other experiments to keep characterizing your qubits:"
   ]
  },
  {
   "cell_type": "markdown",
   "id": "fccede4d",
   "metadata": {},
   "source": []
  }
 ],
 "metadata": {
  "jupytext": {
   "cell_metadata_filter": "-all",
   "main_language": "python",
   "notebook_metadata_filter": "-all"
  },
  "kernelspec": {
   "display_name": "Python 3 (ipykernel)",
   "language": "python",
   "name": "python3"
  },
  "language_info": {
   "codemirror_mode": {
    "name": "ipython",
    "version": 3
   },
   "file_extension": ".py",
   "mimetype": "text/x-python",
   "name": "python",
   "nbconvert_exporter": "python",
   "pygments_lexer": "ipython3",
   "version": "3.10.13"
  }
 },
 "nbformat": 4,
 "nbformat_minor": 5
}
