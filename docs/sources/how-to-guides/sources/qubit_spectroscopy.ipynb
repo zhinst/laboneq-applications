{
 "cells": [
  {
   "cell_type": "markdown",
   "metadata": {},
   "source": [
    "## How To Perform an Amplitude Rabi Experiment"
   ]
  },
  {
   "cell_type": "markdown",
   "metadata": {},
   "source": [
    "### Prerequisites\n",
    "This guide assumes you have a configured `DeviceSetup` as well as `Qubit` objects with assigned parameters. Please see these guides (add links) if you need to create your setup and qubits for the first time. However, you can also run this notebook \"as is\" using an emulated session. If you are just getting started with the LabOne Q Applications Library, please don't hesitate to reach out to us at info@zhinst.com."
   ]
  },
  {
   "cell_type": "markdown",
   "metadata": {},
   "source": [
    "### Background\n",
    "In this how-to guide, you'll perform a measurement to determine the qubit transition frequency. The LabOne Q Applications Library provides different experiment workflows to achieve this task. You can either just sweep the frequency of a qubit drive pulse using the `qubit_spectroscopy` experiment workflow, or perform a 2D sweep to optimize at the same time the amplitude of the qubit drive pulse (the `qubit_spectroscopy_amplitude` experiment workflow).\n",
    "\n",
    "Below is a simple diagram of showing the ground and the first excited state of a qubit, where the transition frequency corresponds to the $\\omega_{01}$.\n",
    "\n",
    "![](../../../images/qubit_ge.svg \"Sketch of ground and first excited states of a qubit\")\n",
    "\n",
    "As the swept qubit drive frequency comes close to the qubit transition frequency, the qubit will be driven out of its ground state. Due to dispersive coupling (see dispersive readout how-to for more detail), the signal from the readout resonator will then experience a shift in magnitude and phase.\n",
    "\n",
    "Plotting the readout signal, we can obtain a lorentzian lineshape as a function of the qubit drive frequency. This lorentzian will be centered around the qubit transition frequency, and from its linewidth we can approximate the qubit dephasing time. Below is an example dataplot of a qubit spectroscopy measurement:\n",
    "\n",
    "![](../../../images/qubit_spec_result.png \"Example data plot of qubit spectroscopy\")"
   ]
  },
  {
   "cell_type": "markdown",
   "metadata": {},
   "source": [
    "### Imports\n",
    "\n",
    "You'll start by importing the qubit spectroscopy experiment from `laboneq_applications`, as well as `laboneq.simple` and a demo QPU and device setup to run in emulation mode."
   ]
  },
  {
   "cell_type": "code",
   "execution_count": null,
   "metadata": {},
   "outputs": [],
   "source": [
    "import numpy as np\n",
    "from laboneq.contrib.example_helpers.plotting.plot_helpers import plot_simulation\n",
    "from laboneq.simple import *\n",
    "\n",
    "from laboneq_applications.experiments import (\n",
    "    qubit_spectroscopy,\n",
    "    qubit_spectroscopy_amplitude,\n",
    ")\n",
    "from laboneq_applications.qpu_types.tunable_transmon.demo_qpus import demo_platform"
   ]
  },
  {
   "cell_type": "markdown",
   "metadata": {},
   "source": [
    "### QPU and Device Setup\n",
    "\n",
    "You'll generate six qubits with pre-defined parameters, as well as a `Device_Setup` consisting of a SHFQC+, HDAWG, and PQSC. If you already have your own `DeviceSetup` and qubits configured, you'll instead initialize the session using your setup."
   ]
  },
  {
   "cell_type": "code",
   "execution_count": null,
   "metadata": {},
   "outputs": [],
   "source": [
    "my_platform = demo_platform(6)"
   ]
  },
  {
   "cell_type": "markdown",
   "metadata": {},
   "source": [
    "Then, you'll connect to the `Session`. Here we connect to an emulated one:"
   ]
  },
  {
   "cell_type": "code",
   "execution_count": null,
   "metadata": {},
   "outputs": [],
   "source": [
    "session = Session(my_platform.setup)\n",
    "session.connect(do_emulation=True)"
   ]
  },
  {
   "cell_type": "markdown",
   "metadata": {},
   "source": [
    "### Running the Qubit Spectroscopy Workflow\n",
    "\n",
    "First, make a demo qubit, and choose a frequency to sweep within +/-500MHz of the drive_lo frequencies of the qubits. Let's choose a realistic value of 6GHz."
   ]
  },
  {
   "cell_type": "code",
   "execution_count": null,
   "metadata": {},
   "outputs": [],
   "source": [
    "# our qubits live here in the demo setup:\n",
    "qubits = my_platform.qpu.qubits\n",
    "\n",
    "for q in [qubits[0], qubits[1]]:\n",
    "    print(\"LO value:\",q.parameters.drive_lo_frequency/1e9, \"GHz\")\n",
    "    q.parameters.drive_lo_frequency = 6e9\n",
    "    print(\"updated LO value:\",q.parameters.drive_lo_frequency/1e9, \"GHz\")"
   ]
  },
  {
   "cell_type": "markdown",
   "metadata": {},
   "source": [
    "You'll now make the experiment workflow and run:"
   ]
  },
  {
   "cell_type": "code",
   "execution_count": null,
   "metadata": {},
   "outputs": [],
   "source": [
    "my_workflow = qubit_spectroscopy.experiment_workflow(\n",
    "    session=session,\n",
    "    qpu=my_platform.qpu,\n",
    "    qubits=[qubits[0], qubits[1]],\n",
    "    frequencies=[np.linspace(5.8e9, 6.2e9, 101), np.linspace(5.8e9, 6.2e9, 101)],\n",
    ")\n",
    "\n",
    "my_results = my_workflow.run()"
   ]
  },
  {
   "cell_type": "markdown",
   "metadata": {},
   "source": [
    "#### Output Simulation\n",
    "\n",
    "You can also inspect the compiled experiment and plot the simulated output:"
   ]
  },
  {
   "cell_type": "code",
   "execution_count": null,
   "metadata": {},
   "outputs": [],
   "source": [
    "compiled_qubit_spec = my_results.tasks[\"compile_experiment\"].output\n",
    "plot_simulation(compiled_qubit_spec, length=50e-6)"
   ]
  },
  {
   "cell_type": "markdown",
   "metadata": {},
   "source": [
    "#### Inspecting the Source Code\n",
    "\n",
    "You can inspect the source code of the `create_experiment` task defined in `qubit_spectroscopy` to see how the experiment pulse sequence is created:"
   ]
  },
  {
   "cell_type": "code",
   "execution_count": null,
   "metadata": {
    "scrolled": true
   },
   "outputs": [],
   "source": [
    "print(qubit_spectroscopy.create_experiment.src)"
   ]
  },
  {
   "cell_type": "markdown",
   "metadata": {},
   "source": [
    "### Changing the Options\n",
    "\n",
    "We can give our Qubit Spectroscopy experiment options. First, inspect what they currently are:"
   ]
  },
  {
   "cell_type": "code",
   "execution_count": null,
   "metadata": {},
   "outputs": [],
   "source": [
    "my_new_opts = qubit_spectroscopy.options()\n",
    "my_new_opts"
   ]
  },
  {
   "cell_type": "markdown",
   "metadata": {},
   "source": [
    "Then provide new options. Let's change the counts"
   ]
  },
  {
   "cell_type": "code",
   "execution_count": null,
   "metadata": {},
   "outputs": [],
   "source": [
    "my_new_opts.create_experiment.count = 1"
   ]
  },
  {
   "cell_type": "markdown",
   "metadata": {},
   "source": [
    "#### Run the workflow with updated options\n",
    "\n",
    "Now, run the workflow with new options and inspect the simulated output. Here, we also reduce the frequency sweep to 2 points, and length of the coherent drive to 1us. Since the new experiment count is 1, you'll notice that there is now only 2 sequences, corresponding to the 2 frequency sweep points repeated once."
   ]
  },
  {
   "cell_type": "code",
   "execution_count": null,
   "metadata": {},
   "outputs": [],
   "source": [
    "my_new_workflow = qubit_spectroscopy.experiment_workflow(\n",
    "    session=session,\n",
    "    qpu=my_platform.qpu,\n",
    "    qubits=[qubits[0], qubits[1]],\n",
    "    frequencies=[np.linspace(5.8e9, 6.2e9, 2), np.linspace(5.8e9, 6.2e9, 2)],\n",
    "    options=my_new_opts,\n",
    ")\n",
    "\n",
    "my_new_results = my_new_workflow.run()\n",
    "new_compiled_qubit_spec = my_new_results.tasks[\"compile_experiment\"].output\n",
    "plot_simulation(new_compiled_qubit_spec, length=50e-6)"
   ]
  },
  {
   "cell_type": "markdown",
   "metadata": {},
   "source": [
    "### Temporary settings\n",
    "\n",
    "The qubit parameters are used to control the settings of pulses and instruments during the experiment. We can run the qubit spectroscopy experiment with different settings by passing it a copy of the qubits with modified parameters. Below example modifies the reset_delay_length, spectroscopy_length, and spectroscopy_amplitude of the qubits."
   ]
  },
  {
   "cell_type": "code",
   "execution_count": null,
   "metadata": {
    "scrolled": true
   },
   "outputs": [],
   "source": [
    "# Make a copy of the qubits\n",
    "temp_qubits = my_platform.qpu.copy_qubits()\n",
    "# Change the reset delay length of the drive pulses\n",
    "temp_qubits[0].parameters.reset_delay_length = 10e-6\n",
    "temp_qubits[1].parameters.reset_delay_length = 10e-6\n",
    "temp_qubits[0].parameters.spectroscopy_length = 2e-6\n",
    "temp_qubits[1].parameters.spectroscopy_length = 2e-6\n",
    "temp_qubits[0].parameters.spectroscopy_amplitude = 0.5\n",
    "\n",
    "my_new_workflow = qubit_spectroscopy.experiment_workflow(\n",
    "    session=session,\n",
    "    qpu=my_platform.qpu,\n",
    "    qubits=[temp_qubits[0], temp_qubits[1]],  # pass temporary qubits\n",
    "    frequencies=[np.linspace(5.8e9, 6.2e9, 101), np.linspace(5.8e9, 6.2e9, 101)],\n",
    "    options=my_new_opts,\n",
    ")\n",
    "\n",
    "my_new_results = my_new_workflow.run()\n",
    "new_compiled_qubit_spec = my_new_results.tasks[\"compile_experiment\"].output\n",
    "plot_simulation(new_compiled_qubit_spec, length=50e-6)\n",
    "\n",
    "# revert the reset delay length of the drive pulses back to its default value of 1us\n",
    "temp_qubits[0].parameters.reset_delay_length = 1e-6\n",
    "temp_qubits[1].parameters.reset_delay_length = 1e-6\n",
    "temp_qubits[0].parameters.spectroscopy_length = 5e-6\n",
    "temp_qubits[1].parameters.spectroscopy_length = 5e-6\n",
    "temp_qubits[0].parameters.spectroscopy_amplitude = 1"
   ]
  },
  {
   "cell_type": "markdown",
   "metadata": {},
   "source": [
    "### Sweep the amplitude at the same time\n",
    "\n",
    "Getting back to our found parameters, we now repeat the workflow while sweeping the amplitude of the drive frequency at the same time. Since the analysis and the interface are different, a dedicated workflow is used, but the input only differs slightly. \n",
    "\n",
    "Since the amplitude is swept in the outer loop, while frequency is swpet in the inner loop, we set the frequency sweep to only 2 to have the amplitude modification visible in the OutputSimulator."
   ]
  },
  {
   "cell_type": "code",
   "execution_count": null,
   "metadata": {},
   "outputs": [],
   "source": [
    "my_workflow = qubit_spectroscopy_amplitude.experiment_workflow(\n",
    "    session=session,\n",
    "    qpu=my_platform.qpu,\n",
    "    qubits=[temp_qubits[0], temp_qubits[1]],  # pass temporary qubits\n",
    "    amplitudes = [np.linspace(0.1, 0.5, 2), np.linspace(0.1, 0.5, 2)],\n",
    "    frequencies=[np.linspace(5.8e9, 6.2e9, 2), np.linspace(5.8e9, 6.2e9, 2)],\n",
    ")\n",
    "\n",
    "my_results = my_workflow.run()\n",
    "compiled_qubit_spec = my_results.tasks[\"compile_experiment\"].output\n",
    "plot_simulation(compiled_qubit_spec, length=50e-6)"
   ]
  },
  {
   "cell_type": "markdown",
   "metadata": {},
   "source": [
    "Great! You've now run your Qubit Spectroscopy experiment. Check out these other experiments to keep characterizing your qubits:"
   ]
  },
  {
   "cell_type": "code",
   "execution_count": null,
   "metadata": {},
   "outputs": [],
   "source": [
    "# TODO: Add experiment links\n",
    "# TODO: Add Analysis"
   ]
  },
  {
   "cell_type": "code",
   "execution_count": null,
   "metadata": {},
   "outputs": [],
   "source": []
  }
 ],
 "metadata": {
  "kernelspec": {
   "display_name": "Python 3 (ipykernel)",
   "language": "python",
   "name": "python3"
  },
  "language_info": {
   "codemirror_mode": {
    "name": "ipython",
    "version": 3
   },
   "file_extension": ".py",
   "mimetype": "text/x-python",
   "name": "python",
   "nbconvert_exporter": "python",
   "pygments_lexer": "ipython3",
   "version": "3.12.4"
  }
 },
 "nbformat": 4,
 "nbformat_minor": 4
}
